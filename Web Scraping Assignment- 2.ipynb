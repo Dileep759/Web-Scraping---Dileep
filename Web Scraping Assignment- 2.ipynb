{
 "cells": [
  {
   "cell_type": "code",
   "execution_count": 3,
   "metadata": {},
   "outputs": [
    {
     "name": "stdout",
     "output_type": "stream",
     "text": [
      "Collecting selenium\n",
      "  Downloading selenium-3.141.0-py2.py3-none-any.whl (904 kB)\n",
      "Requirement already satisfied: urllib3 in c:\\users\\key\\anaconda3\\lib\\site-packages (from selenium) (1.25.9)\n",
      "Installing collected packages: selenium\n",
      "Successfully installed selenium-3.141.0\n"
     ]
    }
   ],
   "source": [
    "#installing seleniumlibrary\n",
    "! pip install selenium"
   ]
  },
  {
   "cell_type": "code",
   "execution_count": 5,
   "metadata": {},
   "outputs": [],
   "source": [
    "#importing required libraries\n",
    "import selenium\n",
    "import pandas as pd\n",
    "from selenium import webdriver"
   ]
  },
  {
   "cell_type": "code",
   "execution_count": 40,
   "metadata": {},
   "outputs": [],
   "source": [
    "#let's connect to the webdriver\n",
    "driver = webdriver.Chrome(\"C:/Users/key/AppData/Roaming/Microsoft/Windows/Start Menu/Programs/chromedriver_win32/chromedriver.exe\")"
   ]
  },
  {
   "cell_type": "raw",
   "metadata": {},
   "source": []
  },
  {
   "cell_type": "raw",
   "metadata": {},
   "source": [
    "Q1: Write a python program to scrape data for “Data Analyst” Job position in\n",
    "“Bangalore” location. You have to scrape the job-title, job-location, company_name,\n",
    "experience_required. You have to scrape first 10 jobs data."
   ]
  },
  {
   "cell_type": "raw",
   "metadata": {},
   "source": []
  },
  {
   "cell_type": "code",
   "execution_count": 41,
   "metadata": {},
   "outputs": [],
   "source": [
    "driver.get(' https://www.naukri.com/')"
   ]
  },
  {
   "cell_type": "code",
   "execution_count": 43,
   "metadata": {},
   "outputs": [],
   "source": [
    "#finding element for job search bar\n",
    "search_job=driver.find_element_by_id('qsb-keyword-sugg')\n",
    "search_job.send_keys('Data Analyst')\n",
    "search_loc=driver.find_element_by_xpath(\"//input[@id='qsb-location-sugg']\")\n",
    "search_loc.send_keys(\"Banglore\")"
   ]
  },
  {
   "cell_type": "code",
   "execution_count": 45,
   "metadata": {},
   "outputs": [],
   "source": [
    "search_btn=driver.find_element_by_xpath(\"//div[@class='search-btn']/button\")\n",
    "search_btn.click()"
   ]
  },
  {
   "cell_type": "code",
   "execution_count": 49,
   "metadata": {},
   "outputs": [],
   "source": [
    "#specifying the url of webpage to be scraped\n",
    "url=\"https://www.naukri.com/data-analyst-data-analyst-jobs-in-banglore?k=data%20analyst%2C%20data%20analyst&l=banglore\""
   ]
  },
  {
   "cell_type": "code",
   "execution_count": 50,
   "metadata": {},
   "outputs": [],
   "source": [
    "#let's open the webpage through our webdriver\n",
    "driver.get(url)"
   ]
  },
  {
   "cell_type": "raw",
   "metadata": {},
   "source": [
    "1.job-title 2.job-location 3.company_name 4.experience_required"
   ]
  },
  {
   "cell_type": "code",
   "execution_count": 51,
   "metadata": {},
   "outputs": [],
   "source": [
    "#creating the empty lists to which the final scraped data will be stored\n",
    "job_titles=[]\n",
    "company_names=[]\n",
    "locations_list=[]\n",
    "experience_list=[]"
   ]
  },
  {
   "cell_type": "code",
   "execution_count": 52,
   "metadata": {},
   "outputs": [
    {
     "data": {
      "text/plain": [
       "[<selenium.webdriver.remote.webelement.WebElement (session=\"603a50030e3ef5e89589f64749cc57c2\", element=\"d2ceb90e-3cc7-4946-a066-bd589e01bda0\")>,\n",
       " <selenium.webdriver.remote.webelement.WebElement (session=\"603a50030e3ef5e89589f64749cc57c2\", element=\"6749428d-8b9a-43e8-9943-89e4377e02e6\")>,\n",
       " <selenium.webdriver.remote.webelement.WebElement (session=\"603a50030e3ef5e89589f64749cc57c2\", element=\"2bfceb2e-b1db-434a-9199-d6acf6627660\")>,\n",
       " <selenium.webdriver.remote.webelement.WebElement (session=\"603a50030e3ef5e89589f64749cc57c2\", element=\"d49fee58-43e6-4f6f-8627-bb4446424450\")>,\n",
       " <selenium.webdriver.remote.webelement.WebElement (session=\"603a50030e3ef5e89589f64749cc57c2\", element=\"b2659ced-d159-4cef-bf8b-05e78b372fe9\")>,\n",
       " <selenium.webdriver.remote.webelement.WebElement (session=\"603a50030e3ef5e89589f64749cc57c2\", element=\"4e0775e3-9b12-4af0-a03b-24f999e2c813\")>,\n",
       " <selenium.webdriver.remote.webelement.WebElement (session=\"603a50030e3ef5e89589f64749cc57c2\", element=\"f999347c-ea7e-45c6-8ef8-fabbd088e8ed\")>,\n",
       " <selenium.webdriver.remote.webelement.WebElement (session=\"603a50030e3ef5e89589f64749cc57c2\", element=\"419b6328-4076-4710-a7f1-aec47d0b9b0d\")>,\n",
       " <selenium.webdriver.remote.webelement.WebElement (session=\"603a50030e3ef5e89589f64749cc57c2\", element=\"35d90026-9d33-4d63-90e2-00a7d484a97f\")>,\n",
       " <selenium.webdriver.remote.webelement.WebElement (session=\"603a50030e3ef5e89589f64749cc57c2\", element=\"161a55ac-ad77-42b1-85c0-0b38bea2a40e\")>]"
      ]
     },
     "execution_count": 52,
     "metadata": {},
     "output_type": "execute_result"
    }
   ],
   "source": [
    "#let's extract all the tags having the job titles\n",
    "title_tags=driver.find_elements_by_xpath(\"//a[@class='title fw500 ellipsis']\")\n",
    "title_tags[0:10]"
   ]
  },
  {
   "cell_type": "code",
   "execution_count": 53,
   "metadata": {},
   "outputs": [
    {
     "data": {
      "text/plain": [
       "['Assistant Manager - Data Analyst/Analytics',\n",
       " 'Data Analyst',\n",
       " 'Data Analyst (Gameplay)',\n",
       " 'Data Analyst',\n",
       " 'Data Analyst',\n",
       " 'Data Analyst',\n",
       " 'Looking For Rockstar Data Analyst @ Freshtohome (Series-C funded Comp)',\n",
       " 'Hiring Data Analysts on Contract',\n",
       " 'Senior Data Analyst']"
      ]
     },
     "execution_count": 53,
     "metadata": {},
     "output_type": "execute_result"
    }
   ],
   "source": [
    "#Now extract the text inside the tags using a for loop to iterate over all the tags\n",
    "for i in title_tags:\n",
    "    title=i.text\n",
    "    job_titles.append(title)\n",
    "job_titles[0:9]    "
   ]
  },
  {
   "cell_type": "code",
   "execution_count": 54,
   "metadata": {},
   "outputs": [
    {
     "data": {
      "text/plain": [
       "[<selenium.webdriver.remote.webelement.WebElement (session=\"603a50030e3ef5e89589f64749cc57c2\", element=\"0fb7801b-8d71-41b5-8d20-326f13f5f473\")>,\n",
       " <selenium.webdriver.remote.webelement.WebElement (session=\"603a50030e3ef5e89589f64749cc57c2\", element=\"d5689656-c12f-4433-be0f-878d212a88cb\")>,\n",
       " <selenium.webdriver.remote.webelement.WebElement (session=\"603a50030e3ef5e89589f64749cc57c2\", element=\"a353b5ed-edab-4093-a3dd-1f5ee547c169\")>,\n",
       " <selenium.webdriver.remote.webelement.WebElement (session=\"603a50030e3ef5e89589f64749cc57c2\", element=\"bfee196a-fef6-48cc-8151-486e6d0462c6\")>,\n",
       " <selenium.webdriver.remote.webelement.WebElement (session=\"603a50030e3ef5e89589f64749cc57c2\", element=\"3577857a-8b30-4ae0-b31a-9a52f1305736\")>,\n",
       " <selenium.webdriver.remote.webelement.WebElement (session=\"603a50030e3ef5e89589f64749cc57c2\", element=\"38732633-53ff-40c6-8e46-48990a16786e\")>,\n",
       " <selenium.webdriver.remote.webelement.WebElement (session=\"603a50030e3ef5e89589f64749cc57c2\", element=\"aa6827bb-d238-4e74-8dc3-713923a55db2\")>,\n",
       " <selenium.webdriver.remote.webelement.WebElement (session=\"603a50030e3ef5e89589f64749cc57c2\", element=\"9c7890fe-23d5-4f47-997d-13befec12e2c\")>,\n",
       " <selenium.webdriver.remote.webelement.WebElement (session=\"603a50030e3ef5e89589f64749cc57c2\", element=\"ab6fdba8-77e4-4a20-8a44-043b7d40f2e2\")>]"
      ]
     },
     "execution_count": 54,
     "metadata": {},
     "output_type": "execute_result"
    }
   ],
   "source": [
    "#let's extract all the tags having the company names\n",
    "companies_tags=driver.find_elements_by_xpath(\"//a[@class='subTitle ellipsis fleft']\")\n",
    "companies_tags[0:9]"
   ]
  },
  {
   "cell_type": "code",
   "execution_count": 55,
   "metadata": {},
   "outputs": [
    {
     "data": {
      "text/plain": [
       "['Hexaconcepts',\n",
       " 'Liventus, Inc.',\n",
       " 'Kwalee ltd.',\n",
       " 'Kwalee ltd.',\n",
       " 'Shell India Markets Private Limited',\n",
       " 'Reliance Jio Infocomm Ltd.',\n",
       " 'Freshtohome Foods Private Limited',\n",
       " 'Flipkart Internet Private Limited',\n",
       " 'Schneider Electric']"
      ]
     },
     "execution_count": 55,
     "metadata": {},
     "output_type": "execute_result"
    }
   ],
   "source": [
    "#Now extract the text inside the tags using a for loop to iterate over all the tags\n",
    "for i in companies_tags:\n",
    "    company_name=i.text\n",
    "    company_names.append(company_name)\n",
    "company_names[0:9]"
   ]
  },
  {
   "cell_type": "code",
   "execution_count": 56,
   "metadata": {},
   "outputs": [
    {
     "data": {
      "text/plain": [
       "[<selenium.webdriver.remote.webelement.WebElement (session=\"603a50030e3ef5e89589f64749cc57c2\", element=\"48b9b851-94c8-4b71-865c-db4276ad4781\")>,\n",
       " <selenium.webdriver.remote.webelement.WebElement (session=\"603a50030e3ef5e89589f64749cc57c2\", element=\"590bc98c-4284-4322-bd4f-7d6cc3b415ac\")>,\n",
       " <selenium.webdriver.remote.webelement.WebElement (session=\"603a50030e3ef5e89589f64749cc57c2\", element=\"311e1a87-1ed9-488b-8887-c957672c3e70\")>,\n",
       " <selenium.webdriver.remote.webelement.WebElement (session=\"603a50030e3ef5e89589f64749cc57c2\", element=\"52b8ecff-5089-46a5-8309-1961a70a04cc\")>,\n",
       " <selenium.webdriver.remote.webelement.WebElement (session=\"603a50030e3ef5e89589f64749cc57c2\", element=\"a4a36b18-6688-4952-968c-06799fb48226\")>,\n",
       " <selenium.webdriver.remote.webelement.WebElement (session=\"603a50030e3ef5e89589f64749cc57c2\", element=\"06506266-fdd0-4e87-889f-a8fd0e4efe5f\")>,\n",
       " <selenium.webdriver.remote.webelement.WebElement (session=\"603a50030e3ef5e89589f64749cc57c2\", element=\"ea0afdd9-deaf-43d3-af78-ef50c3347f32\")>,\n",
       " <selenium.webdriver.remote.webelement.WebElement (session=\"603a50030e3ef5e89589f64749cc57c2\", element=\"faa0b298-a8bc-426a-8ac9-2b8e814a2558\")>,\n",
       " <selenium.webdriver.remote.webelement.WebElement (session=\"603a50030e3ef5e89589f64749cc57c2\", element=\"b78cf740-067c-479c-a42f-d624bca3cb3a\")>]"
      ]
     },
     "execution_count": 56,
     "metadata": {},
     "output_type": "execute_result"
    }
   ],
   "source": [
    "#Now we will extract all the html tags having the experience required\n",
    "experience_tags=driver.find_elements_by_xpath(\"//li[@class='fleft grey-text br2 placeHolderLi experience']/span[1]\")\n",
    "experience_tags[0:9]"
   ]
  },
  {
   "cell_type": "code",
   "execution_count": 57,
   "metadata": {},
   "outputs": [
    {
     "data": {
      "text/plain": [
       "['4-7 Yrs',\n",
       " '3-6 Yrs',\n",
       " '2-7 Yrs',\n",
       " '2-7 Yrs',\n",
       " '5-8 Yrs',\n",
       " '8-9 Yrs',\n",
       " '2-5 Yrs',\n",
       " '2-5 Yrs',\n",
       " '2-5 Yrs']"
      ]
     },
     "execution_count": 57,
     "metadata": {},
     "output_type": "execute_result"
    }
   ],
   "source": [
    "#let's extract the text inside the tags using a for loop to iterate over all the tags\n",
    "for i in experience_tags:\n",
    "    experience=i.text\n",
    "    experience_list.append(experience)\n",
    "experience_list[0:9]"
   ]
  },
  {
   "cell_type": "code",
   "execution_count": 59,
   "metadata": {},
   "outputs": [
    {
     "data": {
      "text/plain": [
       "[<selenium.webdriver.remote.webelement.WebElement (session=\"603a50030e3ef5e89589f64749cc57c2\", element=\"b1bfc1c9-798c-4f09-904a-1c4e2f85644a\")>,\n",
       " <selenium.webdriver.remote.webelement.WebElement (session=\"603a50030e3ef5e89589f64749cc57c2\", element=\"fce09edf-278d-4a13-a235-b1b2e785e063\")>,\n",
       " <selenium.webdriver.remote.webelement.WebElement (session=\"603a50030e3ef5e89589f64749cc57c2\", element=\"452564a5-e783-4d01-b5db-ed89d37a42f5\")>,\n",
       " <selenium.webdriver.remote.webelement.WebElement (session=\"603a50030e3ef5e89589f64749cc57c2\", element=\"b9622ab4-b249-4dd1-bc44-979b33b14eaa\")>,\n",
       " <selenium.webdriver.remote.webelement.WebElement (session=\"603a50030e3ef5e89589f64749cc57c2\", element=\"ea478e9e-fe09-4cbf-bbd9-6f8bfe851daf\")>,\n",
       " <selenium.webdriver.remote.webelement.WebElement (session=\"603a50030e3ef5e89589f64749cc57c2\", element=\"b61c76d2-b29c-4f42-899c-627c72289cee\")>,\n",
       " <selenium.webdriver.remote.webelement.WebElement (session=\"603a50030e3ef5e89589f64749cc57c2\", element=\"22355c1c-7d68-447a-9e2a-13c867ac13c8\")>,\n",
       " <selenium.webdriver.remote.webelement.WebElement (session=\"603a50030e3ef5e89589f64749cc57c2\", element=\"ae73edb8-5bc4-43fa-9032-f44c6d7d0c97\")>,\n",
       " <selenium.webdriver.remote.webelement.WebElement (session=\"603a50030e3ef5e89589f64749cc57c2\", element=\"1b587d3e-663f-4f71-b000-cc9c7f517f3c\")>]"
      ]
     },
     "execution_count": 59,
     "metadata": {},
     "output_type": "execute_result"
    }
   ],
   "source": [
    "#Let's extract all the html tags having the experience required\n",
    "locations_tags=driver.find_elements_by_xpath(\"//li[@class='fleft grey-text br2 placeHolderLi location']/span[1]\")\n",
    "locations_tags[0:9]"
   ]
  },
  {
   "cell_type": "code",
   "execution_count": 60,
   "metadata": {},
   "outputs": [
    {
     "data": {
      "text/plain": [
       "['Bengaluru',\n",
       " 'Bengaluru(2nd Phase JP Nagar)',\n",
       " 'Bengaluru',\n",
       " 'Bengaluru',\n",
       " 'Bengaluru',\n",
       " 'Bengaluru',\n",
       " 'Bengaluru',\n",
       " 'Bengaluru',\n",
       " 'Bengaluru / Bangalore']"
      ]
     },
     "execution_count": 60,
     "metadata": {},
     "output_type": "execute_result"
    }
   ],
   "source": [
    "#now extract the text inside the tags using a for loop to iterate over all the tags\n",
    "for i in locations_tags:\n",
    "    locations=i.text\n",
    "    locations_list.append(locations)\n",
    "locations_list[0:9]"
   ]
  },
  {
   "cell_type": "raw",
   "metadata": {},
   "source": [
    "So, now we have extracted the data required from the webpage and stored them in the 4 lists mentioned above. Now before craeting a dataframe from these lists, let's first check the length of each of the list. Because if the length of all of the lists are not equal, then a dataframe cannot be formed. "
   ]
  },
  {
   "cell_type": "code",
   "execution_count": 61,
   "metadata": {},
   "outputs": [
    {
     "name": "stdout",
     "output_type": "stream",
     "text": [
      "20 20 20 20\n"
     ]
    }
   ],
   "source": [
    "print(len(job_titles),len(company_names),len(experience_list),len(locations_list))"
   ]
  },
  {
   "cell_type": "code",
   "execution_count": 62,
   "metadata": {},
   "outputs": [],
   "source": [
    "jobs=pd.DataFrame({})\n",
    "jobs['job_title']=job_titles\n",
    "jobs['company_name']=company_names\n",
    "jobs['experience_required']=experience_list\n",
    "jobs['job_location']=locations_list"
   ]
  },
  {
   "cell_type": "code",
   "execution_count": 63,
   "metadata": {},
   "outputs": [
    {
     "data": {
      "text/html": [
       "<div>\n",
       "<style scoped>\n",
       "    .dataframe tbody tr th:only-of-type {\n",
       "        vertical-align: middle;\n",
       "    }\n",
       "\n",
       "    .dataframe tbody tr th {\n",
       "        vertical-align: top;\n",
       "    }\n",
       "\n",
       "    .dataframe thead th {\n",
       "        text-align: right;\n",
       "    }\n",
       "</style>\n",
       "<table border=\"1\" class=\"dataframe\">\n",
       "  <thead>\n",
       "    <tr style=\"text-align: right;\">\n",
       "      <th></th>\n",
       "      <th>job_title</th>\n",
       "      <th>company_name</th>\n",
       "      <th>experience_required</th>\n",
       "      <th>job_location</th>\n",
       "    </tr>\n",
       "  </thead>\n",
       "  <tbody>\n",
       "    <tr>\n",
       "      <th>0</th>\n",
       "      <td>Assistant Manager - Data Analyst/Analytics</td>\n",
       "      <td>Hexaconcepts</td>\n",
       "      <td>4-7 Yrs</td>\n",
       "      <td>Bengaluru</td>\n",
       "    </tr>\n",
       "    <tr>\n",
       "      <th>1</th>\n",
       "      <td>Data Analyst</td>\n",
       "      <td>Liventus, Inc.</td>\n",
       "      <td>3-6 Yrs</td>\n",
       "      <td>Bengaluru(2nd Phase JP Nagar)</td>\n",
       "    </tr>\n",
       "    <tr>\n",
       "      <th>2</th>\n",
       "      <td>Data Analyst (Gameplay)</td>\n",
       "      <td>Kwalee ltd.</td>\n",
       "      <td>2-7 Yrs</td>\n",
       "      <td>Bengaluru</td>\n",
       "    </tr>\n",
       "    <tr>\n",
       "      <th>3</th>\n",
       "      <td>Data Analyst</td>\n",
       "      <td>Kwalee ltd.</td>\n",
       "      <td>2-7 Yrs</td>\n",
       "      <td>Bengaluru</td>\n",
       "    </tr>\n",
       "    <tr>\n",
       "      <th>4</th>\n",
       "      <td>Data Analyst</td>\n",
       "      <td>Shell India Markets Private Limited</td>\n",
       "      <td>5-8 Yrs</td>\n",
       "      <td>Bengaluru</td>\n",
       "    </tr>\n",
       "    <tr>\n",
       "      <th>5</th>\n",
       "      <td>Data Analyst</td>\n",
       "      <td>Reliance Jio Infocomm Ltd.</td>\n",
       "      <td>8-9 Yrs</td>\n",
       "      <td>Bengaluru</td>\n",
       "    </tr>\n",
       "    <tr>\n",
       "      <th>6</th>\n",
       "      <td>Looking For Rockstar Data Analyst @ Freshtohom...</td>\n",
       "      <td>Freshtohome Foods Private Limited</td>\n",
       "      <td>2-5 Yrs</td>\n",
       "      <td>Bengaluru</td>\n",
       "    </tr>\n",
       "    <tr>\n",
       "      <th>7</th>\n",
       "      <td>Hiring Data Analysts on Contract</td>\n",
       "      <td>Flipkart Internet Private Limited</td>\n",
       "      <td>2-5 Yrs</td>\n",
       "      <td>Bengaluru</td>\n",
       "    </tr>\n",
       "    <tr>\n",
       "      <th>8</th>\n",
       "      <td>Senior Data Analyst</td>\n",
       "      <td>Schneider Electric</td>\n",
       "      <td>2-5 Yrs</td>\n",
       "      <td>Bengaluru / Bangalore</td>\n",
       "    </tr>\n",
       "    <tr>\n",
       "      <th>9</th>\n",
       "      <td>Data Analyst</td>\n",
       "      <td>AceNet</td>\n",
       "      <td>6-8 Yrs</td>\n",
       "      <td>Chennai, Bengaluru</td>\n",
       "    </tr>\n",
       "    <tr>\n",
       "      <th>10</th>\n",
       "      <td>Data Analyst - O2C - Bangalore</td>\n",
       "      <td>RANDSTAD INDIA PVT LTD</td>\n",
       "      <td>2-4 Yrs</td>\n",
       "      <td>Bengaluru</td>\n",
       "    </tr>\n",
       "    <tr>\n",
       "      <th>11</th>\n",
       "      <td>Security Data Analyst</td>\n",
       "      <td>Philips India Limited</td>\n",
       "      <td>2-4 Yrs</td>\n",
       "      <td>Bengaluru</td>\n",
       "    </tr>\n",
       "    <tr>\n",
       "      <th>12</th>\n",
       "      <td>Quantum Analyst - Data Processing</td>\n",
       "      <td>M-PANELS RESEARCH SERVICES PRIVATE LIMITED</td>\n",
       "      <td>5-7 Yrs</td>\n",
       "      <td>Bengaluru(Lavelle Road)</td>\n",
       "    </tr>\n",
       "    <tr>\n",
       "      <th>13</th>\n",
       "      <td>Data Modeler Analyst</td>\n",
       "      <td>PPN Solutions Pvt Ltd.</td>\n",
       "      <td>6-8 Yrs</td>\n",
       "      <td>Bengaluru, Hyderabad</td>\n",
       "    </tr>\n",
       "    <tr>\n",
       "      <th>14</th>\n",
       "      <td>Senior Data Management Analyst</td>\n",
       "      <td>FireEye CyberSecurity Pvt Ltd</td>\n",
       "      <td>4-6 Yrs</td>\n",
       "      <td>Bengaluru</td>\n",
       "    </tr>\n",
       "    <tr>\n",
       "      <th>15</th>\n",
       "      <td>Data Business Analyst</td>\n",
       "      <td>Mindtree Limited</td>\n",
       "      <td>10-15 Yrs</td>\n",
       "      <td>Bengaluru</td>\n",
       "    </tr>\n",
       "    <tr>\n",
       "      <th>16</th>\n",
       "      <td>Job Openings For Data Management Analyst| Cont...</td>\n",
       "      <td>Teamlease Servcies limited</td>\n",
       "      <td>0-3 Yrs</td>\n",
       "      <td>Bengaluru</td>\n",
       "    </tr>\n",
       "    <tr>\n",
       "      <th>17</th>\n",
       "      <td>Business Data Analyst - Data Structure &amp; Quality</td>\n",
       "      <td>Catalyst</td>\n",
       "      <td>2-5 Yrs</td>\n",
       "      <td>Bengaluru</td>\n",
       "    </tr>\n",
       "    <tr>\n",
       "      <th>18</th>\n",
       "      <td>Urgently hiring Data Analyst For leading IB, B...</td>\n",
       "      <td>Think People Solutions Private Ltd</td>\n",
       "      <td>5-10 Yrs</td>\n",
       "      <td>Bengaluru</td>\n",
       "    </tr>\n",
       "    <tr>\n",
       "      <th>19</th>\n",
       "      <td>Project Manager/ Business Analyst - Data Model...</td>\n",
       "      <td>TalentCo Search Pvt Ltd</td>\n",
       "      <td>5-10 Yrs</td>\n",
       "      <td>Bengaluru</td>\n",
       "    </tr>\n",
       "  </tbody>\n",
       "</table>\n",
       "</div>"
      ],
      "text/plain": [
       "                                            job_title  \\\n",
       "0          Assistant Manager - Data Analyst/Analytics   \n",
       "1                                        Data Analyst   \n",
       "2                             Data Analyst (Gameplay)   \n",
       "3                                        Data Analyst   \n",
       "4                                        Data Analyst   \n",
       "5                                        Data Analyst   \n",
       "6   Looking For Rockstar Data Analyst @ Freshtohom...   \n",
       "7                    Hiring Data Analysts on Contract   \n",
       "8                                 Senior Data Analyst   \n",
       "9                                        Data Analyst   \n",
       "10                     Data Analyst - O2C - Bangalore   \n",
       "11                              Security Data Analyst   \n",
       "12                  Quantum Analyst - Data Processing   \n",
       "13                               Data Modeler Analyst   \n",
       "14                     Senior Data Management Analyst   \n",
       "15                              Data Business Analyst   \n",
       "16  Job Openings For Data Management Analyst| Cont...   \n",
       "17   Business Data Analyst - Data Structure & Quality   \n",
       "18  Urgently hiring Data Analyst For leading IB, B...   \n",
       "19  Project Manager/ Business Analyst - Data Model...   \n",
       "\n",
       "                                  company_name experience_required  \\\n",
       "0                                 Hexaconcepts             4-7 Yrs   \n",
       "1                               Liventus, Inc.             3-6 Yrs   \n",
       "2                                  Kwalee ltd.             2-7 Yrs   \n",
       "3                                  Kwalee ltd.             2-7 Yrs   \n",
       "4          Shell India Markets Private Limited             5-8 Yrs   \n",
       "5                   Reliance Jio Infocomm Ltd.             8-9 Yrs   \n",
       "6            Freshtohome Foods Private Limited             2-5 Yrs   \n",
       "7            Flipkart Internet Private Limited             2-5 Yrs   \n",
       "8                           Schneider Electric             2-5 Yrs   \n",
       "9                                       AceNet             6-8 Yrs   \n",
       "10                      RANDSTAD INDIA PVT LTD             2-4 Yrs   \n",
       "11                       Philips India Limited             2-4 Yrs   \n",
       "12  M-PANELS RESEARCH SERVICES PRIVATE LIMITED             5-7 Yrs   \n",
       "13                      PPN Solutions Pvt Ltd.             6-8 Yrs   \n",
       "14               FireEye CyberSecurity Pvt Ltd             4-6 Yrs   \n",
       "15                            Mindtree Limited           10-15 Yrs   \n",
       "16                  Teamlease Servcies limited             0-3 Yrs   \n",
       "17                                    Catalyst             2-5 Yrs   \n",
       "18          Think People Solutions Private Ltd            5-10 Yrs   \n",
       "19                     TalentCo Search Pvt Ltd            5-10 Yrs   \n",
       "\n",
       "                     job_location  \n",
       "0                       Bengaluru  \n",
       "1   Bengaluru(2nd Phase JP Nagar)  \n",
       "2                       Bengaluru  \n",
       "3                       Bengaluru  \n",
       "4                       Bengaluru  \n",
       "5                       Bengaluru  \n",
       "6                       Bengaluru  \n",
       "7                       Bengaluru  \n",
       "8           Bengaluru / Bangalore  \n",
       "9              Chennai, Bengaluru  \n",
       "10                      Bengaluru  \n",
       "11                      Bengaluru  \n",
       "12        Bengaluru(Lavelle Road)  \n",
       "13           Bengaluru, Hyderabad  \n",
       "14                      Bengaluru  \n",
       "15                      Bengaluru  \n",
       "16                      Bengaluru  \n",
       "17                      Bengaluru  \n",
       "18                      Bengaluru  \n",
       "19                      Bengaluru  "
      ]
     },
     "execution_count": 63,
     "metadata": {},
     "output_type": "execute_result"
    }
   ],
   "source": [
    "jobs"
   ]
  },
  {
   "cell_type": "raw",
   "metadata": {},
   "source": []
  },
  {
   "cell_type": "raw",
   "metadata": {},
   "source": [
    "Q2: Write a python program to scrape data for “Data Scientist” Job position in\n",
    "“Bangalore” location. You have to scrape the job-title, job-location,\n",
    "company_name, full job-description. You have to scrape first 10 jobs data."
   ]
  },
  {
   "cell_type": "raw",
   "metadata": {},
   "source": []
  },
  {
   "cell_type": "code",
   "execution_count": 521,
   "metadata": {},
   "outputs": [],
   "source": [
    "#importing required libraries\n",
    "import selenium\n",
    "import pandas as pd\n",
    "from selenium import webdriver"
   ]
  },
  {
   "cell_type": "code",
   "execution_count": 522,
   "metadata": {},
   "outputs": [],
   "source": [
    "#let's connect to the webdriver\n",
    "driver = webdriver.Chrome(\"C:/Users/key/AppData/Roaming/Microsoft/Windows/Start Menu/Programs/chromedriver_win32/chromedriver.exe\")"
   ]
  },
  {
   "cell_type": "code",
   "execution_count": 523,
   "metadata": {},
   "outputs": [],
   "source": [
    "driver.get(' https://www.naukri.com/')"
   ]
  },
  {
   "cell_type": "code",
   "execution_count": 524,
   "metadata": {},
   "outputs": [],
   "source": [
    "#finding element for job search bar\n",
    "search_job=driver.find_element_by_id('qsb-keyword-sugg')\n",
    "search_job.send_keys('Data Scientist')\n",
    "search_loc=driver.find_element_by_xpath(\"//input[@id='qsb-location-sugg']\")\n",
    "search_loc.send_keys(\"Banglore\")"
   ]
  },
  {
   "cell_type": "code",
   "execution_count": 525,
   "metadata": {},
   "outputs": [],
   "source": [
    "search_btn=driver.find_element_by_xpath(\"//div[@class='search-btn']/button\")\n",
    "search_btn.click()"
   ]
  },
  {
   "cell_type": "code",
   "execution_count": 526,
   "metadata": {},
   "outputs": [],
   "source": [
    "#specifying the url of webpage to be scraped\n",
    "url=\"https://www.naukri.com/data-scientist-jobs-in-banglore?k=data%20scientist&l=banglore\""
   ]
  },
  {
   "cell_type": "code",
   "execution_count": 527,
   "metadata": {},
   "outputs": [],
   "source": [
    "#let's open the webpage through our webdriver\n",
    "driver.get(url)"
   ]
  },
  {
   "cell_type": "raw",
   "metadata": {},
   "source": [
    "1.job-title 2.job-location 3.company_name 4.job_description"
   ]
  },
  {
   "cell_type": "code",
   "execution_count": 528,
   "metadata": {},
   "outputs": [],
   "source": [
    "#creating the empty lists to which the final scraped data will be stored\n",
    "job_titles=[]\n",
    "company_names=[]\n",
    "locations_list=[]\n",
    "job_description_list=[]"
   ]
  },
  {
   "cell_type": "code",
   "execution_count": 529,
   "metadata": {},
   "outputs": [
    {
     "data": {
      "text/plain": [
       "[<selenium.webdriver.remote.webelement.WebElement (session=\"ef51bf6c3bd32c9b8be2281cab0eed83\", element=\"90b3f250-7d18-4a1b-b2bf-83f1c2e54ee2\")>,\n",
       " <selenium.webdriver.remote.webelement.WebElement (session=\"ef51bf6c3bd32c9b8be2281cab0eed83\", element=\"8e26a084-adf6-44a9-bee9-1c917c39999e\")>,\n",
       " <selenium.webdriver.remote.webelement.WebElement (session=\"ef51bf6c3bd32c9b8be2281cab0eed83\", element=\"8744167b-c1cc-4dce-b98f-8500aa2bb65b\")>,\n",
       " <selenium.webdriver.remote.webelement.WebElement (session=\"ef51bf6c3bd32c9b8be2281cab0eed83\", element=\"9503c36e-7ddd-44a9-9bd3-9395c8973aa8\")>,\n",
       " <selenium.webdriver.remote.webelement.WebElement (session=\"ef51bf6c3bd32c9b8be2281cab0eed83\", element=\"4ff1191e-ce66-464f-9e1b-cc5076fffdd4\")>,\n",
       " <selenium.webdriver.remote.webelement.WebElement (session=\"ef51bf6c3bd32c9b8be2281cab0eed83\", element=\"7804999c-c572-427b-a80c-e17aa3aa0a89\")>,\n",
       " <selenium.webdriver.remote.webelement.WebElement (session=\"ef51bf6c3bd32c9b8be2281cab0eed83\", element=\"afeb13fd-1366-424a-8640-8baee91a3ca6\")>,\n",
       " <selenium.webdriver.remote.webelement.WebElement (session=\"ef51bf6c3bd32c9b8be2281cab0eed83\", element=\"00281c18-5609-4708-9f4b-1794390b769d\")>,\n",
       " <selenium.webdriver.remote.webelement.WebElement (session=\"ef51bf6c3bd32c9b8be2281cab0eed83\", element=\"68e745c9-711b-43a1-998c-66505342ef01\")>,\n",
       " <selenium.webdriver.remote.webelement.WebElement (session=\"ef51bf6c3bd32c9b8be2281cab0eed83\", element=\"9b8a773c-bd1e-48c9-87d1-f958a60175af\")>]"
      ]
     },
     "execution_count": 529,
     "metadata": {},
     "output_type": "execute_result"
    }
   ],
   "source": [
    "#let's extract all the tags having the job titles\n",
    "title_tags=driver.find_elements_by_xpath(\"//a[@class='title fw500 ellipsis']\")\n",
    "title_tags[0:10]"
   ]
  },
  {
   "cell_type": "code",
   "execution_count": 533,
   "metadata": {},
   "outputs": [
    {
     "data": {
      "text/plain": [
       "['Data Scientist/Data Analyst-immediate',\n",
       " 'Data Scientist - Python/ MATLAB/ Machine Learning Algorithms',\n",
       " 'Lead Data Scientist - Machine Learning/ Data Mining',\n",
       " 'Data Scientist - Machine Learning (Commerce BU)',\n",
       " 'Opening For Sr. Data Scientist @ Tech Mahindra',\n",
       " 'Opening For Sr. Data Scientist @ Tech Mahindra',\n",
       " 'Senior Data Scientist - NLP/ Python/ R',\n",
       " 'Senior Data Scientist | CES IT LTD | CMMI Level 5',\n",
       " 'Data Scientist- Manager/Sr. Manager',\n",
       " 'Sr Data Scientist']"
      ]
     },
     "execution_count": 533,
     "metadata": {},
     "output_type": "execute_result"
    }
   ],
   "source": [
    "#Now extract the text inside the tags using a for loop to iterate over all the tags\n",
    "for i in title_tags:\n",
    "    title=i.text\n",
    "    job_titles.append(title)\n",
    "job_titles[0:10] "
   ]
  },
  {
   "cell_type": "code",
   "execution_count": 534,
   "metadata": {},
   "outputs": [
    {
     "data": {
      "text/plain": [
       "[<selenium.webdriver.remote.webelement.WebElement (session=\"ef51bf6c3bd32c9b8be2281cab0eed83\", element=\"92fdc16f-8d83-4b0b-ad7a-d41bb4461fca\")>,\n",
       " <selenium.webdriver.remote.webelement.WebElement (session=\"ef51bf6c3bd32c9b8be2281cab0eed83\", element=\"3185d5b8-2d85-4669-a321-1e4588852222\")>,\n",
       " <selenium.webdriver.remote.webelement.WebElement (session=\"ef51bf6c3bd32c9b8be2281cab0eed83\", element=\"cc35317e-456d-4640-be0d-c77d721e9c8c\")>,\n",
       " <selenium.webdriver.remote.webelement.WebElement (session=\"ef51bf6c3bd32c9b8be2281cab0eed83\", element=\"cfc31a11-d1a1-4cfb-bad3-32640c944011\")>,\n",
       " <selenium.webdriver.remote.webelement.WebElement (session=\"ef51bf6c3bd32c9b8be2281cab0eed83\", element=\"44fddafd-9ea5-4d65-a407-8dac91e8c82c\")>,\n",
       " <selenium.webdriver.remote.webelement.WebElement (session=\"ef51bf6c3bd32c9b8be2281cab0eed83\", element=\"b17cdad2-9c61-4ee2-bfb8-f0ae4a304405\")>,\n",
       " <selenium.webdriver.remote.webelement.WebElement (session=\"ef51bf6c3bd32c9b8be2281cab0eed83\", element=\"3d0f4b75-4d33-43b3-a7da-d443182219d6\")>,\n",
       " <selenium.webdriver.remote.webelement.WebElement (session=\"ef51bf6c3bd32c9b8be2281cab0eed83\", element=\"3d400c27-7339-4f4d-bcbe-2f1aa24ae2f4\")>,\n",
       " <selenium.webdriver.remote.webelement.WebElement (session=\"ef51bf6c3bd32c9b8be2281cab0eed83\", element=\"8eaca753-b8f4-4e85-93dd-bf92af156413\")>,\n",
       " <selenium.webdriver.remote.webelement.WebElement (session=\"ef51bf6c3bd32c9b8be2281cab0eed83\", element=\"0a69cef1-6c5f-4b05-a839-3e567613e7f9\")>]"
      ]
     },
     "execution_count": 534,
     "metadata": {},
     "output_type": "execute_result"
    }
   ],
   "source": [
    "#let's extract all the tags having the company names\n",
    "companies_tags=driver.find_elements_by_xpath(\"//a[@class='subTitle ellipsis fleft']\")\n",
    "companies_tags[0:10]"
   ]
  },
  {
   "cell_type": "code",
   "execution_count": 536,
   "metadata": {},
   "outputs": [
    {
     "data": {
      "text/plain": [
       "['Inflexion Analytix Private Limited',\n",
       " 'Wrackle Technologies Pvt Ltd',\n",
       " 'Wrackle Technologies Pvt Ltd',\n",
       " 'BLUE YONDER INDIA PRIVATE LIMITED',\n",
       " 'Tech Mahindra Ltd.',\n",
       " 'Tech Mahindra Ltd.',\n",
       " 'AVI Consulting LLP',\n",
       " 'CES Ltd.',\n",
       " 'GENPACT India Private Limited',\n",
       " 'Concentrix Daksh Services India Private Limited.']"
      ]
     },
     "execution_count": 536,
     "metadata": {},
     "output_type": "execute_result"
    }
   ],
   "source": [
    "#Now extract the text inside the tags using a for loop to iterate over all the tags\n",
    "for i in companies_tags:\n",
    "    company_name=i.text\n",
    "    company_names.append(company_name)\n",
    "company_names[0:10]"
   ]
  },
  {
   "cell_type": "code",
   "execution_count": 537,
   "metadata": {},
   "outputs": [
    {
     "data": {
      "text/plain": [
       "[<selenium.webdriver.remote.webelement.WebElement (session=\"ef51bf6c3bd32c9b8be2281cab0eed83\", element=\"ee62e788-44b7-404e-8467-d65de743d089\")>,\n",
       " <selenium.webdriver.remote.webelement.WebElement (session=\"ef51bf6c3bd32c9b8be2281cab0eed83\", element=\"cc025f1e-47f0-49a9-bfbf-9c2608db111f\")>,\n",
       " <selenium.webdriver.remote.webelement.WebElement (session=\"ef51bf6c3bd32c9b8be2281cab0eed83\", element=\"2b6c23a9-2f2c-43ca-9c78-071017f4448f\")>,\n",
       " <selenium.webdriver.remote.webelement.WebElement (session=\"ef51bf6c3bd32c9b8be2281cab0eed83\", element=\"f704314c-94a2-46d4-a137-0c3920cabde8\")>,\n",
       " <selenium.webdriver.remote.webelement.WebElement (session=\"ef51bf6c3bd32c9b8be2281cab0eed83\", element=\"36e7aa46-583e-4ea0-b2cc-9c58f0ee8c69\")>,\n",
       " <selenium.webdriver.remote.webelement.WebElement (session=\"ef51bf6c3bd32c9b8be2281cab0eed83\", element=\"4d7d1c5f-6261-457a-82b0-512f0e34a3bd\")>,\n",
       " <selenium.webdriver.remote.webelement.WebElement (session=\"ef51bf6c3bd32c9b8be2281cab0eed83\", element=\"2fb8b37e-e7a6-4c74-93e5-8583b2f81b95\")>,\n",
       " <selenium.webdriver.remote.webelement.WebElement (session=\"ef51bf6c3bd32c9b8be2281cab0eed83\", element=\"e8a6af77-16e0-46de-8da6-1ccb0adfd9e5\")>,\n",
       " <selenium.webdriver.remote.webelement.WebElement (session=\"ef51bf6c3bd32c9b8be2281cab0eed83\", element=\"4ed6de6f-3367-4bdd-af32-3b06a1c63af4\")>,\n",
       " <selenium.webdriver.remote.webelement.WebElement (session=\"ef51bf6c3bd32c9b8be2281cab0eed83\", element=\"d482784d-73ca-4cf5-9238-45e3231235d3\")>]"
      ]
     },
     "execution_count": 537,
     "metadata": {},
     "output_type": "execute_result"
    }
   ],
   "source": [
    "#Let's extract all the html tags having the experience required\n",
    "locations_tags=driver.find_elements_by_xpath(\"//li[@class='fleft grey-text br2 placeHolderLi location']/span[1]\")\n",
    "locations_tags[0:10]"
   ]
  },
  {
   "cell_type": "code",
   "execution_count": 538,
   "metadata": {},
   "outputs": [
    {
     "data": {
      "text/plain": [
       "['Chennai, Pune, Bengaluru, Hyderabad',\n",
       " 'Bengaluru',\n",
       " 'Bengaluru',\n",
       " 'Bengaluru',\n",
       " 'Pune, Bengaluru',\n",
       " 'Pune, Bengaluru',\n",
       " 'Bengaluru, Hyderabad',\n",
       " 'Chennai, Pune, Delhi NCR, Mumbai, Bengaluru, Hyderabad, Kolkata',\n",
       " 'Bengaluru',\n",
       " 'Pune, Mumbai, Bengaluru, Gurgaon, Kolkata']"
      ]
     },
     "execution_count": 538,
     "metadata": {},
     "output_type": "execute_result"
    }
   ],
   "source": [
    "#now extract the text inside the tags using a for loop to iterate over all the tags\n",
    "for i in locations_tags:\n",
    "    locations=i.text\n",
    "    locations_list.append(locations)\n",
    "locations_list[0:10]"
   ]
  },
  {
   "cell_type": "code",
   "execution_count": 560,
   "metadata": {},
   "outputs": [
    {
     "data": {
      "text/plain": [
       "[<selenium.webdriver.remote.webelement.WebElement (session=\"ef51bf6c3bd32c9b8be2281cab0eed83\", element=\"2ad0bfaa-1650-4fe5-90f0-dce09c449149\")>,\n",
       " <selenium.webdriver.remote.webelement.WebElement (session=\"ef51bf6c3bd32c9b8be2281cab0eed83\", element=\"8714cf94-7aaf-4d3a-8188-afbf87b66d4d\")>,\n",
       " <selenium.webdriver.remote.webelement.WebElement (session=\"ef51bf6c3bd32c9b8be2281cab0eed83\", element=\"76729946-c797-49e9-b29d-09f0e5b60591\")>,\n",
       " <selenium.webdriver.remote.webelement.WebElement (session=\"ef51bf6c3bd32c9b8be2281cab0eed83\", element=\"e67d9412-194f-4804-a75a-a881c5c5b767\")>,\n",
       " <selenium.webdriver.remote.webelement.WebElement (session=\"ef51bf6c3bd32c9b8be2281cab0eed83\", element=\"5df81bc9-0cf5-4f7e-8f24-a0c0f363c8ed\")>,\n",
       " <selenium.webdriver.remote.webelement.WebElement (session=\"ef51bf6c3bd32c9b8be2281cab0eed83\", element=\"ed0eb9d9-0794-4fbe-b1a6-b9300bfc82c0\")>,\n",
       " <selenium.webdriver.remote.webelement.WebElement (session=\"ef51bf6c3bd32c9b8be2281cab0eed83\", element=\"8b54d4fc-462c-4c22-ae36-ba6cb2d0201c\")>,\n",
       " <selenium.webdriver.remote.webelement.WebElement (session=\"ef51bf6c3bd32c9b8be2281cab0eed83\", element=\"8edb332b-d6e4-400d-92df-da89fd88cb16\")>,\n",
       " <selenium.webdriver.remote.webelement.WebElement (session=\"ef51bf6c3bd32c9b8be2281cab0eed83\", element=\"bc323d31-ba50-4729-ac43-d8182b2bd650\")>,\n",
       " <selenium.webdriver.remote.webelement.WebElement (session=\"ef51bf6c3bd32c9b8be2281cab0eed83\", element=\"e1d3697b-841f-451e-b430-851881df4c0b\")>]"
      ]
     },
     "execution_count": 560,
     "metadata": {},
     "output_type": "execute_result"
    }
   ],
   "source": [
    "urls=driver.find_elements_by_xpath(\"//a[@class='title fw500 ellipsis']\")\n",
    "urls[0:10]"
   ]
  },
  {
   "cell_type": "code",
   "execution_count": 557,
   "metadata": {},
   "outputs": [
    {
     "name": "stdout",
     "output_type": "stream",
     "text": [
      "https://www.naukri.com/job-listings-data-scientist-data-analyst-immediate-inflexion-analytix-private-limited-chennai-pune-bengaluru-bangalore-hyderabad-secunderabad-0-to-2-years-160221001218?src=jobsearchDesk&sid=16136396937931810&xp=1&px=1\n"
     ]
    },
    {
     "ename": "StaleElementReferenceException",
     "evalue": "Message: stale element reference: element is not attached to the page document\n  (Session info: chrome=88.0.4324.150)\n",
     "output_type": "error",
     "traceback": [
      "\u001b[1;31m---------------------------------------------------------------------------\u001b[0m",
      "\u001b[1;31mStaleElementReferenceException\u001b[0m            Traceback (most recent call last)",
      "\u001b[1;32m<ipython-input-557-13f3c7dae4fb>\u001b[0m in \u001b[0;36m<module>\u001b[1;34m\u001b[0m\n\u001b[0;32m      1\u001b[0m \u001b[1;31m#now extract the text inside the tags using a for loop to iterate over all the tags\u001b[0m\u001b[1;33m\u001b[0m\u001b[1;33m\u001b[0m\u001b[1;33m\u001b[0m\u001b[0m\n\u001b[0;32m      2\u001b[0m \u001b[1;32mfor\u001b[0m \u001b[0mi\u001b[0m \u001b[1;32min\u001b[0m \u001b[0murls\u001b[0m\u001b[1;33m[\u001b[0m\u001b[1;36m0\u001b[0m\u001b[1;33m:\u001b[0m\u001b[1;36m10\u001b[0m\u001b[1;33m]\u001b[0m\u001b[1;33m:\u001b[0m\u001b[1;33m\u001b[0m\u001b[1;33m\u001b[0m\u001b[0m\n\u001b[1;32m----> 3\u001b[1;33m     \u001b[0mprint\u001b[0m\u001b[1;33m(\u001b[0m\u001b[0mi\u001b[0m\u001b[1;33m.\u001b[0m\u001b[0mget_attribute\u001b[0m\u001b[1;33m(\u001b[0m\u001b[1;34m'href'\u001b[0m\u001b[1;33m)\u001b[0m\u001b[1;33m)\u001b[0m\u001b[1;33m\u001b[0m\u001b[1;33m\u001b[0m\u001b[0m\n\u001b[0m\u001b[0;32m      4\u001b[0m     \u001b[0mdriver\u001b[0m\u001b[1;33m.\u001b[0m\u001b[0mget\u001b[0m\u001b[1;33m(\u001b[0m\u001b[0mi\u001b[0m\u001b[1;33m.\u001b[0m\u001b[0mget_attribute\u001b[0m\u001b[1;33m(\u001b[0m\u001b[1;34m'href'\u001b[0m\u001b[1;33m)\u001b[0m\u001b[1;33m)\u001b[0m\u001b[1;33m\u001b[0m\u001b[1;33m\u001b[0m\u001b[0m\n",
      "\u001b[1;32m~\\anaconda3\\lib\\site-packages\\selenium\\webdriver\\remote\\webelement.py\u001b[0m in \u001b[0;36mget_attribute\u001b[1;34m(self, name)\u001b[0m\n\u001b[0;32m    137\u001b[0m         \u001b[0mattributeValue\u001b[0m \u001b[1;33m=\u001b[0m \u001b[1;34m''\u001b[0m\u001b[1;33m\u001b[0m\u001b[1;33m\u001b[0m\u001b[0m\n\u001b[0;32m    138\u001b[0m         \u001b[1;32mif\u001b[0m \u001b[0mself\u001b[0m\u001b[1;33m.\u001b[0m\u001b[0m_w3c\u001b[0m\u001b[1;33m:\u001b[0m\u001b[1;33m\u001b[0m\u001b[1;33m\u001b[0m\u001b[0m\n\u001b[1;32m--> 139\u001b[1;33m             attributeValue = self.parent.execute_script(\n\u001b[0m\u001b[0;32m    140\u001b[0m                 \u001b[1;34m\"return (%s).apply(null, arguments);\"\u001b[0m \u001b[1;33m%\u001b[0m \u001b[0mgetAttribute_js\u001b[0m\u001b[1;33m,\u001b[0m\u001b[1;33m\u001b[0m\u001b[1;33m\u001b[0m\u001b[0m\n\u001b[0;32m    141\u001b[0m                 self, name)\n",
      "\u001b[1;32m~\\anaconda3\\lib\\site-packages\\selenium\\webdriver\\remote\\webdriver.py\u001b[0m in \u001b[0;36mexecute_script\u001b[1;34m(self, script, *args)\u001b[0m\n\u001b[0;32m    632\u001b[0m             \u001b[0mcommand\u001b[0m \u001b[1;33m=\u001b[0m \u001b[0mCommand\u001b[0m\u001b[1;33m.\u001b[0m\u001b[0mEXECUTE_SCRIPT\u001b[0m\u001b[1;33m\u001b[0m\u001b[1;33m\u001b[0m\u001b[0m\n\u001b[0;32m    633\u001b[0m \u001b[1;33m\u001b[0m\u001b[0m\n\u001b[1;32m--> 634\u001b[1;33m         return self.execute(command, {\n\u001b[0m\u001b[0;32m    635\u001b[0m             \u001b[1;34m'script'\u001b[0m\u001b[1;33m:\u001b[0m \u001b[0mscript\u001b[0m\u001b[1;33m,\u001b[0m\u001b[1;33m\u001b[0m\u001b[1;33m\u001b[0m\u001b[0m\n\u001b[0;32m    636\u001b[0m             'args': converted_args})['value']\n",
      "\u001b[1;32m~\\anaconda3\\lib\\site-packages\\selenium\\webdriver\\remote\\webdriver.py\u001b[0m in \u001b[0;36mexecute\u001b[1;34m(self, driver_command, params)\u001b[0m\n\u001b[0;32m    319\u001b[0m         \u001b[0mresponse\u001b[0m \u001b[1;33m=\u001b[0m \u001b[0mself\u001b[0m\u001b[1;33m.\u001b[0m\u001b[0mcommand_executor\u001b[0m\u001b[1;33m.\u001b[0m\u001b[0mexecute\u001b[0m\u001b[1;33m(\u001b[0m\u001b[0mdriver_command\u001b[0m\u001b[1;33m,\u001b[0m \u001b[0mparams\u001b[0m\u001b[1;33m)\u001b[0m\u001b[1;33m\u001b[0m\u001b[1;33m\u001b[0m\u001b[0m\n\u001b[0;32m    320\u001b[0m         \u001b[1;32mif\u001b[0m \u001b[0mresponse\u001b[0m\u001b[1;33m:\u001b[0m\u001b[1;33m\u001b[0m\u001b[1;33m\u001b[0m\u001b[0m\n\u001b[1;32m--> 321\u001b[1;33m             \u001b[0mself\u001b[0m\u001b[1;33m.\u001b[0m\u001b[0merror_handler\u001b[0m\u001b[1;33m.\u001b[0m\u001b[0mcheck_response\u001b[0m\u001b[1;33m(\u001b[0m\u001b[0mresponse\u001b[0m\u001b[1;33m)\u001b[0m\u001b[1;33m\u001b[0m\u001b[1;33m\u001b[0m\u001b[0m\n\u001b[0m\u001b[0;32m    322\u001b[0m             response['value'] = self._unwrap_value(\n\u001b[0;32m    323\u001b[0m                 response.get('value', None))\n",
      "\u001b[1;32m~\\anaconda3\\lib\\site-packages\\selenium\\webdriver\\remote\\errorhandler.py\u001b[0m in \u001b[0;36mcheck_response\u001b[1;34m(self, response)\u001b[0m\n\u001b[0;32m    240\u001b[0m                 \u001b[0malert_text\u001b[0m \u001b[1;33m=\u001b[0m \u001b[0mvalue\u001b[0m\u001b[1;33m[\u001b[0m\u001b[1;34m'alert'\u001b[0m\u001b[1;33m]\u001b[0m\u001b[1;33m.\u001b[0m\u001b[0mget\u001b[0m\u001b[1;33m(\u001b[0m\u001b[1;34m'text'\u001b[0m\u001b[1;33m)\u001b[0m\u001b[1;33m\u001b[0m\u001b[1;33m\u001b[0m\u001b[0m\n\u001b[0;32m    241\u001b[0m             \u001b[1;32mraise\u001b[0m \u001b[0mexception_class\u001b[0m\u001b[1;33m(\u001b[0m\u001b[0mmessage\u001b[0m\u001b[1;33m,\u001b[0m \u001b[0mscreen\u001b[0m\u001b[1;33m,\u001b[0m \u001b[0mstacktrace\u001b[0m\u001b[1;33m,\u001b[0m \u001b[0malert_text\u001b[0m\u001b[1;33m)\u001b[0m\u001b[1;33m\u001b[0m\u001b[1;33m\u001b[0m\u001b[0m\n\u001b[1;32m--> 242\u001b[1;33m         \u001b[1;32mraise\u001b[0m \u001b[0mexception_class\u001b[0m\u001b[1;33m(\u001b[0m\u001b[0mmessage\u001b[0m\u001b[1;33m,\u001b[0m \u001b[0mscreen\u001b[0m\u001b[1;33m,\u001b[0m \u001b[0mstacktrace\u001b[0m\u001b[1;33m)\u001b[0m\u001b[1;33m\u001b[0m\u001b[1;33m\u001b[0m\u001b[0m\n\u001b[0m\u001b[0;32m    243\u001b[0m \u001b[1;33m\u001b[0m\u001b[0m\n\u001b[0;32m    244\u001b[0m     \u001b[1;32mdef\u001b[0m \u001b[0m_value_or_default\u001b[0m\u001b[1;33m(\u001b[0m\u001b[0mself\u001b[0m\u001b[1;33m,\u001b[0m \u001b[0mobj\u001b[0m\u001b[1;33m,\u001b[0m \u001b[0mkey\u001b[0m\u001b[1;33m,\u001b[0m \u001b[0mdefault\u001b[0m\u001b[1;33m)\u001b[0m\u001b[1;33m:\u001b[0m\u001b[1;33m\u001b[0m\u001b[1;33m\u001b[0m\u001b[0m\n",
      "\u001b[1;31mStaleElementReferenceException\u001b[0m: Message: stale element reference: element is not attached to the page document\n  (Session info: chrome=88.0.4324.150)\n"
     ]
    }
   ],
   "source": [
    "#now extract the text inside the tags using a for loop to iterate over all the tags\n",
    "for i in urls[0:10]:\n",
    "    print(i.get_attribute('href'))\n",
    "    driver.get(i.get_attribute('href'))"
   ]
  },
  {
   "cell_type": "code",
   "execution_count": 558,
   "metadata": {},
   "outputs": [],
   "source": [
    "from selenium.common.exceptions import StaleElementReferenceException\n",
    "from selenium.webdriver.support.ui import WebDriverWait\n",
    "from selenium.webdriver.support import expected_conditions as EC\n",
    "from selenium.webdriver.common.by import By"
   ]
  },
  {
   "cell_type": "code",
   "execution_count": 561,
   "metadata": {},
   "outputs": [
    {
     "ename": "NoSuchElementException",
     "evalue": "Message: no such element: Unable to locate element: {\"method\":\"xpath\",\"selector\":\"//a[@class='title fw500 ellipsis']\"}\n  (Session info: chrome=88.0.4324.150)\n",
     "output_type": "error",
     "traceback": [
      "\u001b[1;31m---------------------------------------------------------------------------\u001b[0m",
      "\u001b[1;31mNoSuchElementException\u001b[0m                    Traceback (most recent call last)",
      "\u001b[1;32m<ipython-input-561-9f4caa4e50a9>\u001b[0m in \u001b[0;36m<module>\u001b[1;34m\u001b[0m\n\u001b[0;32m      2\u001b[0m \u001b[0mdriver\u001b[0m\u001b[1;33m.\u001b[0m\u001b[0mget\u001b[0m\u001b[1;33m(\u001b[0m\u001b[1;34m\"https://www.naukri.com/\"\u001b[0m\u001b[1;33m)\u001b[0m\u001b[1;33m\u001b[0m\u001b[1;33m\u001b[0m\u001b[0m\n\u001b[0;32m      3\u001b[0m \u001b[1;32mtry\u001b[0m\u001b[1;33m:\u001b[0m\u001b[1;33m\u001b[0m\u001b[1;33m\u001b[0m\u001b[0m\n\u001b[1;32m----> 4\u001b[1;33m     \u001b[0melement\u001b[0m\u001b[1;33m=\u001b[0m\u001b[0mdriver\u001b[0m\u001b[1;33m.\u001b[0m\u001b[0mfind_element_by_xpath\u001b[0m\u001b[1;33m(\u001b[0m\u001b[1;34m\"//a[@class='title fw500 ellipsis']\"\u001b[0m\u001b[1;33m)\u001b[0m\u001b[1;33m\u001b[0m\u001b[1;33m\u001b[0m\u001b[0m\n\u001b[0m\u001b[0;32m      5\u001b[0m     \u001b[0mprint\u001b[0m\u001b[1;33m(\u001b[0m\u001b[0melement\u001b[0m\u001b[1;33m)\u001b[0m\u001b[1;33m\u001b[0m\u001b[1;33m\u001b[0m\u001b[0m\n\u001b[0;32m      6\u001b[0m \u001b[1;32mexcept\u001b[0m \u001b[0mStaleElementReferenceException\u001b[0m \u001b[1;32mas\u001b[0m \u001b[0me\u001b[0m\u001b[1;33m:\u001b[0m\u001b[1;33m\u001b[0m\u001b[1;33m\u001b[0m\u001b[0m\n",
      "\u001b[1;32m~\\anaconda3\\lib\\site-packages\\selenium\\webdriver\\remote\\webdriver.py\u001b[0m in \u001b[0;36mfind_element_by_xpath\u001b[1;34m(self, xpath)\u001b[0m\n\u001b[0;32m    392\u001b[0m             \u001b[0melement\u001b[0m \u001b[1;33m=\u001b[0m \u001b[0mdriver\u001b[0m\u001b[1;33m.\u001b[0m\u001b[0mfind_element_by_xpath\u001b[0m\u001b[1;33m(\u001b[0m\u001b[1;34m'//div/td[1]'\u001b[0m\u001b[1;33m)\u001b[0m\u001b[1;33m\u001b[0m\u001b[1;33m\u001b[0m\u001b[0m\n\u001b[0;32m    393\u001b[0m         \"\"\"\n\u001b[1;32m--> 394\u001b[1;33m         \u001b[1;32mreturn\u001b[0m \u001b[0mself\u001b[0m\u001b[1;33m.\u001b[0m\u001b[0mfind_element\u001b[0m\u001b[1;33m(\u001b[0m\u001b[0mby\u001b[0m\u001b[1;33m=\u001b[0m\u001b[0mBy\u001b[0m\u001b[1;33m.\u001b[0m\u001b[0mXPATH\u001b[0m\u001b[1;33m,\u001b[0m \u001b[0mvalue\u001b[0m\u001b[1;33m=\u001b[0m\u001b[0mxpath\u001b[0m\u001b[1;33m)\u001b[0m\u001b[1;33m\u001b[0m\u001b[1;33m\u001b[0m\u001b[0m\n\u001b[0m\u001b[0;32m    395\u001b[0m \u001b[1;33m\u001b[0m\u001b[0m\n\u001b[0;32m    396\u001b[0m     \u001b[1;32mdef\u001b[0m \u001b[0mfind_elements_by_xpath\u001b[0m\u001b[1;33m(\u001b[0m\u001b[0mself\u001b[0m\u001b[1;33m,\u001b[0m \u001b[0mxpath\u001b[0m\u001b[1;33m)\u001b[0m\u001b[1;33m:\u001b[0m\u001b[1;33m\u001b[0m\u001b[1;33m\u001b[0m\u001b[0m\n",
      "\u001b[1;32m~\\anaconda3\\lib\\site-packages\\selenium\\webdriver\\remote\\webdriver.py\u001b[0m in \u001b[0;36mfind_element\u001b[1;34m(self, by, value)\u001b[0m\n\u001b[0;32m    974\u001b[0m                 \u001b[0mby\u001b[0m \u001b[1;33m=\u001b[0m \u001b[0mBy\u001b[0m\u001b[1;33m.\u001b[0m\u001b[0mCSS_SELECTOR\u001b[0m\u001b[1;33m\u001b[0m\u001b[1;33m\u001b[0m\u001b[0m\n\u001b[0;32m    975\u001b[0m                 \u001b[0mvalue\u001b[0m \u001b[1;33m=\u001b[0m \u001b[1;34m'[name=\"%s\"]'\u001b[0m \u001b[1;33m%\u001b[0m \u001b[0mvalue\u001b[0m\u001b[1;33m\u001b[0m\u001b[1;33m\u001b[0m\u001b[0m\n\u001b[1;32m--> 976\u001b[1;33m         return self.execute(Command.FIND_ELEMENT, {\n\u001b[0m\u001b[0;32m    977\u001b[0m             \u001b[1;34m'using'\u001b[0m\u001b[1;33m:\u001b[0m \u001b[0mby\u001b[0m\u001b[1;33m,\u001b[0m\u001b[1;33m\u001b[0m\u001b[1;33m\u001b[0m\u001b[0m\n\u001b[0;32m    978\u001b[0m             'value': value})['value']\n",
      "\u001b[1;32m~\\anaconda3\\lib\\site-packages\\selenium\\webdriver\\remote\\webdriver.py\u001b[0m in \u001b[0;36mexecute\u001b[1;34m(self, driver_command, params)\u001b[0m\n\u001b[0;32m    319\u001b[0m         \u001b[0mresponse\u001b[0m \u001b[1;33m=\u001b[0m \u001b[0mself\u001b[0m\u001b[1;33m.\u001b[0m\u001b[0mcommand_executor\u001b[0m\u001b[1;33m.\u001b[0m\u001b[0mexecute\u001b[0m\u001b[1;33m(\u001b[0m\u001b[0mdriver_command\u001b[0m\u001b[1;33m,\u001b[0m \u001b[0mparams\u001b[0m\u001b[1;33m)\u001b[0m\u001b[1;33m\u001b[0m\u001b[1;33m\u001b[0m\u001b[0m\n\u001b[0;32m    320\u001b[0m         \u001b[1;32mif\u001b[0m \u001b[0mresponse\u001b[0m\u001b[1;33m:\u001b[0m\u001b[1;33m\u001b[0m\u001b[1;33m\u001b[0m\u001b[0m\n\u001b[1;32m--> 321\u001b[1;33m             \u001b[0mself\u001b[0m\u001b[1;33m.\u001b[0m\u001b[0merror_handler\u001b[0m\u001b[1;33m.\u001b[0m\u001b[0mcheck_response\u001b[0m\u001b[1;33m(\u001b[0m\u001b[0mresponse\u001b[0m\u001b[1;33m)\u001b[0m\u001b[1;33m\u001b[0m\u001b[1;33m\u001b[0m\u001b[0m\n\u001b[0m\u001b[0;32m    322\u001b[0m             response['value'] = self._unwrap_value(\n\u001b[0;32m    323\u001b[0m                 response.get('value', None))\n",
      "\u001b[1;32m~\\anaconda3\\lib\\site-packages\\selenium\\webdriver\\remote\\errorhandler.py\u001b[0m in \u001b[0;36mcheck_response\u001b[1;34m(self, response)\u001b[0m\n\u001b[0;32m    240\u001b[0m                 \u001b[0malert_text\u001b[0m \u001b[1;33m=\u001b[0m \u001b[0mvalue\u001b[0m\u001b[1;33m[\u001b[0m\u001b[1;34m'alert'\u001b[0m\u001b[1;33m]\u001b[0m\u001b[1;33m.\u001b[0m\u001b[0mget\u001b[0m\u001b[1;33m(\u001b[0m\u001b[1;34m'text'\u001b[0m\u001b[1;33m)\u001b[0m\u001b[1;33m\u001b[0m\u001b[1;33m\u001b[0m\u001b[0m\n\u001b[0;32m    241\u001b[0m             \u001b[1;32mraise\u001b[0m \u001b[0mexception_class\u001b[0m\u001b[1;33m(\u001b[0m\u001b[0mmessage\u001b[0m\u001b[1;33m,\u001b[0m \u001b[0mscreen\u001b[0m\u001b[1;33m,\u001b[0m \u001b[0mstacktrace\u001b[0m\u001b[1;33m,\u001b[0m \u001b[0malert_text\u001b[0m\u001b[1;33m)\u001b[0m\u001b[1;33m\u001b[0m\u001b[1;33m\u001b[0m\u001b[0m\n\u001b[1;32m--> 242\u001b[1;33m         \u001b[1;32mraise\u001b[0m \u001b[0mexception_class\u001b[0m\u001b[1;33m(\u001b[0m\u001b[0mmessage\u001b[0m\u001b[1;33m,\u001b[0m \u001b[0mscreen\u001b[0m\u001b[1;33m,\u001b[0m \u001b[0mstacktrace\u001b[0m\u001b[1;33m)\u001b[0m\u001b[1;33m\u001b[0m\u001b[1;33m\u001b[0m\u001b[0m\n\u001b[0m\u001b[0;32m    243\u001b[0m \u001b[1;33m\u001b[0m\u001b[0m\n\u001b[0;32m    244\u001b[0m     \u001b[1;32mdef\u001b[0m \u001b[0m_value_or_default\u001b[0m\u001b[1;33m(\u001b[0m\u001b[0mself\u001b[0m\u001b[1;33m,\u001b[0m \u001b[0mobj\u001b[0m\u001b[1;33m,\u001b[0m \u001b[0mkey\u001b[0m\u001b[1;33m,\u001b[0m \u001b[0mdefault\u001b[0m\u001b[1;33m)\u001b[0m\u001b[1;33m:\u001b[0m\u001b[1;33m\u001b[0m\u001b[1;33m\u001b[0m\u001b[0m\n",
      "\u001b[1;31mNoSuchElementException\u001b[0m: Message: no such element: Unable to locate element: {\"method\":\"xpath\",\"selector\":\"//a[@class='title fw500 ellipsis']\"}\n  (Session info: chrome=88.0.4324.150)\n"
     ]
    }
   ],
   "source": [
    "driver=webdriver.Chrome(\"C:/Users/key/AppData/Roaming/Microsoft/Windows/Start Menu/Programs/chromedriver_win32/chromedriver.exe\")\n",
    "driver.get(\"https://www.naukri.com/\")\n",
    "try:\n",
    "    element=driver.find_element_by_xpath(\"//a[@class='title fw500 ellipsis']\")\n",
    "    print(element)\n",
    "except StaleElementReferenceException as e:\n",
    "    print(\"Exception Raised: \",e)\n",
    "    print(\"Refreshing the page!\")\n",
    "    driver.get(\"https://www.naukri.com/\")\n",
    "    WebDriverWait(driver,delay).until(EC.presence_of_element_located((By.CLASS_NAME,'title fw500 ellipsis')))\n",
    "    element=driver.find_element_by_xpath(\"//a[@class='title fw500 ellipsis']\")\n",
    "    print(element)"
   ]
  },
  {
   "cell_type": "code",
   "execution_count": 96,
   "metadata": {},
   "outputs": [
    {
     "ename": "InvalidSelectorException",
     "evalue": "Message: invalid selector: Unable to locate an element with the xpath expression //a[starts-with(@href='https')] because of the following error:\nSyntaxError: Failed to execute 'evaluate' on 'Document': The string '//a[starts-with(@href='https')]' is not a valid XPath expression.\n  (Session info: chrome=88.0.4324.150)\n",
     "output_type": "error",
     "traceback": [
      "\u001b[1;31m---------------------------------------------------------------------------\u001b[0m",
      "\u001b[1;31mInvalidSelectorException\u001b[0m                  Traceback (most recent call last)",
      "\u001b[1;32m<ipython-input-96-8cb8b4bd6a96>\u001b[0m in \u001b[0;36m<module>\u001b[1;34m\u001b[0m\n\u001b[0;32m      1\u001b[0m \u001b[1;31m#Let's extract all the html tags having the job description\u001b[0m\u001b[1;33m\u001b[0m\u001b[1;33m\u001b[0m\u001b[1;33m\u001b[0m\u001b[0m\n\u001b[1;32m----> 2\u001b[1;33m \u001b[0mjob_description_tags\u001b[0m\u001b[1;33m=\u001b[0m\u001b[0mdriver\u001b[0m\u001b[1;33m.\u001b[0m\u001b[0mfind_elements_by_xpath\u001b[0m\u001b[1;33m(\u001b[0m\u001b[1;34m\"//a[starts-with(@href='https')]\"\u001b[0m\u001b[1;33m)\u001b[0m\u001b[1;33m\u001b[0m\u001b[1;33m\u001b[0m\u001b[0m\n\u001b[0m\u001b[0;32m      3\u001b[0m \u001b[0mjob_description_tags\u001b[0m\u001b[1;33m[\u001b[0m\u001b[1;36m0\u001b[0m\u001b[1;33m:\u001b[0m\u001b[1;36m9\u001b[0m\u001b[1;33m]\u001b[0m\u001b[1;33m\u001b[0m\u001b[1;33m\u001b[0m\u001b[0m\n",
      "\u001b[1;32m~\\anaconda3\\lib\\site-packages\\selenium\\webdriver\\remote\\webdriver.py\u001b[0m in \u001b[0;36mfind_elements_by_xpath\u001b[1;34m(self, xpath)\u001b[0m\n\u001b[0;32m    408\u001b[0m             \u001b[0melements\u001b[0m \u001b[1;33m=\u001b[0m \u001b[0mdriver\u001b[0m\u001b[1;33m.\u001b[0m\u001b[0mfind_elements_by_xpath\u001b[0m\u001b[1;33m(\u001b[0m\u001b[1;34m\"//div[contains(@class, 'foo')]\"\u001b[0m\u001b[1;33m)\u001b[0m\u001b[1;33m\u001b[0m\u001b[1;33m\u001b[0m\u001b[0m\n\u001b[0;32m    409\u001b[0m         \"\"\"\n\u001b[1;32m--> 410\u001b[1;33m         \u001b[1;32mreturn\u001b[0m \u001b[0mself\u001b[0m\u001b[1;33m.\u001b[0m\u001b[0mfind_elements\u001b[0m\u001b[1;33m(\u001b[0m\u001b[0mby\u001b[0m\u001b[1;33m=\u001b[0m\u001b[0mBy\u001b[0m\u001b[1;33m.\u001b[0m\u001b[0mXPATH\u001b[0m\u001b[1;33m,\u001b[0m \u001b[0mvalue\u001b[0m\u001b[1;33m=\u001b[0m\u001b[0mxpath\u001b[0m\u001b[1;33m)\u001b[0m\u001b[1;33m\u001b[0m\u001b[1;33m\u001b[0m\u001b[0m\n\u001b[0m\u001b[0;32m    411\u001b[0m \u001b[1;33m\u001b[0m\u001b[0m\n\u001b[0;32m    412\u001b[0m     \u001b[1;32mdef\u001b[0m \u001b[0mfind_element_by_link_text\u001b[0m\u001b[1;33m(\u001b[0m\u001b[0mself\u001b[0m\u001b[1;33m,\u001b[0m \u001b[0mlink_text\u001b[0m\u001b[1;33m)\u001b[0m\u001b[1;33m:\u001b[0m\u001b[1;33m\u001b[0m\u001b[1;33m\u001b[0m\u001b[0m\n",
      "\u001b[1;32m~\\anaconda3\\lib\\site-packages\\selenium\\webdriver\\remote\\webdriver.py\u001b[0m in \u001b[0;36mfind_elements\u001b[1;34m(self, by, value)\u001b[0m\n\u001b[0;32m   1003\u001b[0m         \u001b[1;31m# Return empty list if driver returns null\u001b[0m\u001b[1;33m\u001b[0m\u001b[1;33m\u001b[0m\u001b[1;33m\u001b[0m\u001b[0m\n\u001b[0;32m   1004\u001b[0m         \u001b[1;31m# See https://github.com/SeleniumHQ/selenium/issues/4555\u001b[0m\u001b[1;33m\u001b[0m\u001b[1;33m\u001b[0m\u001b[1;33m\u001b[0m\u001b[0m\n\u001b[1;32m-> 1005\u001b[1;33m         return self.execute(Command.FIND_ELEMENTS, {\n\u001b[0m\u001b[0;32m   1006\u001b[0m             \u001b[1;34m'using'\u001b[0m\u001b[1;33m:\u001b[0m \u001b[0mby\u001b[0m\u001b[1;33m,\u001b[0m\u001b[1;33m\u001b[0m\u001b[1;33m\u001b[0m\u001b[0m\n\u001b[0;32m   1007\u001b[0m             'value': value})['value'] or []\n",
      "\u001b[1;32m~\\anaconda3\\lib\\site-packages\\selenium\\webdriver\\remote\\webdriver.py\u001b[0m in \u001b[0;36mexecute\u001b[1;34m(self, driver_command, params)\u001b[0m\n\u001b[0;32m    319\u001b[0m         \u001b[0mresponse\u001b[0m \u001b[1;33m=\u001b[0m \u001b[0mself\u001b[0m\u001b[1;33m.\u001b[0m\u001b[0mcommand_executor\u001b[0m\u001b[1;33m.\u001b[0m\u001b[0mexecute\u001b[0m\u001b[1;33m(\u001b[0m\u001b[0mdriver_command\u001b[0m\u001b[1;33m,\u001b[0m \u001b[0mparams\u001b[0m\u001b[1;33m)\u001b[0m\u001b[1;33m\u001b[0m\u001b[1;33m\u001b[0m\u001b[0m\n\u001b[0;32m    320\u001b[0m         \u001b[1;32mif\u001b[0m \u001b[0mresponse\u001b[0m\u001b[1;33m:\u001b[0m\u001b[1;33m\u001b[0m\u001b[1;33m\u001b[0m\u001b[0m\n\u001b[1;32m--> 321\u001b[1;33m             \u001b[0mself\u001b[0m\u001b[1;33m.\u001b[0m\u001b[0merror_handler\u001b[0m\u001b[1;33m.\u001b[0m\u001b[0mcheck_response\u001b[0m\u001b[1;33m(\u001b[0m\u001b[0mresponse\u001b[0m\u001b[1;33m)\u001b[0m\u001b[1;33m\u001b[0m\u001b[1;33m\u001b[0m\u001b[0m\n\u001b[0m\u001b[0;32m    322\u001b[0m             response['value'] = self._unwrap_value(\n\u001b[0;32m    323\u001b[0m                 response.get('value', None))\n",
      "\u001b[1;32m~\\anaconda3\\lib\\site-packages\\selenium\\webdriver\\remote\\errorhandler.py\u001b[0m in \u001b[0;36mcheck_response\u001b[1;34m(self, response)\u001b[0m\n\u001b[0;32m    240\u001b[0m                 \u001b[0malert_text\u001b[0m \u001b[1;33m=\u001b[0m \u001b[0mvalue\u001b[0m\u001b[1;33m[\u001b[0m\u001b[1;34m'alert'\u001b[0m\u001b[1;33m]\u001b[0m\u001b[1;33m.\u001b[0m\u001b[0mget\u001b[0m\u001b[1;33m(\u001b[0m\u001b[1;34m'text'\u001b[0m\u001b[1;33m)\u001b[0m\u001b[1;33m\u001b[0m\u001b[1;33m\u001b[0m\u001b[0m\n\u001b[0;32m    241\u001b[0m             \u001b[1;32mraise\u001b[0m \u001b[0mexception_class\u001b[0m\u001b[1;33m(\u001b[0m\u001b[0mmessage\u001b[0m\u001b[1;33m,\u001b[0m \u001b[0mscreen\u001b[0m\u001b[1;33m,\u001b[0m \u001b[0mstacktrace\u001b[0m\u001b[1;33m,\u001b[0m \u001b[0malert_text\u001b[0m\u001b[1;33m)\u001b[0m\u001b[1;33m\u001b[0m\u001b[1;33m\u001b[0m\u001b[0m\n\u001b[1;32m--> 242\u001b[1;33m         \u001b[1;32mraise\u001b[0m \u001b[0mexception_class\u001b[0m\u001b[1;33m(\u001b[0m\u001b[0mmessage\u001b[0m\u001b[1;33m,\u001b[0m \u001b[0mscreen\u001b[0m\u001b[1;33m,\u001b[0m \u001b[0mstacktrace\u001b[0m\u001b[1;33m)\u001b[0m\u001b[1;33m\u001b[0m\u001b[1;33m\u001b[0m\u001b[0m\n\u001b[0m\u001b[0;32m    243\u001b[0m \u001b[1;33m\u001b[0m\u001b[0m\n\u001b[0;32m    244\u001b[0m     \u001b[1;32mdef\u001b[0m \u001b[0m_value_or_default\u001b[0m\u001b[1;33m(\u001b[0m\u001b[0mself\u001b[0m\u001b[1;33m,\u001b[0m \u001b[0mobj\u001b[0m\u001b[1;33m,\u001b[0m \u001b[0mkey\u001b[0m\u001b[1;33m,\u001b[0m \u001b[0mdefault\u001b[0m\u001b[1;33m)\u001b[0m\u001b[1;33m:\u001b[0m\u001b[1;33m\u001b[0m\u001b[1;33m\u001b[0m\u001b[0m\n",
      "\u001b[1;31mInvalidSelectorException\u001b[0m: Message: invalid selector: Unable to locate an element with the xpath expression //a[starts-with(@href='https')] because of the following error:\nSyntaxError: Failed to execute 'evaluate' on 'Document': The string '//a[starts-with(@href='https')]' is not a valid XPath expression.\n  (Session info: chrome=88.0.4324.150)\n"
     ]
    }
   ],
   "source": [
    "#Let's extract all the html tags having the job description\n",
    "job_description_tags=driver.find_elements_by_xpath(\"//a[starts-with(@href='https')]\")\n",
    "job_description_tags[0:9]"
   ]
  },
  {
   "cell_type": "code",
   "execution_count": 98,
   "metadata": {},
   "outputs": [
    {
     "data": {
      "text/plain": [
       "[]"
      ]
     },
     "execution_count": 98,
     "metadata": {},
     "output_type": "execute_result"
    }
   ],
   "source": [
    "#Let's extract all the html tags having the job description\n",
    "job_description_tags=driver.find_elements_by_xpath(\"//a[text()='https://www.naukri.com/job-listings']\")\n",
    "job_description_tags[0:9]"
   ]
  },
  {
   "cell_type": "code",
   "execution_count": 100,
   "metadata": {},
   "outputs": [],
   "source": [
    "#now extract the text inside the tags using a for loop to iterate over all the tags\n",
    "for i in job_description_tags[0:9]:\n",
    "    print(i.get_attribute('href'))\n",
    "    driver.get(i.get_attribute('href'))"
   ]
  },
  {
   "cell_type": "code",
   "execution_count": 102,
   "metadata": {},
   "outputs": [
    {
     "data": {
      "text/plain": [
       "[]"
      ]
     },
     "execution_count": 102,
     "metadata": {},
     "output_type": "execute_result"
    }
   ],
   "source": [
    "#Let's extract all the html tags having the job description\n",
    "job_description_tags=driver.find_elements_by_xpath(\"//div[@class='leftSec']/section[2]/div[1]/p[2]\")\n",
    "job_description_tags[0:9]"
   ]
  },
  {
   "cell_type": "raw",
   "metadata": {},
   "source": []
  },
  {
   "cell_type": "raw",
   "metadata": {},
   "source": [
    "Q3: In this question you have to scrape data using the filters available on the\n",
    "webpage as shown below:"
   ]
  },
  {
   "cell_type": "raw",
   "metadata": {},
   "source": []
  },
  {
   "cell_type": "code",
   "execution_count": 240,
   "metadata": {},
   "outputs": [],
   "source": [
    "#let's connect to the webdriver\n",
    "driver = webdriver.Chrome(\"C:/Users/key/AppData/Roaming/Microsoft/Windows/Start Menu/Programs/chromedriver_win32/chromedriver.exe\")"
   ]
  },
  {
   "cell_type": "code",
   "execution_count": 241,
   "metadata": {},
   "outputs": [],
   "source": [
    "driver.get('https://www.naukri.com/')"
   ]
  },
  {
   "cell_type": "code",
   "execution_count": 133,
   "metadata": {},
   "outputs": [],
   "source": [
    "#finding element for job search bar\n",
    "search_job=driver.find_element_by_id('qsb-keyword-sugg')\n",
    "search_job.send_keys('Data Scientist')"
   ]
  },
  {
   "cell_type": "code",
   "execution_count": 134,
   "metadata": {},
   "outputs": [],
   "source": [
    "search_btn=driver.find_element_by_xpath(\"//div[@class='search-btn']/button\")\n",
    "search_btn.click()"
   ]
  },
  {
   "cell_type": "code",
   "execution_count": 136,
   "metadata": {},
   "outputs": [],
   "source": [
    "location_checkbox=driver.find_element_by_xpath(\"//div[@data-filter-id='cities']/div[2]\")\n",
    "location_checkbox.click()"
   ]
  },
  {
   "cell_type": "code",
   "execution_count": 137,
   "metadata": {},
   "outputs": [],
   "source": [
    "salary_checkbox=driver.find_element_by_xpath(\"//div[@data-filter-id='salaryRange']/div[2]\")\n",
    "salary_checkbox.click()"
   ]
  },
  {
   "cell_type": "code",
   "execution_count": 138,
   "metadata": {},
   "outputs": [],
   "source": [
    "#creating the empty lists to which the final scraped data will be stored\n",
    "job_titles=[]\n",
    "company_names=[]\n",
    "locations_list=[]\n",
    "experience_list=[]"
   ]
  },
  {
   "cell_type": "code",
   "execution_count": 152,
   "metadata": {},
   "outputs": [
    {
     "data": {
      "text/plain": [
       "[<selenium.webdriver.remote.webelement.WebElement (session=\"10cc4fc287f0b872cfa9df0757be9200\", element=\"46367294-8bf2-4107-aa54-182abd7b0b1a\")>,\n",
       " <selenium.webdriver.remote.webelement.WebElement (session=\"10cc4fc287f0b872cfa9df0757be9200\", element=\"4f272acc-5391-4574-9fa4-a326f96be760\")>,\n",
       " <selenium.webdriver.remote.webelement.WebElement (session=\"10cc4fc287f0b872cfa9df0757be9200\", element=\"492ed522-87c0-4b22-a304-4249c5277620\")>,\n",
       " <selenium.webdriver.remote.webelement.WebElement (session=\"10cc4fc287f0b872cfa9df0757be9200\", element=\"efc2518e-85c1-49b1-9009-e588d9ca1a48\")>,\n",
       " <selenium.webdriver.remote.webelement.WebElement (session=\"10cc4fc287f0b872cfa9df0757be9200\", element=\"7da5ae13-a24a-412b-b882-ed383d3582fd\")>,\n",
       " <selenium.webdriver.remote.webelement.WebElement (session=\"10cc4fc287f0b872cfa9df0757be9200\", element=\"e5d2e47d-f309-452b-84cb-0af76b8ec964\")>,\n",
       " <selenium.webdriver.remote.webelement.WebElement (session=\"10cc4fc287f0b872cfa9df0757be9200\", element=\"825e8feb-7dfc-4181-b3aa-27efe4d42160\")>,\n",
       " <selenium.webdriver.remote.webelement.WebElement (session=\"10cc4fc287f0b872cfa9df0757be9200\", element=\"624696d1-a5e1-454d-9479-f4e141cf2c62\")>,\n",
       " <selenium.webdriver.remote.webelement.WebElement (session=\"10cc4fc287f0b872cfa9df0757be9200\", element=\"84cc7321-6d82-44ca-be62-ec4b83b973ae\")>,\n",
       " <selenium.webdriver.remote.webelement.WebElement (session=\"10cc4fc287f0b872cfa9df0757be9200\", element=\"67010a8e-e0ad-42b1-95f4-37617b75278a\")>]"
      ]
     },
     "execution_count": 152,
     "metadata": {},
     "output_type": "execute_result"
    }
   ],
   "source": [
    "#let's extract all the tags having the job titles\n",
    "title_tags=driver.find_elements_by_xpath(\"//a[@class='title fw500 ellipsis']\")\n",
    "title_tags[0:10]"
   ]
  },
  {
   "cell_type": "code",
   "execution_count": 153,
   "metadata": {},
   "outputs": [
    {
     "data": {
      "text/plain": [
       "['Data Scientist',\n",
       " 'Data Scientist',\n",
       " 'Senior Data Scientist - Computer Vision',\n",
       " 'Only Fresher / Data Scientist / Data Analyst / Analytics - MNC',\n",
       " 'Data Scientist',\n",
       " 'GCP Skilled Analytics Resources (Data engineer / Data scientists)',\n",
       " 'Data Scientist Machine Learning',\n",
       " 'Tech Mahindra hiring For Data Scientist- Noida',\n",
       " 'Data Scientist - Commercial Planning and Analysis',\n",
       " 'Business Analyst - Data Scientist']"
      ]
     },
     "execution_count": 153,
     "metadata": {},
     "output_type": "execute_result"
    }
   ],
   "source": [
    "#Now extract the text inside the tags using a for loop to iterate over all the tags\n",
    "for i in title_tags:\n",
    "    title=i.text\n",
    "    job_titles.append(title)\n",
    "job_titles[0:10]"
   ]
  },
  {
   "cell_type": "code",
   "execution_count": 154,
   "metadata": {},
   "outputs": [
    {
     "data": {
      "text/plain": [
       "[<selenium.webdriver.remote.webelement.WebElement (session=\"10cc4fc287f0b872cfa9df0757be9200\", element=\"1d7ad2e6-e287-4327-86e4-fb8665700356\")>,\n",
       " <selenium.webdriver.remote.webelement.WebElement (session=\"10cc4fc287f0b872cfa9df0757be9200\", element=\"7b6d5012-74ef-4315-90f3-b11a3c6b1dd6\")>,\n",
       " <selenium.webdriver.remote.webelement.WebElement (session=\"10cc4fc287f0b872cfa9df0757be9200\", element=\"f1c000c0-2251-4cca-bc76-d357bc2d59c1\")>,\n",
       " <selenium.webdriver.remote.webelement.WebElement (session=\"10cc4fc287f0b872cfa9df0757be9200\", element=\"eb31e526-c0e8-461c-b465-c7d741b2994b\")>,\n",
       " <selenium.webdriver.remote.webelement.WebElement (session=\"10cc4fc287f0b872cfa9df0757be9200\", element=\"6a56fc15-0743-4d63-abec-1c069b6c2ef8\")>,\n",
       " <selenium.webdriver.remote.webelement.WebElement (session=\"10cc4fc287f0b872cfa9df0757be9200\", element=\"fee17df2-c5b5-4106-8587-0d8919dd849e\")>,\n",
       " <selenium.webdriver.remote.webelement.WebElement (session=\"10cc4fc287f0b872cfa9df0757be9200\", element=\"b4ba9c17-733b-41e0-972d-207ab9d1149d\")>,\n",
       " <selenium.webdriver.remote.webelement.WebElement (session=\"10cc4fc287f0b872cfa9df0757be9200\", element=\"d14dc749-925f-4c10-8d29-9013104cebf1\")>,\n",
       " <selenium.webdriver.remote.webelement.WebElement (session=\"10cc4fc287f0b872cfa9df0757be9200\", element=\"9ecb930a-48ef-4cf9-b199-0c8279410c11\")>,\n",
       " <selenium.webdriver.remote.webelement.WebElement (session=\"10cc4fc287f0b872cfa9df0757be9200\", element=\"aa90e1c0-719c-473d-af5e-d41c821e6244\")>]"
      ]
     },
     "execution_count": 154,
     "metadata": {},
     "output_type": "execute_result"
    }
   ],
   "source": [
    "#let's extract all the tags having the company names\n",
    "companies_tags=driver.find_elements_by_xpath(\"//a[@class='subTitle ellipsis fleft']\")\n",
    "companies_tags[0:10]"
   ]
  },
  {
   "cell_type": "code",
   "execution_count": 155,
   "metadata": {},
   "outputs": [
    {
     "data": {
      "text/plain": [
       "['Country Veggie',\n",
       " 'IBM India Pvt. Limited',\n",
       " 'IRIS SOFTWARE Inc',\n",
       " 'GABA Consultancy services',\n",
       " 'Ciena',\n",
       " 'Aerial Telecom Solutions Pvt. Ltd.',\n",
       " 'Delhivery',\n",
       " 'tech mahindra ltd',\n",
       " 'Air Asia India Limited',\n",
       " 'HyreFox Consultants Pvt Ltd']"
      ]
     },
     "execution_count": 155,
     "metadata": {},
     "output_type": "execute_result"
    }
   ],
   "source": [
    "#Now extract the text inside the tags using a for loop to iterate over all the tags\n",
    "for i in companies_tags:\n",
    "    company_name=i.text\n",
    "    company_names.append(company_name)\n",
    "company_names[0:10]"
   ]
  },
  {
   "cell_type": "code",
   "execution_count": 156,
   "metadata": {},
   "outputs": [
    {
     "data": {
      "text/plain": [
       "[<selenium.webdriver.remote.webelement.WebElement (session=\"10cc4fc287f0b872cfa9df0757be9200\", element=\"de98028f-518f-4e20-82ce-eaf76709860f\")>,\n",
       " <selenium.webdriver.remote.webelement.WebElement (session=\"10cc4fc287f0b872cfa9df0757be9200\", element=\"13a6f19d-d84b-4ac0-ba7e-38eee501d66d\")>,\n",
       " <selenium.webdriver.remote.webelement.WebElement (session=\"10cc4fc287f0b872cfa9df0757be9200\", element=\"2224406d-f289-40e5-acfd-16763d4e56f2\")>,\n",
       " <selenium.webdriver.remote.webelement.WebElement (session=\"10cc4fc287f0b872cfa9df0757be9200\", element=\"6e5e3b1f-8181-4d62-a5cf-be8db6d9505a\")>,\n",
       " <selenium.webdriver.remote.webelement.WebElement (session=\"10cc4fc287f0b872cfa9df0757be9200\", element=\"8b2e470a-2a8c-4f66-b886-a1333c0122b0\")>,\n",
       " <selenium.webdriver.remote.webelement.WebElement (session=\"10cc4fc287f0b872cfa9df0757be9200\", element=\"6a6e31b4-e2d1-49ca-ba14-051155be584a\")>,\n",
       " <selenium.webdriver.remote.webelement.WebElement (session=\"10cc4fc287f0b872cfa9df0757be9200\", element=\"a4369873-8961-44e6-b16c-3ec3d32f50f8\")>,\n",
       " <selenium.webdriver.remote.webelement.WebElement (session=\"10cc4fc287f0b872cfa9df0757be9200\", element=\"da7c0abd-6001-415b-96c9-f0541654a35c\")>,\n",
       " <selenium.webdriver.remote.webelement.WebElement (session=\"10cc4fc287f0b872cfa9df0757be9200\", element=\"ab95812a-9cf9-4da5-bb80-4a58a99ef53b\")>,\n",
       " <selenium.webdriver.remote.webelement.WebElement (session=\"10cc4fc287f0b872cfa9df0757be9200\", element=\"a3ddfeff-1853-4d78-bb08-0ec1c90d011f\")>]"
      ]
     },
     "execution_count": 156,
     "metadata": {},
     "output_type": "execute_result"
    }
   ],
   "source": [
    "#Now we will extract all the html tags having the experience required\n",
    "experience_tags=driver.find_elements_by_xpath(\"//li[@class='fleft grey-text br2 placeHolderLi experience']/span[1]\")\n",
    "experience_tags[0:10]"
   ]
  },
  {
   "cell_type": "code",
   "execution_count": 157,
   "metadata": {},
   "outputs": [
    {
     "data": {
      "text/plain": [
       "['1-3 Yrs',\n",
       " '4-8 Yrs',\n",
       " '4-9 Yrs',\n",
       " '0-0 Yrs',\n",
       " '5-6 Yrs',\n",
       " '3-8 Yrs',\n",
       " '1-3 Yrs',\n",
       " '5-10 Yrs',\n",
       " '1-6 Yrs',\n",
       " '3-5 Yrs']"
      ]
     },
     "execution_count": 157,
     "metadata": {},
     "output_type": "execute_result"
    }
   ],
   "source": [
    "experience_list=[]\n",
    "#let's extract the text inside the tags using a for loop to iterate over all the tags\n",
    "for i in experience_tags:\n",
    "    experience=i.text\n",
    "    experience_list.append(experience)\n",
    "experience_list[0:10]"
   ]
  },
  {
   "cell_type": "code",
   "execution_count": 158,
   "metadata": {},
   "outputs": [
    {
     "data": {
      "text/plain": [
       "[<selenium.webdriver.remote.webelement.WebElement (session=\"10cc4fc287f0b872cfa9df0757be9200\", element=\"84747b7a-5bb1-48b9-b89e-661a8fc5e4c0\")>,\n",
       " <selenium.webdriver.remote.webelement.WebElement (session=\"10cc4fc287f0b872cfa9df0757be9200\", element=\"79253679-72f5-4f1f-9abf-d26ade46e38a\")>,\n",
       " <selenium.webdriver.remote.webelement.WebElement (session=\"10cc4fc287f0b872cfa9df0757be9200\", element=\"f2f35466-8f6e-4560-853d-84bc139de50d\")>,\n",
       " <selenium.webdriver.remote.webelement.WebElement (session=\"10cc4fc287f0b872cfa9df0757be9200\", element=\"01a4155f-4c8e-4eee-b97c-a269884550ba\")>,\n",
       " <selenium.webdriver.remote.webelement.WebElement (session=\"10cc4fc287f0b872cfa9df0757be9200\", element=\"362a96e7-60d7-4b6e-b193-2457da724e3c\")>,\n",
       " <selenium.webdriver.remote.webelement.WebElement (session=\"10cc4fc287f0b872cfa9df0757be9200\", element=\"7635143c-25e9-40e9-b467-405dc1e5d604\")>,\n",
       " <selenium.webdriver.remote.webelement.WebElement (session=\"10cc4fc287f0b872cfa9df0757be9200\", element=\"aedf7187-92cd-4113-a7a2-dfb61c36e1a6\")>,\n",
       " <selenium.webdriver.remote.webelement.WebElement (session=\"10cc4fc287f0b872cfa9df0757be9200\", element=\"a656c33e-08bc-4cfb-bf26-9920b45812ea\")>,\n",
       " <selenium.webdriver.remote.webelement.WebElement (session=\"10cc4fc287f0b872cfa9df0757be9200\", element=\"2f66fb00-4516-467a-a550-a46e9ce1ef2f\")>,\n",
       " <selenium.webdriver.remote.webelement.WebElement (session=\"10cc4fc287f0b872cfa9df0757be9200\", element=\"450c6c74-8413-4f98-b0c8-ec81980841f5\")>]"
      ]
     },
     "execution_count": 158,
     "metadata": {},
     "output_type": "execute_result"
    }
   ],
   "source": [
    "#Let's extract all the html tags having the experience required\n",
    "locations_tags=driver.find_elements_by_xpath(\"//li[@class='fleft grey-text br2 placeHolderLi location']/span[1]\")\n",
    "locations_tags[0:10]"
   ]
  },
  {
   "cell_type": "code",
   "execution_count": 159,
   "metadata": {},
   "outputs": [
    {
     "data": {
      "text/plain": [
       "['Ghaziabad, Bhopal, Lucknow, Kanpur, Rajkot, Bengaluru, Gurgaon, Agra, Bharuch, Jaunpur, Nagpur, Delhi, Mumbai, Jaipur, Jhansi',\n",
       " 'Gurgaon Gurugram',\n",
       " 'Delhi NCR',\n",
       " 'Delhi NCR, Noida, Gurgaon',\n",
       " 'Gurgaon Gurugram',\n",
       " 'Pune, Bengaluru, Gurgaon',\n",
       " 'Gurgaon',\n",
       " 'Noida',\n",
       " 'Delhi NCR, Gurgaon',\n",
       " 'Gurgaon']"
      ]
     },
     "execution_count": 159,
     "metadata": {},
     "output_type": "execute_result"
    }
   ],
   "source": [
    "#now extract the text inside the tags using a for loop to iterate over all the tags\n",
    "for i in locations_tags:\n",
    "    locations=i.text\n",
    "    locations_list.append(locations)\n",
    "locations_list[0:10]"
   ]
  },
  {
   "cell_type": "code",
   "execution_count": 160,
   "metadata": {},
   "outputs": [
    {
     "name": "stdout",
     "output_type": "stream",
     "text": [
      "40 40 20 40\n"
     ]
    }
   ],
   "source": [
    "print(len(job_titles),len(company_names),len(experience_list),len(locations_list))"
   ]
  },
  {
   "cell_type": "code",
   "execution_count": 165,
   "metadata": {},
   "outputs": [],
   "source": [
    "jobs=pd.DataFrame({})\n",
    "jobs['job_title']=job_titles[0:10]\n",
    "jobs['company_name']=company_names[0:10]\n",
    "jobs['experience_required']=experience_list[0:10]\n",
    "jobs['job_location']=locations_list[0:10]"
   ]
  },
  {
   "cell_type": "code",
   "execution_count": 166,
   "metadata": {},
   "outputs": [
    {
     "data": {
      "text/html": [
       "<div>\n",
       "<style scoped>\n",
       "    .dataframe tbody tr th:only-of-type {\n",
       "        vertical-align: middle;\n",
       "    }\n",
       "\n",
       "    .dataframe tbody tr th {\n",
       "        vertical-align: top;\n",
       "    }\n",
       "\n",
       "    .dataframe thead th {\n",
       "        text-align: right;\n",
       "    }\n",
       "</style>\n",
       "<table border=\"1\" class=\"dataframe\">\n",
       "  <thead>\n",
       "    <tr style=\"text-align: right;\">\n",
       "      <th></th>\n",
       "      <th>job_title</th>\n",
       "      <th>company_name</th>\n",
       "      <th>experience_required</th>\n",
       "      <th>job_location</th>\n",
       "    </tr>\n",
       "  </thead>\n",
       "  <tbody>\n",
       "    <tr>\n",
       "      <th>0</th>\n",
       "      <td>Data Scientist</td>\n",
       "      <td>Country Veggie</td>\n",
       "      <td>1-3 Yrs</td>\n",
       "      <td>Ghaziabad, Bhopal, Lucknow, Kanpur, Rajkot, Be...</td>\n",
       "    </tr>\n",
       "    <tr>\n",
       "      <th>1</th>\n",
       "      <td>Data Scientist</td>\n",
       "      <td>IBM India Pvt. Limited</td>\n",
       "      <td>4-8 Yrs</td>\n",
       "      <td>Gurgaon Gurugram</td>\n",
       "    </tr>\n",
       "    <tr>\n",
       "      <th>2</th>\n",
       "      <td>Senior Data Scientist - Computer Vision</td>\n",
       "      <td>IRIS SOFTWARE Inc</td>\n",
       "      <td>4-9 Yrs</td>\n",
       "      <td>Delhi NCR</td>\n",
       "    </tr>\n",
       "    <tr>\n",
       "      <th>3</th>\n",
       "      <td>Only Fresher / Data Scientist / Data Analyst /...</td>\n",
       "      <td>GABA Consultancy services</td>\n",
       "      <td>0-0 Yrs</td>\n",
       "      <td>Delhi NCR, Noida, Gurgaon</td>\n",
       "    </tr>\n",
       "    <tr>\n",
       "      <th>4</th>\n",
       "      <td>Data Scientist</td>\n",
       "      <td>Ciena</td>\n",
       "      <td>5-6 Yrs</td>\n",
       "      <td>Gurgaon Gurugram</td>\n",
       "    </tr>\n",
       "    <tr>\n",
       "      <th>5</th>\n",
       "      <td>GCP Skilled Analytics Resources (Data engineer...</td>\n",
       "      <td>Aerial Telecom Solutions Pvt. Ltd.</td>\n",
       "      <td>3-8 Yrs</td>\n",
       "      <td>Pune, Bengaluru, Gurgaon</td>\n",
       "    </tr>\n",
       "    <tr>\n",
       "      <th>6</th>\n",
       "      <td>Data Scientist Machine Learning</td>\n",
       "      <td>Delhivery</td>\n",
       "      <td>1-3 Yrs</td>\n",
       "      <td>Gurgaon</td>\n",
       "    </tr>\n",
       "    <tr>\n",
       "      <th>7</th>\n",
       "      <td>Tech Mahindra hiring For Data Scientist- Noida</td>\n",
       "      <td>tech mahindra ltd</td>\n",
       "      <td>5-10 Yrs</td>\n",
       "      <td>Noida</td>\n",
       "    </tr>\n",
       "    <tr>\n",
       "      <th>8</th>\n",
       "      <td>Data Scientist - Commercial Planning and Analysis</td>\n",
       "      <td>Air Asia India Limited</td>\n",
       "      <td>1-6 Yrs</td>\n",
       "      <td>Delhi NCR, Gurgaon</td>\n",
       "    </tr>\n",
       "    <tr>\n",
       "      <th>9</th>\n",
       "      <td>Business Analyst - Data Scientist</td>\n",
       "      <td>HyreFox Consultants Pvt Ltd</td>\n",
       "      <td>3-5 Yrs</td>\n",
       "      <td>Gurgaon</td>\n",
       "    </tr>\n",
       "  </tbody>\n",
       "</table>\n",
       "</div>"
      ],
      "text/plain": [
       "                                           job_title  \\\n",
       "0                                     Data Scientist   \n",
       "1                                     Data Scientist   \n",
       "2            Senior Data Scientist - Computer Vision   \n",
       "3  Only Fresher / Data Scientist / Data Analyst /...   \n",
       "4                                     Data Scientist   \n",
       "5  GCP Skilled Analytics Resources (Data engineer...   \n",
       "6                    Data Scientist Machine Learning   \n",
       "7     Tech Mahindra hiring For Data Scientist- Noida   \n",
       "8  Data Scientist - Commercial Planning and Analysis   \n",
       "9                  Business Analyst - Data Scientist   \n",
       "\n",
       "                         company_name experience_required  \\\n",
       "0                      Country Veggie             1-3 Yrs   \n",
       "1              IBM India Pvt. Limited             4-8 Yrs   \n",
       "2                   IRIS SOFTWARE Inc             4-9 Yrs   \n",
       "3           GABA Consultancy services             0-0 Yrs   \n",
       "4                               Ciena             5-6 Yrs   \n",
       "5  Aerial Telecom Solutions Pvt. Ltd.             3-8 Yrs   \n",
       "6                           Delhivery             1-3 Yrs   \n",
       "7                   tech mahindra ltd            5-10 Yrs   \n",
       "8              Air Asia India Limited             1-6 Yrs   \n",
       "9         HyreFox Consultants Pvt Ltd             3-5 Yrs   \n",
       "\n",
       "                                        job_location  \n",
       "0  Ghaziabad, Bhopal, Lucknow, Kanpur, Rajkot, Be...  \n",
       "1                                   Gurgaon Gurugram  \n",
       "2                                          Delhi NCR  \n",
       "3                          Delhi NCR, Noida, Gurgaon  \n",
       "4                                   Gurgaon Gurugram  \n",
       "5                           Pune, Bengaluru, Gurgaon  \n",
       "6                                            Gurgaon  \n",
       "7                                              Noida  \n",
       "8                                 Delhi NCR, Gurgaon  \n",
       "9                                            Gurgaon  "
      ]
     },
     "execution_count": 166,
     "metadata": {},
     "output_type": "execute_result"
    }
   ],
   "source": [
    "jobs"
   ]
  },
  {
   "cell_type": "raw",
   "metadata": {},
   "source": []
  },
  {
   "cell_type": "raw",
   "metadata": {},
   "source": [
    "Q4: Write a python program to scrape data for first 10 job results for Data scientist\n",
    "Designation in Noida location. You have to scrape company_name, No. of days\n",
    "ago when job was posted, Rating of the company."
   ]
  },
  {
   "cell_type": "raw",
   "metadata": {},
   "source": []
  },
  {
   "cell_type": "code",
   "execution_count": 181,
   "metadata": {},
   "outputs": [],
   "source": [
    "#let's connect to the webdriver\n",
    "driver = webdriver.Chrome(\"C:/Users/key/AppData/Roaming/Microsoft/Windows/Start Menu/Programs/chromedriver_win32/chromedriver.exe\")"
   ]
  },
  {
   "cell_type": "code",
   "execution_count": 182,
   "metadata": {},
   "outputs": [],
   "source": [
    "driver.get('https://www.glassdoor.co.in/index.htm')"
   ]
  },
  {
   "cell_type": "code",
   "execution_count": 183,
   "metadata": {},
   "outputs": [],
   "source": [
    "#finding element for job search bar\n",
    "search_job=driver.find_element_by_id('scKeyword')\n",
    "search_job.send_keys('Data Scientist')\n",
    "search_loc=driver.find_element_by_xpath(\"//input[@id='scLocation']\")\n",
    "search_loc.send_keys(\"Noida\")"
   ]
  },
  {
   "cell_type": "code",
   "execution_count": 185,
   "metadata": {},
   "outputs": [],
   "source": [
    "search_btn=driver.find_element_by_xpath(\"//button[@class='pl-0 pr-xsm SearchStyles__searchKeywordSubmit']\")\n",
    "search_btn.click()"
   ]
  },
  {
   "cell_type": "code",
   "execution_count": 199,
   "metadata": {},
   "outputs": [],
   "source": [
    "#creating the empty lists to which the final scraped data will be stored\n",
    "job_titles=[]\n",
    "company_names=[]\n",
    "daysago_jobposted=[]\n",
    "company_ratings=[]"
   ]
  },
  {
   "cell_type": "code",
   "execution_count": 200,
   "metadata": {},
   "outputs": [
    {
     "data": {
      "text/plain": [
       "[<selenium.webdriver.remote.webelement.WebElement (session=\"29fad04fd11bfa7e238656efb9d2a706\", element=\"812f2e9f-aaee-4bb3-b7a4-b6407ac62879\")>,\n",
       " <selenium.webdriver.remote.webelement.WebElement (session=\"29fad04fd11bfa7e238656efb9d2a706\", element=\"d774ad57-065c-466c-9865-d2821dde53a8\")>,\n",
       " <selenium.webdriver.remote.webelement.WebElement (session=\"29fad04fd11bfa7e238656efb9d2a706\", element=\"2010c8eb-9788-4015-bd9d-4e0c5f47938b\")>,\n",
       " <selenium.webdriver.remote.webelement.WebElement (session=\"29fad04fd11bfa7e238656efb9d2a706\", element=\"3382c153-4c1a-429b-9160-094e624084c9\")>,\n",
       " <selenium.webdriver.remote.webelement.WebElement (session=\"29fad04fd11bfa7e238656efb9d2a706\", element=\"6dc23124-79e6-49ad-a7e8-55431a8df384\")>,\n",
       " <selenium.webdriver.remote.webelement.WebElement (session=\"29fad04fd11bfa7e238656efb9d2a706\", element=\"e7dd1a60-d0ac-4695-acb9-b7ae2d5f227a\")>,\n",
       " <selenium.webdriver.remote.webelement.WebElement (session=\"29fad04fd11bfa7e238656efb9d2a706\", element=\"d4291ea3-2d15-4fa5-9663-c4e774e0b7b0\")>,\n",
       " <selenium.webdriver.remote.webelement.WebElement (session=\"29fad04fd11bfa7e238656efb9d2a706\", element=\"ab7b955f-ca8b-41b3-b77b-d6d05eaefc96\")>,\n",
       " <selenium.webdriver.remote.webelement.WebElement (session=\"29fad04fd11bfa7e238656efb9d2a706\", element=\"97fec3d1-59d0-4a03-ab21-e7a8b6492a80\")>,\n",
       " <selenium.webdriver.remote.webelement.WebElement (session=\"29fad04fd11bfa7e238656efb9d2a706\", element=\"c20523e1-9621-4dfd-9704-e3917357be78\")>]"
      ]
     },
     "execution_count": 200,
     "metadata": {},
     "output_type": "execute_result"
    }
   ],
   "source": [
    "#let's extract all the tags having the job titles\n",
    "title_tags=driver.find_elements_by_xpath(\"//a[@class='jobLink css-1rd3saf eigr9kq2']\")\n",
    "title_tags[0:10]"
   ]
  },
  {
   "cell_type": "code",
   "execution_count": 201,
   "metadata": {},
   "outputs": [
    {
     "data": {
      "text/plain": [
       "['Data Scientist',\n",
       " 'Data Scientist',\n",
       " 'Data Scientist',\n",
       " 'Data Scientist',\n",
       " 'Data Analytics Internship',\n",
       " 'Machine Learning Engineer/ Data Scientist',\n",
       " 'Data Scientist/Analyst',\n",
       " 'Data Scientist',\n",
       " 'Jr. Data Scientist',\n",
       " 'Principal Data Scientist']"
      ]
     },
     "execution_count": 201,
     "metadata": {},
     "output_type": "execute_result"
    }
   ],
   "source": [
    "#Now extract the text inside the tags using a for loop to iterate over all the tags\n",
    "for i in title_tags:\n",
    "    title=i.text\n",
    "    job_titles.append(title)\n",
    "job_titles[0:10]"
   ]
  },
  {
   "cell_type": "code",
   "execution_count": 202,
   "metadata": {},
   "outputs": [
    {
     "data": {
      "text/plain": [
       "[<selenium.webdriver.remote.webelement.WebElement (session=\"29fad04fd11bfa7e238656efb9d2a706\", element=\"70d89235-184e-46eb-9d60-02bd683441da\")>,\n",
       " <selenium.webdriver.remote.webelement.WebElement (session=\"29fad04fd11bfa7e238656efb9d2a706\", element=\"575fc181-82a8-409a-80df-3d097c6c1c67\")>,\n",
       " <selenium.webdriver.remote.webelement.WebElement (session=\"29fad04fd11bfa7e238656efb9d2a706\", element=\"e33dd2e7-ebf7-4208-906a-11fea2c7ffa1\")>,\n",
       " <selenium.webdriver.remote.webelement.WebElement (session=\"29fad04fd11bfa7e238656efb9d2a706\", element=\"c3b624fe-07ee-4ee3-8076-dd857a416d03\")>,\n",
       " <selenium.webdriver.remote.webelement.WebElement (session=\"29fad04fd11bfa7e238656efb9d2a706\", element=\"25e0f9ba-03e8-42f5-ad17-fb4794ed08fe\")>,\n",
       " <selenium.webdriver.remote.webelement.WebElement (session=\"29fad04fd11bfa7e238656efb9d2a706\", element=\"13f608cc-cf2f-4e5f-83e9-acbcd76047ff\")>,\n",
       " <selenium.webdriver.remote.webelement.WebElement (session=\"29fad04fd11bfa7e238656efb9d2a706\", element=\"b61152c6-1541-4c93-88c9-159b27a173de\")>,\n",
       " <selenium.webdriver.remote.webelement.WebElement (session=\"29fad04fd11bfa7e238656efb9d2a706\", element=\"2fe7032f-a7ca-491f-b870-6181731c1ac7\")>,\n",
       " <selenium.webdriver.remote.webelement.WebElement (session=\"29fad04fd11bfa7e238656efb9d2a706\", element=\"ae8fb639-148b-4c86-8c10-fdea75873e40\")>,\n",
       " <selenium.webdriver.remote.webelement.WebElement (session=\"29fad04fd11bfa7e238656efb9d2a706\", element=\"0dd845ed-10ae-4007-818b-c8275b189bfb\")>]"
      ]
     },
     "execution_count": 202,
     "metadata": {},
     "output_type": "execute_result"
    }
   ],
   "source": [
    "#let's extract all the tags having the company names\n",
    "companies_tags=driver.find_elements_by_xpath(\"//div[@class='d-flex justify-content-between align-items-start']\")\n",
    "companies_tags[0:10]"
   ]
  },
  {
   "cell_type": "code",
   "execution_count": 203,
   "metadata": {},
   "outputs": [
    {
     "data": {
      "text/plain": [
       "['Biz2Credit Inc',\n",
       " 'Adobe',\n",
       " 'Emerging India Group',\n",
       " 'WishFin',\n",
       " 'Yellow Class',\n",
       " 'Dürr Somac GmbH',\n",
       " 'Singh RanjayKumar(Proprietor Of Zee India Co)',\n",
       " 'Techlive',\n",
       " 'xtLytics',\n",
       " 'Kronos Incorporated']"
      ]
     },
     "execution_count": 203,
     "metadata": {},
     "output_type": "execute_result"
    }
   ],
   "source": [
    "#Now extract the text inside the tags using a for loop to iterate over all the tags\n",
    "for i in companies_tags:\n",
    "    company_name=i.text\n",
    "    company_names.append(company_name)\n",
    "company_names[0:10]"
   ]
  },
  {
   "cell_type": "code",
   "execution_count": 204,
   "metadata": {},
   "outputs": [
    {
     "data": {
      "text/plain": [
       "[<selenium.webdriver.remote.webelement.WebElement (session=\"29fad04fd11bfa7e238656efb9d2a706\", element=\"12092d7a-f1ea-4809-aafb-c28e6a66b02b\")>,\n",
       " <selenium.webdriver.remote.webelement.WebElement (session=\"29fad04fd11bfa7e238656efb9d2a706\", element=\"3845874c-b737-4fa3-8c81-0920ffbe8418\")>,\n",
       " <selenium.webdriver.remote.webelement.WebElement (session=\"29fad04fd11bfa7e238656efb9d2a706\", element=\"1075dc1c-2097-4158-9bbb-4fe07d81555a\")>,\n",
       " <selenium.webdriver.remote.webelement.WebElement (session=\"29fad04fd11bfa7e238656efb9d2a706\", element=\"6a8c2d0b-de1f-4f55-8d11-6485ace1d783\")>,\n",
       " <selenium.webdriver.remote.webelement.WebElement (session=\"29fad04fd11bfa7e238656efb9d2a706\", element=\"99c89cc3-5538-46f5-84d9-4177b3d0e40a\")>,\n",
       " <selenium.webdriver.remote.webelement.WebElement (session=\"29fad04fd11bfa7e238656efb9d2a706\", element=\"a86650c8-27d6-4f5e-a8ad-b62d54e5b814\")>,\n",
       " <selenium.webdriver.remote.webelement.WebElement (session=\"29fad04fd11bfa7e238656efb9d2a706\", element=\"c47ca24f-04c1-4e12-9f0f-f0b0786a7703\")>,\n",
       " <selenium.webdriver.remote.webelement.WebElement (session=\"29fad04fd11bfa7e238656efb9d2a706\", element=\"7395ee6a-c7e1-49ac-91ac-9d0058d16b12\")>,\n",
       " <selenium.webdriver.remote.webelement.WebElement (session=\"29fad04fd11bfa7e238656efb9d2a706\", element=\"c5477ccd-537b-41f5-bc00-183fdb1b890a\")>,\n",
       " <selenium.webdriver.remote.webelement.WebElement (session=\"29fad04fd11bfa7e238656efb9d2a706\", element=\"32a26cde-8b2e-4464-a227-4e6330f008eb\")>]"
      ]
     },
     "execution_count": 204,
     "metadata": {},
     "output_type": "execute_result"
    }
   ],
   "source": [
    "#let's extract all the tags having the no of days ago when job was posted\n",
    "days_jobposted_tags=driver.find_elements_by_xpath(\"//div[@class='d-flex align-items-end pl-std css-mi55ob']\")\n",
    "days_jobposted_tags[0:10]"
   ]
  },
  {
   "cell_type": "code",
   "execution_count": 205,
   "metadata": {},
   "outputs": [
    {
     "data": {
      "text/plain": [
       "['30d+', '5d', '30d+', '15d', '3d', '30d+', '24h', '30d+', '30d+', '3d']"
      ]
     },
     "execution_count": 205,
     "metadata": {},
     "output_type": "execute_result"
    }
   ],
   "source": [
    "#Now extract the text inside the tags using a for loop to iterate over all the tags\n",
    "for i in days_jobposted_tags:\n",
    "    days_jobposted=i.text\n",
    "    daysago_jobposted.append(days_jobposted)\n",
    "daysago_jobposted[0:10]"
   ]
  },
  {
   "cell_type": "code",
   "execution_count": 206,
   "metadata": {},
   "outputs": [
    {
     "data": {
      "text/plain": [
       "[<selenium.webdriver.remote.webelement.WebElement (session=\"29fad04fd11bfa7e238656efb9d2a706\", element=\"0c8ddfcb-a353-4637-b8d7-d43b83ebc63d\")>,\n",
       " <selenium.webdriver.remote.webelement.WebElement (session=\"29fad04fd11bfa7e238656efb9d2a706\", element=\"32673b5f-678d-4b63-8941-c331d87982ca\")>,\n",
       " <selenium.webdriver.remote.webelement.WebElement (session=\"29fad04fd11bfa7e238656efb9d2a706\", element=\"200cc4f3-2bc3-40bf-bc57-4c7e3534f1d2\")>,\n",
       " <selenium.webdriver.remote.webelement.WebElement (session=\"29fad04fd11bfa7e238656efb9d2a706\", element=\"9831d3dc-7db9-4156-93ed-120b427e35fc\")>,\n",
       " <selenium.webdriver.remote.webelement.WebElement (session=\"29fad04fd11bfa7e238656efb9d2a706\", element=\"4a0be309-7f6d-4bd0-9dd9-0b7fb7ae3b8b\")>,\n",
       " <selenium.webdriver.remote.webelement.WebElement (session=\"29fad04fd11bfa7e238656efb9d2a706\", element=\"59022a79-dd5e-4703-86ec-e46d2d207c02\")>,\n",
       " <selenium.webdriver.remote.webelement.WebElement (session=\"29fad04fd11bfa7e238656efb9d2a706\", element=\"789c3faf-d7e9-4281-81b4-0b0ed22f1348\")>,\n",
       " <selenium.webdriver.remote.webelement.WebElement (session=\"29fad04fd11bfa7e238656efb9d2a706\", element=\"0290e843-da31-44b6-89f8-8df123a722fd\")>,\n",
       " <selenium.webdriver.remote.webelement.WebElement (session=\"29fad04fd11bfa7e238656efb9d2a706\", element=\"3b12e82a-649b-4984-b044-3c6d30d67338\")>,\n",
       " <selenium.webdriver.remote.webelement.WebElement (session=\"29fad04fd11bfa7e238656efb9d2a706\", element=\"d13dfd4b-d583-444e-a2ca-3675b58010dc\")>]"
      ]
     },
     "execution_count": 206,
     "metadata": {},
     "output_type": "execute_result"
    }
   ],
   "source": [
    "#let's extract all the tags having the rating of the company\n",
    "company_rating=driver.find_elements_by_xpath(\"//span[@class='css-19pjha7 e1cjmv6j1']\")\n",
    "company_rating[0:10]"
   ]
  },
  {
   "cell_type": "code",
   "execution_count": 207,
   "metadata": {},
   "outputs": [
    {
     "data": {
      "text/plain": [
       "['3.7', '4.4', '4.0', '5.0', '5.0', '3.0', '4.3', '5.0', '4.4', '4.2']"
      ]
     },
     "execution_count": 207,
     "metadata": {},
     "output_type": "execute_result"
    }
   ],
   "source": [
    "#Now extract the text inside the tags using a for loop to iterate over all the tags\n",
    "for i in company_rating:\n",
    "    ratings=i.text\n",
    "    company_ratings.append(ratings)\n",
    "company_ratings[0:10]"
   ]
  },
  {
   "cell_type": "code",
   "execution_count": 209,
   "metadata": {},
   "outputs": [
    {
     "name": "stdout",
     "output_type": "stream",
     "text": [
      "30 30 30 19\n"
     ]
    }
   ],
   "source": [
    "print(len(job_titles),len(company_names),len(daysago_jobposted),len(company_ratings))"
   ]
  },
  {
   "cell_type": "code",
   "execution_count": 240,
   "metadata": {},
   "outputs": [],
   "source": [
    "jobs=pd.DataFrame({})\n",
    "jobs['job_title']=job_titles[0:10]\n",
    "jobs['company_name']=company_names[0:10]\n",
    "jobs['jobposted_days']=daysago_jobposted[0:10]\n",
    "jobs['company_rating']=company_ratings[0:10]"
   ]
  },
  {
   "cell_type": "code",
   "execution_count": 241,
   "metadata": {},
   "outputs": [
    {
     "data": {
      "text/html": [
       "<div>\n",
       "<style scoped>\n",
       "    .dataframe tbody tr th:only-of-type {\n",
       "        vertical-align: middle;\n",
       "    }\n",
       "\n",
       "    .dataframe tbody tr th {\n",
       "        vertical-align: top;\n",
       "    }\n",
       "\n",
       "    .dataframe thead th {\n",
       "        text-align: right;\n",
       "    }\n",
       "</style>\n",
       "<table border=\"1\" class=\"dataframe\">\n",
       "  <thead>\n",
       "    <tr style=\"text-align: right;\">\n",
       "      <th></th>\n",
       "      <th>job_title</th>\n",
       "      <th>company_name</th>\n",
       "      <th>jobposted_days</th>\n",
       "      <th>company_rating</th>\n",
       "    </tr>\n",
       "  </thead>\n",
       "  <tbody>\n",
       "    <tr>\n",
       "      <th>0</th>\n",
       "      <td>Data Scientist</td>\n",
       "      <td>Biz2Credit Inc</td>\n",
       "      <td>30d+</td>\n",
       "      <td>3.7</td>\n",
       "    </tr>\n",
       "    <tr>\n",
       "      <th>1</th>\n",
       "      <td>Data Scientist</td>\n",
       "      <td>Adobe</td>\n",
       "      <td>5d</td>\n",
       "      <td>4.4</td>\n",
       "    </tr>\n",
       "    <tr>\n",
       "      <th>2</th>\n",
       "      <td>Data Scientist</td>\n",
       "      <td>Emerging India Group</td>\n",
       "      <td>30d+</td>\n",
       "      <td>4.0</td>\n",
       "    </tr>\n",
       "    <tr>\n",
       "      <th>3</th>\n",
       "      <td>Data Scientist</td>\n",
       "      <td>WishFin</td>\n",
       "      <td>15d</td>\n",
       "      <td>5.0</td>\n",
       "    </tr>\n",
       "    <tr>\n",
       "      <th>4</th>\n",
       "      <td>Data Analytics Internship</td>\n",
       "      <td>Yellow Class</td>\n",
       "      <td>3d</td>\n",
       "      <td>5.0</td>\n",
       "    </tr>\n",
       "    <tr>\n",
       "      <th>5</th>\n",
       "      <td>Machine Learning Engineer/ Data Scientist</td>\n",
       "      <td>Dürr Somac GmbH</td>\n",
       "      <td>30d+</td>\n",
       "      <td>3.0</td>\n",
       "    </tr>\n",
       "    <tr>\n",
       "      <th>6</th>\n",
       "      <td>Data Scientist/Analyst</td>\n",
       "      <td>Singh RanjayKumar(Proprietor Of Zee India Co)</td>\n",
       "      <td>24h</td>\n",
       "      <td>4.3</td>\n",
       "    </tr>\n",
       "    <tr>\n",
       "      <th>7</th>\n",
       "      <td>Data Scientist</td>\n",
       "      <td>Techlive</td>\n",
       "      <td>30d+</td>\n",
       "      <td>5.0</td>\n",
       "    </tr>\n",
       "    <tr>\n",
       "      <th>8</th>\n",
       "      <td>Jr. Data Scientist</td>\n",
       "      <td>xtLytics</td>\n",
       "      <td>30d+</td>\n",
       "      <td>4.4</td>\n",
       "    </tr>\n",
       "    <tr>\n",
       "      <th>9</th>\n",
       "      <td>Principal Data Scientist</td>\n",
       "      <td>Kronos Incorporated</td>\n",
       "      <td>3d</td>\n",
       "      <td>4.2</td>\n",
       "    </tr>\n",
       "  </tbody>\n",
       "</table>\n",
       "</div>"
      ],
      "text/plain": [
       "                                   job_title  \\\n",
       "0                             Data Scientist   \n",
       "1                             Data Scientist   \n",
       "2                             Data Scientist   \n",
       "3                             Data Scientist   \n",
       "4                  Data Analytics Internship   \n",
       "5  Machine Learning Engineer/ Data Scientist   \n",
       "6                     Data Scientist/Analyst   \n",
       "7                             Data Scientist   \n",
       "8                         Jr. Data Scientist   \n",
       "9                   Principal Data Scientist   \n",
       "\n",
       "                                    company_name jobposted_days company_rating  \n",
       "0                                 Biz2Credit Inc           30d+            3.7  \n",
       "1                                          Adobe             5d            4.4  \n",
       "2                           Emerging India Group           30d+            4.0  \n",
       "3                                        WishFin            15d            5.0  \n",
       "4                                   Yellow Class             3d            5.0  \n",
       "5                                Dürr Somac GmbH           30d+            3.0  \n",
       "6  Singh RanjayKumar(Proprietor Of Zee India Co)            24h            4.3  \n",
       "7                                       Techlive           30d+            5.0  \n",
       "8                                       xtLytics           30d+            4.4  \n",
       "9                            Kronos Incorporated             3d            4.2  "
      ]
     },
     "execution_count": 241,
     "metadata": {},
     "output_type": "execute_result"
    }
   ],
   "source": [
    "jobs"
   ]
  },
  {
   "cell_type": "raw",
   "metadata": {},
   "source": []
  },
  {
   "cell_type": "raw",
   "metadata": {},
   "source": [
    "Q5: Write a python program to scrape the salary data for Data Scientist designation\n",
    "in Noida location."
   ]
  },
  {
   "cell_type": "raw",
   "metadata": {},
   "source": []
  },
  {
   "cell_type": "code",
   "execution_count": 252,
   "metadata": {},
   "outputs": [],
   "source": [
    "#importing required libraries\n",
    "import selenium\n",
    "import pandas as pd\n",
    "from selenium import webdriver"
   ]
  },
  {
   "cell_type": "code",
   "execution_count": 253,
   "metadata": {},
   "outputs": [],
   "source": [
    "#let's connect to the webdriver\n",
    "driver = webdriver.Chrome(\"C:/Users/key/AppData/Roaming/Microsoft/Windows/Start Menu/Programs/chromedriver_win32/chromedriver.exe\")"
   ]
  },
  {
   "cell_type": "code",
   "execution_count": 254,
   "metadata": {},
   "outputs": [],
   "source": [
    "driver.get('https://www.glassdoor.co.in/Salaries/index.htm')"
   ]
  },
  {
   "cell_type": "code",
   "execution_count": 255,
   "metadata": {},
   "outputs": [],
   "source": [
    "#finding element for job search bar\n",
    "search_job=driver.find_element_by_id('KeywordSearch')\n",
    "search_job.send_keys('Data Scientist')"
   ]
  },
  {
   "cell_type": "code",
   "execution_count": 256,
   "metadata": {},
   "outputs": [],
   "source": [
    "search_btn=driver.find_element_by_xpath(\"//button[@class='gd-btn-mkt']\")\n",
    "search_btn.click()"
   ]
  },
  {
   "cell_type": "code",
   "execution_count": 257,
   "metadata": {},
   "outputs": [],
   "source": [
    "search_loc=driver.find_element_by_xpath(\"//input[@id='scLocation']\")\n",
    "search_loc.send_keys(\"Noida\")"
   ]
  },
  {
   "cell_type": "code",
   "execution_count": 258,
   "metadata": {},
   "outputs": [],
   "source": [
    "search_btn=driver.find_element_by_xpath(\"//button[@class='pl-0 pr-xsm SearchStyles__searchKeywordSubmit']\")\n",
    "search_btn.click()"
   ]
  },
  {
   "cell_type": "code",
   "execution_count": 283,
   "metadata": {},
   "outputs": [],
   "source": [
    "#creating the empty lists to which the final scraped data will be stored\n",
    "company_names=[]\n",
    "range_salary=[]\n",
    "avg_salary=[]\n",
    "company_ratings=[]"
   ]
  },
  {
   "cell_type": "code",
   "execution_count": 293,
   "metadata": {},
   "outputs": [
    {
     "data": {
      "text/plain": [
       "[<selenium.webdriver.remote.webelement.WebElement (session=\"c3be77d40ba0050ddae7059ac30b34dd\", element=\"0262d73a-c392-4c1d-9541-b870ca785738\")>,\n",
       " <selenium.webdriver.remote.webelement.WebElement (session=\"c3be77d40ba0050ddae7059ac30b34dd\", element=\"ec0cf2df-54a4-4476-9f65-1e02b9fe9faa\")>,\n",
       " <selenium.webdriver.remote.webelement.WebElement (session=\"c3be77d40ba0050ddae7059ac30b34dd\", element=\"842daca7-fa69-4c3f-a63c-3250e5a76da2\")>,\n",
       " <selenium.webdriver.remote.webelement.WebElement (session=\"c3be77d40ba0050ddae7059ac30b34dd\", element=\"9193eba0-69d5-4dde-a943-3b51768b091b\")>,\n",
       " <selenium.webdriver.remote.webelement.WebElement (session=\"c3be77d40ba0050ddae7059ac30b34dd\", element=\"11eb0a69-5820-430e-afd1-84e40999207e\")>,\n",
       " <selenium.webdriver.remote.webelement.WebElement (session=\"c3be77d40ba0050ddae7059ac30b34dd\", element=\"9ceb5cd7-10bd-49ac-b77a-c566ff3902ff\")>,\n",
       " <selenium.webdriver.remote.webelement.WebElement (session=\"c3be77d40ba0050ddae7059ac30b34dd\", element=\"e33ca78d-124b-4cc7-b32f-210a6f520471\")>,\n",
       " <selenium.webdriver.remote.webelement.WebElement (session=\"c3be77d40ba0050ddae7059ac30b34dd\", element=\"12b58d20-a317-418f-a389-bc83d49aee48\")>,\n",
       " <selenium.webdriver.remote.webelement.WebElement (session=\"c3be77d40ba0050ddae7059ac30b34dd\", element=\"5a8399e6-8505-454b-af6f-df5501d28f73\")>,\n",
       " <selenium.webdriver.remote.webelement.WebElement (session=\"c3be77d40ba0050ddae7059ac30b34dd\", element=\"19f18433-ea22-4597-b4ea-d989e9ab04ed\")>]"
      ]
     },
     "execution_count": 293,
     "metadata": {},
     "output_type": "execute_result"
    }
   ],
   "source": [
    "#let's extract all the tags having the average salary\n",
    "comp_name=driver.find_elements_by_xpath(\"//div[@class='d-flex']/div[2]/p[2]\")\n",
    "comp_name[0:10]"
   ]
  },
  {
   "cell_type": "code",
   "execution_count": 292,
   "metadata": {},
   "outputs": [
    {
     "data": {
      "text/plain": [
       "['Data Scientist\\nEricsson-Worldwide\\n₹ 7,30,968/yr\\nRange: ₹350K - ₹1,614K\\n12 salaries',\n",
       " 'Data Scientist\\nTata Consultancy Services\\n₹ 6,00,000/yr\\nRange: ₹336K - ₹1,010K\\n11 salaries',\n",
       " 'Data Scientist\\nAccenture\\n₹ 9,94,055/yr\\nRange: ₹577K - ₹2,215K\\n10 salaries',\n",
       " 'Data Scientist\\nDelhivery\\n₹ 12,64,182/yr\\nRange: ₹450K - ₹11,630K\\n13 salaries\\nSee 14 salaries from all locations',\n",
       " 'Data Scientist\\nEricsson-Worldwide\\n₹ 7,30,968/yr\\nRange: ₹350K - ₹1,614K\\n12 salaries\\nSee 25 salaries from all locations',\n",
       " 'Data Scientist\\nTata Consultancy Services\\n₹ 6,00,000/yr\\nRange: ₹336K - ₹1,010K\\n11 salaries\\nSee 91 salaries from all locations',\n",
       " 'Data Scientist\\nAccenture\\n₹ 9,94,055/yr\\nRange: ₹577K - ₹2,215K\\n10 salaries\\nSee 39 salaries from all locations',\n",
       " 'Data Scientist\\nIBM\\n₹ 7,39,040/yr\\nRange: ₹587K - ₹2,732K\\n10 salaries\\nSee 77 salaries from all locations',\n",
       " 'Data Scientist\\nUnitedHealth Group\\n₹ 13,37,114/yr\\nRange: ₹717K - ₹1,575K\\n9 salaries\\nSee 16 salaries from all locations',\n",
       " 'Data Scientist\\nValiance Solutions\\n₹ 7,80,374/yr\\nRange: ₹502K - ₹1,152K\\n8 salaries\\nSee 10 salaries from all locations']"
      ]
     },
     "execution_count": 292,
     "metadata": {},
     "output_type": "execute_result"
    }
   ],
   "source": [
    "#Now extract the text inside the tags using a for loop to iterate over all the tags\n",
    "for i in comp_name:\n",
    "    names=i.text\n",
    "    company_names.append(names)\n",
    "company_names[0:10]"
   ]
  },
  {
   "cell_type": "code",
   "execution_count": 273,
   "metadata": {},
   "outputs": [
    {
     "data": {
      "text/plain": [
       "[<selenium.webdriver.remote.webelement.WebElement (session=\"c3be77d40ba0050ddae7059ac30b34dd\", element=\"ee2ad8a3-26bb-43d5-9bfd-53278751d430\")>,\n",
       " <selenium.webdriver.remote.webelement.WebElement (session=\"c3be77d40ba0050ddae7059ac30b34dd\", element=\"34d4f48f-cc15-4429-9c31-a88f32b97981\")>,\n",
       " <selenium.webdriver.remote.webelement.WebElement (session=\"c3be77d40ba0050ddae7059ac30b34dd\", element=\"9d9727d9-47d8-4c2e-adbf-c9255c2ed01f\")>,\n",
       " <selenium.webdriver.remote.webelement.WebElement (session=\"c3be77d40ba0050ddae7059ac30b34dd\", element=\"51f370b6-c4c6-4d0c-8db1-a773aaa5c5d9\")>,\n",
       " <selenium.webdriver.remote.webelement.WebElement (session=\"c3be77d40ba0050ddae7059ac30b34dd\", element=\"45d272e0-a6c7-4274-8ad6-f26612520eb8\")>,\n",
       " <selenium.webdriver.remote.webelement.WebElement (session=\"c3be77d40ba0050ddae7059ac30b34dd\", element=\"dc223e72-aebf-47f8-bf7d-fc482bf53c29\")>,\n",
       " <selenium.webdriver.remote.webelement.WebElement (session=\"c3be77d40ba0050ddae7059ac30b34dd\", element=\"efe8485f-7c63-4166-9d38-53c2d58c8aad\")>,\n",
       " <selenium.webdriver.remote.webelement.WebElement (session=\"c3be77d40ba0050ddae7059ac30b34dd\", element=\"8a116f65-8151-4448-812f-e4cf3d2e0b62\")>,\n",
       " <selenium.webdriver.remote.webelement.WebElement (session=\"c3be77d40ba0050ddae7059ac30b34dd\", element=\"e8a80909-2dd1-4ba2-ab01-fc535815115b\")>,\n",
       " <selenium.webdriver.remote.webelement.WebElement (session=\"c3be77d40ba0050ddae7059ac30b34dd\", element=\"c2ba546d-2d36-491f-81a0-bd5f6cbf58ed\")>]"
      ]
     },
     "execution_count": 273,
     "metadata": {},
     "output_type": "execute_result"
    }
   ],
   "source": [
    "#let's extract all the tags having the average salary\n",
    "average_salary=driver.find_elements_by_xpath(\"//p[@class='d-block d-md-none m-0']\")\n",
    "average_salary[0:10]"
   ]
  },
  {
   "cell_type": "code",
   "execution_count": 274,
   "metadata": {},
   "outputs": [
    {
     "data": {
      "text/plain": [
       "['₹ 12,64,182/yr',\n",
       " '₹ 7,30,968/yr',\n",
       " '₹ 6,00,000/yr',\n",
       " '₹ 9,94,055/yr',\n",
       " '₹ 7,39,040/yr',\n",
       " '₹ 13,37,114/yr',\n",
       " '₹ 7,80,374/yr',\n",
       " '₹ 11,98,792/yr',\n",
       " '₹ 10,08,143/yr',\n",
       " '₹ 11,34,989/yr']"
      ]
     },
     "execution_count": 274,
     "metadata": {},
     "output_type": "execute_result"
    }
   ],
   "source": [
    "#Now extract the text inside the tags using a for loop to iterate over all the tags\n",
    "for i in average_salary:\n",
    "    avegage_sal=i.text\n",
    "    avg_salary.append(avegage_sal)\n",
    "avg_salary[0:10]"
   ]
  },
  {
   "cell_type": "code",
   "execution_count": 275,
   "metadata": {},
   "outputs": [
    {
     "data": {
      "text/plain": [
       "[<selenium.webdriver.remote.webelement.WebElement (session=\"c3be77d40ba0050ddae7059ac30b34dd\", element=\"6d424021-5732-4399-9539-9c2e18e7d01d\")>,\n",
       " <selenium.webdriver.remote.webelement.WebElement (session=\"c3be77d40ba0050ddae7059ac30b34dd\", element=\"67914ae9-67e5-47da-915a-f221501dcd5d\")>,\n",
       " <selenium.webdriver.remote.webelement.WebElement (session=\"c3be77d40ba0050ddae7059ac30b34dd\", element=\"578a914a-5036-4e8e-bcf2-f3af4fa1ffdf\")>,\n",
       " <selenium.webdriver.remote.webelement.WebElement (session=\"c3be77d40ba0050ddae7059ac30b34dd\", element=\"aaad2000-8423-4e91-97f8-2141cc12d65f\")>,\n",
       " <selenium.webdriver.remote.webelement.WebElement (session=\"c3be77d40ba0050ddae7059ac30b34dd\", element=\"2374767a-d1d5-4027-9d9f-338a20dc5770\")>,\n",
       " <selenium.webdriver.remote.webelement.WebElement (session=\"c3be77d40ba0050ddae7059ac30b34dd\", element=\"a219ca00-dacc-4789-8c17-a458836c6eae\")>,\n",
       " <selenium.webdriver.remote.webelement.WebElement (session=\"c3be77d40ba0050ddae7059ac30b34dd\", element=\"4c66351e-c89d-46a3-936f-8248e72f3f79\")>,\n",
       " <selenium.webdriver.remote.webelement.WebElement (session=\"c3be77d40ba0050ddae7059ac30b34dd\", element=\"7ab53909-a454-44b5-9bb3-81d794ada760\")>,\n",
       " <selenium.webdriver.remote.webelement.WebElement (session=\"c3be77d40ba0050ddae7059ac30b34dd\", element=\"94e13f60-a746-47a8-a850-1f7e74cdc949\")>,\n",
       " <selenium.webdriver.remote.webelement.WebElement (session=\"c3be77d40ba0050ddae7059ac30b34dd\", element=\"1e781b5e-85e8-4414-afe7-5a82de2b469c\")>]"
      ]
     },
     "execution_count": 275,
     "metadata": {},
     "output_type": "execute_result"
    }
   ],
   "source": [
    "#let's extract all the tags having the minimum salary\n",
    "salary_range=driver.find_elements_by_xpath(\"//p[@class='d-block d-md-none m-0 css-1kuy7z7']\")\n",
    "salary_range[0:10]"
   ]
  },
  {
   "cell_type": "code",
   "execution_count": 276,
   "metadata": {},
   "outputs": [
    {
     "data": {
      "text/plain": [
       "['Range: ₹450K - ₹11,630K',\n",
       " 'Range: ₹350K - ₹1,614K',\n",
       " 'Range: ₹336K - ₹1,010K',\n",
       " 'Range: ₹577K - ₹2,215K',\n",
       " 'Range: ₹587K - ₹2,732K',\n",
       " 'Range: ₹717K - ₹1,575K',\n",
       " 'Range: ₹502K - ₹1,152K',\n",
       " 'Range: ₹621K - ₹1,696K',\n",
       " 'Range: ₹793K - ₹1,264K',\n",
       " 'Range: ₹576K - ₹1,500K']"
      ]
     },
     "execution_count": 276,
     "metadata": {},
     "output_type": "execute_result"
    }
   ],
   "source": [
    "for i in salary_range:\n",
    "    sal_range=i.text\n",
    "    range_salary.append(sal_range)\n",
    "range_salary[0:10]"
   ]
  },
  {
   "cell_type": "code",
   "execution_count": null,
   "metadata": {},
   "outputs": [],
   "source": [
    "print(len(company_names),len(average_salary),len(salary_range),len(company_ratings))"
   ]
  },
  {
   "cell_type": "code",
   "execution_count": null,
   "metadata": {},
   "outputs": [],
   "source": [
    "companyinfo=pd.DataFrame({})\n",
    "companyinfo['comp_name']=company_names[0:10]\n",
    "companyinfo['comp_avg_sal']=average_salary[0:10]\n",
    "companyinfo['sal_range']=salary_range[0:10]\n",
    "companyinfo['company_rating']=company_ratings[0:10]"
   ]
  },
  {
   "cell_type": "raw",
   "metadata": {},
   "source": []
  },
  {
   "cell_type": "raw",
   "metadata": {},
   "source": [
    "Q6 : Scrape data of first 100 sunglasses listings on flipkart.com. You have to\n",
    "scrape four attributes:"
   ]
  },
  {
   "cell_type": "raw",
   "metadata": {},
   "source": []
  },
  {
   "cell_type": "code",
   "execution_count": 295,
   "metadata": {},
   "outputs": [],
   "source": [
    "#let's connect to the webdriver\n",
    "driver = webdriver.Chrome(\"C:/Users/key/AppData/Roaming/Microsoft/Windows/Start Menu/Programs/chromedriver_win32/chromedriver.exe\")"
   ]
  },
  {
   "cell_type": "code",
   "execution_count": 296,
   "metadata": {},
   "outputs": [],
   "source": [
    "driver.get('https://www.flipkart.com/')"
   ]
  },
  {
   "cell_type": "code",
   "execution_count": 298,
   "metadata": {},
   "outputs": [],
   "source": [
    "#finding element for job search bar\n",
    "search_job=driver.find_element_by_xpath(\"//input[@type='text']\")\n",
    "search_job.send_keys('sunglasses')"
   ]
  },
  {
   "cell_type": "code",
   "execution_count": 300,
   "metadata": {},
   "outputs": [],
   "source": [
    "search_btn=driver.find_element_by_xpath(\"//button[@class='L0Z3Pu']\")\n",
    "search_btn.click()"
   ]
  },
  {
   "cell_type": "code",
   "execution_count": 301,
   "metadata": {},
   "outputs": [],
   "source": [
    "#creating the empty lists to which the final scraped data from page 1 will be stored\n",
    "brand_name=[]\n",
    "product_description=[]\n",
    "product_price=[]\n",
    "discount_perc=[]"
   ]
  },
  {
   "cell_type": "code",
   "execution_count": 304,
   "metadata": {},
   "outputs": [
    {
     "data": {
      "text/plain": [
       "[<selenium.webdriver.remote.webelement.WebElement (session=\"bf04a3c7afa81683073eda816f7d7d34\", element=\"3ddc16c3-6f10-4bce-9b14-e63e11c58be6\")>,\n",
       " <selenium.webdriver.remote.webelement.WebElement (session=\"bf04a3c7afa81683073eda816f7d7d34\", element=\"4fa50304-4442-4abf-8ce3-4538628dbb69\")>,\n",
       " <selenium.webdriver.remote.webelement.WebElement (session=\"bf04a3c7afa81683073eda816f7d7d34\", element=\"7939413a-d0e3-4fc8-a680-1c20bdb0d5a2\")>,\n",
       " <selenium.webdriver.remote.webelement.WebElement (session=\"bf04a3c7afa81683073eda816f7d7d34\", element=\"6861d46d-2ade-4e71-8bb2-321d978191f3\")>,\n",
       " <selenium.webdriver.remote.webelement.WebElement (session=\"bf04a3c7afa81683073eda816f7d7d34\", element=\"b38fca8a-cbad-47f2-b5c0-f4078be03ecb\")>,\n",
       " <selenium.webdriver.remote.webelement.WebElement (session=\"bf04a3c7afa81683073eda816f7d7d34\", element=\"e7e3eb29-5d5d-4965-afec-04a2353457b4\")>,\n",
       " <selenium.webdriver.remote.webelement.WebElement (session=\"bf04a3c7afa81683073eda816f7d7d34\", element=\"09ee81b6-b6a5-44a2-9a9a-c428e3ca253c\")>,\n",
       " <selenium.webdriver.remote.webelement.WebElement (session=\"bf04a3c7afa81683073eda816f7d7d34\", element=\"faf9d62b-66d1-4434-a131-1597eef243c8\")>,\n",
       " <selenium.webdriver.remote.webelement.WebElement (session=\"bf04a3c7afa81683073eda816f7d7d34\", element=\"5f58dbb6-805d-4fb9-ae94-de26da724752\")>,\n",
       " <selenium.webdriver.remote.webelement.WebElement (session=\"bf04a3c7afa81683073eda816f7d7d34\", element=\"89298fe0-0a28-48e9-ae08-afeceb5ba689\")>,\n",
       " <selenium.webdriver.remote.webelement.WebElement (session=\"bf04a3c7afa81683073eda816f7d7d34\", element=\"0117f479-5b12-41a9-a2d6-9abb6070ee24\")>,\n",
       " <selenium.webdriver.remote.webelement.WebElement (session=\"bf04a3c7afa81683073eda816f7d7d34\", element=\"8c2a5e56-7578-40ae-841d-29a1e5a3a57b\")>,\n",
       " <selenium.webdriver.remote.webelement.WebElement (session=\"bf04a3c7afa81683073eda816f7d7d34\", element=\"be61b843-bfb6-491b-bd5e-02ab6da4d371\")>,\n",
       " <selenium.webdriver.remote.webelement.WebElement (session=\"bf04a3c7afa81683073eda816f7d7d34\", element=\"c99a69ad-0771-4e65-9545-396c7dcce309\")>,\n",
       " <selenium.webdriver.remote.webelement.WebElement (session=\"bf04a3c7afa81683073eda816f7d7d34\", element=\"dfeb638c-f7ed-4688-9bf2-495d819165cf\")>,\n",
       " <selenium.webdriver.remote.webelement.WebElement (session=\"bf04a3c7afa81683073eda816f7d7d34\", element=\"f6b626ff-0429-4672-b9b2-c9b7fb4b1462\")>,\n",
       " <selenium.webdriver.remote.webelement.WebElement (session=\"bf04a3c7afa81683073eda816f7d7d34\", element=\"6513439c-c5ed-41dc-b8bc-a83911a69fbf\")>,\n",
       " <selenium.webdriver.remote.webelement.WebElement (session=\"bf04a3c7afa81683073eda816f7d7d34\", element=\"e0d0b488-cee6-482c-8a9a-6d5ef4adba25\")>,\n",
       " <selenium.webdriver.remote.webelement.WebElement (session=\"bf04a3c7afa81683073eda816f7d7d34\", element=\"ec41553e-eb91-4ed9-83a2-f25e8f78cc16\")>,\n",
       " <selenium.webdriver.remote.webelement.WebElement (session=\"bf04a3c7afa81683073eda816f7d7d34\", element=\"664c7258-ddc0-4644-94ea-a4f06ff69053\")>,\n",
       " <selenium.webdriver.remote.webelement.WebElement (session=\"bf04a3c7afa81683073eda816f7d7d34\", element=\"b93b8d9c-0619-4d78-afdf-9629d384e452\")>,\n",
       " <selenium.webdriver.remote.webelement.WebElement (session=\"bf04a3c7afa81683073eda816f7d7d34\", element=\"a51b0a2f-8eea-44ed-9662-aff6b2f85e25\")>,\n",
       " <selenium.webdriver.remote.webelement.WebElement (session=\"bf04a3c7afa81683073eda816f7d7d34\", element=\"881ae489-b06c-4c3e-8019-8b689032e496\")>,\n",
       " <selenium.webdriver.remote.webelement.WebElement (session=\"bf04a3c7afa81683073eda816f7d7d34\", element=\"6d17e400-39d2-4d46-91ef-fd3243aef62e\")>,\n",
       " <selenium.webdriver.remote.webelement.WebElement (session=\"bf04a3c7afa81683073eda816f7d7d34\", element=\"964d3194-2327-472b-8051-ab5858993f81\")>,\n",
       " <selenium.webdriver.remote.webelement.WebElement (session=\"bf04a3c7afa81683073eda816f7d7d34\", element=\"51b3c07c-e6b9-4bc5-8ef2-d5f8798054bf\")>,\n",
       " <selenium.webdriver.remote.webelement.WebElement (session=\"bf04a3c7afa81683073eda816f7d7d34\", element=\"55d21403-734b-473d-9052-c282b4124b94\")>,\n",
       " <selenium.webdriver.remote.webelement.WebElement (session=\"bf04a3c7afa81683073eda816f7d7d34\", element=\"6ccb3b83-ae31-4086-b91e-d9aac89f79ed\")>,\n",
       " <selenium.webdriver.remote.webelement.WebElement (session=\"bf04a3c7afa81683073eda816f7d7d34\", element=\"a7b9a9eb-8072-45b0-bec9-8f2b730ddb61\")>,\n",
       " <selenium.webdriver.remote.webelement.WebElement (session=\"bf04a3c7afa81683073eda816f7d7d34\", element=\"462dd00b-6972-4462-93aa-5f28836e5c35\")>,\n",
       " <selenium.webdriver.remote.webelement.WebElement (session=\"bf04a3c7afa81683073eda816f7d7d34\", element=\"6f77f960-c40d-4779-a0ec-c25b7b2d27d9\")>,\n",
       " <selenium.webdriver.remote.webelement.WebElement (session=\"bf04a3c7afa81683073eda816f7d7d34\", element=\"6f4ef9a0-fe5c-4362-8071-127509a36670\")>,\n",
       " <selenium.webdriver.remote.webelement.WebElement (session=\"bf04a3c7afa81683073eda816f7d7d34\", element=\"97e097d9-00d0-494f-a43d-e6c511c699b3\")>,\n",
       " <selenium.webdriver.remote.webelement.WebElement (session=\"bf04a3c7afa81683073eda816f7d7d34\", element=\"0784712c-bba6-4e17-93f3-d00c3ad39e05\")>,\n",
       " <selenium.webdriver.remote.webelement.WebElement (session=\"bf04a3c7afa81683073eda816f7d7d34\", element=\"816f15fa-adf2-4990-aaf5-e77ec8ce5e84\")>,\n",
       " <selenium.webdriver.remote.webelement.WebElement (session=\"bf04a3c7afa81683073eda816f7d7d34\", element=\"cf4c8003-a9b2-494f-880f-b65666480750\")>,\n",
       " <selenium.webdriver.remote.webelement.WebElement (session=\"bf04a3c7afa81683073eda816f7d7d34\", element=\"5d6753af-3b80-4aa6-8ecf-8c603549c2bb\")>,\n",
       " <selenium.webdriver.remote.webelement.WebElement (session=\"bf04a3c7afa81683073eda816f7d7d34\", element=\"b282caa8-0ee3-491a-a388-2d910fbbc5bc\")>,\n",
       " <selenium.webdriver.remote.webelement.WebElement (session=\"bf04a3c7afa81683073eda816f7d7d34\", element=\"8615117e-e6ad-4e48-915f-83888b559289\")>,\n",
       " <selenium.webdriver.remote.webelement.WebElement (session=\"bf04a3c7afa81683073eda816f7d7d34\", element=\"9367f47a-0c5c-4758-9b49-9476bd5a2757\")>]"
      ]
     },
     "execution_count": 304,
     "metadata": {},
     "output_type": "execute_result"
    }
   ],
   "source": [
    "#let's extract all the tags having the brand name\n",
    "brand=driver.find_elements_by_xpath(\"//div[@class='_2WkVRV']\")\n",
    "brand[0:40]"
   ]
  },
  {
   "cell_type": "code",
   "execution_count": 305,
   "metadata": {},
   "outputs": [
    {
     "data": {
      "text/plain": [
       "['Royal Son',\n",
       " 'ROYAL SON',\n",
       " 'ROZZETTA CRAFT',\n",
       " 'Fastrack',\n",
       " 'Fastrack',\n",
       " 'Fastrack',\n",
       " 'Rozzetta Craft',\n",
       " 'ROZZETTA CRAFT',\n",
       " 'Phenomenal',\n",
       " 'Fastrack',\n",
       " 'Elligator',\n",
       " 'Fastrack',\n",
       " 'Fastrack',\n",
       " 'Royal Son',\n",
       " 'Fastrack',\n",
       " 'shah collections',\n",
       " 'Phenomenal',\n",
       " 'PIRASO',\n",
       " 'shah collections',\n",
       " 'Royal Son',\n",
       " 'Fastrack',\n",
       " 'Gansta',\n",
       " 'Fastrack',\n",
       " 'Royal Son',\n",
       " 'PIRASO',\n",
       " 'LOPO',\n",
       " 'Royal Son',\n",
       " 'NuVew',\n",
       " 'Deixels',\n",
       " 'STYLE GURU',\n",
       " 'ROZZETTA CRAFT',\n",
       " 'Online Mantra',\n",
       " 'kingsunglasses',\n",
       " 'Adrenex',\n",
       " 'Rozzetta Craft',\n",
       " 'EYELLUSION',\n",
       " 'PIRASO',\n",
       " 'Fastrack',\n",
       " 'like future',\n",
       " 'NuVew']"
      ]
     },
     "execution_count": 305,
     "metadata": {},
     "output_type": "execute_result"
    }
   ],
   "source": [
    "#Now extract the text inside the tags using a for loop to iterate over all the tags\n",
    "for i in brand:\n",
    "    brands=i.text\n",
    "    brand_name.append(brands)\n",
    "brand_name[0:40]"
   ]
  },
  {
   "cell_type": "code",
   "execution_count": 307,
   "metadata": {},
   "outputs": [
    {
     "data": {
      "text/plain": [
       "[<selenium.webdriver.remote.webelement.WebElement (session=\"bf04a3c7afa81683073eda816f7d7d34\", element=\"3c6f8dc7-46a4-4836-8355-77c0ba8a6033\")>,\n",
       " <selenium.webdriver.remote.webelement.WebElement (session=\"bf04a3c7afa81683073eda816f7d7d34\", element=\"52785a77-7244-4f94-873d-281e89bce928\")>,\n",
       " <selenium.webdriver.remote.webelement.WebElement (session=\"bf04a3c7afa81683073eda816f7d7d34\", element=\"45859f55-1d9d-468a-9f30-c3251d9b5928\")>,\n",
       " <selenium.webdriver.remote.webelement.WebElement (session=\"bf04a3c7afa81683073eda816f7d7d34\", element=\"9df05e9b-0541-46b0-a96a-150e2bd52d15\")>,\n",
       " <selenium.webdriver.remote.webelement.WebElement (session=\"bf04a3c7afa81683073eda816f7d7d34\", element=\"84212fff-54a3-4a6a-8d20-1b48c27f662d\")>,\n",
       " <selenium.webdriver.remote.webelement.WebElement (session=\"bf04a3c7afa81683073eda816f7d7d34\", element=\"b236c64e-0a40-4c42-b231-a6e871af4028\")>,\n",
       " <selenium.webdriver.remote.webelement.WebElement (session=\"bf04a3c7afa81683073eda816f7d7d34\", element=\"c3660f61-e198-4bbd-b227-a7131db68718\")>,\n",
       " <selenium.webdriver.remote.webelement.WebElement (session=\"bf04a3c7afa81683073eda816f7d7d34\", element=\"a2f3301a-35e5-48d9-9d45-7eb17ccb6993\")>,\n",
       " <selenium.webdriver.remote.webelement.WebElement (session=\"bf04a3c7afa81683073eda816f7d7d34\", element=\"c2c5f01e-e929-4095-aa76-7ee205dbef2d\")>,\n",
       " <selenium.webdriver.remote.webelement.WebElement (session=\"bf04a3c7afa81683073eda816f7d7d34\", element=\"b68246f3-ffd8-4f59-9719-25d446e9de27\")>,\n",
       " <selenium.webdriver.remote.webelement.WebElement (session=\"bf04a3c7afa81683073eda816f7d7d34\", element=\"8079dca7-badf-4834-89b5-96939edfc722\")>,\n",
       " <selenium.webdriver.remote.webelement.WebElement (session=\"bf04a3c7afa81683073eda816f7d7d34\", element=\"44e88733-c55a-4b62-b7e3-90a38eec6dd2\")>,\n",
       " <selenium.webdriver.remote.webelement.WebElement (session=\"bf04a3c7afa81683073eda816f7d7d34\", element=\"c8331de2-e3f1-4712-af2d-7f955c3764e3\")>,\n",
       " <selenium.webdriver.remote.webelement.WebElement (session=\"bf04a3c7afa81683073eda816f7d7d34\", element=\"0f574c1d-4d78-43f9-81a7-2656914266a8\")>,\n",
       " <selenium.webdriver.remote.webelement.WebElement (session=\"bf04a3c7afa81683073eda816f7d7d34\", element=\"e5869c3d-5d05-45f1-b203-75983657bfb4\")>,\n",
       " <selenium.webdriver.remote.webelement.WebElement (session=\"bf04a3c7afa81683073eda816f7d7d34\", element=\"51a04902-14c5-4077-ac6a-ace49b09b988\")>,\n",
       " <selenium.webdriver.remote.webelement.WebElement (session=\"bf04a3c7afa81683073eda816f7d7d34\", element=\"dec493d2-5b94-44c5-8a6e-f4d23ec2110c\")>,\n",
       " <selenium.webdriver.remote.webelement.WebElement (session=\"bf04a3c7afa81683073eda816f7d7d34\", element=\"e6fd7816-1e59-47a7-8370-1173041536ef\")>,\n",
       " <selenium.webdriver.remote.webelement.WebElement (session=\"bf04a3c7afa81683073eda816f7d7d34\", element=\"4d9b0472-e9ea-4d9b-a063-c466c4e56c68\")>,\n",
       " <selenium.webdriver.remote.webelement.WebElement (session=\"bf04a3c7afa81683073eda816f7d7d34\", element=\"de7df258-b850-4b34-83a4-b6df698027b5\")>,\n",
       " <selenium.webdriver.remote.webelement.WebElement (session=\"bf04a3c7afa81683073eda816f7d7d34\", element=\"f9b25265-a764-45f4-aed9-b60190553d52\")>,\n",
       " <selenium.webdriver.remote.webelement.WebElement (session=\"bf04a3c7afa81683073eda816f7d7d34\", element=\"8d90d6e3-2934-4b53-94df-a525b51cf825\")>,\n",
       " <selenium.webdriver.remote.webelement.WebElement (session=\"bf04a3c7afa81683073eda816f7d7d34\", element=\"04261dfb-915a-411e-b87f-ad8bc8771976\")>,\n",
       " <selenium.webdriver.remote.webelement.WebElement (session=\"bf04a3c7afa81683073eda816f7d7d34\", element=\"d14e08e5-2519-474c-9bf2-3fec036b9df0\")>,\n",
       " <selenium.webdriver.remote.webelement.WebElement (session=\"bf04a3c7afa81683073eda816f7d7d34\", element=\"45b48531-54eb-4c43-980d-e526fe111c2c\")>,\n",
       " <selenium.webdriver.remote.webelement.WebElement (session=\"bf04a3c7afa81683073eda816f7d7d34\", element=\"92c6912c-5f4e-4b14-b0f8-012c3e68acfd\")>,\n",
       " <selenium.webdriver.remote.webelement.WebElement (session=\"bf04a3c7afa81683073eda816f7d7d34\", element=\"7a8ea6a4-ae30-43d2-bc33-924009579ca7\")>,\n",
       " <selenium.webdriver.remote.webelement.WebElement (session=\"bf04a3c7afa81683073eda816f7d7d34\", element=\"17a05832-bda4-4389-8e45-2385dc5cb4dc\")>,\n",
       " <selenium.webdriver.remote.webelement.WebElement (session=\"bf04a3c7afa81683073eda816f7d7d34\", element=\"ef5332ea-9b4d-4678-b66e-e4165bcdded0\")>,\n",
       " <selenium.webdriver.remote.webelement.WebElement (session=\"bf04a3c7afa81683073eda816f7d7d34\", element=\"0caa887b-b7dc-4b8a-80c6-cf8ffd1c1e3b\")>,\n",
       " <selenium.webdriver.remote.webelement.WebElement (session=\"bf04a3c7afa81683073eda816f7d7d34\", element=\"4c809c0e-93b1-4b40-9dfc-972a191f574e\")>,\n",
       " <selenium.webdriver.remote.webelement.WebElement (session=\"bf04a3c7afa81683073eda816f7d7d34\", element=\"98f4f6fc-2d88-454d-90a5-0aed13412620\")>,\n",
       " <selenium.webdriver.remote.webelement.WebElement (session=\"bf04a3c7afa81683073eda816f7d7d34\", element=\"ff981163-adc4-4072-9e9d-8ca8d38d69f0\")>,\n",
       " <selenium.webdriver.remote.webelement.WebElement (session=\"bf04a3c7afa81683073eda816f7d7d34\", element=\"f31de89c-2103-47d6-8150-1a42abf463ef\")>,\n",
       " <selenium.webdriver.remote.webelement.WebElement (session=\"bf04a3c7afa81683073eda816f7d7d34\", element=\"e606066a-3dfb-41b6-a118-e3263bdde252\")>,\n",
       " <selenium.webdriver.remote.webelement.WebElement (session=\"bf04a3c7afa81683073eda816f7d7d34\", element=\"1d40c295-d494-4fc9-b779-e924715e1e0d\")>,\n",
       " <selenium.webdriver.remote.webelement.WebElement (session=\"bf04a3c7afa81683073eda816f7d7d34\", element=\"73f4e06c-216b-44c1-be3c-5d67619928d4\")>]"
      ]
     },
     "execution_count": 307,
     "metadata": {},
     "output_type": "execute_result"
    }
   ],
   "source": [
    "#let's extract all the tags having the product description\n",
    "description=driver.find_elements_by_xpath(\"//a[@class='IRpwTa']\")\n",
    "description[0:40]"
   ]
  },
  {
   "cell_type": "code",
   "execution_count": 308,
   "metadata": {},
   "outputs": [
    {
     "data": {
      "text/plain": [
       "['Mirrored Aviator Sunglasses (55)',\n",
       " 'UV Protection Retro Square Sunglasses (88)',\n",
       " 'UV Protection Retro Square Sunglasses (Free Size)',\n",
       " 'UV Protection Aviator Sunglasses (Free Size)',\n",
       " 'Gradient, UV Protection Wayfarer Sunglasses (Free Size)',\n",
       " 'Gradient, UV Protection Wayfarer Sunglasses (Free Size)',\n",
       " 'UV Protection Rectangular Sunglasses (Free Size)',\n",
       " 'UV Protection, Gradient Rectangular Sunglasses (Free Si...',\n",
       " 'UV Protection Retro Square Sunglasses (Free Size)',\n",
       " 'UV Protection Wayfarer Sunglasses (56)',\n",
       " 'UV Protection Round Sunglasses (54)',\n",
       " 'Gradient, UV Protection Wayfarer Sunglasses (Free Size)',\n",
       " 'UV Protection Wayfarer Sunglasses (Free Size)',\n",
       " 'UV Protection Wayfarer Sunglasses (Free Size)',\n",
       " 'UV Protection, Polarized, Mirrored Rectangular Sunglass...',\n",
       " 'UV Protection, Mirrored Retro Square Sunglasses (53)',\n",
       " 'UV Protection Aviator Sunglasses (Free Size)',\n",
       " 'UV Protection Round Sunglasses (Free Size)',\n",
       " 'Gradient Retro Square Sunglasses (58)',\n",
       " 'UV Protection Aviator Sunglasses (58)',\n",
       " 'UV Protection Aviator Sunglasses (57)',\n",
       " 'Mirrored, UV Protection Wayfarer Sunglasses (Free Size)',\n",
       " 'UV Protection Rectangular Sunglasses (58)',\n",
       " 'UV Protection Aviator Sunglasses (54)',\n",
       " 'Polarized, Mirrored, UV Protection Retro Square, Over-s...',\n",
       " 'UV Protection Wayfarer Sunglasses (55)',\n",
       " 'UV Protection Aviator Sunglasses (58)',\n",
       " 'UV Protection Wayfarer Sunglasses (Free Size)',\n",
       " 'UV Protection Aviator Sunglasses (Free Size)',\n",
       " 'UV Protection Retro Square Sunglasses (Free Size)',\n",
       " 'Mirrored, UV Protection Wayfarer, Wayfarer, Wayfarer, W...',\n",
       " 'Polarized, UV Protection Sports Sunglasses (60)',\n",
       " 'UV Protection Shield Sunglasses (54)',\n",
       " 'Night Vision, Polarized, UV Protection, Riding Glasses ...',\n",
       " 'UV Protection Aviator Sunglasses (54)',\n",
       " 'UV Protection Rectangular Sunglasses (Free Size)',\n",
       " 'UV Protection Aviator Sunglasses (Free Size)']"
      ]
     },
     "execution_count": 308,
     "metadata": {},
     "output_type": "execute_result"
    }
   ],
   "source": [
    "#Now extract the text inside the tags using a for loop to iterate over all the tags\n",
    "for i in description:\n",
    "    descriptions=i.text\n",
    "    product_description.append(descriptions)\n",
    "product_description[0:40]"
   ]
  },
  {
   "cell_type": "code",
   "execution_count": 309,
   "metadata": {},
   "outputs": [
    {
     "data": {
      "text/plain": [
       "[<selenium.webdriver.remote.webelement.WebElement (session=\"bf04a3c7afa81683073eda816f7d7d34\", element=\"0aa0d137-07ab-4fb6-816d-a103e4e0efed\")>,\n",
       " <selenium.webdriver.remote.webelement.WebElement (session=\"bf04a3c7afa81683073eda816f7d7d34\", element=\"be865a40-818a-4281-a78b-fd55fd81e27e\")>,\n",
       " <selenium.webdriver.remote.webelement.WebElement (session=\"bf04a3c7afa81683073eda816f7d7d34\", element=\"f7bc9f80-d971-465d-966a-6f131fee3a4f\")>,\n",
       " <selenium.webdriver.remote.webelement.WebElement (session=\"bf04a3c7afa81683073eda816f7d7d34\", element=\"b446d870-ba5d-4820-a03f-1b650e817905\")>,\n",
       " <selenium.webdriver.remote.webelement.WebElement (session=\"bf04a3c7afa81683073eda816f7d7d34\", element=\"f28bb23f-ebd5-4927-b05e-97a65d454d54\")>,\n",
       " <selenium.webdriver.remote.webelement.WebElement (session=\"bf04a3c7afa81683073eda816f7d7d34\", element=\"8a1b264f-19ce-41cd-950a-3756725d4f3e\")>,\n",
       " <selenium.webdriver.remote.webelement.WebElement (session=\"bf04a3c7afa81683073eda816f7d7d34\", element=\"955e58a2-bd79-49a9-8e0d-5bfdb74c36f5\")>,\n",
       " <selenium.webdriver.remote.webelement.WebElement (session=\"bf04a3c7afa81683073eda816f7d7d34\", element=\"b7d07e71-c4ae-4b1f-b46f-22a3f531ec17\")>,\n",
       " <selenium.webdriver.remote.webelement.WebElement (session=\"bf04a3c7afa81683073eda816f7d7d34\", element=\"eeb724fd-e43a-4f4c-84d4-e19a49ed87d2\")>,\n",
       " <selenium.webdriver.remote.webelement.WebElement (session=\"bf04a3c7afa81683073eda816f7d7d34\", element=\"3117e178-c38f-4098-bb49-7656e77256b7\")>,\n",
       " <selenium.webdriver.remote.webelement.WebElement (session=\"bf04a3c7afa81683073eda816f7d7d34\", element=\"2280a764-bc5b-4d16-9fda-6f8fbc5b3273\")>,\n",
       " <selenium.webdriver.remote.webelement.WebElement (session=\"bf04a3c7afa81683073eda816f7d7d34\", element=\"6c54c3ca-9b6c-4109-97a5-7e7e7a6f7ee6\")>,\n",
       " <selenium.webdriver.remote.webelement.WebElement (session=\"bf04a3c7afa81683073eda816f7d7d34\", element=\"93cbce2e-02ae-4dce-aff9-d5fcb074c2f5\")>,\n",
       " <selenium.webdriver.remote.webelement.WebElement (session=\"bf04a3c7afa81683073eda816f7d7d34\", element=\"75b827a5-888a-4d86-b6f6-f1aba7e3d72f\")>,\n",
       " <selenium.webdriver.remote.webelement.WebElement (session=\"bf04a3c7afa81683073eda816f7d7d34\", element=\"ef84e98e-a9ec-431c-b14c-5901f5870e0e\")>,\n",
       " <selenium.webdriver.remote.webelement.WebElement (session=\"bf04a3c7afa81683073eda816f7d7d34\", element=\"bf40703e-c062-4242-bb79-9e896d04d2e8\")>,\n",
       " <selenium.webdriver.remote.webelement.WebElement (session=\"bf04a3c7afa81683073eda816f7d7d34\", element=\"17623134-fb91-4a65-b48f-b249ae6a49f8\")>,\n",
       " <selenium.webdriver.remote.webelement.WebElement (session=\"bf04a3c7afa81683073eda816f7d7d34\", element=\"bd0392e5-07ea-4a5c-ba7a-779992c78b78\")>,\n",
       " <selenium.webdriver.remote.webelement.WebElement (session=\"bf04a3c7afa81683073eda816f7d7d34\", element=\"5fdb6ce7-97e7-435b-b5f8-9e3fda6a8ddd\")>,\n",
       " <selenium.webdriver.remote.webelement.WebElement (session=\"bf04a3c7afa81683073eda816f7d7d34\", element=\"bd878431-8713-4b85-8f69-257bf12b6365\")>,\n",
       " <selenium.webdriver.remote.webelement.WebElement (session=\"bf04a3c7afa81683073eda816f7d7d34\", element=\"e5846740-0aa8-4f05-a637-affe2bc862c3\")>,\n",
       " <selenium.webdriver.remote.webelement.WebElement (session=\"bf04a3c7afa81683073eda816f7d7d34\", element=\"a34ffc99-8300-49f6-b6dd-13a91f85dc67\")>,\n",
       " <selenium.webdriver.remote.webelement.WebElement (session=\"bf04a3c7afa81683073eda816f7d7d34\", element=\"c0af4cfb-99f2-4411-a49d-cfa789c99181\")>,\n",
       " <selenium.webdriver.remote.webelement.WebElement (session=\"bf04a3c7afa81683073eda816f7d7d34\", element=\"55e77eca-3107-4160-b633-a3a2c96a6849\")>,\n",
       " <selenium.webdriver.remote.webelement.WebElement (session=\"bf04a3c7afa81683073eda816f7d7d34\", element=\"32b1d4aa-a589-486d-afdc-53e91e8e9496\")>,\n",
       " <selenium.webdriver.remote.webelement.WebElement (session=\"bf04a3c7afa81683073eda816f7d7d34\", element=\"bb5bcd3c-5b65-44f2-9866-23c78355c646\")>,\n",
       " <selenium.webdriver.remote.webelement.WebElement (session=\"bf04a3c7afa81683073eda816f7d7d34\", element=\"e8e384b6-ce4c-4816-a21b-9c5a70743c7a\")>,\n",
       " <selenium.webdriver.remote.webelement.WebElement (session=\"bf04a3c7afa81683073eda816f7d7d34\", element=\"89f43155-5d9b-4bd3-9b87-7889c6a7e927\")>,\n",
       " <selenium.webdriver.remote.webelement.WebElement (session=\"bf04a3c7afa81683073eda816f7d7d34\", element=\"ad630e6b-d8de-4308-8ab0-d49c985098f0\")>,\n",
       " <selenium.webdriver.remote.webelement.WebElement (session=\"bf04a3c7afa81683073eda816f7d7d34\", element=\"01f87f98-be39-4464-99c1-579301cf06be\")>,\n",
       " <selenium.webdriver.remote.webelement.WebElement (session=\"bf04a3c7afa81683073eda816f7d7d34\", element=\"18a44afd-33de-4f81-8ff9-8485ecc6ddd5\")>,\n",
       " <selenium.webdriver.remote.webelement.WebElement (session=\"bf04a3c7afa81683073eda816f7d7d34\", element=\"d26be4d1-08be-4103-a299-c2bd5939bad8\")>,\n",
       " <selenium.webdriver.remote.webelement.WebElement (session=\"bf04a3c7afa81683073eda816f7d7d34\", element=\"0c27fa0a-7053-4978-8c23-835fd7cc3ecf\")>,\n",
       " <selenium.webdriver.remote.webelement.WebElement (session=\"bf04a3c7afa81683073eda816f7d7d34\", element=\"d8cae494-5c63-4258-9000-a0f7df626af7\")>,\n",
       " <selenium.webdriver.remote.webelement.WebElement (session=\"bf04a3c7afa81683073eda816f7d7d34\", element=\"c987ec78-212c-43fb-be19-3033f1dd1740\")>,\n",
       " <selenium.webdriver.remote.webelement.WebElement (session=\"bf04a3c7afa81683073eda816f7d7d34\", element=\"896118b7-0f46-40f1-a87e-76463bbc29e7\")>,\n",
       " <selenium.webdriver.remote.webelement.WebElement (session=\"bf04a3c7afa81683073eda816f7d7d34\", element=\"f70e3c3e-723f-4837-b16f-160a4b809c69\")>,\n",
       " <selenium.webdriver.remote.webelement.WebElement (session=\"bf04a3c7afa81683073eda816f7d7d34\", element=\"28730ab2-13ea-486c-a06d-2068341fc109\")>,\n",
       " <selenium.webdriver.remote.webelement.WebElement (session=\"bf04a3c7afa81683073eda816f7d7d34\", element=\"56486c66-9dc3-4090-a5e6-c701656cdc2d\")>,\n",
       " <selenium.webdriver.remote.webelement.WebElement (session=\"bf04a3c7afa81683073eda816f7d7d34\", element=\"ac2d4309-0c33-4597-9538-61b1cb17ea40\")>]"
      ]
     },
     "execution_count": 309,
     "metadata": {},
     "output_type": "execute_result"
    }
   ],
   "source": [
    "#let's extract all the tags having the product price\n",
    "price=driver.find_elements_by_xpath(\"//div[@class='_30jeq3']\")\n",
    "price[0:40]"
   ]
  },
  {
   "cell_type": "code",
   "execution_count": 310,
   "metadata": {},
   "outputs": [
    {
     "data": {
      "text/plain": [
       "['₹379',\n",
       " '₹599',\n",
       " '₹499',\n",
       " '₹537',\n",
       " '₹700',\n",
       " '₹659',\n",
       " '₹398',\n",
       " '₹404',\n",
       " '₹399',\n",
       " '₹783',\n",
       " '₹329',\n",
       " '₹646',\n",
       " '₹674',\n",
       " '₹664',\n",
       " '₹761',\n",
       " '₹227',\n",
       " '₹399',\n",
       " '₹314',\n",
       " '₹331',\n",
       " '₹499',\n",
       " '₹1,123',\n",
       " '₹284',\n",
       " '₹873',\n",
       " '₹474',\n",
       " '₹225',\n",
       " '₹169',\n",
       " '₹279',\n",
       " '₹195',\n",
       " '₹189',\n",
       " '₹799',\n",
       " '₹499',\n",
       " '₹151',\n",
       " '₹284',\n",
       " '₹699',\n",
       " '₹499',\n",
       " '₹344',\n",
       " '₹225',\n",
       " '₹758',\n",
       " '₹171',\n",
       " '₹396']"
      ]
     },
     "execution_count": 310,
     "metadata": {},
     "output_type": "execute_result"
    }
   ],
   "source": [
    "#Now extract the text inside the tags using a for loop to iterate over all the tags\n",
    "for i in price:\n",
    "    prices=i.text\n",
    "    product_price.append(prices)\n",
    "product_price[0:40]"
   ]
  },
  {
   "cell_type": "code",
   "execution_count": 311,
   "metadata": {},
   "outputs": [
    {
     "data": {
      "text/plain": [
       "[<selenium.webdriver.remote.webelement.WebElement (session=\"bf04a3c7afa81683073eda816f7d7d34\", element=\"aa8f13c5-b0af-4ef3-b6b5-96b2aaa03e77\")>,\n",
       " <selenium.webdriver.remote.webelement.WebElement (session=\"bf04a3c7afa81683073eda816f7d7d34\", element=\"b3eab98c-93d1-4dd9-adde-3015f5f0aa04\")>,\n",
       " <selenium.webdriver.remote.webelement.WebElement (session=\"bf04a3c7afa81683073eda816f7d7d34\", element=\"ca997a3d-6fe2-4166-8daa-3f52f4926ac7\")>,\n",
       " <selenium.webdriver.remote.webelement.WebElement (session=\"bf04a3c7afa81683073eda816f7d7d34\", element=\"df150298-9b22-4b61-971a-6dfda7a8a08a\")>,\n",
       " <selenium.webdriver.remote.webelement.WebElement (session=\"bf04a3c7afa81683073eda816f7d7d34\", element=\"4248628a-dd69-42f0-9221-161489a9f71d\")>,\n",
       " <selenium.webdriver.remote.webelement.WebElement (session=\"bf04a3c7afa81683073eda816f7d7d34\", element=\"e591fa2f-7501-4e05-b5d0-fdcc5d5407e8\")>,\n",
       " <selenium.webdriver.remote.webelement.WebElement (session=\"bf04a3c7afa81683073eda816f7d7d34\", element=\"22049968-916a-41e0-ba29-8bd9f1f214eb\")>,\n",
       " <selenium.webdriver.remote.webelement.WebElement (session=\"bf04a3c7afa81683073eda816f7d7d34\", element=\"520c3588-b79f-4670-b62e-6e81edeceb4f\")>,\n",
       " <selenium.webdriver.remote.webelement.WebElement (session=\"bf04a3c7afa81683073eda816f7d7d34\", element=\"0b11ecfe-9a07-4e3c-8c11-b1d006e6ed77\")>,\n",
       " <selenium.webdriver.remote.webelement.WebElement (session=\"bf04a3c7afa81683073eda816f7d7d34\", element=\"a2d77648-4ac1-4a38-bd87-fed170561635\")>,\n",
       " <selenium.webdriver.remote.webelement.WebElement (session=\"bf04a3c7afa81683073eda816f7d7d34\", element=\"1af3fff7-e076-404d-b8ce-9256445319a3\")>,\n",
       " <selenium.webdriver.remote.webelement.WebElement (session=\"bf04a3c7afa81683073eda816f7d7d34\", element=\"c0385533-6943-4fd6-9c4f-448a9154af03\")>,\n",
       " <selenium.webdriver.remote.webelement.WebElement (session=\"bf04a3c7afa81683073eda816f7d7d34\", element=\"d47117fd-588e-4854-88f6-a4d87e0fe773\")>,\n",
       " <selenium.webdriver.remote.webelement.WebElement (session=\"bf04a3c7afa81683073eda816f7d7d34\", element=\"1f0864fe-fc11-418d-a7cd-e70278b121bc\")>,\n",
       " <selenium.webdriver.remote.webelement.WebElement (session=\"bf04a3c7afa81683073eda816f7d7d34\", element=\"f4ff0fda-9289-44bf-83c6-a62af147e63d\")>,\n",
       " <selenium.webdriver.remote.webelement.WebElement (session=\"bf04a3c7afa81683073eda816f7d7d34\", element=\"4ba9090d-c118-487c-958f-a3cbccc3315e\")>,\n",
       " <selenium.webdriver.remote.webelement.WebElement (session=\"bf04a3c7afa81683073eda816f7d7d34\", element=\"186ab843-4021-482c-b24a-24a873ee1464\")>,\n",
       " <selenium.webdriver.remote.webelement.WebElement (session=\"bf04a3c7afa81683073eda816f7d7d34\", element=\"33f3d2a0-90cc-4acd-a41e-bf1139d6b3a1\")>,\n",
       " <selenium.webdriver.remote.webelement.WebElement (session=\"bf04a3c7afa81683073eda816f7d7d34\", element=\"126914de-e1e9-4c65-8e89-a272ee1ae02e\")>,\n",
       " <selenium.webdriver.remote.webelement.WebElement (session=\"bf04a3c7afa81683073eda816f7d7d34\", element=\"3e8804cf-0060-4926-b40a-d6469fc47e4c\")>,\n",
       " <selenium.webdriver.remote.webelement.WebElement (session=\"bf04a3c7afa81683073eda816f7d7d34\", element=\"4a2983a1-9538-4da6-a485-85d02e304ade\")>,\n",
       " <selenium.webdriver.remote.webelement.WebElement (session=\"bf04a3c7afa81683073eda816f7d7d34\", element=\"dcd443f2-6245-449a-b57a-830ff482ce69\")>,\n",
       " <selenium.webdriver.remote.webelement.WebElement (session=\"bf04a3c7afa81683073eda816f7d7d34\", element=\"3056b189-3389-4187-8669-b0434015308f\")>,\n",
       " <selenium.webdriver.remote.webelement.WebElement (session=\"bf04a3c7afa81683073eda816f7d7d34\", element=\"78e1a901-f9f7-49c6-8254-635441610a7e\")>,\n",
       " <selenium.webdriver.remote.webelement.WebElement (session=\"bf04a3c7afa81683073eda816f7d7d34\", element=\"bf94b2ad-c2fc-4d1a-99a3-6b9ba495bd08\")>,\n",
       " <selenium.webdriver.remote.webelement.WebElement (session=\"bf04a3c7afa81683073eda816f7d7d34\", element=\"740c9c8e-d411-4d37-892f-8cef04d10966\")>,\n",
       " <selenium.webdriver.remote.webelement.WebElement (session=\"bf04a3c7afa81683073eda816f7d7d34\", element=\"ae8f59eb-90a5-4a28-8ff8-ab527efb9611\")>,\n",
       " <selenium.webdriver.remote.webelement.WebElement (session=\"bf04a3c7afa81683073eda816f7d7d34\", element=\"19cfe8b3-9a35-4914-8451-0bf06308b7c6\")>,\n",
       " <selenium.webdriver.remote.webelement.WebElement (session=\"bf04a3c7afa81683073eda816f7d7d34\", element=\"44a3f325-711b-4a48-8cbb-79748aa231e8\")>,\n",
       " <selenium.webdriver.remote.webelement.WebElement (session=\"bf04a3c7afa81683073eda816f7d7d34\", element=\"4bd28d54-3f76-4cd4-8278-df3fa33b6d9d\")>,\n",
       " <selenium.webdriver.remote.webelement.WebElement (session=\"bf04a3c7afa81683073eda816f7d7d34\", element=\"3379cda6-c76f-4c01-aa43-8d8c269da5ae\")>,\n",
       " <selenium.webdriver.remote.webelement.WebElement (session=\"bf04a3c7afa81683073eda816f7d7d34\", element=\"cad65f41-93fa-4531-b805-6e6c5a783e6b\")>,\n",
       " <selenium.webdriver.remote.webelement.WebElement (session=\"bf04a3c7afa81683073eda816f7d7d34\", element=\"559fee02-5729-4526-8f15-db7c051eb3b0\")>,\n",
       " <selenium.webdriver.remote.webelement.WebElement (session=\"bf04a3c7afa81683073eda816f7d7d34\", element=\"83315aa7-6672-4aa5-895c-d3bdddc593b9\")>,\n",
       " <selenium.webdriver.remote.webelement.WebElement (session=\"bf04a3c7afa81683073eda816f7d7d34\", element=\"5ed703d8-854f-470b-ae46-458ea5f11635\")>,\n",
       " <selenium.webdriver.remote.webelement.WebElement (session=\"bf04a3c7afa81683073eda816f7d7d34\", element=\"68fbe7b7-cf0e-42ad-aa98-716a0417315c\")>,\n",
       " <selenium.webdriver.remote.webelement.WebElement (session=\"bf04a3c7afa81683073eda816f7d7d34\", element=\"d5f41253-ca92-4be7-872a-89cddadcf289\")>,\n",
       " <selenium.webdriver.remote.webelement.WebElement (session=\"bf04a3c7afa81683073eda816f7d7d34\", element=\"e6ddaa70-7277-4125-bba4-f474bf858545\")>,\n",
       " <selenium.webdriver.remote.webelement.WebElement (session=\"bf04a3c7afa81683073eda816f7d7d34\", element=\"31eaa0fe-863c-47db-976f-65001af3b50b\")>,\n",
       " <selenium.webdriver.remote.webelement.WebElement (session=\"bf04a3c7afa81683073eda816f7d7d34\", element=\"90ced3b5-399a-49fb-82f9-36d671f10ca8\")>]"
      ]
     },
     "execution_count": 311,
     "metadata": {},
     "output_type": "execute_result"
    }
   ],
   "source": [
    "#let's extract all the tags having the discount percentage\n",
    "discount=driver.find_elements_by_xpath(\"//div[@class='_3Ay6Sb']\")\n",
    "discount[0:40]"
   ]
  },
  {
   "cell_type": "code",
   "execution_count": 313,
   "metadata": {},
   "outputs": [
    {
     "data": {
      "text/plain": [
       "['74% off',\n",
       " '70% off',\n",
       " '77% off',\n",
       " '40% off',\n",
       " '12% off',\n",
       " '17% off',\n",
       " '73% off',\n",
       " '79% off',\n",
       " '80% off',\n",
       " '12% off',\n",
       " '86% off',\n",
       " '19% off',\n",
       " '15% off',\n",
       " '66% off',\n",
       " '15% off',\n",
       " '77% off',\n",
       " '80% off',\n",
       " '80% off',\n",
       " '80% off',\n",
       " '66% off',\n",
       " '13% off',\n",
       " '85% off',\n",
       " '12% off',\n",
       " '68% off',\n",
       " '85% off',\n",
       " '75% off',\n",
       " '78% off',\n",
       " '75% off',\n",
       " '89% off',\n",
       " '77% off',\n",
       " '77% off',\n",
       " '69% off',\n",
       " '81% off',\n",
       " '76% off',\n",
       " '80% off',\n",
       " '85% off',\n",
       " '85% off',\n",
       " '5% off',\n",
       " '84% off',\n",
       " '68% off']"
      ]
     },
     "execution_count": 313,
     "metadata": {},
     "output_type": "execute_result"
    }
   ],
   "source": [
    "#Now extract the text inside the tags using a for loop to iterate over all the tags\n",
    "for i in discount:\n",
    "    discounts=i.text\n",
    "    discount_perc.append(discounts)\n",
    "discount_perc[0:40]"
   ]
  },
  {
   "cell_type": "code",
   "execution_count": 314,
   "metadata": {},
   "outputs": [],
   "source": [
    "#scraping the elements of the next page(page2)\n",
    "driver.find_element_by_xpath(\"//a[@class='_1LKTO3']\").click()"
   ]
  },
  {
   "cell_type": "code",
   "execution_count": 319,
   "metadata": {},
   "outputs": [],
   "source": [
    "#creating the empty lists to which the final scraped data from page 2 will be stored\n",
    "brand_name2=[]\n",
    "product_description2=[]\n",
    "product_price2=[]\n",
    "discount_perc2=[]"
   ]
  },
  {
   "cell_type": "code",
   "execution_count": 317,
   "metadata": {},
   "outputs": [
    {
     "data": {
      "text/plain": [
       "[<selenium.webdriver.remote.webelement.WebElement (session=\"bf04a3c7afa81683073eda816f7d7d34\", element=\"1fc58628-9246-42e2-a171-e3884336a8b1\")>,\n",
       " <selenium.webdriver.remote.webelement.WebElement (session=\"bf04a3c7afa81683073eda816f7d7d34\", element=\"53910922-96ac-46e0-8bd7-07a7b16ec76e\")>,\n",
       " <selenium.webdriver.remote.webelement.WebElement (session=\"bf04a3c7afa81683073eda816f7d7d34\", element=\"61513c9c-1447-422d-b6a1-029afb0ea4ab\")>,\n",
       " <selenium.webdriver.remote.webelement.WebElement (session=\"bf04a3c7afa81683073eda816f7d7d34\", element=\"cc1c6599-644b-43e1-929d-1d17d7fda773\")>,\n",
       " <selenium.webdriver.remote.webelement.WebElement (session=\"bf04a3c7afa81683073eda816f7d7d34\", element=\"a57f5c87-b452-4448-ae2f-ab0b5c1c6c0e\")>,\n",
       " <selenium.webdriver.remote.webelement.WebElement (session=\"bf04a3c7afa81683073eda816f7d7d34\", element=\"b1c9e2b8-0a5a-4116-b938-22d2279cb75b\")>,\n",
       " <selenium.webdriver.remote.webelement.WebElement (session=\"bf04a3c7afa81683073eda816f7d7d34\", element=\"dd8dd5c5-3406-4e7a-bd56-8ae9c281a95b\")>,\n",
       " <selenium.webdriver.remote.webelement.WebElement (session=\"bf04a3c7afa81683073eda816f7d7d34\", element=\"14f0db6e-aea2-4506-b848-07a4c9b9ca2c\")>,\n",
       " <selenium.webdriver.remote.webelement.WebElement (session=\"bf04a3c7afa81683073eda816f7d7d34\", element=\"af197168-5b19-4de8-8d5e-164eb6368997\")>,\n",
       " <selenium.webdriver.remote.webelement.WebElement (session=\"bf04a3c7afa81683073eda816f7d7d34\", element=\"5736d056-7f85-41aa-9e8e-26795414e02d\")>,\n",
       " <selenium.webdriver.remote.webelement.WebElement (session=\"bf04a3c7afa81683073eda816f7d7d34\", element=\"59a81b19-f22e-4f55-b3f3-0442b6b9ccbf\")>,\n",
       " <selenium.webdriver.remote.webelement.WebElement (session=\"bf04a3c7afa81683073eda816f7d7d34\", element=\"925a71f1-0169-48be-8502-0c8a53959ce9\")>,\n",
       " <selenium.webdriver.remote.webelement.WebElement (session=\"bf04a3c7afa81683073eda816f7d7d34\", element=\"ca6a6104-bc4b-47fe-bb38-8d7efa98f780\")>,\n",
       " <selenium.webdriver.remote.webelement.WebElement (session=\"bf04a3c7afa81683073eda816f7d7d34\", element=\"d6df7a63-fe4b-4e63-88c5-cc0f31337206\")>,\n",
       " <selenium.webdriver.remote.webelement.WebElement (session=\"bf04a3c7afa81683073eda816f7d7d34\", element=\"a6db69fe-9292-4e19-9919-b59410334275\")>,\n",
       " <selenium.webdriver.remote.webelement.WebElement (session=\"bf04a3c7afa81683073eda816f7d7d34\", element=\"7ec1ab85-146c-4b22-bdf9-c9df28b367be\")>,\n",
       " <selenium.webdriver.remote.webelement.WebElement (session=\"bf04a3c7afa81683073eda816f7d7d34\", element=\"9360bde8-04c0-4c31-9a86-8dd24e585681\")>,\n",
       " <selenium.webdriver.remote.webelement.WebElement (session=\"bf04a3c7afa81683073eda816f7d7d34\", element=\"db3d88fd-abc1-4388-abf1-b35795433ec6\")>,\n",
       " <selenium.webdriver.remote.webelement.WebElement (session=\"bf04a3c7afa81683073eda816f7d7d34\", element=\"b00b895d-355e-4873-96eb-98f17450a396\")>,\n",
       " <selenium.webdriver.remote.webelement.WebElement (session=\"bf04a3c7afa81683073eda816f7d7d34\", element=\"ac3a4f83-1c13-41f8-9a6e-eb62cf5de8ce\")>,\n",
       " <selenium.webdriver.remote.webelement.WebElement (session=\"bf04a3c7afa81683073eda816f7d7d34\", element=\"060d3acd-fb5d-4b62-b877-3b5d62b8d152\")>,\n",
       " <selenium.webdriver.remote.webelement.WebElement (session=\"bf04a3c7afa81683073eda816f7d7d34\", element=\"84d1ff11-c1dd-471e-9176-004e53a5c6ab\")>,\n",
       " <selenium.webdriver.remote.webelement.WebElement (session=\"bf04a3c7afa81683073eda816f7d7d34\", element=\"f7741ed1-da6e-48fd-be73-92b0a2900118\")>,\n",
       " <selenium.webdriver.remote.webelement.WebElement (session=\"bf04a3c7afa81683073eda816f7d7d34\", element=\"d8ac80c1-8b63-4ab3-8a77-ce1ba61da6bb\")>,\n",
       " <selenium.webdriver.remote.webelement.WebElement (session=\"bf04a3c7afa81683073eda816f7d7d34\", element=\"9b17a82a-9ab8-42ea-8c1c-04a34231b05a\")>,\n",
       " <selenium.webdriver.remote.webelement.WebElement (session=\"bf04a3c7afa81683073eda816f7d7d34\", element=\"a019ec03-7fb9-40f8-84c4-ef4ee9dbb26e\")>,\n",
       " <selenium.webdriver.remote.webelement.WebElement (session=\"bf04a3c7afa81683073eda816f7d7d34\", element=\"85c94422-56f6-4464-b669-b1695d7370f0\")>,\n",
       " <selenium.webdriver.remote.webelement.WebElement (session=\"bf04a3c7afa81683073eda816f7d7d34\", element=\"e31b9533-cb97-469a-a15a-65678dc2103a\")>,\n",
       " <selenium.webdriver.remote.webelement.WebElement (session=\"bf04a3c7afa81683073eda816f7d7d34\", element=\"d84ee2e4-d3cb-4612-a3a8-e0d7ed1e9d62\")>,\n",
       " <selenium.webdriver.remote.webelement.WebElement (session=\"bf04a3c7afa81683073eda816f7d7d34\", element=\"e804ab1d-1cef-4320-be54-ddb574e02d2d\")>,\n",
       " <selenium.webdriver.remote.webelement.WebElement (session=\"bf04a3c7afa81683073eda816f7d7d34\", element=\"b2596b62-daf0-4dce-abad-442babbad2a0\")>,\n",
       " <selenium.webdriver.remote.webelement.WebElement (session=\"bf04a3c7afa81683073eda816f7d7d34\", element=\"037f08fd-f536-49eb-8521-190f63aecaa1\")>,\n",
       " <selenium.webdriver.remote.webelement.WebElement (session=\"bf04a3c7afa81683073eda816f7d7d34\", element=\"4db97718-34bf-464f-9ce1-ca03a88128f3\")>,\n",
       " <selenium.webdriver.remote.webelement.WebElement (session=\"bf04a3c7afa81683073eda816f7d7d34\", element=\"916477ec-25f1-4436-a9b1-a629d8dd29c6\")>,\n",
       " <selenium.webdriver.remote.webelement.WebElement (session=\"bf04a3c7afa81683073eda816f7d7d34\", element=\"acda3367-8237-49f2-b67e-4b11a4061fc1\")>,\n",
       " <selenium.webdriver.remote.webelement.WebElement (session=\"bf04a3c7afa81683073eda816f7d7d34\", element=\"e289133d-03ea-4efb-bf0e-911ff447ee7b\")>,\n",
       " <selenium.webdriver.remote.webelement.WebElement (session=\"bf04a3c7afa81683073eda816f7d7d34\", element=\"da07459c-9f9e-42d0-a47f-445bc3f086ef\")>,\n",
       " <selenium.webdriver.remote.webelement.WebElement (session=\"bf04a3c7afa81683073eda816f7d7d34\", element=\"4719aeb7-7f4d-4648-b213-0a6e949cb71d\")>,\n",
       " <selenium.webdriver.remote.webelement.WebElement (session=\"bf04a3c7afa81683073eda816f7d7d34\", element=\"f57ba39c-1158-4f93-9887-c7d63bb1a33c\")>,\n",
       " <selenium.webdriver.remote.webelement.WebElement (session=\"bf04a3c7afa81683073eda816f7d7d34\", element=\"55fb203c-7ca1-42a3-922a-658c2e40eedc\")>]"
      ]
     },
     "execution_count": 317,
     "metadata": {},
     "output_type": "execute_result"
    }
   ],
   "source": [
    "#let's extract all the tags having the brand name\n",
    "brand2=driver.find_elements_by_xpath(\"//div[@class='_2WkVRV']\")\n",
    "brand2[0:40]"
   ]
  },
  {
   "cell_type": "code",
   "execution_count": 320,
   "metadata": {},
   "outputs": [
    {
     "data": {
      "text/plain": [
       "['Riffko',\n",
       " 'Fastrack',\n",
       " 'Fastrack',\n",
       " 'Royal Son',\n",
       " 'PIRASO',\n",
       " 'Silver Kartz',\n",
       " 'Fastrack',\n",
       " 'kingsunglasses',\n",
       " 'funglasses',\n",
       " 'ROYAL SON',\n",
       " 'I Flash',\n",
       " 'Singco India',\n",
       " 'Fravy',\n",
       " 'Royal Son',\n",
       " 'ROZZETTA CRAFT',\n",
       " 'Adeeb sunglasses',\n",
       " 'Freddy',\n",
       " 'Phenomenal',\n",
       " 'Fastrack',\n",
       " 'Royal Son',\n",
       " 'Singco India',\n",
       " 'Phenomenal',\n",
       " 'Fastrack',\n",
       " 'Adrenex',\n",
       " 'povty',\n",
       " 'Riffko',\n",
       " 'FDA COLLECTION',\n",
       " 'NuVew',\n",
       " 'Fastrack',\n",
       " 'STYLE GURU',\n",
       " 'Phenomenal',\n",
       " 'like future',\n",
       " 'ROZZETTA CRAFT',\n",
       " 'Aislin',\n",
       " 'HIPPON',\n",
       " 'Silver Kartz',\n",
       " 'Trendy Glasses',\n",
       " 'Rich Club',\n",
       " 'funglasses',\n",
       " 'ROYAL SON']"
      ]
     },
     "execution_count": 320,
     "metadata": {},
     "output_type": "execute_result"
    }
   ],
   "source": [
    "#Now extract the text inside the tags using a for loop to iterate over all the tags\n",
    "for i in brand2:\n",
    "    brands=i.text\n",
    "    brand_name2.append(brands)\n",
    "brand_name2[0:40]"
   ]
  },
  {
   "cell_type": "code",
   "execution_count": 329,
   "metadata": {},
   "outputs": [
    {
     "data": {
      "text/plain": [
       "[<selenium.webdriver.remote.webelement.WebElement (session=\"bf04a3c7afa81683073eda816f7d7d34\", element=\"65e64d3a-8cc1-4b73-8f89-21a9cdb7f606\")>,\n",
       " <selenium.webdriver.remote.webelement.WebElement (session=\"bf04a3c7afa81683073eda816f7d7d34\", element=\"527a2116-a830-4f53-bd2d-70e5377b8b79\")>,\n",
       " <selenium.webdriver.remote.webelement.WebElement (session=\"bf04a3c7afa81683073eda816f7d7d34\", element=\"07907d71-3528-4710-afcf-07fd2d07f2ae\")>,\n",
       " <selenium.webdriver.remote.webelement.WebElement (session=\"bf04a3c7afa81683073eda816f7d7d34\", element=\"140825f3-9a8d-42fc-bdaf-90ae96d703d0\")>,\n",
       " <selenium.webdriver.remote.webelement.WebElement (session=\"bf04a3c7afa81683073eda816f7d7d34\", element=\"a208a35e-4dbe-4328-937b-8cee21e0c22d\")>,\n",
       " <selenium.webdriver.remote.webelement.WebElement (session=\"bf04a3c7afa81683073eda816f7d7d34\", element=\"1e81ede6-7c16-4a50-bbb1-e1f4e07f272f\")>,\n",
       " <selenium.webdriver.remote.webelement.WebElement (session=\"bf04a3c7afa81683073eda816f7d7d34\", element=\"25f19295-b980-49bc-b94d-86c033b0af7a\")>,\n",
       " <selenium.webdriver.remote.webelement.WebElement (session=\"bf04a3c7afa81683073eda816f7d7d34\", element=\"e4e0a4de-c861-486c-9d42-5d0c2a1d0ff6\")>,\n",
       " <selenium.webdriver.remote.webelement.WebElement (session=\"bf04a3c7afa81683073eda816f7d7d34\", element=\"a71aa3e1-0d97-465c-bf1a-7bad32699497\")>,\n",
       " <selenium.webdriver.remote.webelement.WebElement (session=\"bf04a3c7afa81683073eda816f7d7d34\", element=\"a14c4057-1549-428b-9d3e-f9b3840d354c\")>,\n",
       " <selenium.webdriver.remote.webelement.WebElement (session=\"bf04a3c7afa81683073eda816f7d7d34\", element=\"81df9ab2-7759-4155-afa8-a9cb2c9c58c9\")>,\n",
       " <selenium.webdriver.remote.webelement.WebElement (session=\"bf04a3c7afa81683073eda816f7d7d34\", element=\"ca396013-3817-4e50-af46-4b4fe3376a85\")>,\n",
       " <selenium.webdriver.remote.webelement.WebElement (session=\"bf04a3c7afa81683073eda816f7d7d34\", element=\"810ed38c-5c66-4b0e-b40d-ea5120467245\")>,\n",
       " <selenium.webdriver.remote.webelement.WebElement (session=\"bf04a3c7afa81683073eda816f7d7d34\", element=\"ffa383ce-b428-457d-8f2f-0ab776472802\")>,\n",
       " <selenium.webdriver.remote.webelement.WebElement (session=\"bf04a3c7afa81683073eda816f7d7d34\", element=\"637de55b-1869-497b-bc27-433a92fccee7\")>,\n",
       " <selenium.webdriver.remote.webelement.WebElement (session=\"bf04a3c7afa81683073eda816f7d7d34\", element=\"ba1127b4-7f3f-4055-9676-4cf943413b13\")>,\n",
       " <selenium.webdriver.remote.webelement.WebElement (session=\"bf04a3c7afa81683073eda816f7d7d34\", element=\"3c9bbe11-1c2b-470a-964a-e9344b1fc725\")>,\n",
       " <selenium.webdriver.remote.webelement.WebElement (session=\"bf04a3c7afa81683073eda816f7d7d34\", element=\"3b110d9a-b1eb-40b9-8b40-e811cae55d38\")>,\n",
       " <selenium.webdriver.remote.webelement.WebElement (session=\"bf04a3c7afa81683073eda816f7d7d34\", element=\"37d4e7b6-b471-4e92-bf3e-2acedeb6a4a5\")>,\n",
       " <selenium.webdriver.remote.webelement.WebElement (session=\"bf04a3c7afa81683073eda816f7d7d34\", element=\"783253f6-9a18-4135-ae4b-9a453ecee36f\")>,\n",
       " <selenium.webdriver.remote.webelement.WebElement (session=\"bf04a3c7afa81683073eda816f7d7d34\", element=\"8469b2d8-b562-4ead-ba60-9bedd102ed7c\")>,\n",
       " <selenium.webdriver.remote.webelement.WebElement (session=\"bf04a3c7afa81683073eda816f7d7d34\", element=\"cabf4483-a7c3-4d92-b971-b76dc58c517f\")>,\n",
       " <selenium.webdriver.remote.webelement.WebElement (session=\"bf04a3c7afa81683073eda816f7d7d34\", element=\"349d82ce-5c3b-402d-ab8a-500d5c720d86\")>,\n",
       " <selenium.webdriver.remote.webelement.WebElement (session=\"bf04a3c7afa81683073eda816f7d7d34\", element=\"082b667d-b55a-446b-8dab-b90c03882692\")>,\n",
       " <selenium.webdriver.remote.webelement.WebElement (session=\"bf04a3c7afa81683073eda816f7d7d34\", element=\"47dc7acd-d778-4bba-b167-80cb93a57bdf\")>,\n",
       " <selenium.webdriver.remote.webelement.WebElement (session=\"bf04a3c7afa81683073eda816f7d7d34\", element=\"1235ccc0-baca-45ec-b661-ba36a967c4ea\")>,\n",
       " <selenium.webdriver.remote.webelement.WebElement (session=\"bf04a3c7afa81683073eda816f7d7d34\", element=\"d341be85-2cdd-4819-8741-972aae6af75b\")>,\n",
       " <selenium.webdriver.remote.webelement.WebElement (session=\"bf04a3c7afa81683073eda816f7d7d34\", element=\"446b93d6-9695-494c-95c0-8f5e732b3a00\")>,\n",
       " <selenium.webdriver.remote.webelement.WebElement (session=\"bf04a3c7afa81683073eda816f7d7d34\", element=\"1bb07918-e8f6-42a7-89da-a82c4de6eb7c\")>]"
      ]
     },
     "execution_count": 329,
     "metadata": {},
     "output_type": "execute_result"
    }
   ],
   "source": [
    "#let's extract all the tags having the product description\n",
    "description2=driver.find_elements_by_xpath(\"//a[@class='IRpwTa']\")\n",
    "description2[0:40]"
   ]
  },
  {
   "cell_type": "code",
   "execution_count": 330,
   "metadata": {},
   "outputs": [
    {
     "data": {
      "text/plain": [
       "['UV Protection Wayfarer Sunglasses (55)',\n",
       " 'UV Protection, Mirrored Round Sunglasses (54)',\n",
       " 'Riding Glasses, Night Vision Round, Round Sunglasses (5...',\n",
       " 'Gradient, UV Protection Round Sunglasses (Free Size)',\n",
       " 'UV Protection Wayfarer, Aviator Sunglasses (Free Size)',\n",
       " 'Polarized, UV Protection, Gradient Rectangular Sunglass...',\n",
       " 'UV Protection Retro Square Sunglasses (49)',\n",
       " 'UV Protection Round Sunglasses (55)',\n",
       " 'UV Protection, Polarized, Gradient Rectangular, Retro S...',\n",
       " 'UV Protection Wayfarer Sunglasses (55)',\n",
       " 'UV Protection, Night Vision, Riding Glasses Round Sungl...',\n",
       " 'UV Protection Shield Sunglasses (Free Size)',\n",
       " 'Gradient, UV Protection Wayfarer Sunglasses (Free Size)',\n",
       " 'Mirrored Aviator Sunglasses (55)',\n",
       " 'UV Protection Aviator Sunglasses (58)',\n",
       " 'UV Protection Oval Sunglasses (56)',\n",
       " 'UV Protection Wrap-around Sunglasses (Free Size)',\n",
       " 'UV Protection Retro Square Sunglasses (88)',\n",
       " 'UV Protection, Polarized Aviator Sunglasses (Free Size)',\n",
       " 'UV Protection Retro Square Sunglasses (Free Size)',\n",
       " 'Gradient Retro Square Sunglasses (58)',\n",
       " 'Mirrored, UV Protection Round Sunglasses (Free Size)',\n",
       " 'UV Protection Retro Square Sunglasses (74)',\n",
       " 'UV Protection Wayfarer Sunglasses (Free Size)',\n",
       " 'UV Protection Aviator Sunglasses (Free Size)',\n",
       " 'UV Protection, Mirrored Retro Square Sunglasses (Free S...',\n",
       " 'UV Protection Aviator Sunglasses (58)',\n",
       " 'Polarized, UV Protection Sports Sunglasses (60)',\n",
       " 'UV Protection Wayfarer Sunglasses (Free Size)',\n",
       " 'Gradient, Mirrored, UV Protection, Polarized Round, Rou...',\n",
       " 'UV Protection Aviator Sunglasses (Free Size)',\n",
       " 'UV Protection, Polarized Wayfarer Sunglasses (56)',\n",
       " 'UV Protection Aviator Sunglasses (Free Size)',\n",
       " 'UV Protection, Mirrored Retro Square Sunglasses (53)',\n",
       " 'UV Protection, Riding Glasses Rectangular Sunglasses (F...',\n",
       " 'Polarized, UV Protection Wayfarer Sunglasses (56)',\n",
       " 'UV Protection Wayfarer Sunglasses (Free Size)',\n",
       " 'UV Protection, Night Vision Retro Square Sunglasses (Fr...',\n",
       " 'UV Protection, Mirrored, Gradient Round Sunglasses (51)',\n",
       " 'Polarized Retro Square Sunglasses (52)']"
      ]
     },
     "execution_count": 330,
     "metadata": {},
     "output_type": "execute_result"
    }
   ],
   "source": [
    "#Now extract the text inside the tags using a for loop to iterate over all the tags\n",
    "for i in description2:\n",
    "    descriptions=i.text\n",
    "    product_description2.append(descriptions)\n",
    "product_description2[0:40]"
   ]
  },
  {
   "cell_type": "code",
   "execution_count": 325,
   "metadata": {},
   "outputs": [
    {
     "data": {
      "text/plain": [
       "[<selenium.webdriver.remote.webelement.WebElement (session=\"bf04a3c7afa81683073eda816f7d7d34\", element=\"e36a7599-8e13-44b3-be1c-0bd9c4657c7e\")>,\n",
       " <selenium.webdriver.remote.webelement.WebElement (session=\"bf04a3c7afa81683073eda816f7d7d34\", element=\"98eb95ec-1460-4094-aac7-89792b9ba57c\")>,\n",
       " <selenium.webdriver.remote.webelement.WebElement (session=\"bf04a3c7afa81683073eda816f7d7d34\", element=\"e87d3e98-b677-4515-ade1-c0f79051a369\")>,\n",
       " <selenium.webdriver.remote.webelement.WebElement (session=\"bf04a3c7afa81683073eda816f7d7d34\", element=\"acc422d6-1ab1-4467-a538-f5901034775a\")>,\n",
       " <selenium.webdriver.remote.webelement.WebElement (session=\"bf04a3c7afa81683073eda816f7d7d34\", element=\"527f9530-cd09-4a8a-aea7-d89f8f7edbed\")>,\n",
       " <selenium.webdriver.remote.webelement.WebElement (session=\"bf04a3c7afa81683073eda816f7d7d34\", element=\"a2a0b7be-c928-4eb1-affe-c0ec9d5fa23d\")>,\n",
       " <selenium.webdriver.remote.webelement.WebElement (session=\"bf04a3c7afa81683073eda816f7d7d34\", element=\"7f909d63-1c79-4d2e-9c70-559d8ed1538a\")>,\n",
       " <selenium.webdriver.remote.webelement.WebElement (session=\"bf04a3c7afa81683073eda816f7d7d34\", element=\"1d7747ca-4be0-485d-a57b-b50bdae55f64\")>,\n",
       " <selenium.webdriver.remote.webelement.WebElement (session=\"bf04a3c7afa81683073eda816f7d7d34\", element=\"d5b0be76-d4f7-4bb8-b9a5-932744347ba4\")>,\n",
       " <selenium.webdriver.remote.webelement.WebElement (session=\"bf04a3c7afa81683073eda816f7d7d34\", element=\"3b03b582-9697-4b23-a8bb-84bdbe958202\")>,\n",
       " <selenium.webdriver.remote.webelement.WebElement (session=\"bf04a3c7afa81683073eda816f7d7d34\", element=\"26e719ec-113f-47c0-a262-3b78e63f191c\")>,\n",
       " <selenium.webdriver.remote.webelement.WebElement (session=\"bf04a3c7afa81683073eda816f7d7d34\", element=\"88991e5e-efba-4fab-af9c-7bda08bef86f\")>,\n",
       " <selenium.webdriver.remote.webelement.WebElement (session=\"bf04a3c7afa81683073eda816f7d7d34\", element=\"611f63a0-241b-412c-bda2-d196c91777b4\")>,\n",
       " <selenium.webdriver.remote.webelement.WebElement (session=\"bf04a3c7afa81683073eda816f7d7d34\", element=\"ce30632e-00ee-44ff-a0d6-7b95c2d39735\")>,\n",
       " <selenium.webdriver.remote.webelement.WebElement (session=\"bf04a3c7afa81683073eda816f7d7d34\", element=\"65d818f8-91ae-4815-b540-11229e4c68eb\")>,\n",
       " <selenium.webdriver.remote.webelement.WebElement (session=\"bf04a3c7afa81683073eda816f7d7d34\", element=\"5369f8f0-a30f-4767-9010-f8803511df58\")>,\n",
       " <selenium.webdriver.remote.webelement.WebElement (session=\"bf04a3c7afa81683073eda816f7d7d34\", element=\"897697d5-46e9-4e70-956e-936ab7060a5a\")>,\n",
       " <selenium.webdriver.remote.webelement.WebElement (session=\"bf04a3c7afa81683073eda816f7d7d34\", element=\"8eec51d9-335f-4691-84f0-5488b107b9bf\")>,\n",
       " <selenium.webdriver.remote.webelement.WebElement (session=\"bf04a3c7afa81683073eda816f7d7d34\", element=\"12ace411-b6d1-4638-b7ac-02a86a6c7896\")>,\n",
       " <selenium.webdriver.remote.webelement.WebElement (session=\"bf04a3c7afa81683073eda816f7d7d34\", element=\"69a178ac-f03e-4558-97cb-feebcef94c7d\")>,\n",
       " <selenium.webdriver.remote.webelement.WebElement (session=\"bf04a3c7afa81683073eda816f7d7d34\", element=\"c15a3a9b-9d76-43b2-ab62-26002f5f98a6\")>,\n",
       " <selenium.webdriver.remote.webelement.WebElement (session=\"bf04a3c7afa81683073eda816f7d7d34\", element=\"dcea63c4-4003-4851-b0c9-08b53b1d927b\")>,\n",
       " <selenium.webdriver.remote.webelement.WebElement (session=\"bf04a3c7afa81683073eda816f7d7d34\", element=\"9257f78b-f617-42b6-bbc9-5c844e646d77\")>,\n",
       " <selenium.webdriver.remote.webelement.WebElement (session=\"bf04a3c7afa81683073eda816f7d7d34\", element=\"4260b7d2-c080-4409-ae54-29db4551b68f\")>,\n",
       " <selenium.webdriver.remote.webelement.WebElement (session=\"bf04a3c7afa81683073eda816f7d7d34\", element=\"0dc711da-1dd7-415c-ac48-ff0eab33f6ed\")>,\n",
       " <selenium.webdriver.remote.webelement.WebElement (session=\"bf04a3c7afa81683073eda816f7d7d34\", element=\"acc607a7-7c06-49b2-b1f1-f4994935f210\")>,\n",
       " <selenium.webdriver.remote.webelement.WebElement (session=\"bf04a3c7afa81683073eda816f7d7d34\", element=\"99a11efa-af17-46e3-ac38-f5fd52abc922\")>,\n",
       " <selenium.webdriver.remote.webelement.WebElement (session=\"bf04a3c7afa81683073eda816f7d7d34\", element=\"4604713e-528e-4573-8cdc-edec218cdc68\")>,\n",
       " <selenium.webdriver.remote.webelement.WebElement (session=\"bf04a3c7afa81683073eda816f7d7d34\", element=\"c01ef3a7-2850-4dc3-aea5-a62a50417f42\")>,\n",
       " <selenium.webdriver.remote.webelement.WebElement (session=\"bf04a3c7afa81683073eda816f7d7d34\", element=\"580c7505-8d2c-4132-bfda-8f76a18837a2\")>,\n",
       " <selenium.webdriver.remote.webelement.WebElement (session=\"bf04a3c7afa81683073eda816f7d7d34\", element=\"de6b37b3-7ff8-4a0d-b2f6-7845eead2889\")>,\n",
       " <selenium.webdriver.remote.webelement.WebElement (session=\"bf04a3c7afa81683073eda816f7d7d34\", element=\"35be498c-579e-481a-9cae-1d46daa7d0bf\")>,\n",
       " <selenium.webdriver.remote.webelement.WebElement (session=\"bf04a3c7afa81683073eda816f7d7d34\", element=\"e5c5636a-9aff-46a3-a860-872a3aa1157c\")>,\n",
       " <selenium.webdriver.remote.webelement.WebElement (session=\"bf04a3c7afa81683073eda816f7d7d34\", element=\"c97079b6-8e85-4985-9d64-571278005c98\")>,\n",
       " <selenium.webdriver.remote.webelement.WebElement (session=\"bf04a3c7afa81683073eda816f7d7d34\", element=\"6c201f5e-8a19-483b-90d1-1f449ee7163f\")>,\n",
       " <selenium.webdriver.remote.webelement.WebElement (session=\"bf04a3c7afa81683073eda816f7d7d34\", element=\"241d1640-6677-4d4b-9594-0644a1669bbd\")>,\n",
       " <selenium.webdriver.remote.webelement.WebElement (session=\"bf04a3c7afa81683073eda816f7d7d34\", element=\"59356c96-3114-4c5c-9c88-21b97836d354\")>,\n",
       " <selenium.webdriver.remote.webelement.WebElement (session=\"bf04a3c7afa81683073eda816f7d7d34\", element=\"af5189ff-3d49-46f5-bbca-f8cb1bf1d2c6\")>,\n",
       " <selenium.webdriver.remote.webelement.WebElement (session=\"bf04a3c7afa81683073eda816f7d7d34\", element=\"f20671f7-493b-4555-aa9b-a5371c313a81\")>,\n",
       " <selenium.webdriver.remote.webelement.WebElement (session=\"bf04a3c7afa81683073eda816f7d7d34\", element=\"2022c9e9-9f65-4426-b566-86b6486eca00\")>]"
      ]
     },
     "execution_count": 325,
     "metadata": {},
     "output_type": "execute_result"
    }
   ],
   "source": [
    "#let's extract all the tags having the product price\n",
    "price2=driver.find_elements_by_xpath(\"//div[@class='_30jeq3']\")\n",
    "price2[0:40]"
   ]
  },
  {
   "cell_type": "code",
   "execution_count": 326,
   "metadata": {},
   "outputs": [
    {
     "data": {
      "text/plain": [
       "['₹210',\n",
       " '₹763',\n",
       " '₹847',\n",
       " '₹379',\n",
       " '₹349',\n",
       " '₹251',\n",
       " '₹830',\n",
       " '₹197',\n",
       " '₹160',\n",
       " '₹599',\n",
       " '₹123',\n",
       " '₹189',\n",
       " '₹289',\n",
       " '₹499',\n",
       " '₹399',\n",
       " '₹155',\n",
       " '₹165',\n",
       " '₹229',\n",
       " '₹669',\n",
       " '₹664',\n",
       " '₹299',\n",
       " '₹399',\n",
       " '₹1,147',\n",
       " '₹699',\n",
       " '₹324',\n",
       " '₹190',\n",
       " '₹199',\n",
       " '₹396',\n",
       " '₹755',\n",
       " '₹799',\n",
       " '₹399',\n",
       " '₹217',\n",
       " '₹449',\n",
       " '₹1,135',\n",
       " '₹198',\n",
       " '₹233',\n",
       " '₹292',\n",
       " '₹199',\n",
       " '₹125',\n",
       " '₹599']"
      ]
     },
     "execution_count": 326,
     "metadata": {},
     "output_type": "execute_result"
    }
   ],
   "source": [
    "#Now extract the text inside the tags using a for loop to iterate over all the tags\n",
    "for i in price2:\n",
    "    prices=i.text\n",
    "    product_price2.append(prices)\n",
    "product_price2[0:40]"
   ]
  },
  {
   "cell_type": "code",
   "execution_count": 327,
   "metadata": {},
   "outputs": [
    {
     "data": {
      "text/plain": [
       "[<selenium.webdriver.remote.webelement.WebElement (session=\"bf04a3c7afa81683073eda816f7d7d34\", element=\"45d1f1a5-f967-4023-b746-7434c8896281\")>,\n",
       " <selenium.webdriver.remote.webelement.WebElement (session=\"bf04a3c7afa81683073eda816f7d7d34\", element=\"3c218e81-3dd5-4cd7-abbb-f30f0613c430\")>,\n",
       " <selenium.webdriver.remote.webelement.WebElement (session=\"bf04a3c7afa81683073eda816f7d7d34\", element=\"82db293f-f82c-43a2-b0f5-3262b9ec88a0\")>,\n",
       " <selenium.webdriver.remote.webelement.WebElement (session=\"bf04a3c7afa81683073eda816f7d7d34\", element=\"6757307d-895c-45a2-aad3-d5b708aca6c8\")>,\n",
       " <selenium.webdriver.remote.webelement.WebElement (session=\"bf04a3c7afa81683073eda816f7d7d34\", element=\"5982f3ca-a449-444b-8273-dd27276b494c\")>,\n",
       " <selenium.webdriver.remote.webelement.WebElement (session=\"bf04a3c7afa81683073eda816f7d7d34\", element=\"dc980cf0-8b9c-4423-8be3-ee189f999c66\")>,\n",
       " <selenium.webdriver.remote.webelement.WebElement (session=\"bf04a3c7afa81683073eda816f7d7d34\", element=\"c58b56f6-0eb0-4a50-b28d-61b233cdf72a\")>,\n",
       " <selenium.webdriver.remote.webelement.WebElement (session=\"bf04a3c7afa81683073eda816f7d7d34\", element=\"d7853bda-5a64-4315-9b05-eb4c4dbbbce5\")>,\n",
       " <selenium.webdriver.remote.webelement.WebElement (session=\"bf04a3c7afa81683073eda816f7d7d34\", element=\"5842c190-4d9f-4a5c-9f65-cc2603fa3d55\")>,\n",
       " <selenium.webdriver.remote.webelement.WebElement (session=\"bf04a3c7afa81683073eda816f7d7d34\", element=\"07591549-f3ad-48da-9679-af49d7405aba\")>,\n",
       " <selenium.webdriver.remote.webelement.WebElement (session=\"bf04a3c7afa81683073eda816f7d7d34\", element=\"a0f75ceb-6a69-4943-bf92-4b92f32c14a8\")>,\n",
       " <selenium.webdriver.remote.webelement.WebElement (session=\"bf04a3c7afa81683073eda816f7d7d34\", element=\"b7c24176-a254-4a96-bfed-e1df015beb33\")>,\n",
       " <selenium.webdriver.remote.webelement.WebElement (session=\"bf04a3c7afa81683073eda816f7d7d34\", element=\"97854e4f-ed25-420e-b0e8-d5aed4cef4d7\")>,\n",
       " <selenium.webdriver.remote.webelement.WebElement (session=\"bf04a3c7afa81683073eda816f7d7d34\", element=\"98b41800-e4ef-4593-9327-c6c5c17dfc51\")>,\n",
       " <selenium.webdriver.remote.webelement.WebElement (session=\"bf04a3c7afa81683073eda816f7d7d34\", element=\"7464e6be-53b9-41ac-bc58-b06d771930ee\")>,\n",
       " <selenium.webdriver.remote.webelement.WebElement (session=\"bf04a3c7afa81683073eda816f7d7d34\", element=\"f903f03f-b4f4-42a0-bdd4-d1ce5f93218d\")>,\n",
       " <selenium.webdriver.remote.webelement.WebElement (session=\"bf04a3c7afa81683073eda816f7d7d34\", element=\"6be13319-56b6-4a0d-bbe5-6e0461ac7ab3\")>,\n",
       " <selenium.webdriver.remote.webelement.WebElement (session=\"bf04a3c7afa81683073eda816f7d7d34\", element=\"ec576e17-e761-427b-99e5-339da5748924\")>,\n",
       " <selenium.webdriver.remote.webelement.WebElement (session=\"bf04a3c7afa81683073eda816f7d7d34\", element=\"e85c1604-ba9a-4c8a-b369-561eb7f2cd87\")>,\n",
       " <selenium.webdriver.remote.webelement.WebElement (session=\"bf04a3c7afa81683073eda816f7d7d34\", element=\"4cf870dc-1a25-4a27-ba8f-41160745b824\")>,\n",
       " <selenium.webdriver.remote.webelement.WebElement (session=\"bf04a3c7afa81683073eda816f7d7d34\", element=\"47a658f8-e3ef-4c03-809a-e2d4d82213e9\")>,\n",
       " <selenium.webdriver.remote.webelement.WebElement (session=\"bf04a3c7afa81683073eda816f7d7d34\", element=\"a4a824e6-4837-4b07-a332-0c0c7abdfa87\")>,\n",
       " <selenium.webdriver.remote.webelement.WebElement (session=\"bf04a3c7afa81683073eda816f7d7d34\", element=\"88bdad83-6865-4f3f-8b75-d85007dfc229\")>,\n",
       " <selenium.webdriver.remote.webelement.WebElement (session=\"bf04a3c7afa81683073eda816f7d7d34\", element=\"763ce219-5cbc-443a-86c8-6ad9f59fc15d\")>,\n",
       " <selenium.webdriver.remote.webelement.WebElement (session=\"bf04a3c7afa81683073eda816f7d7d34\", element=\"c3804040-4436-4d61-aefd-ffd7ce6366e1\")>,\n",
       " <selenium.webdriver.remote.webelement.WebElement (session=\"bf04a3c7afa81683073eda816f7d7d34\", element=\"51afb13a-d1f9-4731-9044-9b3110c569a6\")>,\n",
       " <selenium.webdriver.remote.webelement.WebElement (session=\"bf04a3c7afa81683073eda816f7d7d34\", element=\"7044d986-64e8-43a9-af8a-f0877b966278\")>,\n",
       " <selenium.webdriver.remote.webelement.WebElement (session=\"bf04a3c7afa81683073eda816f7d7d34\", element=\"e58ad6f7-b617-4f25-837c-790687f6262d\")>,\n",
       " <selenium.webdriver.remote.webelement.WebElement (session=\"bf04a3c7afa81683073eda816f7d7d34\", element=\"4da4f1ec-9efa-4ba3-a2a0-355bf36a3f63\")>,\n",
       " <selenium.webdriver.remote.webelement.WebElement (session=\"bf04a3c7afa81683073eda816f7d7d34\", element=\"58df7064-5501-4fb3-ac25-2a6b46784650\")>,\n",
       " <selenium.webdriver.remote.webelement.WebElement (session=\"bf04a3c7afa81683073eda816f7d7d34\", element=\"85de01a0-7338-4d21-b3b8-bae5cfae8f4d\")>,\n",
       " <selenium.webdriver.remote.webelement.WebElement (session=\"bf04a3c7afa81683073eda816f7d7d34\", element=\"e8fcfad2-eeba-424b-bb56-441892f72cd1\")>,\n",
       " <selenium.webdriver.remote.webelement.WebElement (session=\"bf04a3c7afa81683073eda816f7d7d34\", element=\"6d017f3d-2b75-49b4-bc9b-fc8117675df8\")>,\n",
       " <selenium.webdriver.remote.webelement.WebElement (session=\"bf04a3c7afa81683073eda816f7d7d34\", element=\"7818da1e-09af-42b1-9e87-7fb51d14f6fb\")>,\n",
       " <selenium.webdriver.remote.webelement.WebElement (session=\"bf04a3c7afa81683073eda816f7d7d34\", element=\"83474e93-e7a4-43b2-b758-5156a301f998\")>,\n",
       " <selenium.webdriver.remote.webelement.WebElement (session=\"bf04a3c7afa81683073eda816f7d7d34\", element=\"0e343620-422f-4bea-8821-b68f38ad3081\")>,\n",
       " <selenium.webdriver.remote.webelement.WebElement (session=\"bf04a3c7afa81683073eda816f7d7d34\", element=\"2cbcdefe-387c-485b-999a-11c80194138f\")>,\n",
       " <selenium.webdriver.remote.webelement.WebElement (session=\"bf04a3c7afa81683073eda816f7d7d34\", element=\"5e4bf017-177b-4c9b-82ce-360042435a22\")>,\n",
       " <selenium.webdriver.remote.webelement.WebElement (session=\"bf04a3c7afa81683073eda816f7d7d34\", element=\"3838d663-e1c6-4959-be15-68b1e8fda8bc\")>,\n",
       " <selenium.webdriver.remote.webelement.WebElement (session=\"bf04a3c7afa81683073eda816f7d7d34\", element=\"d84f92a7-7291-4d2a-8eb7-494b51f53031\")>]"
      ]
     },
     "execution_count": 327,
     "metadata": {},
     "output_type": "execute_result"
    }
   ],
   "source": [
    "#let's extract all the tags having the discount percentage\n",
    "discount2=driver.find_elements_by_xpath(\"//div[@class='_3Ay6Sb']\")\n",
    "discount2[0:40]"
   ]
  },
  {
   "cell_type": "code",
   "execution_count": 328,
   "metadata": {},
   "outputs": [
    {
     "data": {
      "text/plain": [
       "['82% off',\n",
       " '15% off',\n",
       " '15% off',\n",
       " '74% off',\n",
       " '86% off',\n",
       " '79% off',\n",
       " '7% off',\n",
       " '83% off',\n",
       " '83% off',\n",
       " '70% off',\n",
       " '87% off',\n",
       " '72% off',\n",
       " '80% off',\n",
       " '66% off',\n",
       " '72% off',\n",
       " '72% off',\n",
       " '87% off',\n",
       " '88% off',\n",
       " '16% off',\n",
       " '66% off',\n",
       " '75% off',\n",
       " '80% off',\n",
       " '11% off',\n",
       " '76% off',\n",
       " '67% off',\n",
       " '80% off',\n",
       " '80% off',\n",
       " '68% off',\n",
       " '16% off',\n",
       " '77% off',\n",
       " '80% off',\n",
       " '83% off',\n",
       " '79% off',\n",
       " '73% off',\n",
       " '83% off',\n",
       " '84% off',\n",
       " '85% off',\n",
       " '75% off',\n",
       " '83% off',\n",
       " '60% off']"
      ]
     },
     "execution_count": 328,
     "metadata": {},
     "output_type": "execute_result"
    }
   ],
   "source": [
    "#Now extract the text inside the tags using a for loop to iterate over all the tags\n",
    "for i in discount2:\n",
    "    discounts=i.text\n",
    "    discount_perc2.append(discounts)\n",
    "discount_perc2[0:40]"
   ]
  },
  {
   "cell_type": "code",
   "execution_count": 344,
   "metadata": {},
   "outputs": [],
   "source": [
    "#scraping the elements of the next page(page3)\n",
    "driver.find_element_by_xpath(\"//nav[@class='yFHi8N']/a[12]\").click()"
   ]
  },
  {
   "cell_type": "code",
   "execution_count": 345,
   "metadata": {},
   "outputs": [],
   "source": [
    "#creating the empty lists to which the final scraped data from page 3 will be stored\n",
    "brand_name3=[]\n",
    "product_description3=[]\n",
    "product_price3=[]\n",
    "discount_perc3=[]"
   ]
  },
  {
   "cell_type": "code",
   "execution_count": 346,
   "metadata": {},
   "outputs": [
    {
     "data": {
      "text/plain": [
       "[<selenium.webdriver.remote.webelement.WebElement (session=\"bf04a3c7afa81683073eda816f7d7d34\", element=\"8c5e5518-8f51-4cf0-8be8-2536cbc710f0\")>,\n",
       " <selenium.webdriver.remote.webelement.WebElement (session=\"bf04a3c7afa81683073eda816f7d7d34\", element=\"69a3875d-15bb-4775-ae39-e46464dbb4c4\")>,\n",
       " <selenium.webdriver.remote.webelement.WebElement (session=\"bf04a3c7afa81683073eda816f7d7d34\", element=\"9840537d-fc89-4019-8eec-c6bc6b0080ed\")>,\n",
       " <selenium.webdriver.remote.webelement.WebElement (session=\"bf04a3c7afa81683073eda816f7d7d34\", element=\"abd382ee-7a5b-4b74-9032-b99e799b3c40\")>,\n",
       " <selenium.webdriver.remote.webelement.WebElement (session=\"bf04a3c7afa81683073eda816f7d7d34\", element=\"9b214609-b430-491f-a79e-0dbcf368c698\")>,\n",
       " <selenium.webdriver.remote.webelement.WebElement (session=\"bf04a3c7afa81683073eda816f7d7d34\", element=\"b40cc265-47de-4cd5-9ce6-039780f76690\")>,\n",
       " <selenium.webdriver.remote.webelement.WebElement (session=\"bf04a3c7afa81683073eda816f7d7d34\", element=\"611f5f60-6ded-4bf9-bd59-73cc865383bc\")>,\n",
       " <selenium.webdriver.remote.webelement.WebElement (session=\"bf04a3c7afa81683073eda816f7d7d34\", element=\"a222a034-6e8a-48cf-842f-40cea3a244b9\")>,\n",
       " <selenium.webdriver.remote.webelement.WebElement (session=\"bf04a3c7afa81683073eda816f7d7d34\", element=\"41228846-cd33-4483-88de-c25ec9d35bbb\")>,\n",
       " <selenium.webdriver.remote.webelement.WebElement (session=\"bf04a3c7afa81683073eda816f7d7d34\", element=\"921abb39-d40e-4b29-9efb-5ec684df051e\")>,\n",
       " <selenium.webdriver.remote.webelement.WebElement (session=\"bf04a3c7afa81683073eda816f7d7d34\", element=\"e708763b-854f-4fec-8576-3d6dad5ba4db\")>,\n",
       " <selenium.webdriver.remote.webelement.WebElement (session=\"bf04a3c7afa81683073eda816f7d7d34\", element=\"79b8826c-38b5-44c8-ad3f-7f92170166c9\")>,\n",
       " <selenium.webdriver.remote.webelement.WebElement (session=\"bf04a3c7afa81683073eda816f7d7d34\", element=\"3357e7e8-e27d-4b18-95c8-61076f9fd14c\")>,\n",
       " <selenium.webdriver.remote.webelement.WebElement (session=\"bf04a3c7afa81683073eda816f7d7d34\", element=\"3e8068d0-de81-4398-97b7-dfda6bb67dc3\")>,\n",
       " <selenium.webdriver.remote.webelement.WebElement (session=\"bf04a3c7afa81683073eda816f7d7d34\", element=\"a7eef562-91ba-4d16-8ab1-0e6c8e6d6ae8\")>,\n",
       " <selenium.webdriver.remote.webelement.WebElement (session=\"bf04a3c7afa81683073eda816f7d7d34\", element=\"2f74e8f8-5bd9-4520-9885-c7ac19721e45\")>,\n",
       " <selenium.webdriver.remote.webelement.WebElement (session=\"bf04a3c7afa81683073eda816f7d7d34\", element=\"51da16e9-553d-4ffb-8f63-1f9badb02344\")>,\n",
       " <selenium.webdriver.remote.webelement.WebElement (session=\"bf04a3c7afa81683073eda816f7d7d34\", element=\"c07d15a1-af16-4ab0-98bc-37d4d9082f31\")>,\n",
       " <selenium.webdriver.remote.webelement.WebElement (session=\"bf04a3c7afa81683073eda816f7d7d34\", element=\"7fc2568b-b62e-4b76-93c3-19b71bdde653\")>,\n",
       " <selenium.webdriver.remote.webelement.WebElement (session=\"bf04a3c7afa81683073eda816f7d7d34\", element=\"cdde4b87-be4f-4d8b-bcbb-2e2395ee43be\")>]"
      ]
     },
     "execution_count": 346,
     "metadata": {},
     "output_type": "execute_result"
    }
   ],
   "source": [
    "#let's extract all the tags having the brand name\n",
    "brand3=driver.find_elements_by_xpath(\"//div[@class='_2WkVRV']\")\n",
    "brand3[0:20]"
   ]
  },
  {
   "cell_type": "code",
   "execution_count": 347,
   "metadata": {},
   "outputs": [
    {
     "data": {
      "text/plain": [
       "['Trendy Glasses',\n",
       " 'FDA COLLECTION',\n",
       " 'Trendy Glasses',\n",
       " 'ROYAL SON',\n",
       " 'ZOSTAL',\n",
       " 'Scaglia',\n",
       " 'dannilo',\n",
       " 'FDA COLLECTION',\n",
       " 'Fastrack',\n",
       " 'Royal Son',\n",
       " 'Deixels',\n",
       " 'Creative Group',\n",
       " 'Clubmaster',\n",
       " 'Adrenex',\n",
       " 'Criba',\n",
       " 'Badfella',\n",
       " 'HAMIW COLLECTION',\n",
       " 'Tazzx',\n",
       " 'Winsome',\n",
       " 'NuVew']"
      ]
     },
     "execution_count": 347,
     "metadata": {},
     "output_type": "execute_result"
    }
   ],
   "source": [
    "#Now extract the text inside the tags using a for loop to iterate over all the tags\n",
    "for i in brand3:\n",
    "    brands=i.text\n",
    "    brand_name3.append(brands)\n",
    "brand_name3[0:20]"
   ]
  },
  {
   "cell_type": "code",
   "execution_count": 348,
   "metadata": {},
   "outputs": [
    {
     "data": {
      "text/plain": [
       "[<selenium.webdriver.remote.webelement.WebElement (session=\"bf04a3c7afa81683073eda816f7d7d34\", element=\"f17013a1-ea1b-4be9-aa3a-9352c39ce06c\")>,\n",
       " <selenium.webdriver.remote.webelement.WebElement (session=\"bf04a3c7afa81683073eda816f7d7d34\", element=\"0bb13fa2-b465-41a6-9f01-0b87ed1ddd47\")>,\n",
       " <selenium.webdriver.remote.webelement.WebElement (session=\"bf04a3c7afa81683073eda816f7d7d34\", element=\"2ab5ae8e-f464-496a-8257-4f372e1d90db\")>,\n",
       " <selenium.webdriver.remote.webelement.WebElement (session=\"bf04a3c7afa81683073eda816f7d7d34\", element=\"192bda87-5740-49c4-9c07-1088e084b89c\")>,\n",
       " <selenium.webdriver.remote.webelement.WebElement (session=\"bf04a3c7afa81683073eda816f7d7d34\", element=\"09e4609c-8090-4931-a4d5-a2840254ed16\")>,\n",
       " <selenium.webdriver.remote.webelement.WebElement (session=\"bf04a3c7afa81683073eda816f7d7d34\", element=\"55ee3bdf-94db-41a5-9b5d-b4aeed0bddeb\")>,\n",
       " <selenium.webdriver.remote.webelement.WebElement (session=\"bf04a3c7afa81683073eda816f7d7d34\", element=\"29a962ba-262e-40a4-bbe5-811257470a8f\")>,\n",
       " <selenium.webdriver.remote.webelement.WebElement (session=\"bf04a3c7afa81683073eda816f7d7d34\", element=\"adfad1ca-24af-433a-9b2d-853ac751958d\")>,\n",
       " <selenium.webdriver.remote.webelement.WebElement (session=\"bf04a3c7afa81683073eda816f7d7d34\", element=\"8c0d34e1-2efd-475c-966a-6628b8209703\")>,\n",
       " <selenium.webdriver.remote.webelement.WebElement (session=\"bf04a3c7afa81683073eda816f7d7d34\", element=\"2cc58f14-8129-4c03-80e8-462da2e20167\")>,\n",
       " <selenium.webdriver.remote.webelement.WebElement (session=\"bf04a3c7afa81683073eda816f7d7d34\", element=\"8899ac15-a9ec-4b52-a268-7e9d27b334b9\")>,\n",
       " <selenium.webdriver.remote.webelement.WebElement (session=\"bf04a3c7afa81683073eda816f7d7d34\", element=\"866e709f-fab4-4950-881e-26fea1da7d02\")>,\n",
       " <selenium.webdriver.remote.webelement.WebElement (session=\"bf04a3c7afa81683073eda816f7d7d34\", element=\"9d32c9fd-f5b9-4c6d-8a7a-38d47bf69030\")>,\n",
       " <selenium.webdriver.remote.webelement.WebElement (session=\"bf04a3c7afa81683073eda816f7d7d34\", element=\"55095e2b-219f-4bd6-b2b9-52e71434f303\")>,\n",
       " <selenium.webdriver.remote.webelement.WebElement (session=\"bf04a3c7afa81683073eda816f7d7d34\", element=\"90d679b3-8633-445d-875c-abb639894947\")>,\n",
       " <selenium.webdriver.remote.webelement.WebElement (session=\"bf04a3c7afa81683073eda816f7d7d34\", element=\"599d512a-cd97-4a79-a1e8-b879fe3f8323\")>,\n",
       " <selenium.webdriver.remote.webelement.WebElement (session=\"bf04a3c7afa81683073eda816f7d7d34\", element=\"69675d7c-1a0d-4ff5-afd1-2532fb31abec\")>,\n",
       " <selenium.webdriver.remote.webelement.WebElement (session=\"bf04a3c7afa81683073eda816f7d7d34\", element=\"7a45aefa-2c76-4255-8aa2-5cae484a717c\")>,\n",
       " <selenium.webdriver.remote.webelement.WebElement (session=\"bf04a3c7afa81683073eda816f7d7d34\", element=\"b51f4cbf-0ab4-4364-a95b-739815b4dbc7\")>,\n",
       " <selenium.webdriver.remote.webelement.WebElement (session=\"bf04a3c7afa81683073eda816f7d7d34\", element=\"4da144d7-128c-49af-a52e-ae73593d1e3e\")>]"
      ]
     },
     "execution_count": 348,
     "metadata": {},
     "output_type": "execute_result"
    }
   ],
   "source": [
    "#let's extract all the tags having the product description\n",
    "description3=driver.find_elements_by_xpath(\"//a[@class='IRpwTa']\")\n",
    "description3[0:20]"
   ]
  },
  {
   "cell_type": "code",
   "execution_count": 349,
   "metadata": {},
   "outputs": [
    {
     "data": {
      "text/plain": [
       "['UV Protection, Night Vision Retro Square Sunglasses (Fr...',\n",
       " 'Gradient, Mirrored, UV Protection Round, Round, Round S...',\n",
       " 'UV Protection Retro Square Sunglasses (Free Size)',\n",
       " 'UV Protection Retro Square Sunglasses (88)',\n",
       " 'UV Protection Wrap-around Sunglasses (Free Size)',\n",
       " 'UV Protection Wayfarer Sunglasses (56)',\n",
       " 'UV Protection Aviator, Wayfarer Sunglasses (Free Size)',\n",
       " 'Polarized Aviator Sunglasses (16)',\n",
       " 'Polarized, UV Protection Sports Sunglasses (60)',\n",
       " 'Polarized, UV Protection Retro Square Sunglasses (53)',\n",
       " 'UV Protection Wayfarer, Sports, Shield, Rectangular, Re...',\n",
       " 'UV Protection Round Sunglasses (54)',\n",
       " 'UV Protection Aviator Sunglasses (Free Size)',\n",
       " 'UV Protection, Gradient Retro Square Sunglasses (Free S...',\n",
       " 'Riding Glasses, UV Protection Oval Sunglasses (52)',\n",
       " 'Polarized, UV Protection Wayfarer Sunglasses (56)',\n",
       " 'UV Protection, Night Vision, Gradient Retro Square, Spe...',\n",
       " 'Mirrored Aviator Sunglasses (55)',\n",
       " 'UV Protection, Gradient Wayfarer Sunglasses (55)',\n",
       " 'UV Protection Aviator Sunglasses (55)']"
      ]
     },
     "execution_count": 349,
     "metadata": {},
     "output_type": "execute_result"
    }
   ],
   "source": [
    "#Now extract the text inside the tags using a for loop to iterate over all the tags\n",
    "for i in description3:\n",
    "    descriptions=i.text\n",
    "    product_description3.append(descriptions)\n",
    "product_description3[0:20]"
   ]
  },
  {
   "cell_type": "code",
   "execution_count": 350,
   "metadata": {},
   "outputs": [
    {
     "data": {
      "text/plain": [
       "[<selenium.webdriver.remote.webelement.WebElement (session=\"bf04a3c7afa81683073eda816f7d7d34\", element=\"0c315a2d-4d89-4b06-b400-cd94fab55bc9\")>,\n",
       " <selenium.webdriver.remote.webelement.WebElement (session=\"bf04a3c7afa81683073eda816f7d7d34\", element=\"e2cbcdc0-3582-45cf-8d07-e019f923c117\")>,\n",
       " <selenium.webdriver.remote.webelement.WebElement (session=\"bf04a3c7afa81683073eda816f7d7d34\", element=\"c44e3ee1-a8c5-4641-9e1d-084f2d529b30\")>,\n",
       " <selenium.webdriver.remote.webelement.WebElement (session=\"bf04a3c7afa81683073eda816f7d7d34\", element=\"765a3009-8c41-44a2-999d-cd350d8d38b1\")>,\n",
       " <selenium.webdriver.remote.webelement.WebElement (session=\"bf04a3c7afa81683073eda816f7d7d34\", element=\"a1192474-e8d3-4e57-90fc-0cc6d7d04d00\")>,\n",
       " <selenium.webdriver.remote.webelement.WebElement (session=\"bf04a3c7afa81683073eda816f7d7d34\", element=\"03cfe1d6-0899-42fa-b88b-7ef6d571eb64\")>,\n",
       " <selenium.webdriver.remote.webelement.WebElement (session=\"bf04a3c7afa81683073eda816f7d7d34\", element=\"90a61724-f6bb-46ad-bced-49395bc006de\")>,\n",
       " <selenium.webdriver.remote.webelement.WebElement (session=\"bf04a3c7afa81683073eda816f7d7d34\", element=\"deb73792-2658-4713-a0bd-403d60430198\")>,\n",
       " <selenium.webdriver.remote.webelement.WebElement (session=\"bf04a3c7afa81683073eda816f7d7d34\", element=\"ce4c0efa-9be3-4651-a3a2-46fa5fafa418\")>,\n",
       " <selenium.webdriver.remote.webelement.WebElement (session=\"bf04a3c7afa81683073eda816f7d7d34\", element=\"0a26b076-5a27-4fbd-aa89-39b238e685b5\")>,\n",
       " <selenium.webdriver.remote.webelement.WebElement (session=\"bf04a3c7afa81683073eda816f7d7d34\", element=\"87b2838d-68a6-462b-addf-def27b503f5c\")>,\n",
       " <selenium.webdriver.remote.webelement.WebElement (session=\"bf04a3c7afa81683073eda816f7d7d34\", element=\"a3c3457e-3bb0-4b6f-ad4b-6f2e76b79344\")>,\n",
       " <selenium.webdriver.remote.webelement.WebElement (session=\"bf04a3c7afa81683073eda816f7d7d34\", element=\"a556837d-a982-4832-af94-a1e619f6acdb\")>,\n",
       " <selenium.webdriver.remote.webelement.WebElement (session=\"bf04a3c7afa81683073eda816f7d7d34\", element=\"88897822-a7da-4808-9f66-0d7c6f19da8b\")>,\n",
       " <selenium.webdriver.remote.webelement.WebElement (session=\"bf04a3c7afa81683073eda816f7d7d34\", element=\"48a82c03-53e1-4d59-9a92-27764a72a10d\")>,\n",
       " <selenium.webdriver.remote.webelement.WebElement (session=\"bf04a3c7afa81683073eda816f7d7d34\", element=\"29c834bc-1fa9-4fc6-87b6-90450101a4c6\")>,\n",
       " <selenium.webdriver.remote.webelement.WebElement (session=\"bf04a3c7afa81683073eda816f7d7d34\", element=\"b3ff6565-b3f2-4d5f-9a26-d250d88b9eef\")>,\n",
       " <selenium.webdriver.remote.webelement.WebElement (session=\"bf04a3c7afa81683073eda816f7d7d34\", element=\"c0b7a760-cf60-46b7-9e79-c80b28646076\")>,\n",
       " <selenium.webdriver.remote.webelement.WebElement (session=\"bf04a3c7afa81683073eda816f7d7d34\", element=\"5d9ddbfc-68b2-4221-a35b-a20d2593a706\")>,\n",
       " <selenium.webdriver.remote.webelement.WebElement (session=\"bf04a3c7afa81683073eda816f7d7d34\", element=\"dccc663c-3385-468f-a42c-baef26d77fcf\")>]"
      ]
     },
     "execution_count": 350,
     "metadata": {},
     "output_type": "execute_result"
    }
   ],
   "source": [
    "#let's extract all the tags having the product price\n",
    "price3=driver.find_elements_by_xpath(\"//div[@class='_30jeq3']\")\n",
    "price3[0:20]"
   ]
  },
  {
   "cell_type": "code",
   "execution_count": 351,
   "metadata": {},
   "outputs": [
    {
     "data": {
      "text/plain": [
       "['₹292',\n",
       " '₹245',\n",
       " '₹269',\n",
       " '₹599',\n",
       " '₹208',\n",
       " '₹165',\n",
       " '₹189',\n",
       " '₹245',\n",
       " '₹730',\n",
       " '₹664',\n",
       " '₹202',\n",
       " '₹275',\n",
       " '₹140',\n",
       " '₹699',\n",
       " '₹175',\n",
       " '₹269',\n",
       " '₹209',\n",
       " '₹251',\n",
       " '₹189',\n",
       " '₹396']"
      ]
     },
     "execution_count": 351,
     "metadata": {},
     "output_type": "execute_result"
    }
   ],
   "source": [
    "#Now extract the text inside the tags using a for loop to iterate over all the tags\n",
    "for i in price3:\n",
    "    prices=i.text\n",
    "    product_price3.append(prices)\n",
    "product_price3[0:20]"
   ]
  },
  {
   "cell_type": "code",
   "execution_count": 352,
   "metadata": {},
   "outputs": [
    {
     "data": {
      "text/plain": [
       "[<selenium.webdriver.remote.webelement.WebElement (session=\"bf04a3c7afa81683073eda816f7d7d34\", element=\"1c95c298-f5e5-4e1d-83d7-b307feb9fb39\")>,\n",
       " <selenium.webdriver.remote.webelement.WebElement (session=\"bf04a3c7afa81683073eda816f7d7d34\", element=\"a643c5f6-3a56-4fae-99c2-920958467cac\")>,\n",
       " <selenium.webdriver.remote.webelement.WebElement (session=\"bf04a3c7afa81683073eda816f7d7d34\", element=\"59e37af3-ee78-41f6-b793-95975857197a\")>,\n",
       " <selenium.webdriver.remote.webelement.WebElement (session=\"bf04a3c7afa81683073eda816f7d7d34\", element=\"26a9045d-a971-4f21-b533-b62c73efc002\")>,\n",
       " <selenium.webdriver.remote.webelement.WebElement (session=\"bf04a3c7afa81683073eda816f7d7d34\", element=\"9d088f9d-ac23-405d-96f3-758fab53b3ac\")>,\n",
       " <selenium.webdriver.remote.webelement.WebElement (session=\"bf04a3c7afa81683073eda816f7d7d34\", element=\"68ab395d-2358-4eec-bcc2-5f94c486473f\")>,\n",
       " <selenium.webdriver.remote.webelement.WebElement (session=\"bf04a3c7afa81683073eda816f7d7d34\", element=\"5591b98c-faef-4757-8d89-1aaf6fc5c44f\")>,\n",
       " <selenium.webdriver.remote.webelement.WebElement (session=\"bf04a3c7afa81683073eda816f7d7d34\", element=\"a100adbd-ac8c-45fe-bc42-244970a8c7c6\")>,\n",
       " <selenium.webdriver.remote.webelement.WebElement (session=\"bf04a3c7afa81683073eda816f7d7d34\", element=\"f440c3d6-fbdc-43ef-87cf-2e24d0ffaf3d\")>,\n",
       " <selenium.webdriver.remote.webelement.WebElement (session=\"bf04a3c7afa81683073eda816f7d7d34\", element=\"6b5f332e-0f1e-4c73-b442-d0ba632eec0f\")>,\n",
       " <selenium.webdriver.remote.webelement.WebElement (session=\"bf04a3c7afa81683073eda816f7d7d34\", element=\"570b827b-cace-4e99-905c-708e26f8319c\")>,\n",
       " <selenium.webdriver.remote.webelement.WebElement (session=\"bf04a3c7afa81683073eda816f7d7d34\", element=\"cc822ec6-d325-466e-9bc9-e6635dca8d33\")>,\n",
       " <selenium.webdriver.remote.webelement.WebElement (session=\"bf04a3c7afa81683073eda816f7d7d34\", element=\"5f3336d5-e2d0-4007-b45e-c6ee07ad6fd7\")>,\n",
       " <selenium.webdriver.remote.webelement.WebElement (session=\"bf04a3c7afa81683073eda816f7d7d34\", element=\"8c2cd6ce-01a5-4acb-871b-f463ba2f5519\")>,\n",
       " <selenium.webdriver.remote.webelement.WebElement (session=\"bf04a3c7afa81683073eda816f7d7d34\", element=\"10734021-94b9-4978-a3dc-5c6474b9a259\")>,\n",
       " <selenium.webdriver.remote.webelement.WebElement (session=\"bf04a3c7afa81683073eda816f7d7d34\", element=\"4472571f-41e4-4f33-8109-c9e9767a0b05\")>,\n",
       " <selenium.webdriver.remote.webelement.WebElement (session=\"bf04a3c7afa81683073eda816f7d7d34\", element=\"6cb1239d-5529-409f-a844-64a1bde0ced3\")>,\n",
       " <selenium.webdriver.remote.webelement.WebElement (session=\"bf04a3c7afa81683073eda816f7d7d34\", element=\"9e03713c-af18-4fab-a081-90ee94686788\")>,\n",
       " <selenium.webdriver.remote.webelement.WebElement (session=\"bf04a3c7afa81683073eda816f7d7d34\", element=\"5263c81e-1bb1-4659-b110-b7e5449b5b5f\")>,\n",
       " <selenium.webdriver.remote.webelement.WebElement (session=\"bf04a3c7afa81683073eda816f7d7d34\", element=\"f0f41ba6-540a-4d28-844a-a41285938039\")>]"
      ]
     },
     "execution_count": 352,
     "metadata": {},
     "output_type": "execute_result"
    }
   ],
   "source": [
    "#let's extract all the tags having the discount percentage\n",
    "discount3=driver.find_elements_by_xpath(\"//div[@class='_3Ay6Sb']\")\n",
    "discount3[0:20]"
   ]
  },
  {
   "cell_type": "code",
   "execution_count": 353,
   "metadata": {},
   "outputs": [
    {
     "data": {
      "text/plain": [
       "['85% off',\n",
       " '83% off',\n",
       " '78% off',\n",
       " '70% off',\n",
       " '79% off',\n",
       " '79% off',\n",
       " '81% off',\n",
       " '81% off',\n",
       " '18% off',\n",
       " '66% off',\n",
       " '83% off',\n",
       " '83% off',\n",
       " '76% off',\n",
       " '76% off',\n",
       " '64% off',\n",
       " '73% off',\n",
       " '86% off',\n",
       " '87% off',\n",
       " '81% off',\n",
       " '68% off',\n",
       " '81% off',\n",
       " '86% off',\n",
       " '87% off',\n",
       " '73% off',\n",
       " '87% off',\n",
       " '74% off',\n",
       " '78% off',\n",
       " '86% off',\n",
       " '83% off',\n",
       " '60% off',\n",
       " '28% off',\n",
       " '81% off',\n",
       " '12% off',\n",
       " '65% off',\n",
       " '85% off',\n",
       " '85% off',\n",
       " '18% off',\n",
       " '82% off',\n",
       " '87% off',\n",
       " '50% off']"
      ]
     },
     "execution_count": 353,
     "metadata": {},
     "output_type": "execute_result"
    }
   ],
   "source": [
    "#Now extract the text inside the tags using a for loop to iterate over all the tags\n",
    "for i in discount3:\n",
    "    discounts=i.text\n",
    "    discount_perc3.append(discounts)\n",
    "discount_perc3[0:40]"
   ]
  },
  {
   "cell_type": "code",
   "execution_count": 360,
   "metadata": {},
   "outputs": [],
   "source": [
    "#Adding lists having same attribute type from all the 3 pages"
   ]
  },
  {
   "cell_type": "code",
   "execution_count": 354,
   "metadata": {},
   "outputs": [],
   "source": [
    "brand_name_final=brand_name+brand_name2+brand_name3"
   ]
  },
  {
   "cell_type": "code",
   "execution_count": 357,
   "metadata": {},
   "outputs": [],
   "source": [
    "product_description_final=product_description+product_description2+product_description3"
   ]
  },
  {
   "cell_type": "code",
   "execution_count": 358,
   "metadata": {},
   "outputs": [],
   "source": [
    "product_price_final=product_price+product_price2+product_price3"
   ]
  },
  {
   "cell_type": "code",
   "execution_count": 359,
   "metadata": {},
   "outputs": [],
   "source": [
    "discount_perc_final=discount_perc+discount_perc2+discount_perc3"
   ]
  },
  {
   "cell_type": "code",
   "execution_count": 361,
   "metadata": {},
   "outputs": [
    {
     "name": "stdout",
     "output_type": "stream",
     "text": [
      "240 135 120 120\n"
     ]
    }
   ],
   "source": [
    "print(len(brand_name_final),len(product_description_final),len(product_price_final),len(discount_perc_final))"
   ]
  },
  {
   "cell_type": "code",
   "execution_count": 362,
   "metadata": {},
   "outputs": [],
   "source": [
    "sunglassesinfoflipkart=pd.DataFrame({})\n",
    "sunglassesinfoflipkart['brand_name']=brand_name_final[0:100]\n",
    "sunglassesinfoflipkart['product_description']=product_description_final[0:100]\n",
    "sunglassesinfoflipkart['product_price']=product_price_final[0:100]\n",
    "sunglassesinfoflipkart['discount_perc']=discount_perc_final[0:100]"
   ]
  },
  {
   "cell_type": "code",
   "execution_count": 363,
   "metadata": {},
   "outputs": [
    {
     "data": {
      "text/html": [
       "<div>\n",
       "<style scoped>\n",
       "    .dataframe tbody tr th:only-of-type {\n",
       "        vertical-align: middle;\n",
       "    }\n",
       "\n",
       "    .dataframe tbody tr th {\n",
       "        vertical-align: top;\n",
       "    }\n",
       "\n",
       "    .dataframe thead th {\n",
       "        text-align: right;\n",
       "    }\n",
       "</style>\n",
       "<table border=\"1\" class=\"dataframe\">\n",
       "  <thead>\n",
       "    <tr style=\"text-align: right;\">\n",
       "      <th></th>\n",
       "      <th>brand_name</th>\n",
       "      <th>product_description</th>\n",
       "      <th>product_price</th>\n",
       "      <th>discount_perc</th>\n",
       "    </tr>\n",
       "  </thead>\n",
       "  <tbody>\n",
       "    <tr>\n",
       "      <th>0</th>\n",
       "      <td>Royal Son</td>\n",
       "      <td>Mirrored Aviator Sunglasses (55)</td>\n",
       "      <td>₹379</td>\n",
       "      <td>74% off</td>\n",
       "    </tr>\n",
       "    <tr>\n",
       "      <th>1</th>\n",
       "      <td>ROYAL SON</td>\n",
       "      <td>UV Protection Retro Square Sunglasses (88)</td>\n",
       "      <td>₹599</td>\n",
       "      <td>70% off</td>\n",
       "    </tr>\n",
       "    <tr>\n",
       "      <th>2</th>\n",
       "      <td>ROZZETTA CRAFT</td>\n",
       "      <td>UV Protection Retro Square Sunglasses (Free Size)</td>\n",
       "      <td>₹499</td>\n",
       "      <td>77% off</td>\n",
       "    </tr>\n",
       "    <tr>\n",
       "      <th>3</th>\n",
       "      <td>Fastrack</td>\n",
       "      <td>UV Protection Aviator Sunglasses (Free Size)</td>\n",
       "      <td>₹537</td>\n",
       "      <td>40% off</td>\n",
       "    </tr>\n",
       "    <tr>\n",
       "      <th>4</th>\n",
       "      <td>Fastrack</td>\n",
       "      <td>Gradient, UV Protection Wayfarer Sunglasses (F...</td>\n",
       "      <td>₹700</td>\n",
       "      <td>12% off</td>\n",
       "    </tr>\n",
       "    <tr>\n",
       "      <th>...</th>\n",
       "      <td>...</td>\n",
       "      <td>...</td>\n",
       "      <td>...</td>\n",
       "      <td>...</td>\n",
       "    </tr>\n",
       "    <tr>\n",
       "      <th>95</th>\n",
       "      <td>Adeeb sunglasses</td>\n",
       "      <td>Gradient, Mirrored, UV Protection, Polarized R...</td>\n",
       "      <td>₹269</td>\n",
       "      <td>73% off</td>\n",
       "    </tr>\n",
       "    <tr>\n",
       "      <th>96</th>\n",
       "      <td>Freddy</td>\n",
       "      <td>UV Protection Aviator Sunglasses (Free Size)</td>\n",
       "      <td>₹209</td>\n",
       "      <td>86% off</td>\n",
       "    </tr>\n",
       "    <tr>\n",
       "      <th>97</th>\n",
       "      <td>Phenomenal</td>\n",
       "      <td>UV Protection, Polarized Wayfarer Sunglasses (56)</td>\n",
       "      <td>₹251</td>\n",
       "      <td>87% off</td>\n",
       "    </tr>\n",
       "    <tr>\n",
       "      <th>98</th>\n",
       "      <td>Fastrack</td>\n",
       "      <td>UV Protection Aviator Sunglasses (Free Size)</td>\n",
       "      <td>₹189</td>\n",
       "      <td>81% off</td>\n",
       "    </tr>\n",
       "    <tr>\n",
       "      <th>99</th>\n",
       "      <td>Royal Son</td>\n",
       "      <td>UV Protection, Mirrored Retro Square Sunglasse...</td>\n",
       "      <td>₹396</td>\n",
       "      <td>68% off</td>\n",
       "    </tr>\n",
       "  </tbody>\n",
       "</table>\n",
       "<p>100 rows × 4 columns</p>\n",
       "</div>"
      ],
      "text/plain": [
       "          brand_name                                product_description  \\\n",
       "0          Royal Son                   Mirrored Aviator Sunglasses (55)   \n",
       "1          ROYAL SON         UV Protection Retro Square Sunglasses (88)   \n",
       "2     ROZZETTA CRAFT  UV Protection Retro Square Sunglasses (Free Size)   \n",
       "3           Fastrack       UV Protection Aviator Sunglasses (Free Size)   \n",
       "4           Fastrack  Gradient, UV Protection Wayfarer Sunglasses (F...   \n",
       "..               ...                                                ...   \n",
       "95  Adeeb sunglasses  Gradient, Mirrored, UV Protection, Polarized R...   \n",
       "96            Freddy       UV Protection Aviator Sunglasses (Free Size)   \n",
       "97        Phenomenal  UV Protection, Polarized Wayfarer Sunglasses (56)   \n",
       "98          Fastrack       UV Protection Aviator Sunglasses (Free Size)   \n",
       "99         Royal Son  UV Protection, Mirrored Retro Square Sunglasse...   \n",
       "\n",
       "   product_price discount_perc  \n",
       "0           ₹379       74% off  \n",
       "1           ₹599       70% off  \n",
       "2           ₹499       77% off  \n",
       "3           ₹537       40% off  \n",
       "4           ₹700       12% off  \n",
       "..           ...           ...  \n",
       "95          ₹269       73% off  \n",
       "96          ₹209       86% off  \n",
       "97          ₹251       87% off  \n",
       "98          ₹189       81% off  \n",
       "99          ₹396       68% off  \n",
       "\n",
       "[100 rows x 4 columns]"
      ]
     },
     "execution_count": 363,
     "metadata": {},
     "output_type": "execute_result"
    }
   ],
   "source": [
    "sunglassesinfoflipkart"
   ]
  },
  {
   "cell_type": "raw",
   "metadata": {},
   "source": []
  },
  {
   "cell_type": "raw",
   "metadata": {},
   "source": [
    "Q7: Scrape 100 reviews data from flipkart.com for iphone11 phone. You have to\n",
    "go the link: https://www.flipkart.com/apple-iphone-11-black-64-gb-includesearpods-poweradapter/p/itm0f37c2240b217?pid=MOBFKCTSVZAXUHGR&lid=LSTMOBFKC\n",
    "TSVZAXUHGREPBFGI&marketplace."
   ]
  },
  {
   "cell_type": "raw",
   "metadata": {},
   "source": []
  },
  {
   "cell_type": "code",
   "execution_count": 399,
   "metadata": {},
   "outputs": [],
   "source": [
    "#let's connect to the webdriver\n",
    "driver = webdriver.Chrome(\"C:/Users/key/AppData/Roaming/Microsoft/Windows/Start Menu/Programs/chromedriver_win32/chromedriver.exe\")"
   ]
  },
  {
   "cell_type": "code",
   "execution_count": 400,
   "metadata": {},
   "outputs": [],
   "source": [
    "driver.get('https://www.flipkart.com/apple-iphone-11-black-64-gb-includesearpods-poweradapter/p/itm0f37c2240b217?pid=MOBFKCTSVZAXUHGR&lid=LSTMOBFKCTSVZAXUHGREPBFGI&marketplace')"
   ]
  },
  {
   "cell_type": "code",
   "execution_count": 401,
   "metadata": {},
   "outputs": [],
   "source": [
    "#creating the empty lists to which the final scraped data from page 1 will be stored\n",
    "iphone11_rating=[]\n",
    "iphone11_reviewsum=[]\n",
    "iphone11_reviewfull=[]"
   ]
  },
  {
   "cell_type": "code",
   "execution_count": 402,
   "metadata": {},
   "outputs": [],
   "source": [
    "#scraping the elements of the first page(page1)\n",
    "driver.find_element_by_xpath(\"//div[@class='_3UAT2v _16PBlm']\").click()"
   ]
  },
  {
   "cell_type": "code",
   "execution_count": 403,
   "metadata": {},
   "outputs": [
    {
     "data": {
      "text/plain": [
       "[<selenium.webdriver.remote.webelement.WebElement (session=\"de4ea7918b65cd2d473547f86cc0d217\", element=\"404ce2b4-be46-4775-a748-82cdc2fed240\")>,\n",
       " <selenium.webdriver.remote.webelement.WebElement (session=\"de4ea7918b65cd2d473547f86cc0d217\", element=\"f12321e9-818a-41db-a641-bcceaec55848\")>,\n",
       " <selenium.webdriver.remote.webelement.WebElement (session=\"de4ea7918b65cd2d473547f86cc0d217\", element=\"42b3d8d1-990d-4929-beb6-a7469b0a79e3\")>,\n",
       " <selenium.webdriver.remote.webelement.WebElement (session=\"de4ea7918b65cd2d473547f86cc0d217\", element=\"4720d9e5-9e6d-4ee5-85f6-50629c5dc760\")>,\n",
       " <selenium.webdriver.remote.webelement.WebElement (session=\"de4ea7918b65cd2d473547f86cc0d217\", element=\"c9055751-e095-40bc-bbdd-4c47a0a63f14\")>,\n",
       " <selenium.webdriver.remote.webelement.WebElement (session=\"de4ea7918b65cd2d473547f86cc0d217\", element=\"c86072d3-bd27-4f90-bf0e-4d0b35f068e9\")>,\n",
       " <selenium.webdriver.remote.webelement.WebElement (session=\"de4ea7918b65cd2d473547f86cc0d217\", element=\"357c6f3b-7126-4898-8442-ebdcc6e2ef10\")>,\n",
       " <selenium.webdriver.remote.webelement.WebElement (session=\"de4ea7918b65cd2d473547f86cc0d217\", element=\"e61c3ee8-8ccb-472d-a200-2b7b1226e057\")>,\n",
       " <selenium.webdriver.remote.webelement.WebElement (session=\"de4ea7918b65cd2d473547f86cc0d217\", element=\"472952bb-4e77-4ca1-b9fe-2888fe3eb745\")>,\n",
       " <selenium.webdriver.remote.webelement.WebElement (session=\"de4ea7918b65cd2d473547f86cc0d217\", element=\"88579de8-ab65-46e0-bb95-5260ae1e0147\")>]"
      ]
     },
     "execution_count": 403,
     "metadata": {},
     "output_type": "execute_result"
    }
   ],
   "source": [
    "#let's extract all the tags having the rating\n",
    "rating=driver.find_elements_by_xpath(\"//div[@class='_3LWZlK _1BLPMq']\")\n",
    "rating[0:10]"
   ]
  },
  {
   "cell_type": "code",
   "execution_count": 404,
   "metadata": {},
   "outputs": [
    {
     "data": {
      "text/plain": [
       "['5', '5', '5', '5', '5', '5', '5', '5', '5', '4']"
      ]
     },
     "execution_count": 404,
     "metadata": {},
     "output_type": "execute_result"
    }
   ],
   "source": [
    "#Now extract the text inside the tags using a for loop to iterate over all the tags\n",
    "for i in rating:\n",
    "    ratings=i.text\n",
    "    iphone11_rating.append(ratings)\n",
    "iphone11_rating[0:10]"
   ]
  },
  {
   "cell_type": "code",
   "execution_count": 405,
   "metadata": {},
   "outputs": [
    {
     "data": {
      "text/plain": [
       "[<selenium.webdriver.remote.webelement.WebElement (session=\"de4ea7918b65cd2d473547f86cc0d217\", element=\"4afed5bc-7473-4305-a70f-dcdd21a615bd\")>,\n",
       " <selenium.webdriver.remote.webelement.WebElement (session=\"de4ea7918b65cd2d473547f86cc0d217\", element=\"5b0684a5-e99d-4557-8adc-a41cf5e00079\")>,\n",
       " <selenium.webdriver.remote.webelement.WebElement (session=\"de4ea7918b65cd2d473547f86cc0d217\", element=\"1067c534-dcd5-4079-99bb-b1d0812b6013\")>,\n",
       " <selenium.webdriver.remote.webelement.WebElement (session=\"de4ea7918b65cd2d473547f86cc0d217\", element=\"54b8437b-c4fe-4c55-85d1-c0ecf80ad5a8\")>,\n",
       " <selenium.webdriver.remote.webelement.WebElement (session=\"de4ea7918b65cd2d473547f86cc0d217\", element=\"3de24f7b-2d8e-4347-9eb6-dd14de41940e\")>,\n",
       " <selenium.webdriver.remote.webelement.WebElement (session=\"de4ea7918b65cd2d473547f86cc0d217\", element=\"299c64de-4073-4a06-a84f-18b34963b7c4\")>,\n",
       " <selenium.webdriver.remote.webelement.WebElement (session=\"de4ea7918b65cd2d473547f86cc0d217\", element=\"a4d16508-542b-46b5-b55a-af88d75e9dee\")>,\n",
       " <selenium.webdriver.remote.webelement.WebElement (session=\"de4ea7918b65cd2d473547f86cc0d217\", element=\"b1f1dfbe-36c3-4106-b44e-7903eca02780\")>,\n",
       " <selenium.webdriver.remote.webelement.WebElement (session=\"de4ea7918b65cd2d473547f86cc0d217\", element=\"7246d50c-fc7e-488b-93af-ebeb6156f9eb\")>,\n",
       " <selenium.webdriver.remote.webelement.WebElement (session=\"de4ea7918b65cd2d473547f86cc0d217\", element=\"71126ea1-1d38-44f8-93c1-be4e32f74da2\")>]"
      ]
     },
     "execution_count": 405,
     "metadata": {},
     "output_type": "execute_result"
    }
   ],
   "source": [
    "#let's extract all the tags having the review summary\n",
    "reviwsum=driver.find_elements_by_xpath(\"//p[@class='_2-N8zT']\")\n",
    "reviwsum[0:10]"
   ]
  },
  {
   "cell_type": "code",
   "execution_count": 406,
   "metadata": {},
   "outputs": [
    {
     "data": {
      "text/plain": [
       "['Perfect product!',\n",
       " 'Great product',\n",
       " 'Highly recommended',\n",
       " 'Perfect product!',\n",
       " 'Brilliant',\n",
       " 'Perfect product!',\n",
       " 'Worth every penny',\n",
       " 'Worth every penny',\n",
       " 'Wonderful',\n",
       " 'Nice product']"
      ]
     },
     "execution_count": 406,
     "metadata": {},
     "output_type": "execute_result"
    }
   ],
   "source": [
    "#Now extract the text inside the tags using a for loop to iterate over all the tags\n",
    "for i in reviwsum:\n",
    "    reviwsums=i.text\n",
    "    iphone11_reviewsum.append(reviwsums)\n",
    "iphone11_reviewsum[0:10]"
   ]
  },
  {
   "cell_type": "code",
   "execution_count": 407,
   "metadata": {},
   "outputs": [
    {
     "data": {
      "text/plain": [
       "[<selenium.webdriver.remote.webelement.WebElement (session=\"de4ea7918b65cd2d473547f86cc0d217\", element=\"0fa8d036-278d-4768-8eef-ac216f81be01\")>,\n",
       " <selenium.webdriver.remote.webelement.WebElement (session=\"de4ea7918b65cd2d473547f86cc0d217\", element=\"82cd36db-bb59-4d7b-9a39-590b9e3e868e\")>,\n",
       " <selenium.webdriver.remote.webelement.WebElement (session=\"de4ea7918b65cd2d473547f86cc0d217\", element=\"1afbe2aa-355b-40db-a2ca-6c9338485bcb\")>,\n",
       " <selenium.webdriver.remote.webelement.WebElement (session=\"de4ea7918b65cd2d473547f86cc0d217\", element=\"53ccc976-b6d2-4336-8643-28eee030bb10\")>,\n",
       " <selenium.webdriver.remote.webelement.WebElement (session=\"de4ea7918b65cd2d473547f86cc0d217\", element=\"82ce53de-031b-402a-8657-7873c7152007\")>,\n",
       " <selenium.webdriver.remote.webelement.WebElement (session=\"de4ea7918b65cd2d473547f86cc0d217\", element=\"bb4c06bd-4a5d-4f2a-a773-5e1b9054e9ad\")>,\n",
       " <selenium.webdriver.remote.webelement.WebElement (session=\"de4ea7918b65cd2d473547f86cc0d217\", element=\"5372af17-f671-4672-b58e-a5aa768ec580\")>,\n",
       " <selenium.webdriver.remote.webelement.WebElement (session=\"de4ea7918b65cd2d473547f86cc0d217\", element=\"4e9427c2-b9d6-4b56-8f86-bf07dd3a58f5\")>,\n",
       " <selenium.webdriver.remote.webelement.WebElement (session=\"de4ea7918b65cd2d473547f86cc0d217\", element=\"630af73d-17ec-4b19-9d0c-1c335100f5a3\")>,\n",
       " <selenium.webdriver.remote.webelement.WebElement (session=\"de4ea7918b65cd2d473547f86cc0d217\", element=\"e6b1a43a-9ef9-4ab6-888e-c2671c8c1bff\")>]"
      ]
     },
     "execution_count": 407,
     "metadata": {},
     "output_type": "execute_result"
    }
   ],
   "source": [
    "#let's extract all the tags having the review full\n",
    "reviwfull=driver.find_elements_by_xpath(\"//div[@class='t-ZTKy']\")\n",
    "reviwfull[0:10]"
   ]
  },
  {
   "cell_type": "code",
   "execution_count": 408,
   "metadata": {},
   "outputs": [
    {
     "data": {
      "text/plain": [
       "['Amazing phone with great cameras and better battery which gives you the best performance. I just love the camera .',\n",
       " 'Amazing Powerful and Durable Gadget.\\n\\nI’m am very happy with the camera picture quality, Amazing face id unlocked in dark room, Strong battery with perfect screen size as you can carry easily in pocket. This is my third iPhone.\\n\\nI shifted from android Samsung Note series to iPhone because of the strong build quality and peace of mind for next 3-4 years.\\n\\nDon’t think to much just go for it and I suggest you to go for minimum 128gb variant or more 256gb.\\n\\nI’ve attached my puppy pics and no fi...\\nREAD MORE',\n",
       " 'iphone 11 is a very good phone to buy only if you can compromise for the display. The display on this is device is pretty good but you can get other options with better displays in this price segment.\\nIf you can survive with an HD+ LCD panel with thicker bezels and a notch up top then this is a very good phone for you.\\nCameras are awesome, battery backup excellent, great performance and a decent premium look. Good job Apple !',\n",
       " 'It’s a must buy who is looking for an upgrade from previous generation of iPhones. If you are using XR then still you can hold on for sometime and upgrade to 2020 model else this phone is a must buy . Camera quality is amazing and wide angle is something to count upon. Performance wise it’s amazing and feels premium while holding in hand. So a big YES for this device. Go for 128 GB variant as the 4K videos will occupy lots of space and the storage can get over very quickly. Try to buy it with...\\nREAD MORE',\n",
       " 'The Best Phone for the Money\\n\\nThe iPhone 11 offers superb cameras, a more durable design and excellent battery life for an affordable price.\\n\\nCompelling ultra-wide camera\\nNew Night mode is excellent\\nLong battery life',\n",
       " 'Value for money❤️❤️\\nIts awesome mobile phone in the world ...\\nDisplay was very good and bright ..\\nTrust me freinds you r never regret after Buying..\\nJust go for it....\\nI love this phone and i switch to iphone x to 11',\n",
       " 'Best budget Iphone till date ❤️ go for it guys without second thought. Let me explain you guys about Camera, Display, battery, and performance.\\n\\nCamera: at this price range there is no comparison of camera, you’ll love the picture quality as well as video quality. I am a Vlogger I wanted an iPhone with 4k video by front camera and I got this phone and I am more than happy 😃\\n\\nBattery: I use this phone roughly as I am active social media person and I have a youtube channel. so the battery ba...\\nREAD MORE',\n",
       " 'It’s been almost a month since I have been using this phone. I upgraded from an iPhone 8. The main issue with my 8 was battery and this phone is just awesome when it comes to battery. It lasts a day and a half for me with my regular use , internet connected always with 4g\\nCan’t move forward without saying this. Battery of this phone is a life saver when I am traveling or at work when I don’t get the option to charge\\nCamera is superb. Front cam selfies and back cam photos are just awesome.\\n...\\nREAD MORE',\n",
       " '*Review after 10 months of usage*\\nDoesn\\'t seem bulky with decent touch and camera. The \"standard maintained\" quality of IPhone. Go for it, if your budget is not more enough for pro models. It\\'s a value for money among the 11 series Stereo speakers are so good, you will love the stereo sound. Battery backup is not decent but still better than Iphone 7 and 8.Processor is fast, the phone doesn\\'t lag at all even with heavy games, waterproof, faster face id and with no fingerprint scanners. The ca...\\nREAD MORE',\n",
       " 'Awesome Phone. Slightly high price but worth. Better than iPhone XR.\\nCamera is superb and wide angle camera is very clear.\\n12MP selfie camera is also very good.\\nA13 Chip gives a very good and smooth performance.']"
      ]
     },
     "execution_count": 408,
     "metadata": {},
     "output_type": "execute_result"
    }
   ],
   "source": [
    "#Now extract the text inside the tags using a for loop to iterate over all the tags\n",
    "for i in reviwfull:\n",
    "    reviwsfull=i.text\n",
    "    iphone11_reviewfull.append(reviwsfull)\n",
    "iphone11_reviewfull[0:10]"
   ]
  },
  {
   "cell_type": "code",
   "execution_count": 518,
   "metadata": {},
   "outputs": [
    {
     "ename": "WebDriverException",
     "evalue": "Message: chrome not reachable\n  (Session info: chrome=88.0.4324.150)\n",
     "output_type": "error",
     "traceback": [
      "\u001b[1;31m---------------------------------------------------------------------------\u001b[0m",
      "\u001b[1;31mWebDriverException\u001b[0m                        Traceback (most recent call last)",
      "\u001b[1;32m<ipython-input-518-2a153ec087d4>\u001b[0m in \u001b[0;36m<module>\u001b[1;34m\u001b[0m\n\u001b[0;32m      1\u001b[0m \u001b[1;32mfor\u001b[0m \u001b[0mpage\u001b[0m \u001b[1;32min\u001b[0m \u001b[0mrange\u001b[0m\u001b[1;33m(\u001b[0m\u001b[1;36m0\u001b[0m\u001b[1;33m,\u001b[0m\u001b[1;36m10\u001b[0m\u001b[1;33m)\u001b[0m\u001b[1;33m:\u001b[0m\u001b[1;33m\u001b[0m\u001b[1;33m\u001b[0m\u001b[0m\n\u001b[1;32m----> 2\u001b[1;33m     \u001b[0mrating_tags\u001b[0m\u001b[1;33m=\u001b[0m\u001b[0mdriver\u001b[0m\u001b[1;33m.\u001b[0m\u001b[0mfind_elements_by_xpath\u001b[0m\u001b[1;33m(\u001b[0m\u001b[1;34m\"//div[@class='_3LWZlK _1BLPMq']\"\u001b[0m\u001b[1;33m)\u001b[0m\u001b[1;33m\u001b[0m\u001b[1;33m\u001b[0m\u001b[0m\n\u001b[0m\u001b[0;32m      3\u001b[0m \u001b[1;33m\u001b[0m\u001b[0m\n\u001b[0;32m      4\u001b[0m     \u001b[1;32mfor\u001b[0m \u001b[0mi\u001b[0m \u001b[1;32min\u001b[0m \u001b[0mrating_tags\u001b[0m\u001b[1;33m:\u001b[0m\u001b[1;33m\u001b[0m\u001b[1;33m\u001b[0m\u001b[0m\n\u001b[0;32m      5\u001b[0m         \u001b[0mrating\u001b[0m\u001b[1;33m=\u001b[0m\u001b[0mi\u001b[0m\u001b[1;33m.\u001b[0m\u001b[0mtext\u001b[0m\u001b[1;33m\u001b[0m\u001b[1;33m\u001b[0m\u001b[0m\n",
      "\u001b[1;32m~\\anaconda3\\lib\\site-packages\\selenium\\webdriver\\remote\\webdriver.py\u001b[0m in \u001b[0;36mfind_elements_by_xpath\u001b[1;34m(self, xpath)\u001b[0m\n\u001b[0;32m    408\u001b[0m             \u001b[0melements\u001b[0m \u001b[1;33m=\u001b[0m \u001b[0mdriver\u001b[0m\u001b[1;33m.\u001b[0m\u001b[0mfind_elements_by_xpath\u001b[0m\u001b[1;33m(\u001b[0m\u001b[1;34m\"//div[contains(@class, 'foo')]\"\u001b[0m\u001b[1;33m)\u001b[0m\u001b[1;33m\u001b[0m\u001b[1;33m\u001b[0m\u001b[0m\n\u001b[0;32m    409\u001b[0m         \"\"\"\n\u001b[1;32m--> 410\u001b[1;33m         \u001b[1;32mreturn\u001b[0m \u001b[0mself\u001b[0m\u001b[1;33m.\u001b[0m\u001b[0mfind_elements\u001b[0m\u001b[1;33m(\u001b[0m\u001b[0mby\u001b[0m\u001b[1;33m=\u001b[0m\u001b[0mBy\u001b[0m\u001b[1;33m.\u001b[0m\u001b[0mXPATH\u001b[0m\u001b[1;33m,\u001b[0m \u001b[0mvalue\u001b[0m\u001b[1;33m=\u001b[0m\u001b[0mxpath\u001b[0m\u001b[1;33m)\u001b[0m\u001b[1;33m\u001b[0m\u001b[1;33m\u001b[0m\u001b[0m\n\u001b[0m\u001b[0;32m    411\u001b[0m \u001b[1;33m\u001b[0m\u001b[0m\n\u001b[0;32m    412\u001b[0m     \u001b[1;32mdef\u001b[0m \u001b[0mfind_element_by_link_text\u001b[0m\u001b[1;33m(\u001b[0m\u001b[0mself\u001b[0m\u001b[1;33m,\u001b[0m \u001b[0mlink_text\u001b[0m\u001b[1;33m)\u001b[0m\u001b[1;33m:\u001b[0m\u001b[1;33m\u001b[0m\u001b[1;33m\u001b[0m\u001b[0m\n",
      "\u001b[1;32m~\\anaconda3\\lib\\site-packages\\selenium\\webdriver\\remote\\webdriver.py\u001b[0m in \u001b[0;36mfind_elements\u001b[1;34m(self, by, value)\u001b[0m\n\u001b[0;32m   1003\u001b[0m         \u001b[1;31m# Return empty list if driver returns null\u001b[0m\u001b[1;33m\u001b[0m\u001b[1;33m\u001b[0m\u001b[1;33m\u001b[0m\u001b[0m\n\u001b[0;32m   1004\u001b[0m         \u001b[1;31m# See https://github.com/SeleniumHQ/selenium/issues/4555\u001b[0m\u001b[1;33m\u001b[0m\u001b[1;33m\u001b[0m\u001b[1;33m\u001b[0m\u001b[0m\n\u001b[1;32m-> 1005\u001b[1;33m         return self.execute(Command.FIND_ELEMENTS, {\n\u001b[0m\u001b[0;32m   1006\u001b[0m             \u001b[1;34m'using'\u001b[0m\u001b[1;33m:\u001b[0m \u001b[0mby\u001b[0m\u001b[1;33m,\u001b[0m\u001b[1;33m\u001b[0m\u001b[1;33m\u001b[0m\u001b[0m\n\u001b[0;32m   1007\u001b[0m             'value': value})['value'] or []\n",
      "\u001b[1;32m~\\anaconda3\\lib\\site-packages\\selenium\\webdriver\\remote\\webdriver.py\u001b[0m in \u001b[0;36mexecute\u001b[1;34m(self, driver_command, params)\u001b[0m\n\u001b[0;32m    319\u001b[0m         \u001b[0mresponse\u001b[0m \u001b[1;33m=\u001b[0m \u001b[0mself\u001b[0m\u001b[1;33m.\u001b[0m\u001b[0mcommand_executor\u001b[0m\u001b[1;33m.\u001b[0m\u001b[0mexecute\u001b[0m\u001b[1;33m(\u001b[0m\u001b[0mdriver_command\u001b[0m\u001b[1;33m,\u001b[0m \u001b[0mparams\u001b[0m\u001b[1;33m)\u001b[0m\u001b[1;33m\u001b[0m\u001b[1;33m\u001b[0m\u001b[0m\n\u001b[0;32m    320\u001b[0m         \u001b[1;32mif\u001b[0m \u001b[0mresponse\u001b[0m\u001b[1;33m:\u001b[0m\u001b[1;33m\u001b[0m\u001b[1;33m\u001b[0m\u001b[0m\n\u001b[1;32m--> 321\u001b[1;33m             \u001b[0mself\u001b[0m\u001b[1;33m.\u001b[0m\u001b[0merror_handler\u001b[0m\u001b[1;33m.\u001b[0m\u001b[0mcheck_response\u001b[0m\u001b[1;33m(\u001b[0m\u001b[0mresponse\u001b[0m\u001b[1;33m)\u001b[0m\u001b[1;33m\u001b[0m\u001b[1;33m\u001b[0m\u001b[0m\n\u001b[0m\u001b[0;32m    322\u001b[0m             response['value'] = self._unwrap_value(\n\u001b[0;32m    323\u001b[0m                 response.get('value', None))\n",
      "\u001b[1;32m~\\anaconda3\\lib\\site-packages\\selenium\\webdriver\\remote\\errorhandler.py\u001b[0m in \u001b[0;36mcheck_response\u001b[1;34m(self, response)\u001b[0m\n\u001b[0;32m    240\u001b[0m                 \u001b[0malert_text\u001b[0m \u001b[1;33m=\u001b[0m \u001b[0mvalue\u001b[0m\u001b[1;33m[\u001b[0m\u001b[1;34m'alert'\u001b[0m\u001b[1;33m]\u001b[0m\u001b[1;33m.\u001b[0m\u001b[0mget\u001b[0m\u001b[1;33m(\u001b[0m\u001b[1;34m'text'\u001b[0m\u001b[1;33m)\u001b[0m\u001b[1;33m\u001b[0m\u001b[1;33m\u001b[0m\u001b[0m\n\u001b[0;32m    241\u001b[0m             \u001b[1;32mraise\u001b[0m \u001b[0mexception_class\u001b[0m\u001b[1;33m(\u001b[0m\u001b[0mmessage\u001b[0m\u001b[1;33m,\u001b[0m \u001b[0mscreen\u001b[0m\u001b[1;33m,\u001b[0m \u001b[0mstacktrace\u001b[0m\u001b[1;33m,\u001b[0m \u001b[0malert_text\u001b[0m\u001b[1;33m)\u001b[0m\u001b[1;33m\u001b[0m\u001b[1;33m\u001b[0m\u001b[0m\n\u001b[1;32m--> 242\u001b[1;33m         \u001b[1;32mraise\u001b[0m \u001b[0mexception_class\u001b[0m\u001b[1;33m(\u001b[0m\u001b[0mmessage\u001b[0m\u001b[1;33m,\u001b[0m \u001b[0mscreen\u001b[0m\u001b[1;33m,\u001b[0m \u001b[0mstacktrace\u001b[0m\u001b[1;33m)\u001b[0m\u001b[1;33m\u001b[0m\u001b[1;33m\u001b[0m\u001b[0m\n\u001b[0m\u001b[0;32m    243\u001b[0m \u001b[1;33m\u001b[0m\u001b[0m\n\u001b[0;32m    244\u001b[0m     \u001b[1;32mdef\u001b[0m \u001b[0m_value_or_default\u001b[0m\u001b[1;33m(\u001b[0m\u001b[0mself\u001b[0m\u001b[1;33m,\u001b[0m \u001b[0mobj\u001b[0m\u001b[1;33m,\u001b[0m \u001b[0mkey\u001b[0m\u001b[1;33m,\u001b[0m \u001b[0mdefault\u001b[0m\u001b[1;33m)\u001b[0m\u001b[1;33m:\u001b[0m\u001b[1;33m\u001b[0m\u001b[1;33m\u001b[0m\u001b[0m\n",
      "\u001b[1;31mWebDriverException\u001b[0m: Message: chrome not reachable\n  (Session info: chrome=88.0.4324.150)\n"
     ]
    }
   ],
   "source": [
    "for page in range(0,10):\n",
    "    rating_tags=driver.find_elements_by_xpath(\"//div[@class='_3LWZlK _1BLPMq']\")\n",
    "    \n",
    "    for i in rating_tags:\n",
    "        rating=i.text\n",
    "        iphone_ratings.append(rating)\n",
    "    driver.find_element_by_xpath(\"//nav[@class='yFHi8N']/a[12]\").click()\n",
    "iphone_ratings        "
   ]
  },
  {
   "cell_type": "code",
   "execution_count": 409,
   "metadata": {},
   "outputs": [],
   "source": [
    "#scraping the elements of the next page(page2)\n",
    "driver.find_element_by_xpath(\"//nav[@class='yFHi8N']/a[11]\").click()"
   ]
  },
  {
   "cell_type": "code",
   "execution_count": 410,
   "metadata": {},
   "outputs": [],
   "source": [
    "#creating the empty lists to which the final scraped data from page 2 will be stored\n",
    "iphone11_rating2=[]\n",
    "iphone11_reviewsum2=[]\n",
    "iphone11_reviewfull2=[]"
   ]
  },
  {
   "cell_type": "code",
   "execution_count": 411,
   "metadata": {},
   "outputs": [
    {
     "data": {
      "text/plain": [
       "[<selenium.webdriver.remote.webelement.WebElement (session=\"de4ea7918b65cd2d473547f86cc0d217\", element=\"3c4e03e4-4370-4a91-9a51-cf2113f15a6e\")>,\n",
       " <selenium.webdriver.remote.webelement.WebElement (session=\"de4ea7918b65cd2d473547f86cc0d217\", element=\"54d27f79-bfbf-4d0d-8db2-a42e6a312dd8\")>,\n",
       " <selenium.webdriver.remote.webelement.WebElement (session=\"de4ea7918b65cd2d473547f86cc0d217\", element=\"dd9b3231-49fb-473c-8aa2-79908e700f72\")>,\n",
       " <selenium.webdriver.remote.webelement.WebElement (session=\"de4ea7918b65cd2d473547f86cc0d217\", element=\"5d7f9270-7de3-45dd-8b9e-50f430bcb956\")>,\n",
       " <selenium.webdriver.remote.webelement.WebElement (session=\"de4ea7918b65cd2d473547f86cc0d217\", element=\"b851b258-b47b-4b5d-9711-84801144baf6\")>,\n",
       " <selenium.webdriver.remote.webelement.WebElement (session=\"de4ea7918b65cd2d473547f86cc0d217\", element=\"849f58ab-3d9f-4487-8381-86614dc2c39f\")>,\n",
       " <selenium.webdriver.remote.webelement.WebElement (session=\"de4ea7918b65cd2d473547f86cc0d217\", element=\"aa57fa96-6445-4347-be1d-dbd858ebc3b4\")>,\n",
       " <selenium.webdriver.remote.webelement.WebElement (session=\"de4ea7918b65cd2d473547f86cc0d217\", element=\"5fb7032f-7885-47c8-a428-614d290ef75f\")>,\n",
       " <selenium.webdriver.remote.webelement.WebElement (session=\"de4ea7918b65cd2d473547f86cc0d217\", element=\"7e9d1ce5-496e-4278-91f7-374595542cf8\")>,\n",
       " <selenium.webdriver.remote.webelement.WebElement (session=\"de4ea7918b65cd2d473547f86cc0d217\", element=\"b3ed7acd-3076-44bd-bc26-e2fa21dd702b\")>]"
      ]
     },
     "execution_count": 411,
     "metadata": {},
     "output_type": "execute_result"
    }
   ],
   "source": [
    "#let's extract all the tags having the rating\n",
    "rating2=driver.find_elements_by_xpath(\"//div[@class='_3LWZlK _1BLPMq']\")\n",
    "rating2[0:10]"
   ]
  },
  {
   "cell_type": "code",
   "execution_count": 412,
   "metadata": {},
   "outputs": [
    {
     "data": {
      "text/plain": [
       "['5', '5', '5', '5', '5', '5', '5', '5', '5', '5']"
      ]
     },
     "execution_count": 412,
     "metadata": {},
     "output_type": "execute_result"
    }
   ],
   "source": [
    "#Now extract the text inside the tags using a for loop to iterate over all the tags\n",
    "for i in rating2:\n",
    "    ratings=i.text\n",
    "    iphone11_rating2.append(ratings)\n",
    "iphone11_rating2[0:10]"
   ]
  },
  {
   "cell_type": "code",
   "execution_count": 413,
   "metadata": {},
   "outputs": [
    {
     "data": {
      "text/plain": [
       "[<selenium.webdriver.remote.webelement.WebElement (session=\"de4ea7918b65cd2d473547f86cc0d217\", element=\"9e0573e3-a70a-4357-ab65-d62d0608b5a4\")>,\n",
       " <selenium.webdriver.remote.webelement.WebElement (session=\"de4ea7918b65cd2d473547f86cc0d217\", element=\"32f7f526-2b81-494b-9f7b-6f4974a1eb21\")>,\n",
       " <selenium.webdriver.remote.webelement.WebElement (session=\"de4ea7918b65cd2d473547f86cc0d217\", element=\"7684d06c-ab8b-4953-b36f-d0b9a4759bb1\")>,\n",
       " <selenium.webdriver.remote.webelement.WebElement (session=\"de4ea7918b65cd2d473547f86cc0d217\", element=\"8475560a-f185-4830-a207-9ded91435b83\")>,\n",
       " <selenium.webdriver.remote.webelement.WebElement (session=\"de4ea7918b65cd2d473547f86cc0d217\", element=\"a4434650-a7a6-4d9c-814f-815b036cbbab\")>,\n",
       " <selenium.webdriver.remote.webelement.WebElement (session=\"de4ea7918b65cd2d473547f86cc0d217\", element=\"f1e18721-d215-4e31-9a20-2820781640c8\")>,\n",
       " <selenium.webdriver.remote.webelement.WebElement (session=\"de4ea7918b65cd2d473547f86cc0d217\", element=\"a4098bd3-2399-4c02-923c-180784428234\")>,\n",
       " <selenium.webdriver.remote.webelement.WebElement (session=\"de4ea7918b65cd2d473547f86cc0d217\", element=\"9ff917a2-d9fa-4326-8886-4221fd67e59f\")>,\n",
       " <selenium.webdriver.remote.webelement.WebElement (session=\"de4ea7918b65cd2d473547f86cc0d217\", element=\"2fa90bbf-496b-4eee-8f20-1484703da659\")>,\n",
       " <selenium.webdriver.remote.webelement.WebElement (session=\"de4ea7918b65cd2d473547f86cc0d217\", element=\"40e22a7c-03a8-45b4-9c01-f5bdf805ea85\")>]"
      ]
     },
     "execution_count": 413,
     "metadata": {},
     "output_type": "execute_result"
    }
   ],
   "source": [
    "#let's extract all the tags having the review summary\n",
    "reviwsum2=driver.find_elements_by_xpath(\"//p[@class='_2-N8zT']\")\n",
    "reviwsum2[0:10]"
   ]
  },
  {
   "cell_type": "code",
   "execution_count": 414,
   "metadata": {},
   "outputs": [
    {
     "data": {
      "text/plain": [
       "['Perfect product!',\n",
       " 'Terrific',\n",
       " 'Must buy!',\n",
       " 'Terrific purchase',\n",
       " 'Mind-blowing purchase',\n",
       " 'Brilliant',\n",
       " 'Worth every penny',\n",
       " 'Wonderful',\n",
       " 'Great product',\n",
       " 'Highly recommended']"
      ]
     },
     "execution_count": 414,
     "metadata": {},
     "output_type": "execute_result"
    }
   ],
   "source": [
    "#Now extract the text inside the tags using a for loop to iterate over all the tags\n",
    "for i in reviwsum2:\n",
    "    reviwsums=i.text\n",
    "    iphone11_reviewsum2.append(reviwsums)\n",
    "iphone11_reviewsum2[0:10]"
   ]
  },
  {
   "cell_type": "code",
   "execution_count": 415,
   "metadata": {},
   "outputs": [
    {
     "data": {
      "text/plain": [
       "[<selenium.webdriver.remote.webelement.WebElement (session=\"de4ea7918b65cd2d473547f86cc0d217\", element=\"7c34734f-5b69-4c7d-aaa1-5a87278a9ade\")>,\n",
       " <selenium.webdriver.remote.webelement.WebElement (session=\"de4ea7918b65cd2d473547f86cc0d217\", element=\"7e1ddf24-b982-4e51-beb2-614a4367e1c4\")>,\n",
       " <selenium.webdriver.remote.webelement.WebElement (session=\"de4ea7918b65cd2d473547f86cc0d217\", element=\"ba1334ba-188d-49d2-b892-421f81c48743\")>,\n",
       " <selenium.webdriver.remote.webelement.WebElement (session=\"de4ea7918b65cd2d473547f86cc0d217\", element=\"981ecb09-6554-4e2e-826e-795c5ebf5a05\")>,\n",
       " <selenium.webdriver.remote.webelement.WebElement (session=\"de4ea7918b65cd2d473547f86cc0d217\", element=\"febd5de8-bc5a-45be-939c-ef01a1ee429b\")>,\n",
       " <selenium.webdriver.remote.webelement.WebElement (session=\"de4ea7918b65cd2d473547f86cc0d217\", element=\"f7ebb186-c534-488c-a8fd-861b440fd660\")>,\n",
       " <selenium.webdriver.remote.webelement.WebElement (session=\"de4ea7918b65cd2d473547f86cc0d217\", element=\"bac83877-fc42-44e2-8099-189d27c78243\")>,\n",
       " <selenium.webdriver.remote.webelement.WebElement (session=\"de4ea7918b65cd2d473547f86cc0d217\", element=\"d5f876c9-b72a-4a8f-bc04-620c11354794\")>,\n",
       " <selenium.webdriver.remote.webelement.WebElement (session=\"de4ea7918b65cd2d473547f86cc0d217\", element=\"cc9bca60-64f3-4b06-9f8c-76269f6876f5\")>,\n",
       " <selenium.webdriver.remote.webelement.WebElement (session=\"de4ea7918b65cd2d473547f86cc0d217\", element=\"d75d3092-69b8-4710-82fa-80ce678bab69\")>]"
      ]
     },
     "execution_count": 415,
     "metadata": {},
     "output_type": "execute_result"
    }
   ],
   "source": [
    "#let's extract all the tags having the review full\n",
    "reviwfull2=driver.find_elements_by_xpath(\"//div[@class='t-ZTKy']\")\n",
    "reviwfull2[0:10]"
   ]
  },
  {
   "cell_type": "code",
   "execution_count": 416,
   "metadata": {},
   "outputs": [
    {
     "data": {
      "text/plain": [
       "[\"Iphone is just awesome.. battery backup is very very nice.. continuously for 10 hours we can use it.camera is just awesome.. display is just fab.i love it alot..i had to wait 15 days for it as i pre ordered it..overalll it's worth the price..these all images are clicked by my iPhone..and i love it.\",\n",
       " 'Really worth of money. i just love it. It is the best phone ever.',\n",
       " 'It’s an amazing product from apple and the camera is simply superb. Phone is faster.Night shot is simply superb and detailing and colour differentiation from camera is an added advantage\\n\\nThis review I have written from iPhone 11 only and I am glad to say outside.\\n\\nCons wise if we see HD+ display only, no battery percentage indicator as in older iPhone 8.\\nNo assistive touch control button in it\\nNo oleophobic coating on back panel glass and finger prints are visible but since I bought mint gr...\\nREAD MORE',\n",
       " 'Upgraded from iphone 6 to 11 best phone for iphone users battery is much better than other iphones camera is awesome love to use it.camera is so clear in night.',\n",
       " 'This will help you more. See if you are planning to buy iPhone 11. I will say. Yes. But there are some plans I just want to disclose before you buy. 1) If you are an existing iPhone X/XS/XS Max/ XR user, better you guys do not think it to buy. You guys have more or less better gadget. 2) If you are an android user and planning to buy premium phone. I will suggest them to please buy iPhone instead of buying an Android. I bet you will never go back to android after using IOS. Now I want to shar...\\nREAD MORE',\n",
       " 'I have migrated from OP 7pro... and trust me, iPhone 11 is totally worth it.. following are the reasons:-\\n1)there is ABSOLUTELY NO ISSUE WITH THE DISPLAY... its crisp, sharp and I found it to be much much better than OP7 pro. Netflix, Prime video all run crisply... you won’t miss a thing. True Tone works flawlessly...the display brightness is perfect. OP have not calibrated their screens properly.\\n2) iPhone 11 series have really good cameras... others have spoken in depth about them.\\n3) bat...\\nREAD MORE',\n",
       " 'Previously I was using one plus 3t it was a great phone\\nAnd then I decided to upgrade I am stuck between Samsung s10 plus or iPhone 11\\nI have seen the specs and everything were good except the display it’s somewhere between 720-1080 and it’s not even an amoled it’s an LCD display\\nBut I decided to go with iPhone because I have never used an IOS device I have Been an android user from the past 9 years I ordered IPhone 11 (128gb) product red\\nMy experience after using 3 weeks\\n1. The delivery ...\\nREAD MORE',\n",
       " 'This is my first ever I phone. Before this I was using my google nexus 5. But moving from android to iOS is a great experience. It’s worth at this price. I will highly recommend it if you want to move to iOS. The best part of this phone is it’s camera and it’s battery life. This two things have won my heart. I loved it. Happy to have it in my hand. Still exploring its features. And can’t forget to mention Flipkart service. Very prompt service and fast delivery.',\n",
       " 'Well you all know the specifications . One of a kind. Best iPhone till date. Many enhancements to the camera app with many options. Love the glass body with matte finish in the lens area on the back. Lovely colours to choose from. Best battery in an iPhone till date, enough to last more than a day in normal usage. I tested my iPhone 11 battery and lasted for than 24 hours after full charge still with 30% battery charge left. Watched movies for some time. Normal usage on calls, browsing, musi...\\nREAD MORE',\n",
       " \"It's my first time to use iOS phone and I am loving my upgradation 😍😍 I love the color, I love the assebility of the phone....I need to learn more about its functionality, but as far as I have seen, it's quite easy and it has a lot of functions to work on, specially if you are a content writer or a blogger you get a lot of content creation platforms and they are really amazing.\\n\\nThis phone not only for good quality photography but a lot of other task too.😍💯\"]"
      ]
     },
     "execution_count": 416,
     "metadata": {},
     "output_type": "execute_result"
    }
   ],
   "source": [
    "#Now extract the text inside the tags using a for loop to iterate over all the tags\n",
    "for i in reviwfull2:\n",
    "    reviwsfull=i.text\n",
    "    iphone11_reviewfull2.append(reviwsfull)\n",
    "iphone11_reviewfull2[0:10]"
   ]
  },
  {
   "cell_type": "code",
   "execution_count": 417,
   "metadata": {},
   "outputs": [],
   "source": [
    "#scraping the elements of the next page(page3)\n",
    "driver.find_element_by_xpath(\"//nav[@class='yFHi8N']/a[12]\").click()"
   ]
  },
  {
   "cell_type": "code",
   "execution_count": 418,
   "metadata": {},
   "outputs": [],
   "source": [
    "#creating the empty lists to which the final scraped data from page 3 will be stored\n",
    "iphone11_rating3=[]\n",
    "iphone11_reviewsum3=[]\n",
    "iphone11_reviewfull3=[]"
   ]
  },
  {
   "cell_type": "code",
   "execution_count": 419,
   "metadata": {},
   "outputs": [
    {
     "data": {
      "text/plain": [
       "[<selenium.webdriver.remote.webelement.WebElement (session=\"de4ea7918b65cd2d473547f86cc0d217\", element=\"06519187-d994-46ee-955c-91cf3af1efd0\")>,\n",
       " <selenium.webdriver.remote.webelement.WebElement (session=\"de4ea7918b65cd2d473547f86cc0d217\", element=\"594fb01e-5abf-4cb0-8d50-b8608922d4cd\")>,\n",
       " <selenium.webdriver.remote.webelement.WebElement (session=\"de4ea7918b65cd2d473547f86cc0d217\", element=\"63bab5ea-3186-4357-aa42-bfc361eb26de\")>,\n",
       " <selenium.webdriver.remote.webelement.WebElement (session=\"de4ea7918b65cd2d473547f86cc0d217\", element=\"d154b263-92f8-454a-b7a9-d63ff20ccefb\")>,\n",
       " <selenium.webdriver.remote.webelement.WebElement (session=\"de4ea7918b65cd2d473547f86cc0d217\", element=\"1ef9202e-1175-41a8-8b4d-d535b819f3fb\")>,\n",
       " <selenium.webdriver.remote.webelement.WebElement (session=\"de4ea7918b65cd2d473547f86cc0d217\", element=\"fa31c989-c892-45ba-b7c4-dc5ebc1cb040\")>,\n",
       " <selenium.webdriver.remote.webelement.WebElement (session=\"de4ea7918b65cd2d473547f86cc0d217\", element=\"218491f2-7356-407f-8493-a0e40f80f6aa\")>,\n",
       " <selenium.webdriver.remote.webelement.WebElement (session=\"de4ea7918b65cd2d473547f86cc0d217\", element=\"354ca7e8-218f-454f-b77e-fd381c1a4595\")>,\n",
       " <selenium.webdriver.remote.webelement.WebElement (session=\"de4ea7918b65cd2d473547f86cc0d217\", element=\"d4852121-626a-41c4-92d6-894a778f9ffe\")>]"
      ]
     },
     "execution_count": 419,
     "metadata": {},
     "output_type": "execute_result"
    }
   ],
   "source": [
    "#let's extract all the tags having the rating\n",
    "rating3=driver.find_elements_by_xpath(\"//div[@class='_3LWZlK _1BLPMq']\")\n",
    "rating3[0:10]"
   ]
  },
  {
   "cell_type": "code",
   "execution_count": 420,
   "metadata": {},
   "outputs": [
    {
     "data": {
      "text/plain": [
       "['5', '5', '5', '5', '4', '5', '5', '5', '5']"
      ]
     },
     "execution_count": 420,
     "metadata": {},
     "output_type": "execute_result"
    }
   ],
   "source": [
    "#Now extract the text inside the tags using a for loop to iterate over all the tags\n",
    "for i in rating3:\n",
    "    ratings=i.text\n",
    "    iphone11_rating3.append(ratings)\n",
    "iphone11_rating3[0:10]"
   ]
  },
  {
   "cell_type": "code",
   "execution_count": 421,
   "metadata": {},
   "outputs": [
    {
     "data": {
      "text/plain": [
       "[<selenium.webdriver.remote.webelement.WebElement (session=\"de4ea7918b65cd2d473547f86cc0d217\", element=\"f959f896-bd20-4451-bcd5-acc5951c9b5a\")>,\n",
       " <selenium.webdriver.remote.webelement.WebElement (session=\"de4ea7918b65cd2d473547f86cc0d217\", element=\"a23d6172-6129-4bdd-95fc-4fc879b2c534\")>,\n",
       " <selenium.webdriver.remote.webelement.WebElement (session=\"de4ea7918b65cd2d473547f86cc0d217\", element=\"7b80eaf4-195c-4623-adf1-49bc0caa6dce\")>,\n",
       " <selenium.webdriver.remote.webelement.WebElement (session=\"de4ea7918b65cd2d473547f86cc0d217\", element=\"91c123bb-3bf2-41ef-b256-a7469dcb0b6f\")>,\n",
       " <selenium.webdriver.remote.webelement.WebElement (session=\"de4ea7918b65cd2d473547f86cc0d217\", element=\"7fc3de08-bf9d-41e9-9b2e-3a4199870b25\")>,\n",
       " <selenium.webdriver.remote.webelement.WebElement (session=\"de4ea7918b65cd2d473547f86cc0d217\", element=\"6128b087-b9aa-43df-bd48-e882bfdd345e\")>,\n",
       " <selenium.webdriver.remote.webelement.WebElement (session=\"de4ea7918b65cd2d473547f86cc0d217\", element=\"06d043da-fb78-41b4-a994-c924349c9deb\")>,\n",
       " <selenium.webdriver.remote.webelement.WebElement (session=\"de4ea7918b65cd2d473547f86cc0d217\", element=\"9f3651d7-c2a2-45b2-8ab4-0a2dfd964364\")>,\n",
       " <selenium.webdriver.remote.webelement.WebElement (session=\"de4ea7918b65cd2d473547f86cc0d217\", element=\"ea415d4d-b026-4678-b4d6-bb1d7101a3cd\")>,\n",
       " <selenium.webdriver.remote.webelement.WebElement (session=\"de4ea7918b65cd2d473547f86cc0d217\", element=\"14f3b8c0-6985-4714-b77a-becee3d8a3a8\")>]"
      ]
     },
     "execution_count": 421,
     "metadata": {},
     "output_type": "execute_result"
    }
   ],
   "source": [
    "#let's extract all the tags having the review summary\n",
    "reviwsum3=driver.find_elements_by_xpath(\"//p[@class='_2-N8zT']\")\n",
    "reviwsum3[0:10]"
   ]
  },
  {
   "cell_type": "code",
   "execution_count": 422,
   "metadata": {},
   "outputs": [
    {
     "data": {
      "text/plain": [
       "['Mind-blowing purchase',\n",
       " 'Terrific purchase',\n",
       " 'Mind-blowing purchase',\n",
       " 'Simply awesome',\n",
       " 'Good quality product',\n",
       " 'Wonderful',\n",
       " 'Very poor',\n",
       " 'Classy product',\n",
       " 'Perfect product!',\n",
       " 'Awesome']"
      ]
     },
     "execution_count": 422,
     "metadata": {},
     "output_type": "execute_result"
    }
   ],
   "source": [
    "#Now extract the text inside the tags using a for loop to iterate over all the tags\n",
    "for i in reviwsum3:\n",
    "    reviwsums=i.text\n",
    "    iphone11_reviewsum3.append(reviwsums)\n",
    "iphone11_reviewsum3[0:10]"
   ]
  },
  {
   "cell_type": "code",
   "execution_count": 423,
   "metadata": {},
   "outputs": [
    {
     "data": {
      "text/plain": [
       "[<selenium.webdriver.remote.webelement.WebElement (session=\"de4ea7918b65cd2d473547f86cc0d217\", element=\"ddd693ec-c2bf-43cd-bc84-8644965c21e1\")>,\n",
       " <selenium.webdriver.remote.webelement.WebElement (session=\"de4ea7918b65cd2d473547f86cc0d217\", element=\"52b9dd8e-4a70-4ef4-a32b-586fcbb17c90\")>,\n",
       " <selenium.webdriver.remote.webelement.WebElement (session=\"de4ea7918b65cd2d473547f86cc0d217\", element=\"28ea0f10-ec4f-4f11-90be-4a5d660a266e\")>,\n",
       " <selenium.webdriver.remote.webelement.WebElement (session=\"de4ea7918b65cd2d473547f86cc0d217\", element=\"ce6279c6-c655-4081-b6e0-25de03458789\")>,\n",
       " <selenium.webdriver.remote.webelement.WebElement (session=\"de4ea7918b65cd2d473547f86cc0d217\", element=\"ea6abba3-f3ae-471c-9297-b5ad3554cce0\")>,\n",
       " <selenium.webdriver.remote.webelement.WebElement (session=\"de4ea7918b65cd2d473547f86cc0d217\", element=\"02b7d980-80ce-490e-bc26-bfc4e035e20a\")>,\n",
       " <selenium.webdriver.remote.webelement.WebElement (session=\"de4ea7918b65cd2d473547f86cc0d217\", element=\"e2283be6-869e-4881-95be-87610cb6080c\")>,\n",
       " <selenium.webdriver.remote.webelement.WebElement (session=\"de4ea7918b65cd2d473547f86cc0d217\", element=\"67a58c07-77ee-4685-8ef6-70f27960a4aa\")>,\n",
       " <selenium.webdriver.remote.webelement.WebElement (session=\"de4ea7918b65cd2d473547f86cc0d217\", element=\"fa794225-47e3-4c40-9380-ae66040a2be4\")>,\n",
       " <selenium.webdriver.remote.webelement.WebElement (session=\"de4ea7918b65cd2d473547f86cc0d217\", element=\"53e239c3-ae31-411f-8686-6a7dad995c01\")>]"
      ]
     },
     "execution_count": 423,
     "metadata": {},
     "output_type": "execute_result"
    }
   ],
   "source": [
    "#let's extract all the tags having the review full\n",
    "reviwfull3=driver.find_elements_by_xpath(\"//div[@class='t-ZTKy']\")\n",
    "reviwfull3[0:10]"
   ]
  },
  {
   "cell_type": "code",
   "execution_count": 424,
   "metadata": {},
   "outputs": [
    {
     "data": {
      "text/plain": [
       "['Best Quality Product OF iPhone Series , Sound Quality & Camera quality is very awesome, Battery Life is very Sufficient for 24 hr Backup With Full Internet Access , I love this this Product too much , It is very fast & making me Very fast in all my daily Routine\\nHighlights;\\n1.Camera: 5 STAR\\n2.Video Recording: 5 star\\n3.Night mODE sHOOTING & Camera:4 star\\n4. Audio Quality: Awesome\\n5. Battery : 5 Star\\n6. Touch:5 Star\\n7. Processor: Very Fast\\nThe M...\\nREAD MORE',\n",
       " 'The built quality is not very premium.\\nThe battery back is great .\\nThe LCD panel is not so sharp but the brightness level is very High .\\nCamera is super duper awesome.\\nThe red colour which people think is bright is actually very soothing and excellent colour to choose from .\\nThe A13 Bionic chip is really a flagship processor and can beat any phone which even has 12 gb ram .\\nCamera module is very great and looks very stylish.',\n",
       " 'First thanks to Flipkart for this amazing deal and phone is outstanding. I upgraded from iPhone 7 and this is like very big upgrade. But the packaging was very basic I expected a good packaging as they only wrapped one layer of bubble wrap which I don’t think is enough to protect this expensive phone. And I recommend this phone and seller as well.\\n\\nAnd I’m posting this review after using it for 4 days.',\n",
       " 'Excellent camera, good performance, no lag. The lcd display is also good.. but difference come when we watch movie in prime and Netflix, the colours are not vibrant.. as we see in amoled display.. and the charger in box is of 5 watts.. takes more than 3 hours to charge from 0 to 100.. so guys be prepare to buy 18 watts charger . Finally I am an android user, it was my first Iapple phone, I promise u guys the iOS is so smooth.. overall the phone is damn good.... close eyes to buy it.. thanks t...\\nREAD MORE',\n",
       " 'it is very good at performance. Camera is best like before and very smooth response even in water. Don’t buy 12 mini buy iPhone 11 , it is far better than 12 mini believe me ! Have a nice day \\uf8ff ☺️',\n",
       " 'I just directly switch from iphone 6s to iphone 11 .The best premium smartphone I recommend to everyone. Excellent quality and colors the iphone have in 11 series.\\nCamera quality is just awesome and the major feel when we hold in our hands. The sound quality and volume is also higher then the previous models.\\nI will recommend to buy iphone 11 instead of pro models , there is nothing much difference as this model contains everything which fulfill our needs.\\n\\nOnly one thing that I dislike abo...\\nREAD MORE',\n",
       " 'Reviewing again after 5 months. At the beginning the battery and performance was good but it degraded soon. Also I was facing heating issues. The mobile will heat up like a stove sometimes. You cannot even play Pubg even in low settings properly, performance is not a problem but heating is. Also if you play that game for 10 mins the brightness will be automatically down due to over heating even when the auto brightness is set to off. This will not be solved even if u manually increase the bri...\\nREAD MORE',\n",
       " 'Well while switching from android to iOS the first thing you need to be careful about is that you will loose all your whatsapp chat backups as both are different operating systems. Camera clarity is awesome and though being an lcd screen clarity and resolution is good. Battery backup is also good unlike previous gen iPhone. So far the experience is good will Padre after a few months of usage.\\n\\nP.S the black is more of a dark grey shade and not jet black',\n",
       " 'In love with this iphone great performance,camera ,battery everything. Go for it have a uncompareble battery backup, no doubts in iPhone camera here You can see the picture which is shot on my iPhone In love with this iphone great performance,camera ,battery everything. Go for it have a uncompareble battery backup, no doubts in iPhone camera here You can see the picture which is shot on my iPhone In love with this iphone great performance,camera ,battery everything. Go for it have a uncompare...\\nREAD MORE',\n",
       " 'Very excited to have this phone. This phone has the real power unlike the android phones having SD 855 . The battery life is very good and the camera quality is excellent as comapred to redmi and other phones except google pixel. I M enjoying every single bit of it. Would recommed only if you have the budget.']"
      ]
     },
     "execution_count": 424,
     "metadata": {},
     "output_type": "execute_result"
    }
   ],
   "source": [
    "#Now extract the text inside the tags using a for loop to iterate over all the tags\n",
    "for i in reviwfull3:\n",
    "    reviwsfull=i.text\n",
    "    iphone11_reviewfull3.append(reviwsfull)\n",
    "iphone11_reviewfull3[0:10]"
   ]
  },
  {
   "cell_type": "code",
   "execution_count": 425,
   "metadata": {},
   "outputs": [],
   "source": [
    "#scraping the elements of the next page(page4)\n",
    "driver.find_element_by_xpath(\"//nav[@class='yFHi8N']/a[12]\").click()"
   ]
  },
  {
   "cell_type": "code",
   "execution_count": 428,
   "metadata": {},
   "outputs": [],
   "source": [
    "#creating the empty lists to which the final scraped data from page 4 will be stored\n",
    "iphone11_rating4=[]\n",
    "iphone11_reviewsum4=[]\n",
    "iphone11_reviewfull4=[]"
   ]
  },
  {
   "cell_type": "code",
   "execution_count": 429,
   "metadata": {},
   "outputs": [
    {
     "data": {
      "text/plain": [
       "[<selenium.webdriver.remote.webelement.WebElement (session=\"de4ea7918b65cd2d473547f86cc0d217\", element=\"2286285c-c923-4fb2-8284-f16fd802112d\")>,\n",
       " <selenium.webdriver.remote.webelement.WebElement (session=\"de4ea7918b65cd2d473547f86cc0d217\", element=\"7698d107-f108-4426-9af7-f17b125dcc76\")>,\n",
       " <selenium.webdriver.remote.webelement.WebElement (session=\"de4ea7918b65cd2d473547f86cc0d217\", element=\"3cec0672-d2a5-4cc9-9248-2ea5c38f9700\")>,\n",
       " <selenium.webdriver.remote.webelement.WebElement (session=\"de4ea7918b65cd2d473547f86cc0d217\", element=\"6d0877e3-9564-420c-9ff2-bfeb08ad6c05\")>,\n",
       " <selenium.webdriver.remote.webelement.WebElement (session=\"de4ea7918b65cd2d473547f86cc0d217\", element=\"e4e8f206-8762-47ea-9ca7-2149105479c3\")>,\n",
       " <selenium.webdriver.remote.webelement.WebElement (session=\"de4ea7918b65cd2d473547f86cc0d217\", element=\"3e5680c7-774e-4eca-9b85-e37d8424c02d\")>,\n",
       " <selenium.webdriver.remote.webelement.WebElement (session=\"de4ea7918b65cd2d473547f86cc0d217\", element=\"d9a56d3b-7392-4d1d-a640-b6fb0ddc2850\")>,\n",
       " <selenium.webdriver.remote.webelement.WebElement (session=\"de4ea7918b65cd2d473547f86cc0d217\", element=\"977be6e6-10f7-41ed-b653-6552c780480a\")>,\n",
       " <selenium.webdriver.remote.webelement.WebElement (session=\"de4ea7918b65cd2d473547f86cc0d217\", element=\"73ef9010-50ff-421b-bdbc-5a522e605aa0\")>,\n",
       " <selenium.webdriver.remote.webelement.WebElement (session=\"de4ea7918b65cd2d473547f86cc0d217\", element=\"7854621d-2f20-4660-84ab-772261c3dabb\")>]"
      ]
     },
     "execution_count": 429,
     "metadata": {},
     "output_type": "execute_result"
    }
   ],
   "source": [
    "#let's extract all the tags having the rating\n",
    "rating4=driver.find_elements_by_xpath(\"//div[@class='_3LWZlK _1BLPMq']\")\n",
    "rating4[0:10]"
   ]
  },
  {
   "cell_type": "code",
   "execution_count": 430,
   "metadata": {},
   "outputs": [
    {
     "data": {
      "text/plain": [
       "['4', '5', '5', '5', '5', '5', '5', '5', '5', '5']"
      ]
     },
     "execution_count": 430,
     "metadata": {},
     "output_type": "execute_result"
    }
   ],
   "source": [
    "#Now extract the text inside the tags using a for loop to iterate over all the tags\n",
    "for i in rating4:\n",
    "    ratings=i.text\n",
    "    iphone11_rating4.append(ratings)\n",
    "iphone11_rating4[0:10]"
   ]
  },
  {
   "cell_type": "code",
   "execution_count": 431,
   "metadata": {},
   "outputs": [
    {
     "data": {
      "text/plain": [
       "[<selenium.webdriver.remote.webelement.WebElement (session=\"de4ea7918b65cd2d473547f86cc0d217\", element=\"eb7549e5-a128-408e-84cd-096552861f37\")>,\n",
       " <selenium.webdriver.remote.webelement.WebElement (session=\"de4ea7918b65cd2d473547f86cc0d217\", element=\"12cc3dba-9712-442a-b76f-2ebbcc3a8261\")>,\n",
       " <selenium.webdriver.remote.webelement.WebElement (session=\"de4ea7918b65cd2d473547f86cc0d217\", element=\"bbc4db7c-9721-42ba-a232-1c8dc8be0bf6\")>,\n",
       " <selenium.webdriver.remote.webelement.WebElement (session=\"de4ea7918b65cd2d473547f86cc0d217\", element=\"a655828b-d14c-4bbd-a3e0-3f12dabf444e\")>,\n",
       " <selenium.webdriver.remote.webelement.WebElement (session=\"de4ea7918b65cd2d473547f86cc0d217\", element=\"f791b962-a456-484c-ae24-ea56d756e7fd\")>,\n",
       " <selenium.webdriver.remote.webelement.WebElement (session=\"de4ea7918b65cd2d473547f86cc0d217\", element=\"01afa755-07b1-4412-b679-a904ce4d504c\")>,\n",
       " <selenium.webdriver.remote.webelement.WebElement (session=\"de4ea7918b65cd2d473547f86cc0d217\", element=\"cd9baf2c-55a8-46d8-98cc-fb01cfca41b9\")>,\n",
       " <selenium.webdriver.remote.webelement.WebElement (session=\"de4ea7918b65cd2d473547f86cc0d217\", element=\"95b8b2b0-2337-4d79-8cec-f58a8b776786\")>,\n",
       " <selenium.webdriver.remote.webelement.WebElement (session=\"de4ea7918b65cd2d473547f86cc0d217\", element=\"75802e52-ee9f-43ae-978f-bd4fd9099565\")>,\n",
       " <selenium.webdriver.remote.webelement.WebElement (session=\"de4ea7918b65cd2d473547f86cc0d217\", element=\"5eca86b3-9d0c-4502-b66c-6781b6080d83\")>]"
      ]
     },
     "execution_count": 431,
     "metadata": {},
     "output_type": "execute_result"
    }
   ],
   "source": [
    "#let's extract all the tags having the review summary\n",
    "reviwsum4=driver.find_elements_by_xpath(\"//p[@class='_2-N8zT']\")\n",
    "reviwsum4[0:10]"
   ]
  },
  {
   "cell_type": "code",
   "execution_count": 432,
   "metadata": {},
   "outputs": [
    {
     "data": {
      "text/plain": [
       "['Good choice',\n",
       " 'Perfect product!',\n",
       " 'Highly recommended',\n",
       " 'Excellent',\n",
       " 'Simply awesome',\n",
       " 'Fabulous!',\n",
       " 'Simply awesome',\n",
       " 'Fabulous!',\n",
       " 'Worth every penny',\n",
       " 'Classy product']"
      ]
     },
     "execution_count": 432,
     "metadata": {},
     "output_type": "execute_result"
    }
   ],
   "source": [
    "#Now extract the text inside the tags using a for loop to iterate over all the tags\n",
    "for i in reviwsum4:\n",
    "    reviwsums=i.text\n",
    "    iphone11_reviewsum4.append(reviwsums)\n",
    "iphone11_reviewsum4[0:10]"
   ]
  },
  {
   "cell_type": "code",
   "execution_count": 433,
   "metadata": {},
   "outputs": [
    {
     "data": {
      "text/plain": [
       "[<selenium.webdriver.remote.webelement.WebElement (session=\"de4ea7918b65cd2d473547f86cc0d217\", element=\"fd18aa55-19b9-4bb4-8094-f8fa9b337aab\")>,\n",
       " <selenium.webdriver.remote.webelement.WebElement (session=\"de4ea7918b65cd2d473547f86cc0d217\", element=\"5e04c4a0-dee3-41cc-8a63-f7f72428004a\")>,\n",
       " <selenium.webdriver.remote.webelement.WebElement (session=\"de4ea7918b65cd2d473547f86cc0d217\", element=\"5a8933fc-6e6c-48cc-81b2-235f60fd3fcf\")>,\n",
       " <selenium.webdriver.remote.webelement.WebElement (session=\"de4ea7918b65cd2d473547f86cc0d217\", element=\"d64fa413-b8d8-4666-a619-fad0a1228501\")>,\n",
       " <selenium.webdriver.remote.webelement.WebElement (session=\"de4ea7918b65cd2d473547f86cc0d217\", element=\"659b45db-ca43-4178-8bf1-a08bcbe74d07\")>,\n",
       " <selenium.webdriver.remote.webelement.WebElement (session=\"de4ea7918b65cd2d473547f86cc0d217\", element=\"4db8890a-719f-428d-ad63-302553a9eb20\")>,\n",
       " <selenium.webdriver.remote.webelement.WebElement (session=\"de4ea7918b65cd2d473547f86cc0d217\", element=\"8204affe-53a4-48e3-9df9-3994db98d238\")>,\n",
       " <selenium.webdriver.remote.webelement.WebElement (session=\"de4ea7918b65cd2d473547f86cc0d217\", element=\"61c4b7a9-279b-4dee-903f-2d0a8b967234\")>,\n",
       " <selenium.webdriver.remote.webelement.WebElement (session=\"de4ea7918b65cd2d473547f86cc0d217\", element=\"05fd18ca-7c7f-40ff-b94b-8449a85a68ba\")>,\n",
       " <selenium.webdriver.remote.webelement.WebElement (session=\"de4ea7918b65cd2d473547f86cc0d217\", element=\"d37cc2a5-86b4-401a-a8f8-5372e4398829\")>]"
      ]
     },
     "execution_count": 433,
     "metadata": {},
     "output_type": "execute_result"
    }
   ],
   "source": [
    "#let's extract all the tags having the review full\n",
    "reviwfull4=driver.find_elements_by_xpath(\"//div[@class='t-ZTKy']\")\n",
    "reviwfull4[0:10]"
   ]
  },
  {
   "cell_type": "code",
   "execution_count": 434,
   "metadata": {},
   "outputs": [
    {
     "data": {
      "text/plain": [
       "['So far it’s been an AMAZING experience coming back to iOS after nearly a decade but it’s not as versatile as android though phone is sturdy dropped it accidentally a couple of times and nothing happened fortunately camera is awesome',\n",
       " 'After 1 month use I found camera quality best compared to my previous Samsung note 10+.Display not good as note 10 also charging too slow.Apple should add fast charger like 11 plus and pro.Best phone for daily use',\n",
       " 'What a camera .....just awesome ..you can feel this iPhone just awesome . Good for gaming also ...try pubg in hd it’s just wow',\n",
       " 'Amazing camera and feel super machine I am not describe my feeling but this is amazing Phone I am so lucky I have this',\n",
       " 'Really good actually this is my first apple product am using its really awesome performance wise excellent. Am really happy with this iphone11',\n",
       " 'awesome phone to have. it has got many smart features apart from mind blowing looks, camera, display, battery and sound. have fallen in love with this phone. must buy phone if you have got enough money. thanks to flipkart and apple of course..',\n",
       " \"It's very high performances devise i am like the service of flipkart delevary very fast and packing very nice perfect phone\",\n",
       " 'This is my first iOS phone. I am very happy with this product. Very much satisfied with this. I love this phone.',\n",
       " 'i11 is worthy to buy, too much happy with the product. Thank u flipkart I received the item on time..loved it..',\n",
       " 'Superb Product !!!\\nA big and worthy upgrade from mi 3S to iphone 11 .\\nTotally loved it !']"
      ]
     },
     "execution_count": 434,
     "metadata": {},
     "output_type": "execute_result"
    }
   ],
   "source": [
    "#Now extract the text inside the tags using a for loop to iterate over all the tags\n",
    "for i in reviwfull4:\n",
    "    reviwsfull=i.text\n",
    "    iphone11_reviewfull4.append(reviwsfull)\n",
    "iphone11_reviewfull4[0:10]"
   ]
  },
  {
   "cell_type": "code",
   "execution_count": 435,
   "metadata": {},
   "outputs": [],
   "source": [
    "#scraping the elements of the next page(page5)\n",
    "driver.find_element_by_xpath(\"//nav[@class='yFHi8N']/a[12]\").click()"
   ]
  },
  {
   "cell_type": "code",
   "execution_count": 436,
   "metadata": {},
   "outputs": [],
   "source": [
    "#creating the empty lists to which the final scraped data from page 5 will be stored\n",
    "iphone11_rating5=[]\n",
    "iphone11_reviewsum5=[]\n",
    "iphone11_reviewfull5=[]"
   ]
  },
  {
   "cell_type": "code",
   "execution_count": 437,
   "metadata": {},
   "outputs": [
    {
     "data": {
      "text/plain": [
       "[<selenium.webdriver.remote.webelement.WebElement (session=\"de4ea7918b65cd2d473547f86cc0d217\", element=\"5a826351-17e6-49ed-abd8-b547a1a54d7b\")>,\n",
       " <selenium.webdriver.remote.webelement.WebElement (session=\"de4ea7918b65cd2d473547f86cc0d217\", element=\"ced5851a-4586-4735-9027-234280828c4f\")>,\n",
       " <selenium.webdriver.remote.webelement.WebElement (session=\"de4ea7918b65cd2d473547f86cc0d217\", element=\"04f6ea85-f60c-4d69-9bbd-13f5eaa2982e\")>,\n",
       " <selenium.webdriver.remote.webelement.WebElement (session=\"de4ea7918b65cd2d473547f86cc0d217\", element=\"9bb3543b-2298-4b06-8199-9664de364894\")>,\n",
       " <selenium.webdriver.remote.webelement.WebElement (session=\"de4ea7918b65cd2d473547f86cc0d217\", element=\"bda6cfbc-3131-4eda-8b23-deb1c2f8266a\")>,\n",
       " <selenium.webdriver.remote.webelement.WebElement (session=\"de4ea7918b65cd2d473547f86cc0d217\", element=\"a4cf51db-55db-482c-b76e-bdd941706b92\")>,\n",
       " <selenium.webdriver.remote.webelement.WebElement (session=\"de4ea7918b65cd2d473547f86cc0d217\", element=\"5465abb1-0c63-4897-9812-cbef2fd05829\")>,\n",
       " <selenium.webdriver.remote.webelement.WebElement (session=\"de4ea7918b65cd2d473547f86cc0d217\", element=\"4adbb8b2-9066-41dc-a7ce-0027a603338b\")>,\n",
       " <selenium.webdriver.remote.webelement.WebElement (session=\"de4ea7918b65cd2d473547f86cc0d217\", element=\"0d023c93-8af8-4e52-abb3-0de4a3566699\")>,\n",
       " <selenium.webdriver.remote.webelement.WebElement (session=\"de4ea7918b65cd2d473547f86cc0d217\", element=\"4847290a-000f-4927-a03a-04fd93de653e\")>]"
      ]
     },
     "execution_count": 437,
     "metadata": {},
     "output_type": "execute_result"
    }
   ],
   "source": [
    "#let's extract all the tags having the rating\n",
    "rating5=driver.find_elements_by_xpath(\"//div[@class='_3LWZlK _1BLPMq']\")\n",
    "rating5[0:10]"
   ]
  },
  {
   "cell_type": "code",
   "execution_count": 438,
   "metadata": {},
   "outputs": [
    {
     "data": {
      "text/plain": [
       "['5', '5', '5', '5', '5', '5', '5', '3', '5', '5']"
      ]
     },
     "execution_count": 438,
     "metadata": {},
     "output_type": "execute_result"
    }
   ],
   "source": [
    "#Now extract the text inside the tags using a for loop to iterate over all the tags\n",
    "for i in rating5:\n",
    "    ratings=i.text\n",
    "    iphone11_rating5.append(ratings)\n",
    "iphone11_rating5[0:10]"
   ]
  },
  {
   "cell_type": "code",
   "execution_count": 439,
   "metadata": {},
   "outputs": [
    {
     "data": {
      "text/plain": [
       "[<selenium.webdriver.remote.webelement.WebElement (session=\"de4ea7918b65cd2d473547f86cc0d217\", element=\"522251bb-2ee6-4966-a4b1-74206829f95a\")>,\n",
       " <selenium.webdriver.remote.webelement.WebElement (session=\"de4ea7918b65cd2d473547f86cc0d217\", element=\"a6efe647-6f05-4179-8ad0-0bfa7a2d456e\")>,\n",
       " <selenium.webdriver.remote.webelement.WebElement (session=\"de4ea7918b65cd2d473547f86cc0d217\", element=\"7c6919ce-a55c-4498-9d29-1038b9d6045e\")>,\n",
       " <selenium.webdriver.remote.webelement.WebElement (session=\"de4ea7918b65cd2d473547f86cc0d217\", element=\"24fc3839-de21-44b0-a6c8-72bc3e10993a\")>,\n",
       " <selenium.webdriver.remote.webelement.WebElement (session=\"de4ea7918b65cd2d473547f86cc0d217\", element=\"8ac22fea-8a22-4ea0-a4a8-b24fce14db60\")>,\n",
       " <selenium.webdriver.remote.webelement.WebElement (session=\"de4ea7918b65cd2d473547f86cc0d217\", element=\"a38702ef-15a1-4c54-813c-f9627211e850\")>,\n",
       " <selenium.webdriver.remote.webelement.WebElement (session=\"de4ea7918b65cd2d473547f86cc0d217\", element=\"d45d1be7-bed0-4245-a562-ebd52c823a80\")>,\n",
       " <selenium.webdriver.remote.webelement.WebElement (session=\"de4ea7918b65cd2d473547f86cc0d217\", element=\"f9deb36e-f248-492b-ac91-10b19dbe9812\")>,\n",
       " <selenium.webdriver.remote.webelement.WebElement (session=\"de4ea7918b65cd2d473547f86cc0d217\", element=\"13e76b97-5698-43f1-98e1-1923df3f88da\")>,\n",
       " <selenium.webdriver.remote.webelement.WebElement (session=\"de4ea7918b65cd2d473547f86cc0d217\", element=\"0244811e-440a-4117-95db-75f7861240a4\")>]"
      ]
     },
     "execution_count": 439,
     "metadata": {},
     "output_type": "execute_result"
    }
   ],
   "source": [
    "#let's extract all the tags having the review summary\n",
    "reviwsum5=driver.find_elements_by_xpath(\"//p[@class='_2-N8zT']\")\n",
    "reviwsum5[0:10]"
   ]
  },
  {
   "cell_type": "code",
   "execution_count": 440,
   "metadata": {},
   "outputs": [
    {
     "data": {
      "text/plain": [
       "['Mind-blowing purchase',\n",
       " 'Perfect product!',\n",
       " 'Just wow!',\n",
       " 'Simply awesome',\n",
       " 'Brilliant',\n",
       " 'Perfect product!',\n",
       " 'Fabulous!',\n",
       " 'Decent product',\n",
       " 'Fabulous!',\n",
       " 'Excellent']"
      ]
     },
     "execution_count": 440,
     "metadata": {},
     "output_type": "execute_result"
    }
   ],
   "source": [
    "#Now extract the text inside the tags using a for loop to iterate over all the tags\n",
    "for i in reviwsum5:\n",
    "    reviwsums=i.text\n",
    "    iphone11_reviewsum5.append(reviwsums)\n",
    "iphone11_reviewsum5[0:10]"
   ]
  },
  {
   "cell_type": "code",
   "execution_count": 441,
   "metadata": {},
   "outputs": [
    {
     "data": {
      "text/plain": [
       "[<selenium.webdriver.remote.webelement.WebElement (session=\"de4ea7918b65cd2d473547f86cc0d217\", element=\"ab835a80-e0fd-498e-a46e-2b9738091285\")>,\n",
       " <selenium.webdriver.remote.webelement.WebElement (session=\"de4ea7918b65cd2d473547f86cc0d217\", element=\"08758468-b7fb-4611-944d-f763cfd642ba\")>,\n",
       " <selenium.webdriver.remote.webelement.WebElement (session=\"de4ea7918b65cd2d473547f86cc0d217\", element=\"fc4ec1f9-944a-492b-bac0-8a73e3115811\")>,\n",
       " <selenium.webdriver.remote.webelement.WebElement (session=\"de4ea7918b65cd2d473547f86cc0d217\", element=\"ba505f5f-05ee-4b5b-bc23-473a83215ef9\")>,\n",
       " <selenium.webdriver.remote.webelement.WebElement (session=\"de4ea7918b65cd2d473547f86cc0d217\", element=\"d74a32dd-2d3a-41e4-bce7-e8a9a166c722\")>,\n",
       " <selenium.webdriver.remote.webelement.WebElement (session=\"de4ea7918b65cd2d473547f86cc0d217\", element=\"a10981db-36e2-4cf8-a89d-95c7a0906e20\")>,\n",
       " <selenium.webdriver.remote.webelement.WebElement (session=\"de4ea7918b65cd2d473547f86cc0d217\", element=\"7d5a4fd5-906c-4b7b-bcd2-9a692159f01c\")>,\n",
       " <selenium.webdriver.remote.webelement.WebElement (session=\"de4ea7918b65cd2d473547f86cc0d217\", element=\"ca5789fb-c583-42da-a72c-d238474c0557\")>,\n",
       " <selenium.webdriver.remote.webelement.WebElement (session=\"de4ea7918b65cd2d473547f86cc0d217\", element=\"9f72cc9b-e16e-4b2f-b208-eaeed36069b5\")>,\n",
       " <selenium.webdriver.remote.webelement.WebElement (session=\"de4ea7918b65cd2d473547f86cc0d217\", element=\"06dc8587-49db-4aa5-ba44-2fb280f84768\")>]"
      ]
     },
     "execution_count": 441,
     "metadata": {},
     "output_type": "execute_result"
    }
   ],
   "source": [
    "#let's extract all the tags having the review full\n",
    "reviwfull5=driver.find_elements_by_xpath(\"//div[@class='t-ZTKy']\")\n",
    "reviwfull5[0:10]"
   ]
  },
  {
   "cell_type": "code",
   "execution_count": 442,
   "metadata": {},
   "outputs": [
    {
     "data": {
      "text/plain": [
       "['awesome Phone Smooth Touch Too good Sexyy looks one word Awesome',\n",
       " 'Awesome purchase. Amazing phone with good battery backup. It’s a top notch device. White colour looks amazing. Phone has a few extra feature than iPhone XR. Overall, this is value for money',\n",
       " 'Best in class. Battery backup is good especially when you play games like Pubg COD. But it is sort of heavy when you hold in hands. Portrait mode is best to click pictures. Stage light effect is awesome. Try to click photos outside in nature because photos inside home or room will not give you the quality in any phone even in DSLR.',\n",
       " 'Really satisfied with the Product I received... It’s totally genuine and the packaging was also really good so if ur planning to buy just go for it.',\n",
       " 'Excellent camera and display touching very nice and smooth very improvement against iPhone XR and new processor is very fast',\n",
       " 'Battery backup is extraordinary, camera is decent & performance offered by A13 bionic is awsome. The display is good in practical usage like the visibility of display is very good in direct sun light compare to pro models. Iam extremely satisfied for the money I spent.',\n",
       " \"Just an awesome phone...upgraded from 6s to 11 and trust me guys it's super cool with amazing features..loved it ♥️ and a big thank you to Flipkart for delivering it in just 2 days ?\",\n",
       " 'Everything u ll like it when u use this iPhone. Simple changes only not many to lower models but it’s nice to use. Little heavy compared to previous models like 7,8',\n",
       " 'I purchased the iPhone 11 a month back. I must say Apple has impressed me yet again . I have been an Apple user for past 5 years . The phone is power packed with amazing features . What impressed me the most was the battery backup the phone offers . Battery can easily run upto 1.5 days in single charge with moderate to\\nHeavy usage . If you’re looking for a value for money device , I don’t see any other phone in the price range which can match the iPhone 11 .\\nOne thing I didn’t like was that ...\\nREAD MORE',\n",
       " 'Value for money product. This iphone 11 is really amazing. Again nice release by apple. Great camera, battery backup is excellent. I just love this phone']"
      ]
     },
     "execution_count": 442,
     "metadata": {},
     "output_type": "execute_result"
    }
   ],
   "source": [
    "#Now extract the text inside the tags using a for loop to iterate over all the tags\n",
    "for i in reviwfull5:\n",
    "    reviwsfull=i.text\n",
    "    iphone11_reviewfull5.append(reviwsfull)\n",
    "iphone11_reviewfull5[0:10]"
   ]
  },
  {
   "cell_type": "code",
   "execution_count": 443,
   "metadata": {},
   "outputs": [],
   "source": [
    "#scraping the elements of the next page(page6)\n",
    "driver.find_element_by_xpath(\"//nav[@class='yFHi8N']/a[12]\").click()"
   ]
  },
  {
   "cell_type": "code",
   "execution_count": 444,
   "metadata": {},
   "outputs": [],
   "source": [
    "#creating the empty lists to which the final scraped data from page 6 will be stored\n",
    "iphone11_rating6=[]\n",
    "iphone11_reviewsum6=[]\n",
    "iphone11_reviewfull6=[]"
   ]
  },
  {
   "cell_type": "code",
   "execution_count": 445,
   "metadata": {},
   "outputs": [
    {
     "data": {
      "text/plain": [
       "[<selenium.webdriver.remote.webelement.WebElement (session=\"de4ea7918b65cd2d473547f86cc0d217\", element=\"1b36870e-3b67-498b-a7f3-55d7ed9bb8fa\")>,\n",
       " <selenium.webdriver.remote.webelement.WebElement (session=\"de4ea7918b65cd2d473547f86cc0d217\", element=\"607605c4-8223-49da-a028-4ddf8c5b9f2d\")>,\n",
       " <selenium.webdriver.remote.webelement.WebElement (session=\"de4ea7918b65cd2d473547f86cc0d217\", element=\"5e04f514-e425-448b-9129-285dc208229c\")>,\n",
       " <selenium.webdriver.remote.webelement.WebElement (session=\"de4ea7918b65cd2d473547f86cc0d217\", element=\"111eece3-a3ee-47b5-8644-98c8fffd41bc\")>,\n",
       " <selenium.webdriver.remote.webelement.WebElement (session=\"de4ea7918b65cd2d473547f86cc0d217\", element=\"b399b8a6-486c-47e6-a91c-6798d93b0242\")>,\n",
       " <selenium.webdriver.remote.webelement.WebElement (session=\"de4ea7918b65cd2d473547f86cc0d217\", element=\"ac45ff33-c4cc-4e67-bae6-e888c6b282fe\")>,\n",
       " <selenium.webdriver.remote.webelement.WebElement (session=\"de4ea7918b65cd2d473547f86cc0d217\", element=\"0a288d01-5e27-4618-b12f-a18fce5a0327\")>,\n",
       " <selenium.webdriver.remote.webelement.WebElement (session=\"de4ea7918b65cd2d473547f86cc0d217\", element=\"6cdcf9b3-5ef4-4d22-a682-0dd8b0768816\")>,\n",
       " <selenium.webdriver.remote.webelement.WebElement (session=\"de4ea7918b65cd2d473547f86cc0d217\", element=\"4e88a548-2a84-4c18-88f9-b1294850408b\")>,\n",
       " <selenium.webdriver.remote.webelement.WebElement (session=\"de4ea7918b65cd2d473547f86cc0d217\", element=\"a5563535-a948-4f0d-bdef-5b0130c4f0f9\")>]"
      ]
     },
     "execution_count": 445,
     "metadata": {},
     "output_type": "execute_result"
    }
   ],
   "source": [
    "#let's extract all the tags having the rating\n",
    "rating6=driver.find_elements_by_xpath(\"//div[@class='_3LWZlK _1BLPMq']\")\n",
    "rating6[0:10]"
   ]
  },
  {
   "cell_type": "code",
   "execution_count": 446,
   "metadata": {},
   "outputs": [
    {
     "data": {
      "text/plain": [
       "['5', '4', '5', '5', '5', '5', '5', '5', '5', '5']"
      ]
     },
     "execution_count": 446,
     "metadata": {},
     "output_type": "execute_result"
    }
   ],
   "source": [
    "#Now extract the text inside the tags using a for loop to iterate over all the tags\n",
    "for i in rating6:\n",
    "    ratings=i.text\n",
    "    iphone11_rating6.append(ratings)\n",
    "iphone11_rating6[0:10]"
   ]
  },
  {
   "cell_type": "code",
   "execution_count": 447,
   "metadata": {},
   "outputs": [
    {
     "data": {
      "text/plain": [
       "[<selenium.webdriver.remote.webelement.WebElement (session=\"de4ea7918b65cd2d473547f86cc0d217\", element=\"7f4933ca-13bb-4c57-8ffe-6bb11814fe02\")>,\n",
       " <selenium.webdriver.remote.webelement.WebElement (session=\"de4ea7918b65cd2d473547f86cc0d217\", element=\"0a8a2c86-1044-4edc-8bed-a95c77d46c58\")>,\n",
       " <selenium.webdriver.remote.webelement.WebElement (session=\"de4ea7918b65cd2d473547f86cc0d217\", element=\"4dd324af-2f46-4cee-91ea-bcaa9cb4d138\")>,\n",
       " <selenium.webdriver.remote.webelement.WebElement (session=\"de4ea7918b65cd2d473547f86cc0d217\", element=\"458a0157-2477-4229-96b5-809b8ce5d9e8\")>,\n",
       " <selenium.webdriver.remote.webelement.WebElement (session=\"de4ea7918b65cd2d473547f86cc0d217\", element=\"1da57b89-1ca2-4d63-8d14-b407993b20b4\")>,\n",
       " <selenium.webdriver.remote.webelement.WebElement (session=\"de4ea7918b65cd2d473547f86cc0d217\", element=\"09faefcf-3f5e-4ee1-8208-9b266b8b9b09\")>,\n",
       " <selenium.webdriver.remote.webelement.WebElement (session=\"de4ea7918b65cd2d473547f86cc0d217\", element=\"a93d1b99-9ddc-4749-800c-d2f462dcb01f\")>,\n",
       " <selenium.webdriver.remote.webelement.WebElement (session=\"de4ea7918b65cd2d473547f86cc0d217\", element=\"f015ece4-0d1f-4b7a-b8f6-2d8154319012\")>,\n",
       " <selenium.webdriver.remote.webelement.WebElement (session=\"de4ea7918b65cd2d473547f86cc0d217\", element=\"afa9e71f-48b9-44aa-a2c5-a09436d7eb83\")>,\n",
       " <selenium.webdriver.remote.webelement.WebElement (session=\"de4ea7918b65cd2d473547f86cc0d217\", element=\"f76aa479-b1e4-4a49-917a-332d6852c31d\")>]"
      ]
     },
     "execution_count": 447,
     "metadata": {},
     "output_type": "execute_result"
    }
   ],
   "source": [
    "#let's extract all the tags having the review summary\n",
    "reviwsum6=driver.find_elements_by_xpath(\"//p[@class='_2-N8zT']\")\n",
    "reviwsum6[0:10]"
   ]
  },
  {
   "cell_type": "code",
   "execution_count": 448,
   "metadata": {},
   "outputs": [
    {
     "data": {
      "text/plain": [
       "['Classy product',\n",
       " 'Good quality product',\n",
       " 'Super!',\n",
       " 'Terrific purchase',\n",
       " 'Terrific',\n",
       " 'Awesome',\n",
       " 'Fabulous!',\n",
       " 'Wonderful',\n",
       " 'Just wow!',\n",
       " 'Terrific purchase']"
      ]
     },
     "execution_count": 448,
     "metadata": {},
     "output_type": "execute_result"
    }
   ],
   "source": [
    "#Now extract the text inside the tags using a for loop to iterate over all the tags\n",
    "for i in reviwsum6:\n",
    "    reviwsums=i.text\n",
    "    iphone11_reviewsum6.append(reviwsums)\n",
    "iphone11_reviewsum6[0:10]"
   ]
  },
  {
   "cell_type": "code",
   "execution_count": 449,
   "metadata": {},
   "outputs": [
    {
     "data": {
      "text/plain": [
       "[<selenium.webdriver.remote.webelement.WebElement (session=\"de4ea7918b65cd2d473547f86cc0d217\", element=\"35e450bd-b726-4c8b-af6e-afa1fc1c58cb\")>,\n",
       " <selenium.webdriver.remote.webelement.WebElement (session=\"de4ea7918b65cd2d473547f86cc0d217\", element=\"1bc77e83-3fe9-4c05-83ec-4bfe153192d1\")>,\n",
       " <selenium.webdriver.remote.webelement.WebElement (session=\"de4ea7918b65cd2d473547f86cc0d217\", element=\"01dac363-0cd3-439c-a4f0-70432af5049c\")>,\n",
       " <selenium.webdriver.remote.webelement.WebElement (session=\"de4ea7918b65cd2d473547f86cc0d217\", element=\"786f0c3a-1826-487e-a153-422ec2b20b0f\")>,\n",
       " <selenium.webdriver.remote.webelement.WebElement (session=\"de4ea7918b65cd2d473547f86cc0d217\", element=\"e3e87caf-b788-4c83-bcaf-a59239b64950\")>,\n",
       " <selenium.webdriver.remote.webelement.WebElement (session=\"de4ea7918b65cd2d473547f86cc0d217\", element=\"013ae542-c595-48f8-bc5f-9cb1d952c503\")>,\n",
       " <selenium.webdriver.remote.webelement.WebElement (session=\"de4ea7918b65cd2d473547f86cc0d217\", element=\"217a69f1-e0f3-42fd-ac69-a778dc6410d4\")>,\n",
       " <selenium.webdriver.remote.webelement.WebElement (session=\"de4ea7918b65cd2d473547f86cc0d217\", element=\"a0ec680d-eb59-4927-9ce9-a47e33954c69\")>,\n",
       " <selenium.webdriver.remote.webelement.WebElement (session=\"de4ea7918b65cd2d473547f86cc0d217\", element=\"cb514243-2dbf-4b9a-926a-499c161eb542\")>,\n",
       " <selenium.webdriver.remote.webelement.WebElement (session=\"de4ea7918b65cd2d473547f86cc0d217\", element=\"db33b673-5ecf-4f33-a486-ebdbc92c5625\")>]"
      ]
     },
     "execution_count": 449,
     "metadata": {},
     "output_type": "execute_result"
    }
   ],
   "source": [
    "#let's extract all the tags having the review full\n",
    "reviwfull6=driver.find_elements_by_xpath(\"//div[@class='t-ZTKy']\")\n",
    "reviwfull6[0:10]"
   ]
  },
  {
   "cell_type": "code",
   "execution_count": 450,
   "metadata": {},
   "outputs": [
    {
     "data": {
      "text/plain": [
       "['This is very second time I am using iphone I am not a huge fan of I phone but as my past experience iphone is always iphone whn you use it in your hand and it feel firmly buildup and camera quality is awesome processing is fast and realy smooth while using it.Night mode is awesome and photography is brilliant. Go for it and it will be great if you buy it worth it',\n",
       " 'I was torn between the oneplus 8 pro and the iphone 11. I had to shell out extra money for this, but I say if you can afford it, this truely is the best package.\\nMind blowing camera, battery and overall performance. Face Id works like magic even in complete darkness without firing up the screen brightness. The phones with in display fingerprint scanners do this at night time and it really burns your eyes.\\nI wanted the oneplus for its display but tbh the OLEDs on oneplus is really bad. Flick...\\nREAD MORE',\n",
       " \"It's a great phone. From camera to display everything is best for the price.\\nBest camera , best performance. I think everyone should buy it . This phone has best battery life so far in iphone series which I had used earlier. Happy to have it. Thanks Flipkart\",\n",
       " 'I use a Note10+ and have been using both iOS and Android devices.\\n\\nCamera has really good features and portraits are super good, better than Samsung flagship. Overall camera setup can still be enhanced and hopeful for better upgrades on software in next release\\n\\nOperating system is quite a breeze and user experience of daily usage is very high as compared to Android. I moved to iOS very swiftly in 2 days for all my office work from Note10+\\n\\nBattery holds up quite well with 4 hrs of call and ...\\nREAD MORE',\n",
       " 'Good buy.. working perfectly !\\n\\nThat was upgrade from 6S to 11. I see no deference in both the phones except:\\n1. Battery performance\\n2. Camera quality\\n3. Face detection unlock\\n\\nGo for it..!',\n",
       " 'The phone is completely good\\nAs far as camera Apple is king of it\\nAnd its a beast in performance\\nAnd the battery is pretty good too',\n",
       " \"I can say I'm damn impressed with iPhone 11. As they says iPhone 11 have the toughest glass ever in the smartphone which you'll find on the front and back and it's totally smooth. The fit and finish is full apple quality - there's no sense that any cheaping out has happened in the construction. Without saying it's camera features this review won't complete. The iPhone 11 has a dual camera system, consisting of a wide angle len's that's pretty much same as found on the iPhone XR last year, but...\\nREAD MORE\",\n",
       " 'Superfast delivery by Flipkart. Thanks.\\n\\n1. iPhone 11 is a pretty solid phone for the money you are paying.\\n2. All the bad reviews about the display is confusing. It’s not that bad.\\n3. I switched from a Oneplus 7t. I have no complaints about the display quality of iPhone. Yes, it’s not OLED, so, we are missing on the deep blacks. But that’s it. It is a very colour accurate display. Gets adequately bright and I could not find any pixelation.\\n4. Performance is one of the best, if not best, in ...\\nREAD MORE',\n",
       " 'Great iphone.\\nI am writing this review after 2 months of usage.\\nCamera is excellent, especially the nightmode\\nDisplay perfect\\nBattery backup awesome\\nSound quality very good\\nOverall Apple gives you a perfect iphone in this range.\\nReally in love with iPhone 11',\n",
       " 'Well , as we all know if its not an Iphone , its not an iphone . The iphones are always beast . The camera game has been level up . The A13 Bionic is just fabulous . The update this year are certainly the camera which is damn good with d addition of wide angle lens as well as ultra wide . If anyones purchasing an iphone for the first time , do opt for the black color . Its just feels more than premium . Battery life is damn good with lasting fully a day . Overall a nice package . Well managed...\\nREAD MORE']"
      ]
     },
     "execution_count": 450,
     "metadata": {},
     "output_type": "execute_result"
    }
   ],
   "source": [
    "#Now extract the text inside the tags using a for loop to iterate over all the tags\n",
    "for i in reviwfull6:\n",
    "    reviwsfull=i.text\n",
    "    iphone11_reviewfull6.append(reviwsfull)\n",
    "iphone11_reviewfull6[0:10]"
   ]
  },
  {
   "cell_type": "code",
   "execution_count": 451,
   "metadata": {},
   "outputs": [],
   "source": [
    "#scraping the elements of the next page(page7)\n",
    "driver.find_element_by_xpath(\"//nav[@class='yFHi8N']/a[12]\").click()"
   ]
  },
  {
   "cell_type": "code",
   "execution_count": 452,
   "metadata": {},
   "outputs": [],
   "source": [
    "#creating the empty lists to which the final scraped data from page 7 will be stored\n",
    "iphone11_rating7=[]\n",
    "iphone11_reviewsum7=[]\n",
    "iphone11_reviewfull7=[]"
   ]
  },
  {
   "cell_type": "code",
   "execution_count": 453,
   "metadata": {},
   "outputs": [
    {
     "data": {
      "text/plain": [
       "[<selenium.webdriver.remote.webelement.WebElement (session=\"de4ea7918b65cd2d473547f86cc0d217\", element=\"83439772-840f-4117-a500-6f65108707db\")>,\n",
       " <selenium.webdriver.remote.webelement.WebElement (session=\"de4ea7918b65cd2d473547f86cc0d217\", element=\"1b67d74a-e180-47b0-9f55-130d18ab25e9\")>,\n",
       " <selenium.webdriver.remote.webelement.WebElement (session=\"de4ea7918b65cd2d473547f86cc0d217\", element=\"24375dc9-36e8-4f45-8be9-cb5954fa9e88\")>,\n",
       " <selenium.webdriver.remote.webelement.WebElement (session=\"de4ea7918b65cd2d473547f86cc0d217\", element=\"db74ef02-36fd-4a7c-b515-bca5a6463619\")>,\n",
       " <selenium.webdriver.remote.webelement.WebElement (session=\"de4ea7918b65cd2d473547f86cc0d217\", element=\"02219848-03ab-44eb-9563-8cb40277b1ce\")>,\n",
       " <selenium.webdriver.remote.webelement.WebElement (session=\"de4ea7918b65cd2d473547f86cc0d217\", element=\"61030f8c-f04c-4fe5-b892-9c5f355839e5\")>,\n",
       " <selenium.webdriver.remote.webelement.WebElement (session=\"de4ea7918b65cd2d473547f86cc0d217\", element=\"ed3212d0-4d64-4eb8-b3b6-76ce0572c56b\")>,\n",
       " <selenium.webdriver.remote.webelement.WebElement (session=\"de4ea7918b65cd2d473547f86cc0d217\", element=\"f864d9a5-9237-4e12-86c4-b537c86ddd1e\")>,\n",
       " <selenium.webdriver.remote.webelement.WebElement (session=\"de4ea7918b65cd2d473547f86cc0d217\", element=\"39537919-f484-4a32-b04e-bee87933b772\")>,\n",
       " <selenium.webdriver.remote.webelement.WebElement (session=\"de4ea7918b65cd2d473547f86cc0d217\", element=\"a20d0230-bc52-43b7-8a6e-8634bfcc748b\")>]"
      ]
     },
     "execution_count": 453,
     "metadata": {},
     "output_type": "execute_result"
    }
   ],
   "source": [
    "#let's extract all the tags having the rating\n",
    "rating7=driver.find_elements_by_xpath(\"//div[@class='_3LWZlK _1BLPMq']\")\n",
    "rating7[0:10]"
   ]
  },
  {
   "cell_type": "code",
   "execution_count": 454,
   "metadata": {},
   "outputs": [
    {
     "data": {
      "text/plain": [
       "['5', '4', '4', '5', '5', '5', '5', '5', '4', '4']"
      ]
     },
     "execution_count": 454,
     "metadata": {},
     "output_type": "execute_result"
    }
   ],
   "source": [
    "#Now extract the text inside the tags using a for loop to iterate over all the tags\n",
    "for i in rating7:\n",
    "    ratings=i.text\n",
    "    iphone11_rating7.append(ratings)\n",
    "iphone11_rating7[0:10]"
   ]
  },
  {
   "cell_type": "code",
   "execution_count": 455,
   "metadata": {},
   "outputs": [
    {
     "data": {
      "text/plain": [
       "[<selenium.webdriver.remote.webelement.WebElement (session=\"de4ea7918b65cd2d473547f86cc0d217\", element=\"616867b7-5ad8-4a83-8272-b15e092e0183\")>,\n",
       " <selenium.webdriver.remote.webelement.WebElement (session=\"de4ea7918b65cd2d473547f86cc0d217\", element=\"0c9037f2-ef7a-4160-846e-eaf5d1e7fb03\")>,\n",
       " <selenium.webdriver.remote.webelement.WebElement (session=\"de4ea7918b65cd2d473547f86cc0d217\", element=\"3664f4bf-c208-4ada-8acd-76acdb3c6c6e\")>,\n",
       " <selenium.webdriver.remote.webelement.WebElement (session=\"de4ea7918b65cd2d473547f86cc0d217\", element=\"8b9a8391-012e-4434-b57c-a4cdf2108f6e\")>,\n",
       " <selenium.webdriver.remote.webelement.WebElement (session=\"de4ea7918b65cd2d473547f86cc0d217\", element=\"4a245675-7e23-4ff3-9187-2acc9d26d53c\")>,\n",
       " <selenium.webdriver.remote.webelement.WebElement (session=\"de4ea7918b65cd2d473547f86cc0d217\", element=\"370fc134-0941-4a19-803d-814534eef419\")>,\n",
       " <selenium.webdriver.remote.webelement.WebElement (session=\"de4ea7918b65cd2d473547f86cc0d217\", element=\"0ae5a4af-3036-451f-ba84-d3b399394959\")>,\n",
       " <selenium.webdriver.remote.webelement.WebElement (session=\"de4ea7918b65cd2d473547f86cc0d217\", element=\"adce4a2b-79cb-4699-a654-d5ec5a8ee11e\")>,\n",
       " <selenium.webdriver.remote.webelement.WebElement (session=\"de4ea7918b65cd2d473547f86cc0d217\", element=\"edaed80f-8ae1-48cb-90eb-341993e43382\")>,\n",
       " <selenium.webdriver.remote.webelement.WebElement (session=\"de4ea7918b65cd2d473547f86cc0d217\", element=\"e0c31002-6937-40c8-aae7-5a526ac2fe1a\")>]"
      ]
     },
     "execution_count": 455,
     "metadata": {},
     "output_type": "execute_result"
    }
   ],
   "source": [
    "#let's extract all the tags having the review summary\n",
    "reviwsum7=driver.find_elements_by_xpath(\"//p[@class='_2-N8zT']\")\n",
    "reviwsum7[0:10]"
   ]
  },
  {
   "cell_type": "code",
   "execution_count": 456,
   "metadata": {},
   "outputs": [
    {
     "data": {
      "text/plain": [
       "['Just wow!',\n",
       " 'Good quality product',\n",
       " 'Value-for-money',\n",
       " 'Terrific purchase',\n",
       " 'Mind-blowing purchase',\n",
       " 'Perfect product!',\n",
       " 'Excellent',\n",
       " 'Awesome',\n",
       " 'Very Good',\n",
       " 'Good choice']"
      ]
     },
     "execution_count": 456,
     "metadata": {},
     "output_type": "execute_result"
    }
   ],
   "source": [
    "#Now extract the text inside the tags using a for loop to iterate over all the tags\n",
    "for i in reviwsum7:\n",
    "    reviwsums=i.text\n",
    "    iphone11_reviewsum7.append(reviwsums)\n",
    "iphone11_reviewsum7[0:10]"
   ]
  },
  {
   "cell_type": "code",
   "execution_count": 457,
   "metadata": {},
   "outputs": [
    {
     "data": {
      "text/plain": [
       "[<selenium.webdriver.remote.webelement.WebElement (session=\"de4ea7918b65cd2d473547f86cc0d217\", element=\"5f43ba65-48b0-463a-a398-784f3375a381\")>,\n",
       " <selenium.webdriver.remote.webelement.WebElement (session=\"de4ea7918b65cd2d473547f86cc0d217\", element=\"9b72ac61-30e0-4f90-9e71-193be96ea2b8\")>,\n",
       " <selenium.webdriver.remote.webelement.WebElement (session=\"de4ea7918b65cd2d473547f86cc0d217\", element=\"70b588ac-f9a5-449b-b7ca-e89b36f523fa\")>,\n",
       " <selenium.webdriver.remote.webelement.WebElement (session=\"de4ea7918b65cd2d473547f86cc0d217\", element=\"79efb35e-7bf2-4e3d-ae39-e8e1ed47c1db\")>,\n",
       " <selenium.webdriver.remote.webelement.WebElement (session=\"de4ea7918b65cd2d473547f86cc0d217\", element=\"febba86d-1816-49c6-840e-04c79c997a2b\")>,\n",
       " <selenium.webdriver.remote.webelement.WebElement (session=\"de4ea7918b65cd2d473547f86cc0d217\", element=\"af6bd356-7150-4602-b74f-528b7aded54c\")>,\n",
       " <selenium.webdriver.remote.webelement.WebElement (session=\"de4ea7918b65cd2d473547f86cc0d217\", element=\"7df8d42c-0894-49c4-9080-4631e9a5455c\")>,\n",
       " <selenium.webdriver.remote.webelement.WebElement (session=\"de4ea7918b65cd2d473547f86cc0d217\", element=\"60633c25-3f73-4216-abb1-593494b3cd1e\")>,\n",
       " <selenium.webdriver.remote.webelement.WebElement (session=\"de4ea7918b65cd2d473547f86cc0d217\", element=\"6899cbd8-0b64-42b6-ada7-c47257dfbc70\")>,\n",
       " <selenium.webdriver.remote.webelement.WebElement (session=\"de4ea7918b65cd2d473547f86cc0d217\", element=\"56ef67ae-fd2f-4613-b45a-b5cf851c6c39\")>]"
      ]
     },
     "execution_count": 457,
     "metadata": {},
     "output_type": "execute_result"
    }
   ],
   "source": [
    "#let's extract all the tags having the review full\n",
    "reviwfull7=driver.find_elements_by_xpath(\"//div[@class='t-ZTKy']\")\n",
    "reviwfull7[0:10]"
   ]
  },
  {
   "cell_type": "code",
   "execution_count": 458,
   "metadata": {},
   "outputs": [
    {
     "data": {
      "text/plain": [
       "['The ultimate performance\\nCamera is superb\\nThe battery backup also very good i never saw iphone gives this much of battery backup\\nIf any one wana buy iphone 11 definitely i will recommend this mobile\\nIt has the better battery and powerfull processer peak performance glorious camera and the display also 100% high quality lcd display if u had money for for 12 if u dont wana invest much money on that then go for iphone 11 it has maximum same specs only main difference between the 12 and 11 is...\\nREAD MORE',\n",
       " 'Awesome camera, smooth and fast UI, display is great (though not LED) but the black area at the top could have been reduced. Battery remains a day even if used heavily. Charger in the box is ok, but 12 or 18W could have been nothing like anything. Overall an excellent product and comfortable to use. I have got it almost a month back and so far so good.',\n",
       " 'As usual a great product from Apple. but the look wise there were some scope to make it more attractive. from the back it looks nice. picture quality is awesome . face id is blazing fast. The lightning fast bionic processor makes the phone butter smooth.Battery back up is unbeatable and best of the released iPhone.full display is still missing. however, a iPhone is a iPhone. The iPhone lovers know the value of an iPhone 🙂',\n",
       " 'Its Very awesome product working and good camera quality and all about best product and also flipkart is very great deal and offer nice price',\n",
       " \"i was confused between 11 and 11 pro. i was going towards 11 pro, but the screen size was not enough for me.\\nAnd i saw 11 in the showroom. i didn't find much difference in screen quality.And cameras seems to be ok with me. And i saw offer's in flipkart and made the purchase.\\nthe device is fabulous. The hardware and software quality is excellent. The new iOS is something you need to experience yourself. The drawback i found was absence of fast charger, but the pricing can compensate that. Am...\\nREAD MORE\",\n",
       " 'Worth the money’ starting first from its performance it beats out all phones , second the smoothness of camera is awesome, contrast ratio is much than expected. Price will not matter if u r a quality person, if not other phones are available with better discount',\n",
       " 'Seller - SuperComNet ( my trust in you has grown deeper. Thanks for the genuine product )\\nThe package came packed perfectly. The box was sealed which gave me a big relief.\\n\\nApple needs no introduction since its the dominant market player. I just love the way how IPhone 11 stands out so boldly. The moment I took it out from the box, I could feel the premium intensity. The body is remarkable and crafted for giving you a elite vibe.\\n\\nCamera is to die for. There is no other phone that can beat...\\nREAD MORE',\n",
       " 'Can’t beat the software and hardware integration of apple.\\nPerforms like a beast. Great quality camera\\n6-7 hours screen on time which is good. Nothing much to complaint about the screen. Good connectivity speeds.\\nGreat buy and Flipkart’s delivery top notch as usual',\n",
       " 'impressive super phone and best in class camera ,sound and face unlock is super fast just see and phone is unlock and fast in daily apps use',\n",
       " 'Looking so good 👍 😍 super 👌 stylish 😎 phone\\nClean box 📦 good 👍 delivery 👌 fast delivery\\nOriginal box Original iphone 📱 👌 😍😍😍']"
      ]
     },
     "execution_count": 458,
     "metadata": {},
     "output_type": "execute_result"
    }
   ],
   "source": [
    "#Now extract the text inside the tags using a for loop to iterate over all the tags\n",
    "for i in reviwfull7:\n",
    "    reviwsfull=i.text\n",
    "    iphone11_reviewfull7.append(reviwsfull)\n",
    "iphone11_reviewfull7[0:10]"
   ]
  },
  {
   "cell_type": "code",
   "execution_count": 459,
   "metadata": {},
   "outputs": [],
   "source": [
    "#scraping the elements of the next page(page8)\n",
    "driver.find_element_by_xpath(\"//nav[@class='yFHi8N']/a[12]\").click()"
   ]
  },
  {
   "cell_type": "code",
   "execution_count": 460,
   "metadata": {},
   "outputs": [],
   "source": [
    "#creating the empty lists to which the final scraped data from page 8 will be stored\n",
    "iphone11_rating8=[]\n",
    "iphone11_reviewsum8=[]\n",
    "iphone11_reviewfull8=[]"
   ]
  },
  {
   "cell_type": "code",
   "execution_count": 461,
   "metadata": {},
   "outputs": [
    {
     "data": {
      "text/plain": [
       "[<selenium.webdriver.remote.webelement.WebElement (session=\"de4ea7918b65cd2d473547f86cc0d217\", element=\"ba96e1fb-1c16-464c-acc6-04461d6c8197\")>,\n",
       " <selenium.webdriver.remote.webelement.WebElement (session=\"de4ea7918b65cd2d473547f86cc0d217\", element=\"96acda53-7f76-4a88-83ae-61d2becddf76\")>,\n",
       " <selenium.webdriver.remote.webelement.WebElement (session=\"de4ea7918b65cd2d473547f86cc0d217\", element=\"71e108ca-cb6f-4d7e-ac65-329fbb063018\")>,\n",
       " <selenium.webdriver.remote.webelement.WebElement (session=\"de4ea7918b65cd2d473547f86cc0d217\", element=\"c6aa7c55-aadd-4895-b12f-ded56177d704\")>,\n",
       " <selenium.webdriver.remote.webelement.WebElement (session=\"de4ea7918b65cd2d473547f86cc0d217\", element=\"0b932d0a-0089-4547-9c5f-7d6f6a09e381\")>,\n",
       " <selenium.webdriver.remote.webelement.WebElement (session=\"de4ea7918b65cd2d473547f86cc0d217\", element=\"8f1b39f7-25ba-4b99-a266-559665417183\")>,\n",
       " <selenium.webdriver.remote.webelement.WebElement (session=\"de4ea7918b65cd2d473547f86cc0d217\", element=\"e8b37271-ebbb-485a-a5b9-809011f9c8cd\")>,\n",
       " <selenium.webdriver.remote.webelement.WebElement (session=\"de4ea7918b65cd2d473547f86cc0d217\", element=\"69a73b57-e020-4f36-a576-6baa2745e5a6\")>,\n",
       " <selenium.webdriver.remote.webelement.WebElement (session=\"de4ea7918b65cd2d473547f86cc0d217\", element=\"3935b212-3d2a-4990-83b0-597ec2f3fbc7\")>,\n",
       " <selenium.webdriver.remote.webelement.WebElement (session=\"de4ea7918b65cd2d473547f86cc0d217\", element=\"eb06b230-c310-4e6c-990e-bcac93588d19\")>]"
      ]
     },
     "execution_count": 461,
     "metadata": {},
     "output_type": "execute_result"
    }
   ],
   "source": [
    "#let's extract all the tags having the rating\n",
    "rating8=driver.find_elements_by_xpath(\"//div[@class='_3LWZlK _1BLPMq']\")\n",
    "rating8[0:10]"
   ]
  },
  {
   "cell_type": "code",
   "execution_count": 462,
   "metadata": {},
   "outputs": [
    {
     "data": {
      "text/plain": [
       "['5', '5', '5', '5', '3', '5', '5', '5', '5', '5']"
      ]
     },
     "execution_count": 462,
     "metadata": {},
     "output_type": "execute_result"
    }
   ],
   "source": [
    "#Now extract the text inside the tags using a for loop to iterate over all the tags\n",
    "for i in rating8:\n",
    "    ratings=i.text\n",
    "    iphone11_rating8.append(ratings)\n",
    "iphone11_rating8[0:10]"
   ]
  },
  {
   "cell_type": "code",
   "execution_count": 463,
   "metadata": {},
   "outputs": [
    {
     "data": {
      "text/plain": [
       "[<selenium.webdriver.remote.webelement.WebElement (session=\"de4ea7918b65cd2d473547f86cc0d217\", element=\"ec09cf7b-9532-43e8-95e6-196f49b092aa\")>,\n",
       " <selenium.webdriver.remote.webelement.WebElement (session=\"de4ea7918b65cd2d473547f86cc0d217\", element=\"e2b58214-fbdc-4892-88d7-e4c99e365632\")>,\n",
       " <selenium.webdriver.remote.webelement.WebElement (session=\"de4ea7918b65cd2d473547f86cc0d217\", element=\"e32a3e09-b0e7-48c3-a75b-467fa3b230ea\")>,\n",
       " <selenium.webdriver.remote.webelement.WebElement (session=\"de4ea7918b65cd2d473547f86cc0d217\", element=\"67a6aa57-6ffe-4d1e-8bbf-578e20b49017\")>,\n",
       " <selenium.webdriver.remote.webelement.WebElement (session=\"de4ea7918b65cd2d473547f86cc0d217\", element=\"6d9c1e49-1268-4933-a77e-2cb6966cc4a3\")>,\n",
       " <selenium.webdriver.remote.webelement.WebElement (session=\"de4ea7918b65cd2d473547f86cc0d217\", element=\"96d4f9e8-da64-458b-a198-567abc36a94c\")>,\n",
       " <selenium.webdriver.remote.webelement.WebElement (session=\"de4ea7918b65cd2d473547f86cc0d217\", element=\"5c632a84-ca92-4535-a2d4-de3c4806cf8e\")>,\n",
       " <selenium.webdriver.remote.webelement.WebElement (session=\"de4ea7918b65cd2d473547f86cc0d217\", element=\"d8157d75-53c3-4a66-9a44-9d757371ce79\")>,\n",
       " <selenium.webdriver.remote.webelement.WebElement (session=\"de4ea7918b65cd2d473547f86cc0d217\", element=\"e8c904c4-dfc8-476d-a045-f2e8dfa1be04\")>,\n",
       " <selenium.webdriver.remote.webelement.WebElement (session=\"de4ea7918b65cd2d473547f86cc0d217\", element=\"acaedd50-f51e-4485-99aa-0d4b23f5f72b\")>]"
      ]
     },
     "execution_count": 463,
     "metadata": {},
     "output_type": "execute_result"
    }
   ],
   "source": [
    "#let's extract all the tags having the review summary\n",
    "reviwsum8=driver.find_elements_by_xpath(\"//p[@class='_2-N8zT']\")\n",
    "reviwsum8[0:10]"
   ]
  },
  {
   "cell_type": "code",
   "execution_count": 464,
   "metadata": {},
   "outputs": [
    {
     "data": {
      "text/plain": [
       "['Super!',\n",
       " 'Must buy!',\n",
       " 'Fabulous!',\n",
       " 'Brilliant',\n",
       " 'Just okay',\n",
       " 'Terrific',\n",
       " 'Terrific',\n",
       " 'Fabulous!',\n",
       " 'Just wow!',\n",
       " 'Mind-blowing purchase']"
      ]
     },
     "execution_count": 464,
     "metadata": {},
     "output_type": "execute_result"
    }
   ],
   "source": [
    "#Now extract the text inside the tags using a for loop to iterate over all the tags\n",
    "for i in reviwsum8:\n",
    "    reviwsums=i.text\n",
    "    iphone11_reviewsum8.append(reviwsums)\n",
    "iphone11_reviewsum8[0:10]"
   ]
  },
  {
   "cell_type": "code",
   "execution_count": 465,
   "metadata": {},
   "outputs": [
    {
     "data": {
      "text/plain": [
       "[<selenium.webdriver.remote.webelement.WebElement (session=\"de4ea7918b65cd2d473547f86cc0d217\", element=\"726a1faf-001b-40d7-9e0e-3b0d40645609\")>,\n",
       " <selenium.webdriver.remote.webelement.WebElement (session=\"de4ea7918b65cd2d473547f86cc0d217\", element=\"deaab978-9d4d-4190-adb6-26db87c4fcdf\")>,\n",
       " <selenium.webdriver.remote.webelement.WebElement (session=\"de4ea7918b65cd2d473547f86cc0d217\", element=\"53da7286-5004-499e-b2ab-caced3609756\")>,\n",
       " <selenium.webdriver.remote.webelement.WebElement (session=\"de4ea7918b65cd2d473547f86cc0d217\", element=\"753c9c0c-c205-4af8-a3f8-0e5ef15fbff3\")>,\n",
       " <selenium.webdriver.remote.webelement.WebElement (session=\"de4ea7918b65cd2d473547f86cc0d217\", element=\"0f430d6f-3fc6-4be5-b684-020fbd8faa46\")>,\n",
       " <selenium.webdriver.remote.webelement.WebElement (session=\"de4ea7918b65cd2d473547f86cc0d217\", element=\"e393a6e8-f0ed-4ca2-990b-8a731948d1a6\")>,\n",
       " <selenium.webdriver.remote.webelement.WebElement (session=\"de4ea7918b65cd2d473547f86cc0d217\", element=\"343ddff9-234e-4ee6-8df1-55752c21633e\")>,\n",
       " <selenium.webdriver.remote.webelement.WebElement (session=\"de4ea7918b65cd2d473547f86cc0d217\", element=\"0ca498a9-5e85-4ae7-a930-7daa6aa2711b\")>,\n",
       " <selenium.webdriver.remote.webelement.WebElement (session=\"de4ea7918b65cd2d473547f86cc0d217\", element=\"0cb08b45-cf6b-445b-a4d2-9e6304895852\")>,\n",
       " <selenium.webdriver.remote.webelement.WebElement (session=\"de4ea7918b65cd2d473547f86cc0d217\", element=\"81998e4b-48a2-4aaa-a0fa-1cd23d43e0b7\")>]"
      ]
     },
     "execution_count": 465,
     "metadata": {},
     "output_type": "execute_result"
    }
   ],
   "source": [
    "#let's extract all the tags having the review full\n",
    "reviwfull8=driver.find_elements_by_xpath(\"//div[@class='t-ZTKy']\")\n",
    "reviwfull8[0:10]"
   ]
  },
  {
   "cell_type": "code",
   "execution_count": 466,
   "metadata": {},
   "outputs": [
    {
     "data": {
      "text/plain": [
       "['I’d like to start by saying that the overall experience with the iPhone 11 is super smooth and amazing in every aspect. It’s an absolute powerhouse.\\n\\nPerformance - The Apple A13 Bionic is super optimised. You will not face any performance issue at all. You will never have to worry about the lag on this one.\\n\\nBattery - Battery life is one of the best you can get in a iPhone at this time. It’s better than the XR. Average use can get you more than a day and heavy use will get you through the da...\\nREAD MORE',\n",
       " 'I will just say its an awesome phone. Starting from speed , battery life, resolutions, camera quality, features it is superior in all department versus its predecessor. Also would like to state that at this price point it is an extraordinary value product. Recommend anyone who is looking for a highend smart phone within a range of 60k to 100K. .',\n",
       " 'I really liked the budget iPhone. First I thought display would be issue as it is a LCD with less pixels, then after using my perception changed and I never felt like I am using an outdated display. Though I also use S 10+ with Amoled display.\\n\\nSo this is perfect iPhone and a real value for money.',\n",
       " 'Amazing phone and on great deal I received with super fast delivery by Flipkart...',\n",
       " \"Genuine review after few weeks.\\nDecent camera quality.\\nDon't expect to meet the quality and features of the upcoming brands with cheaper prices and better megapixels. Overall smooth experience and everything seems so good. If you have used iOS before, you know the ease of using it.\\nLooks so secure and fast.\\nDefinately it beats my 6GB phones in performance.\\nIf you play games don't bother about RAM, the processor kills it.\\nOverall a good choice to switch from Android to iOS.\\nDon't expect that V...\\nREAD MORE\",\n",
       " 'Very good smartphone and value for smoother and speedy response and work',\n",
       " 'This is very nice phone with great camera, performance, battery but their display is not good as their price overall best iphone to purchase right now',\n",
       " 'Good product nice experience with Flipkart but I am unhappy with the packaging part because such a valuable product comes under normal cover without any additional wrapping and that too for Plus customers. Expecting good Packaging in future from Sellers.',\n",
       " 'Got delivered by good packing from Flipkart with a agreed time line. Apple always stood good and great products towards their customers and this is my 2nd Iphone overall experience with phone is great, Especially when it comes battery gives long-standing performance for applications and gaming purposes, Camera is one of the great features includes in this mobile\\n\\nI will strongly suggest this !',\n",
       " 'Quite osm more then expected . Purple color truly recommended its lookin so beautiful then others .Someone suggest me and have selected the same color its beautiful.\\n\\n\\nPerformance is far better then my last i phone']"
      ]
     },
     "execution_count": 466,
     "metadata": {},
     "output_type": "execute_result"
    }
   ],
   "source": [
    "#Now extract the text inside the tags using a for loop to iterate over all the tags\n",
    "for i in reviwfull8:\n",
    "    reviwsfull=i.text\n",
    "    iphone11_reviewfull8.append(reviwsfull)\n",
    "iphone11_reviewfull8[0:10]"
   ]
  },
  {
   "cell_type": "code",
   "execution_count": 468,
   "metadata": {},
   "outputs": [],
   "source": [
    "#scraping the elements of the next page(page9)\n",
    "driver.find_element_by_xpath(\"//nav[@class='yFHi8N']/a[12]\").click()"
   ]
  },
  {
   "cell_type": "code",
   "execution_count": 469,
   "metadata": {},
   "outputs": [],
   "source": [
    "#creating the empty lists to which the final scraped data from page 9 will be stored\n",
    "iphone11_rating9=[]\n",
    "iphone11_reviewsum9=[]\n",
    "iphone11_reviewfull9=[]"
   ]
  },
  {
   "cell_type": "code",
   "execution_count": 470,
   "metadata": {},
   "outputs": [
    {
     "data": {
      "text/plain": [
       "[<selenium.webdriver.remote.webelement.WebElement (session=\"de4ea7918b65cd2d473547f86cc0d217\", element=\"d0fb54bd-2bef-4be6-a0c9-9da7ae5b1175\")>,\n",
       " <selenium.webdriver.remote.webelement.WebElement (session=\"de4ea7918b65cd2d473547f86cc0d217\", element=\"86e6a27e-15f9-466d-af03-457f583bec0f\")>,\n",
       " <selenium.webdriver.remote.webelement.WebElement (session=\"de4ea7918b65cd2d473547f86cc0d217\", element=\"a953ec39-f09b-4b2f-85eb-5db7a5119c23\")>,\n",
       " <selenium.webdriver.remote.webelement.WebElement (session=\"de4ea7918b65cd2d473547f86cc0d217\", element=\"9e2d819f-2f12-4099-8360-6893023102cf\")>,\n",
       " <selenium.webdriver.remote.webelement.WebElement (session=\"de4ea7918b65cd2d473547f86cc0d217\", element=\"36199ab5-faea-42f5-be1d-d72e1f0ead20\")>,\n",
       " <selenium.webdriver.remote.webelement.WebElement (session=\"de4ea7918b65cd2d473547f86cc0d217\", element=\"7694bb28-d323-41b0-8a4a-0c37a103edd2\")>,\n",
       " <selenium.webdriver.remote.webelement.WebElement (session=\"de4ea7918b65cd2d473547f86cc0d217\", element=\"977df16b-5265-430a-ac41-0651a79e1b74\")>,\n",
       " <selenium.webdriver.remote.webelement.WebElement (session=\"de4ea7918b65cd2d473547f86cc0d217\", element=\"d084b587-686d-479e-862a-8aad2818035d\")>,\n",
       " <selenium.webdriver.remote.webelement.WebElement (session=\"de4ea7918b65cd2d473547f86cc0d217\", element=\"88ee1d5f-f611-4041-98fc-493783de7fa2\")>,\n",
       " <selenium.webdriver.remote.webelement.WebElement (session=\"de4ea7918b65cd2d473547f86cc0d217\", element=\"31697275-e9d0-48c9-9da0-06fc1e5b26fe\")>]"
      ]
     },
     "execution_count": 470,
     "metadata": {},
     "output_type": "execute_result"
    }
   ],
   "source": [
    "#let's extract all the tags having the rating\n",
    "rating9=driver.find_elements_by_xpath(\"//div[@class='_3LWZlK _1BLPMq']\")\n",
    "rating9[0:10]"
   ]
  },
  {
   "cell_type": "code",
   "execution_count": 471,
   "metadata": {},
   "outputs": [
    {
     "data": {
      "text/plain": [
       "['5', '5', '5', '5', '5', '5', '5', '4', '5', '5']"
      ]
     },
     "execution_count": 471,
     "metadata": {},
     "output_type": "execute_result"
    }
   ],
   "source": [
    "#Now extract the text inside the tags using a for loop to iterate over all the tags\n",
    "for i in rating9:\n",
    "    ratings=i.text\n",
    "    iphone11_rating9.append(ratings)\n",
    "iphone11_rating9[0:10]"
   ]
  },
  {
   "cell_type": "code",
   "execution_count": 472,
   "metadata": {},
   "outputs": [
    {
     "data": {
      "text/plain": [
       "[<selenium.webdriver.remote.webelement.WebElement (session=\"de4ea7918b65cd2d473547f86cc0d217\", element=\"9c6546e4-e90d-4930-a43a-f1d0c6d8425a\")>,\n",
       " <selenium.webdriver.remote.webelement.WebElement (session=\"de4ea7918b65cd2d473547f86cc0d217\", element=\"67ac4d5a-ae57-4e18-8cc3-d1cdacb4136b\")>,\n",
       " <selenium.webdriver.remote.webelement.WebElement (session=\"de4ea7918b65cd2d473547f86cc0d217\", element=\"115fe9a0-179f-4c3e-bba8-45148c2f70a9\")>,\n",
       " <selenium.webdriver.remote.webelement.WebElement (session=\"de4ea7918b65cd2d473547f86cc0d217\", element=\"4fd199ee-b782-4750-824f-ea328a8b42c0\")>,\n",
       " <selenium.webdriver.remote.webelement.WebElement (session=\"de4ea7918b65cd2d473547f86cc0d217\", element=\"0b36a289-1383-4a85-9db2-1d185d2fb015\")>,\n",
       " <selenium.webdriver.remote.webelement.WebElement (session=\"de4ea7918b65cd2d473547f86cc0d217\", element=\"ea8f306f-478f-4115-947d-6638dc2b22af\")>,\n",
       " <selenium.webdriver.remote.webelement.WebElement (session=\"de4ea7918b65cd2d473547f86cc0d217\", element=\"5f7f6c31-80cf-4aa5-9a2a-8fcacb68505e\")>,\n",
       " <selenium.webdriver.remote.webelement.WebElement (session=\"de4ea7918b65cd2d473547f86cc0d217\", element=\"077855e3-f445-48f1-851f-439b7c2169dc\")>,\n",
       " <selenium.webdriver.remote.webelement.WebElement (session=\"de4ea7918b65cd2d473547f86cc0d217\", element=\"8639d335-cdef-4bbf-bece-247ba6b6782f\")>,\n",
       " <selenium.webdriver.remote.webelement.WebElement (session=\"de4ea7918b65cd2d473547f86cc0d217\", element=\"d4f5f116-ce9d-4c48-9553-ae4fcd3e2bb3\")>]"
      ]
     },
     "execution_count": 472,
     "metadata": {},
     "output_type": "execute_result"
    }
   ],
   "source": [
    "#let's extract all the tags having the review summary\n",
    "reviwsum9=driver.find_elements_by_xpath(\"//p[@class='_2-N8zT']\")\n",
    "reviwsum9[0:10]"
   ]
  },
  {
   "cell_type": "code",
   "execution_count": 473,
   "metadata": {},
   "outputs": [
    {
     "data": {
      "text/plain": [
       "['Perfect product!',\n",
       " 'Mind-blowing purchase',\n",
       " 'Just wow!',\n",
       " 'Worth every penny',\n",
       " 'Just wow!',\n",
       " 'Super!',\n",
       " 'Super!',\n",
       " 'Good choice',\n",
       " 'Terrific purchase',\n",
       " 'Simply awesome']"
      ]
     },
     "execution_count": 473,
     "metadata": {},
     "output_type": "execute_result"
    }
   ],
   "source": [
    "#Now extract the text inside the tags using a for loop to iterate over all the tags\n",
    "for i in reviwsum9:\n",
    "    reviwsums=i.text\n",
    "    iphone11_reviewsum9.append(reviwsums)\n",
    "iphone11_reviewsum9[0:10]"
   ]
  },
  {
   "cell_type": "code",
   "execution_count": 474,
   "metadata": {},
   "outputs": [
    {
     "data": {
      "text/plain": [
       "[<selenium.webdriver.remote.webelement.WebElement (session=\"de4ea7918b65cd2d473547f86cc0d217\", element=\"cb5c0332-cfbd-402e-9adc-deb97cdc39a8\")>,\n",
       " <selenium.webdriver.remote.webelement.WebElement (session=\"de4ea7918b65cd2d473547f86cc0d217\", element=\"48a2265a-de99-4042-9749-2de58c0c2747\")>,\n",
       " <selenium.webdriver.remote.webelement.WebElement (session=\"de4ea7918b65cd2d473547f86cc0d217\", element=\"f119c89e-e4c7-412a-8245-8775249c6ee6\")>,\n",
       " <selenium.webdriver.remote.webelement.WebElement (session=\"de4ea7918b65cd2d473547f86cc0d217\", element=\"fa89ed3e-37b3-4be7-9101-5278d0c25474\")>,\n",
       " <selenium.webdriver.remote.webelement.WebElement (session=\"de4ea7918b65cd2d473547f86cc0d217\", element=\"d0ba6934-5ee1-44be-adf9-d99df1f5472c\")>,\n",
       " <selenium.webdriver.remote.webelement.WebElement (session=\"de4ea7918b65cd2d473547f86cc0d217\", element=\"b1f90f05-8167-4764-b1fd-c45d2c3285f5\")>,\n",
       " <selenium.webdriver.remote.webelement.WebElement (session=\"de4ea7918b65cd2d473547f86cc0d217\", element=\"2f679106-8d2b-4a2f-a0a2-9ddd752367cb\")>,\n",
       " <selenium.webdriver.remote.webelement.WebElement (session=\"de4ea7918b65cd2d473547f86cc0d217\", element=\"b90cd9ea-aeb3-4b16-b0d9-f5a0c31ed991\")>,\n",
       " <selenium.webdriver.remote.webelement.WebElement (session=\"de4ea7918b65cd2d473547f86cc0d217\", element=\"f0770a2d-bd30-454e-b66a-a36643f88f33\")>,\n",
       " <selenium.webdriver.remote.webelement.WebElement (session=\"de4ea7918b65cd2d473547f86cc0d217\", element=\"d67be395-fb0e-45dc-bd26-9e37b0f7f3ce\")>]"
      ]
     },
     "execution_count": 474,
     "metadata": {},
     "output_type": "execute_result"
    }
   ],
   "source": [
    "#let's extract all the tags having the review full\n",
    "reviwfull9=driver.find_elements_by_xpath(\"//div[@class='t-ZTKy']\")\n",
    "reviwfull9[0:10]"
   ]
  },
  {
   "cell_type": "code",
   "execution_count": 475,
   "metadata": {},
   "outputs": [
    {
     "data": {
      "text/plain": [
       "['Excellent service by Flipkart. The phone is true value for money, the camera is great especially the low light night photography.\\nThe processor is fast making gaming a lot of fun.\\nI read a lot of negative reviews about the display but I was using a OnePlus before and somehow the iphone 11 display is more easy on the eyes and the adaptive brightness is more effective than any of the other phones that I have used.\\nCharging is a bit slow owing to the smaller charger included in the box inste...\\nREAD MORE',\n",
       " 'It’s a quiet good for new users. And I’m happy with it. Thanks apple and Flipkart too. 😊♥️',\n",
       " 'My first iPhone. Still wondering where was I lost all this while. Always thought that an iPhone is just to pricey and not worth its cost. Trust me, I didn’t regret once for this mighty purchase. It is a different ecosystem all together and I have become an Apple fan instantly. Now all my gadgets ought to be Apple. Just seamless, timeless, super smooth, flamboyant, style statement, and the list is endless. The back camera is worth the hype not the selfie camera. Sound quality is surround sound...\\nREAD MORE',\n",
       " 'PROS:\\n1. Ballistic performance\\n2. Amazing image quality from the camera setup\\n3. Superb battery performance,\\n4. Design\\n5. Fit and finish.\\n6. iOS 13 integration with the hardware.\\nCONS:\\n1. Display quality leaves a lot to be desired. The non-1080p display is hardly noticeable during regular usage and is more than a pass. But if you are someone who use their phone for a majority of video playback, you’re in for a disappointment. Otherwise, it’s perfect for every other need.\\n2. The overall s...\\nREAD MORE',\n",
       " 'iPhone 11 is good but if someone want Superior phone then go for 11 pro because screen display is too good from iPhone 11 and as well as camera quality',\n",
       " 'Everything good as expected from Apple, but only thing thing missing is the 18w power adapter, because if the phone is compatible for fast charging and it takes more than 3 hours for full charge on a normal charger then it should come bundled with the 18w adapter.',\n",
       " 'The only issue is the unavailability of fast charging adapter in the box. It really takes a hell lotta time to get 100%.\\nApart from that.. it really is a premium smart phone.\\nOne can easily fall in love with the fast and efficient performance.',\n",
       " 'Great product as usual. Handy phone with best processor and camera quality in the market. Recommended 128GB storage 👍',\n",
       " 'It’s being awesome to buy an apple product simply awesome first time use so don’t know that much about device still apple clearly wins from android.🤓',\n",
       " 'excellent mobile phone with amazing feautures. 100% value for money.The greatest attribute was its battery(all day long usage). dont hesitate to buy. Only difference between 11pro and 11 is display and its telescope lens remaining all are same']"
      ]
     },
     "execution_count": 475,
     "metadata": {},
     "output_type": "execute_result"
    }
   ],
   "source": [
    "#Now extract the text inside the tags using a for loop to iterate over all the tags\n",
    "for i in reviwfull9:\n",
    "    reviwsfull=i.text\n",
    "    iphone11_reviewfull9.append(reviwsfull)\n",
    "iphone11_reviewfull9[0:10]"
   ]
  },
  {
   "cell_type": "code",
   "execution_count": 476,
   "metadata": {},
   "outputs": [],
   "source": [
    "#scraping the elements of the next page(page10)\n",
    "driver.find_element_by_xpath(\"//nav[@class='yFHi8N']/a[12]\").click()"
   ]
  },
  {
   "cell_type": "code",
   "execution_count": 477,
   "metadata": {},
   "outputs": [],
   "source": [
    "#creating the empty lists to which the final scraped data from page 10 will be stored\n",
    "iphone11_rating10=[]\n",
    "iphone11_reviewsum10=[]\n",
    "iphone11_reviewfull10=[]"
   ]
  },
  {
   "cell_type": "code",
   "execution_count": 478,
   "metadata": {},
   "outputs": [
    {
     "data": {
      "text/plain": [
       "[<selenium.webdriver.remote.webelement.WebElement (session=\"de4ea7918b65cd2d473547f86cc0d217\", element=\"4ef786f3-b2ea-4480-a2a0-7793367807a7\")>,\n",
       " <selenium.webdriver.remote.webelement.WebElement (session=\"de4ea7918b65cd2d473547f86cc0d217\", element=\"3d787c73-f5a7-44db-901c-6a5f0bceec81\")>,\n",
       " <selenium.webdriver.remote.webelement.WebElement (session=\"de4ea7918b65cd2d473547f86cc0d217\", element=\"ea305099-8a6a-4c58-a802-30cd6df9f1a7\")>,\n",
       " <selenium.webdriver.remote.webelement.WebElement (session=\"de4ea7918b65cd2d473547f86cc0d217\", element=\"8087c249-3ce2-4b87-9381-e9c64f7bd83e\")>,\n",
       " <selenium.webdriver.remote.webelement.WebElement (session=\"de4ea7918b65cd2d473547f86cc0d217\", element=\"862a9fa9-f1cb-44b9-ab4e-24d8c3ff2e71\")>,\n",
       " <selenium.webdriver.remote.webelement.WebElement (session=\"de4ea7918b65cd2d473547f86cc0d217\", element=\"7dbc6ebc-fd14-4776-8be5-ed9e9ae6a770\")>,\n",
       " <selenium.webdriver.remote.webelement.WebElement (session=\"de4ea7918b65cd2d473547f86cc0d217\", element=\"f2f52621-a9ed-45cd-865b-61cfaddbf29a\")>,\n",
       " <selenium.webdriver.remote.webelement.WebElement (session=\"de4ea7918b65cd2d473547f86cc0d217\", element=\"735f4534-1378-4469-ae8e-b0a0f753f605\")>,\n",
       " <selenium.webdriver.remote.webelement.WebElement (session=\"de4ea7918b65cd2d473547f86cc0d217\", element=\"8690e1eb-bbe3-4906-98ad-037bc74ddc70\")>,\n",
       " <selenium.webdriver.remote.webelement.WebElement (session=\"de4ea7918b65cd2d473547f86cc0d217\", element=\"2c139e5b-006c-4ea5-a164-75927eba38c2\")>]"
      ]
     },
     "execution_count": 478,
     "metadata": {},
     "output_type": "execute_result"
    }
   ],
   "source": [
    "#let's extract all the tags having the rating\n",
    "rating10=driver.find_elements_by_xpath(\"//div[@class='_3LWZlK _1BLPMq']\")\n",
    "rating10[0:10]"
   ]
  },
  {
   "cell_type": "code",
   "execution_count": 479,
   "metadata": {},
   "outputs": [
    {
     "data": {
      "text/plain": [
       "['5', '5', '5', '5', '5', '4', '5', '5', '5', '5']"
      ]
     },
     "execution_count": 479,
     "metadata": {},
     "output_type": "execute_result"
    }
   ],
   "source": [
    "#Now extract the text inside the tags using a for loop to iterate over all the tags\n",
    "for i in rating10:\n",
    "    ratings=i.text\n",
    "    iphone11_rating10.append(ratings)\n",
    "iphone11_rating10[0:10]"
   ]
  },
  {
   "cell_type": "code",
   "execution_count": 480,
   "metadata": {},
   "outputs": [
    {
     "data": {
      "text/plain": [
       "[<selenium.webdriver.remote.webelement.WebElement (session=\"de4ea7918b65cd2d473547f86cc0d217\", element=\"4986e700-3196-4dc2-92f4-4b3aceb4eaf2\")>,\n",
       " <selenium.webdriver.remote.webelement.WebElement (session=\"de4ea7918b65cd2d473547f86cc0d217\", element=\"13cacd2d-9398-4df7-8aaa-1206930ff5f6\")>,\n",
       " <selenium.webdriver.remote.webelement.WebElement (session=\"de4ea7918b65cd2d473547f86cc0d217\", element=\"25f72ccd-f776-4831-9bbe-219d191cd155\")>,\n",
       " <selenium.webdriver.remote.webelement.WebElement (session=\"de4ea7918b65cd2d473547f86cc0d217\", element=\"64a1cee4-c5be-4f90-9f75-9d24bced3034\")>,\n",
       " <selenium.webdriver.remote.webelement.WebElement (session=\"de4ea7918b65cd2d473547f86cc0d217\", element=\"9cfe9a53-f47d-443b-a339-86615a8fee21\")>,\n",
       " <selenium.webdriver.remote.webelement.WebElement (session=\"de4ea7918b65cd2d473547f86cc0d217\", element=\"75260044-604b-4c51-a54e-e89e25751a84\")>,\n",
       " <selenium.webdriver.remote.webelement.WebElement (session=\"de4ea7918b65cd2d473547f86cc0d217\", element=\"945ae23c-6383-4915-9892-c5618e3b85c2\")>,\n",
       " <selenium.webdriver.remote.webelement.WebElement (session=\"de4ea7918b65cd2d473547f86cc0d217\", element=\"301e90d1-ac20-4562-bb83-3215cd3cfbb9\")>,\n",
       " <selenium.webdriver.remote.webelement.WebElement (session=\"de4ea7918b65cd2d473547f86cc0d217\", element=\"f30d072c-0ebe-4373-a134-4a59ba14977a\")>,\n",
       " <selenium.webdriver.remote.webelement.WebElement (session=\"de4ea7918b65cd2d473547f86cc0d217\", element=\"49636cc8-99f7-49f2-9c6d-59a9e8b97b95\")>]"
      ]
     },
     "execution_count": 480,
     "metadata": {},
     "output_type": "execute_result"
    }
   ],
   "source": [
    "#let's extract all the tags having the review summary\n",
    "reviwsum10=driver.find_elements_by_xpath(\"//p[@class='_2-N8zT']\")\n",
    "reviwsum10[0:10]"
   ]
  },
  {
   "cell_type": "code",
   "execution_count": 481,
   "metadata": {},
   "outputs": [
    {
     "data": {
      "text/plain": [
       "['Great product',\n",
       " 'Terrific purchase',\n",
       " 'Mind-blowing purchase',\n",
       " 'Worth every penny',\n",
       " 'Worth every penny',\n",
       " 'Delightful',\n",
       " 'Fabulous!',\n",
       " 'Terrific',\n",
       " 'Excellent',\n",
       " 'Terrific']"
      ]
     },
     "execution_count": 481,
     "metadata": {},
     "output_type": "execute_result"
    }
   ],
   "source": [
    "#Now extract the text inside the tags using a for loop to iterate over all the tags\n",
    "for i in reviwsum10:\n",
    "    reviwsums=i.text\n",
    "    iphone11_reviewsum10.append(reviwsums)\n",
    "iphone11_reviewsum10[0:10]"
   ]
  },
  {
   "cell_type": "code",
   "execution_count": 482,
   "metadata": {},
   "outputs": [
    {
     "data": {
      "text/plain": [
       "[<selenium.webdriver.remote.webelement.WebElement (session=\"de4ea7918b65cd2d473547f86cc0d217\", element=\"c0ee159b-1544-4c83-91d9-409b3a27aafb\")>,\n",
       " <selenium.webdriver.remote.webelement.WebElement (session=\"de4ea7918b65cd2d473547f86cc0d217\", element=\"ad8839db-28b9-42f2-93aa-ac3b1de9ee46\")>,\n",
       " <selenium.webdriver.remote.webelement.WebElement (session=\"de4ea7918b65cd2d473547f86cc0d217\", element=\"f0c7b636-b7c6-428f-a4da-00fb2a6e4947\")>,\n",
       " <selenium.webdriver.remote.webelement.WebElement (session=\"de4ea7918b65cd2d473547f86cc0d217\", element=\"65031b51-e43e-4783-9109-46f00590a3f9\")>,\n",
       " <selenium.webdriver.remote.webelement.WebElement (session=\"de4ea7918b65cd2d473547f86cc0d217\", element=\"0f229a07-1840-4355-bd40-3a4af4badec9\")>,\n",
       " <selenium.webdriver.remote.webelement.WebElement (session=\"de4ea7918b65cd2d473547f86cc0d217\", element=\"99e9fe35-c699-4582-bac3-e39b7e07a15d\")>,\n",
       " <selenium.webdriver.remote.webelement.WebElement (session=\"de4ea7918b65cd2d473547f86cc0d217\", element=\"ebb3d149-4393-4568-bf24-ca47048fe366\")>,\n",
       " <selenium.webdriver.remote.webelement.WebElement (session=\"de4ea7918b65cd2d473547f86cc0d217\", element=\"c5ed9225-2d64-49ed-85a3-ee08c24f0d43\")>,\n",
       " <selenium.webdriver.remote.webelement.WebElement (session=\"de4ea7918b65cd2d473547f86cc0d217\", element=\"27733cc8-2c4b-4ab0-8aa8-74364cac5323\")>,\n",
       " <selenium.webdriver.remote.webelement.WebElement (session=\"de4ea7918b65cd2d473547f86cc0d217\", element=\"dcae58d1-26ae-4137-bb2c-528932a7aec7\")>]"
      ]
     },
     "execution_count": 482,
     "metadata": {},
     "output_type": "execute_result"
    }
   ],
   "source": [
    "#let's extract all the tags having the review full\n",
    "reviwfull10=driver.find_elements_by_xpath(\"//div[@class='t-ZTKy']\")\n",
    "reviwfull10[0:10]"
   ]
  },
  {
   "cell_type": "code",
   "execution_count": 483,
   "metadata": {},
   "outputs": [
    {
     "data": {
      "text/plain": [
       "['Terrific!!! Lucky to get this phone in first lot. First switch over for me from android. awesome camera.. One of the best in class.. go for iphone 11 if you are the first time user.',\n",
       " 'finally an iPhone with very nice battery backup. update from iPhone 7 and happy to have it. camera is not up to the mark in low light but overall a recommended phone if your budget allows 😀',\n",
       " 'This is phone is super duper sexy.\\nYou will get in love with this phone the moment you will unbox it.\\nPerformance is awesome.\\nSo smooth, easy to handle.\\nSometimes, if working continuously, you will feel that the phone is heavy otherwise you won’t if worked for shorter period of time.\\nI would personally suggest you to go for 128GB version because it will be a true value for money.\\nTalking about colour, I find white colour as a royal one.',\n",
       " 'Just go for it without a second thought, if you are looking for a best phone in the market and want to save 40k to not go for iPhone 11 pro, the only thing i think this product is feel missing is Oled display software do the job of portrait, so go for it rather than 11 pro. Everything is at top with this phone. I am writing this review after using this phone for more than 2 months.',\n",
       " \"no complaint against the display it's very crisp , though it is not the OLED but if you put side by side and compare with iPhone xs you hardly notice any difference , i noticed the brightness because 11 has 600 nits compare to 1200 nits on xs . other wise you never feel that its a 720 p display. very very good quality LCD screen you can't compare with any other LCD screen it's far better than any other LCD screen available in market. battery is very impressive , and Love the sound of stereo s...\\nREAD MORE\",\n",
       " 'Nice camera for front and back.. The display is not as good because it makes sound when we tap on it! But overall it’s a good phone.',\n",
       " 'Best phone in this price segment people say that it is a IPS display but don’t judge a book with the specs sheet only I have not seen any LCD Display like this in any smartphone industry leading IPS display . Everything is awesome in this phone but sometime but apple should have been giving OLED in this price segment',\n",
       " \"I got this beast today. And I must say the picture quality of its camera is awesome. Both the cameras works fine.\\n\\nAs for as the processing is concerned, it runs without any lag. You can play and do whatever you want without a glitch.\\n\\nThe battery runs for a day with medium and high workload.\\n\\nThe display is good and the speakers are working fine.\\n\\nThe earphones doesn't have any base and you can use it for calling mostly.\\n\\nThe charging time is approximately for 90 minutes for full charging...\\nREAD MORE\",\n",
       " \"Got mobile @56,990 on 8 oct 2020 when all other platforms were selling iPhone 11 for more than 65k.\\nThank you Flipkart for bank offer and great discount. Also mobile is delivered under 15 hrs from order.\\nScreen is LCD but won't matter much, and little bit bulky. No Problem phone or you can say Default IPhone for all.\\nI'm using ios devices for last 6 years and this piece is best in every Aspect (using ios 14).\\nNo camera comparison with other smartphone in this range. Night mode also works best...\\nREAD MORE\",\n",
       " 'Have used both iPhone X and iPhone XR and I can say upgrade only if you want better camera it’s awesome with great display even though lcd but still better than oled on iPhone X or XS.\\nThe camera is huge improvement in low light and very nice improvement in less light and times better than iPhone X but not that big improvement on iPhone XR in day light but very big improvement in low light.']"
      ]
     },
     "execution_count": 483,
     "metadata": {},
     "output_type": "execute_result"
    }
   ],
   "source": [
    "#Now extract the text inside the tags using a for loop to iterate over all the tags\n",
    "for i in reviwfull10:\n",
    "    reviwsfull=i.text\n",
    "    iphone11_reviewfull10.append(reviwsfull)\n",
    "iphone11_reviewfull10[0:10]"
   ]
  },
  {
   "cell_type": "code",
   "execution_count": 484,
   "metadata": {},
   "outputs": [],
   "source": [
    "#Adding lists having same attribute type from all the 10 pages"
   ]
  },
  {
   "cell_type": "code",
   "execution_count": 486,
   "metadata": {},
   "outputs": [],
   "source": [
    "iphone11_rating_final=iphone11_rating+iphone11_rating2+iphone11_rating3+iphone11_rating4+iphone11_rating5+iphone11_rating6+iphone11_rating7+iphone11_rating8+iphone11_rating9+iphone11_rating10"
   ]
  },
  {
   "cell_type": "code",
   "execution_count": 487,
   "metadata": {},
   "outputs": [],
   "source": [
    "iphone11_reviewsum_final=iphone11_reviewsum+iphone11_reviewsum2+iphone11_reviewsum3+iphone11_reviewsum4+iphone11_reviewsum5+iphone11_reviewsum6+iphone11_reviewsum7+iphone11_reviewsum8+iphone11_reviewsum9+iphone11_reviewsum10"
   ]
  },
  {
   "cell_type": "code",
   "execution_count": 488,
   "metadata": {},
   "outputs": [],
   "source": [
    "iphone11_reviewfull_fianl=iphone11_reviewfull+iphone11_reviewfull2+iphone11_reviewfull3+iphone11_reviewfull4+iphone11_reviewfull5+iphone11_reviewfull6+iphone11_reviewfull7+iphone11_reviewfull8+iphone11_reviewfull9+iphone11_reviewfull10"
   ]
  },
  {
   "cell_type": "code",
   "execution_count": 489,
   "metadata": {},
   "outputs": [
    {
     "name": "stdout",
     "output_type": "stream",
     "text": [
      "79 80 80\n"
     ]
    }
   ],
   "source": [
    "print(len(iphone11_rating_final),len(iphone11_reviewsum_final),len(iphone11_reviewfull_fianl))"
   ]
  },
  {
   "cell_type": "code",
   "execution_count": 491,
   "metadata": {},
   "outputs": [],
   "source": [
    "iphone11reviewflipkart=pd.DataFrame({})\n",
    "iphone11reviewflipkart['iphone11_rating']=iphone11_rating_final[0:79]\n",
    "iphone11reviewflipkart['review_summary']=iphone11_reviewsum_final[0:79]\n",
    "iphone11reviewflipkart['review_full']=iphone11_reviewfull_fianl[0:79]"
   ]
  },
  {
   "cell_type": "code",
   "execution_count": 492,
   "metadata": {},
   "outputs": [
    {
     "data": {
      "text/html": [
       "<div>\n",
       "<style scoped>\n",
       "    .dataframe tbody tr th:only-of-type {\n",
       "        vertical-align: middle;\n",
       "    }\n",
       "\n",
       "    .dataframe tbody tr th {\n",
       "        vertical-align: top;\n",
       "    }\n",
       "\n",
       "    .dataframe thead th {\n",
       "        text-align: right;\n",
       "    }\n",
       "</style>\n",
       "<table border=\"1\" class=\"dataframe\">\n",
       "  <thead>\n",
       "    <tr style=\"text-align: right;\">\n",
       "      <th></th>\n",
       "      <th>iphone11_rating</th>\n",
       "      <th>review_summary</th>\n",
       "      <th>review_full</th>\n",
       "    </tr>\n",
       "  </thead>\n",
       "  <tbody>\n",
       "    <tr>\n",
       "      <th>0</th>\n",
       "      <td>5</td>\n",
       "      <td>Mind-blowing purchase</td>\n",
       "      <td>Best Quality Product OF iPhone Series , Sound ...</td>\n",
       "    </tr>\n",
       "    <tr>\n",
       "      <th>1</th>\n",
       "      <td>5</td>\n",
       "      <td>Terrific purchase</td>\n",
       "      <td>The built quality is not very premium.\\nThe ba...</td>\n",
       "    </tr>\n",
       "    <tr>\n",
       "      <th>2</th>\n",
       "      <td>5</td>\n",
       "      <td>Mind-blowing purchase</td>\n",
       "      <td>First thanks to Flipkart for this amazing deal...</td>\n",
       "    </tr>\n",
       "    <tr>\n",
       "      <th>3</th>\n",
       "      <td>5</td>\n",
       "      <td>Simply awesome</td>\n",
       "      <td>Excellent camera, good performance, no lag. Th...</td>\n",
       "    </tr>\n",
       "    <tr>\n",
       "      <th>4</th>\n",
       "      <td>4</td>\n",
       "      <td>Good quality product</td>\n",
       "      <td>it is very good at performance. Camera is best...</td>\n",
       "    </tr>\n",
       "    <tr>\n",
       "      <th>...</th>\n",
       "      <td>...</td>\n",
       "      <td>...</td>\n",
       "      <td>...</td>\n",
       "    </tr>\n",
       "    <tr>\n",
       "      <th>74</th>\n",
       "      <td>4</td>\n",
       "      <td>Worth every penny</td>\n",
       "      <td>no complaint against the display it's very cri...</td>\n",
       "    </tr>\n",
       "    <tr>\n",
       "      <th>75</th>\n",
       "      <td>5</td>\n",
       "      <td>Delightful</td>\n",
       "      <td>Nice camera for front and back.. The display i...</td>\n",
       "    </tr>\n",
       "    <tr>\n",
       "      <th>76</th>\n",
       "      <td>5</td>\n",
       "      <td>Fabulous!</td>\n",
       "      <td>Best phone in this price segment people say th...</td>\n",
       "    </tr>\n",
       "    <tr>\n",
       "      <th>77</th>\n",
       "      <td>5</td>\n",
       "      <td>Terrific</td>\n",
       "      <td>I got this beast today. And I must say the pic...</td>\n",
       "    </tr>\n",
       "    <tr>\n",
       "      <th>78</th>\n",
       "      <td>5</td>\n",
       "      <td>Excellent</td>\n",
       "      <td>Got mobile @56,990 on 8 oct 2020 when all othe...</td>\n",
       "    </tr>\n",
       "  </tbody>\n",
       "</table>\n",
       "<p>79 rows × 3 columns</p>\n",
       "</div>"
      ],
      "text/plain": [
       "   iphone11_rating         review_summary  \\\n",
       "0                5  Mind-blowing purchase   \n",
       "1                5      Terrific purchase   \n",
       "2                5  Mind-blowing purchase   \n",
       "3                5         Simply awesome   \n",
       "4                4   Good quality product   \n",
       "..             ...                    ...   \n",
       "74               4      Worth every penny   \n",
       "75               5             Delightful   \n",
       "76               5              Fabulous!   \n",
       "77               5               Terrific   \n",
       "78               5              Excellent   \n",
       "\n",
       "                                          review_full  \n",
       "0   Best Quality Product OF iPhone Series , Sound ...  \n",
       "1   The built quality is not very premium.\\nThe ba...  \n",
       "2   First thanks to Flipkart for this amazing deal...  \n",
       "3   Excellent camera, good performance, no lag. Th...  \n",
       "4   it is very good at performance. Camera is best...  \n",
       "..                                                ...  \n",
       "74  no complaint against the display it's very cri...  \n",
       "75  Nice camera for front and back.. The display i...  \n",
       "76  Best phone in this price segment people say th...  \n",
       "77  I got this beast today. And I must say the pic...  \n",
       "78  Got mobile @56,990 on 8 oct 2020 when all othe...  \n",
       "\n",
       "[79 rows x 3 columns]"
      ]
     },
     "execution_count": 492,
     "metadata": {},
     "output_type": "execute_result"
    }
   ],
   "source": [
    "iphone11reviewflipkart"
   ]
  },
  {
   "cell_type": "raw",
   "metadata": {},
   "source": []
  }
 ],
 "metadata": {
  "kernelspec": {
   "display_name": "Python 3",
   "language": "python",
   "name": "python3"
  },
  "language_info": {
   "codemirror_mode": {
    "name": "ipython",
    "version": 3
   },
   "file_extension": ".py",
   "mimetype": "text/x-python",
   "name": "python",
   "nbconvert_exporter": "python",
   "pygments_lexer": "ipython3",
   "version": "3.8.3"
  }
 },
 "nbformat": 4,
 "nbformat_minor": 4
}

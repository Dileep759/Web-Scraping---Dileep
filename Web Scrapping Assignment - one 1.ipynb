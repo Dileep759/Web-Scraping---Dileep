{
 "cells": [
  {
   "cell_type": "raw",
   "metadata": {},
   "source": [
    "Write a python program to display all the header tags from ‘en.wikipedia.org/wiki/Main_Page’."
   ]
  },
  {
   "cell_type": "raw",
   "metadata": {},
   "source": []
  },
  {
   "cell_type": "code",
   "execution_count": 272,
   "metadata": {},
   "outputs": [
    {
     "name": "stdout",
     "output_type": "stream",
     "text": [
      "Requirement already satisfied: bs4 in c:\\users\\key\\anaconda3\\lib\\site-packages (0.0.1)\n",
      "Requirement already satisfied: beautifulsoup4 in c:\\users\\key\\anaconda3\\lib\\site-packages (from bs4) (4.9.1)\n",
      "Requirement already satisfied: soupsieve>1.2 in c:\\users\\key\\anaconda3\\lib\\site-packages (from beautifulsoup4->bs4) (2.0.1)\n",
      "Requirement already satisfied: requests in c:\\users\\key\\anaconda3\\lib\\site-packages (2.24.0)\n",
      "Requirement already satisfied: chardet<4,>=3.0.2 in c:\\users\\key\\anaconda3\\lib\\site-packages (from requests) (3.0.4)\n",
      "Requirement already satisfied: urllib3!=1.25.0,!=1.25.1,<1.26,>=1.21.1 in c:\\users\\key\\anaconda3\\lib\\site-packages (from requests) (1.25.9)\n",
      "Requirement already satisfied: idna<3,>=2.5 in c:\\users\\key\\anaconda3\\lib\\site-packages (from requests) (2.10)\n",
      "Requirement already satisfied: certifi>=2017.4.17 in c:\\users\\key\\anaconda3\\lib\\site-packages (from requests) (2020.6.20)\n"
     ]
    }
   ],
   "source": [
    "!pip install bs4\n",
    "!pip install requests"
   ]
  },
  {
   "cell_type": "code",
   "execution_count": 2,
   "metadata": {},
   "outputs": [],
   "source": [
    "from bs4 import BeautifulSoup\n",
    "import requests"
   ]
  },
  {
   "cell_type": "code",
   "execution_count": 4,
   "metadata": {},
   "outputs": [],
   "source": [
    "page=requests.get('https://en.wikipedia.org/wiki/Main_Page')"
   ]
  },
  {
   "cell_type": "code",
   "execution_count": null,
   "metadata": {},
   "outputs": [],
   "source": [
    "page.content"
   ]
  },
  {
   "cell_type": "code",
   "execution_count": 6,
   "metadata": {},
   "outputs": [],
   "source": [
    "soup=BeautifulSoup(page.content,'html.parser')"
   ]
  },
  {
   "cell_type": "code",
   "execution_count": null,
   "metadata": {},
   "outputs": [],
   "source": [
    "print(soup.prettify())"
   ]
  },
  {
   "cell_type": "code",
   "execution_count": 9,
   "metadata": {},
   "outputs": [
    {
     "name": "stdout",
     "output_type": "stream",
     "text": [
      "[<h1 class=\"firstHeading\" id=\"firstHeading\" lang=\"en\">Main Page</h1>, <h2 class=\"mp-h2\" id=\"mp-tfa-h2\"><span id=\"From_today.27s_featured_article\"></span><span class=\"mw-headline\" id=\"From_today's_featured_article\">From today's featured article</span></h2>, <h2 class=\"mp-h2\" id=\"mp-dyk-h2\"><span class=\"mw-headline\" id=\"Did_you_know_...\">Did you know ...</span></h2>, <h2 class=\"mp-h2\" id=\"mp-itn-h2\"><span class=\"mw-headline\" id=\"In_the_news\">In the news</span></h2>, <h2 class=\"mp-h2\" id=\"mp-otd-h2\"><span class=\"mw-headline\" id=\"On_this_day\">On this day</span></h2>, <h2 class=\"mp-h2\" id=\"mp-tfp-h2\"><span id=\"Today.27s_featured_picture\"></span><span class=\"mw-headline\" id=\"Today's_featured_picture\">Today's featured picture</span></h2>, <h2 class=\"mp-h2\" id=\"mp-other\"><span class=\"mw-headline\" id=\"Other_areas_of_Wikipedia\">Other areas of Wikipedia</span></h2>, <h2 class=\"mp-h2\" id=\"mp-sister\"><span id=\"Wikipedia.27s_sister_projects\"></span><span class=\"mw-headline\" id=\"Wikipedia's_sister_projects\">Wikipedia's sister projects</span></h2>, <h2 class=\"mp-h2\" id=\"mp-lang\"><span class=\"mw-headline\" id=\"Wikipedia_languages\">Wikipedia languages</span></h2>, <h2>Navigation menu</h2>, <h3 id=\"p-personal-label\">\n",
      "<span>Personal tools</span>\n",
      "</h3>, <h3 id=\"p-namespaces-label\">\n",
      "<span>Namespaces</span>\n",
      "</h3>, <h3 id=\"p-variants-label\">\n",
      "<span>Variants</span>\n",
      "</h3>, <h3 id=\"p-views-label\">\n",
      "<span>Views</span>\n",
      "</h3>, <h3 id=\"p-cactions-label\">\n",
      "<span>More</span>\n",
      "</h3>, <h3>\n",
      "<label for=\"searchInput\">Search</label>\n",
      "</h3>, <h3 id=\"p-navigation-label\">\n",
      "<span>Navigation</span>\n",
      "</h3>, <h3 id=\"p-interaction-label\">\n",
      "<span>Contribute</span>\n",
      "</h3>, <h3 id=\"p-tb-label\">\n",
      "<span>Tools</span>\n",
      "</h3>, <h3 id=\"p-coll-print_export-label\">\n",
      "<span>Print/export</span>\n",
      "</h3>, <h3 id=\"p-wikibase-otherprojects-label\">\n",
      "<span>In other projects</span>\n",
      "</h3>, <h3 id=\"p-lang-label\">\n",
      "<span>Languages</span>\n",
      "</h3>]\n"
     ]
    }
   ],
   "source": [
    "print(soup.find_all([\"h1\", \"h2\", \"h3\", \"h4\", \"h5\", \"h6\"]))"
   ]
  },
  {
   "cell_type": "code",
   "execution_count": null,
   "metadata": {},
   "outputs": [],
   "source": []
  },
  {
   "cell_type": "raw",
   "metadata": {},
   "source": [
    "Write a python program to display IMDB’s Top rated 100 movies’ data (i.e. Name, IMDB rating, Year of release) and save it in form of a CSV file."
   ]
  },
  {
   "cell_type": "raw",
   "metadata": {},
   "source": []
  },
  {
   "cell_type": "code",
   "execution_count": 12,
   "metadata": {},
   "outputs": [],
   "source": [
    "imdb_page=requests.get('https://www.imdb.com/list/ls091520106/')"
   ]
  },
  {
   "cell_type": "code",
   "execution_count": null,
   "metadata": {},
   "outputs": [],
   "source": [
    "imdb_page.content"
   ]
  },
  {
   "cell_type": "code",
   "execution_count": 14,
   "metadata": {},
   "outputs": [],
   "source": [
    "bs=BeautifulSoup(imdb_page.content,'html.parser')"
   ]
  },
  {
   "cell_type": "code",
   "execution_count": null,
   "metadata": {},
   "outputs": [],
   "source": [
    "print(bs.prettify())"
   ]
  },
  {
   "cell_type": "raw",
   "metadata": {},
   "source": [
    "1.Name, 2.IMDB_rating, 3.Year_of_release"
   ]
  },
  {
   "cell_type": "code",
   "execution_count": 148,
   "metadata": {},
   "outputs": [
    {
     "name": "stdout",
     "output_type": "stream",
     "text": [
      "<class 'bs4.element.ResultSet'>\n",
      "100\n"
     ]
    }
   ],
   "source": [
    "movie_containers = bs.find_all('div', class_ = 'lister-item-content')\n",
    "print(type(movie_containers))\n",
    "print(len(movie_containers))"
   ]
  },
  {
   "cell_type": "code",
   "execution_count": null,
   "metadata": {},
   "outputs": [],
   "source": [
    "first_movie = movie_containers[0]\n",
    "first_movie"
   ]
  },
  {
   "cell_type": "code",
   "execution_count": 154,
   "metadata": {},
   "outputs": [
    {
     "data": {
      "text/plain": [
       "<a href=\"/title/tt0111161/\">The Shawshank Redemption</a>"
      ]
     },
     "execution_count": 154,
     "metadata": {},
     "output_type": "execute_result"
    }
   ],
   "source": [
    "first_movie.a"
   ]
  },
  {
   "cell_type": "code",
   "execution_count": 152,
   "metadata": {},
   "outputs": [
    {
     "data": {
      "text/plain": [
       "<h3 class=\"lister-item-header\">\n",
       "<span class=\"lister-item-index unbold text-primary\">1.</span>\n",
       "<a href=\"/title/tt0111161/\">The Shawshank Redemption</a>\n",
       "<span class=\"lister-item-year text-muted unbold\">(1994)</span>\n",
       "</h3>"
      ]
     },
     "execution_count": 152,
     "metadata": {},
     "output_type": "execute_result"
    }
   ],
   "source": [
    "first_movie.h3"
   ]
  },
  {
   "cell_type": "code",
   "execution_count": 155,
   "metadata": {},
   "outputs": [
    {
     "data": {
      "text/plain": [
       "'The Shawshank Redemption'"
      ]
     },
     "execution_count": 155,
     "metadata": {},
     "output_type": "execute_result"
    }
   ],
   "source": [
    "first_name = first_movie.h3.a.text\n",
    "first_name"
   ]
  },
  {
   "cell_type": "code",
   "execution_count": 156,
   "metadata": {},
   "outputs": [
    {
     "data": {
      "text/plain": [
       "<span class=\"lister-item-year text-muted unbold\">(1994)</span>"
      ]
     },
     "execution_count": 156,
     "metadata": {},
     "output_type": "execute_result"
    }
   ],
   "source": [
    "first_year = first_movie.h3.find('span', class_ = 'lister-item-year text-muted unbold')\n",
    "first_year"
   ]
  },
  {
   "cell_type": "code",
   "execution_count": 157,
   "metadata": {},
   "outputs": [
    {
     "data": {
      "text/plain": [
       "'(1994)'"
      ]
     },
     "execution_count": 157,
     "metadata": {},
     "output_type": "execute_result"
    }
   ],
   "source": [
    "first_year = first_year.text\n",
    "first_year"
   ]
  },
  {
   "cell_type": "code",
   "execution_count": null,
   "metadata": {},
   "outputs": [],
   "source": [
    "first_movie.div"
   ]
  },
  {
   "cell_type": "code",
   "execution_count": 177,
   "metadata": {},
   "outputs": [
    {
     "data": {
      "text/plain": [
       "<span class=\"ipl-rating-star__rating\">9.3</span>"
      ]
     },
     "execution_count": 177,
     "metadata": {},
     "output_type": "execute_result"
    }
   ],
   "source": [
    "first_rating=first_movie.div.div.find('span',class_='ipl-rating-star__rating')\n",
    "first_rating"
   ]
  },
  {
   "cell_type": "code",
   "execution_count": 179,
   "metadata": {},
   "outputs": [
    {
     "data": {
      "text/plain": [
       "9.3"
      ]
     },
     "execution_count": 179,
     "metadata": {},
     "output_type": "execute_result"
    }
   ],
   "source": [
    "first_imdb=float(first_rating.text)\n",
    "first_imdb"
   ]
  },
  {
   "cell_type": "code",
   "execution_count": null,
   "metadata": {},
   "outputs": [],
   "source": [
    "list=bs.find_all('h3',class_=\"lister-item-header\")\n",
    "list[0:100]"
   ]
  },
  {
   "cell_type": "code",
   "execution_count": 203,
   "metadata": {},
   "outputs": [
    {
     "name": "stdout",
     "output_type": "stream",
     "text": [
      "The Shawshank Redemption\n",
      "The Godfather\n",
      "The Godfather: Part II\n",
      "The Dark Knight\n",
      "12 Angry Men\n",
      "Schindler's List\n",
      "The Lord of the Rings: The Return of the King\n",
      "Pulp Fiction\n",
      "Il buono, il brutto, il cattivo\n",
      "Fight Club\n",
      "Joker\n",
      "The Lord of the Rings: The Fellowship of the Ring\n",
      "Forrest Gump\n",
      "Inception\n",
      "Star Wars: Episode V - The Empire Strikes Back\n",
      "The Lord of the Rings: The Two Towers\n",
      "The Matrix\n",
      "One Flew Over the Cuckoo's Nest\n",
      "Goodfellas\n",
      "Shichinin no samurai\n",
      "Se7en\n",
      "Cidade de Deus\n",
      "La vita è bella\n",
      "The Silence of the Lambs\n",
      "Star Wars\n",
      "It's a Wonderful Life\n",
      "Saving Private Ryan\n",
      "Sen to Chihiro no kamikakushi\n",
      "The Green Mile\n",
      "Léon\n",
      "Seppuku\n",
      "Interstellar\n",
      "The Usual Suspects\n",
      "The Lion King\n",
      "American History X\n",
      "Back to the Future\n",
      "The Pianist\n",
      "Modern Times\n",
      "Terminator 2: Judgment Day\n",
      "The Intouchables\n",
      "Psycho\n",
      "Gladiator\n",
      "City Lights\n",
      "The Departed\n",
      "Whiplash\n",
      "Once Upon a Time in the West\n",
      "The Prestige\n",
      "Avengers: Endgame\n",
      "Casablanca\n",
      "Hotaru no haka\n",
      "Rear Window\n",
      "Nuovo Cinema Paradiso\n",
      "Alien\n",
      "Raiders of the Lost Ark\n",
      "Memento\n",
      "Apocalypse Now\n",
      "The Great Dictator\n",
      "The Lives of Others\n",
      "Avengers: Infinity War\n",
      "Django Unchained\n",
      "Spider-Man: Into the Spider-Verse\n",
      "The Shining\n",
      "Paths of Glory\n",
      "WALL·E\n",
      "Sunset Blvd.\n",
      "Dr. Strangelove or: How I Learned to Stop Worrying and Love the Bomb\n",
      "Mononoke-hime\n",
      "Oldeuboi\n",
      "Witness for the Prosecution\n",
      "The Dark Knight Rises\n",
      "Once Upon a Time in America\n",
      "Gisaengchung\n",
      "Aliens\n",
      "American Beauty\n",
      "Coco\n",
      "Kimi no na wa.\n",
      "Braveheart\n",
      "Das Boot\n",
      "3 Idiots\n",
      "Taare Zameen Par\n",
      "Star Wars: Episode VI - Return of the Jedi\n",
      "Toy Story\n",
      "Reservoir Dogs\n",
      "Amadeus\n",
      "Dangal\n",
      "Good Will Hunting\n",
      "Inglourious Basterds\n",
      "M - Eine Stadt sucht einen Mörder\n",
      "Requiem for a Dream\n",
      "2001: A Space Odyssey\n",
      "Vertigo\n",
      "Eternal Sunshine of the Spotless Mind\n",
      "Citizen Kane\n",
      "Full Metal Jacket\n",
      "Jagten\n",
      "North by Northwest\n",
      "A Clockwork Orange\n",
      "Snatch\n",
      "Amélie\n",
      "The Kid\n"
     ]
    }
   ],
   "source": [
    "for x in list:\n",
    "    for y in x.find_all('a'):\n",
    "        print(y.text)"
   ]
  },
  {
   "cell_type": "code",
   "execution_count": 740,
   "metadata": {},
   "outputs": [],
   "source": [
    "names = []\n",
    "years = []\n",
    "imdb_ratings = []\n",
    "for container in movie_containers:\n",
    "    if container.find('div', class_ = 'ratings-metascore') is not None:\n",
    "        name = container.h3.a.text\n",
    "        names.append(name)\n",
    "        \n",
    "        year = container.h3.find('span', class_ = 'lister-item-year text-muted unbold').text\n",
    "        years.append(year)\n",
    "        \n",
    "        imdb = container.div.div.find('span',class_='ipl-rating-star__rating').text\n",
    "        imdb_ratings.append(imdb)"
   ]
  },
  {
   "cell_type": "code",
   "execution_count": 198,
   "metadata": {},
   "outputs": [
    {
     "name": "stdout",
     "output_type": "stream",
     "text": [
      "<class 'pandas.core.frame.DataFrame'>\n",
      "RangeIndex: 92 entries, 0 to 91\n",
      "Data columns (total 3 columns):\n",
      " #   Column  Non-Null Count  Dtype \n",
      "---  ------  --------------  ----- \n",
      " 0   movie   92 non-null     object\n",
      " 1   year    92 non-null     object\n",
      " 2   imdb    92 non-null     object\n",
      "dtypes: object(3)\n",
      "memory usage: 2.3+ KB\n",
      "None\n"
     ]
    },
    {
     "data": {
      "text/html": [
       "<div>\n",
       "<style scoped>\n",
       "    .dataframe tbody tr th:only-of-type {\n",
       "        vertical-align: middle;\n",
       "    }\n",
       "\n",
       "    .dataframe tbody tr th {\n",
       "        vertical-align: top;\n",
       "    }\n",
       "\n",
       "    .dataframe thead th {\n",
       "        text-align: right;\n",
       "    }\n",
       "</style>\n",
       "<table border=\"1\" class=\"dataframe\">\n",
       "  <thead>\n",
       "    <tr style=\"text-align: right;\">\n",
       "      <th></th>\n",
       "      <th>movie</th>\n",
       "      <th>year</th>\n",
       "      <th>imdb</th>\n",
       "    </tr>\n",
       "  </thead>\n",
       "  <tbody>\n",
       "    <tr>\n",
       "      <th>0</th>\n",
       "      <td>The Shawshank Redemption</td>\n",
       "      <td>(1994)</td>\n",
       "      <td>9.3</td>\n",
       "    </tr>\n",
       "    <tr>\n",
       "      <th>1</th>\n",
       "      <td>The Godfather</td>\n",
       "      <td>(1972)</td>\n",
       "      <td>9.2</td>\n",
       "    </tr>\n",
       "    <tr>\n",
       "      <th>2</th>\n",
       "      <td>The Godfather: Part II</td>\n",
       "      <td>(1974)</td>\n",
       "      <td>9</td>\n",
       "    </tr>\n",
       "    <tr>\n",
       "      <th>3</th>\n",
       "      <td>The Dark Knight</td>\n",
       "      <td>(2008)</td>\n",
       "      <td>9</td>\n",
       "    </tr>\n",
       "    <tr>\n",
       "      <th>4</th>\n",
       "      <td>12 Angry Men</td>\n",
       "      <td>(1957)</td>\n",
       "      <td>9</td>\n",
       "    </tr>\n",
       "    <tr>\n",
       "      <th>...</th>\n",
       "      <td>...</td>\n",
       "      <td>...</td>\n",
       "      <td>...</td>\n",
       "    </tr>\n",
       "    <tr>\n",
       "      <th>87</th>\n",
       "      <td>Jagten</td>\n",
       "      <td>(2012)</td>\n",
       "      <td>8.3</td>\n",
       "    </tr>\n",
       "    <tr>\n",
       "      <th>88</th>\n",
       "      <td>North by Northwest</td>\n",
       "      <td>(1959)</td>\n",
       "      <td>8.3</td>\n",
       "    </tr>\n",
       "    <tr>\n",
       "      <th>89</th>\n",
       "      <td>A Clockwork Orange</td>\n",
       "      <td>(1971)</td>\n",
       "      <td>8.3</td>\n",
       "    </tr>\n",
       "    <tr>\n",
       "      <th>90</th>\n",
       "      <td>Snatch</td>\n",
       "      <td>(2000)</td>\n",
       "      <td>8.3</td>\n",
       "    </tr>\n",
       "    <tr>\n",
       "      <th>91</th>\n",
       "      <td>Amélie</td>\n",
       "      <td>(2001)</td>\n",
       "      <td>8.3</td>\n",
       "    </tr>\n",
       "  </tbody>\n",
       "</table>\n",
       "<p>92 rows × 3 columns</p>\n",
       "</div>"
      ],
      "text/plain": [
       "                       movie    year imdb\n",
       "0   The Shawshank Redemption  (1994)  9.3\n",
       "1              The Godfather  (1972)  9.2\n",
       "2     The Godfather: Part II  (1974)    9\n",
       "3            The Dark Knight  (2008)    9\n",
       "4               12 Angry Men  (1957)    9\n",
       "..                       ...     ...  ...\n",
       "87                    Jagten  (2012)  8.3\n",
       "88        North by Northwest  (1959)  8.3\n",
       "89        A Clockwork Orange  (1971)  8.3\n",
       "90                    Snatch  (2000)  8.3\n",
       "91                    Amélie  (2001)  8.3\n",
       "\n",
       "[92 rows x 3 columns]"
      ]
     },
     "execution_count": 198,
     "metadata": {},
     "output_type": "execute_result"
    }
   ],
   "source": [
    "import pandas as pd\n",
    "test_df = pd.DataFrame({'movie': names,\n",
    "'year': years,\n",
    "'imdb': imdb_ratings,\n",
    "})\n",
    "print(test_df.info())\n",
    "test_df"
   ]
  },
  {
   "cell_type": "code",
   "execution_count": null,
   "metadata": {},
   "outputs": [],
   "source": []
  },
  {
   "cell_type": "raw",
   "metadata": {},
   "source": [
    "Write a python program to scrape cricket rankings from ‘www.icc-cricket.com’. You have to scrape:\n",
    "i) Top 10 ODI teams in men’s cricket along with the records for matches, points and rating.\n",
    "ii) Top 10 ODI Batsmen in men along with the records of their team and rating.\n",
    "iii) Top 10 ODI bowlers along with the records of their team and rating."
   ]
  },
  {
   "cell_type": "raw",
   "metadata": {},
   "source": [
    "1)Top 10 ODI teams in men’s cricket along with the records for matches, points and rating."
   ]
  },
  {
   "cell_type": "code",
   "execution_count": 330,
   "metadata": {},
   "outputs": [],
   "source": [
    "iccpage=requests.get('https://www.icc-cricket.com/rankings/mens/team-rankings/odi')"
   ]
  },
  {
   "cell_type": "code",
   "execution_count": null,
   "metadata": {},
   "outputs": [],
   "source": [
    "iccpage.content"
   ]
  },
  {
   "cell_type": "code",
   "execution_count": 332,
   "metadata": {},
   "outputs": [],
   "source": [
    "iccsoup=BeautifulSoup(iccpage.content,'html.parser')"
   ]
  },
  {
   "cell_type": "code",
   "execution_count": null,
   "metadata": {},
   "outputs": [],
   "source": [
    "print(iccsoup.prettify())"
   ]
  },
  {
   "cell_type": "code",
   "execution_count": 417,
   "metadata": {},
   "outputs": [
    {
     "name": "stdout",
     "output_type": "stream",
     "text": [
      "<class 'bs4.element.ResultSet'>\n",
      "19\n"
     ]
    }
   ],
   "source": [
    "team_containers = iccsoup.find_all('tr', class_ = 'table-body')\n",
    "print(type(team_containers))\n",
    "print(len(team_containers))"
   ]
  },
  {
   "cell_type": "code",
   "execution_count": 418,
   "metadata": {},
   "outputs": [
    {
     "data": {
      "text/plain": [
       "<tr class=\"table-body\" data-team-id=\"14\">\n",
       "<td class=\"table-body__cell table-body__cell--position u-text-right\">2</td>\n",
       "<td class=\"table-body__cell rankings-table__team\">\n",
       "<span class=\"flag-15 table-body_logo IND\"></span>\n",
       "<span class=\"u-hide-phablet\">India</span>\n",
       "<span class=\"u-show-phablet\">IND</span>\n",
       "</td>\n",
       "<td class=\"table-body__cell u-center-text\">52</td>\n",
       "<td class=\"table-body__cell u-center-text\">6,102</td>\n",
       "<td class=\"table-body__cell u-text-right rating\">117</td>\n",
       "</tr>"
      ]
     },
     "execution_count": 418,
     "metadata": {},
     "output_type": "execute_result"
    }
   ],
   "source": [
    "first_team = team_containers[0]\n",
    "first_team"
   ]
  },
  {
   "cell_type": "code",
   "execution_count": 428,
   "metadata": {},
   "outputs": [
    {
     "name": "stdout",
     "output_type": "stream",
     "text": [
      "2\n",
      "India IND\n",
      "\n",
      "India\n",
      "IND\n",
      "52\n",
      "6,102\n",
      "117\n"
     ]
    }
   ],
   "source": [
    "tags = first_team.find_all(['span', 'td'])\n",
    "for tag in tags:\n",
    "        print(' '.join(tag.text.split()))   "
   ]
  },
  {
   "cell_type": "code",
   "execution_count": 439,
   "metadata": {},
   "outputs": [
    {
     "name": "stdout",
     "output_type": "stream",
     "text": [
      "2 \n",
      "\n",
      "\n",
      "\n",
      "India\n",
      "IND\n",
      " \n",
      "\n",
      "52 \n",
      "\n",
      "6,102 \n",
      "\n",
      "117 \n",
      "\n"
     ]
    }
   ],
   "source": [
    "for td_tag in first_team.find_all('td'):\n",
    "    print(td_tag.text, td_tag.next_sibling)"
   ]
  },
  {
   "cell_type": "code",
   "execution_count": 442,
   "metadata": {},
   "outputs": [
    {
     "name": "stdout",
     "output_type": "stream",
     "text": [
      "3 \n",
      "\n",
      "\n",
      "\n",
      "New Zealand\n",
      "NZ\n",
      " \n",
      "\n",
      "32 \n",
      "\n",
      "3,716 \n",
      "\n",
      "116 \n",
      "\n"
     ]
    }
   ],
   "source": [
    "for td_tag in team_containers[1].find_all('td'):\n",
    "    print(td_tag.text, td_tag.next_sibling)"
   ]
  },
  {
   "cell_type": "code",
   "execution_count": 443,
   "metadata": {},
   "outputs": [
    {
     "name": "stdout",
     "output_type": "stream",
     "text": [
      "4 \n",
      "\n",
      "\n",
      "\n",
      "Australia\n",
      "AUS\n",
      " \n",
      "\n",
      "39 \n",
      "\n",
      "4,344 \n",
      "\n",
      "111 \n",
      "\n"
     ]
    }
   ],
   "source": [
    "for td_tag in team_containers[2].find_all('td'):\n",
    "    print(td_tag.text, td_tag.next_sibling)"
   ]
  },
  {
   "cell_type": "code",
   "execution_count": 446,
   "metadata": {},
   "outputs": [
    {
     "name": "stdout",
     "output_type": "stream",
     "text": [
      "5 \n",
      "\n",
      "\n",
      "\n",
      "South Africa\n",
      "SA\n",
      " \n",
      "\n",
      "31 \n",
      "\n",
      "3,345 \n",
      "\n",
      "108 \n",
      "\n"
     ]
    }
   ],
   "source": [
    "for td_tag in team_containers[3].find_all('td'):\n",
    "    print(td_tag.text, td_tag.next_sibling)"
   ]
  },
  {
   "cell_type": "code",
   "execution_count": 447,
   "metadata": {},
   "outputs": [
    {
     "name": "stdout",
     "output_type": "stream",
     "text": [
      "6 \n",
      "\n",
      "\n",
      "\n",
      "Pakistan\n",
      "PAK\n",
      " \n",
      "\n",
      "35 \n",
      "\n",
      "3,490 \n",
      "\n",
      "100 \n",
      "\n"
     ]
    }
   ],
   "source": [
    "for td_tag in team_containers[4].find_all('td'):\n",
    "    print(td_tag.text, td_tag.next_sibling)"
   ]
  },
  {
   "cell_type": "code",
   "execution_count": 448,
   "metadata": {},
   "outputs": [
    {
     "name": "stdout",
     "output_type": "stream",
     "text": [
      "7 \n",
      "\n",
      "\n",
      "\n",
      "Bangladesh\n",
      "BAN\n",
      " \n",
      "\n",
      "37 \n",
      "\n",
      "3,366 \n",
      "\n",
      "91 \n",
      "\n"
     ]
    }
   ],
   "source": [
    "for td_tag in team_containers[5].find_all('td'):\n",
    "    print(td_tag.text, td_tag.next_sibling)"
   ]
  },
  {
   "cell_type": "code",
   "execution_count": 449,
   "metadata": {},
   "outputs": [
    {
     "name": "stdout",
     "output_type": "stream",
     "text": [
      "8 \n",
      "\n",
      "\n",
      "\n",
      "Sri Lanka\n",
      "SL\n",
      " \n",
      "\n",
      "39 \n",
      "\n",
      "3,297 \n",
      "\n",
      "85 \n",
      "\n"
     ]
    }
   ],
   "source": [
    "for td_tag in team_containers[6].find_all('td'):\n",
    "    print(td_tag.text, td_tag.next_sibling)"
   ]
  },
  {
   "cell_type": "code",
   "execution_count": 450,
   "metadata": {},
   "outputs": [
    {
     "name": "stdout",
     "output_type": "stream",
     "text": [
      "9 \n",
      "\n",
      "\n",
      "\n",
      "West Indies\n",
      "WI\n",
      " \n",
      "\n",
      "46 \n",
      "\n",
      "3,402 \n",
      "\n",
      "74 \n",
      "\n"
     ]
    }
   ],
   "source": [
    "for td_tag in team_containers[7].find_all('td'):\n",
    "    print(td_tag.text, td_tag.next_sibling)"
   ]
  },
  {
   "cell_type": "code",
   "execution_count": 451,
   "metadata": {},
   "outputs": [
    {
     "name": "stdout",
     "output_type": "stream",
     "text": [
      "10 \n",
      "\n",
      "\n",
      "\n",
      "Afghanistan\n",
      "AFG\n",
      " \n",
      "\n",
      "31 \n",
      "\n",
      "1,844 \n",
      "\n",
      "59 \n",
      "\n"
     ]
    }
   ],
   "source": [
    "for td_tag in team_containers[8].find_all('td'):\n",
    "    print(td_tag.text, td_tag.next_sibling)"
   ]
  },
  {
   "cell_type": "code",
   "execution_count": null,
   "metadata": {},
   "outputs": [],
   "source": []
  },
  {
   "cell_type": "raw",
   "metadata": {},
   "source": [
    "ii) Top 10 ODI Batsmen in men along with the records of their team and rating."
   ]
  },
  {
   "cell_type": "raw",
   "metadata": {},
   "source": []
  },
  {
   "cell_type": "code",
   "execution_count": 455,
   "metadata": {},
   "outputs": [],
   "source": [
    "iccplayer=requests.get('https://www.icc-cricket.com/rankings/mens/player-rankings/odi/batting')"
   ]
  },
  {
   "cell_type": "code",
   "execution_count": null,
   "metadata": {},
   "outputs": [],
   "source": [
    "iccplayer.content"
   ]
  },
  {
   "cell_type": "code",
   "execution_count": 457,
   "metadata": {},
   "outputs": [],
   "source": [
    "icc_player=BeautifulSoup(iccplayer.content,'html.parser')"
   ]
  },
  {
   "cell_type": "code",
   "execution_count": null,
   "metadata": {},
   "outputs": [],
   "source": [
    "print(icc_player.prettify())"
   ]
  },
  {
   "cell_type": "code",
   "execution_count": 542,
   "metadata": {},
   "outputs": [
    {
     "data": {
      "text/plain": [
       "[<td class=\"table-body__cell rankings-table__name name\">\n",
       " <a href=\"/rankings/mens/player-rankings/107\">Rohit Sharma</a>\n",
       " </td>,\n",
       " <td class=\"table-body__cell rankings-table__name name\">\n",
       " <a href=\"/rankings/mens/player-rankings/2759\">Babar Azam</a>\n",
       " </td>,\n",
       " <td class=\"table-body__cell rankings-table__name name\">\n",
       " <a href=\"/rankings/mens/player-rankings/226\">Ross Taylor</a>\n",
       " </td>,\n",
       " <td class=\"table-body__cell rankings-table__name name\">\n",
       " <a href=\"/rankings/mens/player-rankings/167\">Aaron Finch</a>\n",
       " </td>,\n",
       " <td class=\"table-body__cell rankings-table__name name\">\n",
       " <a href=\"/rankings/mens/player-rankings/24\">Francois du Plessis</a>\n",
       " </td>,\n",
       " <td class=\"table-body__cell rankings-table__name name\">\n",
       " <a href=\"/rankings/mens/player-rankings/170\">David Warner</a>\n",
       " </td>,\n",
       " <td class=\"table-body__cell rankings-table__name name\">\n",
       " <a href=\"/rankings/mens/player-rankings/440\">Kane Williamson</a>\n",
       " </td>,\n",
       " <td class=\"table-body__cell rankings-table__name name\">\n",
       " <a href=\"/rankings/mens/player-rankings/834\">Quinton de Kock</a>\n",
       " </td>,\n",
       " <td class=\"table-body__cell rankings-table__name name\">\n",
       " <a href=\"/rankings/mens/player-rankings/506\">Jonny Bairstow</a>\n",
       " </td>,\n",
       " <td class=\"table-body__cell rankings-table__name name\">\n",
       " <a href=\"/rankings/mens/player-rankings/1568\">Imam-ul-Haq</a>\n",
       " </td>]"
      ]
     },
     "execution_count": 542,
     "metadata": {},
     "output_type": "execute_result"
    }
   ],
   "source": [
    "playername=icc_player.find_all('td',class_=\"table-body__cell rankings-table__name name\")\n",
    "playername[0:10]"
   ]
  },
  {
   "cell_type": "code",
   "execution_count": 543,
   "metadata": {},
   "outputs": [
    {
     "name": "stdout",
     "output_type": "stream",
     "text": [
      "Rohit Sharma\n",
      "Babar Azam\n",
      "Ross Taylor\n",
      "Aaron Finch\n",
      "Francois du Plessis\n",
      "David Warner\n",
      "Kane Williamson\n",
      "Quinton de Kock\n",
      "Jonny Bairstow\n",
      "Imam-ul-Haq\n"
     ]
    }
   ],
   "source": [
    "for x in playername[0:10]:\n",
    "    for y in x.find_all('a'):\n",
    "        print(y.text)"
   ]
  },
  {
   "cell_type": "code",
   "execution_count": 507,
   "metadata": {},
   "outputs": [
    {
     "name": "stdout",
     "output_type": "stream",
     "text": [
      "<class 'bs4.element.ResultSet'>\n",
      "99\n"
     ]
    }
   ],
   "source": [
    "country_containers = icc_player.find_all('td', class_ = 'table-body__cell nationality-logo rankings-table__team')\n",
    "print(type(country_containers))\n",
    "print(len(country_containers))"
   ]
  },
  {
   "cell_type": "code",
   "execution_count": 508,
   "metadata": {},
   "outputs": [
    {
     "data": {
      "text/plain": [
       "<td class=\"table-body__cell nationality-logo rankings-table__team\">\n",
       "<span class=\"flag-15 table-body_logo IND\"></span>\n",
       "<span class=\"table-body__logo-text\">IND</span>\n",
       "</td>"
      ]
     },
     "execution_count": 508,
     "metadata": {},
     "output_type": "execute_result"
    }
   ],
   "source": [
    "first_country = country_containers[0]\n",
    "first_country"
   ]
  },
  {
   "cell_type": "code",
   "execution_count": 518,
   "metadata": {},
   "outputs": [
    {
     "name": "stdout",
     "output_type": "stream",
     "text": [
      "\n",
      "IND\n",
      "\n",
      "PAK\n",
      "\n",
      "NZ\n",
      "\n",
      "AUS\n",
      "\n",
      "SA\n",
      "\n",
      "AUS\n",
      "\n",
      "NZ\n",
      "\n",
      "SA\n",
      "\n",
      "ENG\n",
      "\n",
      "PAK\n"
     ]
    }
   ],
   "source": [
    "for x in country_containers[0:10]:\n",
    "    for y in x.find_all('span'):\n",
    "        print(y.text)"
   ]
  },
  {
   "cell_type": "code",
   "execution_count": 519,
   "metadata": {},
   "outputs": [
    {
     "name": "stdout",
     "output_type": "stream",
     "text": [
      "<class 'bs4.element.ResultSet'>\n",
      "99\n"
     ]
    }
   ],
   "source": [
    "rating_containers = icc_player.find_all('tr', class_ = 'table-body')\n",
    "print(type(rating_containers))\n",
    "print(len(rating_containers))"
   ]
  },
  {
   "cell_type": "code",
   "execution_count": 521,
   "metadata": {},
   "outputs": [
    {
     "data": {
      "text/plain": [
       "<tr class=\"table-body\">\n",
       "<td class=\"table-body__cell table-body__cell--position u-text-right\">\n",
       "                            2\n",
       "        <span class=\"ranking-pos no-change\"></span>\n",
       "</td>\n",
       "<td class=\"table-body__cell rankings-table__name name\">\n",
       "<a href=\"/rankings/mens/player-rankings/107\">Rohit Sharma</a>\n",
       "</td>\n",
       "<td class=\"table-body__cell nationality-logo rankings-table__team\">\n",
       "<span class=\"flag-15 table-body_logo IND\"></span>\n",
       "<span class=\"table-body__logo-text\">IND</span>\n",
       "</td>\n",
       "<td class=\"table-body__cell rating\">842</td>\n",
       "<td class=\"table-body__cell u-text-right u-hide-phablet\">\n",
       "                                885 v Sri Lanka, 06/07/2019\n",
       "                        </td>\n",
       "</tr>"
      ]
     },
     "execution_count": 521,
     "metadata": {},
     "output_type": "execute_result"
    }
   ],
   "source": [
    "first_rating = rating_containers[0]\n",
    "first_rating"
   ]
  },
  {
   "cell_type": "code",
   "execution_count": 526,
   "metadata": {},
   "outputs": [
    {
     "name": "stdout",
     "output_type": "stream",
     "text": [
      "2\n",
      "Rohit Sharma\n",
      "IND\n",
      "842\n",
      "885 v Sri Lanka, 06/07/2019\n"
     ]
    }
   ],
   "source": [
    "tags = rating_containers[0].find_all(['td'])\n",
    "for tag in tags:\n",
    "        print(' '.join(tag.text.split()))"
   ]
  },
  {
   "cell_type": "code",
   "execution_count": 527,
   "metadata": {},
   "outputs": [
    {
     "name": "stdout",
     "output_type": "stream",
     "text": [
      "3\n",
      "Babar Azam\n",
      "PAK\n",
      "837\n",
      "846 v Sri Lanka, 20/10/2017\n"
     ]
    }
   ],
   "source": [
    "tags = rating_containers[1].find_all(['td'])\n",
    "for tag in tags:\n",
    "        print(' '.join(tag.text.split()))"
   ]
  },
  {
   "cell_type": "code",
   "execution_count": 528,
   "metadata": {},
   "outputs": [
    {
     "name": "stdout",
     "output_type": "stream",
     "text": [
      "4\n",
      "Ross Taylor\n",
      "NZ\n",
      "818\n",
      "841 v Bangladesh, 05/06/2019\n"
     ]
    }
   ],
   "source": [
    "tags = rating_containers[2].find_all(['td'])\n",
    "for tag in tags:\n",
    "        print(' '.join(tag.text.split()))"
   ]
  },
  {
   "cell_type": "code",
   "execution_count": 529,
   "metadata": {},
   "outputs": [
    {
     "name": "stdout",
     "output_type": "stream",
     "text": [
      "5\n",
      "Aaron Finch\n",
      "AUS\n",
      "791\n",
      "798 v England, 25/06/2019\n"
     ]
    }
   ],
   "source": [
    "tags = rating_containers[3].find_all(['td'])\n",
    "for tag in tags:\n",
    "        print(' '.join(tag.text.split()))"
   ]
  },
  {
   "cell_type": "code",
   "execution_count": 530,
   "metadata": {},
   "outputs": [
    {
     "name": "stdout",
     "output_type": "stream",
     "text": [
      "6\n",
      "Francois du Plessis\n",
      "SA\n",
      "790\n",
      "820 v Australia, 06/07/2019\n"
     ]
    }
   ],
   "source": [
    "tags = rating_containers[4].find_all(['td'])\n",
    "for tag in tags:\n",
    "        print(' '.join(tag.text.split()))"
   ]
  },
  {
   "cell_type": "code",
   "execution_count": 531,
   "metadata": {},
   "outputs": [
    {
     "name": "stdout",
     "output_type": "stream",
     "text": [
      "7\n",
      "David Warner\n",
      "AUS\n",
      "773\n",
      "880 v Pakistan, 26/01/2017\n"
     ]
    }
   ],
   "source": [
    "tags = rating_containers[5].find_all(['td'])\n",
    "for tag in tags:\n",
    "        print(' '.join(tag.text.split()))"
   ]
  },
  {
   "cell_type": "code",
   "execution_count": 532,
   "metadata": {},
   "outputs": [
    {
     "name": "stdout",
     "output_type": "stream",
     "text": [
      "8\n",
      "Kane Williamson\n",
      "NZ\n",
      "765\n",
      "799 v India, 09/07/2019\n"
     ]
    }
   ],
   "source": [
    "tags = rating_containers[6].find_all(['td'])\n",
    "for tag in tags:\n",
    "        print(' '.join(tag.text.split()))"
   ]
  },
  {
   "cell_type": "code",
   "execution_count": 533,
   "metadata": {},
   "outputs": [
    {
     "name": "stdout",
     "output_type": "stream",
     "text": [
      "9\n",
      "Quinton de Kock\n",
      "SA\n",
      "755\n",
      "813 v Sri Lanka, 10/03/2019\n"
     ]
    }
   ],
   "source": [
    "tags = rating_containers[7].find_all(['td'])\n",
    "for tag in tags:\n",
    "        print(' '.join(tag.text.split()))"
   ]
  },
  {
   "cell_type": "code",
   "execution_count": 534,
   "metadata": {},
   "outputs": [
    {
     "name": "stdout",
     "output_type": "stream",
     "text": [
      "10\n",
      "Jonny Bairstow\n",
      "ENG\n",
      "754\n",
      "777 v Australia, 21/06/2018\n"
     ]
    }
   ],
   "source": [
    "tags = rating_containers[8].find_all(['td'])\n",
    "for tag in tags:\n",
    "        print(' '.join(tag.text.split()))"
   ]
  },
  {
   "cell_type": "raw",
   "metadata": {},
   "source": []
  },
  {
   "cell_type": "raw",
   "metadata": {},
   "source": [
    "iii) Top 10 ODI bowlers along with the records of their team and rating."
   ]
  },
  {
   "cell_type": "raw",
   "metadata": {},
   "source": []
  },
  {
   "cell_type": "code",
   "execution_count": 535,
   "metadata": {},
   "outputs": [],
   "source": [
    "iccbowler=requests.get('https://www.icc-cricket.com/rankings/mens/player-rankings/odi/bowling')"
   ]
  },
  {
   "cell_type": "code",
   "execution_count": null,
   "metadata": {},
   "outputs": [],
   "source": [
    "iccbowler.content"
   ]
  },
  {
   "cell_type": "code",
   "execution_count": 537,
   "metadata": {},
   "outputs": [],
   "source": [
    "icc_bowler=BeautifulSoup(iccbowler.content,'html.parser')"
   ]
  },
  {
   "cell_type": "code",
   "execution_count": null,
   "metadata": {},
   "outputs": [],
   "source": [
    "print(icc_bowler.prettify())"
   ]
  },
  {
   "cell_type": "code",
   "execution_count": null,
   "metadata": {},
   "outputs": [],
   "source": [
    "bowlername=icc_bowler.find_all('tr',class_=\"table-body\")\n",
    "bowlername[0:10]"
   ]
  },
  {
   "cell_type": "code",
   "execution_count": 545,
   "metadata": {},
   "outputs": [
    {
     "name": "stdout",
     "output_type": "stream",
     "text": [
      "Mujeeb Ur Rahman\n",
      "Jasprit Bumrah\n",
      "Mehedi Hasan\n",
      "Chris Woakes\n",
      "Kagiso Rabada\n",
      "Josh Hazlewood\n",
      "Mustafizur Rahman\n",
      "Mohammad Amir\n",
      "Pat Cummins\n",
      "Matt Henry\n"
     ]
    }
   ],
   "source": [
    "for x in bowlername[0:10]:\n",
    "    for y in x.find_all('a'):\n",
    "        print(y.text)"
   ]
  },
  {
   "cell_type": "code",
   "execution_count": 547,
   "metadata": {},
   "outputs": [
    {
     "name": "stdout",
     "output_type": "stream",
     "text": [
      "<class 'bs4.element.ResultSet'>\n",
      "99\n"
     ]
    }
   ],
   "source": [
    "country_cont = icc_bowler.find_all('td', class_ = 'table-body__cell nationality-logo rankings-table__team')\n",
    "print(type(country_cont))\n",
    "print(len(country_cont))"
   ]
  },
  {
   "cell_type": "code",
   "execution_count": 550,
   "metadata": {},
   "outputs": [
    {
     "data": {
      "text/plain": [
       "[<td class=\"table-body__cell nationality-logo rankings-table__team\">\n",
       " <span class=\"flag-15 table-body_logo AFG\"></span>\n",
       " <span class=\"table-body__logo-text\">AFG</span>\n",
       " </td>,\n",
       " <td class=\"table-body__cell nationality-logo rankings-table__team\">\n",
       " <span class=\"flag-15 table-body_logo IND\"></span>\n",
       " <span class=\"table-body__logo-text\">IND</span>\n",
       " </td>,\n",
       " <td class=\"table-body__cell nationality-logo rankings-table__team\">\n",
       " <span class=\"flag-15 table-body_logo BAN\"></span>\n",
       " <span class=\"table-body__logo-text\">BAN</span>\n",
       " </td>,\n",
       " <td class=\"table-body__cell nationality-logo rankings-table__team\">\n",
       " <span class=\"flag-15 table-body_logo ENG\"></span>\n",
       " <span class=\"table-body__logo-text\">ENG</span>\n",
       " </td>,\n",
       " <td class=\"table-body__cell nationality-logo rankings-table__team\">\n",
       " <span class=\"flag-15 table-body_logo SA\"></span>\n",
       " <span class=\"table-body__logo-text\">SA</span>\n",
       " </td>,\n",
       " <td class=\"table-body__cell nationality-logo rankings-table__team\">\n",
       " <span class=\"flag-15 table-body_logo AUS\"></span>\n",
       " <span class=\"table-body__logo-text\">AUS</span>\n",
       " </td>,\n",
       " <td class=\"table-body__cell nationality-logo rankings-table__team\">\n",
       " <span class=\"flag-15 table-body_logo BAN\"></span>\n",
       " <span class=\"table-body__logo-text\">BAN</span>\n",
       " </td>,\n",
       " <td class=\"table-body__cell nationality-logo rankings-table__team\">\n",
       " <span class=\"flag-15 table-body_logo PAK\"></span>\n",
       " <span class=\"table-body__logo-text\">PAK</span>\n",
       " </td>,\n",
       " <td class=\"table-body__cell nationality-logo rankings-table__team\">\n",
       " <span class=\"flag-15 table-body_logo AUS\"></span>\n",
       " <span class=\"table-body__logo-text\">AUS</span>\n",
       " </td>,\n",
       " <td class=\"table-body__cell nationality-logo rankings-table__team\">\n",
       " <span class=\"flag-15 table-body_logo NZ\"></span>\n",
       " <span class=\"table-body__logo-text\">NZ</span>\n",
       " </td>]"
      ]
     },
     "execution_count": 550,
     "metadata": {},
     "output_type": "execute_result"
    }
   ],
   "source": [
    "bowlercountry=icc_bowler.find_all('td',class_=\"table-body__cell nationality-logo rankings-table__team\")\n",
    "bowlercountry[0:10]"
   ]
  },
  {
   "cell_type": "code",
   "execution_count": 551,
   "metadata": {},
   "outputs": [
    {
     "data": {
      "text/plain": [
       "<td class=\"table-body__cell nationality-logo rankings-table__team\">\n",
       "<span class=\"flag-15 table-body_logo AFG\"></span>\n",
       "<span class=\"table-body__logo-text\">AFG</span>\n",
       "</td>"
      ]
     },
     "execution_count": 551,
     "metadata": {},
     "output_type": "execute_result"
    }
   ],
   "source": [
    "first_country=bowlercountry[0]\n",
    "first_country"
   ]
  },
  {
   "cell_type": "code",
   "execution_count": 552,
   "metadata": {},
   "outputs": [
    {
     "name": "stdout",
     "output_type": "stream",
     "text": [
      "\n",
      "AFG\n",
      "\n",
      "IND\n",
      "\n",
      "BAN\n",
      "\n",
      "ENG\n",
      "\n",
      "SA\n",
      "\n",
      "AUS\n",
      "\n",
      "BAN\n",
      "\n",
      "PAK\n",
      "\n",
      "AUS\n",
      "\n",
      "NZ\n"
     ]
    }
   ],
   "source": [
    "for x in bowlercountry[0:10]:\n",
    "    for y in x.find_all('span'):\n",
    "        print(y.text)"
   ]
  },
  {
   "cell_type": "code",
   "execution_count": 553,
   "metadata": {},
   "outputs": [
    {
     "name": "stdout",
     "output_type": "stream",
     "text": [
      "<class 'bs4.element.ResultSet'>\n",
      "99\n"
     ]
    }
   ],
   "source": [
    "rating_cont = icc_bowler.find_all('tr', class_ = 'table-body')\n",
    "print(type(rating_cont))\n",
    "print(len(rating_cont))"
   ]
  },
  {
   "cell_type": "code",
   "execution_count": 554,
   "metadata": {},
   "outputs": [
    {
     "data": {
      "text/plain": [
       "<tr class=\"table-body\">\n",
       "<td class=\"table-body__cell table-body__cell--position u-text-right\">\n",
       "                            2\n",
       "        <span class=\"ranking-pos no-change\"></span>\n",
       "</td>\n",
       "<td class=\"table-body__cell rankings-table__name name\">\n",
       "<a href=\"/rankings/mens/player-rankings/4572\">Mujeeb Ur Rahman</a>\n",
       "</td>\n",
       "<td class=\"table-body__cell nationality-logo rankings-table__team\">\n",
       "<span class=\"flag-15 table-body_logo AFG\"></span>\n",
       "<span class=\"table-body__logo-text\">AFG</span>\n",
       "</td>\n",
       "<td class=\"table-body__cell rating\">708</td>\n",
       "<td class=\"table-body__cell u-text-right u-hide-phablet\">\n",
       "                                712 v Ireland, 24/01/2021\n",
       "                        </td>\n",
       "</tr>"
      ]
     },
     "execution_count": 554,
     "metadata": {},
     "output_type": "execute_result"
    }
   ],
   "source": [
    "first_rating = rating_cont[0]\n",
    "first_rating"
   ]
  },
  {
   "cell_type": "code",
   "execution_count": 558,
   "metadata": {},
   "outputs": [
    {
     "name": "stdout",
     "output_type": "stream",
     "text": [
      "2\n",
      "Mujeeb Ur Rahman\n",
      "AFG\n",
      "708\n",
      "712 v Ireland, 24/01/2021\n"
     ]
    }
   ],
   "source": [
    "tags = rating_cont[0].find_all(['td'])\n",
    "for tag in tags:\n",
    "        print(' '.join(tag.text.split()))"
   ]
  },
  {
   "cell_type": "code",
   "execution_count": 559,
   "metadata": {},
   "outputs": [
    {
     "name": "stdout",
     "output_type": "stream",
     "text": [
      "3\n",
      "Jasprit Bumrah\n",
      "IND\n",
      "700\n",
      "841 v West Indies, 01/11/2018\n"
     ]
    }
   ],
   "source": [
    "tags = rating_cont[1].find_all(['td'])\n",
    "for tag in tags:\n",
    "        print(' '.join(tag.text.split()))"
   ]
  },
  {
   "cell_type": "code",
   "execution_count": 560,
   "metadata": {},
   "outputs": [
    {
     "name": "stdout",
     "output_type": "stream",
     "text": [
      "4\n",
      "Mehedi Hasan\n",
      "BAN\n",
      "694\n",
      "694 v West Indies, 25/01/2021\n"
     ]
    }
   ],
   "source": [
    "tags = rating_cont[2].find_all(['td'])\n",
    "for tag in tags:\n",
    "        print(' '.join(tag.text.split()))"
   ]
  },
  {
   "cell_type": "code",
   "execution_count": 561,
   "metadata": {},
   "outputs": [
    {
     "name": "stdout",
     "output_type": "stream",
     "text": [
      "5\n",
      "Chris Woakes\n",
      "ENG\n",
      "675\n",
      "676 v New Zealand, 14/07/2019\n"
     ]
    }
   ],
   "source": [
    "tags = rating_cont[3].find_all(['td'])\n",
    "for tag in tags:\n",
    "        print(' '.join(tag.text.split()))"
   ]
  },
  {
   "cell_type": "code",
   "execution_count": 562,
   "metadata": {},
   "outputs": [
    {
     "name": "stdout",
     "output_type": "stream",
     "text": [
      "6\n",
      "Kagiso Rabada\n",
      "SA\n",
      "665\n",
      "724 v England, 29/05/2017\n"
     ]
    }
   ],
   "source": [
    "tags = rating_cont[4].find_all(['td'])\n",
    "for tag in tags:\n",
    "        print(' '.join(tag.text.split()))"
   ]
  },
  {
   "cell_type": "code",
   "execution_count": 563,
   "metadata": {},
   "outputs": [
    {
     "name": "stdout",
     "output_type": "stream",
     "text": [
      "7\n",
      "Josh Hazlewood\n",
      "AUS\n",
      "660\n",
      "733 v England, 26/01/2018\n"
     ]
    }
   ],
   "source": [
    "tags = rating_cont[5].find_all(['td'])\n",
    "for tag in tags:\n",
    "        print(' '.join(tag.text.split()))"
   ]
  },
  {
   "cell_type": "code",
   "execution_count": 564,
   "metadata": {},
   "outputs": [
    {
     "name": "stdout",
     "output_type": "stream",
     "text": [
      "8\n",
      "Mustafizur Rahman\n",
      "BAN\n",
      "658\n",
      "695 v West Indies, 14/12/2018\n"
     ]
    }
   ],
   "source": [
    "tags = rating_cont[6].find_all(['td'])\n",
    "for tag in tags:\n",
    "        print(' '.join(tag.text.split()))"
   ]
  },
  {
   "cell_type": "code",
   "execution_count": 565,
   "metadata": {},
   "outputs": [
    {
     "name": "stdout",
     "output_type": "stream",
     "text": [
      "9\n",
      "Mohammad Amir\n",
      "PAK\n",
      "647\n",
      "663 v Sri Lanka, 02/10/2019\n"
     ]
    }
   ],
   "source": [
    "tags = rating_cont[7].find_all(['td'])\n",
    "for tag in tags:\n",
    "        print(' '.join(tag.text.split()))"
   ]
  },
  {
   "cell_type": "code",
   "execution_count": 567,
   "metadata": {},
   "outputs": [
    {
     "name": "stdout",
     "output_type": "stream",
     "text": [
      "10\n",
      "Pat Cummins\n",
      "AUS\n",
      "646\n",
      "729 v Pakistan, 12/06/2019\n"
     ]
    }
   ],
   "source": [
    "tags = rating_cont[8].find_all(['td'])\n",
    "for tag in tags:\n",
    "        print(' '.join(tag.text.split()))"
   ]
  },
  {
   "cell_type": "code",
   "execution_count": null,
   "metadata": {},
   "outputs": [],
   "source": []
  },
  {
   "cell_type": "raw",
   "metadata": {},
   "source": [
    "4.Write a python program to scrap book name, author name, genre and book review of any 5 books from ‘www.bookpage.com’"
   ]
  },
  {
   "cell_type": "raw",
   "metadata": {},
   "source": []
  },
  {
   "cell_type": "code",
   "execution_count": 600,
   "metadata": {},
   "outputs": [],
   "source": [
    "books=requests.get('https://bookpage.com/reviews')"
   ]
  },
  {
   "cell_type": "code",
   "execution_count": null,
   "metadata": {},
   "outputs": [],
   "source": [
    "books.content"
   ]
  },
  {
   "cell_type": "code",
   "execution_count": 602,
   "metadata": {},
   "outputs": [],
   "source": [
    "book_details=BeautifulSoup(books.content,'html.parser')"
   ]
  },
  {
   "cell_type": "code",
   "execution_count": null,
   "metadata": {},
   "outputs": [],
   "source": [
    "print(book_details.prettify())"
   ]
  },
  {
   "cell_type": "code",
   "execution_count": null,
   "metadata": {},
   "outputs": [],
   "source": [
    "bookdetails=book_details.find_all('div',class_=\"flex-article-content\")\n",
    "bookdetails[0:5]"
   ]
  },
  {
   "cell_type": "code",
   "execution_count": 605,
   "metadata": {},
   "outputs": [
    {
     "name": "stdout",
     "output_type": "stream",
     "text": [
      "<class 'bs4.element.ResultSet'>\n",
      "10\n"
     ]
    }
   ],
   "source": [
    "book_containers = book_details.find_all('div', class_ = 'flex-article-content')\n",
    "print(type(book_containers))\n",
    "print(len(book_containers))"
   ]
  },
  {
   "cell_type": "code",
   "execution_count": 606,
   "metadata": {},
   "outputs": [
    {
     "data": {
      "text/plain": [
       "<div class=\"flex-article-content\">\n",
       "<h4 class=\"italic\">\n",
       "<a href=\"/reviews/25949-gideon-sterer-midnight-fair-childrens\"> <span style=\"font-style:normal;\">★ </span>The Midnight Fair</a>\n",
       "</h4>\n",
       "<p class=\"sans bold\">\n",
       "Gideon Sterer, Mariachiara Di Giorgio\n",
       "</p>\n",
       "<p class=\"genre-links hidden-phone\">\n",
       "<a href=\"/search?book_genre=children_s\">Children's</a>\n",
       " / \n",
       "<a href=\"/search?book_genre=children_s_picture_book\">Children's Picture Book</a>\n",
       "</p>\n",
       "<p class=\"excerpt\">\n",
       "<p>While some books light paths with their words,other books don’t need words to shine. <strong>The Midnight Fair</strong> may be a wordless picture book, but its story is clear, compelling and utterly enchanting.</p>\n",
       "</p>\n",
       "<div class=\"read-full\">\n",
       "<a href=\"/reviews/25949-gideon-sterer-midnight-fair-childrens\">Read the Review <i class=\"zmdi zmdi-chevron-right\"></i></a>\n",
       "</div>\n",
       "</div>"
      ]
     },
     "execution_count": 606,
     "metadata": {},
     "output_type": "execute_result"
    }
   ],
   "source": [
    "first_book = book_containers[0]\n",
    "first_book"
   ]
  },
  {
   "cell_type": "code",
   "execution_count": 620,
   "metadata": {},
   "outputs": [
    {
     "data": {
      "text/plain": [
       "' ★ The Midnight Fair'"
      ]
     },
     "execution_count": 620,
     "metadata": {},
     "output_type": "execute_result"
    }
   ],
   "source": [
    "first_book.h4.a.text"
   ]
  },
  {
   "cell_type": "code",
   "execution_count": 621,
   "metadata": {},
   "outputs": [
    {
     "data": {
      "text/plain": [
       "' ★ City of the Uncommon Thief'"
      ]
     },
     "execution_count": 621,
     "metadata": {},
     "output_type": "execute_result"
    }
   ],
   "source": [
    "second_book = book_containers[1]\n",
    "second_book.h4.a.text"
   ]
  },
  {
   "cell_type": "code",
   "execution_count": 622,
   "metadata": {},
   "outputs": [
    {
     "data": {
      "text/plain": [
       "'How the One-Armed Sister Sweeps Her House'"
      ]
     },
     "execution_count": 622,
     "metadata": {},
     "output_type": "execute_result"
    }
   ],
   "source": [
    "third_book = book_containers[2]\n",
    "third_book.h4.a.text"
   ]
  },
  {
   "cell_type": "code",
   "execution_count": 623,
   "metadata": {},
   "outputs": [
    {
     "data": {
      "text/plain": [
       "'Super Host'"
      ]
     },
     "execution_count": 623,
     "metadata": {},
     "output_type": "execute_result"
    }
   ],
   "source": [
    "fourth_book = book_containers[3]\n",
    "fourth_book.h4.a.text"
   ]
  },
  {
   "cell_type": "code",
   "execution_count": 624,
   "metadata": {},
   "outputs": [
    {
     "data": {
      "text/plain": [
       "'The Paris Library'"
      ]
     },
     "execution_count": 624,
     "metadata": {},
     "output_type": "execute_result"
    }
   ],
   "source": [
    "fifth_book = book_containers[4]\n",
    "fifth_book.h4.a.text"
   ]
  },
  {
   "cell_type": "code",
   "execution_count": 608,
   "metadata": {},
   "outputs": [
    {
     "data": {
      "text/plain": [
       "<p class=\"sans bold\">\n",
       "Gideon Sterer, Mariachiara Di Giorgio\n",
       "</p>"
      ]
     },
     "execution_count": 608,
     "metadata": {},
     "output_type": "execute_result"
    }
   ],
   "source": [
    "first_book.p"
   ]
  },
  {
   "cell_type": "code",
   "execution_count": 610,
   "metadata": {},
   "outputs": [
    {
     "name": "stdout",
     "output_type": "stream",
     "text": [
      "Gideon Sterer, Mariachiara Di Giorgio\n",
      "Children's / Children's Picture Book\n",
      "While some books light paths with their words,other books don’t need words to shine. The Midnight Fair may be a wordless picture book, but its story is clear, compelling and utterly enchanting.\n",
      "While some books light paths with their words,other books don’t need words to shine. The Midnight Fair may be a wordless picture book, but its story is clear, compelling and utterly enchanting.\n"
     ]
    }
   ],
   "source": [
    "tags = first_book.find_all(['p'])\n",
    "for tag in tags:\n",
    "        print(' '.join(tag.text.split()))"
   ]
  },
  {
   "cell_type": "code",
   "execution_count": 619,
   "metadata": {},
   "outputs": [
    {
     "name": "stdout",
     "output_type": "stream",
     "text": [
      "\n",
      "Gideon Sterer, Mariachiara Di Giorgio\n",
      "\n",
      "\n",
      "Children's\n",
      " / \n",
      "Children's Picture Book\n",
      "\n",
      "\n",
      "While some books light paths with their words,other books don’t need words to shine. The Midnight Fair may be a wordless picture book, but its story is clear, compelling and utterly enchanting.\n",
      "\n",
      "While some books light paths with their words,other books don’t need words to shine. The Midnight Fair may be a wordless picture book, but its story is clear, compelling and utterly enchanting.\n"
     ]
    }
   ],
   "source": [
    "for p_tag in book_containers[0].find_all('p'):\n",
    "    print(p_tag.text)"
   ]
  },
  {
   "cell_type": "code",
   "execution_count": 614,
   "metadata": {},
   "outputs": [
    {
     "name": "stdout",
     "output_type": "stream",
     "text": [
      "\n",
      "Lynne Bertrand\n",
      "\n",
      "\n",
      "YA\n",
      " / \n",
      "YA Fiction\n",
      "\n",
      "\n",
      "When you see “Relevant Maps” listed as the first item in City of the Uncommon Thief’s table of contents, you know you’re in for an epic story. What you won’t know until you finish reading, however, is that Lynne Bertrand’s first young adult novel is not only a...\n",
      "\n",
      "When you see “Relevant Maps” listed as the first item in City of the Uncommon Thief’s table of contents, you know you’re in for an epic story. What you won’t know until you finish reading, however, is that Lynne Bertrand’s first young adult novel is not only a...\n"
     ]
    }
   ],
   "source": [
    "for p_tag in book_containers[1].find_all('p'):\n",
    "    print(p_tag.text)"
   ]
  },
  {
   "cell_type": "code",
   "execution_count": 615,
   "metadata": {},
   "outputs": [
    {
     "name": "stdout",
     "output_type": "stream",
     "text": [
      "\n",
      "Cherie Jones\n",
      "\n",
      "\n",
      "Fiction\n",
      " / \n",
      "Literary Fiction\n",
      "\n",
      "\n",
      "In her engrossing and darkly lyrical debut novel, How the One-Armed Sister Sweeps Her House, Bajan author Cherie Jones unspools a discomfiting allegory of race, class and intergenerational trauma in a far from idyllic fictional Caribbean community.\n",
      "\n",
      "In her engrossing and darkly lyrical debut novel, How the One-Armed Sister Sweeps Her House, Bajan author Cherie Jones unspools a discomfiting allegory of race, class and intergenerational trauma in a far from idyllic fictional Caribbean community.\n"
     ]
    }
   ],
   "source": [
    "for p_tag in book_containers[2].find_all('p'):\n",
    "    print(p_tag.text)"
   ]
  },
  {
   "cell_type": "code",
   "execution_count": 616,
   "metadata": {},
   "outputs": [
    {
     "name": "stdout",
     "output_type": "stream",
     "text": [
      "\n",
      "Kate Russo\n",
      "\n",
      "\n",
      "Fiction\n",
      " / \n",
      "Family Drama\n",
      "\n",
      "\n",
      "In Super Host, the first novel from Kate Russo (daughter of Richard Russo), Bennett has been taking it a little bit too easy.\n",
      "\n"
     ]
    }
   ],
   "source": [
    "for p_tag in book_containers[3].find_all('p'):\n",
    "    print(p_tag.text)"
   ]
  },
  {
   "cell_type": "code",
   "execution_count": 617,
   "metadata": {},
   "outputs": [
    {
     "name": "stdout",
     "output_type": "stream",
     "text": [
      "\n",
      "Janet Skeslien Charles\n",
      "\n",
      "\n",
      "Fiction\n",
      " / \n",
      "Historical Fiction\n",
      "\n",
      "\n",
      "One might wonder if anything new can be written about Paris, but Janet Skeslien Charles reminds us of the city’s evergreen appeal and unbounded potential for stories with The Paris Library, which tells of the very real, very beloved American Library in Paris and the role it played during...\n",
      "\n",
      "One might wonder if anything new can be written about Paris, but Janet Skeslien Charles reminds us of the city’s evergreen appeal and unbounded potential for stories with The Paris Library, which tells of the very real, very beloved American Library in Paris and the role it played during...\n"
     ]
    }
   ],
   "source": [
    "for p_tag in book_containers[4].find_all('p'):\n",
    "    print(p_tag.text)"
   ]
  },
  {
   "cell_type": "raw",
   "metadata": {},
   "source": []
  },
  {
   "cell_type": "raw",
   "metadata": {},
   "source": [
    "7. Write a python program to scrape details of all the mobile phones under Rs. 20,000 listed on Amazon.in. The scraped data should include Product Name, Price, Image URL and Average Rating."
   ]
  },
  {
   "cell_type": "raw",
   "metadata": {},
   "source": []
  },
  {
   "cell_type": "code",
   "execution_count": 240,
   "metadata": {},
   "outputs": [],
   "source": [
    "import numpy as np\n",
    "from time import sleep\n",
    "from random import randint"
   ]
  },
  {
   "cell_type": "code",
   "execution_count": 241,
   "metadata": {},
   "outputs": [],
   "source": [
    "product_name=[]\n",
    "price=[]\n",
    "image_url=[]\n",
    "average_rating=[]"
   ]
  },
  {
   "cell_type": "code",
   "execution_count": 675,
   "metadata": {},
   "outputs": [],
   "source": [
    "pages = np.arange(1,16)\n",
    "\n",
    "for page in pages: \n",
    "  \n",
    "  page=requests.get(\"https://www.amazon.in/s?i=electronics&rh=n%3A1805559031%2Cp_36%3A-1900000&fs=true&page=\" +str(page) + \"&rnid=1318502031\" + \"&ref=\" +str(page))\n",
    "  \n",
    "  soup = BeautifulSoup(page.text, 'html.parser')\n",
    "  \n",
    "  mobile_div = soup.find_all('div', class_='sg-col-inner')\n",
    "  \n",
    "  sleep(randint(2,10))"
   ]
  },
  {
   "cell_type": "code",
   "execution_count": 676,
   "metadata": {},
   "outputs": [
    {
     "data": {
      "text/plain": [
       "[]"
      ]
     },
     "execution_count": 676,
     "metadata": {},
     "output_type": "execute_result"
    }
   ],
   "source": [
    "mobile_div"
   ]
  },
  {
   "cell_type": "code",
   "execution_count": 669,
   "metadata": {},
   "outputs": [],
   "source": [
    "for container in mobile_div:\n",
    "    \n",
    "    name = container.h2.text\n",
    "    \n",
    "    product_name.append(name)"
   ]
  },
  {
   "cell_type": "code",
   "execution_count": null,
   "metadata": {},
   "outputs": [],
   "source": [
    "product_name"
   ]
  },
  {
   "cell_type": "code",
   "execution_count": 33,
   "metadata": {},
   "outputs": [],
   "source": [
    "qid=np.arange(1612710700,1612710900)\n",
    "for page in pages:\n",
    "    pages = np.arange(1,16)\n",
    "    mobiles=requests.get(\"https://www.amazon.in/s?i=electronics&rh=n%3A1805559031%2Cp_36%3A-1900000&fs=true&page=\" +str(page) + \"qid=\" +str(qid) + \"&rnid=1318502031\" + \"&ref=\" +str(page))"
   ]
  },
  {
   "cell_type": "code",
   "execution_count": 252,
   "metadata": {},
   "outputs": [],
   "source": [
    "url = \"https://www.amazon.in/s?rh=n%3A1805559031&fs=true&ref=lp_1805559031_sar\"\n",
    "r = requests.get(url)\n",
    "sp = BeautifulSoup(r.content, \"html.parser\")"
   ]
  },
  {
   "cell_type": "code",
   "execution_count": null,
   "metadata": {},
   "outputs": [],
   "source": [
    "sp"
   ]
  },
  {
   "cell_type": "code",
   "execution_count": null,
   "metadata": {},
   "outputs": [],
   "source": [
    "print(sp.prettify())"
   ]
  },
  {
   "cell_type": "code",
   "execution_count": null,
   "metadata": {},
   "outputs": [],
   "source": [
    "mobiles.content"
   ]
  },
  {
   "cell_type": "code",
   "execution_count": 35,
   "metadata": {},
   "outputs": [],
   "source": [
    "mobile_details=BeautifulSoup(mobiles.content,'html.parser')."
   ]
  },
  {
   "cell_type": "code",
   "execution_count": 271,
   "metadata": {},
   "outputs": [
    {
     "name": "stdout",
     "output_type": "stream",
     "text": [
      "<class 'bs4.element.ResultSet'>\n",
      "0\n"
     ]
    }
   ],
   "source": [
    "mobile_cont = sp.find_all('ul', class_ = 'pagination-list')\n",
    "print(type(mobile_cont))\n",
    "print(len(mobile_cont))"
   ]
  },
  {
   "cell_type": "code",
   "execution_count": 247,
   "metadata": {},
   "outputs": [
    {
     "data": {
      "text/plain": [
       "[]"
      ]
     },
     "execution_count": 247,
     "metadata": {},
     "output_type": "execute_result"
    }
   ],
   "source": [
    "list1=[]\n",
    "mobiledetails=sp.find_all(\"ul\",class_=\"pagination-list\")\n",
    "for i in mobiledetails:\n",
    "    mobile=sp.find_all(\"li\")\n",
    "    for j in range(1,len(mobile)):\n",
    "        list1.append(mobile[j])\n",
    "list1"
   ]
  },
  {
   "cell_type": "code",
   "execution_count": 59,
   "metadata": {},
   "outputs": [
    {
     "name": "stdout",
     "output_type": "stream",
     "text": [
      "<class 'bs4.element.ResultSet'>\n",
      "24\n"
     ]
    }
   ],
   "source": [
    "mobile_containers = mobile_details.find_all('div', class_ = 'a-section a-spacing-medium')\n",
    "print(type(mobile_containers))\n",
    "print(len(mobile_containers))"
   ]
  },
  {
   "cell_type": "code",
   "execution_count": null,
   "metadata": {},
   "outputs": [],
   "source": [
    "first_mobile = mobile_containers[0]\n",
    "first_mobile"
   ]
  },
  {
   "cell_type": "code",
   "execution_count": 696,
   "metadata": {},
   "outputs": [
    {
     "data": {
      "text/plain": [
       "'Samsung Galaxy M02s (Blue,4GB RAM, 64GB Storage) | 5000 mAh | Triple Camera'"
      ]
     },
     "execution_count": 696,
     "metadata": {},
     "output_type": "execute_result"
    }
   ],
   "source": [
    "first_mobile_name=first_mobile.h2.a.text.replace('\\n','')\n",
    "first_mobile_name"
   ]
  },
  {
   "cell_type": "code",
   "execution_count": 698,
   "metadata": {},
   "outputs": [
    {
     "data": {
      "text/plain": [
       "<span class=\"a-price-whole\">9,999</span>"
      ]
     },
     "execution_count": 698,
     "metadata": {},
     "output_type": "execute_result"
    }
   ],
   "source": [
    "first_mobile_price=first_mobile.find('span', class_ = 'a-price-whole')\n",
    "first_mobile_price"
   ]
  },
  {
   "cell_type": "code",
   "execution_count": 699,
   "metadata": {},
   "outputs": [
    {
     "data": {
      "text/plain": [
       "'9,999'"
      ]
     },
     "execution_count": 699,
     "metadata": {},
     "output_type": "execute_result"
    }
   ],
   "source": [
    "first_mobile_price=first_mobile_price.text\n",
    "first_mobile_price"
   ]
  },
  {
   "cell_type": "code",
   "execution_count": 701,
   "metadata": {},
   "outputs": [
    {
     "data": {
      "text/plain": [
       "<span class=\"a-size-base\" dir=\"auto\">815</span>"
      ]
     },
     "execution_count": 701,
     "metadata": {},
     "output_type": "execute_result"
    }
   ],
   "source": [
    "first_mobile_rating=first_mobile.find('span', class_ = 'a-size-base')\n",
    "first_mobile_rating"
   ]
  },
  {
   "cell_type": "code",
   "execution_count": 702,
   "metadata": {},
   "outputs": [
    {
     "data": {
      "text/plain": [
       "'815'"
      ]
     },
     "execution_count": 702,
     "metadata": {},
     "output_type": "execute_result"
    }
   ],
   "source": [
    "first_mobile_rating=first_mobile_rating.text\n",
    "first_mobile_rating"
   ]
  },
  {
   "cell_type": "code",
   "execution_count": 717,
   "metadata": {},
   "outputs": [
    {
     "data": {
      "text/plain": [
       "<img alt=\"Samsung Galaxy M02s (Blue,4GB RAM, 64GB Storage) | 5000 mAh | Triple Camera\" class=\"s-image\" data-image-index=\"0\" data-image-latency=\"s-product-image\" data-image-load=\"\" data-image-source-density=\"1\" onload=\"window.uet &amp;&amp; uet('cf')\" src=\"https://m.media-amazon.com/images/I/71wkpcIfqdL._AC_UL320_.jpg\" srcset=\"https://m.media-amazon.com/images/I/71wkpcIfqdL._AC_UL320_.jpg 1x, https://m.media-amazon.com/images/I/71wkpcIfqdL._AC_UL480_QL65_.jpg 1.5x, https://m.media-amazon.com/images/I/71wkpcIfqdL._AC_UL640_QL65_.jpg 2x, https://m.media-amazon.com/images/I/71wkpcIfqdL._AC_UL800_QL65_.jpg 2.5x, https://m.media-amazon.com/images/I/71wkpcIfqdL._AC_UL960_QL65_.jpg 3x\"/>"
      ]
     },
     "execution_count": 717,
     "metadata": {},
     "output_type": "execute_result"
    }
   ],
   "source": [
    "first_mobile_imageurl=first_mobile.find('img', class_ = 's-image')\n",
    "first_mobile_imageurl"
   ]
  },
  {
   "cell_type": "code",
   "execution_count": 735,
   "metadata": {},
   "outputs": [],
   "source": [
    "for first_mobile_imageurl in first_mobile.find_all('div',{'class':'a-section a-spacing-medium'}):\n",
    "    link = first_mobile_imageurl.find('img',src=True)\n",
    "    if link is None:\n",
    "        continue\n",
    "    print(link['src'])   "
   ]
  },
  {
   "cell_type": "code",
   "execution_count": 756,
   "metadata": {},
   "outputs": [],
   "source": [
    "product_name=[]\n",
    "price_mobile=[]\n",
    "image_url=[]\n",
    "average_rating=[]\n",
    "for container in mobile_containers:\n",
    "    name = container.h2.a.text.replace('\\n','')\n",
    "    product_name.append(name)\n",
    "        \n",
    "    rating = container.find('span', class_ = 'a-size-base').text\n",
    "    average_rating.append(rating)\n",
    "    \n",
    "    price = container.find('span', class_ = 'a-price-whole')\n",
    "    price_mobile.append(price)"
   ]
  },
  {
   "cell_type": "code",
   "execution_count": 757,
   "metadata": {},
   "outputs": [
    {
     "name": "stdout",
     "output_type": "stream",
     "text": [
      "<class 'pandas.core.frame.DataFrame'>\n",
      "RangeIndex: 24 entries, 0 to 23\n",
      "Data columns (total 3 columns):\n",
      " #   Column  Non-Null Count  Dtype \n",
      "---  ------  --------------  ----- \n",
      " 0   mobile  24 non-null     object\n",
      " 1   rating  24 non-null     object\n",
      " 2   price   23 non-null     object\n",
      "dtypes: object(3)\n",
      "memory usage: 704.0+ bytes\n",
      "None\n"
     ]
    },
    {
     "data": {
      "text/html": [
       "<div>\n",
       "<style scoped>\n",
       "    .dataframe tbody tr th:only-of-type {\n",
       "        vertical-align: middle;\n",
       "    }\n",
       "\n",
       "    .dataframe tbody tr th {\n",
       "        vertical-align: top;\n",
       "    }\n",
       "\n",
       "    .dataframe thead th {\n",
       "        text-align: right;\n",
       "    }\n",
       "</style>\n",
       "<table border=\"1\" class=\"dataframe\">\n",
       "  <thead>\n",
       "    <tr style=\"text-align: right;\">\n",
       "      <th></th>\n",
       "      <th>mobile</th>\n",
       "      <th>rating</th>\n",
       "      <th>price</th>\n",
       "    </tr>\n",
       "  </thead>\n",
       "  <tbody>\n",
       "    <tr>\n",
       "      <th>0</th>\n",
       "      <td>Samsung Galaxy M02s (Blue,4GB RAM, 64GB Storag...</td>\n",
       "      <td>815</td>\n",
       "      <td>[9,999]</td>\n",
       "    </tr>\n",
       "    <tr>\n",
       "      <th>1</th>\n",
       "      <td>Samsung Galaxy M02s (Blue,3GB RAM, 32GB Storag...</td>\n",
       "      <td>815</td>\n",
       "      <td>[8,999]</td>\n",
       "    </tr>\n",
       "    <tr>\n",
       "      <th>2</th>\n",
       "      <td>Nokia 105 Single SIM (Black)</td>\n",
       "      <td>14,024</td>\n",
       "      <td>[1,158]</td>\n",
       "    </tr>\n",
       "    <tr>\n",
       "      <th>3</th>\n",
       "      <td>Samsung Galaxy M02s (Black,3GB RAM, 32GB Stora...</td>\n",
       "      <td>815</td>\n",
       "      <td>[8,999]</td>\n",
       "    </tr>\n",
       "    <tr>\n",
       "      <th>4</th>\n",
       "      <td>Samsung Galaxy M02s (Black,4GB RAM, 64GB Stora...</td>\n",
       "      <td>815</td>\n",
       "      <td>[9,999]</td>\n",
       "    </tr>\n",
       "    <tr>\n",
       "      <th>5</th>\n",
       "      <td>Samsung Galaxy M02s (Red,3GB RAM, 32GB Storage...</td>\n",
       "      <td>815</td>\n",
       "      <td>[8,999]</td>\n",
       "    </tr>\n",
       "    <tr>\n",
       "      <th>6</th>\n",
       "      <td>Samsung Galaxy M02s (Red,4GB RAM, 64GB Storage...</td>\n",
       "      <td>815</td>\n",
       "      <td>None</td>\n",
       "    </tr>\n",
       "    <tr>\n",
       "      <th>7</th>\n",
       "      <td>Nokia 105 Single SIM (Blue)</td>\n",
       "      <td>14,024</td>\n",
       "      <td>[1,159]</td>\n",
       "    </tr>\n",
       "    <tr>\n",
       "      <th>8</th>\n",
       "      <td>NOKIA 105 Dual SIM (Black)</td>\n",
       "      <td>7,102</td>\n",
       "      <td>[1,318]</td>\n",
       "    </tr>\n",
       "    <tr>\n",
       "      <th>9</th>\n",
       "      <td>Micromax X741 (Grey, Ultra Bright LED Light, 1...</td>\n",
       "      <td>1,094</td>\n",
       "      <td>[1,200]</td>\n",
       "    </tr>\n",
       "    <tr>\n",
       "      <th>10</th>\n",
       "      <td>Nokia 5310 Dual SIM Feature Phone with MP3 Pla...</td>\n",
       "      <td>2,773</td>\n",
       "      <td>[3,397]</td>\n",
       "    </tr>\n",
       "    <tr>\n",
       "      <th>11</th>\n",
       "      <td>Samsung Guru FM Plus (SM-B110E/D, Black)</td>\n",
       "      <td>7,156</td>\n",
       "      <td>[1,599]</td>\n",
       "    </tr>\n",
       "    <tr>\n",
       "      <th>12</th>\n",
       "      <td>Nokia 105 Single SIM (Pink)</td>\n",
       "      <td>14,024</td>\n",
       "      <td>[1,151]</td>\n",
       "    </tr>\n",
       "    <tr>\n",
       "      <th>13</th>\n",
       "      <td>Micromax X381 1.77 inch Phone (Blue)</td>\n",
       "      <td>25</td>\n",
       "      <td>[867]</td>\n",
       "    </tr>\n",
       "    <tr>\n",
       "      <th>14</th>\n",
       "      <td>Samsung Guru 1200 (GT-E1200, Black)</td>\n",
       "      <td>12,216</td>\n",
       "      <td>[1,340]</td>\n",
       "    </tr>\n",
       "    <tr>\n",
       "      <th>15</th>\n",
       "      <td>Nokia 5310 Dual SIM Feature Phone with MP3 Pla...</td>\n",
       "      <td>2,773</td>\n",
       "      <td>[3,338]</td>\n",
       "    </tr>\n",
       "    <tr>\n",
       "      <th>16</th>\n",
       "      <td>Samsung Guru Music 2 (SM-B310E, Black)</td>\n",
       "      <td>18,888</td>\n",
       "      <td>[1,910]</td>\n",
       "    </tr>\n",
       "    <tr>\n",
       "      <th>17</th>\n",
       "      <td>Nokia 110 Dual SIM (Black)</td>\n",
       "      <td>1,606</td>\n",
       "      <td>[1,610]</td>\n",
       "    </tr>\n",
       "    <tr>\n",
       "      <th>18</th>\n",
       "      <td>Nokia 150 (2020) (Black)</td>\n",
       "      <td>250</td>\n",
       "      <td>[2,261]</td>\n",
       "    </tr>\n",
       "    <tr>\n",
       "      <th>19</th>\n",
       "      <td>NOKIA 105 Dual SIM (Dark Blue)</td>\n",
       "      <td>7,102</td>\n",
       "      <td>[1,348]</td>\n",
       "    </tr>\n",
       "    <tr>\n",
       "      <th>20</th>\n",
       "      <td>Nokia 216 (Black)</td>\n",
       "      <td>7,547</td>\n",
       "      <td>[2,725]</td>\n",
       "    </tr>\n",
       "    <tr>\n",
       "      <th>21</th>\n",
       "      <td>Nokia 3310 Dual SIM Feature Phone with MP3 Pla...</td>\n",
       "      <td>7,563</td>\n",
       "      <td>[3,451]</td>\n",
       "    </tr>\n",
       "    <tr>\n",
       "      <th>22</th>\n",
       "      <td>Samsung Guru FM Plus (Gold)</td>\n",
       "      <td>7,156</td>\n",
       "      <td>[1,449]</td>\n",
       "    </tr>\n",
       "    <tr>\n",
       "      <th>23</th>\n",
       "      <td>Samsung Guru 1200 (GT-E1200, Indigo Blue)</td>\n",
       "      <td>12,216</td>\n",
       "      <td>[1,150]</td>\n",
       "    </tr>\n",
       "  </tbody>\n",
       "</table>\n",
       "</div>"
      ],
      "text/plain": [
       "                                               mobile  rating    price\n",
       "0   Samsung Galaxy M02s (Blue,4GB RAM, 64GB Storag...     815  [9,999]\n",
       "1   Samsung Galaxy M02s (Blue,3GB RAM, 32GB Storag...     815  [8,999]\n",
       "2                        Nokia 105 Single SIM (Black)  14,024  [1,158]\n",
       "3   Samsung Galaxy M02s (Black,3GB RAM, 32GB Stora...     815  [8,999]\n",
       "4   Samsung Galaxy M02s (Black,4GB RAM, 64GB Stora...     815  [9,999]\n",
       "5   Samsung Galaxy M02s (Red,3GB RAM, 32GB Storage...     815  [8,999]\n",
       "6   Samsung Galaxy M02s (Red,4GB RAM, 64GB Storage...     815     None\n",
       "7                         Nokia 105 Single SIM (Blue)  14,024  [1,159]\n",
       "8                          NOKIA 105 Dual SIM (Black)   7,102  [1,318]\n",
       "9   Micromax X741 (Grey, Ultra Bright LED Light, 1...   1,094  [1,200]\n",
       "10  Nokia 5310 Dual SIM Feature Phone with MP3 Pla...   2,773  [3,397]\n",
       "11           Samsung Guru FM Plus (SM-B110E/D, Black)   7,156  [1,599]\n",
       "12                        Nokia 105 Single SIM (Pink)  14,024  [1,151]\n",
       "13               Micromax X381 1.77 inch Phone (Blue)      25    [867]\n",
       "14                Samsung Guru 1200 (GT-E1200, Black)  12,216  [1,340]\n",
       "15  Nokia 5310 Dual SIM Feature Phone with MP3 Pla...   2,773  [3,338]\n",
       "16             Samsung Guru Music 2 (SM-B310E, Black)  18,888  [1,910]\n",
       "17                         Nokia 110 Dual SIM (Black)   1,606  [1,610]\n",
       "18                           Nokia 150 (2020) (Black)     250  [2,261]\n",
       "19                     NOKIA 105 Dual SIM (Dark Blue)   7,102  [1,348]\n",
       "20                                  Nokia 216 (Black)   7,547  [2,725]\n",
       "21  Nokia 3310 Dual SIM Feature Phone with MP3 Pla...   7,563  [3,451]\n",
       "22                        Samsung Guru FM Plus (Gold)   7,156  [1,449]\n",
       "23          Samsung Guru 1200 (GT-E1200, Indigo Blue)  12,216  [1,150]"
      ]
     },
     "execution_count": 757,
     "metadata": {},
     "output_type": "execute_result"
    }
   ],
   "source": [
    "import pandas as pd\n",
    "test_df = pd.DataFrame({'mobile': product_name,\n",
    "'rating': average_rating,\n",
    "'price': price_mobile,\n",
    "})\n",
    "print(test_df.info())\n",
    "test_df"
   ]
  },
  {
   "cell_type": "raw",
   "metadata": {},
   "source": []
  },
  {
   "cell_type": "raw",
   "metadata": {},
   "source": [
    "8.Write a python program to extract information about the local weather from the National Weather Service\n",
    "website of USA, https://www.weather.gov/ for the city, San Francisco. You need to extract data about 7 day\n",
    "extended forecast display for the city. The data should include period, short description, temperature and\n",
    "description. "
   ]
  },
  {
   "cell_type": "raw",
   "metadata": {},
   "source": []
  },
  {
   "cell_type": "code",
   "execution_count": 95,
   "metadata": {},
   "outputs": [],
   "source": [
    "weather=requests.get('https://forecast.weather.gov/MapClick.php?lat=37.777120000000025&lon=-122.41963999999996#.YCCq7OgzbIU')"
   ]
  },
  {
   "cell_type": "code",
   "execution_count": null,
   "metadata": {},
   "outputs": [],
   "source": [
    "weather.content"
   ]
  },
  {
   "cell_type": "code",
   "execution_count": 97,
   "metadata": {},
   "outputs": [],
   "source": [
    "weather_details=BeautifulSoup(weather.content,'html.parser')"
   ]
  },
  {
   "cell_type": "code",
   "execution_count": null,
   "metadata": {},
   "outputs": [],
   "source": [
    "print(weather_details.prettify())"
   ]
  },
  {
   "cell_type": "code",
   "execution_count": null,
   "metadata": {},
   "outputs": [],
   "source": [
    "temperature_details=weather_details.find_all('div',class_=\"panel-body\")\n",
    "temperature_details"
   ]
  },
  {
   "cell_type": "code",
   "execution_count": 128,
   "metadata": {},
   "outputs": [
    {
     "data": {
      "text/plain": [
       "<p class=\"myforecast-current-lrg\">53°F</p>"
      ]
     },
     "execution_count": 128,
     "metadata": {},
     "output_type": "execute_result"
    }
   ],
   "source": [
    "list1=[]\n",
    "weatherdetails=weather_details.find_all(\"div\",class_=\"pull-left\")\n",
    "for i in weatherdetails:\n",
    "    wd=weather_details.find_all(\"p\")\n",
    "    for j in range(4,6):\n",
    "        list1.append(wd[j])\n",
    "list1[0]        "
   ]
  },
  {
   "cell_type": "code",
   "execution_count": 129,
   "metadata": {},
   "outputs": [
    {
     "data": {
      "text/plain": [
       "'53°F'"
      ]
     },
     "execution_count": 129,
     "metadata": {},
     "output_type": "execute_result"
    }
   ],
   "source": [
    "listF=list1[0].text\n",
    "listF"
   ]
  },
  {
   "cell_type": "code",
   "execution_count": 130,
   "metadata": {},
   "outputs": [
    {
     "data": {
      "text/plain": [
       "<p class=\"myforecast-current-sm\">12°C</p>"
      ]
     },
     "execution_count": 130,
     "metadata": {},
     "output_type": "execute_result"
    }
   ],
   "source": [
    "list1[1]"
   ]
  },
  {
   "cell_type": "code",
   "execution_count": 131,
   "metadata": {},
   "outputs": [
    {
     "data": {
      "text/plain": [
       "'12°C'"
      ]
     },
     "execution_count": 131,
     "metadata": {},
     "output_type": "execute_result"
    }
   ],
   "source": [
    "listC=list1[1].text\n",
    "listC"
   ]
  },
  {
   "cell_type": "code",
   "execution_count": null,
   "metadata": {},
   "outputs": [],
   "source": [
    "list2=[]\n",
    "weatherdet=weather_details.find_all(\"div\",class_=\"pull-left\")\n",
    "for i in weatherdetails:\n",
    "    w=weather_details.find_all(\"tr\")\n",
    "    for j in range(0,6):\n",
    "        list2.append(w[j])\n",
    "list2 "
   ]
  },
  {
   "cell_type": "code",
   "execution_count": 157,
   "metadata": {},
   "outputs": [
    {
     "data": {
      "text/plain": [
       "[<tr>\n",
       " <td class=\"text-right\"><b>Humidity</b></td>\n",
       " <td>75%</td>\n",
       " </tr>,\n",
       " <tr>\n",
       " <td class=\"text-right\"><b>Wind Speed</b></td>\n",
       " <td>NA NA MPH</td>\n",
       " </tr>,\n",
       " <tr>\n",
       " <td class=\"text-right\"><b>Barometer</b></td>\n",
       " <td>NA</td>\n",
       " </tr>,\n",
       " <tr>\n",
       " <td class=\"text-right\"><b>Dewpoint</b></td>\n",
       " <td>46°F (8°C)</td>\n",
       " </tr>,\n",
       " <tr>\n",
       " <td class=\"text-right\"><b>Visibility</b></td>\n",
       " <td>NA</td>\n",
       " </tr>,\n",
       " <tr>\n",
       " <td class=\"text-right\"><b>Last update</b></td>\n",
       " <td>\n",
       "                 07 Feb 06:43 PM PST            </td>\n",
       " </tr>]"
      ]
     },
     "execution_count": 157,
     "metadata": {},
     "output_type": "execute_result"
    }
   ],
   "source": [
    "list2[0:6]"
   ]
  },
  {
   "cell_type": "code",
   "execution_count": 158,
   "metadata": {},
   "outputs": [
    {
     "data": {
      "text/plain": [
       "<tr>\n",
       "<td class=\"text-right\"><b>Humidity</b></td>\n",
       "<td>75%</td>\n",
       "</tr>"
      ]
     },
     "execution_count": 158,
     "metadata": {},
     "output_type": "execute_result"
    }
   ],
   "source": [
    "list2[0]"
   ]
  },
  {
   "cell_type": "code",
   "execution_count": 164,
   "metadata": {},
   "outputs": [
    {
     "name": "stdout",
     "output_type": "stream",
     "text": [
      "Humidity\n",
      "75%\n"
     ]
    }
   ],
   "source": [
    "for td_tag in list2[0].find_all('td'):\n",
    "    print(td_tag.text)"
   ]
  },
  {
   "cell_type": "code",
   "execution_count": 145,
   "metadata": {},
   "outputs": [
    {
     "data": {
      "text/plain": [
       "<tr>\n",
       "<td class=\"text-right\"><b>Wind Speed</b></td>\n",
       "<td>NA NA MPH</td>\n",
       "</tr>"
      ]
     },
     "execution_count": 145,
     "metadata": {},
     "output_type": "execute_result"
    }
   ],
   "source": [
    "list2[1]"
   ]
  },
  {
   "cell_type": "code",
   "execution_count": 163,
   "metadata": {},
   "outputs": [
    {
     "name": "stdout",
     "output_type": "stream",
     "text": [
      "Wind Speed\n",
      "NA NA MPH\n"
     ]
    }
   ],
   "source": [
    "for td_tag in list2[1].find_all('td'):\n",
    "    print(td_tag.text)"
   ]
  },
  {
   "cell_type": "code",
   "execution_count": 146,
   "metadata": {},
   "outputs": [
    {
     "data": {
      "text/plain": [
       "<tr>\n",
       "<td class=\"text-right\"><b>Barometer</b></td>\n",
       "<td>NA</td>\n",
       "</tr>"
      ]
     },
     "execution_count": 146,
     "metadata": {},
     "output_type": "execute_result"
    }
   ],
   "source": [
    "list2[2]"
   ]
  },
  {
   "cell_type": "code",
   "execution_count": 162,
   "metadata": {},
   "outputs": [
    {
     "name": "stdout",
     "output_type": "stream",
     "text": [
      "Barometer\n",
      "NA\n"
     ]
    }
   ],
   "source": [
    "for td_tag in list2[2].find_all('td'):\n",
    "    print(td_tag.text)"
   ]
  },
  {
   "cell_type": "code",
   "execution_count": 147,
   "metadata": {},
   "outputs": [
    {
     "data": {
      "text/plain": [
       "<tr>\n",
       "<td class=\"text-right\"><b>Dewpoint</b></td>\n",
       "<td>46°F (8°C)</td>\n",
       "</tr>"
      ]
     },
     "execution_count": 147,
     "metadata": {},
     "output_type": "execute_result"
    }
   ],
   "source": [
    "list2[3]"
   ]
  },
  {
   "cell_type": "code",
   "execution_count": 161,
   "metadata": {},
   "outputs": [
    {
     "name": "stdout",
     "output_type": "stream",
     "text": [
      "Dewpoint\n",
      "46°F (8°C)\n"
     ]
    }
   ],
   "source": [
    "for td_tag in list2[3].find_all('td'):\n",
    "    print(td_tag.text)"
   ]
  },
  {
   "cell_type": "code",
   "execution_count": 148,
   "metadata": {},
   "outputs": [
    {
     "data": {
      "text/plain": [
       "<tr>\n",
       "<td class=\"text-right\"><b>Visibility</b></td>\n",
       "<td>NA</td>\n",
       "</tr>"
      ]
     },
     "execution_count": 148,
     "metadata": {},
     "output_type": "execute_result"
    }
   ],
   "source": [
    "list2[4]"
   ]
  },
  {
   "cell_type": "code",
   "execution_count": 160,
   "metadata": {},
   "outputs": [
    {
     "name": "stdout",
     "output_type": "stream",
     "text": [
      "Visibility\n",
      "NA\n"
     ]
    }
   ],
   "source": [
    "for td_tag in list2[4].find_all('td'):\n",
    "    print(td_tag.text)"
   ]
  },
  {
   "cell_type": "code",
   "execution_count": 155,
   "metadata": {},
   "outputs": [
    {
     "data": {
      "text/plain": [
       "<tr>\n",
       "<td class=\"text-right\"><b>Last update</b></td>\n",
       "<td>\n",
       "                07 Feb 06:43 PM PST            </td>\n",
       "</tr>"
      ]
     },
     "execution_count": 155,
     "metadata": {},
     "output_type": "execute_result"
    }
   ],
   "source": [
    "list2[5]"
   ]
  },
  {
   "cell_type": "code",
   "execution_count": 159,
   "metadata": {},
   "outputs": [
    {
     "name": "stdout",
     "output_type": "stream",
     "text": [
      "Last update\n",
      "\n",
      "                07 Feb 06:43 PM PST            \n"
     ]
    }
   ],
   "source": [
    "for td_tag in list2[5].find_all('td'):\n",
    "    print(td_tag.text)"
   ]
  },
  {
   "cell_type": "code",
   "execution_count": 172,
   "metadata": {},
   "outputs": [
    {
     "data": {
      "text/plain": [
       "'TonightPartly cloudy, with a low around 46. West southwest wind 5 to 8 mph. '"
      ]
     },
     "execution_count": 172,
     "metadata": {},
     "output_type": "execute_result"
    }
   ],
   "source": [
    "temperature_details[2].div.text"
   ]
  },
  {
   "cell_type": "code",
   "execution_count": 191,
   "metadata": {},
   "outputs": [
    {
     "data": {
      "text/plain": [
       "<div class=\"tombstone-container\">\n",
       "<p class=\"period-name\">Tonight<br/><br/></p>\n",
       "<p><img alt=\"Tonight: Partly cloudy, with a low around 46. West southwest wind 5 to 8 mph. \" class=\"forecast-icon\" src=\"newimages/medium/nsct.png\" title=\"Tonight: Partly cloudy, with a low around 46. West southwest wind 5 to 8 mph. \"/></p><p class=\"short-desc\">Partly Cloudy</p><p class=\"temp temp-low\">Low: 46 °F</p></div>"
      ]
     },
     "execution_count": 191,
     "metadata": {},
     "output_type": "execute_result"
    }
   ],
   "source": [
    "temperature_details[1].div.div"
   ]
  },
  {
   "cell_type": "code",
   "execution_count": 192,
   "metadata": {},
   "outputs": [
    {
     "name": "stdout",
     "output_type": "stream",
     "text": [
      "Tonight\n",
      "\n",
      "Partly Cloudy\n",
      "Low: 46 °F\n"
     ]
    }
   ],
   "source": [
    "for p_tag in temperature_details[1].div.div.find_all('p'):\n",
    "    print(p_tag.text)"
   ]
  },
  {
   "cell_type": "code",
   "execution_count": null,
   "metadata": {},
   "outputs": [],
   "source": [
    "weekly_wetherforecast=weather_details.find_all('div',class_=\"tombstone-container\")\n",
    "weekly_wetherforecast"
   ]
  },
  {
   "cell_type": "code",
   "execution_count": 199,
   "metadata": {},
   "outputs": [
    {
     "data": {
      "text/plain": [
       "<div class=\"tombstone-container\">\n",
       "<p class=\"period-name\">Tonight<br/><br/></p>\n",
       "<p><img alt=\"Tonight: Partly cloudy, with a low around 46. West southwest wind 5 to 8 mph. \" class=\"forecast-icon\" src=\"newimages/medium/nsct.png\" title=\"Tonight: Partly cloudy, with a low around 46. West southwest wind 5 to 8 mph. \"/></p><p class=\"short-desc\">Partly Cloudy</p><p class=\"temp temp-low\">Low: 46 °F</p></div>"
      ]
     },
     "execution_count": 199,
     "metadata": {},
     "output_type": "execute_result"
    }
   ],
   "source": [
    "weekly_wetherforecast[0]"
   ]
  },
  {
   "cell_type": "code",
   "execution_count": 209,
   "metadata": {},
   "outputs": [
    {
     "name": "stdout",
     "output_type": "stream",
     "text": [
      "Tonight\n",
      "\n",
      "Partly Cloudy\n",
      "Low: 46 °F\n"
     ]
    }
   ],
   "source": [
    "for p_tag in weekly_wetherforecast[0].find_all('p'):\n",
    "    print(p_tag.text)"
   ]
  },
  {
   "cell_type": "code",
   "execution_count": 200,
   "metadata": {},
   "outputs": [
    {
     "data": {
      "text/plain": [
       "<div class=\"tombstone-container\">\n",
       "<p class=\"period-name\">Monday<br/><br/></p>\n",
       "<p><img alt=\"Monday: Patchy fog before 10am.  Otherwise, mostly cloudy, with a high near 58. Calm wind becoming west 5 to 8 mph in the afternoon. \" class=\"forecast-icon\" src=\"DualImage.php?i=fg&amp;j=bkn\" title=\"Monday: Patchy fog before 10am.  Otherwise, mostly cloudy, with a high near 58. Calm wind becoming west 5 to 8 mph in the afternoon. \"/></p><p class=\"short-desc\">Patchy Fog<br/>then Mostly<br/>Cloudy</p><p class=\"temp temp-high\">High: 58 °F</p></div>"
      ]
     },
     "execution_count": 200,
     "metadata": {},
     "output_type": "execute_result"
    }
   ],
   "source": [
    "weekly_wetherforecast[1]"
   ]
  },
  {
   "cell_type": "code",
   "execution_count": 213,
   "metadata": {},
   "outputs": [
    {
     "name": "stdout",
     "output_type": "stream",
     "text": [
      "Monday\n",
      "\n",
      "Patchy Fogthen MostlyCloudy\n",
      "High: 58 °F\n"
     ]
    }
   ],
   "source": [
    "for p_tag in weekly_wetherforecast[1].find_all('p'):\n",
    "    print(p_tag.text)"
   ]
  },
  {
   "cell_type": "code",
   "execution_count": 201,
   "metadata": {},
   "outputs": [
    {
     "data": {
      "text/plain": [
       "<div class=\"tombstone-container\">\n",
       "<p class=\"period-name\">Monday<br/>Night</p>\n",
       "<p><img alt=\"Monday Night: Mostly cloudy, with a low around 49. West wind 7 to 11 mph. \" class=\"forecast-icon\" src=\"newimages/medium/nbkn.png\" title=\"Monday Night: Mostly cloudy, with a low around 49. West wind 7 to 11 mph. \"/></p><p class=\"short-desc\">Mostly Cloudy</p><p class=\"temp temp-low\">Low: 49 °F</p></div>"
      ]
     },
     "execution_count": 201,
     "metadata": {},
     "output_type": "execute_result"
    }
   ],
   "source": [
    "weekly_wetherforecast[2]"
   ]
  },
  {
   "cell_type": "code",
   "execution_count": 214,
   "metadata": {},
   "outputs": [
    {
     "name": "stdout",
     "output_type": "stream",
     "text": [
      "MondayNight\n",
      "\n",
      "Mostly Cloudy\n",
      "Low: 49 °F\n"
     ]
    }
   ],
   "source": [
    "for p_tag in weekly_wetherforecast[2].find_all('p'):\n",
    "    print(p_tag.text)"
   ]
  },
  {
   "cell_type": "code",
   "execution_count": 215,
   "metadata": {},
   "outputs": [
    {
     "data": {
      "text/plain": [
       "<div class=\"tombstone-container\">\n",
       "<p class=\"period-name\">Tuesday<br/><br/></p>\n",
       "<p><img alt=\"Tuesday: Mostly cloudy, with a high near 58. West wind 7 to 10 mph. \" class=\"forecast-icon\" src=\"newimages/medium/bkn.png\" title=\"Tuesday: Mostly cloudy, with a high near 58. West wind 7 to 10 mph. \"/></p><p class=\"short-desc\">Mostly Cloudy</p><p class=\"temp temp-high\">High: 58 °F</p></div>"
      ]
     },
     "execution_count": 215,
     "metadata": {},
     "output_type": "execute_result"
    }
   ],
   "source": [
    "weekly_wetherforecast[3]"
   ]
  },
  {
   "cell_type": "code",
   "execution_count": 217,
   "metadata": {},
   "outputs": [
    {
     "name": "stdout",
     "output_type": "stream",
     "text": [
      "Tuesday\n",
      "\n",
      "Mostly Cloudy\n",
      "High: 58 °F\n"
     ]
    }
   ],
   "source": [
    "for p_tag in weekly_wetherforecast[3].find_all('p'):\n",
    "    print(p_tag.text)"
   ]
  },
  {
   "cell_type": "code",
   "execution_count": 216,
   "metadata": {},
   "outputs": [
    {
     "data": {
      "text/plain": [
       "<div class=\"tombstone-container\">\n",
       "<p class=\"period-name\">Tuesday<br/>Night</p>\n",
       "<p><img alt=\"Tuesday Night: Partly cloudy, with a low around 47. West wind 5 to 8 mph becoming calm  after midnight. \" class=\"forecast-icon\" src=\"newimages/medium/nsct.png\" title=\"Tuesday Night: Partly cloudy, with a low around 47. West wind 5 to 8 mph becoming calm  after midnight. \"/></p><p class=\"short-desc\">Partly Cloudy</p><p class=\"temp temp-low\">Low: 47 °F</p></div>"
      ]
     },
     "execution_count": 216,
     "metadata": {},
     "output_type": "execute_result"
    }
   ],
   "source": [
    "weekly_wetherforecast[4]"
   ]
  },
  {
   "cell_type": "code",
   "execution_count": 218,
   "metadata": {},
   "outputs": [
    {
     "name": "stdout",
     "output_type": "stream",
     "text": [
      "TuesdayNight\n",
      "\n",
      "Partly Cloudy\n",
      "Low: 47 °F\n"
     ]
    }
   ],
   "source": [
    "for p_tag in weekly_wetherforecast[4].find_all('p'):\n",
    "    print(p_tag.text)"
   ]
  },
  {
   "cell_type": "code",
   "execution_count": 203,
   "metadata": {},
   "outputs": [
    {
     "data": {
      "text/plain": [
       "<div class=\"tombstone-container\">\n",
       "<p class=\"period-name\">Wednesday<br/><br/></p>\n",
       "<p><img alt=\"Wednesday: Mostly sunny, with a high near 60.\" class=\"forecast-icon\" src=\"newimages/medium/sct.png\" title=\"Wednesday: Mostly sunny, with a high near 60.\"/></p><p class=\"short-desc\">Mostly Sunny</p><p class=\"temp temp-high\">High: 60 °F</p></div>"
      ]
     },
     "execution_count": 203,
     "metadata": {},
     "output_type": "execute_result"
    }
   ],
   "source": [
    "weekly_wetherforecast[5]"
   ]
  },
  {
   "cell_type": "code",
   "execution_count": 219,
   "metadata": {},
   "outputs": [
    {
     "name": "stdout",
     "output_type": "stream",
     "text": [
      "Wednesday\n",
      "\n",
      "Mostly Sunny\n",
      "High: 60 °F\n"
     ]
    }
   ],
   "source": [
    "for p_tag in weekly_wetherforecast[5].find_all('p'):\n",
    "    print(p_tag.text)"
   ]
  },
  {
   "cell_type": "code",
   "execution_count": 204,
   "metadata": {},
   "outputs": [
    {
     "data": {
      "text/plain": [
       "<div class=\"tombstone-container\">\n",
       "<p class=\"period-name\">Wednesday<br/>Night</p>\n",
       "<p><img alt=\"Wednesday Night: Partly cloudy, with a low around 48.\" class=\"forecast-icon\" src=\"newimages/medium/nsct.png\" title=\"Wednesday Night: Partly cloudy, with a low around 48.\"/></p><p class=\"short-desc\">Partly Cloudy</p><p class=\"temp temp-low\">Low: 48 °F</p></div>"
      ]
     },
     "execution_count": 204,
     "metadata": {},
     "output_type": "execute_result"
    }
   ],
   "source": [
    "weekly_wetherforecast[6]"
   ]
  },
  {
   "cell_type": "code",
   "execution_count": 220,
   "metadata": {},
   "outputs": [
    {
     "name": "stdout",
     "output_type": "stream",
     "text": [
      "WednesdayNight\n",
      "\n",
      "Partly Cloudy\n",
      "Low: 48 °F\n"
     ]
    }
   ],
   "source": [
    "for p_tag in weekly_wetherforecast[6].find_all('p'):\n",
    "    print(p_tag.text)"
   ]
  },
  {
   "cell_type": "code",
   "execution_count": 205,
   "metadata": {},
   "outputs": [
    {
     "data": {
      "text/plain": [
       "<div class=\"tombstone-container\">\n",
       "<p class=\"period-name\">Thursday<br/><br/></p>\n",
       "<p><img alt=\"Thursday: A chance of showers.  Mostly cloudy, with a high near 58.\" class=\"forecast-icon\" src=\"newimages/medium/shra.png\" title=\"Thursday: A chance of showers.  Mostly cloudy, with a high near 58.\"/></p><p class=\"short-desc\">Chance<br/>Showers</p><p class=\"temp temp-high\">High: 58 °F</p></div>"
      ]
     },
     "execution_count": 205,
     "metadata": {},
     "output_type": "execute_result"
    }
   ],
   "source": [
    "weekly_wetherforecast[7]"
   ]
  },
  {
   "cell_type": "code",
   "execution_count": 221,
   "metadata": {},
   "outputs": [
    {
     "name": "stdout",
     "output_type": "stream",
     "text": [
      "Thursday\n",
      "\n",
      "ChanceShowers\n",
      "High: 58 °F\n"
     ]
    }
   ],
   "source": [
    "for p_tag in weekly_wetherforecast[7].find_all('p'):\n",
    "    print(p_tag.text)"
   ]
  },
  {
   "cell_type": "code",
   "execution_count": 206,
   "metadata": {},
   "outputs": [
    {
     "data": {
      "text/plain": [
       "<div class=\"tombstone-container\">\n",
       "<p class=\"period-name\">Thursday<br/>Night</p>\n",
       "<p><img alt=\"Thursday Night: A chance of showers.  Mostly cloudy, with a low around 50.\" class=\"forecast-icon\" src=\"newimages/medium/nshra.png\" title=\"Thursday Night: A chance of showers.  Mostly cloudy, with a low around 50.\"/></p><p class=\"short-desc\">Chance<br/>Showers</p><p class=\"temp temp-low\">Low: 50 °F</p></div>"
      ]
     },
     "execution_count": 206,
     "metadata": {},
     "output_type": "execute_result"
    }
   ],
   "source": [
    "weekly_wetherforecast[8]"
   ]
  },
  {
   "cell_type": "code",
   "execution_count": 222,
   "metadata": {},
   "outputs": [
    {
     "name": "stdout",
     "output_type": "stream",
     "text": [
      "ThursdayNight\n",
      "\n",
      "ChanceShowers\n",
      "Low: 50 °F\n"
     ]
    }
   ],
   "source": [
    "for p_tag in weekly_wetherforecast[8].find_all('p'):\n",
    "    print(p_tag.text)"
   ]
  },
  {
   "cell_type": "code",
   "execution_count": 225,
   "metadata": {},
   "outputs": [
    {
     "data": {
      "text/plain": [
       "[<div class=\"row row-odd row-forecast\"><div class=\"col-sm-2 forecast-label\"><b>Tonight</b></div><div class=\"col-sm-10 forecast-text\">Partly cloudy, with a low around 46. West southwest wind 5 to 8 mph. </div></div>,\n",
       " <div class=\"row row-odd row-forecast\"><div class=\"col-sm-2 forecast-label\"><b>Monday Night</b></div><div class=\"col-sm-10 forecast-text\">Mostly cloudy, with a low around 49. West wind 7 to 11 mph. </div></div>,\n",
       " <div class=\"row row-odd row-forecast\"><div class=\"col-sm-2 forecast-label\"><b>Tuesday Night</b></div><div class=\"col-sm-10 forecast-text\">Partly cloudy, with a low around 47. West wind 5 to 8 mph becoming calm  after midnight. </div></div>,\n",
       " <div class=\"row row-odd row-forecast\"><div class=\"col-sm-2 forecast-label\"><b>Wednesday Night</b></div><div class=\"col-sm-10 forecast-text\">Partly cloudy, with a low around 48.</div></div>,\n",
       " <div class=\"row row-odd row-forecast\"><div class=\"col-sm-2 forecast-label\"><b>Thursday Night</b></div><div class=\"col-sm-10 forecast-text\">A chance of showers.  Mostly cloudy, with a low around 50.</div></div>,\n",
       " <div class=\"row row-odd row-forecast\"><div class=\"col-sm-2 forecast-label\"><b>Friday Night</b></div><div class=\"col-sm-10 forecast-text\">A chance of showers.  Mostly cloudy, with a low around 49.</div></div>,\n",
       " <div class=\"row row-odd row-forecast\"><div class=\"col-sm-2 forecast-label\"><b>Saturday Night</b></div><div class=\"col-sm-10 forecast-text\">A chance of rain.  Mostly cloudy, with a low around 48.</div></div>]"
      ]
     },
     "execution_count": 225,
     "metadata": {},
     "output_type": "execute_result"
    }
   ],
   "source": [
    "weekly_wether=weather_details.find_all('div',class_=\"row row-odd row-forecast\")\n",
    "weekly_wether"
   ]
  },
  {
   "cell_type": "code",
   "execution_count": 229,
   "metadata": {},
   "outputs": [
    {
     "data": {
      "text/plain": [
       "<div class=\"row row-odd row-forecast\"><div class=\"col-sm-2 forecast-label\"><b>Friday Night</b></div><div class=\"col-sm-10 forecast-text\">A chance of showers.  Mostly cloudy, with a low around 49.</div></div>"
      ]
     },
     "execution_count": 229,
     "metadata": {},
     "output_type": "execute_result"
    }
   ],
   "source": [
    "weekly_wether[5]"
   ]
  },
  {
   "cell_type": "code",
   "execution_count": 232,
   "metadata": {},
   "outputs": [
    {
     "name": "stdout",
     "output_type": "stream",
     "text": [
      "Friday Night\n",
      "A chance of showers.  Mostly cloudy, with a low around 49.\n"
     ]
    }
   ],
   "source": [
    "for div_tag in weekly_wether[5].find_all('div'):\n",
    "    print(div_tag.text)"
   ]
  },
  {
   "cell_type": "code",
   "execution_count": 230,
   "metadata": {},
   "outputs": [
    {
     "data": {
      "text/plain": [
       "<div class=\"row row-odd row-forecast\"><div class=\"col-sm-2 forecast-label\"><b>Saturday Night</b></div><div class=\"col-sm-10 forecast-text\">A chance of rain.  Mostly cloudy, with a low around 48.</div></div>"
      ]
     },
     "execution_count": 230,
     "metadata": {},
     "output_type": "execute_result"
    }
   ],
   "source": [
    "weekly_wether[6]"
   ]
  },
  {
   "cell_type": "code",
   "execution_count": 233,
   "metadata": {},
   "outputs": [
    {
     "name": "stdout",
     "output_type": "stream",
     "text": [
      "Saturday Night\n",
      "A chance of rain.  Mostly cloudy, with a low around 48.\n"
     ]
    }
   ],
   "source": [
    "for div_tag in weekly_wether[6].find_all('div'):\n",
    "    print(div_tag.text)"
   ]
  },
  {
   "cell_type": "code",
   "execution_count": null,
   "metadata": {},
   "outputs": [],
   "source": []
  }
 ],
 "metadata": {
  "kernelspec": {
   "display_name": "Python 3",
   "language": "python",
   "name": "python3"
  },
  "language_info": {
   "codemirror_mode": {
    "name": "ipython",
    "version": 3
   },
   "file_extension": ".py",
   "mimetype": "text/x-python",
   "name": "python",
   "nbconvert_exporter": "python",
   "pygments_lexer": "ipython3",
   "version": "3.8.3"
  }
 },
 "nbformat": 4,
 "nbformat_minor": 4
}

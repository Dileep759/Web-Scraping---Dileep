{
 "cells": [
  {
   "cell_type": "raw",
   "metadata": {},
   "source": [
    "Q8: Scrape data for first 100 sneakers you find when you visit flipkart.com and\n",
    "search for “sneakers” in the search field."
   ]
  },
  {
   "cell_type": "code",
   "execution_count": 3,
   "metadata": {},
   "outputs": [],
   "source": [
    "#importing required libraries\n",
    "import selenium\n",
    "import pandas as pd\n",
    "from selenium import webdriver"
   ]
  },
  {
   "cell_type": "code",
   "execution_count": 23,
   "metadata": {},
   "outputs": [],
   "source": [
    "#let's connect to the webdriver\n",
    "driver = webdriver.Chrome(\"C:/Users/key/AppData/Roaming/Microsoft/Windows/Start Menu/Programs/chromedriver_win32/chromedriver.exe\")"
   ]
  },
  {
   "cell_type": "code",
   "execution_count": 24,
   "metadata": {},
   "outputs": [],
   "source": [
    "driver.get('https://www.flipkart.com/')"
   ]
  },
  {
   "cell_type": "code",
   "execution_count": 25,
   "metadata": {},
   "outputs": [],
   "source": [
    "#finding element for job search bar\n",
    "search_job=driver.find_element_by_xpath(\"//input[@type='text']\")\n",
    "search_job.send_keys('sneakers')"
   ]
  },
  {
   "cell_type": "code",
   "execution_count": 26,
   "metadata": {},
   "outputs": [],
   "source": [
    "search_btn=driver.find_element_by_xpath(\"//button[@class='L0Z3Pu']\")\n",
    "search_btn.click()"
   ]
  },
  {
   "cell_type": "code",
   "execution_count": 27,
   "metadata": {},
   "outputs": [],
   "source": [
    "#creating the empty lists to which the final scraped data from page 1 will be stored\n",
    "brand_name=[]\n",
    "product_description=[]\n",
    "product_price=[]\n",
    "discount_perc=[]"
   ]
  },
  {
   "cell_type": "code",
   "execution_count": 28,
   "metadata": {},
   "outputs": [
    {
     "data": {
      "text/plain": [
       "[<selenium.webdriver.remote.webelement.WebElement (session=\"7584e28b053c64ff4786f89c28070d02\", element=\"4bc2a89b-fbd9-441b-80dc-553ce83bb308\")>,\n",
       " <selenium.webdriver.remote.webelement.WebElement (session=\"7584e28b053c64ff4786f89c28070d02\", element=\"1be3b506-fd1b-4d75-8116-0378314915a6\")>,\n",
       " <selenium.webdriver.remote.webelement.WebElement (session=\"7584e28b053c64ff4786f89c28070d02\", element=\"2d4e8ed2-085d-4623-b670-7662efe11e4f\")>,\n",
       " <selenium.webdriver.remote.webelement.WebElement (session=\"7584e28b053c64ff4786f89c28070d02\", element=\"ec69b40c-03f9-4fc7-8a2f-b8365914024b\")>,\n",
       " <selenium.webdriver.remote.webelement.WebElement (session=\"7584e28b053c64ff4786f89c28070d02\", element=\"54608b86-4365-4623-bf78-800540065b61\")>,\n",
       " <selenium.webdriver.remote.webelement.WebElement (session=\"7584e28b053c64ff4786f89c28070d02\", element=\"ddab8e77-1b79-4592-b1ec-ae06fc8d9512\")>,\n",
       " <selenium.webdriver.remote.webelement.WebElement (session=\"7584e28b053c64ff4786f89c28070d02\", element=\"58ad5c34-cda5-43e5-bce2-37a45119a91a\")>,\n",
       " <selenium.webdriver.remote.webelement.WebElement (session=\"7584e28b053c64ff4786f89c28070d02\", element=\"82881a63-22d9-4ff7-803a-555d5c6519c4\")>,\n",
       " <selenium.webdriver.remote.webelement.WebElement (session=\"7584e28b053c64ff4786f89c28070d02\", element=\"9f747bde-bba8-4f19-95e9-336d5cebb154\")>,\n",
       " <selenium.webdriver.remote.webelement.WebElement (session=\"7584e28b053c64ff4786f89c28070d02\", element=\"458d57e1-62d9-4581-ab9f-2c20883855ba\")>,\n",
       " <selenium.webdriver.remote.webelement.WebElement (session=\"7584e28b053c64ff4786f89c28070d02\", element=\"e60c6fd1-77c5-4e86-b88d-c28f29edf155\")>,\n",
       " <selenium.webdriver.remote.webelement.WebElement (session=\"7584e28b053c64ff4786f89c28070d02\", element=\"d8ee4d4d-0dda-42fd-8bf0-97d1fd39e6a3\")>,\n",
       " <selenium.webdriver.remote.webelement.WebElement (session=\"7584e28b053c64ff4786f89c28070d02\", element=\"5150a87d-6842-4577-8cb0-97ebd6ac6462\")>,\n",
       " <selenium.webdriver.remote.webelement.WebElement (session=\"7584e28b053c64ff4786f89c28070d02\", element=\"fd1af5ff-80dd-483e-96cd-c276bd5ab5cf\")>,\n",
       " <selenium.webdriver.remote.webelement.WebElement (session=\"7584e28b053c64ff4786f89c28070d02\", element=\"182c6479-092d-441c-bbee-dead48c01596\")>,\n",
       " <selenium.webdriver.remote.webelement.WebElement (session=\"7584e28b053c64ff4786f89c28070d02\", element=\"0c1c3503-af60-46f2-9b81-63698599c409\")>,\n",
       " <selenium.webdriver.remote.webelement.WebElement (session=\"7584e28b053c64ff4786f89c28070d02\", element=\"0af9c372-3428-4ba9-a426-0697c4c736c7\")>,\n",
       " <selenium.webdriver.remote.webelement.WebElement (session=\"7584e28b053c64ff4786f89c28070d02\", element=\"7fe5f179-5918-40ca-92d3-bf0862c047b0\")>,\n",
       " <selenium.webdriver.remote.webelement.WebElement (session=\"7584e28b053c64ff4786f89c28070d02\", element=\"c024d075-8ad2-4a33-8226-503b9ec315be\")>,\n",
       " <selenium.webdriver.remote.webelement.WebElement (session=\"7584e28b053c64ff4786f89c28070d02\", element=\"563829ed-06c1-4bf2-8b08-5c6536fd8883\")>,\n",
       " <selenium.webdriver.remote.webelement.WebElement (session=\"7584e28b053c64ff4786f89c28070d02\", element=\"dce7a583-898a-4cd1-82e8-1ef1127afc65\")>,\n",
       " <selenium.webdriver.remote.webelement.WebElement (session=\"7584e28b053c64ff4786f89c28070d02\", element=\"476540ab-e11a-44e5-8245-c8175dc8b962\")>,\n",
       " <selenium.webdriver.remote.webelement.WebElement (session=\"7584e28b053c64ff4786f89c28070d02\", element=\"1051133d-f4e9-4f77-9369-55b91b5c949d\")>,\n",
       " <selenium.webdriver.remote.webelement.WebElement (session=\"7584e28b053c64ff4786f89c28070d02\", element=\"2ff27e85-6727-4e3a-be16-426392d8f4e8\")>,\n",
       " <selenium.webdriver.remote.webelement.WebElement (session=\"7584e28b053c64ff4786f89c28070d02\", element=\"e51e1667-11b2-4ab0-8626-3cb6a8e8f840\")>,\n",
       " <selenium.webdriver.remote.webelement.WebElement (session=\"7584e28b053c64ff4786f89c28070d02\", element=\"379858b1-fa98-4bb5-a18b-27175821b9d8\")>,\n",
       " <selenium.webdriver.remote.webelement.WebElement (session=\"7584e28b053c64ff4786f89c28070d02\", element=\"735d828f-b6a0-4d18-907f-ee3fb8f1b953\")>,\n",
       " <selenium.webdriver.remote.webelement.WebElement (session=\"7584e28b053c64ff4786f89c28070d02\", element=\"fb2c921a-3943-4bf9-a47c-70564031b0b0\")>,\n",
       " <selenium.webdriver.remote.webelement.WebElement (session=\"7584e28b053c64ff4786f89c28070d02\", element=\"d499f54d-c8f1-4f36-8434-b347a6e8da08\")>,\n",
       " <selenium.webdriver.remote.webelement.WebElement (session=\"7584e28b053c64ff4786f89c28070d02\", element=\"1b007454-3591-49e8-ba65-c99eecdce533\")>,\n",
       " <selenium.webdriver.remote.webelement.WebElement (session=\"7584e28b053c64ff4786f89c28070d02\", element=\"b7a248b5-d327-46f8-bbb4-e0cd37a32989\")>,\n",
       " <selenium.webdriver.remote.webelement.WebElement (session=\"7584e28b053c64ff4786f89c28070d02\", element=\"b6bf70dc-98e1-44ca-b3e4-716e9f5cd3e4\")>,\n",
       " <selenium.webdriver.remote.webelement.WebElement (session=\"7584e28b053c64ff4786f89c28070d02\", element=\"2ed73f56-cab9-4edc-b7aa-b5c2afea16c3\")>,\n",
       " <selenium.webdriver.remote.webelement.WebElement (session=\"7584e28b053c64ff4786f89c28070d02\", element=\"23e452f5-4a4e-49ed-9302-e5fe46ffbbb9\")>,\n",
       " <selenium.webdriver.remote.webelement.WebElement (session=\"7584e28b053c64ff4786f89c28070d02\", element=\"cc077faa-3610-40b7-b4fb-21cfc677d9c4\")>,\n",
       " <selenium.webdriver.remote.webelement.WebElement (session=\"7584e28b053c64ff4786f89c28070d02\", element=\"ebe8b320-87a1-4a82-8d89-d57cb13fe68e\")>,\n",
       " <selenium.webdriver.remote.webelement.WebElement (session=\"7584e28b053c64ff4786f89c28070d02\", element=\"88f12218-c1fc-45f9-9787-6336f09c7c3d\")>,\n",
       " <selenium.webdriver.remote.webelement.WebElement (session=\"7584e28b053c64ff4786f89c28070d02\", element=\"8353bb6b-5437-4da3-a9b6-fc404133ec14\")>,\n",
       " <selenium.webdriver.remote.webelement.WebElement (session=\"7584e28b053c64ff4786f89c28070d02\", element=\"5874e0ec-5374-4208-ab35-929af2ebad3e\")>,\n",
       " <selenium.webdriver.remote.webelement.WebElement (session=\"7584e28b053c64ff4786f89c28070d02\", element=\"ce0ab7f5-fe36-42bf-990c-b07702a5f601\")>]"
      ]
     },
     "execution_count": 28,
     "metadata": {},
     "output_type": "execute_result"
    }
   ],
   "source": [
    "#let's extract all the tags having the brand name\n",
    "brand=driver.find_elements_by_xpath(\"//div[@class='_2WkVRV']\")\n",
    "brand[0:40]"
   ]
  },
  {
   "cell_type": "code",
   "execution_count": 29,
   "metadata": {},
   "outputs": [
    {
     "data": {
      "text/plain": [
       "['RICHERSON',\n",
       " 'SPAIN',\n",
       " 'Chevit',\n",
       " 'Robbie jones',\n",
       " 'World Wear Footwear',\n",
       " 'Shoes Bank',\n",
       " 'Oricum',\n",
       " 'Chevit',\n",
       " 'Axter',\n",
       " 'Rockfield',\n",
       " 'Chevit',\n",
       " 'Magnolia',\n",
       " 'Stefano Rads',\n",
       " 'Bond Street By Red Tape',\n",
       " 'LeatherKraft',\n",
       " 'Chevit',\n",
       " 'Restinfoot',\n",
       " 'Aura',\n",
       " 'BRUTON',\n",
       " 'Red Tape',\n",
       " 'Swiggy',\n",
       " 'World Wear Footwear',\n",
       " 'Chevit',\n",
       " 'Red Tape',\n",
       " 'ZOVIM',\n",
       " 'Chevit',\n",
       " 'Hotstyle',\n",
       " 'Fzzirok',\n",
       " 'D-SNEAKERZ',\n",
       " 'Red Tape',\n",
       " 'Believe',\n",
       " 'T-Rock',\n",
       " 'Sparx',\n",
       " 'Red Tape',\n",
       " 'Echor',\n",
       " 'Sparx',\n",
       " 'Axter',\n",
       " 'TR',\n",
       " 'Kaneggye',\n",
       " 'Rockfield']"
      ]
     },
     "execution_count": 29,
     "metadata": {},
     "output_type": "execute_result"
    }
   ],
   "source": [
    "#Now extract the text inside the tags using a for loop to iterate over all the tags\n",
    "for i in brand:\n",
    "    brands=i.text\n",
    "    brand_name.append(brands)\n",
    "brand_name[0:40]"
   ]
  },
  {
   "cell_type": "code",
   "execution_count": 30,
   "metadata": {},
   "outputs": [
    {
     "data": {
      "text/plain": [
       "[<selenium.webdriver.remote.webelement.WebElement (session=\"7584e28b053c64ff4786f89c28070d02\", element=\"47fc7190-1b74-4130-b349-711b87341dfb\")>,\n",
       " <selenium.webdriver.remote.webelement.WebElement (session=\"7584e28b053c64ff4786f89c28070d02\", element=\"b3536d6f-9abe-4eb6-bb99-c8fa69e84600\")>,\n",
       " <selenium.webdriver.remote.webelement.WebElement (session=\"7584e28b053c64ff4786f89c28070d02\", element=\"4ad40ddf-8049-49f5-876e-39c61bb28358\")>,\n",
       " <selenium.webdriver.remote.webelement.WebElement (session=\"7584e28b053c64ff4786f89c28070d02\", element=\"8056a603-062b-49ed-b76c-4afd7c2bf93a\")>,\n",
       " <selenium.webdriver.remote.webelement.WebElement (session=\"7584e28b053c64ff4786f89c28070d02\", element=\"f5826bcc-1de4-4972-b4a9-ac021cfe297f\")>,\n",
       " <selenium.webdriver.remote.webelement.WebElement (session=\"7584e28b053c64ff4786f89c28070d02\", element=\"7a5f060d-ed66-414b-af8a-a2d28379586c\")>,\n",
       " <selenium.webdriver.remote.webelement.WebElement (session=\"7584e28b053c64ff4786f89c28070d02\", element=\"9fea3f29-8548-4815-8bed-ca171a401a97\")>,\n",
       " <selenium.webdriver.remote.webelement.WebElement (session=\"7584e28b053c64ff4786f89c28070d02\", element=\"686416af-af65-46c3-b879-95f743b10d69\")>,\n",
       " <selenium.webdriver.remote.webelement.WebElement (session=\"7584e28b053c64ff4786f89c28070d02\", element=\"5875853a-1b9a-49c7-83a8-556baf240a3f\")>,\n",
       " <selenium.webdriver.remote.webelement.WebElement (session=\"7584e28b053c64ff4786f89c28070d02\", element=\"9ad65937-ae61-40de-9427-141f92aa3d59\")>,\n",
       " <selenium.webdriver.remote.webelement.WebElement (session=\"7584e28b053c64ff4786f89c28070d02\", element=\"b800c039-2a43-4e9f-8d5e-d7fbf6a9923e\")>,\n",
       " <selenium.webdriver.remote.webelement.WebElement (session=\"7584e28b053c64ff4786f89c28070d02\", element=\"117afc3b-15da-40dc-9305-6e1f67053b45\")>,\n",
       " <selenium.webdriver.remote.webelement.WebElement (session=\"7584e28b053c64ff4786f89c28070d02\", element=\"e5db6ab6-f22e-4892-83f8-e576d7469161\")>,\n",
       " <selenium.webdriver.remote.webelement.WebElement (session=\"7584e28b053c64ff4786f89c28070d02\", element=\"fe45d9c7-ae40-4898-9219-c6e1065bdb3b\")>,\n",
       " <selenium.webdriver.remote.webelement.WebElement (session=\"7584e28b053c64ff4786f89c28070d02\", element=\"67356a5c-d9e6-418e-8b89-01ae7661b832\")>,\n",
       " <selenium.webdriver.remote.webelement.WebElement (session=\"7584e28b053c64ff4786f89c28070d02\", element=\"d3608ceb-4d89-4f8e-b754-7efbdeee10ce\")>,\n",
       " <selenium.webdriver.remote.webelement.WebElement (session=\"7584e28b053c64ff4786f89c28070d02\", element=\"f4eebb26-d966-432c-a6bf-38e1c7a3d478\")>,\n",
       " <selenium.webdriver.remote.webelement.WebElement (session=\"7584e28b053c64ff4786f89c28070d02\", element=\"c283c8d8-3925-4b26-9d68-58b1da36ddc6\")>,\n",
       " <selenium.webdriver.remote.webelement.WebElement (session=\"7584e28b053c64ff4786f89c28070d02\", element=\"7f706161-de2b-4de1-a70a-cdcb99cdbe9e\")>,\n",
       " <selenium.webdriver.remote.webelement.WebElement (session=\"7584e28b053c64ff4786f89c28070d02\", element=\"71d1f6f8-9c2b-4345-b1b9-d62d5c0ec094\")>,\n",
       " <selenium.webdriver.remote.webelement.WebElement (session=\"7584e28b053c64ff4786f89c28070d02\", element=\"e9bc0368-d368-4912-b01d-1b2e63b21f4c\")>,\n",
       " <selenium.webdriver.remote.webelement.WebElement (session=\"7584e28b053c64ff4786f89c28070d02\", element=\"86c30706-b6c3-4fd1-97a3-a18ce367c2cf\")>,\n",
       " <selenium.webdriver.remote.webelement.WebElement (session=\"7584e28b053c64ff4786f89c28070d02\", element=\"422d86c4-707b-4623-a85c-1083936ab02b\")>,\n",
       " <selenium.webdriver.remote.webelement.WebElement (session=\"7584e28b053c64ff4786f89c28070d02\", element=\"27f1393b-a9d9-4421-872f-6db4dd63dfca\")>,\n",
       " <selenium.webdriver.remote.webelement.WebElement (session=\"7584e28b053c64ff4786f89c28070d02\", element=\"2c46074f-35fd-4e97-99f5-2f1c4dbb899e\")>,\n",
       " <selenium.webdriver.remote.webelement.WebElement (session=\"7584e28b053c64ff4786f89c28070d02\", element=\"8e790c59-1714-47ac-8b05-292dc97a4cb5\")>,\n",
       " <selenium.webdriver.remote.webelement.WebElement (session=\"7584e28b053c64ff4786f89c28070d02\", element=\"c9ec80af-e13b-4587-add2-2e8503ddb84a\")>,\n",
       " <selenium.webdriver.remote.webelement.WebElement (session=\"7584e28b053c64ff4786f89c28070d02\", element=\"4d958362-8d5f-4ce0-993d-732edb07f5de\")>,\n",
       " <selenium.webdriver.remote.webelement.WebElement (session=\"7584e28b053c64ff4786f89c28070d02\", element=\"a4770f12-0b46-4ab9-9c42-b690aea3fcc2\")>,\n",
       " <selenium.webdriver.remote.webelement.WebElement (session=\"7584e28b053c64ff4786f89c28070d02\", element=\"7ebf5b62-97e9-43ee-942c-20d3e86eb2f0\")>,\n",
       " <selenium.webdriver.remote.webelement.WebElement (session=\"7584e28b053c64ff4786f89c28070d02\", element=\"33f1d756-e335-4620-8f5d-a4e69e3fa35f\")>]"
      ]
     },
     "execution_count": 30,
     "metadata": {},
     "output_type": "execute_result"
    }
   ],
   "source": [
    "#let's extract all the tags having the product description\n",
    "description=driver.find_elements_by_xpath(\"//a[@class='IRpwTa']\")\n",
    "description[0:40]"
   ]
  },
  {
   "cell_type": "code",
   "execution_count": 31,
   "metadata": {},
   "outputs": [
    {
     "data": {
      "text/plain": [
       "['Yellow multicolor casual sports shoes Sneakers For Men',\n",
       " 'Combo Pack of 4 Casual Sneakers With Sneakers For Men',\n",
       " 'Combo Pack of 4 Latest Collection Stylish Casual Loafer...',\n",
       " \"White Sneaker For Men's/Boy's Sneakers For Men\",\n",
       " 'Combo pack of 2 casual sneaker shoes for men Sneakers F...',\n",
       " 'Chevit Trendy Fashion Sports Combo Pack of 3 Pairs Outd...',\n",
       " 'Combo Pack of 2 Latest Collection Stylish Casual Loafer...',\n",
       " 'Sneakers For Men',\n",
       " '171 Smart Tan Lace-Ups Casuals for Men Sneakers For Men',\n",
       " 'White Sneakers Sneakers For Men',\n",
       " 'Sneakers For Men',\n",
       " 'Sneakers For Men',\n",
       " 'Smart Casuals Canvas Shoes Combo pack of 2 Sneakers For...',\n",
       " \"Casual shoes,Sneakers for men's,shoes for men's Sneaker...\",\n",
       " 'Trendy and Stylish Combo Pack of 3 Casual Shoes Sneaker...',\n",
       " 'Combo Pack Of 4 Canvas Sneakers For Men',\n",
       " 'Casual Loafers, Sneakers Shoes for Men Pack of 5 Combo(...',\n",
       " '5011-Latest Collection Stylish Casual Loafer Sneakers S...',\n",
       " 'Speed Set of 5 Pairs Sneakers Outdoors Casuals for Men ...',\n",
       " \"casual , Partywear Sneakers Shoes For Men's and Boys bl...\",\n",
       " '170 Smart Grey Lace-Ups Casuals for Men Sneakers For Me...',\n",
       " \"Casual , Partywear Sneakers Shoes For Men's And Boys Wh...\",\n",
       " 'Sneakers for men(black_7) Sneakers For Men',\n",
       " 'Synthetic Leather Casual Partywear Wedding Sneakers Sho...',\n",
       " 'Classic Sneakers For Men',\n",
       " 'shoes for boys | sports shoes for men | Latest Stylish ...',\n",
       " 'SM-162 Sneakers For Men',\n",
       " 'Combo Pack of 2 Casual Loafer Sneakers Shoes Sneakers F...',\n",
       " 'Sneakers For Men',\n",
       " 'Sneakers For Men',\n",
       " 'Sneakers For Men']"
      ]
     },
     "execution_count": 31,
     "metadata": {},
     "output_type": "execute_result"
    }
   ],
   "source": [
    "#Now extract the text inside the tags using a for loop to iterate over all the tags\n",
    "for i in description:\n",
    "    descriptions=i.text\n",
    "    product_description.append(descriptions)\n",
    "product_description[0:40]"
   ]
  },
  {
   "cell_type": "code",
   "execution_count": 32,
   "metadata": {},
   "outputs": [
    {
     "data": {
      "text/plain": [
       "[<selenium.webdriver.remote.webelement.WebElement (session=\"7584e28b053c64ff4786f89c28070d02\", element=\"86273371-9058-4d02-a6da-dc950ca52805\")>,\n",
       " <selenium.webdriver.remote.webelement.WebElement (session=\"7584e28b053c64ff4786f89c28070d02\", element=\"540d046d-92c1-4299-9985-00fcc854c129\")>,\n",
       " <selenium.webdriver.remote.webelement.WebElement (session=\"7584e28b053c64ff4786f89c28070d02\", element=\"85e879fd-86f3-4f44-80b6-6229dfd42e56\")>,\n",
       " <selenium.webdriver.remote.webelement.WebElement (session=\"7584e28b053c64ff4786f89c28070d02\", element=\"5be21c12-68d3-4c7e-9769-39eea01ce804\")>,\n",
       " <selenium.webdriver.remote.webelement.WebElement (session=\"7584e28b053c64ff4786f89c28070d02\", element=\"8e3d3329-6272-46fb-988a-742c65ed7798\")>,\n",
       " <selenium.webdriver.remote.webelement.WebElement (session=\"7584e28b053c64ff4786f89c28070d02\", element=\"7cf25ae5-fb83-4d75-8b26-0141c980ec5b\")>,\n",
       " <selenium.webdriver.remote.webelement.WebElement (session=\"7584e28b053c64ff4786f89c28070d02\", element=\"c7218475-a270-4d45-a80c-689106bbe49f\")>,\n",
       " <selenium.webdriver.remote.webelement.WebElement (session=\"7584e28b053c64ff4786f89c28070d02\", element=\"6737a58e-f4b7-4c22-aba9-f7a1ae899916\")>,\n",
       " <selenium.webdriver.remote.webelement.WebElement (session=\"7584e28b053c64ff4786f89c28070d02\", element=\"007c0bca-75b5-4c80-8125-33b2e759dc2d\")>,\n",
       " <selenium.webdriver.remote.webelement.WebElement (session=\"7584e28b053c64ff4786f89c28070d02\", element=\"da6066b9-5d89-4568-ba87-9a5f4c91ac69\")>,\n",
       " <selenium.webdriver.remote.webelement.WebElement (session=\"7584e28b053c64ff4786f89c28070d02\", element=\"cf8d2bdf-dca8-4f36-be16-0e14bec36d99\")>,\n",
       " <selenium.webdriver.remote.webelement.WebElement (session=\"7584e28b053c64ff4786f89c28070d02\", element=\"882b1e66-fc25-4105-8530-58b8f263e8e9\")>,\n",
       " <selenium.webdriver.remote.webelement.WebElement (session=\"7584e28b053c64ff4786f89c28070d02\", element=\"521cb0c7-07c9-49d6-bdf4-03160dcb835a\")>,\n",
       " <selenium.webdriver.remote.webelement.WebElement (session=\"7584e28b053c64ff4786f89c28070d02\", element=\"20267b6d-ce75-4e95-b8f8-6898f80af99f\")>,\n",
       " <selenium.webdriver.remote.webelement.WebElement (session=\"7584e28b053c64ff4786f89c28070d02\", element=\"e4ca5d86-9619-4893-996b-78c07fe130f9\")>,\n",
       " <selenium.webdriver.remote.webelement.WebElement (session=\"7584e28b053c64ff4786f89c28070d02\", element=\"956dba18-7b86-4cbc-983e-4c0a75caae02\")>,\n",
       " <selenium.webdriver.remote.webelement.WebElement (session=\"7584e28b053c64ff4786f89c28070d02\", element=\"a37f840e-ae8b-4aec-878f-431e50dc8760\")>,\n",
       " <selenium.webdriver.remote.webelement.WebElement (session=\"7584e28b053c64ff4786f89c28070d02\", element=\"bdd50a27-f2d0-4c39-a5de-2f2e966112cc\")>,\n",
       " <selenium.webdriver.remote.webelement.WebElement (session=\"7584e28b053c64ff4786f89c28070d02\", element=\"2e07f02e-ab25-4324-bb69-6ff7af01f679\")>,\n",
       " <selenium.webdriver.remote.webelement.WebElement (session=\"7584e28b053c64ff4786f89c28070d02\", element=\"082ce9bf-a48a-42c5-a3ae-e695f9330f2d\")>,\n",
       " <selenium.webdriver.remote.webelement.WebElement (session=\"7584e28b053c64ff4786f89c28070d02\", element=\"3efa3bee-759c-4c31-8032-98f40d4de465\")>,\n",
       " <selenium.webdriver.remote.webelement.WebElement (session=\"7584e28b053c64ff4786f89c28070d02\", element=\"328c9563-abcc-4b34-890c-a64d88e891c7\")>,\n",
       " <selenium.webdriver.remote.webelement.WebElement (session=\"7584e28b053c64ff4786f89c28070d02\", element=\"7b91369e-4e2c-4ce8-b73c-394af134bbf0\")>,\n",
       " <selenium.webdriver.remote.webelement.WebElement (session=\"7584e28b053c64ff4786f89c28070d02\", element=\"deef37f9-04c4-4ca4-b04b-fee88b5836b6\")>,\n",
       " <selenium.webdriver.remote.webelement.WebElement (session=\"7584e28b053c64ff4786f89c28070d02\", element=\"6b43bbdb-2737-4d5d-9e30-5e2f05a05ac4\")>,\n",
       " <selenium.webdriver.remote.webelement.WebElement (session=\"7584e28b053c64ff4786f89c28070d02\", element=\"3ce75ad5-74b2-4298-a769-9c48d1bfdf1c\")>,\n",
       " <selenium.webdriver.remote.webelement.WebElement (session=\"7584e28b053c64ff4786f89c28070d02\", element=\"2f431392-6469-427f-a074-96ee0b0ae9ea\")>,\n",
       " <selenium.webdriver.remote.webelement.WebElement (session=\"7584e28b053c64ff4786f89c28070d02\", element=\"670e7806-adf4-4828-81cc-c758e6c17865\")>,\n",
       " <selenium.webdriver.remote.webelement.WebElement (session=\"7584e28b053c64ff4786f89c28070d02\", element=\"59b59c64-1803-41bd-9b43-04f320380624\")>,\n",
       " <selenium.webdriver.remote.webelement.WebElement (session=\"7584e28b053c64ff4786f89c28070d02\", element=\"6f549791-3288-442b-abfe-f2c44b2ac711\")>,\n",
       " <selenium.webdriver.remote.webelement.WebElement (session=\"7584e28b053c64ff4786f89c28070d02\", element=\"8a7f3e19-1ee1-4ca4-8733-e15aa7851b4b\")>,\n",
       " <selenium.webdriver.remote.webelement.WebElement (session=\"7584e28b053c64ff4786f89c28070d02\", element=\"9c7816bb-6c60-4bd6-bb0d-2e9efa0100d2\")>,\n",
       " <selenium.webdriver.remote.webelement.WebElement (session=\"7584e28b053c64ff4786f89c28070d02\", element=\"2bb712e4-f795-4389-b16e-48fca46a77d1\")>,\n",
       " <selenium.webdriver.remote.webelement.WebElement (session=\"7584e28b053c64ff4786f89c28070d02\", element=\"878df290-c443-4a8e-99a8-899283e9bb06\")>,\n",
       " <selenium.webdriver.remote.webelement.WebElement (session=\"7584e28b053c64ff4786f89c28070d02\", element=\"26fe6212-60ef-4869-9a94-a2e67016397e\")>,\n",
       " <selenium.webdriver.remote.webelement.WebElement (session=\"7584e28b053c64ff4786f89c28070d02\", element=\"27aa38a5-370e-4312-b1cc-571e9790149b\")>,\n",
       " <selenium.webdriver.remote.webelement.WebElement (session=\"7584e28b053c64ff4786f89c28070d02\", element=\"9d217131-40ee-4f0c-9567-a1d0767d801c\")>,\n",
       " <selenium.webdriver.remote.webelement.WebElement (session=\"7584e28b053c64ff4786f89c28070d02\", element=\"9f3e758d-fbb9-4017-8b65-60dc02fbab73\")>,\n",
       " <selenium.webdriver.remote.webelement.WebElement (session=\"7584e28b053c64ff4786f89c28070d02\", element=\"bb59daac-db63-41be-a52b-e2d31108a46b\")>,\n",
       " <selenium.webdriver.remote.webelement.WebElement (session=\"7584e28b053c64ff4786f89c28070d02\", element=\"3280775c-0934-49d9-975e-9c8f53bb16f9\")>]"
      ]
     },
     "execution_count": 32,
     "metadata": {},
     "output_type": "execute_result"
    }
   ],
   "source": [
    "#let's extract all the tags having the product price\n",
    "price=driver.find_elements_by_xpath(\"//div[@class='_30jeq3']\")\n",
    "price[0:40]"
   ]
  },
  {
   "cell_type": "code",
   "execution_count": 33,
   "metadata": {},
   "outputs": [
    {
     "data": {
      "text/plain": [
       "['₹479',\n",
       " '₹599',\n",
       " '₹449',\n",
       " '₹379',\n",
       " '₹474',\n",
       " '₹349',\n",
       " '₹398',\n",
       " '₹597',\n",
       " '₹284',\n",
       " '₹379',\n",
       " '₹236',\n",
       " '₹348',\n",
       " '₹242',\n",
       " '₹1,049',\n",
       " '₹299',\n",
       " '₹299',\n",
       " '₹369',\n",
       " '₹699',\n",
       " '₹499',\n",
       " '₹1,318',\n",
       " '₹759',\n",
       " '₹240',\n",
       " '₹799',\n",
       " '₹1,258',\n",
       " '₹399',\n",
       " '₹236',\n",
       " '₹199',\n",
       " '₹420',\n",
       " '₹368',\n",
       " '₹1,288',\n",
       " '₹446',\n",
       " '₹379',\n",
       " '₹699',\n",
       " '₹1,678',\n",
       " '₹601',\n",
       " '₹779',\n",
       " '₹299',\n",
       " '₹312',\n",
       " '₹361',\n",
       " '₹474']"
      ]
     },
     "execution_count": 33,
     "metadata": {},
     "output_type": "execute_result"
    }
   ],
   "source": [
    "#Now extract the text inside the tags using a for loop to iterate over all the tags\n",
    "for i in price:\n",
    "    prices=i.text\n",
    "    product_price.append(prices)\n",
    "product_price[0:40]"
   ]
  },
  {
   "cell_type": "code",
   "execution_count": 34,
   "metadata": {},
   "outputs": [
    {
     "data": {
      "text/plain": [
       "[<selenium.webdriver.remote.webelement.WebElement (session=\"7584e28b053c64ff4786f89c28070d02\", element=\"13396ec1-6f9a-49ea-944f-015d00858fa5\")>,\n",
       " <selenium.webdriver.remote.webelement.WebElement (session=\"7584e28b053c64ff4786f89c28070d02\", element=\"a32e209a-12ca-4a76-80fc-8d3544dffb3d\")>,\n",
       " <selenium.webdriver.remote.webelement.WebElement (session=\"7584e28b053c64ff4786f89c28070d02\", element=\"3b5eaa61-24fa-4557-a114-5289a613b051\")>,\n",
       " <selenium.webdriver.remote.webelement.WebElement (session=\"7584e28b053c64ff4786f89c28070d02\", element=\"0dd3841f-958c-4ae2-a76d-49ba682e7107\")>,\n",
       " <selenium.webdriver.remote.webelement.WebElement (session=\"7584e28b053c64ff4786f89c28070d02\", element=\"96c63f60-674e-458a-b9ed-b09979f2f0ba\")>,\n",
       " <selenium.webdriver.remote.webelement.WebElement (session=\"7584e28b053c64ff4786f89c28070d02\", element=\"26bed52f-96ee-421e-bec4-ae8154dc19b8\")>,\n",
       " <selenium.webdriver.remote.webelement.WebElement (session=\"7584e28b053c64ff4786f89c28070d02\", element=\"68f1fdfa-ae4a-40a5-8f98-f83360703e1f\")>,\n",
       " <selenium.webdriver.remote.webelement.WebElement (session=\"7584e28b053c64ff4786f89c28070d02\", element=\"95a1ddfc-6265-40d7-8ab5-6b049fb92ad6\")>,\n",
       " <selenium.webdriver.remote.webelement.WebElement (session=\"7584e28b053c64ff4786f89c28070d02\", element=\"6f880646-beb5-49bf-a161-38047ad4a62a\")>,\n",
       " <selenium.webdriver.remote.webelement.WebElement (session=\"7584e28b053c64ff4786f89c28070d02\", element=\"55c047c2-fe8b-470a-833d-911c4de51f7b\")>,\n",
       " <selenium.webdriver.remote.webelement.WebElement (session=\"7584e28b053c64ff4786f89c28070d02\", element=\"4660d0ff-83a3-4e9e-bf80-04ac850abbba\")>,\n",
       " <selenium.webdriver.remote.webelement.WebElement (session=\"7584e28b053c64ff4786f89c28070d02\", element=\"f0404891-4fe8-4d66-9251-c35b56e968d8\")>,\n",
       " <selenium.webdriver.remote.webelement.WebElement (session=\"7584e28b053c64ff4786f89c28070d02\", element=\"5dfc14cb-c8aa-4823-bf8c-68fc963066ca\")>,\n",
       " <selenium.webdriver.remote.webelement.WebElement (session=\"7584e28b053c64ff4786f89c28070d02\", element=\"278bd51b-2ca5-4ccb-a5b7-539fe8e893eb\")>,\n",
       " <selenium.webdriver.remote.webelement.WebElement (session=\"7584e28b053c64ff4786f89c28070d02\", element=\"6b7e32b4-e7d7-4d57-849a-8b6eae36213c\")>,\n",
       " <selenium.webdriver.remote.webelement.WebElement (session=\"7584e28b053c64ff4786f89c28070d02\", element=\"f1e12de0-f5d1-481a-9809-a86ec49f706b\")>,\n",
       " <selenium.webdriver.remote.webelement.WebElement (session=\"7584e28b053c64ff4786f89c28070d02\", element=\"dedef003-1cbf-4f18-8c43-50388f2ba775\")>,\n",
       " <selenium.webdriver.remote.webelement.WebElement (session=\"7584e28b053c64ff4786f89c28070d02\", element=\"356b8e03-04a7-4722-b9d7-cfd7195a8a39\")>,\n",
       " <selenium.webdriver.remote.webelement.WebElement (session=\"7584e28b053c64ff4786f89c28070d02\", element=\"3f4d050b-c76a-44f4-8f7d-41ddf3dd78df\")>,\n",
       " <selenium.webdriver.remote.webelement.WebElement (session=\"7584e28b053c64ff4786f89c28070d02\", element=\"2474f56b-2405-44d5-9a82-55a9d08703c6\")>,\n",
       " <selenium.webdriver.remote.webelement.WebElement (session=\"7584e28b053c64ff4786f89c28070d02\", element=\"a6a11940-2e7c-4cd5-bab6-1d877e6ad5dc\")>,\n",
       " <selenium.webdriver.remote.webelement.WebElement (session=\"7584e28b053c64ff4786f89c28070d02\", element=\"8afb51cb-7746-4442-bd5c-ac8d15c04c1f\")>,\n",
       " <selenium.webdriver.remote.webelement.WebElement (session=\"7584e28b053c64ff4786f89c28070d02\", element=\"c55e6623-b004-4ed4-9d02-2bcdecbd5c8b\")>,\n",
       " <selenium.webdriver.remote.webelement.WebElement (session=\"7584e28b053c64ff4786f89c28070d02\", element=\"6086e5cc-ce78-4182-a8db-d5dc96b042bd\")>,\n",
       " <selenium.webdriver.remote.webelement.WebElement (session=\"7584e28b053c64ff4786f89c28070d02\", element=\"b9a13931-bba5-45ad-a753-5ab7c561a9a2\")>,\n",
       " <selenium.webdriver.remote.webelement.WebElement (session=\"7584e28b053c64ff4786f89c28070d02\", element=\"8318240c-53bf-44c4-bd09-9d1bb1cf246a\")>,\n",
       " <selenium.webdriver.remote.webelement.WebElement (session=\"7584e28b053c64ff4786f89c28070d02\", element=\"2c9fd4f4-8ad2-442d-9800-3a54fbd17540\")>,\n",
       " <selenium.webdriver.remote.webelement.WebElement (session=\"7584e28b053c64ff4786f89c28070d02\", element=\"65e2fb57-6d25-40aa-9d99-745a1fa97c13\")>,\n",
       " <selenium.webdriver.remote.webelement.WebElement (session=\"7584e28b053c64ff4786f89c28070d02\", element=\"76c10cc4-5949-435f-a27b-af71c4f7001d\")>,\n",
       " <selenium.webdriver.remote.webelement.WebElement (session=\"7584e28b053c64ff4786f89c28070d02\", element=\"6fca5408-9b39-4dd4-8b8c-0f3c40957038\")>,\n",
       " <selenium.webdriver.remote.webelement.WebElement (session=\"7584e28b053c64ff4786f89c28070d02\", element=\"ef3909c2-c68c-4fe4-a7c0-68da377f242b\")>,\n",
       " <selenium.webdriver.remote.webelement.WebElement (session=\"7584e28b053c64ff4786f89c28070d02\", element=\"35119f42-415e-4c01-996d-64d1103cc7f2\")>,\n",
       " <selenium.webdriver.remote.webelement.WebElement (session=\"7584e28b053c64ff4786f89c28070d02\", element=\"78aae50c-5f5a-430c-9f4d-b4a733b027fa\")>,\n",
       " <selenium.webdriver.remote.webelement.WebElement (session=\"7584e28b053c64ff4786f89c28070d02\", element=\"a6fbe820-1b86-45b0-916e-1043f14aee07\")>,\n",
       " <selenium.webdriver.remote.webelement.WebElement (session=\"7584e28b053c64ff4786f89c28070d02\", element=\"6598d28b-c19e-4856-ba8c-1f1eabb3d794\")>,\n",
       " <selenium.webdriver.remote.webelement.WebElement (session=\"7584e28b053c64ff4786f89c28070d02\", element=\"79893c99-2300-4038-9c87-f0aee12fcf56\")>,\n",
       " <selenium.webdriver.remote.webelement.WebElement (session=\"7584e28b053c64ff4786f89c28070d02\", element=\"4de79bf0-a752-4970-98ce-06bdd5fcf069\")>,\n",
       " <selenium.webdriver.remote.webelement.WebElement (session=\"7584e28b053c64ff4786f89c28070d02\", element=\"4e846c7b-f775-4299-85b7-f8b4c9921785\")>,\n",
       " <selenium.webdriver.remote.webelement.WebElement (session=\"7584e28b053c64ff4786f89c28070d02\", element=\"94e00bcd-7c13-4b27-aab6-64d77ec849dd\")>]"
      ]
     },
     "execution_count": 34,
     "metadata": {},
     "output_type": "execute_result"
    }
   ],
   "source": [
    "#let's extract all the tags having the discount percentage\n",
    "discount=driver.find_elements_by_xpath(\"//div[@class='_3Ay6Sb']\")\n",
    "discount[0:40]"
   ]
  },
  {
   "cell_type": "code",
   "execution_count": 35,
   "metadata": {},
   "outputs": [
    {
     "data": {
      "text/plain": [
       "['52% off',\n",
       " '40% off',\n",
       " '77% off',\n",
       " '62% off',\n",
       " '76% off',\n",
       " '65% off',\n",
       " '60% off',\n",
       " '66% off',\n",
       " '71% off',\n",
       " '62% off',\n",
       " '52% off',\n",
       " '65% off',\n",
       " '65% off',\n",
       " '70% off',\n",
       " '70% off',\n",
       " '70% off',\n",
       " '63% off',\n",
       " '53% off',\n",
       " '85% off',\n",
       " '70% off',\n",
       " '69% off',\n",
       " '51% off',\n",
       " '67% off',\n",
       " '70% off',\n",
       " '60% off',\n",
       " '52% off',\n",
       " '60% off',\n",
       " '57% off',\n",
       " '44% off',\n",
       " '70% off',\n",
       " '55% off',\n",
       " '62% off',\n",
       " '70% off',\n",
       " '39% off',\n",
       " '17% off',\n",
       " '70% off',\n",
       " '68% off',\n",
       " '27% off',\n",
       " '52% off']"
      ]
     },
     "execution_count": 35,
     "metadata": {},
     "output_type": "execute_result"
    }
   ],
   "source": [
    "#Now extract the text inside the tags using a for loop to iterate over all the tags\n",
    "for i in discount:\n",
    "    discounts=i.text\n",
    "    discount_perc.append(discounts)\n",
    "discount_perc[0:40]"
   ]
  },
  {
   "cell_type": "code",
   "execution_count": 22,
   "metadata": {},
   "outputs": [
    {
     "ename": "StaleElementReferenceException",
     "evalue": "Message: stale element reference: element is not attached to the page document\n  (Session info: chrome=88.0.4324.150)\n",
     "output_type": "error",
     "traceback": [
      "\u001b[1;31m---------------------------------------------------------------------------\u001b[0m",
      "\u001b[1;31mStaleElementReferenceException\u001b[0m            Traceback (most recent call last)",
      "\u001b[1;32m<ipython-input-22-f7bc9404e124>\u001b[0m in \u001b[0;36m<module>\u001b[1;34m\u001b[0m\n\u001b[0;32m      4\u001b[0m \u001b[1;33m\u001b[0m\u001b[0m\n\u001b[0;32m      5\u001b[0m     \u001b[1;32mfor\u001b[0m \u001b[0mi\u001b[0m \u001b[1;32min\u001b[0m \u001b[0mbrand\u001b[0m\u001b[1;33m:\u001b[0m\u001b[1;33m\u001b[0m\u001b[1;33m\u001b[0m\u001b[0m\n\u001b[1;32m----> 6\u001b[1;33m         \u001b[0mbrands\u001b[0m\u001b[1;33m=\u001b[0m\u001b[0mi\u001b[0m\u001b[1;33m.\u001b[0m\u001b[0mtext\u001b[0m\u001b[1;33m\u001b[0m\u001b[1;33m\u001b[0m\u001b[0m\n\u001b[0m\u001b[0;32m      7\u001b[0m         \u001b[0mbrand_nam\u001b[0m\u001b[1;33m.\u001b[0m\u001b[0mappend\u001b[0m\u001b[1;33m(\u001b[0m\u001b[0mbrands\u001b[0m\u001b[1;33m)\u001b[0m\u001b[1;33m\u001b[0m\u001b[1;33m\u001b[0m\u001b[0m\n\u001b[0;32m      8\u001b[0m     \u001b[0mdriver\u001b[0m\u001b[1;33m.\u001b[0m\u001b[0mfind_element_by_xpath\u001b[0m\u001b[1;33m(\u001b[0m\u001b[1;34m\"//a[@class='_1LKTO3']\"\u001b[0m\u001b[1;33m)\u001b[0m\u001b[1;33m.\u001b[0m\u001b[0mclick\u001b[0m\u001b[1;33m(\u001b[0m\u001b[1;33m)\u001b[0m\u001b[1;33m\u001b[0m\u001b[1;33m\u001b[0m\u001b[0m\n",
      "\u001b[1;32m~\\anaconda3\\lib\\site-packages\\selenium\\webdriver\\remote\\webelement.py\u001b[0m in \u001b[0;36mtext\u001b[1;34m(self)\u001b[0m\n\u001b[0;32m     74\u001b[0m     \u001b[1;32mdef\u001b[0m \u001b[0mtext\u001b[0m\u001b[1;33m(\u001b[0m\u001b[0mself\u001b[0m\u001b[1;33m)\u001b[0m\u001b[1;33m:\u001b[0m\u001b[1;33m\u001b[0m\u001b[1;33m\u001b[0m\u001b[0m\n\u001b[0;32m     75\u001b[0m         \u001b[1;34m\"\"\"The text of the element.\"\"\"\u001b[0m\u001b[1;33m\u001b[0m\u001b[1;33m\u001b[0m\u001b[0m\n\u001b[1;32m---> 76\u001b[1;33m         \u001b[1;32mreturn\u001b[0m \u001b[0mself\u001b[0m\u001b[1;33m.\u001b[0m\u001b[0m_execute\u001b[0m\u001b[1;33m(\u001b[0m\u001b[0mCommand\u001b[0m\u001b[1;33m.\u001b[0m\u001b[0mGET_ELEMENT_TEXT\u001b[0m\u001b[1;33m)\u001b[0m\u001b[1;33m[\u001b[0m\u001b[1;34m'value'\u001b[0m\u001b[1;33m]\u001b[0m\u001b[1;33m\u001b[0m\u001b[1;33m\u001b[0m\u001b[0m\n\u001b[0m\u001b[0;32m     77\u001b[0m \u001b[1;33m\u001b[0m\u001b[0m\n\u001b[0;32m     78\u001b[0m     \u001b[1;32mdef\u001b[0m \u001b[0mclick\u001b[0m\u001b[1;33m(\u001b[0m\u001b[0mself\u001b[0m\u001b[1;33m)\u001b[0m\u001b[1;33m:\u001b[0m\u001b[1;33m\u001b[0m\u001b[1;33m\u001b[0m\u001b[0m\n",
      "\u001b[1;32m~\\anaconda3\\lib\\site-packages\\selenium\\webdriver\\remote\\webelement.py\u001b[0m in \u001b[0;36m_execute\u001b[1;34m(self, command, params)\u001b[0m\n\u001b[0;32m    631\u001b[0m             \u001b[0mparams\u001b[0m \u001b[1;33m=\u001b[0m \u001b[1;33m{\u001b[0m\u001b[1;33m}\u001b[0m\u001b[1;33m\u001b[0m\u001b[1;33m\u001b[0m\u001b[0m\n\u001b[0;32m    632\u001b[0m         \u001b[0mparams\u001b[0m\u001b[1;33m[\u001b[0m\u001b[1;34m'id'\u001b[0m\u001b[1;33m]\u001b[0m \u001b[1;33m=\u001b[0m \u001b[0mself\u001b[0m\u001b[1;33m.\u001b[0m\u001b[0m_id\u001b[0m\u001b[1;33m\u001b[0m\u001b[1;33m\u001b[0m\u001b[0m\n\u001b[1;32m--> 633\u001b[1;33m         \u001b[1;32mreturn\u001b[0m \u001b[0mself\u001b[0m\u001b[1;33m.\u001b[0m\u001b[0m_parent\u001b[0m\u001b[1;33m.\u001b[0m\u001b[0mexecute\u001b[0m\u001b[1;33m(\u001b[0m\u001b[0mcommand\u001b[0m\u001b[1;33m,\u001b[0m \u001b[0mparams\u001b[0m\u001b[1;33m)\u001b[0m\u001b[1;33m\u001b[0m\u001b[1;33m\u001b[0m\u001b[0m\n\u001b[0m\u001b[0;32m    634\u001b[0m \u001b[1;33m\u001b[0m\u001b[0m\n\u001b[0;32m    635\u001b[0m     \u001b[1;32mdef\u001b[0m \u001b[0mfind_element\u001b[0m\u001b[1;33m(\u001b[0m\u001b[0mself\u001b[0m\u001b[1;33m,\u001b[0m \u001b[0mby\u001b[0m\u001b[1;33m=\u001b[0m\u001b[0mBy\u001b[0m\u001b[1;33m.\u001b[0m\u001b[0mID\u001b[0m\u001b[1;33m,\u001b[0m \u001b[0mvalue\u001b[0m\u001b[1;33m=\u001b[0m\u001b[1;32mNone\u001b[0m\u001b[1;33m)\u001b[0m\u001b[1;33m:\u001b[0m\u001b[1;33m\u001b[0m\u001b[1;33m\u001b[0m\u001b[0m\n",
      "\u001b[1;32m~\\anaconda3\\lib\\site-packages\\selenium\\webdriver\\remote\\webdriver.py\u001b[0m in \u001b[0;36mexecute\u001b[1;34m(self, driver_command, params)\u001b[0m\n\u001b[0;32m    319\u001b[0m         \u001b[0mresponse\u001b[0m \u001b[1;33m=\u001b[0m \u001b[0mself\u001b[0m\u001b[1;33m.\u001b[0m\u001b[0mcommand_executor\u001b[0m\u001b[1;33m.\u001b[0m\u001b[0mexecute\u001b[0m\u001b[1;33m(\u001b[0m\u001b[0mdriver_command\u001b[0m\u001b[1;33m,\u001b[0m \u001b[0mparams\u001b[0m\u001b[1;33m)\u001b[0m\u001b[1;33m\u001b[0m\u001b[1;33m\u001b[0m\u001b[0m\n\u001b[0;32m    320\u001b[0m         \u001b[1;32mif\u001b[0m \u001b[0mresponse\u001b[0m\u001b[1;33m:\u001b[0m\u001b[1;33m\u001b[0m\u001b[1;33m\u001b[0m\u001b[0m\n\u001b[1;32m--> 321\u001b[1;33m             \u001b[0mself\u001b[0m\u001b[1;33m.\u001b[0m\u001b[0merror_handler\u001b[0m\u001b[1;33m.\u001b[0m\u001b[0mcheck_response\u001b[0m\u001b[1;33m(\u001b[0m\u001b[0mresponse\u001b[0m\u001b[1;33m)\u001b[0m\u001b[1;33m\u001b[0m\u001b[1;33m\u001b[0m\u001b[0m\n\u001b[0m\u001b[0;32m    322\u001b[0m             response['value'] = self._unwrap_value(\n\u001b[0;32m    323\u001b[0m                 response.get('value', None))\n",
      "\u001b[1;32m~\\anaconda3\\lib\\site-packages\\selenium\\webdriver\\remote\\errorhandler.py\u001b[0m in \u001b[0;36mcheck_response\u001b[1;34m(self, response)\u001b[0m\n\u001b[0;32m    240\u001b[0m                 \u001b[0malert_text\u001b[0m \u001b[1;33m=\u001b[0m \u001b[0mvalue\u001b[0m\u001b[1;33m[\u001b[0m\u001b[1;34m'alert'\u001b[0m\u001b[1;33m]\u001b[0m\u001b[1;33m.\u001b[0m\u001b[0mget\u001b[0m\u001b[1;33m(\u001b[0m\u001b[1;34m'text'\u001b[0m\u001b[1;33m)\u001b[0m\u001b[1;33m\u001b[0m\u001b[1;33m\u001b[0m\u001b[0m\n\u001b[0;32m    241\u001b[0m             \u001b[1;32mraise\u001b[0m \u001b[0mexception_class\u001b[0m\u001b[1;33m(\u001b[0m\u001b[0mmessage\u001b[0m\u001b[1;33m,\u001b[0m \u001b[0mscreen\u001b[0m\u001b[1;33m,\u001b[0m \u001b[0mstacktrace\u001b[0m\u001b[1;33m,\u001b[0m \u001b[0malert_text\u001b[0m\u001b[1;33m)\u001b[0m\u001b[1;33m\u001b[0m\u001b[1;33m\u001b[0m\u001b[0m\n\u001b[1;32m--> 242\u001b[1;33m         \u001b[1;32mraise\u001b[0m \u001b[0mexception_class\u001b[0m\u001b[1;33m(\u001b[0m\u001b[0mmessage\u001b[0m\u001b[1;33m,\u001b[0m \u001b[0mscreen\u001b[0m\u001b[1;33m,\u001b[0m \u001b[0mstacktrace\u001b[0m\u001b[1;33m)\u001b[0m\u001b[1;33m\u001b[0m\u001b[1;33m\u001b[0m\u001b[0m\n\u001b[0m\u001b[0;32m    243\u001b[0m \u001b[1;33m\u001b[0m\u001b[0m\n\u001b[0;32m    244\u001b[0m     \u001b[1;32mdef\u001b[0m \u001b[0m_value_or_default\u001b[0m\u001b[1;33m(\u001b[0m\u001b[0mself\u001b[0m\u001b[1;33m,\u001b[0m \u001b[0mobj\u001b[0m\u001b[1;33m,\u001b[0m \u001b[0mkey\u001b[0m\u001b[1;33m,\u001b[0m \u001b[0mdefault\u001b[0m\u001b[1;33m)\u001b[0m\u001b[1;33m:\u001b[0m\u001b[1;33m\u001b[0m\u001b[1;33m\u001b[0m\u001b[0m\n",
      "\u001b[1;31mStaleElementReferenceException\u001b[0m: Message: stale element reference: element is not attached to the page document\n  (Session info: chrome=88.0.4324.150)\n"
     ]
    }
   ],
   "source": [
    "brand_nam=[]\n",
    "for page in range(0,3):\n",
    "    brand=driver.find_elements_by_xpath(\"//div[@class='_2WkVRV']\")\n",
    "    \n",
    "    for i in brand:\n",
    "        brands=i.text\n",
    "        brand_nam.append(brands)\n",
    "    driver.find_element_by_xpath(\"//a[@class='_1LKTO3']\").click()\n",
    "brand_nam"
   ]
  },
  {
   "cell_type": "code",
   "execution_count": 36,
   "metadata": {},
   "outputs": [],
   "source": [
    "#scraping the elements of the next page(page2)\n",
    "driver.find_element_by_xpath(\"//a[@class='_1LKTO3']\").click()"
   ]
  },
  {
   "cell_type": "code",
   "execution_count": 37,
   "metadata": {},
   "outputs": [],
   "source": [
    "#creating the empty lists to which the final scraped data from page 2 will be stored\n",
    "brand_name2=[]\n",
    "product_description2=[]\n",
    "product_price2=[]\n",
    "discount_perc2=[]"
   ]
  },
  {
   "cell_type": "code",
   "execution_count": 38,
   "metadata": {},
   "outputs": [
    {
     "data": {
      "text/plain": [
       "[<selenium.webdriver.remote.webelement.WebElement (session=\"7584e28b053c64ff4786f89c28070d02\", element=\"fe330cf5-1c2a-4698-a13a-07d9626d0069\")>,\n",
       " <selenium.webdriver.remote.webelement.WebElement (session=\"7584e28b053c64ff4786f89c28070d02\", element=\"2b999021-6afb-4622-b383-beb9680a763d\")>,\n",
       " <selenium.webdriver.remote.webelement.WebElement (session=\"7584e28b053c64ff4786f89c28070d02\", element=\"fc086bbd-ec08-4637-8f44-dfd71d254f7b\")>,\n",
       " <selenium.webdriver.remote.webelement.WebElement (session=\"7584e28b053c64ff4786f89c28070d02\", element=\"c9d14526-5e54-48e2-a998-10230e490aed\")>,\n",
       " <selenium.webdriver.remote.webelement.WebElement (session=\"7584e28b053c64ff4786f89c28070d02\", element=\"5b8b78fe-1ff1-4703-a265-8253b990dd86\")>,\n",
       " <selenium.webdriver.remote.webelement.WebElement (session=\"7584e28b053c64ff4786f89c28070d02\", element=\"10035ff4-d1ca-407a-a7b4-9fa4a74ccbdf\")>,\n",
       " <selenium.webdriver.remote.webelement.WebElement (session=\"7584e28b053c64ff4786f89c28070d02\", element=\"ae3defdd-dd4b-4c4b-978c-8fcae495f9e6\")>,\n",
       " <selenium.webdriver.remote.webelement.WebElement (session=\"7584e28b053c64ff4786f89c28070d02\", element=\"fd3ed7c4-e96a-4956-a44e-6523b7c9c64c\")>,\n",
       " <selenium.webdriver.remote.webelement.WebElement (session=\"7584e28b053c64ff4786f89c28070d02\", element=\"76376df6-dcf1-4ec5-a7b9-0a73c3c2d212\")>,\n",
       " <selenium.webdriver.remote.webelement.WebElement (session=\"7584e28b053c64ff4786f89c28070d02\", element=\"172b09ef-1081-4ad0-82f0-cea25fa02457\")>,\n",
       " <selenium.webdriver.remote.webelement.WebElement (session=\"7584e28b053c64ff4786f89c28070d02\", element=\"2c181119-4865-47d0-b42e-86c8783c430f\")>,\n",
       " <selenium.webdriver.remote.webelement.WebElement (session=\"7584e28b053c64ff4786f89c28070d02\", element=\"8040fe5b-0963-4ebe-8c7d-f1e86b3104b9\")>,\n",
       " <selenium.webdriver.remote.webelement.WebElement (session=\"7584e28b053c64ff4786f89c28070d02\", element=\"8eaf01a9-71ab-41b5-9a07-be896bb8123b\")>,\n",
       " <selenium.webdriver.remote.webelement.WebElement (session=\"7584e28b053c64ff4786f89c28070d02\", element=\"6b570067-4be6-4e5b-b7be-cbe0db5b30f1\")>,\n",
       " <selenium.webdriver.remote.webelement.WebElement (session=\"7584e28b053c64ff4786f89c28070d02\", element=\"a41773af-050a-4ac8-a1b8-de0b3bc7cc67\")>,\n",
       " <selenium.webdriver.remote.webelement.WebElement (session=\"7584e28b053c64ff4786f89c28070d02\", element=\"56521abb-a322-4563-ae3f-f514af9d4af6\")>,\n",
       " <selenium.webdriver.remote.webelement.WebElement (session=\"7584e28b053c64ff4786f89c28070d02\", element=\"8f2f2d64-3c96-417c-82f2-edd628c5ad83\")>,\n",
       " <selenium.webdriver.remote.webelement.WebElement (session=\"7584e28b053c64ff4786f89c28070d02\", element=\"9570642b-d4fc-496d-916b-a2d94d5082cd\")>,\n",
       " <selenium.webdriver.remote.webelement.WebElement (session=\"7584e28b053c64ff4786f89c28070d02\", element=\"88db0223-5a9f-403f-b2f7-85ca8acab512\")>,\n",
       " <selenium.webdriver.remote.webelement.WebElement (session=\"7584e28b053c64ff4786f89c28070d02\", element=\"84b7d6bf-e3b7-4b7c-a0fa-52dd1dc9b211\")>,\n",
       " <selenium.webdriver.remote.webelement.WebElement (session=\"7584e28b053c64ff4786f89c28070d02\", element=\"1c9101aa-9b65-4a46-90f7-ff1885caa068\")>,\n",
       " <selenium.webdriver.remote.webelement.WebElement (session=\"7584e28b053c64ff4786f89c28070d02\", element=\"a547ba11-8a79-46c7-9c23-8b36dbc35f4f\")>,\n",
       " <selenium.webdriver.remote.webelement.WebElement (session=\"7584e28b053c64ff4786f89c28070d02\", element=\"33a411b1-5914-44b7-a488-ebde9798e3a3\")>,\n",
       " <selenium.webdriver.remote.webelement.WebElement (session=\"7584e28b053c64ff4786f89c28070d02\", element=\"8d21c7a9-b8f1-4c1a-84eb-978c26fb8e8c\")>,\n",
       " <selenium.webdriver.remote.webelement.WebElement (session=\"7584e28b053c64ff4786f89c28070d02\", element=\"2277fb5c-12f1-4cde-a0d5-ffd57c61ecd1\")>,\n",
       " <selenium.webdriver.remote.webelement.WebElement (session=\"7584e28b053c64ff4786f89c28070d02\", element=\"91af4b4a-9517-48b8-beb0-16f85202d3c0\")>,\n",
       " <selenium.webdriver.remote.webelement.WebElement (session=\"7584e28b053c64ff4786f89c28070d02\", element=\"1c6219b0-7d9d-4d3c-89a2-e695ddf4986e\")>,\n",
       " <selenium.webdriver.remote.webelement.WebElement (session=\"7584e28b053c64ff4786f89c28070d02\", element=\"976850ca-ae84-40f4-a90b-cfd8ae82d698\")>,\n",
       " <selenium.webdriver.remote.webelement.WebElement (session=\"7584e28b053c64ff4786f89c28070d02\", element=\"681e3d9b-a9de-49da-9229-b512bf3ff8d4\")>,\n",
       " <selenium.webdriver.remote.webelement.WebElement (session=\"7584e28b053c64ff4786f89c28070d02\", element=\"f7c3b9c9-383c-4d94-ac65-b35e87efc119\")>,\n",
       " <selenium.webdriver.remote.webelement.WebElement (session=\"7584e28b053c64ff4786f89c28070d02\", element=\"219f4f73-a1bf-4124-b291-0967b823fe6b\")>,\n",
       " <selenium.webdriver.remote.webelement.WebElement (session=\"7584e28b053c64ff4786f89c28070d02\", element=\"856aa7d9-a74d-4043-90e5-536f65f3135f\")>,\n",
       " <selenium.webdriver.remote.webelement.WebElement (session=\"7584e28b053c64ff4786f89c28070d02\", element=\"77e48155-4a13-4199-8567-de2c278cd959\")>,\n",
       " <selenium.webdriver.remote.webelement.WebElement (session=\"7584e28b053c64ff4786f89c28070d02\", element=\"6174d924-dca6-4a2f-91a5-0f4fe3ad0756\")>,\n",
       " <selenium.webdriver.remote.webelement.WebElement (session=\"7584e28b053c64ff4786f89c28070d02\", element=\"d0cb3348-d297-4dea-86e9-f780d82f30f6\")>,\n",
       " <selenium.webdriver.remote.webelement.WebElement (session=\"7584e28b053c64ff4786f89c28070d02\", element=\"d917fa3b-6dca-4330-954a-769a4e61798c\")>,\n",
       " <selenium.webdriver.remote.webelement.WebElement (session=\"7584e28b053c64ff4786f89c28070d02\", element=\"4def9de3-46d4-47e1-87da-f35ce2b6ff29\")>,\n",
       " <selenium.webdriver.remote.webelement.WebElement (session=\"7584e28b053c64ff4786f89c28070d02\", element=\"2e75dd1d-936e-4372-aeba-903b576eb8dc\")>,\n",
       " <selenium.webdriver.remote.webelement.WebElement (session=\"7584e28b053c64ff4786f89c28070d02\", element=\"86db3428-ba76-4484-acc0-04592de60fa6\")>,\n",
       " <selenium.webdriver.remote.webelement.WebElement (session=\"7584e28b053c64ff4786f89c28070d02\", element=\"fc6ca543-58b6-49e5-bc8c-68d39200fc8b\")>]"
      ]
     },
     "execution_count": 38,
     "metadata": {},
     "output_type": "execute_result"
    }
   ],
   "source": [
    "#let's extract all the tags having the brand name\n",
    "brand2=driver.find_elements_by_xpath(\"//div[@class='_2WkVRV']\")\n",
    "brand2[0:40]"
   ]
  },
  {
   "cell_type": "code",
   "execution_count": 39,
   "metadata": {},
   "outputs": [
    {
     "data": {
      "text/plain": [
       "['Chevit',\n",
       " 'Sparx',\n",
       " 'Chevit',\n",
       " 'Crysta',\n",
       " 'Skechers',\n",
       " 'Robbie jones',\n",
       " 'Wika',\n",
       " 'Kraasa',\n",
       " 'Chevit',\n",
       " 'Crysta',\n",
       " 'Zsyto',\n",
       " 'Essence',\n",
       " 'Echor',\n",
       " 'Rockfield',\n",
       " 'Knight Ace',\n",
       " 'ASTEROID',\n",
       " 'SCATCHITE',\n",
       " 'Black Bottom',\n",
       " 'Chevit',\n",
       " 'Claptrap',\n",
       " 'Englewood',\n",
       " 'World Wear Footwear',\n",
       " 'Adiso',\n",
       " 'Bonexy',\n",
       " 'D-SNEAKERZ',\n",
       " 'Kavon',\n",
       " 'Shoefly',\n",
       " 'Shoefly',\n",
       " 'Rockfield',\n",
       " 'Bonexy',\n",
       " 'luxury fashion',\n",
       " 'Chevit',\n",
       " 'WELDONE',\n",
       " 'Claptrap',\n",
       " 'Camfoot',\n",
       " 'BRUTON',\n",
       " 'Oricum',\n",
       " 'MOU',\n",
       " 'Absolute comfort',\n",
       " 'Extoes']"
      ]
     },
     "execution_count": 39,
     "metadata": {},
     "output_type": "execute_result"
    }
   ],
   "source": [
    "#Now extract the text inside the tags using a for loop to iterate over all the tags\n",
    "for i in brand2:\n",
    "    brands=i.text\n",
    "    brand_name2.append(brands)\n",
    "brand_name2[0:40]"
   ]
  },
  {
   "cell_type": "code",
   "execution_count": 40,
   "metadata": {},
   "outputs": [
    {
     "data": {
      "text/plain": [
       "[<selenium.webdriver.remote.webelement.WebElement (session=\"7584e28b053c64ff4786f89c28070d02\", element=\"d336f95e-bd46-40b3-887e-41c0690f062b\")>,\n",
       " <selenium.webdriver.remote.webelement.WebElement (session=\"7584e28b053c64ff4786f89c28070d02\", element=\"35408bdc-e9d1-49be-92ae-21636db4de84\")>,\n",
       " <selenium.webdriver.remote.webelement.WebElement (session=\"7584e28b053c64ff4786f89c28070d02\", element=\"09f2ccca-16b6-4f19-9966-bdda0f4857b0\")>,\n",
       " <selenium.webdriver.remote.webelement.WebElement (session=\"7584e28b053c64ff4786f89c28070d02\", element=\"aac9bd34-f69a-44c8-aa27-59c5894b4f17\")>,\n",
       " <selenium.webdriver.remote.webelement.WebElement (session=\"7584e28b053c64ff4786f89c28070d02\", element=\"9ae27e0a-8822-4600-9284-9e96715a1041\")>,\n",
       " <selenium.webdriver.remote.webelement.WebElement (session=\"7584e28b053c64ff4786f89c28070d02\", element=\"a4861312-d056-48b9-be2a-755ed4067246\")>,\n",
       " <selenium.webdriver.remote.webelement.WebElement (session=\"7584e28b053c64ff4786f89c28070d02\", element=\"c59af3df-f396-4473-8900-3611f0b4ba85\")>,\n",
       " <selenium.webdriver.remote.webelement.WebElement (session=\"7584e28b053c64ff4786f89c28070d02\", element=\"bf87a1ff-1ec3-4fee-aa4d-446528f3d4dc\")>,\n",
       " <selenium.webdriver.remote.webelement.WebElement (session=\"7584e28b053c64ff4786f89c28070d02\", element=\"2034245d-d7f8-4952-9170-efd1fe8b5c89\")>,\n",
       " <selenium.webdriver.remote.webelement.WebElement (session=\"7584e28b053c64ff4786f89c28070d02\", element=\"34c7bf40-503c-4d4d-ba86-7ce570ae05e4\")>,\n",
       " <selenium.webdriver.remote.webelement.WebElement (session=\"7584e28b053c64ff4786f89c28070d02\", element=\"d1eb14a0-ea45-490f-9f98-9d615daa885f\")>,\n",
       " <selenium.webdriver.remote.webelement.WebElement (session=\"7584e28b053c64ff4786f89c28070d02\", element=\"507e3add-38b5-467c-a33d-f034111dca64\")>,\n",
       " <selenium.webdriver.remote.webelement.WebElement (session=\"7584e28b053c64ff4786f89c28070d02\", element=\"5cb56d4c-ed53-4e98-b07f-0fdec8d76d13\")>,\n",
       " <selenium.webdriver.remote.webelement.WebElement (session=\"7584e28b053c64ff4786f89c28070d02\", element=\"4ed92ae6-845d-4888-a3d1-39ae051a72cb\")>,\n",
       " <selenium.webdriver.remote.webelement.WebElement (session=\"7584e28b053c64ff4786f89c28070d02\", element=\"5254ccef-b794-4bee-b008-6549f48c99f4\")>,\n",
       " <selenium.webdriver.remote.webelement.WebElement (session=\"7584e28b053c64ff4786f89c28070d02\", element=\"e7798787-5cb0-4460-b436-13f3f9fc8b0f\")>,\n",
       " <selenium.webdriver.remote.webelement.WebElement (session=\"7584e28b053c64ff4786f89c28070d02\", element=\"61365a14-9d25-45a0-9ee7-171e32fcc5f5\")>,\n",
       " <selenium.webdriver.remote.webelement.WebElement (session=\"7584e28b053c64ff4786f89c28070d02\", element=\"cc145fe5-12c9-44cf-b348-3cb26c25e7dc\")>,\n",
       " <selenium.webdriver.remote.webelement.WebElement (session=\"7584e28b053c64ff4786f89c28070d02\", element=\"4c454da0-7cee-45ef-9a56-8c2534906191\")>,\n",
       " <selenium.webdriver.remote.webelement.WebElement (session=\"7584e28b053c64ff4786f89c28070d02\", element=\"a61291de-4eda-4651-8b6a-1c3127d44392\")>,\n",
       " <selenium.webdriver.remote.webelement.WebElement (session=\"7584e28b053c64ff4786f89c28070d02\", element=\"2a479dd4-1017-4750-8ec3-af0b4c4bdfb7\")>,\n",
       " <selenium.webdriver.remote.webelement.WebElement (session=\"7584e28b053c64ff4786f89c28070d02\", element=\"542f7ec0-ed3e-4762-8607-a85144dbd02f\")>,\n",
       " <selenium.webdriver.remote.webelement.WebElement (session=\"7584e28b053c64ff4786f89c28070d02\", element=\"e2e0dc3b-032c-4dd1-907f-db7b90911c28\")>,\n",
       " <selenium.webdriver.remote.webelement.WebElement (session=\"7584e28b053c64ff4786f89c28070d02\", element=\"96d6e00d-b336-4a3b-9292-5bf8f767001b\")>,\n",
       " <selenium.webdriver.remote.webelement.WebElement (session=\"7584e28b053c64ff4786f89c28070d02\", element=\"c0ab02c7-f4ac-469c-a577-cc50424ccf6e\")>,\n",
       " <selenium.webdriver.remote.webelement.WebElement (session=\"7584e28b053c64ff4786f89c28070d02\", element=\"3b1f95b2-71ae-48dc-bc99-8d542e4f9949\")>,\n",
       " <selenium.webdriver.remote.webelement.WebElement (session=\"7584e28b053c64ff4786f89c28070d02\", element=\"f6ba2926-82ed-484f-8ae4-b604493abe6c\")>,\n",
       " <selenium.webdriver.remote.webelement.WebElement (session=\"7584e28b053c64ff4786f89c28070d02\", element=\"71ed8e3c-3206-435e-b33b-49a13bc31d83\")>,\n",
       " <selenium.webdriver.remote.webelement.WebElement (session=\"7584e28b053c64ff4786f89c28070d02\", element=\"cb4e60d7-ccc6-4b25-a2c6-3a8b439fb2a7\")>,\n",
       " <selenium.webdriver.remote.webelement.WebElement (session=\"7584e28b053c64ff4786f89c28070d02\", element=\"5b12148c-297c-4136-bcee-041f242fd02c\")>,\n",
       " <selenium.webdriver.remote.webelement.WebElement (session=\"7584e28b053c64ff4786f89c28070d02\", element=\"dac9c122-83e2-4dbf-8354-f5b7ad9147ea\")>,\n",
       " <selenium.webdriver.remote.webelement.WebElement (session=\"7584e28b053c64ff4786f89c28070d02\", element=\"efb22c55-bf20-4f03-8caf-fb0acfd3d0fa\")>,\n",
       " <selenium.webdriver.remote.webelement.WebElement (session=\"7584e28b053c64ff4786f89c28070d02\", element=\"1e1ca988-bc74-4f73-8a96-84a2ad78ea88\")>,\n",
       " <selenium.webdriver.remote.webelement.WebElement (session=\"7584e28b053c64ff4786f89c28070d02\", element=\"a2a1cfa9-6919-4bfc-8e60-f1361c1ba8fd\")>,\n",
       " <selenium.webdriver.remote.webelement.WebElement (session=\"7584e28b053c64ff4786f89c28070d02\", element=\"6b6f2f4e-e15a-445f-88d1-a0929c60ff21\")>]"
      ]
     },
     "execution_count": 40,
     "metadata": {},
     "output_type": "execute_result"
    }
   ],
   "source": [
    "#let's extract all the tags having the product description\n",
    "description2=driver.find_elements_by_xpath(\"//a[@class='IRpwTa']\")\n",
    "description2[0:40]"
   ]
  },
  {
   "cell_type": "code",
   "execution_count": 41,
   "metadata": {},
   "outputs": [
    {
     "data": {
      "text/plain": [
       "['Smart Casuals Canvas Shoes Combo pack of 2 Sneakers For...',\n",
       " 'SM-322 Sneakers For Men',\n",
       " '168 Smart Red Lace-Ups Casuals for Men Sneakers For Men',\n",
       " '1245SpiderBlack Sneakers For Men',\n",
       " 'SUMMITS - BRISBANE Sneakers For Men',\n",
       " 'Sneakers For Men',\n",
       " 'Casuals, Canvas, Partywear Sneakers For Men',\n",
       " 'Trendy Fashion Sports Combo Pack of 3 Pairs Outdoor Run...',\n",
       " 'Sneakers For Men',\n",
       " 'Sneakers For Men',\n",
       " 'HHM Sneakers For Men',\n",
       " 'Sneakers For Men',\n",
       " 'Tick Sneakers For Men',\n",
       " 'Feather Print New Spring Season White Shoes Men Running...',\n",
       " 'Sneakers Sneakers For Men',\n",
       " 'Fashion Outdoor Canvas Casual Light Weight Partywear Sn...',\n",
       " 'Lightweight Combo Pack of 02 Trendy Sneakers Casuals Fo...',\n",
       " 'Shoes for New Generation Mens Sneakers For Men',\n",
       " 'Sneakers For Men',\n",
       " 'Casual shoes Sneakers For Men',\n",
       " 'Sneakers For Men',\n",
       " \"Casual , Partywear Sneakers Shoes For Men's And Boys Wh...\",\n",
       " 'Sneakers For Men',\n",
       " 'Combo Men Pack of 2 Loafers Shoes Sneakers For Men',\n",
       " 'Combo Men Pack of 2 Loafers Shoes Sneakers For Men',\n",
       " 'Sneakers For Men',\n",
       " 'Sneakers For Men',\n",
       " 'Fashionable casual sneaker shoes Sneakers For Men',\n",
       " 'Chevit Trendy Fashion Sports Combo Pack of 3 Pairs Outd...',\n",
       " 'Sneakers For Men',\n",
       " \"White Sneaker For Men's/Boy's Sneakers For Men\",\n",
       " 'Combo Pack of 2 Latest Collection Stylish Casual Shoes ...',\n",
       " 'Combo Pack Of 4 Casual Sneakers For Men',\n",
       " 'Boxer-303 Sneakers For Men',\n",
       " 'Combo Pack Of 3 Sneakers For Men']"
      ]
     },
     "execution_count": 41,
     "metadata": {},
     "output_type": "execute_result"
    }
   ],
   "source": [
    "#Now extract the text inside the tags using a for loop to iterate over all the tags\n",
    "for i in description2:\n",
    "    descriptions=i.text\n",
    "    product_description2.append(descriptions)\n",
    "product_description2[0:40]"
   ]
  },
  {
   "cell_type": "code",
   "execution_count": 42,
   "metadata": {},
   "outputs": [
    {
     "data": {
      "text/plain": [
       "[<selenium.webdriver.remote.webelement.WebElement (session=\"7584e28b053c64ff4786f89c28070d02\", element=\"8057cdfe-fcc4-4964-bd6d-b6576b55fa9f\")>,\n",
       " <selenium.webdriver.remote.webelement.WebElement (session=\"7584e28b053c64ff4786f89c28070d02\", element=\"e94d858f-fd22-4ae3-82c0-b8a269987e76\")>,\n",
       " <selenium.webdriver.remote.webelement.WebElement (session=\"7584e28b053c64ff4786f89c28070d02\", element=\"20aa9007-bd3a-4e3c-8ce9-343944deff3b\")>,\n",
       " <selenium.webdriver.remote.webelement.WebElement (session=\"7584e28b053c64ff4786f89c28070d02\", element=\"811209c8-8afc-486d-9ebe-228da2d978eb\")>,\n",
       " <selenium.webdriver.remote.webelement.WebElement (session=\"7584e28b053c64ff4786f89c28070d02\", element=\"f9d95bb0-5d1e-485b-89ab-9ec63f9c0aaf\")>,\n",
       " <selenium.webdriver.remote.webelement.WebElement (session=\"7584e28b053c64ff4786f89c28070d02\", element=\"36d80468-aeef-4a48-b270-90f56b736ac6\")>,\n",
       " <selenium.webdriver.remote.webelement.WebElement (session=\"7584e28b053c64ff4786f89c28070d02\", element=\"a57b9540-9588-4282-8ee2-6c15e96272a1\")>,\n",
       " <selenium.webdriver.remote.webelement.WebElement (session=\"7584e28b053c64ff4786f89c28070d02\", element=\"b99cffd2-610f-4229-8aab-9a25567893e1\")>,\n",
       " <selenium.webdriver.remote.webelement.WebElement (session=\"7584e28b053c64ff4786f89c28070d02\", element=\"b3ea01b1-0aeb-4205-8d5f-98ad41329c27\")>,\n",
       " <selenium.webdriver.remote.webelement.WebElement (session=\"7584e28b053c64ff4786f89c28070d02\", element=\"f867b98c-2034-4382-aa42-8f8f6df56d69\")>,\n",
       " <selenium.webdriver.remote.webelement.WebElement (session=\"7584e28b053c64ff4786f89c28070d02\", element=\"2fa1c601-4453-4fac-8cd4-e457f7f274ae\")>,\n",
       " <selenium.webdriver.remote.webelement.WebElement (session=\"7584e28b053c64ff4786f89c28070d02\", element=\"407ea2c2-8055-484d-ade7-080877ed178e\")>,\n",
       " <selenium.webdriver.remote.webelement.WebElement (session=\"7584e28b053c64ff4786f89c28070d02\", element=\"4ec43735-980d-4bc1-8325-de68fb3875f7\")>,\n",
       " <selenium.webdriver.remote.webelement.WebElement (session=\"7584e28b053c64ff4786f89c28070d02\", element=\"d2c4c389-8995-439d-841c-488fb153a27a\")>,\n",
       " <selenium.webdriver.remote.webelement.WebElement (session=\"7584e28b053c64ff4786f89c28070d02\", element=\"36d1bb97-1c3a-4643-bffd-6d0ae4ec2d62\")>,\n",
       " <selenium.webdriver.remote.webelement.WebElement (session=\"7584e28b053c64ff4786f89c28070d02\", element=\"1609ecab-a9f4-4c2a-ae52-2246334ac65d\")>,\n",
       " <selenium.webdriver.remote.webelement.WebElement (session=\"7584e28b053c64ff4786f89c28070d02\", element=\"a363019a-3dfd-4e58-af72-1c6c84b10c46\")>,\n",
       " <selenium.webdriver.remote.webelement.WebElement (session=\"7584e28b053c64ff4786f89c28070d02\", element=\"1ca1268e-5867-4104-8334-e0526035ee57\")>,\n",
       " <selenium.webdriver.remote.webelement.WebElement (session=\"7584e28b053c64ff4786f89c28070d02\", element=\"70b462d1-2a96-443a-9012-d2d6c9ae0f87\")>,\n",
       " <selenium.webdriver.remote.webelement.WebElement (session=\"7584e28b053c64ff4786f89c28070d02\", element=\"8ff52997-99a2-4b77-b31c-100482c16455\")>,\n",
       " <selenium.webdriver.remote.webelement.WebElement (session=\"7584e28b053c64ff4786f89c28070d02\", element=\"53ed21d0-e2e0-49c2-8589-4182eb05c31b\")>,\n",
       " <selenium.webdriver.remote.webelement.WebElement (session=\"7584e28b053c64ff4786f89c28070d02\", element=\"0646d6d4-45f8-4b0a-9963-f0f91ad8dc66\")>,\n",
       " <selenium.webdriver.remote.webelement.WebElement (session=\"7584e28b053c64ff4786f89c28070d02\", element=\"6daabb9c-849d-4788-a97b-16530dfa1403\")>,\n",
       " <selenium.webdriver.remote.webelement.WebElement (session=\"7584e28b053c64ff4786f89c28070d02\", element=\"efa2a837-3cd0-4e40-bfe1-c749a1d16040\")>,\n",
       " <selenium.webdriver.remote.webelement.WebElement (session=\"7584e28b053c64ff4786f89c28070d02\", element=\"74f18960-1deb-4601-a672-cd441e0b8b99\")>,\n",
       " <selenium.webdriver.remote.webelement.WebElement (session=\"7584e28b053c64ff4786f89c28070d02\", element=\"0bbc26d1-0ae6-45d5-8f59-885fdbdc87db\")>,\n",
       " <selenium.webdriver.remote.webelement.WebElement (session=\"7584e28b053c64ff4786f89c28070d02\", element=\"03227196-a3df-4ce0-ba8c-274dc706e1f7\")>,\n",
       " <selenium.webdriver.remote.webelement.WebElement (session=\"7584e28b053c64ff4786f89c28070d02\", element=\"71015876-692b-43bc-8934-52486caeed29\")>,\n",
       " <selenium.webdriver.remote.webelement.WebElement (session=\"7584e28b053c64ff4786f89c28070d02\", element=\"e6ea82bb-b0c3-498d-97f3-9b329046b2e5\")>,\n",
       " <selenium.webdriver.remote.webelement.WebElement (session=\"7584e28b053c64ff4786f89c28070d02\", element=\"fe17318d-021b-48ad-8b39-9bfa4d5ccf98\")>,\n",
       " <selenium.webdriver.remote.webelement.WebElement (session=\"7584e28b053c64ff4786f89c28070d02\", element=\"0a987572-cc05-4804-a72a-00564e8b03a6\")>,\n",
       " <selenium.webdriver.remote.webelement.WebElement (session=\"7584e28b053c64ff4786f89c28070d02\", element=\"6fdc831e-e0e5-4e92-b0f8-f076bf20d49c\")>,\n",
       " <selenium.webdriver.remote.webelement.WebElement (session=\"7584e28b053c64ff4786f89c28070d02\", element=\"21ff3bd7-c278-4b85-8851-8dfde97db877\")>,\n",
       " <selenium.webdriver.remote.webelement.WebElement (session=\"7584e28b053c64ff4786f89c28070d02\", element=\"28521110-0a1f-429f-b6f2-ea36166bed85\")>,\n",
       " <selenium.webdriver.remote.webelement.WebElement (session=\"7584e28b053c64ff4786f89c28070d02\", element=\"7f6f1d94-9b48-49d3-a9c7-0814b3a236e7\")>,\n",
       " <selenium.webdriver.remote.webelement.WebElement (session=\"7584e28b053c64ff4786f89c28070d02\", element=\"292270f4-a793-4f81-8511-f8213a3add4e\")>,\n",
       " <selenium.webdriver.remote.webelement.WebElement (session=\"7584e28b053c64ff4786f89c28070d02\", element=\"87e3e468-00ef-432a-a8eb-0235bdd2252c\")>,\n",
       " <selenium.webdriver.remote.webelement.WebElement (session=\"7584e28b053c64ff4786f89c28070d02\", element=\"4326b216-15bf-4f5f-9608-f4aed3feca25\")>,\n",
       " <selenium.webdriver.remote.webelement.WebElement (session=\"7584e28b053c64ff4786f89c28070d02\", element=\"cbbe44a0-b1ba-4355-985b-b9e2d13c8533\")>,\n",
       " <selenium.webdriver.remote.webelement.WebElement (session=\"7584e28b053c64ff4786f89c28070d02\", element=\"f5297052-6f27-4561-b864-c75b0a3a26ce\")>]"
      ]
     },
     "execution_count": 42,
     "metadata": {},
     "output_type": "execute_result"
    }
   ],
   "source": [
    "#let's extract all the tags having the product price\n",
    "price2=driver.find_elements_by_xpath(\"//div[@class='_30jeq3']\")\n",
    "price2[0:40]"
   ]
  },
  {
   "cell_type": "code",
   "execution_count": 43,
   "metadata": {},
   "outputs": [
    {
     "data": {
      "text/plain": [
       "['₹299',\n",
       " '₹817',\n",
       " '₹236',\n",
       " '₹270',\n",
       " '₹2,794',\n",
       " '₹499',\n",
       " '₹395',\n",
       " '₹474',\n",
       " '₹624',\n",
       " '₹699',\n",
       " '₹345',\n",
       " '₹521',\n",
       " '₹601',\n",
       " '₹424',\n",
       " '₹499',\n",
       " '₹399',\n",
       " '₹398',\n",
       " '₹399',\n",
       " '₹499',\n",
       " '₹664',\n",
       " '₹499',\n",
       " '₹240',\n",
       " '₹399',\n",
       " '₹474',\n",
       " '₹385',\n",
       " '₹298',\n",
       " '₹343',\n",
       " '₹284',\n",
       " '₹379',\n",
       " '₹379',\n",
       " '₹379',\n",
       " '₹597',\n",
       " '₹683',\n",
       " '₹399',\n",
       " '₹328',\n",
       " '₹499',\n",
       " '₹284',\n",
       " '₹523',\n",
       " '₹199',\n",
       " '₹469']"
      ]
     },
     "execution_count": 43,
     "metadata": {},
     "output_type": "execute_result"
    }
   ],
   "source": [
    "#Now extract the text inside the tags using a for loop to iterate over all the tags\n",
    "for i in price2:\n",
    "    prices=i.text\n",
    "    product_price2.append(prices)\n",
    "product_price2[0:40]"
   ]
  },
  {
   "cell_type": "code",
   "execution_count": 44,
   "metadata": {},
   "outputs": [
    {
     "data": {
      "text/plain": [
       "[<selenium.webdriver.remote.webelement.WebElement (session=\"7584e28b053c64ff4786f89c28070d02\", element=\"0f5676d2-dd80-4b05-afa1-8f76ddd0f382\")>,\n",
       " <selenium.webdriver.remote.webelement.WebElement (session=\"7584e28b053c64ff4786f89c28070d02\", element=\"33384438-b317-4be4-8562-3c3d9460a4e0\")>,\n",
       " <selenium.webdriver.remote.webelement.WebElement (session=\"7584e28b053c64ff4786f89c28070d02\", element=\"c3c05a1b-3a29-45b3-bb6c-045e4e1a6ee6\")>,\n",
       " <selenium.webdriver.remote.webelement.WebElement (session=\"7584e28b053c64ff4786f89c28070d02\", element=\"716a4c57-fda9-406a-af9f-dfe2430ff1ec\")>,\n",
       " <selenium.webdriver.remote.webelement.WebElement (session=\"7584e28b053c64ff4786f89c28070d02\", element=\"0fe46506-3779-48f0-a6a4-e5bee5e49797\")>,\n",
       " <selenium.webdriver.remote.webelement.WebElement (session=\"7584e28b053c64ff4786f89c28070d02\", element=\"2ec7db2b-0de3-4e0b-9b2a-88a1fd7ef2dc\")>,\n",
       " <selenium.webdriver.remote.webelement.WebElement (session=\"7584e28b053c64ff4786f89c28070d02\", element=\"0dfb1637-78c6-4c87-869f-1041de115aa7\")>,\n",
       " <selenium.webdriver.remote.webelement.WebElement (session=\"7584e28b053c64ff4786f89c28070d02\", element=\"bcd64ce3-c8b3-4557-86ca-b09f6f007671\")>,\n",
       " <selenium.webdriver.remote.webelement.WebElement (session=\"7584e28b053c64ff4786f89c28070d02\", element=\"9085a960-bf62-41ff-93b1-a75988d9bcdf\")>,\n",
       " <selenium.webdriver.remote.webelement.WebElement (session=\"7584e28b053c64ff4786f89c28070d02\", element=\"1e8763df-b658-4835-abe8-88b151030c33\")>,\n",
       " <selenium.webdriver.remote.webelement.WebElement (session=\"7584e28b053c64ff4786f89c28070d02\", element=\"6b0aad95-72e2-4c83-a5c8-6f835af2936b\")>,\n",
       " <selenium.webdriver.remote.webelement.WebElement (session=\"7584e28b053c64ff4786f89c28070d02\", element=\"b85ec265-7adf-4a71-9a39-94d437979634\")>,\n",
       " <selenium.webdriver.remote.webelement.WebElement (session=\"7584e28b053c64ff4786f89c28070d02\", element=\"42aace8c-733f-4852-ae8a-738af8212a51\")>,\n",
       " <selenium.webdriver.remote.webelement.WebElement (session=\"7584e28b053c64ff4786f89c28070d02\", element=\"5999594b-abbd-4f07-94a2-27a444146355\")>,\n",
       " <selenium.webdriver.remote.webelement.WebElement (session=\"7584e28b053c64ff4786f89c28070d02\", element=\"4fc90ce9-12cc-4465-b6f9-5ccfab75371f\")>,\n",
       " <selenium.webdriver.remote.webelement.WebElement (session=\"7584e28b053c64ff4786f89c28070d02\", element=\"aa067976-b359-4fcb-8ee4-5abfaa43c672\")>,\n",
       " <selenium.webdriver.remote.webelement.WebElement (session=\"7584e28b053c64ff4786f89c28070d02\", element=\"00402b2d-434f-43d3-aeb6-235cfbc4e9b5\")>,\n",
       " <selenium.webdriver.remote.webelement.WebElement (session=\"7584e28b053c64ff4786f89c28070d02\", element=\"48963085-ebc7-404e-8ca9-bec889b2f35a\")>,\n",
       " <selenium.webdriver.remote.webelement.WebElement (session=\"7584e28b053c64ff4786f89c28070d02\", element=\"04a7439c-b7fa-44d9-be92-303aa0ac26ad\")>,\n",
       " <selenium.webdriver.remote.webelement.WebElement (session=\"7584e28b053c64ff4786f89c28070d02\", element=\"d8f62bcc-5333-41bb-b221-9eaf279954d2\")>,\n",
       " <selenium.webdriver.remote.webelement.WebElement (session=\"7584e28b053c64ff4786f89c28070d02\", element=\"75867cd4-bdcb-4527-bb44-94b5e2a860e8\")>,\n",
       " <selenium.webdriver.remote.webelement.WebElement (session=\"7584e28b053c64ff4786f89c28070d02\", element=\"f379a467-62eb-47ce-971d-689d4ce10a45\")>,\n",
       " <selenium.webdriver.remote.webelement.WebElement (session=\"7584e28b053c64ff4786f89c28070d02\", element=\"173ba99f-311c-405c-b2ad-4f143651bed9\")>,\n",
       " <selenium.webdriver.remote.webelement.WebElement (session=\"7584e28b053c64ff4786f89c28070d02\", element=\"54aa63e3-6bda-4eee-b991-aa4d60aa9cbb\")>,\n",
       " <selenium.webdriver.remote.webelement.WebElement (session=\"7584e28b053c64ff4786f89c28070d02\", element=\"25e8a472-a654-47c9-95fe-38fd5056e4f8\")>,\n",
       " <selenium.webdriver.remote.webelement.WebElement (session=\"7584e28b053c64ff4786f89c28070d02\", element=\"bbe9c6c2-8db0-4ed1-be26-aff8e5254c68\")>,\n",
       " <selenium.webdriver.remote.webelement.WebElement (session=\"7584e28b053c64ff4786f89c28070d02\", element=\"caab0357-4724-4842-ba4b-c65f916e30d9\")>,\n",
       " <selenium.webdriver.remote.webelement.WebElement (session=\"7584e28b053c64ff4786f89c28070d02\", element=\"9f027174-8837-438d-afd2-430b3a29b448\")>,\n",
       " <selenium.webdriver.remote.webelement.WebElement (session=\"7584e28b053c64ff4786f89c28070d02\", element=\"b13b9172-a383-45f3-8e6a-4362068bd5cc\")>,\n",
       " <selenium.webdriver.remote.webelement.WebElement (session=\"7584e28b053c64ff4786f89c28070d02\", element=\"1c8bae2e-95b0-45d9-bfee-3090178fe27c\")>,\n",
       " <selenium.webdriver.remote.webelement.WebElement (session=\"7584e28b053c64ff4786f89c28070d02\", element=\"b376603a-7918-49a4-a31f-14fba8319d8d\")>,\n",
       " <selenium.webdriver.remote.webelement.WebElement (session=\"7584e28b053c64ff4786f89c28070d02\", element=\"aba6c4e0-7511-4827-a061-c890b24286df\")>,\n",
       " <selenium.webdriver.remote.webelement.WebElement (session=\"7584e28b053c64ff4786f89c28070d02\", element=\"7c31cef1-9f63-43d7-a9eb-da02a6b923e9\")>,\n",
       " <selenium.webdriver.remote.webelement.WebElement (session=\"7584e28b053c64ff4786f89c28070d02\", element=\"0875b945-44ac-4c2c-98fe-785741b3f0a6\")>,\n",
       " <selenium.webdriver.remote.webelement.WebElement (session=\"7584e28b053c64ff4786f89c28070d02\", element=\"abab5a49-66e4-4b21-bf92-38dbc9cf23c5\")>,\n",
       " <selenium.webdriver.remote.webelement.WebElement (session=\"7584e28b053c64ff4786f89c28070d02\", element=\"1a5bb257-10ea-4fec-aa66-3b5406a22702\")>,\n",
       " <selenium.webdriver.remote.webelement.WebElement (session=\"7584e28b053c64ff4786f89c28070d02\", element=\"7bc0d293-e6fb-43d3-971f-657e382658a6\")>,\n",
       " <selenium.webdriver.remote.webelement.WebElement (session=\"7584e28b053c64ff4786f89c28070d02\", element=\"c0be6846-8fde-41e2-86c4-8dfc646fa64c\")>,\n",
       " <selenium.webdriver.remote.webelement.WebElement (session=\"7584e28b053c64ff4786f89c28070d02\", element=\"4a14a6e2-bd94-4396-8268-63220f1c9965\")>,\n",
       " <selenium.webdriver.remote.webelement.WebElement (session=\"7584e28b053c64ff4786f89c28070d02\", element=\"0b319881-6b3a-41f8-93fd-09ac526d09ca\")>]"
      ]
     },
     "execution_count": 44,
     "metadata": {},
     "output_type": "execute_result"
    }
   ],
   "source": [
    "#let's extract all the tags having the discount percentage\n",
    "discount2=driver.find_elements_by_xpath(\"//div[@class='_3Ay6Sb']\")\n",
    "discount2[0:40]"
   ]
  },
  {
   "cell_type": "code",
   "execution_count": 45,
   "metadata": {},
   "outputs": [
    {
     "data": {
      "text/plain": [
       "['70% off',\n",
       " '18% off',\n",
       " '52% off',\n",
       " '45% off',\n",
       " '35% off',\n",
       " '50% off',\n",
       " '60% off',\n",
       " '52% off',\n",
       " '65% off',\n",
       " '53% off',\n",
       " '73% off',\n",
       " '47% off',\n",
       " '39% off',\n",
       " '57% off',\n",
       " '50% off',\n",
       " '60% off',\n",
       " '60% off',\n",
       " '60% off',\n",
       " '50% off',\n",
       " '16% off',\n",
       " '66% off',\n",
       " '51% off',\n",
       " '60% off',\n",
       " '52% off',\n",
       " '61% off',\n",
       " '70% off',\n",
       " '65% off',\n",
       " '71% off',\n",
       " '62% off',\n",
       " '62% off',\n",
       " '87% off',\n",
       " '66% off',\n",
       " '54% off',\n",
       " '11% off',\n",
       " '67% off',\n",
       " '87% off',\n",
       " '43% off',\n",
       " '47% off',\n",
       " '60% off',\n",
       " '68% off']"
      ]
     },
     "execution_count": 45,
     "metadata": {},
     "output_type": "execute_result"
    }
   ],
   "source": [
    "#Now extract the text inside the tags using a for loop to iterate over all the tags\n",
    "for i in discount2:\n",
    "    discounts=i.text\n",
    "    discount_perc2.append(discounts)\n",
    "discount_perc2[0:40]"
   ]
  },
  {
   "cell_type": "code",
   "execution_count": 46,
   "metadata": {},
   "outputs": [],
   "source": [
    "#scraping the elements of the next page(page3)\n",
    "driver.find_element_by_xpath(\"//nav[@class='yFHi8N']/a[12]\").click()"
   ]
  },
  {
   "cell_type": "code",
   "execution_count": 47,
   "metadata": {},
   "outputs": [],
   "source": [
    "#creating the empty lists to which the final scraped data from page 3 will be stored\n",
    "brand_name3=[]\n",
    "product_description3=[]\n",
    "product_price3=[]\n",
    "discount_perc3=[]"
   ]
  },
  {
   "cell_type": "code",
   "execution_count": 48,
   "metadata": {},
   "outputs": [
    {
     "data": {
      "text/plain": [
       "[<selenium.webdriver.remote.webelement.WebElement (session=\"7584e28b053c64ff4786f89c28070d02\", element=\"936586d7-7762-4be3-a2ab-ebbfb8fa8d80\")>,\n",
       " <selenium.webdriver.remote.webelement.WebElement (session=\"7584e28b053c64ff4786f89c28070d02\", element=\"a01ffbbf-96f9-425c-9f9f-a46392dad0ac\")>,\n",
       " <selenium.webdriver.remote.webelement.WebElement (session=\"7584e28b053c64ff4786f89c28070d02\", element=\"f8919f2c-70ba-45c3-a589-104012122868\")>,\n",
       " <selenium.webdriver.remote.webelement.WebElement (session=\"7584e28b053c64ff4786f89c28070d02\", element=\"1bacbc87-9a68-4c00-b2b1-37ea7aa51495\")>,\n",
       " <selenium.webdriver.remote.webelement.WebElement (session=\"7584e28b053c64ff4786f89c28070d02\", element=\"e327fca0-8648-4dd8-aa20-4c03c2bb16ea\")>,\n",
       " <selenium.webdriver.remote.webelement.WebElement (session=\"7584e28b053c64ff4786f89c28070d02\", element=\"5dfd2203-9b3b-41e3-a5f4-d4a404a2a7c4\")>,\n",
       " <selenium.webdriver.remote.webelement.WebElement (session=\"7584e28b053c64ff4786f89c28070d02\", element=\"a12aa0fd-aa1a-499f-9edc-392b052e3704\")>,\n",
       " <selenium.webdriver.remote.webelement.WebElement (session=\"7584e28b053c64ff4786f89c28070d02\", element=\"9d01f414-a79b-45cc-af38-ad33fb120ea4\")>,\n",
       " <selenium.webdriver.remote.webelement.WebElement (session=\"7584e28b053c64ff4786f89c28070d02\", element=\"6cf37252-470e-405c-b3c6-2b0f470ba6a6\")>,\n",
       " <selenium.webdriver.remote.webelement.WebElement (session=\"7584e28b053c64ff4786f89c28070d02\", element=\"dc371135-9733-4ed5-9fee-7e56ac8e4486\")>,\n",
       " <selenium.webdriver.remote.webelement.WebElement (session=\"7584e28b053c64ff4786f89c28070d02\", element=\"35cfe362-7516-4445-9155-d9609c615ef1\")>,\n",
       " <selenium.webdriver.remote.webelement.WebElement (session=\"7584e28b053c64ff4786f89c28070d02\", element=\"39aef457-bae7-4d4b-a72c-0df51b0d1b20\")>,\n",
       " <selenium.webdriver.remote.webelement.WebElement (session=\"7584e28b053c64ff4786f89c28070d02\", element=\"97b70f64-4c7a-4ad3-bfed-3c7c8928b8f7\")>,\n",
       " <selenium.webdriver.remote.webelement.WebElement (session=\"7584e28b053c64ff4786f89c28070d02\", element=\"e411c010-ffab-4c9f-b5f8-df6de37bfdf5\")>,\n",
       " <selenium.webdriver.remote.webelement.WebElement (session=\"7584e28b053c64ff4786f89c28070d02\", element=\"b09ade99-91f3-4ef0-a136-336e007a306b\")>,\n",
       " <selenium.webdriver.remote.webelement.WebElement (session=\"7584e28b053c64ff4786f89c28070d02\", element=\"1cbca3b1-945f-45d1-b707-a7fa2f1a2b1c\")>,\n",
       " <selenium.webdriver.remote.webelement.WebElement (session=\"7584e28b053c64ff4786f89c28070d02\", element=\"a9dab1d5-5a43-4f0a-a3e6-0fdead322dd1\")>,\n",
       " <selenium.webdriver.remote.webelement.WebElement (session=\"7584e28b053c64ff4786f89c28070d02\", element=\"c2ea6bb9-c33c-4cec-999c-a36f6732e5c4\")>,\n",
       " <selenium.webdriver.remote.webelement.WebElement (session=\"7584e28b053c64ff4786f89c28070d02\", element=\"ea74c8d7-7ab1-4461-b7c8-6473034e9091\")>,\n",
       " <selenium.webdriver.remote.webelement.WebElement (session=\"7584e28b053c64ff4786f89c28070d02\", element=\"d4898fa0-ff8a-4790-9d23-f11bc4aa041b\")>]"
      ]
     },
     "execution_count": 48,
     "metadata": {},
     "output_type": "execute_result"
    }
   ],
   "source": [
    "#let's extract all the tags having the brand name\n",
    "brand3=driver.find_elements_by_xpath(\"//div[@class='_2WkVRV']\")\n",
    "brand3[0:20]"
   ]
  },
  {
   "cell_type": "code",
   "execution_count": 49,
   "metadata": {},
   "outputs": [
    {
     "data": {
      "text/plain": [
       "['Jack Diamond',\n",
       " 'Asian',\n",
       " 'Robbie Jones',\n",
       " 'Red Tape',\n",
       " 'Armado',\n",
       " 'M K FOOTWEAR',\n",
       " 'Chevit',\n",
       " 'Ktiz',\n",
       " 'Jabra',\n",
       " 'Hotstyle',\n",
       " 'STRANGER BROTHERS',\n",
       " 'bluemaker',\n",
       " 'Chevit',\n",
       " 'BRUTON',\n",
       " 'TWIN TOES',\n",
       " 'Essence',\n",
       " 'Longwalk',\n",
       " 'Shoefly',\n",
       " 'M K FOOTWEAR',\n",
       " 'Red Tape']"
      ]
     },
     "execution_count": 49,
     "metadata": {},
     "output_type": "execute_result"
    }
   ],
   "source": [
    "#Now extract the text inside the tags using a for loop to iterate over all the tags\n",
    "for i in brand3:\n",
    "    brands=i.text\n",
    "    brand_name3.append(brands)\n",
    "brand_name3[0:20]"
   ]
  },
  {
   "cell_type": "code",
   "execution_count": 50,
   "metadata": {},
   "outputs": [
    {
     "data": {
      "text/plain": [
       "[<selenium.webdriver.remote.webelement.WebElement (session=\"7584e28b053c64ff4786f89c28070d02\", element=\"8fa20b62-7c79-4868-a2e5-cceef6f86293\")>,\n",
       " <selenium.webdriver.remote.webelement.WebElement (session=\"7584e28b053c64ff4786f89c28070d02\", element=\"50189312-d145-47a9-b672-ff6ca634898b\")>,\n",
       " <selenium.webdriver.remote.webelement.WebElement (session=\"7584e28b053c64ff4786f89c28070d02\", element=\"602a1251-add1-4e14-b50a-43c05fd1ea3f\")>,\n",
       " <selenium.webdriver.remote.webelement.WebElement (session=\"7584e28b053c64ff4786f89c28070d02\", element=\"14cdcd9f-32ff-436f-ae60-b9bcdf05c986\")>,\n",
       " <selenium.webdriver.remote.webelement.WebElement (session=\"7584e28b053c64ff4786f89c28070d02\", element=\"cde826bc-373b-4c3a-b83c-0578a9b7cff0\")>,\n",
       " <selenium.webdriver.remote.webelement.WebElement (session=\"7584e28b053c64ff4786f89c28070d02\", element=\"dc133488-cc7e-4828-8cd1-b3112835e9dd\")>,\n",
       " <selenium.webdriver.remote.webelement.WebElement (session=\"7584e28b053c64ff4786f89c28070d02\", element=\"07ffa627-c7c7-4f70-869f-f4240491427c\")>,\n",
       " <selenium.webdriver.remote.webelement.WebElement (session=\"7584e28b053c64ff4786f89c28070d02\", element=\"842ab6b3-b3e0-4ae6-a854-e463ea571c89\")>,\n",
       " <selenium.webdriver.remote.webelement.WebElement (session=\"7584e28b053c64ff4786f89c28070d02\", element=\"664aa289-92df-42a9-92fd-c3f01381541f\")>,\n",
       " <selenium.webdriver.remote.webelement.WebElement (session=\"7584e28b053c64ff4786f89c28070d02\", element=\"b3d5cff8-03d8-4cd6-96ed-157d8fa39725\")>,\n",
       " <selenium.webdriver.remote.webelement.WebElement (session=\"7584e28b053c64ff4786f89c28070d02\", element=\"67678047-8235-40ac-b89f-45d1a6c1fe91\")>,\n",
       " <selenium.webdriver.remote.webelement.WebElement (session=\"7584e28b053c64ff4786f89c28070d02\", element=\"18a721ed-3ea4-4aec-a67f-a5c9b960d5e5\")>,\n",
       " <selenium.webdriver.remote.webelement.WebElement (session=\"7584e28b053c64ff4786f89c28070d02\", element=\"0236b1ec-09fb-48d5-88ce-2f46452a02aa\")>,\n",
       " <selenium.webdriver.remote.webelement.WebElement (session=\"7584e28b053c64ff4786f89c28070d02\", element=\"5c81f286-234f-4905-bc26-76e9413e3bf3\")>,\n",
       " <selenium.webdriver.remote.webelement.WebElement (session=\"7584e28b053c64ff4786f89c28070d02\", element=\"02595e61-795a-4f2e-a03d-fccae0e3e69e\")>,\n",
       " <selenium.webdriver.remote.webelement.WebElement (session=\"7584e28b053c64ff4786f89c28070d02\", element=\"9212781b-3ae4-42ca-94ab-4d3238701f46\")>,\n",
       " <selenium.webdriver.remote.webelement.WebElement (session=\"7584e28b053c64ff4786f89c28070d02\", element=\"cf3ab2f3-7f4a-420e-8fe6-bc3db890c6f4\")>,\n",
       " <selenium.webdriver.remote.webelement.WebElement (session=\"7584e28b053c64ff4786f89c28070d02\", element=\"259d8235-0936-4b9e-bca0-8f39147baeae\")>,\n",
       " <selenium.webdriver.remote.webelement.WebElement (session=\"7584e28b053c64ff4786f89c28070d02\", element=\"a48243e3-863c-44d7-ad00-db7faf7b9400\")>,\n",
       " <selenium.webdriver.remote.webelement.WebElement (session=\"7584e28b053c64ff4786f89c28070d02\", element=\"1eb54276-8ea3-4bc2-8adc-0ac6fb41e31e\")>]"
      ]
     },
     "execution_count": 50,
     "metadata": {},
     "output_type": "execute_result"
    }
   ],
   "source": [
    "#let's extract all the tags having the product description\n",
    "description3=driver.find_elements_by_xpath(\"//a[@class='IRpwTa']\")\n",
    "description3[0:20]"
   ]
  },
  {
   "cell_type": "code",
   "execution_count": 51,
   "metadata": {},
   "outputs": [
    {
     "data": {
      "text/plain": [
       "['Skypy-31 Walking Shoes,Training Shoes,Sneakers,Loafers,...',\n",
       " 'casual shoes For Mens Combo(AR)-1658-1619 ( Multicolor-...',\n",
       " 'Combo Pack of 5 Casual Sneakers With Sneakers For Men',\n",
       " 'Sneakers For Men',\n",
       " 'Sneakers For Men',\n",
       " 'casual for men (blue 06) Sneakers For Men',\n",
       " 'Smart Casuals Canvas Shoes Combo pack of 2 Sneakers For...',\n",
       " 'Combo Pack Of 5 Casual Sneakers For Men',\n",
       " 'Stylish Casual Partywear Men Shoes Sneakers For Men',\n",
       " 'Sneakers For Men',\n",
       " 'Men Boxer Sneakers For Men',\n",
       " 'Combo Pack of 4 Casual Shoes For Men Sneakers For Men',\n",
       " 'Combo Pack of 2 Latest Collection Stylish casual Sports...',\n",
       " 'Sneakers For Men',\n",
       " 'Sneakers For Men',\n",
       " 'Sneakers For Men',\n",
       " 'Combo Pack Of 2 Sneakers For Men',\n",
       " 'Sneakers For Men',\n",
       " 'Mesh Casual Sneakers Shoes for Men And Boys Sneakers Fo...',\n",
       " 'Combo Pack of 5 Casual Sneakers With Sneakers For Men']"
      ]
     },
     "execution_count": 51,
     "metadata": {},
     "output_type": "execute_result"
    }
   ],
   "source": [
    "#Now extract the text inside the tags using a for loop to iterate over all the tags\n",
    "for i in description3:\n",
    "    descriptions=i.text\n",
    "    product_description3.append(descriptions)\n",
    "product_description3[0:20]"
   ]
  },
  {
   "cell_type": "code",
   "execution_count": 52,
   "metadata": {},
   "outputs": [
    {
     "data": {
      "text/plain": [
       "[<selenium.webdriver.remote.webelement.WebElement (session=\"7584e28b053c64ff4786f89c28070d02\", element=\"4068bcc9-c8f4-4928-b705-3997dac9e802\")>,\n",
       " <selenium.webdriver.remote.webelement.WebElement (session=\"7584e28b053c64ff4786f89c28070d02\", element=\"d2812c7d-ddfc-4282-8145-1c4360efa797\")>,\n",
       " <selenium.webdriver.remote.webelement.WebElement (session=\"7584e28b053c64ff4786f89c28070d02\", element=\"ddbc273a-0356-481f-bdc8-6187c6ea8507\")>,\n",
       " <selenium.webdriver.remote.webelement.WebElement (session=\"7584e28b053c64ff4786f89c28070d02\", element=\"d5dad181-0aa1-4cb0-86b5-02c26d5c9e2c\")>,\n",
       " <selenium.webdriver.remote.webelement.WebElement (session=\"7584e28b053c64ff4786f89c28070d02\", element=\"c69d1ddf-dcaf-417f-ac2a-f7bedb0ff3ea\")>,\n",
       " <selenium.webdriver.remote.webelement.WebElement (session=\"7584e28b053c64ff4786f89c28070d02\", element=\"8dc08455-cb60-4d5e-a096-095441cca44d\")>,\n",
       " <selenium.webdriver.remote.webelement.WebElement (session=\"7584e28b053c64ff4786f89c28070d02\", element=\"f200bdea-78b7-4d5f-932a-915b765314b6\")>,\n",
       " <selenium.webdriver.remote.webelement.WebElement (session=\"7584e28b053c64ff4786f89c28070d02\", element=\"4c0089db-9c0a-4156-9637-03ed8a9c3f3a\")>,\n",
       " <selenium.webdriver.remote.webelement.WebElement (session=\"7584e28b053c64ff4786f89c28070d02\", element=\"46b485e6-e10f-443a-b885-7e4e0994cd2f\")>,\n",
       " <selenium.webdriver.remote.webelement.WebElement (session=\"7584e28b053c64ff4786f89c28070d02\", element=\"dbf7e398-69c9-4115-96f9-2ad8a13add7c\")>,\n",
       " <selenium.webdriver.remote.webelement.WebElement (session=\"7584e28b053c64ff4786f89c28070d02\", element=\"fea796b4-a260-4848-8c64-1cce45f81914\")>,\n",
       " <selenium.webdriver.remote.webelement.WebElement (session=\"7584e28b053c64ff4786f89c28070d02\", element=\"1da11674-8f60-4ba5-a5a3-1948e2749d6f\")>,\n",
       " <selenium.webdriver.remote.webelement.WebElement (session=\"7584e28b053c64ff4786f89c28070d02\", element=\"a68b16c7-4335-4ebb-9de0-4ff94da88411\")>,\n",
       " <selenium.webdriver.remote.webelement.WebElement (session=\"7584e28b053c64ff4786f89c28070d02\", element=\"3a80b160-df82-4ffa-b9a5-4f44c1540314\")>,\n",
       " <selenium.webdriver.remote.webelement.WebElement (session=\"7584e28b053c64ff4786f89c28070d02\", element=\"855ae84d-922b-4230-b371-6064e8dfef19\")>,\n",
       " <selenium.webdriver.remote.webelement.WebElement (session=\"7584e28b053c64ff4786f89c28070d02\", element=\"171ef066-ad65-490d-b640-6636516f104d\")>,\n",
       " <selenium.webdriver.remote.webelement.WebElement (session=\"7584e28b053c64ff4786f89c28070d02\", element=\"fbb2c6fe-056c-47b7-9ba6-a1c705bd744c\")>,\n",
       " <selenium.webdriver.remote.webelement.WebElement (session=\"7584e28b053c64ff4786f89c28070d02\", element=\"992ec77e-9d1a-4c9d-b595-a54de74af739\")>,\n",
       " <selenium.webdriver.remote.webelement.WebElement (session=\"7584e28b053c64ff4786f89c28070d02\", element=\"c5d1523d-3e24-4164-818e-c79c3f0400b6\")>,\n",
       " <selenium.webdriver.remote.webelement.WebElement (session=\"7584e28b053c64ff4786f89c28070d02\", element=\"b702ae42-959d-41f8-94d5-d56e12f3f827\")>]"
      ]
     },
     "execution_count": 52,
     "metadata": {},
     "output_type": "execute_result"
    }
   ],
   "source": [
    "#let's extract all the tags having the product price\n",
    "price3=driver.find_elements_by_xpath(\"//div[@class='_30jeq3']\")\n",
    "price3[0:20]"
   ]
  },
  {
   "cell_type": "code",
   "execution_count": 53,
   "metadata": {},
   "outputs": [
    {
     "data": {
      "text/plain": [
       "['₹630',\n",
       " '₹569',\n",
       " '₹426',\n",
       " '₹1,288',\n",
       " '₹498',\n",
       " '₹359',\n",
       " '₹759',\n",
       " '₹448',\n",
       " '₹479',\n",
       " '₹217',\n",
       " '₹474',\n",
       " '₹521',\n",
       " '₹379',\n",
       " '₹799',\n",
       " '₹315',\n",
       " '₹521',\n",
       " '₹249',\n",
       " '₹498',\n",
       " '₹359',\n",
       " '₹1,678']"
      ]
     },
     "execution_count": 53,
     "metadata": {},
     "output_type": "execute_result"
    }
   ],
   "source": [
    "#Now extract the text inside the tags using a for loop to iterate over all the tags\n",
    "for i in price3:\n",
    "    prices=i.text\n",
    "    product_price3.append(prices)\n",
    "product_price3[0:20]"
   ]
  },
  {
   "cell_type": "code",
   "execution_count": 54,
   "metadata": {},
   "outputs": [
    {
     "data": {
      "text/plain": [
       "[<selenium.webdriver.remote.webelement.WebElement (session=\"7584e28b053c64ff4786f89c28070d02\", element=\"c454fb8e-2540-4b1a-aaf2-9db63fe6f354\")>,\n",
       " <selenium.webdriver.remote.webelement.WebElement (session=\"7584e28b053c64ff4786f89c28070d02\", element=\"6dff5caa-b77d-48fd-9c15-3c0e973c4fcc\")>,\n",
       " <selenium.webdriver.remote.webelement.WebElement (session=\"7584e28b053c64ff4786f89c28070d02\", element=\"48e92193-a3b8-42d6-b4b5-3d7372d254e5\")>,\n",
       " <selenium.webdriver.remote.webelement.WebElement (session=\"7584e28b053c64ff4786f89c28070d02\", element=\"eb288228-047c-4976-9847-5df3529517a4\")>,\n",
       " <selenium.webdriver.remote.webelement.WebElement (session=\"7584e28b053c64ff4786f89c28070d02\", element=\"eaa3048e-f06e-434c-ac91-5a6ed0572dd8\")>,\n",
       " <selenium.webdriver.remote.webelement.WebElement (session=\"7584e28b053c64ff4786f89c28070d02\", element=\"f1e79389-ddce-431e-ab65-48300bcdc862\")>,\n",
       " <selenium.webdriver.remote.webelement.WebElement (session=\"7584e28b053c64ff4786f89c28070d02\", element=\"fad86682-8337-4d84-8f2c-70636a5099ae\")>,\n",
       " <selenium.webdriver.remote.webelement.WebElement (session=\"7584e28b053c64ff4786f89c28070d02\", element=\"2f8762a3-2253-4d5d-9a13-71fe17d1ecf9\")>,\n",
       " <selenium.webdriver.remote.webelement.WebElement (session=\"7584e28b053c64ff4786f89c28070d02\", element=\"466971f4-fb25-4085-b4ad-b2d7428f2de0\")>,\n",
       " <selenium.webdriver.remote.webelement.WebElement (session=\"7584e28b053c64ff4786f89c28070d02\", element=\"17311e15-1252-438a-8609-44ff7dd398bd\")>,\n",
       " <selenium.webdriver.remote.webelement.WebElement (session=\"7584e28b053c64ff4786f89c28070d02\", element=\"4d571b6d-5624-4106-96f4-e452906a9111\")>,\n",
       " <selenium.webdriver.remote.webelement.WebElement (session=\"7584e28b053c64ff4786f89c28070d02\", element=\"c8891533-33bb-4134-baaf-07d3f7b835a3\")>,\n",
       " <selenium.webdriver.remote.webelement.WebElement (session=\"7584e28b053c64ff4786f89c28070d02\", element=\"7e6845c0-74da-427c-b271-1a03b37bf3e8\")>,\n",
       " <selenium.webdriver.remote.webelement.WebElement (session=\"7584e28b053c64ff4786f89c28070d02\", element=\"780350a5-487c-41f8-a988-3dd99de6bdea\")>,\n",
       " <selenium.webdriver.remote.webelement.WebElement (session=\"7584e28b053c64ff4786f89c28070d02\", element=\"388836ba-a3ea-4c48-997c-7f04628be294\")>,\n",
       " <selenium.webdriver.remote.webelement.WebElement (session=\"7584e28b053c64ff4786f89c28070d02\", element=\"651e2139-1980-45a3-8045-e7f25aeaa9e5\")>,\n",
       " <selenium.webdriver.remote.webelement.WebElement (session=\"7584e28b053c64ff4786f89c28070d02\", element=\"2681dedd-bb69-4716-85ea-af1666036e94\")>,\n",
       " <selenium.webdriver.remote.webelement.WebElement (session=\"7584e28b053c64ff4786f89c28070d02\", element=\"1f550501-550f-4780-9179-de5a529d2ddf\")>,\n",
       " <selenium.webdriver.remote.webelement.WebElement (session=\"7584e28b053c64ff4786f89c28070d02\", element=\"eaa407da-a8d5-4911-b7b5-21da923a4700\")>,\n",
       " <selenium.webdriver.remote.webelement.WebElement (session=\"7584e28b053c64ff4786f89c28070d02\", element=\"12a09e0e-3f8e-46a7-a785-d64a5a64f931\")>]"
      ]
     },
     "execution_count": 54,
     "metadata": {},
     "output_type": "execute_result"
    }
   ],
   "source": [
    "#let's extract all the tags having the discount percentage\n",
    "discount3=driver.find_elements_by_xpath(\"//div[@class='_3Ay6Sb']\")\n",
    "discount3[0:20]"
   ]
  },
  {
   "cell_type": "code",
   "execution_count": 55,
   "metadata": {},
   "outputs": [
    {
     "data": {
      "text/plain": [
       "['36% off',\n",
       " '5% off',\n",
       " '57% off',\n",
       " '70% off',\n",
       " '50% off',\n",
       " '64% off',\n",
       " '69% off',\n",
       " '55% off',\n",
       " '52% off',\n",
       " '56% off',\n",
       " '52% off',\n",
       " '47% off',\n",
       " '62% off',\n",
       " '80% off',\n",
       " '68% off',\n",
       " '47% off',\n",
       " '50% off',\n",
       " '75% off',\n",
       " '64% off',\n",
       " '70% off',\n",
       " '60% off',\n",
       " '50% off',\n",
       " '60% off',\n",
       " '59% off',\n",
       " '63% off',\n",
       " '60% off',\n",
       " '68% off',\n",
       " '60% off',\n",
       " '47% off',\n",
       " '12% off',\n",
       " '82% off',\n",
       " '13% off',\n",
       " '55% off',\n",
       " '70% off',\n",
       " '56% off',\n",
       " '60% off',\n",
       " '51% off',\n",
       " '62% off',\n",
       " '57% off',\n",
       " '70% off']"
      ]
     },
     "execution_count": 55,
     "metadata": {},
     "output_type": "execute_result"
    }
   ],
   "source": [
    "#Now extract the text inside the tags using a for loop to iterate over all the tags\n",
    "for i in discount3:\n",
    "    discounts=i.text\n",
    "    discount_perc3.append(discounts)\n",
    "discount_perc3[0:40]"
   ]
  },
  {
   "cell_type": "code",
   "execution_count": 56,
   "metadata": {},
   "outputs": [],
   "source": [
    "#Adding lists having same attribute type from all the 3 pages"
   ]
  },
  {
   "cell_type": "code",
   "execution_count": 57,
   "metadata": {},
   "outputs": [],
   "source": [
    "brand_name_final=brand_name+brand_name2+brand_name3"
   ]
  },
  {
   "cell_type": "code",
   "execution_count": 58,
   "metadata": {},
   "outputs": [],
   "source": [
    "product_description_final=product_description+product_description2+product_description3"
   ]
  },
  {
   "cell_type": "code",
   "execution_count": 59,
   "metadata": {},
   "outputs": [],
   "source": [
    "product_price_final=product_price+product_price2+product_price3"
   ]
  },
  {
   "cell_type": "code",
   "execution_count": 60,
   "metadata": {},
   "outputs": [],
   "source": [
    "discount_perc_final=discount_perc+discount_perc2+discount_perc3"
   ]
  },
  {
   "cell_type": "code",
   "execution_count": 61,
   "metadata": {},
   "outputs": [
    {
     "name": "stdout",
     "output_type": "stream",
     "text": [
      "120 95 120 119\n"
     ]
    }
   ],
   "source": [
    "print(len(brand_name_final),len(product_description_final),len(product_price_final),len(discount_perc_final))"
   ]
  },
  {
   "cell_type": "code",
   "execution_count": 63,
   "metadata": {},
   "outputs": [],
   "source": [
    "sneakersinfoflipkart=pd.DataFrame({})\n",
    "sneakersinfoflipkart['brand_name']=brand_name_final[0:95]\n",
    "sneakersinfoflipkart['product_description']=product_description_final[0:95]\n",
    "sneakersinfoflipkart['product_price']=product_price_final[0:95]\n",
    "sneakersinfoflipkart['discount_perc']=discount_perc_final[0:95]"
   ]
  },
  {
   "cell_type": "code",
   "execution_count": 64,
   "metadata": {},
   "outputs": [
    {
     "data": {
      "text/html": [
       "<div>\n",
       "<style scoped>\n",
       "    .dataframe tbody tr th:only-of-type {\n",
       "        vertical-align: middle;\n",
       "    }\n",
       "\n",
       "    .dataframe tbody tr th {\n",
       "        vertical-align: top;\n",
       "    }\n",
       "\n",
       "    .dataframe thead th {\n",
       "        text-align: right;\n",
       "    }\n",
       "</style>\n",
       "<table border=\"1\" class=\"dataframe\">\n",
       "  <thead>\n",
       "    <tr style=\"text-align: right;\">\n",
       "      <th></th>\n",
       "      <th>brand_name</th>\n",
       "      <th>product_description</th>\n",
       "      <th>product_price</th>\n",
       "      <th>discount_perc</th>\n",
       "    </tr>\n",
       "  </thead>\n",
       "  <tbody>\n",
       "    <tr>\n",
       "      <th>0</th>\n",
       "      <td>RICHERSON</td>\n",
       "      <td>Yellow multicolor casual sports shoes Sneakers...</td>\n",
       "      <td>₹479</td>\n",
       "      <td>52% off</td>\n",
       "    </tr>\n",
       "    <tr>\n",
       "      <th>1</th>\n",
       "      <td>SPAIN</td>\n",
       "      <td>Combo Pack of 4 Casual Sneakers With Sneakers ...</td>\n",
       "      <td>₹599</td>\n",
       "      <td>40% off</td>\n",
       "    </tr>\n",
       "    <tr>\n",
       "      <th>2</th>\n",
       "      <td>Chevit</td>\n",
       "      <td>Combo Pack of 4 Latest Collection Stylish Casu...</td>\n",
       "      <td>₹449</td>\n",
       "      <td>77% off</td>\n",
       "    </tr>\n",
       "    <tr>\n",
       "      <th>3</th>\n",
       "      <td>Robbie jones</td>\n",
       "      <td>White Sneaker For Men's/Boy's Sneakers For Men</td>\n",
       "      <td>₹379</td>\n",
       "      <td>62% off</td>\n",
       "    </tr>\n",
       "    <tr>\n",
       "      <th>4</th>\n",
       "      <td>World Wear Footwear</td>\n",
       "      <td>Combo pack of 2 casual sneaker shoes for men S...</td>\n",
       "      <td>₹474</td>\n",
       "      <td>76% off</td>\n",
       "    </tr>\n",
       "    <tr>\n",
       "      <th>...</th>\n",
       "      <td>...</td>\n",
       "      <td>...</td>\n",
       "      <td>...</td>\n",
       "      <td>...</td>\n",
       "    </tr>\n",
       "    <tr>\n",
       "      <th>90</th>\n",
       "      <td>STRANGER BROTHERS</td>\n",
       "      <td>Men's Ultraforce Mid-top Athletic-Inspired Ret...</td>\n",
       "      <td>₹474</td>\n",
       "      <td>47% off</td>\n",
       "    </tr>\n",
       "    <tr>\n",
       "      <th>91</th>\n",
       "      <td>bluemaker</td>\n",
       "      <td>Ontario IDP Sneakers For Men</td>\n",
       "      <td>₹521</td>\n",
       "      <td>62% off</td>\n",
       "    </tr>\n",
       "    <tr>\n",
       "      <th>92</th>\n",
       "      <td>Chevit</td>\n",
       "      <td>Combo Men Pack of 2 Loafers Shoes Sneakers For...</td>\n",
       "      <td>₹379</td>\n",
       "      <td>80% off</td>\n",
       "    </tr>\n",
       "    <tr>\n",
       "      <th>93</th>\n",
       "      <td>BRUTON</td>\n",
       "      <td>Sneakers For Men</td>\n",
       "      <td>₹799</td>\n",
       "      <td>68% off</td>\n",
       "    </tr>\n",
       "    <tr>\n",
       "      <th>94</th>\n",
       "      <td>TWIN TOES</td>\n",
       "      <td>Sneakers For Men</td>\n",
       "      <td>₹315</td>\n",
       "      <td>47% off</td>\n",
       "    </tr>\n",
       "  </tbody>\n",
       "</table>\n",
       "<p>95 rows × 4 columns</p>\n",
       "</div>"
      ],
      "text/plain": [
       "             brand_name                                product_description  \\\n",
       "0             RICHERSON  Yellow multicolor casual sports shoes Sneakers...   \n",
       "1                 SPAIN  Combo Pack of 4 Casual Sneakers With Sneakers ...   \n",
       "2                Chevit  Combo Pack of 4 Latest Collection Stylish Casu...   \n",
       "3          Robbie jones     White Sneaker For Men's/Boy's Sneakers For Men   \n",
       "4   World Wear Footwear  Combo pack of 2 casual sneaker shoes for men S...   \n",
       "..                  ...                                                ...   \n",
       "90    STRANGER BROTHERS  Men's Ultraforce Mid-top Athletic-Inspired Ret...   \n",
       "91            bluemaker                       Ontario IDP Sneakers For Men   \n",
       "92               Chevit  Combo Men Pack of 2 Loafers Shoes Sneakers For...   \n",
       "93               BRUTON                                   Sneakers For Men   \n",
       "94            TWIN TOES                                   Sneakers For Men   \n",
       "\n",
       "   product_price discount_perc  \n",
       "0           ₹479       52% off  \n",
       "1           ₹599       40% off  \n",
       "2           ₹449       77% off  \n",
       "3           ₹379       62% off  \n",
       "4           ₹474       76% off  \n",
       "..           ...           ...  \n",
       "90          ₹474       47% off  \n",
       "91          ₹521       62% off  \n",
       "92          ₹379       80% off  \n",
       "93          ₹799       68% off  \n",
       "94          ₹315       47% off  \n",
       "\n",
       "[95 rows x 4 columns]"
      ]
     },
     "execution_count": 64,
     "metadata": {},
     "output_type": "execute_result"
    }
   ],
   "source": [
    "sneakersinfoflipkart"
   ]
  },
  {
   "cell_type": "raw",
   "metadata": {},
   "source": []
  },
  {
   "cell_type": "raw",
   "metadata": {},
   "source": [
    "Q9: Go to the link - https://www.myntra.com/shoes"
   ]
  },
  {
   "cell_type": "raw",
   "metadata": {},
   "source": []
  },
  {
   "cell_type": "code",
   "execution_count": 68,
   "metadata": {},
   "outputs": [],
   "source": [
    "#let's connect to the webdriver\n",
    "driver = webdriver.Chrome(\"C:/Users/key/AppData/Roaming/Microsoft/Windows/Start Menu/Programs/chromedriver_win32/chromedriver.exe\")"
   ]
  },
  {
   "cell_type": "code",
   "execution_count": 69,
   "metadata": {},
   "outputs": [],
   "source": [
    "driver.get('https://www.myntra.com/shoes')"
   ]
  },
  {
   "cell_type": "code",
   "execution_count": 77,
   "metadata": {},
   "outputs": [],
   "source": [
    "price_checkbox=driver.find_element_by_xpath(\"//ul[@class='price-list']/li[2]\")\n",
    "price_checkbox.click()"
   ]
  },
  {
   "cell_type": "code",
   "execution_count": 76,
   "metadata": {},
   "outputs": [],
   "source": [
    "color_checkbox=driver.find_element_by_xpath(\"//span[@style='background-color: rgb(54, 69, 79);']\")\n",
    "color_checkbox.click()"
   ]
  },
  {
   "cell_type": "code",
   "execution_count": 78,
   "metadata": {},
   "outputs": [],
   "source": [
    "#creating the empty lists to which the final scraped data from page 1 will be stored\n",
    "brand_shoes=[]\n",
    "shoe_desc=[]\n",
    "price_shoe=[]"
   ]
  },
  {
   "cell_type": "code",
   "execution_count": 79,
   "metadata": {},
   "outputs": [
    {
     "data": {
      "text/plain": [
       "[<selenium.webdriver.remote.webelement.WebElement (session=\"35620010e30c1b9666cbcff008e175fe\", element=\"0973e658-db6d-42c5-a7b9-8df50eabeba7\")>,\n",
       " <selenium.webdriver.remote.webelement.WebElement (session=\"35620010e30c1b9666cbcff008e175fe\", element=\"79e7861d-a335-4309-b23e-5f229f4cd38c\")>,\n",
       " <selenium.webdriver.remote.webelement.WebElement (session=\"35620010e30c1b9666cbcff008e175fe\", element=\"36a73fc5-67b1-471a-9951-7e99c633ceab\")>,\n",
       " <selenium.webdriver.remote.webelement.WebElement (session=\"35620010e30c1b9666cbcff008e175fe\", element=\"d8c04707-3795-4dc3-a77a-96e86e1e14bf\")>,\n",
       " <selenium.webdriver.remote.webelement.WebElement (session=\"35620010e30c1b9666cbcff008e175fe\", element=\"279049ec-e6dc-4c63-ae75-8fe0f7736a95\")>,\n",
       " <selenium.webdriver.remote.webelement.WebElement (session=\"35620010e30c1b9666cbcff008e175fe\", element=\"5f3fdb53-fd1d-4483-820c-ae76c35d0c95\")>,\n",
       " <selenium.webdriver.remote.webelement.WebElement (session=\"35620010e30c1b9666cbcff008e175fe\", element=\"a0fd3ab1-6c5b-4938-bbcd-c46dddd84c45\")>,\n",
       " <selenium.webdriver.remote.webelement.WebElement (session=\"35620010e30c1b9666cbcff008e175fe\", element=\"40bc8735-cd1f-46ab-9bb5-f4e2c6fdfa4b\")>,\n",
       " <selenium.webdriver.remote.webelement.WebElement (session=\"35620010e30c1b9666cbcff008e175fe\", element=\"d366f526-57ee-4cf3-9571-a746941abdca\")>,\n",
       " <selenium.webdriver.remote.webelement.WebElement (session=\"35620010e30c1b9666cbcff008e175fe\", element=\"a159eac4-71c1-41d0-9baa-ed90668ecf96\")>,\n",
       " <selenium.webdriver.remote.webelement.WebElement (session=\"35620010e30c1b9666cbcff008e175fe\", element=\"25e2aa08-725c-4e84-8ee6-fefa571d7836\")>,\n",
       " <selenium.webdriver.remote.webelement.WebElement (session=\"35620010e30c1b9666cbcff008e175fe\", element=\"050d525c-d2f8-4ab8-a192-b1f0fd520cdf\")>,\n",
       " <selenium.webdriver.remote.webelement.WebElement (session=\"35620010e30c1b9666cbcff008e175fe\", element=\"3e0c37d8-e54f-433c-8f54-96c780aa4e94\")>,\n",
       " <selenium.webdriver.remote.webelement.WebElement (session=\"35620010e30c1b9666cbcff008e175fe\", element=\"3f7d83cc-19df-46c0-8162-f65ac44c5622\")>,\n",
       " <selenium.webdriver.remote.webelement.WebElement (session=\"35620010e30c1b9666cbcff008e175fe\", element=\"b9356ceb-60aa-4345-849c-623de143df8b\")>,\n",
       " <selenium.webdriver.remote.webelement.WebElement (session=\"35620010e30c1b9666cbcff008e175fe\", element=\"db18b7fd-15f3-45a4-9ea7-a13de5b82ddc\")>,\n",
       " <selenium.webdriver.remote.webelement.WebElement (session=\"35620010e30c1b9666cbcff008e175fe\", element=\"63ceeae2-264d-42b9-99d4-480e8fe47191\")>,\n",
       " <selenium.webdriver.remote.webelement.WebElement (session=\"35620010e30c1b9666cbcff008e175fe\", element=\"a6ed998a-f3da-4aa1-bd8b-f400ea2b1469\")>,\n",
       " <selenium.webdriver.remote.webelement.WebElement (session=\"35620010e30c1b9666cbcff008e175fe\", element=\"b9ca32ef-0d65-4682-a4e2-77d210b8f3b2\")>,\n",
       " <selenium.webdriver.remote.webelement.WebElement (session=\"35620010e30c1b9666cbcff008e175fe\", element=\"59e30f6d-110a-48d7-a7d2-78ca8023631b\")>,\n",
       " <selenium.webdriver.remote.webelement.WebElement (session=\"35620010e30c1b9666cbcff008e175fe\", element=\"34905bd0-dc7e-4257-b4d8-7ca4087d7dab\")>,\n",
       " <selenium.webdriver.remote.webelement.WebElement (session=\"35620010e30c1b9666cbcff008e175fe\", element=\"e22bab86-3916-453c-920d-0b1c4653a5ec\")>,\n",
       " <selenium.webdriver.remote.webelement.WebElement (session=\"35620010e30c1b9666cbcff008e175fe\", element=\"583eb728-e6ae-45cd-beae-06563780741a\")>,\n",
       " <selenium.webdriver.remote.webelement.WebElement (session=\"35620010e30c1b9666cbcff008e175fe\", element=\"a6d98c6e-e4eb-44f2-ba59-9f0f345bae39\")>,\n",
       " <selenium.webdriver.remote.webelement.WebElement (session=\"35620010e30c1b9666cbcff008e175fe\", element=\"62669f89-ef1a-4402-8978-4afbebfa903f\")>,\n",
       " <selenium.webdriver.remote.webelement.WebElement (session=\"35620010e30c1b9666cbcff008e175fe\", element=\"d448d285-98cc-43ae-bbe0-c12ca927e029\")>,\n",
       " <selenium.webdriver.remote.webelement.WebElement (session=\"35620010e30c1b9666cbcff008e175fe\", element=\"8ac1cb1c-8400-4b45-9f11-35fb1342c7fd\")>,\n",
       " <selenium.webdriver.remote.webelement.WebElement (session=\"35620010e30c1b9666cbcff008e175fe\", element=\"ef56d302-5621-4019-89a8-d5c853976539\")>,\n",
       " <selenium.webdriver.remote.webelement.WebElement (session=\"35620010e30c1b9666cbcff008e175fe\", element=\"d7907e17-fecb-4814-b3c8-57b992e173fc\")>,\n",
       " <selenium.webdriver.remote.webelement.WebElement (session=\"35620010e30c1b9666cbcff008e175fe\", element=\"1184d119-7b51-41d3-97d3-f68dfc8ff78a\")>,\n",
       " <selenium.webdriver.remote.webelement.WebElement (session=\"35620010e30c1b9666cbcff008e175fe\", element=\"4542c7cc-052f-4259-b179-97634d75888e\")>,\n",
       " <selenium.webdriver.remote.webelement.WebElement (session=\"35620010e30c1b9666cbcff008e175fe\", element=\"7ae144cc-1982-4f14-9d93-bfb73916f880\")>,\n",
       " <selenium.webdriver.remote.webelement.WebElement (session=\"35620010e30c1b9666cbcff008e175fe\", element=\"cf10b18d-b927-4b4c-b9a3-8f2b5dc98358\")>,\n",
       " <selenium.webdriver.remote.webelement.WebElement (session=\"35620010e30c1b9666cbcff008e175fe\", element=\"5651f7ae-d86e-4a41-90a3-8ac1af1e7f6a\")>,\n",
       " <selenium.webdriver.remote.webelement.WebElement (session=\"35620010e30c1b9666cbcff008e175fe\", element=\"773c4a32-85bf-4ee2-8d96-16459c0b94a6\")>,\n",
       " <selenium.webdriver.remote.webelement.WebElement (session=\"35620010e30c1b9666cbcff008e175fe\", element=\"a173ff8b-844c-40de-8777-40bf3988dc60\")>,\n",
       " <selenium.webdriver.remote.webelement.WebElement (session=\"35620010e30c1b9666cbcff008e175fe\", element=\"14a0d235-8421-4807-ab81-0815593979e5\")>,\n",
       " <selenium.webdriver.remote.webelement.WebElement (session=\"35620010e30c1b9666cbcff008e175fe\", element=\"4e885fbf-e0db-4f81-bef1-6a42f9919e50\")>,\n",
       " <selenium.webdriver.remote.webelement.WebElement (session=\"35620010e30c1b9666cbcff008e175fe\", element=\"31654e7b-95ac-4971-baa2-3fa3e3659b15\")>,\n",
       " <selenium.webdriver.remote.webelement.WebElement (session=\"35620010e30c1b9666cbcff008e175fe\", element=\"5ef10dbf-011e-4e92-a9e6-6aecc447d96f\")>,\n",
       " <selenium.webdriver.remote.webelement.WebElement (session=\"35620010e30c1b9666cbcff008e175fe\", element=\"e4cb6d59-c96b-4b14-b68b-eedcad6ca7f3\")>,\n",
       " <selenium.webdriver.remote.webelement.WebElement (session=\"35620010e30c1b9666cbcff008e175fe\", element=\"1d3f759f-7791-4f2c-b9f5-ed845dcb40c3\")>,\n",
       " <selenium.webdriver.remote.webelement.WebElement (session=\"35620010e30c1b9666cbcff008e175fe\", element=\"6131ac1b-eee7-4d37-8c1f-24182d2c7811\")>,\n",
       " <selenium.webdriver.remote.webelement.WebElement (session=\"35620010e30c1b9666cbcff008e175fe\", element=\"0633340f-f2a3-4514-80dc-6392ef790997\")>,\n",
       " <selenium.webdriver.remote.webelement.WebElement (session=\"35620010e30c1b9666cbcff008e175fe\", element=\"88966144-87a9-473c-b552-c5e840e5dd8e\")>,\n",
       " <selenium.webdriver.remote.webelement.WebElement (session=\"35620010e30c1b9666cbcff008e175fe\", element=\"a8538118-6477-42d5-937d-26f2cd5eccef\")>,\n",
       " <selenium.webdriver.remote.webelement.WebElement (session=\"35620010e30c1b9666cbcff008e175fe\", element=\"e532944c-1ca3-4ecc-a879-eda2a5f3e279\")>,\n",
       " <selenium.webdriver.remote.webelement.WebElement (session=\"35620010e30c1b9666cbcff008e175fe\", element=\"6ee33e65-666b-41e4-98b0-79dfd1b35dd5\")>,\n",
       " <selenium.webdriver.remote.webelement.WebElement (session=\"35620010e30c1b9666cbcff008e175fe\", element=\"b1ed45f4-3e61-4111-92c6-16ad8cad2b89\")>,\n",
       " <selenium.webdriver.remote.webelement.WebElement (session=\"35620010e30c1b9666cbcff008e175fe\", element=\"5858f900-928b-485a-89cb-ab25f8a48a41\")>]"
      ]
     },
     "execution_count": 79,
     "metadata": {},
     "output_type": "execute_result"
    }
   ],
   "source": [
    "#let's extract all the tags having the brand name\n",
    "brand=driver.find_elements_by_xpath(\"//h3[@class='product-brand']\")\n",
    "brand[0:50]"
   ]
  },
  {
   "cell_type": "code",
   "execution_count": 80,
   "metadata": {},
   "outputs": [
    {
     "data": {
      "text/plain": [
       "['ADIDAS Originals',\n",
       " 'Puma',\n",
       " 'ADIDAS',\n",
       " 'Nike',\n",
       " 'Nike',\n",
       " 'Nike',\n",
       " 'Nike',\n",
       " 'ADIDAS Originals',\n",
       " 'Nike',\n",
       " 'Nike',\n",
       " 'Nike',\n",
       " 'Hush Puppies',\n",
       " 'Nike',\n",
       " 'Nike',\n",
       " 'Geox',\n",
       " 'ADIDAS Originals',\n",
       " 'Cole Haan',\n",
       " 'Hush Puppies',\n",
       " 'Puma',\n",
       " 'Hush Puppies',\n",
       " 'Geox',\n",
       " 'ADIDAS Originals',\n",
       " 'Nike',\n",
       " 'Hush Puppies',\n",
       " 'ADIDAS',\n",
       " 'Puma',\n",
       " 'ADIDAS',\n",
       " 'Cole Haan',\n",
       " 'Hush Puppies',\n",
       " 'Geox',\n",
       " 'UNDER ARMOUR',\n",
       " 'Geox',\n",
       " 'Nike',\n",
       " 'Geox',\n",
       " 'Cole Haan',\n",
       " 'UNDER ARMOUR',\n",
       " 'Geox',\n",
       " 'Nike',\n",
       " 'Cole Haan',\n",
       " 'Hush Puppies',\n",
       " 'Geox',\n",
       " 'Nike',\n",
       " 'Cole Haan',\n",
       " 'Nike',\n",
       " 'Cole Haan',\n",
       " 'Heel & Buckle London',\n",
       " 'Kenneth Cole',\n",
       " 'Puma',\n",
       " 'UNDER ARMOUR',\n",
       " 'ADIDAS Originals']"
      ]
     },
     "execution_count": 80,
     "metadata": {},
     "output_type": "execute_result"
    }
   ],
   "source": [
    "#Now extract the text inside the tags using a for loop to iterate over all the tags\n",
    "for i in brand:\n",
    "    brands=i.text\n",
    "    brand_shoes.append(brands)\n",
    "brand_shoes"
   ]
  },
  {
   "cell_type": "code",
   "execution_count": 81,
   "metadata": {},
   "outputs": [
    {
     "data": {
      "text/plain": [
       "[<selenium.webdriver.remote.webelement.WebElement (session=\"35620010e30c1b9666cbcff008e175fe\", element=\"475d94e7-ce0b-4550-8693-5f49ccfdbada\")>,\n",
       " <selenium.webdriver.remote.webelement.WebElement (session=\"35620010e30c1b9666cbcff008e175fe\", element=\"d0186fd5-f748-4540-94a0-ed11e000676f\")>,\n",
       " <selenium.webdriver.remote.webelement.WebElement (session=\"35620010e30c1b9666cbcff008e175fe\", element=\"506e914d-96ae-44ab-8592-959ae68cb477\")>,\n",
       " <selenium.webdriver.remote.webelement.WebElement (session=\"35620010e30c1b9666cbcff008e175fe\", element=\"ad97c639-164f-44e6-9bcb-7931ca32a3e2\")>,\n",
       " <selenium.webdriver.remote.webelement.WebElement (session=\"35620010e30c1b9666cbcff008e175fe\", element=\"ea0ed3db-9e06-4de0-bce2-742ea10b1b0c\")>,\n",
       " <selenium.webdriver.remote.webelement.WebElement (session=\"35620010e30c1b9666cbcff008e175fe\", element=\"26db80d9-0056-4aeb-8478-dc18b09817bc\")>,\n",
       " <selenium.webdriver.remote.webelement.WebElement (session=\"35620010e30c1b9666cbcff008e175fe\", element=\"2c28e8ac-4f61-4a73-8624-02553e4ec141\")>,\n",
       " <selenium.webdriver.remote.webelement.WebElement (session=\"35620010e30c1b9666cbcff008e175fe\", element=\"a9be6832-0765-4670-9801-4a377d0a74fb\")>,\n",
       " <selenium.webdriver.remote.webelement.WebElement (session=\"35620010e30c1b9666cbcff008e175fe\", element=\"45cd5955-eda3-4855-9a3b-19a64b6f17b7\")>,\n",
       " <selenium.webdriver.remote.webelement.WebElement (session=\"35620010e30c1b9666cbcff008e175fe\", element=\"56c79fc5-1e10-4d30-bc74-6b31debf1d2e\")>,\n",
       " <selenium.webdriver.remote.webelement.WebElement (session=\"35620010e30c1b9666cbcff008e175fe\", element=\"208344c2-8bf5-4cd9-b6ae-45ba0c916dff\")>,\n",
       " <selenium.webdriver.remote.webelement.WebElement (session=\"35620010e30c1b9666cbcff008e175fe\", element=\"88a4fa82-b007-42e1-b5d4-6f78e49be740\")>,\n",
       " <selenium.webdriver.remote.webelement.WebElement (session=\"35620010e30c1b9666cbcff008e175fe\", element=\"5a62217a-6d73-458d-bd88-3d93b7d3bf32\")>,\n",
       " <selenium.webdriver.remote.webelement.WebElement (session=\"35620010e30c1b9666cbcff008e175fe\", element=\"4d549a25-1032-437b-9f11-a86a64fd011e\")>,\n",
       " <selenium.webdriver.remote.webelement.WebElement (session=\"35620010e30c1b9666cbcff008e175fe\", element=\"66c96ea5-0657-4023-8b95-4ec4aa17ea3c\")>,\n",
       " <selenium.webdriver.remote.webelement.WebElement (session=\"35620010e30c1b9666cbcff008e175fe\", element=\"a9733d86-0186-41be-8611-08cdb288841b\")>,\n",
       " <selenium.webdriver.remote.webelement.WebElement (session=\"35620010e30c1b9666cbcff008e175fe\", element=\"a3ef3b60-c010-403c-8408-15493de0c94f\")>,\n",
       " <selenium.webdriver.remote.webelement.WebElement (session=\"35620010e30c1b9666cbcff008e175fe\", element=\"7c39bb3a-7128-48c5-bbe6-677c57cc008e\")>,\n",
       " <selenium.webdriver.remote.webelement.WebElement (session=\"35620010e30c1b9666cbcff008e175fe\", element=\"36bd825b-3de6-4f88-99fc-5d6c67a2b957\")>,\n",
       " <selenium.webdriver.remote.webelement.WebElement (session=\"35620010e30c1b9666cbcff008e175fe\", element=\"ebc1600b-430c-4f9b-a6bd-00204b4c9090\")>,\n",
       " <selenium.webdriver.remote.webelement.WebElement (session=\"35620010e30c1b9666cbcff008e175fe\", element=\"65f0571b-450c-4cd8-8574-73a96722ad40\")>,\n",
       " <selenium.webdriver.remote.webelement.WebElement (session=\"35620010e30c1b9666cbcff008e175fe\", element=\"1feab7a8-3a25-4f8f-8af8-6b90a50c9fd1\")>,\n",
       " <selenium.webdriver.remote.webelement.WebElement (session=\"35620010e30c1b9666cbcff008e175fe\", element=\"9b9c15ef-a0b3-4fc6-b5b5-84ea628248dd\")>,\n",
       " <selenium.webdriver.remote.webelement.WebElement (session=\"35620010e30c1b9666cbcff008e175fe\", element=\"b5a22f0e-757f-40ce-88f8-cb3461692f29\")>,\n",
       " <selenium.webdriver.remote.webelement.WebElement (session=\"35620010e30c1b9666cbcff008e175fe\", element=\"e1a54e0c-acf3-42bc-9306-be2355480147\")>,\n",
       " <selenium.webdriver.remote.webelement.WebElement (session=\"35620010e30c1b9666cbcff008e175fe\", element=\"657f21e7-7f55-489a-b0a9-a785b9a65d14\")>,\n",
       " <selenium.webdriver.remote.webelement.WebElement (session=\"35620010e30c1b9666cbcff008e175fe\", element=\"eb28b73e-b286-41fa-9432-deea2d2b945a\")>,\n",
       " <selenium.webdriver.remote.webelement.WebElement (session=\"35620010e30c1b9666cbcff008e175fe\", element=\"adec5010-b961-4911-a056-d6c066409ad5\")>,\n",
       " <selenium.webdriver.remote.webelement.WebElement (session=\"35620010e30c1b9666cbcff008e175fe\", element=\"71ac5a5f-01a0-4dae-b05d-0a7b61b22914\")>,\n",
       " <selenium.webdriver.remote.webelement.WebElement (session=\"35620010e30c1b9666cbcff008e175fe\", element=\"d31921d2-8675-47a3-8769-6f91d20995fc\")>,\n",
       " <selenium.webdriver.remote.webelement.WebElement (session=\"35620010e30c1b9666cbcff008e175fe\", element=\"1bf52412-dabb-4543-8dea-b1c7aecadc53\")>,\n",
       " <selenium.webdriver.remote.webelement.WebElement (session=\"35620010e30c1b9666cbcff008e175fe\", element=\"876238d7-6dd1-485e-9e5b-11889cae3bdf\")>,\n",
       " <selenium.webdriver.remote.webelement.WebElement (session=\"35620010e30c1b9666cbcff008e175fe\", element=\"d3f51586-7719-404a-8854-e07736d39e3f\")>,\n",
       " <selenium.webdriver.remote.webelement.WebElement (session=\"35620010e30c1b9666cbcff008e175fe\", element=\"93b70ab3-99f7-41bd-aa33-2430d171bef5\")>,\n",
       " <selenium.webdriver.remote.webelement.WebElement (session=\"35620010e30c1b9666cbcff008e175fe\", element=\"a1469fd6-e77d-4aa8-95c9-bc6727a51e68\")>,\n",
       " <selenium.webdriver.remote.webelement.WebElement (session=\"35620010e30c1b9666cbcff008e175fe\", element=\"3b241fa2-bc89-4456-94cd-599ec9246870\")>,\n",
       " <selenium.webdriver.remote.webelement.WebElement (session=\"35620010e30c1b9666cbcff008e175fe\", element=\"3dd09070-1099-409a-897a-dbebc8400c53\")>,\n",
       " <selenium.webdriver.remote.webelement.WebElement (session=\"35620010e30c1b9666cbcff008e175fe\", element=\"47e14bd3-1166-470f-8e92-ee854705a51f\")>,\n",
       " <selenium.webdriver.remote.webelement.WebElement (session=\"35620010e30c1b9666cbcff008e175fe\", element=\"9ddd4fcd-f11d-4be2-a858-37d074c9a78c\")>,\n",
       " <selenium.webdriver.remote.webelement.WebElement (session=\"35620010e30c1b9666cbcff008e175fe\", element=\"5e854dad-e73c-496b-86cc-8c124eb757de\")>,\n",
       " <selenium.webdriver.remote.webelement.WebElement (session=\"35620010e30c1b9666cbcff008e175fe\", element=\"81a81b7d-3401-4f04-a526-ad3f33254e79\")>,\n",
       " <selenium.webdriver.remote.webelement.WebElement (session=\"35620010e30c1b9666cbcff008e175fe\", element=\"e4cb8246-d919-4a59-93bd-645b36e68df6\")>,\n",
       " <selenium.webdriver.remote.webelement.WebElement (session=\"35620010e30c1b9666cbcff008e175fe\", element=\"7921bbd8-e686-44e6-8974-5bd6b5d72011\")>,\n",
       " <selenium.webdriver.remote.webelement.WebElement (session=\"35620010e30c1b9666cbcff008e175fe\", element=\"70077a18-dbe1-4862-ada0-fbc1903220b7\")>,\n",
       " <selenium.webdriver.remote.webelement.WebElement (session=\"35620010e30c1b9666cbcff008e175fe\", element=\"f7334dc6-b470-41db-bcf0-1fc64790f7c2\")>,\n",
       " <selenium.webdriver.remote.webelement.WebElement (session=\"35620010e30c1b9666cbcff008e175fe\", element=\"0d9a9bdf-1087-4e49-a80b-4b6d4a9aa0c5\")>,\n",
       " <selenium.webdriver.remote.webelement.WebElement (session=\"35620010e30c1b9666cbcff008e175fe\", element=\"68cedc8c-dbea-4597-8965-0ae890b76663\")>,\n",
       " <selenium.webdriver.remote.webelement.WebElement (session=\"35620010e30c1b9666cbcff008e175fe\", element=\"88cbfd7d-12f7-4488-bfd7-669999d68d29\")>,\n",
       " <selenium.webdriver.remote.webelement.WebElement (session=\"35620010e30c1b9666cbcff008e175fe\", element=\"0e5f235b-0dc1-4a84-b909-de39e1f0684e\")>,\n",
       " <selenium.webdriver.remote.webelement.WebElement (session=\"35620010e30c1b9666cbcff008e175fe\", element=\"e83e0c4a-5ead-427c-9f81-ab0c41506741\")>]"
      ]
     },
     "execution_count": 81,
     "metadata": {},
     "output_type": "execute_result"
    }
   ],
   "source": [
    "#let's extract all the tags having the product description\n",
    "description=driver.find_elements_by_xpath(\"//h4[@class='product-product']\")\n",
    "description[0:50]"
   ]
  },
  {
   "cell_type": "code",
   "execution_count": 86,
   "metadata": {},
   "outputs": [
    {
     "data": {
      "text/plain": [
       "['Men NITE JOGGER Sneakers',\n",
       " 'Men HYBRID NETFIT Running Shoe',\n",
       " 'Men SOLAR DRIVE 19 M Running',\n",
       " 'Men AIR ZOOM VOMERO Running',\n",
       " 'Men JORDAN DELTA Basketball',\n",
       " 'Men JOYRIDE Running Shoes',\n",
       " 'AIR ZOOM PEGASUS Running Shoes',\n",
       " 'Men Nite Jogger Fluid Sneakers',\n",
       " 'Men React Infinity Running',\n",
       " 'Men AIR MAX 90 Sneakers',\n",
       " 'Women PEGASUS 37 Running Shoes',\n",
       " 'Men Solid Leather Formal Slip-Ons',\n",
       " 'Men AIR MAX EXCEE Sneakers',\n",
       " 'Women AIR ZOOM Running Shoes',\n",
       " 'Men Leather Driving Shoes',\n",
       " 'Men Superstar Sneakers',\n",
       " 'Women Leather Sneakers',\n",
       " 'Men Colourblocked Driving Shoes',\n",
       " 'Men SPEED 500 2 Running Shoes',\n",
       " 'Men Leather Slip-On Sneakers',\n",
       " 'Men Leather Formal Derbys',\n",
       " 'Men Superstar Vegan Sneakers',\n",
       " 'Men AIR ZOOM Running Shoes',\n",
       " 'Men Solid Leather Formal Slip-Ons',\n",
       " 'Women SL20 W Running Shoes',\n",
       " 'Women Zone XT Running Shoes',\n",
       " 'Men ALPHATORSION Running Shoes',\n",
       " 'Men GENERATION ZEROGRAND STITCHLITE',\n",
       " 'Men Solid Slip-On Sneakers',\n",
       " 'Men Leather Driving Shoes',\n",
       " 'HOVR Guardian 2 Sports Shoes',\n",
       " 'Men Leather Sneakers',\n",
       " 'Women REACT Running Shoes',\n",
       " 'Men Solid Leather Sneakers',\n",
       " 'Men Solid Sneakers',\n",
       " 'Men HOVR Strt Walking Shoes',\n",
       " 'Men Leather Formal Oxfords',\n",
       " 'Women AIR MAX VERONA Sneakers',\n",
       " 'Leather Sneakers',\n",
       " 'Men Leather Slip-On Sneakers',\n",
       " 'Men Leather Formal Oxfords',\n",
       " 'Men JORDAN DELTA Sneakers',\n",
       " 'Men Traveller Leather Penny Loafers',\n",
       " 'Men AIR MAX VG-R Sneakers',\n",
       " 'Men Wingtip Oxford Sneakers',\n",
       " 'Men Leather Formal Oxfords',\n",
       " 'Women Solid Flat Boots',\n",
       " 'Men Running Shoes',\n",
       " 'HOVR Sonic 3 Running Shoes',\n",
       " 'Women Swift Run Sneakers']"
      ]
     },
     "execution_count": 86,
     "metadata": {},
     "output_type": "execute_result"
    }
   ],
   "source": [
    "#Now extract the text inside the tags using a for loop to iterate over all the tags\n",
    "for i in description:\n",
    "    descriptions=i.text\n",
    "    shoe_desc.append(descriptions)\n",
    "shoe_desc[0:50]"
   ]
  },
  {
   "cell_type": "code",
   "execution_count": 83,
   "metadata": {},
   "outputs": [
    {
     "data": {
      "text/plain": [
       "[<selenium.webdriver.remote.webelement.WebElement (session=\"35620010e30c1b9666cbcff008e175fe\", element=\"457d3c8e-5e14-40d5-b1d5-8c9724674289\")>,\n",
       " <selenium.webdriver.remote.webelement.WebElement (session=\"35620010e30c1b9666cbcff008e175fe\", element=\"b09bd321-77c0-41e1-a2d5-fa0e4d7c4ffa\")>,\n",
       " <selenium.webdriver.remote.webelement.WebElement (session=\"35620010e30c1b9666cbcff008e175fe\", element=\"4f2a9809-eaf2-4fff-ad3d-05f37f3d4391\")>,\n",
       " <selenium.webdriver.remote.webelement.WebElement (session=\"35620010e30c1b9666cbcff008e175fe\", element=\"60f2278e-9e42-4f05-89c4-38c8c5914242\")>,\n",
       " <selenium.webdriver.remote.webelement.WebElement (session=\"35620010e30c1b9666cbcff008e175fe\", element=\"3f2c4c39-3d8a-44aa-b30c-b6fa3d0ed194\")>,\n",
       " <selenium.webdriver.remote.webelement.WebElement (session=\"35620010e30c1b9666cbcff008e175fe\", element=\"14766edf-9727-45dd-8168-507e79e7f6ac\")>,\n",
       " <selenium.webdriver.remote.webelement.WebElement (session=\"35620010e30c1b9666cbcff008e175fe\", element=\"17591f9d-d753-46a4-8ace-3fcc15b07102\")>,\n",
       " <selenium.webdriver.remote.webelement.WebElement (session=\"35620010e30c1b9666cbcff008e175fe\", element=\"0bf7e84f-a952-4550-bfcf-23c0f7d10d9d\")>,\n",
       " <selenium.webdriver.remote.webelement.WebElement (session=\"35620010e30c1b9666cbcff008e175fe\", element=\"0f715290-f2ee-441b-94ba-7669bcf85c11\")>,\n",
       " <selenium.webdriver.remote.webelement.WebElement (session=\"35620010e30c1b9666cbcff008e175fe\", element=\"20f2c882-eafb-42f4-9c8d-13b526635bcb\")>,\n",
       " <selenium.webdriver.remote.webelement.WebElement (session=\"35620010e30c1b9666cbcff008e175fe\", element=\"5820b34c-b089-44a9-9b1a-98713456ec88\")>,\n",
       " <selenium.webdriver.remote.webelement.WebElement (session=\"35620010e30c1b9666cbcff008e175fe\", element=\"259f94e8-10b0-4ec4-926c-f8b22fcf51cd\")>,\n",
       " <selenium.webdriver.remote.webelement.WebElement (session=\"35620010e30c1b9666cbcff008e175fe\", element=\"1ae3296c-9450-404f-a846-d964248de33f\")>,\n",
       " <selenium.webdriver.remote.webelement.WebElement (session=\"35620010e30c1b9666cbcff008e175fe\", element=\"deec3985-84b0-48bd-958f-a7a9c5a52274\")>,\n",
       " <selenium.webdriver.remote.webelement.WebElement (session=\"35620010e30c1b9666cbcff008e175fe\", element=\"f466a570-9284-4974-9b8c-49222ca2f2d3\")>,\n",
       " <selenium.webdriver.remote.webelement.WebElement (session=\"35620010e30c1b9666cbcff008e175fe\", element=\"40b148cc-6a88-43e6-a116-14c7fc9a5152\")>,\n",
       " <selenium.webdriver.remote.webelement.WebElement (session=\"35620010e30c1b9666cbcff008e175fe\", element=\"b81d656c-40eb-4ccd-bb50-2943d78f17cb\")>,\n",
       " <selenium.webdriver.remote.webelement.WebElement (session=\"35620010e30c1b9666cbcff008e175fe\", element=\"88b141b5-6ed9-40b2-b91e-779103f2fd2e\")>,\n",
       " <selenium.webdriver.remote.webelement.WebElement (session=\"35620010e30c1b9666cbcff008e175fe\", element=\"39572a78-a894-46f0-8f18-343f6143a4c0\")>,\n",
       " <selenium.webdriver.remote.webelement.WebElement (session=\"35620010e30c1b9666cbcff008e175fe\", element=\"ff354b5e-6f8c-4d59-95d5-31178f5cf3d2\")>,\n",
       " <selenium.webdriver.remote.webelement.WebElement (session=\"35620010e30c1b9666cbcff008e175fe\", element=\"a4470599-02fc-48ff-ba28-55df105192a3\")>,\n",
       " <selenium.webdriver.remote.webelement.WebElement (session=\"35620010e30c1b9666cbcff008e175fe\", element=\"ba68f8d7-72e4-479b-8314-35878ccf53ce\")>,\n",
       " <selenium.webdriver.remote.webelement.WebElement (session=\"35620010e30c1b9666cbcff008e175fe\", element=\"b8cf407c-f04f-4d2d-b7c0-3d34dfb0a9ce\")>,\n",
       " <selenium.webdriver.remote.webelement.WebElement (session=\"35620010e30c1b9666cbcff008e175fe\", element=\"720a3466-eca3-40c1-9c34-b2d5df657c0a\")>,\n",
       " <selenium.webdriver.remote.webelement.WebElement (session=\"35620010e30c1b9666cbcff008e175fe\", element=\"f354301d-9320-40b0-9efc-ad5736fc1906\")>,\n",
       " <selenium.webdriver.remote.webelement.WebElement (session=\"35620010e30c1b9666cbcff008e175fe\", element=\"a787b5a2-f775-46ef-a6bf-d033e42a5de0\")>,\n",
       " <selenium.webdriver.remote.webelement.WebElement (session=\"35620010e30c1b9666cbcff008e175fe\", element=\"bb3d3eb5-2c33-4884-872d-81dee4cd8987\")>,\n",
       " <selenium.webdriver.remote.webelement.WebElement (session=\"35620010e30c1b9666cbcff008e175fe\", element=\"32791dd8-afe6-43a8-9e6e-48766735233a\")>]"
      ]
     },
     "execution_count": 83,
     "metadata": {},
     "output_type": "execute_result"
    }
   ],
   "source": [
    "#let's extract all the tags having the product price\n",
    "price=driver.find_elements_by_xpath(\"//span[@class='product-discountedPrice']\")\n",
    "price[0:50]"
   ]
  },
  {
   "cell_type": "code",
   "execution_count": 85,
   "metadata": {},
   "outputs": [
    {
     "data": {
      "text/plain": [
       "['Rs. 11199',\n",
       " 'Rs. 6599',\n",
       " 'Rs. 8399',\n",
       " 'Rs. 10796',\n",
       " 'Rs. 11996',\n",
       " 'Rs. 8621',\n",
       " 'Rs. 10399',\n",
       " 'Rs. 11931',\n",
       " 'Rs. 7927',\n",
       " 'Rs. 7996',\n",
       " 'Rs. 6635',\n",
       " 'Rs. 7996',\n",
       " 'Rs. 8799',\n",
       " 'Rs. 7999',\n",
       " 'Rs. 6799',\n",
       " 'Rs. 8236',\n",
       " 'Rs. 6819',\n",
       " 'Rs. 7499',\n",
       " 'Rs. 9236',\n",
       " 'Rs. 7199',\n",
       " 'Rs. 8499',\n",
       " 'Rs. 7996',\n",
       " 'Rs. 8796',\n",
       " 'Rs. 9999',\n",
       " 'Rs. 6801',\n",
       " 'Rs. 7693',\n",
       " 'Rs. 9513',\n",
       " 'Rs. 6749',\n",
       " 'Rs. 11199',\n",
       " 'Rs. 6599',\n",
       " 'Rs. 8399',\n",
       " 'Rs. 10796',\n",
       " 'Rs. 11996',\n",
       " 'Rs. 8621',\n",
       " 'Rs. 10399',\n",
       " 'Rs. 11931',\n",
       " 'Rs. 7927',\n",
       " 'Rs. 7996',\n",
       " 'Rs. 6635',\n",
       " 'Rs. 7996',\n",
       " 'Rs. 8799',\n",
       " 'Rs. 7999',\n",
       " 'Rs. 6799',\n",
       " 'Rs. 8236',\n",
       " 'Rs. 6819',\n",
       " 'Rs. 7499',\n",
       " 'Rs. 9236',\n",
       " 'Rs. 7199',\n",
       " 'Rs. 8499',\n",
       " 'Rs. 7996']"
      ]
     },
     "execution_count": 85,
     "metadata": {},
     "output_type": "execute_result"
    }
   ],
   "source": [
    "#Now extract the text inside the tags using a for loop to iterate over all the tags\n",
    "for i in price:\n",
    "    prices=i.text\n",
    "    price_shoe.append(prices)\n",
    "price_shoe[0:50]"
   ]
  },
  {
   "cell_type": "code",
   "execution_count": 87,
   "metadata": {},
   "outputs": [],
   "source": [
    "#scraping the elements of the next page(page2)\n",
    "driver.find_element_by_xpath(\"//ul[@class='pagination-container']/li[3]\").click()"
   ]
  },
  {
   "cell_type": "code",
   "execution_count": 88,
   "metadata": {},
   "outputs": [],
   "source": [
    "#creating the empty lists to which the final scraped data from page 2 will be stored\n",
    "brand_shoes2=[]\n",
    "shoe_desc2=[]\n",
    "price_shoe2=[]"
   ]
  },
  {
   "cell_type": "code",
   "execution_count": 90,
   "metadata": {},
   "outputs": [
    {
     "data": {
      "text/plain": [
       "[<selenium.webdriver.remote.webelement.WebElement (session=\"35620010e30c1b9666cbcff008e175fe\", element=\"b1ed45f4-3e61-4111-92c6-16ad8cad2b89\")>,\n",
       " <selenium.webdriver.remote.webelement.WebElement (session=\"35620010e30c1b9666cbcff008e175fe\", element=\"79f6c327-e6e3-4ae8-a69d-fe71e23a6161\")>,\n",
       " <selenium.webdriver.remote.webelement.WebElement (session=\"35620010e30c1b9666cbcff008e175fe\", element=\"ac65f2f0-1bdb-4575-84fe-58716f51241b\")>,\n",
       " <selenium.webdriver.remote.webelement.WebElement (session=\"35620010e30c1b9666cbcff008e175fe\", element=\"5858f900-928b-485a-89cb-ab25f8a48a41\")>,\n",
       " <selenium.webdriver.remote.webelement.WebElement (session=\"35620010e30c1b9666cbcff008e175fe\", element=\"28085ad2-a8a6-4a29-bbe6-f0bd7047a22a\")>,\n",
       " <selenium.webdriver.remote.webelement.WebElement (session=\"35620010e30c1b9666cbcff008e175fe\", element=\"ba37c770-221b-46cb-96f5-291df5db762e\")>,\n",
       " <selenium.webdriver.remote.webelement.WebElement (session=\"35620010e30c1b9666cbcff008e175fe\", element=\"3fd4439f-2bda-430d-9dfe-1ff5c2dde028\")>,\n",
       " <selenium.webdriver.remote.webelement.WebElement (session=\"35620010e30c1b9666cbcff008e175fe\", element=\"1880c535-32d7-4a41-a872-4fa792dd8201\")>,\n",
       " <selenium.webdriver.remote.webelement.WebElement (session=\"35620010e30c1b9666cbcff008e175fe\", element=\"ec42efd4-233d-49d1-a5e3-c1e1eed30e33\")>,\n",
       " <selenium.webdriver.remote.webelement.WebElement (session=\"35620010e30c1b9666cbcff008e175fe\", element=\"4b54f4df-bff7-4fab-b317-13e1575399fb\")>,\n",
       " <selenium.webdriver.remote.webelement.WebElement (session=\"35620010e30c1b9666cbcff008e175fe\", element=\"77056c9c-b5be-447a-bd64-5b91c984c482\")>,\n",
       " <selenium.webdriver.remote.webelement.WebElement (session=\"35620010e30c1b9666cbcff008e175fe\", element=\"b39b344a-3c69-450e-8e2d-9825768dca55\")>,\n",
       " <selenium.webdriver.remote.webelement.WebElement (session=\"35620010e30c1b9666cbcff008e175fe\", element=\"5ee1f00c-eeb4-4ce1-aa8b-5f9a8cc10240\")>,\n",
       " <selenium.webdriver.remote.webelement.WebElement (session=\"35620010e30c1b9666cbcff008e175fe\", element=\"fafdb34d-2979-482c-aa51-dbdfb32648f6\")>,\n",
       " <selenium.webdriver.remote.webelement.WebElement (session=\"35620010e30c1b9666cbcff008e175fe\", element=\"926eff7f-949f-4918-8d4b-3e4459783c4c\")>,\n",
       " <selenium.webdriver.remote.webelement.WebElement (session=\"35620010e30c1b9666cbcff008e175fe\", element=\"cbe8666d-df2b-4166-8f87-e12037cb7168\")>,\n",
       " <selenium.webdriver.remote.webelement.WebElement (session=\"35620010e30c1b9666cbcff008e175fe\", element=\"d1624cc4-a801-4a5e-907d-68e612a902ed\")>,\n",
       " <selenium.webdriver.remote.webelement.WebElement (session=\"35620010e30c1b9666cbcff008e175fe\", element=\"3b036d43-bb82-441f-a4e8-de59f9c5d570\")>,\n",
       " <selenium.webdriver.remote.webelement.WebElement (session=\"35620010e30c1b9666cbcff008e175fe\", element=\"65cbe772-8c8b-47a0-a8f5-3a299e7ff20e\")>,\n",
       " <selenium.webdriver.remote.webelement.WebElement (session=\"35620010e30c1b9666cbcff008e175fe\", element=\"9323c842-280c-4ac9-b79a-9f06cea0f4f5\")>,\n",
       " <selenium.webdriver.remote.webelement.WebElement (session=\"35620010e30c1b9666cbcff008e175fe\", element=\"951313ea-cc95-4b76-a434-2e47eadee773\")>,\n",
       " <selenium.webdriver.remote.webelement.WebElement (session=\"35620010e30c1b9666cbcff008e175fe\", element=\"0dc6ccd5-938e-4916-ba56-8d60918ca776\")>,\n",
       " <selenium.webdriver.remote.webelement.WebElement (session=\"35620010e30c1b9666cbcff008e175fe\", element=\"8ce48e73-fe98-4212-a804-db632fe011c0\")>,\n",
       " <selenium.webdriver.remote.webelement.WebElement (session=\"35620010e30c1b9666cbcff008e175fe\", element=\"52f1222c-b53f-4ad1-9e1b-c9f16346fbcc\")>,\n",
       " <selenium.webdriver.remote.webelement.WebElement (session=\"35620010e30c1b9666cbcff008e175fe\", element=\"80a4895f-cfc8-4cb9-b200-176079910cff\")>,\n",
       " <selenium.webdriver.remote.webelement.WebElement (session=\"35620010e30c1b9666cbcff008e175fe\", element=\"ab599a59-92ca-4a74-98a2-a94451a8ccb1\")>,\n",
       " <selenium.webdriver.remote.webelement.WebElement (session=\"35620010e30c1b9666cbcff008e175fe\", element=\"15528b3c-bbb9-4db7-a681-b3f534233929\")>,\n",
       " <selenium.webdriver.remote.webelement.WebElement (session=\"35620010e30c1b9666cbcff008e175fe\", element=\"9e98d6d6-10da-43ba-a8ef-8170d02895df\")>,\n",
       " <selenium.webdriver.remote.webelement.WebElement (session=\"35620010e30c1b9666cbcff008e175fe\", element=\"2f495089-9ae4-4d74-a9c8-8ca2974340ce\")>,\n",
       " <selenium.webdriver.remote.webelement.WebElement (session=\"35620010e30c1b9666cbcff008e175fe\", element=\"12fbf0ce-c206-4aca-8970-e7df5634a6e3\")>,\n",
       " <selenium.webdriver.remote.webelement.WebElement (session=\"35620010e30c1b9666cbcff008e175fe\", element=\"7f0429c4-9805-4791-b827-f74b8f52b853\")>,\n",
       " <selenium.webdriver.remote.webelement.WebElement (session=\"35620010e30c1b9666cbcff008e175fe\", element=\"e94ed127-50a4-45cc-8d60-bb248e87c283\")>,\n",
       " <selenium.webdriver.remote.webelement.WebElement (session=\"35620010e30c1b9666cbcff008e175fe\", element=\"0824e089-ef29-42cb-8886-639a30830ab4\")>,\n",
       " <selenium.webdriver.remote.webelement.WebElement (session=\"35620010e30c1b9666cbcff008e175fe\", element=\"08465dae-5da2-46b7-883c-5a98f11836b5\")>,\n",
       " <selenium.webdriver.remote.webelement.WebElement (session=\"35620010e30c1b9666cbcff008e175fe\", element=\"df42c7ec-f467-431c-8d3c-d33e535954ee\")>,\n",
       " <selenium.webdriver.remote.webelement.WebElement (session=\"35620010e30c1b9666cbcff008e175fe\", element=\"c28b5f46-d75c-400d-87b0-f3517ebe58c7\")>,\n",
       " <selenium.webdriver.remote.webelement.WebElement (session=\"35620010e30c1b9666cbcff008e175fe\", element=\"f5091630-0d1c-478b-b98f-ee1059d0a014\")>,\n",
       " <selenium.webdriver.remote.webelement.WebElement (session=\"35620010e30c1b9666cbcff008e175fe\", element=\"b6762f6e-518b-4973-8b38-7f5748260591\")>,\n",
       " <selenium.webdriver.remote.webelement.WebElement (session=\"35620010e30c1b9666cbcff008e175fe\", element=\"c1d7ed6e-8552-49fd-a682-ecc171eb6af2\")>,\n",
       " <selenium.webdriver.remote.webelement.WebElement (session=\"35620010e30c1b9666cbcff008e175fe\", element=\"318fe0a4-c9a6-4ae2-8ca4-94593b46fc96\")>,\n",
       " <selenium.webdriver.remote.webelement.WebElement (session=\"35620010e30c1b9666cbcff008e175fe\", element=\"9e33f779-67b8-42a4-966d-9a4ee59ae80d\")>,\n",
       " <selenium.webdriver.remote.webelement.WebElement (session=\"35620010e30c1b9666cbcff008e175fe\", element=\"3c4064fc-cf16-46de-acdb-e3642c7e6aa0\")>,\n",
       " <selenium.webdriver.remote.webelement.WebElement (session=\"35620010e30c1b9666cbcff008e175fe\", element=\"2c2385a3-590a-45ed-87aa-f6660f1d1fe3\")>,\n",
       " <selenium.webdriver.remote.webelement.WebElement (session=\"35620010e30c1b9666cbcff008e175fe\", element=\"0cf1265b-baeb-417e-9d9e-ce394059ac27\")>,\n",
       " <selenium.webdriver.remote.webelement.WebElement (session=\"35620010e30c1b9666cbcff008e175fe\", element=\"ac6a8dce-16bc-4760-8004-940b9f512adf\")>,\n",
       " <selenium.webdriver.remote.webelement.WebElement (session=\"35620010e30c1b9666cbcff008e175fe\", element=\"546740bf-da9f-41ef-aa26-55504b942670\")>,\n",
       " <selenium.webdriver.remote.webelement.WebElement (session=\"35620010e30c1b9666cbcff008e175fe\", element=\"895b2174-2fd6-425d-9cba-0a0906674bcc\")>,\n",
       " <selenium.webdriver.remote.webelement.WebElement (session=\"35620010e30c1b9666cbcff008e175fe\", element=\"788d9453-27ea-4507-9cc3-28d0df91ca51\")>,\n",
       " <selenium.webdriver.remote.webelement.WebElement (session=\"35620010e30c1b9666cbcff008e175fe\", element=\"dddd8d9e-8cba-4ca9-86df-cf8fe229cec3\")>,\n",
       " <selenium.webdriver.remote.webelement.WebElement (session=\"35620010e30c1b9666cbcff008e175fe\", element=\"96ea977c-da1c-4ced-a644-6f7de62f6338\")>]"
      ]
     },
     "execution_count": 90,
     "metadata": {},
     "output_type": "execute_result"
    }
   ],
   "source": [
    "#let's extract all the tags having the brand name\n",
    "brand2=driver.find_elements_by_xpath(\"//h3[@class='product-brand']\")\n",
    "brand2[0:50]"
   ]
  },
  {
   "cell_type": "code",
   "execution_count": 91,
   "metadata": {},
   "outputs": [
    {
     "data": {
      "text/plain": [
       "['UNDER ARMOUR',\n",
       " 'Puma',\n",
       " 'ADIDAS',\n",
       " 'ADIDAS Originals',\n",
       " 'Reebok',\n",
       " 'ADIDAS Originals',\n",
       " 'Hush Puppies',\n",
       " 'Cole Haan',\n",
       " 'ADIDAS Originals',\n",
       " 'Geox',\n",
       " 'ADIDAS Originals',\n",
       " 'UNDER ARMOUR',\n",
       " 'UNDER ARMOUR',\n",
       " 'Puma',\n",
       " 'Heel & Buckle London',\n",
       " 'Nike',\n",
       " 'Kenneth Cole',\n",
       " 'Xtep',\n",
       " 'Geox',\n",
       " 'Cole Haan',\n",
       " 'Ruosh',\n",
       " 'Hush Puppies',\n",
       " 'Ruosh',\n",
       " 'Saint G',\n",
       " 'Reebok',\n",
       " 'UNDER ARMOUR',\n",
       " 'UNDER ARMOUR',\n",
       " 'Reebok',\n",
       " 'Ruosh',\n",
       " 'UNDER ARMOUR',\n",
       " 'UNDER ARMOUR',\n",
       " 'FILA',\n",
       " 'UNDER ARMOUR',\n",
       " 'UNDER ARMOUR',\n",
       " 'Puma',\n",
       " 'J.FONTINI',\n",
       " 'UNDER ARMOUR',\n",
       " 'Hush Puppies',\n",
       " 'UNDER ARMOUR',\n",
       " 'Nike',\n",
       " 'Ruosh',\n",
       " 'Heel & Buckle London',\n",
       " 'Clarks',\n",
       " 'Hush Puppies',\n",
       " 'UNDER ARMOUR',\n",
       " 'Ruosh',\n",
       " 'FILA',\n",
       " 'Ruosh',\n",
       " 'UNDER ARMOUR',\n",
       " 'UNDER ARMOUR']"
      ]
     },
     "execution_count": 91,
     "metadata": {},
     "output_type": "execute_result"
    }
   ],
   "source": [
    "#Now extract the text inside the tags using a for loop to iterate over all the tags\n",
    "for i in brand2:\n",
    "    brands=i.text\n",
    "    brand_shoes2.append(brands)\n",
    "brand_shoes2"
   ]
  },
  {
   "cell_type": "code",
   "execution_count": 92,
   "metadata": {},
   "outputs": [
    {
     "data": {
      "text/plain": [
       "[<selenium.webdriver.remote.webelement.WebElement (session=\"35620010e30c1b9666cbcff008e175fe\", element=\"0e5f235b-0dc1-4a84-b909-de39e1f0684e\")>,\n",
       " <selenium.webdriver.remote.webelement.WebElement (session=\"35620010e30c1b9666cbcff008e175fe\", element=\"b9eb9c7b-70ea-4df1-8d5c-8c77a9a079e9\")>,\n",
       " <selenium.webdriver.remote.webelement.WebElement (session=\"35620010e30c1b9666cbcff008e175fe\", element=\"212e0239-7d0a-44dc-a646-6c41aa92cf97\")>,\n",
       " <selenium.webdriver.remote.webelement.WebElement (session=\"35620010e30c1b9666cbcff008e175fe\", element=\"e83e0c4a-5ead-427c-9f81-ab0c41506741\")>,\n",
       " <selenium.webdriver.remote.webelement.WebElement (session=\"35620010e30c1b9666cbcff008e175fe\", element=\"c027a19d-04b0-4f82-9eb1-99be6347ca5d\")>,\n",
       " <selenium.webdriver.remote.webelement.WebElement (session=\"35620010e30c1b9666cbcff008e175fe\", element=\"c9560bab-9f49-460a-9dba-0cbed7e4022a\")>,\n",
       " <selenium.webdriver.remote.webelement.WebElement (session=\"35620010e30c1b9666cbcff008e175fe\", element=\"6839c9f0-e2fd-4593-ae41-4334ad3d38fb\")>,\n",
       " <selenium.webdriver.remote.webelement.WebElement (session=\"35620010e30c1b9666cbcff008e175fe\", element=\"a9293ae2-81fd-4bee-a890-0b3fcb67f57e\")>,\n",
       " <selenium.webdriver.remote.webelement.WebElement (session=\"35620010e30c1b9666cbcff008e175fe\", element=\"3dae5b17-8fb1-4996-98c3-07092d0fea5b\")>,\n",
       " <selenium.webdriver.remote.webelement.WebElement (session=\"35620010e30c1b9666cbcff008e175fe\", element=\"85eb4344-b7e3-4fa6-8a58-587bbe09caae\")>,\n",
       " <selenium.webdriver.remote.webelement.WebElement (session=\"35620010e30c1b9666cbcff008e175fe\", element=\"b67e2a37-39ed-440d-b6bf-cf0f2d2a8b7f\")>,\n",
       " <selenium.webdriver.remote.webelement.WebElement (session=\"35620010e30c1b9666cbcff008e175fe\", element=\"99ed81ac-02db-4f3c-95b2-d401db48c745\")>,\n",
       " <selenium.webdriver.remote.webelement.WebElement (session=\"35620010e30c1b9666cbcff008e175fe\", element=\"1ca9b613-c9c1-493b-9d65-d6e7b98e8a35\")>,\n",
       " <selenium.webdriver.remote.webelement.WebElement (session=\"35620010e30c1b9666cbcff008e175fe\", element=\"02653ee4-6cf2-4f53-96be-abc8c9c9141e\")>,\n",
       " <selenium.webdriver.remote.webelement.WebElement (session=\"35620010e30c1b9666cbcff008e175fe\", element=\"8d800a3b-677d-46dc-b99c-54097f27a33e\")>,\n",
       " <selenium.webdriver.remote.webelement.WebElement (session=\"35620010e30c1b9666cbcff008e175fe\", element=\"4537ca3b-128d-4c5a-9345-b4673a1189bd\")>,\n",
       " <selenium.webdriver.remote.webelement.WebElement (session=\"35620010e30c1b9666cbcff008e175fe\", element=\"caa05ef9-9379-4233-9a51-00eb7a1d30b4\")>,\n",
       " <selenium.webdriver.remote.webelement.WebElement (session=\"35620010e30c1b9666cbcff008e175fe\", element=\"7abc89e4-2040-4c23-9312-4e61e70ca698\")>,\n",
       " <selenium.webdriver.remote.webelement.WebElement (session=\"35620010e30c1b9666cbcff008e175fe\", element=\"feb3280e-5864-4435-a465-59d7493d007d\")>,\n",
       " <selenium.webdriver.remote.webelement.WebElement (session=\"35620010e30c1b9666cbcff008e175fe\", element=\"e1beb621-89d6-434f-b7e7-702ecd87b56a\")>,\n",
       " <selenium.webdriver.remote.webelement.WebElement (session=\"35620010e30c1b9666cbcff008e175fe\", element=\"915c4b8d-85bf-422c-b093-c9a67a5fa0c6\")>,\n",
       " <selenium.webdriver.remote.webelement.WebElement (session=\"35620010e30c1b9666cbcff008e175fe\", element=\"be57655b-51c3-4ffe-beac-86d5464aecff\")>,\n",
       " <selenium.webdriver.remote.webelement.WebElement (session=\"35620010e30c1b9666cbcff008e175fe\", element=\"9b122d86-3474-49d4-bf3e-f685dc7cb859\")>,\n",
       " <selenium.webdriver.remote.webelement.WebElement (session=\"35620010e30c1b9666cbcff008e175fe\", element=\"a880272b-1d81-4058-9905-4ee669345506\")>,\n",
       " <selenium.webdriver.remote.webelement.WebElement (session=\"35620010e30c1b9666cbcff008e175fe\", element=\"a818bf08-fd70-47d7-ba2b-a8ffe9726366\")>,\n",
       " <selenium.webdriver.remote.webelement.WebElement (session=\"35620010e30c1b9666cbcff008e175fe\", element=\"41ecce77-ee19-48c6-aacf-ba584fcbee2b\")>,\n",
       " <selenium.webdriver.remote.webelement.WebElement (session=\"35620010e30c1b9666cbcff008e175fe\", element=\"c587ddcf-ad5e-48b0-baec-f02b76139077\")>,\n",
       " <selenium.webdriver.remote.webelement.WebElement (session=\"35620010e30c1b9666cbcff008e175fe\", element=\"bd4cdf16-26a1-40f7-b257-b61796767d24\")>,\n",
       " <selenium.webdriver.remote.webelement.WebElement (session=\"35620010e30c1b9666cbcff008e175fe\", element=\"9de75009-d10d-4dd2-917b-bc69dc379c06\")>,\n",
       " <selenium.webdriver.remote.webelement.WebElement (session=\"35620010e30c1b9666cbcff008e175fe\", element=\"3c979a45-3ed7-4156-9db3-34d00e85bf1e\")>,\n",
       " <selenium.webdriver.remote.webelement.WebElement (session=\"35620010e30c1b9666cbcff008e175fe\", element=\"9f7d67de-8df0-4078-b051-71a762dd3421\")>,\n",
       " <selenium.webdriver.remote.webelement.WebElement (session=\"35620010e30c1b9666cbcff008e175fe\", element=\"2117e8c8-0276-4e91-83bc-be985a635a97\")>,\n",
       " <selenium.webdriver.remote.webelement.WebElement (session=\"35620010e30c1b9666cbcff008e175fe\", element=\"08f1c121-cd69-4b97-9378-f54963860a9e\")>,\n",
       " <selenium.webdriver.remote.webelement.WebElement (session=\"35620010e30c1b9666cbcff008e175fe\", element=\"82603d1e-33eb-42f7-bf17-db5f3f116f1e\")>,\n",
       " <selenium.webdriver.remote.webelement.WebElement (session=\"35620010e30c1b9666cbcff008e175fe\", element=\"164c7d86-1adc-4a86-87b6-2a5f4623704d\")>,\n",
       " <selenium.webdriver.remote.webelement.WebElement (session=\"35620010e30c1b9666cbcff008e175fe\", element=\"a47a25eb-6645-4bbe-b54c-22d6f42e1462\")>,\n",
       " <selenium.webdriver.remote.webelement.WebElement (session=\"35620010e30c1b9666cbcff008e175fe\", element=\"5718cede-85d5-4281-bc5c-f647c0080941\")>,\n",
       " <selenium.webdriver.remote.webelement.WebElement (session=\"35620010e30c1b9666cbcff008e175fe\", element=\"146fe9bd-405d-471b-a15c-d4cc09e2f242\")>,\n",
       " <selenium.webdriver.remote.webelement.WebElement (session=\"35620010e30c1b9666cbcff008e175fe\", element=\"c5d92f33-c136-413a-98dc-7effa8f86361\")>,\n",
       " <selenium.webdriver.remote.webelement.WebElement (session=\"35620010e30c1b9666cbcff008e175fe\", element=\"31ec44d6-281c-415a-b2f8-63944cc017da\")>,\n",
       " <selenium.webdriver.remote.webelement.WebElement (session=\"35620010e30c1b9666cbcff008e175fe\", element=\"7fff93ed-1e78-4965-9f31-ef0d43010606\")>,\n",
       " <selenium.webdriver.remote.webelement.WebElement (session=\"35620010e30c1b9666cbcff008e175fe\", element=\"66b56201-c53b-4e27-a9b2-9e37eb332b76\")>,\n",
       " <selenium.webdriver.remote.webelement.WebElement (session=\"35620010e30c1b9666cbcff008e175fe\", element=\"bb22104a-c716-41cb-815b-a3acd534548b\")>,\n",
       " <selenium.webdriver.remote.webelement.WebElement (session=\"35620010e30c1b9666cbcff008e175fe\", element=\"ea1cb21a-c48d-46c8-9861-8eca0088d701\")>,\n",
       " <selenium.webdriver.remote.webelement.WebElement (session=\"35620010e30c1b9666cbcff008e175fe\", element=\"2463abde-9897-4775-a234-a5b8175ba5f7\")>,\n",
       " <selenium.webdriver.remote.webelement.WebElement (session=\"35620010e30c1b9666cbcff008e175fe\", element=\"2e25da38-99ad-4ad5-bf51-0f3b7a0e7280\")>,\n",
       " <selenium.webdriver.remote.webelement.WebElement (session=\"35620010e30c1b9666cbcff008e175fe\", element=\"e4a9f87a-929d-4615-9b16-e2c0c62beb30\")>,\n",
       " <selenium.webdriver.remote.webelement.WebElement (session=\"35620010e30c1b9666cbcff008e175fe\", element=\"5dbdd970-a924-4b77-aeea-5aafbab13274\")>,\n",
       " <selenium.webdriver.remote.webelement.WebElement (session=\"35620010e30c1b9666cbcff008e175fe\", element=\"799878d8-d6ad-4191-96bc-769964cf4a13\")>,\n",
       " <selenium.webdriver.remote.webelement.WebElement (session=\"35620010e30c1b9666cbcff008e175fe\", element=\"27b8ab72-3a99-4b39-93d3-2b7d7877d3f2\")>]"
      ]
     },
     "execution_count": 92,
     "metadata": {},
     "output_type": "execute_result"
    }
   ],
   "source": [
    "#let's extract all the tags having the product description\n",
    "description2=driver.find_elements_by_xpath(\"//h4[@class='product-product']\")\n",
    "description2[0:50]"
   ]
  },
  {
   "cell_type": "code",
   "execution_count": 93,
   "metadata": {},
   "outputs": [
    {
     "data": {
      "text/plain": [
       "['HOVR Sonic 3 Running Shoes',\n",
       " 'SPEED Orbiter Running Shoes',\n",
       " 'Men Gametalker Basketball',\n",
       " 'Women Swift Run Sneakers',\n",
       " 'Forever Floatride Energy 2',\n",
       " 'Women DEERUPT Runner Sneakers',\n",
       " 'Men Textured Oxfords',\n",
       " 'Women Open Toe Flats',\n",
       " 'Women Sleek Super Sneakers',\n",
       " 'Leather Mid-Top Chelsea Boots',\n",
       " 'Men YUNG-1 Sneakers',\n",
       " 'Men HOVR Sonic 3 Running Shoes',\n",
       " 'Men Liquify Running Shoes',\n",
       " 'Men Running Shoes',\n",
       " 'Women Leather Pumps',\n",
       " 'Men KD13 EP Basketball Shoes',\n",
       " 'Men Formal Derbys',\n",
       " 'Men Running Shoes',\n",
       " 'Women Solid Leather Flats',\n",
       " 'Women Woven Design Sneakers',\n",
       " 'Men Formal Brogues',\n",
       " 'Men Leather Loafers',\n",
       " 'Men Solid Leather Formal Monks',\n",
       " 'Women Leather Heeled Boots',\n",
       " 'Women Flexagon Training Shoes',\n",
       " 'Charged Impulse Running Shoes',\n",
       " 'HOVR Sonic 3 Running Shoes',\n",
       " 'Women LIQUIFECT 180 LS Running',\n",
       " 'Men Textured Derbys',\n",
       " 'Women Charged Breathe TR 2',\n",
       " 'Women Liquify Rebel Running',\n",
       " 'Men Solid Sneakers',\n",
       " 'Charged Impulse Running Shoes',\n",
       " 'Women TriBase Reign 2 Training',\n",
       " 'Unisex Sneakers',\n",
       " 'Men Textured Leather Loafers',\n",
       " 'Women HOVR Rise 2 Training',\n",
       " 'Men Solid Leather Formal Derbys',\n",
       " 'Men HOVR CTW Sneakers',\n",
       " 'Women AIR ZOOM Running Shoes',\n",
       " 'Men Formal Leather Brogues',\n",
       " 'Men Solid Leather Formal Monk Shoes',\n",
       " 'Men Leather Formal Loafers',\n",
       " 'Men Solid Leather Formal Slip-Ons',\n",
       " 'Men HOVR STRT Sportstyle Shoes',\n",
       " 'Men Leather Slip-On Shoes',\n",
       " 'Men Running Shoes',\n",
       " 'Men Solid Leather Formal Slip-Ons',\n",
       " 'Charged Rogue 2 Wide 2E Shoes',\n",
       " 'Men Charged Escape 3 Evo']"
      ]
     },
     "execution_count": 93,
     "metadata": {},
     "output_type": "execute_result"
    }
   ],
   "source": [
    "#Now extract the text inside the tags using a for loop to iterate over all the tags\n",
    "for i in description2:\n",
    "    descriptions=i.text\n",
    "    shoe_desc2.append(descriptions)\n",
    "shoe_desc2[0:50]"
   ]
  },
  {
   "cell_type": "code",
   "execution_count": 96,
   "metadata": {},
   "outputs": [
    {
     "data": {
      "text/plain": [
       "[<selenium.webdriver.remote.webelement.WebElement (session=\"35620010e30c1b9666cbcff008e175fe\", element=\"441ab793-1b0f-4be5-b17c-93e52a71729b\")>,\n",
       " <selenium.webdriver.remote.webelement.WebElement (session=\"35620010e30c1b9666cbcff008e175fe\", element=\"51d97d23-5eae-43e0-9c00-eaff1a01d884\")>,\n",
       " <selenium.webdriver.remote.webelement.WebElement (session=\"35620010e30c1b9666cbcff008e175fe\", element=\"a1520224-cc4e-4492-bbf5-76568e873258\")>,\n",
       " <selenium.webdriver.remote.webelement.WebElement (session=\"35620010e30c1b9666cbcff008e175fe\", element=\"84bd8fa8-acac-467d-8f23-fe8c06743bc1\")>,\n",
       " <selenium.webdriver.remote.webelement.WebElement (session=\"35620010e30c1b9666cbcff008e175fe\", element=\"8e4488da-f26c-473a-a2cd-5fabce2ea3a7\")>,\n",
       " <selenium.webdriver.remote.webelement.WebElement (session=\"35620010e30c1b9666cbcff008e175fe\", element=\"63b5bfca-7520-4044-9f82-56ccde6d39ec\")>,\n",
       " <selenium.webdriver.remote.webelement.WebElement (session=\"35620010e30c1b9666cbcff008e175fe\", element=\"fed1ffbf-7100-48d3-85ab-a9f59965386d\")>,\n",
       " <selenium.webdriver.remote.webelement.WebElement (session=\"35620010e30c1b9666cbcff008e175fe\", element=\"c9b886d2-596c-4d25-a8e7-82e0164b91eb\")>,\n",
       " <selenium.webdriver.remote.webelement.WebElement (session=\"35620010e30c1b9666cbcff008e175fe\", element=\"bdbcd139-dbd3-4f2c-9ac7-8a8567e17c9c\")>,\n",
       " <selenium.webdriver.remote.webelement.WebElement (session=\"35620010e30c1b9666cbcff008e175fe\", element=\"74e1be8f-2ebc-481e-92e2-bc5fe660aa1d\")>,\n",
       " <selenium.webdriver.remote.webelement.WebElement (session=\"35620010e30c1b9666cbcff008e175fe\", element=\"6eb45485-0a9d-495f-9513-f86eab658725\")>,\n",
       " <selenium.webdriver.remote.webelement.WebElement (session=\"35620010e30c1b9666cbcff008e175fe\", element=\"db12e36b-3411-4b22-b236-de2eb04f7ed9\")>]"
      ]
     },
     "execution_count": 96,
     "metadata": {},
     "output_type": "execute_result"
    }
   ],
   "source": [
    "#let's extract all the tags having the product price\n",
    "price2=driver.find_elements_by_xpath(\"//span[@class='product-discountedPrice']\")\n",
    "price2[0:50]"
   ]
  },
  {
   "cell_type": "code",
   "execution_count": 97,
   "metadata": {},
   "outputs": [
    {
     "data": {
      "text/plain": [
       "['Rs. 9749',\n",
       " 'Rs. 7199',\n",
       " 'Rs. 6819',\n",
       " 'Rs. 10399',\n",
       " 'Rs. 7192',\n",
       " 'Rs. 9746',\n",
       " 'Rs. 7413',\n",
       " 'Rs. 9349',\n",
       " 'Rs. 7499',\n",
       " 'Rs. 7499',\n",
       " 'Rs. 8499',\n",
       " 'Rs. 7400',\n",
       " 'Rs. 9749',\n",
       " 'Rs. 7199',\n",
       " 'Rs. 6819',\n",
       " 'Rs. 10399',\n",
       " 'Rs. 7192',\n",
       " 'Rs. 9746',\n",
       " 'Rs. 7413',\n",
       " 'Rs. 9349',\n",
       " 'Rs. 7499',\n",
       " 'Rs. 7499',\n",
       " 'Rs. 8499',\n",
       " 'Rs. 7400']"
      ]
     },
     "execution_count": 97,
     "metadata": {},
     "output_type": "execute_result"
    }
   ],
   "source": [
    "#Now extract the text inside the tags using a for loop to iterate over all the tags\n",
    "for i in price2:\n",
    "    prices=i.text\n",
    "    price_shoe2.append(prices)\n",
    "price_shoe2[0:50]"
   ]
  },
  {
   "cell_type": "code",
   "execution_count": 98,
   "metadata": {},
   "outputs": [],
   "source": [
    "#Adding lists having same attribute type from the 2 pages"
   ]
  },
  {
   "cell_type": "code",
   "execution_count": 100,
   "metadata": {},
   "outputs": [],
   "source": [
    "brand_shoes_final=brand_shoes+brand_shoes2"
   ]
  },
  {
   "cell_type": "code",
   "execution_count": 101,
   "metadata": {},
   "outputs": [],
   "source": [
    "shoe_desc_final=shoe_desc+shoe_desc2"
   ]
  },
  {
   "cell_type": "code",
   "execution_count": 102,
   "metadata": {},
   "outputs": [],
   "source": [
    "price_shoe_final=price_shoe+price_shoe2"
   ]
  },
  {
   "cell_type": "code",
   "execution_count": 103,
   "metadata": {},
   "outputs": [
    {
     "name": "stdout",
     "output_type": "stream",
     "text": [
      "100 150 80\n"
     ]
    }
   ],
   "source": [
    "print(len(brand_shoes_final),len(shoe_desc_final),len(price_shoe_final))"
   ]
  },
  {
   "cell_type": "code",
   "execution_count": 104,
   "metadata": {},
   "outputs": [],
   "source": [
    "shoeinfomyntra=pd.DataFrame({})\n",
    "shoeinfomyntra['iphone11_rating']=brand_shoes_final[0:80]\n",
    "shoeinfomyntra['review_summary']=shoe_desc_final[0:80]\n",
    "shoeinfomyntra['review_full']=price_shoe_final[0:80]"
   ]
  },
  {
   "cell_type": "code",
   "execution_count": 105,
   "metadata": {},
   "outputs": [
    {
     "data": {
      "text/html": [
       "<div>\n",
       "<style scoped>\n",
       "    .dataframe tbody tr th:only-of-type {\n",
       "        vertical-align: middle;\n",
       "    }\n",
       "\n",
       "    .dataframe tbody tr th {\n",
       "        vertical-align: top;\n",
       "    }\n",
       "\n",
       "    .dataframe thead th {\n",
       "        text-align: right;\n",
       "    }\n",
       "</style>\n",
       "<table border=\"1\" class=\"dataframe\">\n",
       "  <thead>\n",
       "    <tr style=\"text-align: right;\">\n",
       "      <th></th>\n",
       "      <th>iphone11_rating</th>\n",
       "      <th>review_summary</th>\n",
       "      <th>review_full</th>\n",
       "    </tr>\n",
       "  </thead>\n",
       "  <tbody>\n",
       "    <tr>\n",
       "      <th>0</th>\n",
       "      <td>ADIDAS Originals</td>\n",
       "      <td>Men NITE JOGGER Sneakers</td>\n",
       "      <td>Rs. 11199</td>\n",
       "    </tr>\n",
       "    <tr>\n",
       "      <th>1</th>\n",
       "      <td>Puma</td>\n",
       "      <td>Men HYBRID NETFIT Running Shoe</td>\n",
       "      <td>Rs. 6599</td>\n",
       "    </tr>\n",
       "    <tr>\n",
       "      <th>2</th>\n",
       "      <td>ADIDAS</td>\n",
       "      <td>Men SOLAR DRIVE 19 M Running</td>\n",
       "      <td>Rs. 8399</td>\n",
       "    </tr>\n",
       "    <tr>\n",
       "      <th>3</th>\n",
       "      <td>Nike</td>\n",
       "      <td>Men AIR ZOOM VOMERO Running</td>\n",
       "      <td>Rs. 10796</td>\n",
       "    </tr>\n",
       "    <tr>\n",
       "      <th>4</th>\n",
       "      <td>Nike</td>\n",
       "      <td>Men JORDAN DELTA Basketball</td>\n",
       "      <td>Rs. 11996</td>\n",
       "    </tr>\n",
       "    <tr>\n",
       "      <th>...</th>\n",
       "      <td>...</td>\n",
       "      <td>...</td>\n",
       "      <td>...</td>\n",
       "    </tr>\n",
       "    <tr>\n",
       "      <th>75</th>\n",
       "      <td>UNDER ARMOUR</td>\n",
       "      <td>Women Zone XT Running Shoes</td>\n",
       "      <td>Rs. 9349</td>\n",
       "    </tr>\n",
       "    <tr>\n",
       "      <th>76</th>\n",
       "      <td>UNDER ARMOUR</td>\n",
       "      <td>Men ALPHATORSION Running Shoes</td>\n",
       "      <td>Rs. 7499</td>\n",
       "    </tr>\n",
       "    <tr>\n",
       "      <th>77</th>\n",
       "      <td>Reebok</td>\n",
       "      <td>Men GENERATION ZEROGRAND STITCHLITE</td>\n",
       "      <td>Rs. 7499</td>\n",
       "    </tr>\n",
       "    <tr>\n",
       "      <th>78</th>\n",
       "      <td>Ruosh</td>\n",
       "      <td>Men Solid Slip-On Sneakers</td>\n",
       "      <td>Rs. 8499</td>\n",
       "    </tr>\n",
       "    <tr>\n",
       "      <th>79</th>\n",
       "      <td>UNDER ARMOUR</td>\n",
       "      <td>Men Leather Driving Shoes</td>\n",
       "      <td>Rs. 7400</td>\n",
       "    </tr>\n",
       "  </tbody>\n",
       "</table>\n",
       "<p>80 rows × 3 columns</p>\n",
       "</div>"
      ],
      "text/plain": [
       "     iphone11_rating                       review_summary review_full\n",
       "0   ADIDAS Originals             Men NITE JOGGER Sneakers   Rs. 11199\n",
       "1               Puma       Men HYBRID NETFIT Running Shoe    Rs. 6599\n",
       "2             ADIDAS         Men SOLAR DRIVE 19 M Running    Rs. 8399\n",
       "3               Nike          Men AIR ZOOM VOMERO Running   Rs. 10796\n",
       "4               Nike          Men JORDAN DELTA Basketball   Rs. 11996\n",
       "..               ...                                  ...         ...\n",
       "75      UNDER ARMOUR          Women Zone XT Running Shoes    Rs. 9349\n",
       "76      UNDER ARMOUR       Men ALPHATORSION Running Shoes    Rs. 7499\n",
       "77            Reebok  Men GENERATION ZEROGRAND STITCHLITE    Rs. 7499\n",
       "78             Ruosh           Men Solid Slip-On Sneakers    Rs. 8499\n",
       "79      UNDER ARMOUR            Men Leather Driving Shoes    Rs. 7400\n",
       "\n",
       "[80 rows x 3 columns]"
      ]
     },
     "execution_count": 105,
     "metadata": {},
     "output_type": "execute_result"
    }
   ],
   "source": [
    "shoeinfomyntra"
   ]
  },
  {
   "cell_type": "raw",
   "metadata": {},
   "source": []
  },
  {
   "cell_type": "raw",
   "metadata": {},
   "source": [
    "Q10: Go to webpage https://www.amazon.in/\n",
    "Enter “Laptop” in the search field and then click the search icon."
   ]
  },
  {
   "cell_type": "raw",
   "metadata": {},
   "source": []
  },
  {
   "cell_type": "code",
   "execution_count": 182,
   "metadata": {},
   "outputs": [],
   "source": [
    "#let's connect to the webdriver\n",
    "driver = webdriver.Chrome(\"C:/Users/key/AppData/Roaming/Microsoft/Windows/Start Menu/Programs/chromedriver_win32/chromedriver.exe\")"
   ]
  },
  {
   "cell_type": "code",
   "execution_count": 183,
   "metadata": {},
   "outputs": [],
   "source": [
    "driver.get('https://www.amazon.in/')"
   ]
  },
  {
   "cell_type": "code",
   "execution_count": 184,
   "metadata": {},
   "outputs": [],
   "source": [
    "#finding element for laptop search bar\n",
    "search_laptop=driver.find_element_by_xpath(\"//input[@type='text']\")\n",
    "search_laptop.send_keys('Laptop')"
   ]
  },
  {
   "cell_type": "code",
   "execution_count": 185,
   "metadata": {},
   "outputs": [],
   "source": [
    "search_btn=driver.find_element_by_id(\"nav-search-submit-text\")\n",
    "search_btn.click()"
   ]
  },
  {
   "cell_type": "code",
   "execution_count": 189,
   "metadata": {},
   "outputs": [],
   "source": [
    "cpu_i7=driver.find_element_by_xpath(\"//a[@href='/s?k=Laptop&rh=n%3A1375424031%2Cp_n_feature_thirteen_browse-bin%3A12598163031&dc&qid=1613552254&rnid=12598141031&ref=sr_nr_p_n_feature_thirteen_browse-bin_9']\")\n",
    "cpu_i7.click()"
   ]
  },
  {
   "cell_type": "code",
   "execution_count": 190,
   "metadata": {},
   "outputs": [],
   "source": [
    "#creating the empty lists to which the final scraped data will be stored\n",
    "laptop_title=[]\n",
    "laptop_rating=[]\n",
    "laptop_price=[]"
   ]
  },
  {
   "cell_type": "code",
   "execution_count": 191,
   "metadata": {},
   "outputs": [
    {
     "data": {
      "text/plain": [
       "[<selenium.webdriver.remote.webelement.WebElement (session=\"295d721abb50014cdba6b1a71c1a8d00\", element=\"3a1fc8ce-d698-4d27-8862-5f87fa8f5ee6\")>,\n",
       " <selenium.webdriver.remote.webelement.WebElement (session=\"295d721abb50014cdba6b1a71c1a8d00\", element=\"beffdee7-7650-466f-a00d-eb77ab376349\")>,\n",
       " <selenium.webdriver.remote.webelement.WebElement (session=\"295d721abb50014cdba6b1a71c1a8d00\", element=\"43149b16-1883-4e06-8c49-19715293c43c\")>,\n",
       " <selenium.webdriver.remote.webelement.WebElement (session=\"295d721abb50014cdba6b1a71c1a8d00\", element=\"773c5ab8-acab-4ca4-b643-f37d4d07723b\")>,\n",
       " <selenium.webdriver.remote.webelement.WebElement (session=\"295d721abb50014cdba6b1a71c1a8d00\", element=\"2105cc1e-a9e2-4459-ae7d-2b7ba9126a42\")>,\n",
       " <selenium.webdriver.remote.webelement.WebElement (session=\"295d721abb50014cdba6b1a71c1a8d00\", element=\"ecf6538d-ca39-4b40-b433-4ef30aad7fc0\")>,\n",
       " <selenium.webdriver.remote.webelement.WebElement (session=\"295d721abb50014cdba6b1a71c1a8d00\", element=\"b134f214-847c-488e-8a52-19b9890c8e32\")>,\n",
       " <selenium.webdriver.remote.webelement.WebElement (session=\"295d721abb50014cdba6b1a71c1a8d00\", element=\"736b7d0e-143b-4e35-9e79-95a732cad826\")>,\n",
       " <selenium.webdriver.remote.webelement.WebElement (session=\"295d721abb50014cdba6b1a71c1a8d00\", element=\"8b68db84-2a89-4f93-abda-56dbe9e7170c\")>,\n",
       " <selenium.webdriver.remote.webelement.WebElement (session=\"295d721abb50014cdba6b1a71c1a8d00\", element=\"4684d8fe-0a0e-4991-a922-32aed0ba9dcc\")>]"
      ]
     },
     "execution_count": 191,
     "metadata": {},
     "output_type": "execute_result"
    }
   ],
   "source": [
    "#let's extract all the tags having the title name\n",
    "title=driver.find_elements_by_xpath(\"//h2[@class='a-size-mini a-spacing-none a-color-base s-line-clamp-2']\")\n",
    "title[0:10]"
   ]
  },
  {
   "cell_type": "code",
   "execution_count": 192,
   "metadata": {},
   "outputs": [
    {
     "data": {
      "text/plain": [
       "['Mi Notebook Horizon Edition 14 Intel Core i7-10510U 10th Gen Thin and Light Laptop(8GB/512GB SSD/Windows 10/Nvidia MX350 2GB Graphics/Grey/1.35Kg), XMA1904-AF+Webcam',\n",
       " 'Dell Alienware m15(R3) 15.6-inch FHD Gaming Laptop (10th Gen Core i7-10750H/16GB/512GB SSD/Windows 10 Home & MS Office/6GB NVIDIA GTX 1660 Ti Graphics), Lunar Light',\n",
       " 'Mi Notebook Horizon Edition 14 Intel Core i5-10210U 10th Gen Thin and Light Laptop(8GB/512GB SSD/Windows 10/Nvidia MX350 2GB Graphics/Grey/1.35Kg), XMA1904-AR+Webcam',\n",
       " 'Lenovo Yoga S740 Intel Core i7 10th Gen 14 inch UHD Ultra Thin and Light Laptop (16GB/1TB SSD/Windows/Office/NVIDIA MX250 2GB/Iron Grey/1.4Kg), 81RS00B0IN',\n",
       " 'HP Pavilion x360 Touchscreen 2-in-1 FHD 14-inch Laptop (10th Gen Core i7-10510U/8GB/512GB SSD/Windows 10 Home/MS Office/Mineral Silver/1.58 kg), 14-dh1180tu',\n",
       " 'Lenovo IdeaPad Gaming 3i 10th Gen Intel Core i7 15.6-inch FHD IPS Gaming Laptop (8GB/1TB HDD + 256 GB SSD/Windows 10/NVIDIA GTX 1650 4GB GDDR6/with M100 RGB Gaming Mouse/Onyx Black/2.2Kg), 81Y400VAIN',\n",
       " 'ASUS ZenBook 14 (2020) Intel Core i7-1165G7 11th Gen 14-inch FHD Thin and Light Laptop (16GB RAM/512GB NVMe SSD/Windows 10/MS Office 2019/Intel Iris Xᵉ Graphics/Pine Grey/1.17 kg), UX425EA-BM701TS',\n",
       " 'HP 14 Thin & Light 14-inch FHD Laptop (11th Gen Intel i7-1165G7/8GB/512GB SSD/Windows 10/MS Office 2019/Alexa Built-in/Pale Gold/1.47 kg), 14s-dr2007TU',\n",
       " 'Lenovo Legion 5i 10th Gen Intel Core i7 15.6 inch Full HD IPS Gaming Laptop (16GB/1TB HDD + 256GB SSD/Windows 10/120 Hz/NVIDIA GTX 1650 4GB GDDR6 Graphics/Phantom Black/2.3Kg), 82AU00KKIN',\n",
       " 'ASUS ROG Zephyrus M15 (2020), 15.6\" 4K UHD, Intel Core i7-10750H 10th Gen, RTX 2060 GDDR6 6GB Graphics, Gaming Laptop (16GB RAM/1TB NVMe SSD/Windows 10/Prism Black/1.9 Kg), GU502LV-HC140T']"
      ]
     },
     "execution_count": 192,
     "metadata": {},
     "output_type": "execute_result"
    }
   ],
   "source": [
    "#Now extract the text inside the tags using a for loop to iterate over all the tags\n",
    "for i in title:\n",
    "    titles=i.text\n",
    "    laptop_title.append(titles)\n",
    "laptop_title[0:10]"
   ]
  },
  {
   "cell_type": "code",
   "execution_count": 204,
   "metadata": {},
   "outputs": [
    {
     "data": {
      "text/plain": [
       "[<selenium.webdriver.remote.webelement.WebElement (session=\"295d721abb50014cdba6b1a71c1a8d00\", element=\"2a2a9ae9-6293-4c78-8d2d-a2fd2371633e\")>,\n",
       " <selenium.webdriver.remote.webelement.WebElement (session=\"295d721abb50014cdba6b1a71c1a8d00\", element=\"c547e07a-dc6a-4f7b-bbb3-dba371e1182f\")>,\n",
       " <selenium.webdriver.remote.webelement.WebElement (session=\"295d721abb50014cdba6b1a71c1a8d00\", element=\"72ca40ce-daae-47fc-8246-1a8a69b11a21\")>,\n",
       " <selenium.webdriver.remote.webelement.WebElement (session=\"295d721abb50014cdba6b1a71c1a8d00\", element=\"042213f7-b2bc-47f5-918f-e6315b885cdc\")>,\n",
       " <selenium.webdriver.remote.webelement.WebElement (session=\"295d721abb50014cdba6b1a71c1a8d00\", element=\"e7d2e8bb-08ed-4e35-96bb-253815fcc12e\")>,\n",
       " <selenium.webdriver.remote.webelement.WebElement (session=\"295d721abb50014cdba6b1a71c1a8d00\", element=\"61e015cc-f266-4920-8147-24291f0872cd\")>,\n",
       " <selenium.webdriver.remote.webelement.WebElement (session=\"295d721abb50014cdba6b1a71c1a8d00\", element=\"70f1e433-e47c-4e5c-b7f0-47e96b770b7d\")>,\n",
       " <selenium.webdriver.remote.webelement.WebElement (session=\"295d721abb50014cdba6b1a71c1a8d00\", element=\"6ca3bed3-da7e-4cf0-a8b0-4cfd6be1a7fa\")>]"
      ]
     },
     "execution_count": 204,
     "metadata": {},
     "output_type": "execute_result"
    }
   ],
   "source": [
    "#let's extract all the tags having the laptop rating\n",
    "rating=driver.find_elements_by_xpath(\"//i[@class='a-icon a-icon-star-small a-star-small-4 aok-align-bottom']/span[1]\")\n",
    "rating[0:10]"
   ]
  },
  {
   "cell_type": "code",
   "execution_count": 205,
   "metadata": {},
   "outputs": [
    {
     "data": {
      "text/plain": [
       "['', '', '', '', '', '', '', '', '', '']"
      ]
     },
     "execution_count": 205,
     "metadata": {},
     "output_type": "execute_result"
    }
   ],
   "source": [
    "#Now extract the text inside the tags using a for loop to iterate over all the tags\n",
    "for i in rating:\n",
    "    ratings=i.text\n",
    "    laptop_rating.append(ratings)\n",
    "laptop_rating[0:10]"
   ]
  },
  {
   "cell_type": "code",
   "execution_count": 195,
   "metadata": {},
   "outputs": [
    {
     "data": {
      "text/plain": [
       "[<selenium.webdriver.remote.webelement.WebElement (session=\"295d721abb50014cdba6b1a71c1a8d00\", element=\"dca61a03-6c44-44cc-87df-09390ef4b4f6\")>,\n",
       " <selenium.webdriver.remote.webelement.WebElement (session=\"295d721abb50014cdba6b1a71c1a8d00\", element=\"e33443d0-9464-49ac-9fcd-3e69e7ee16fe\")>,\n",
       " <selenium.webdriver.remote.webelement.WebElement (session=\"295d721abb50014cdba6b1a71c1a8d00\", element=\"fadbfc97-9c19-4882-a832-6a301396b5d3\")>,\n",
       " <selenium.webdriver.remote.webelement.WebElement (session=\"295d721abb50014cdba6b1a71c1a8d00\", element=\"146b2485-898c-4fb4-91db-1902ccc00fd0\")>,\n",
       " <selenium.webdriver.remote.webelement.WebElement (session=\"295d721abb50014cdba6b1a71c1a8d00\", element=\"d21e3744-2f96-4a1b-bc22-c3dbc9598ee5\")>,\n",
       " <selenium.webdriver.remote.webelement.WebElement (session=\"295d721abb50014cdba6b1a71c1a8d00\", element=\"9e8e401c-6b84-4713-8bc7-4b170c3d2fc6\")>,\n",
       " <selenium.webdriver.remote.webelement.WebElement (session=\"295d721abb50014cdba6b1a71c1a8d00\", element=\"5ec56720-348e-46aa-b1ce-24b1082cdf7d\")>,\n",
       " <selenium.webdriver.remote.webelement.WebElement (session=\"295d721abb50014cdba6b1a71c1a8d00\", element=\"7d8b51c1-c705-4197-a3f0-dc629ba41f5c\")>,\n",
       " <selenium.webdriver.remote.webelement.WebElement (session=\"295d721abb50014cdba6b1a71c1a8d00\", element=\"e0cbd67b-be6c-45ef-8b26-f7c18c475e79\")>,\n",
       " <selenium.webdriver.remote.webelement.WebElement (session=\"295d721abb50014cdba6b1a71c1a8d00\", element=\"53887c4c-3225-4654-9020-0a8477e1ead1\")>]"
      ]
     },
     "execution_count": 195,
     "metadata": {},
     "output_type": "execute_result"
    }
   ],
   "source": [
    "#let's extract all the tags having the laptop price\n",
    "price=driver.find_elements_by_xpath(\"//span[@class='a-price-whole']\")\n",
    "price[0:10]"
   ]
  },
  {
   "cell_type": "code",
   "execution_count": 196,
   "metadata": {},
   "outputs": [
    {
     "data": {
      "text/plain": [
       "['57,999',\n",
       " '1,97,200',\n",
       " '50,999',\n",
       " '1,09,990',\n",
       " '74,990',\n",
       " '76,990',\n",
       " '95,290',\n",
       " '75,482',\n",
       " '88,990',\n",
       " '1,49,099']"
      ]
     },
     "execution_count": 196,
     "metadata": {},
     "output_type": "execute_result"
    }
   ],
   "source": [
    "#Now extract the text inside the tags using a for loop to iterate over all the tags\n",
    "for i in price:\n",
    "    prices=i.text\n",
    "    laptop_price.append(prices)\n",
    "laptop_price[0:10]"
   ]
  },
  {
   "cell_type": "code",
   "execution_count": 198,
   "metadata": {},
   "outputs": [
    {
     "name": "stdout",
     "output_type": "stream",
     "text": [
      "24 25 8\n"
     ]
    }
   ],
   "source": [
    "print(len(laptop_price),len(laptop_title),len(laptop_rating))"
   ]
  },
  {
   "cell_type": "code",
   "execution_count": 202,
   "metadata": {},
   "outputs": [],
   "source": [
    "laptopi7=pd.DataFrame({})\n",
    "laptopi7['price']=laptop_price[0:10]\n",
    "laptopi7['title']=laptop_title[0:10]"
   ]
  },
  {
   "cell_type": "code",
   "execution_count": 203,
   "metadata": {},
   "outputs": [
    {
     "data": {
      "text/html": [
       "<div>\n",
       "<style scoped>\n",
       "    .dataframe tbody tr th:only-of-type {\n",
       "        vertical-align: middle;\n",
       "    }\n",
       "\n",
       "    .dataframe tbody tr th {\n",
       "        vertical-align: top;\n",
       "    }\n",
       "\n",
       "    .dataframe thead th {\n",
       "        text-align: right;\n",
       "    }\n",
       "</style>\n",
       "<table border=\"1\" class=\"dataframe\">\n",
       "  <thead>\n",
       "    <tr style=\"text-align: right;\">\n",
       "      <th></th>\n",
       "      <th>price</th>\n",
       "      <th>title</th>\n",
       "    </tr>\n",
       "  </thead>\n",
       "  <tbody>\n",
       "    <tr>\n",
       "      <th>0</th>\n",
       "      <td>57,999</td>\n",
       "      <td>Mi Notebook Horizon Edition 14 Intel Core i7-1...</td>\n",
       "    </tr>\n",
       "    <tr>\n",
       "      <th>1</th>\n",
       "      <td>1,97,200</td>\n",
       "      <td>Dell Alienware m15(R3) 15.6-inch FHD Gaming La...</td>\n",
       "    </tr>\n",
       "    <tr>\n",
       "      <th>2</th>\n",
       "      <td>50,999</td>\n",
       "      <td>Mi Notebook Horizon Edition 14 Intel Core i5-1...</td>\n",
       "    </tr>\n",
       "    <tr>\n",
       "      <th>3</th>\n",
       "      <td>1,09,990</td>\n",
       "      <td>Lenovo Yoga S740 Intel Core i7 10th Gen 14 inc...</td>\n",
       "    </tr>\n",
       "    <tr>\n",
       "      <th>4</th>\n",
       "      <td>74,990</td>\n",
       "      <td>HP Pavilion x360 Touchscreen 2-in-1 FHD 14-inc...</td>\n",
       "    </tr>\n",
       "    <tr>\n",
       "      <th>5</th>\n",
       "      <td>76,990</td>\n",
       "      <td>Lenovo IdeaPad Gaming 3i 10th Gen Intel Core i...</td>\n",
       "    </tr>\n",
       "    <tr>\n",
       "      <th>6</th>\n",
       "      <td>95,290</td>\n",
       "      <td>ASUS ZenBook 14 (2020) Intel Core i7-1165G7 11...</td>\n",
       "    </tr>\n",
       "    <tr>\n",
       "      <th>7</th>\n",
       "      <td>75,482</td>\n",
       "      <td>HP 14 Thin &amp; Light 14-inch FHD Laptop (11th Ge...</td>\n",
       "    </tr>\n",
       "    <tr>\n",
       "      <th>8</th>\n",
       "      <td>88,990</td>\n",
       "      <td>Lenovo Legion 5i 10th Gen Intel Core i7 15.6 i...</td>\n",
       "    </tr>\n",
       "    <tr>\n",
       "      <th>9</th>\n",
       "      <td>1,49,099</td>\n",
       "      <td>ASUS ROG Zephyrus M15 (2020), 15.6\" 4K UHD, In...</td>\n",
       "    </tr>\n",
       "  </tbody>\n",
       "</table>\n",
       "</div>"
      ],
      "text/plain": [
       "      price                                              title\n",
       "0    57,999  Mi Notebook Horizon Edition 14 Intel Core i7-1...\n",
       "1  1,97,200  Dell Alienware m15(R3) 15.6-inch FHD Gaming La...\n",
       "2    50,999  Mi Notebook Horizon Edition 14 Intel Core i5-1...\n",
       "3  1,09,990  Lenovo Yoga S740 Intel Core i7 10th Gen 14 inc...\n",
       "4    74,990  HP Pavilion x360 Touchscreen 2-in-1 FHD 14-inc...\n",
       "5    76,990  Lenovo IdeaPad Gaming 3i 10th Gen Intel Core i...\n",
       "6    95,290  ASUS ZenBook 14 (2020) Intel Core i7-1165G7 11...\n",
       "7    75,482  HP 14 Thin & Light 14-inch FHD Laptop (11th Ge...\n",
       "8    88,990  Lenovo Legion 5i 10th Gen Intel Core i7 15.6 i...\n",
       "9  1,49,099  ASUS ROG Zephyrus M15 (2020), 15.6\" 4K UHD, In..."
      ]
     },
     "execution_count": 203,
     "metadata": {},
     "output_type": "execute_result"
    }
   ],
   "source": [
    "laptopi7"
   ]
  },
  {
   "cell_type": "code",
   "execution_count": null,
   "metadata": {},
   "outputs": [],
   "source": []
  }
 ],
 "metadata": {
  "kernelspec": {
   "display_name": "Python 3",
   "language": "python",
   "name": "python3"
  },
  "language_info": {
   "codemirror_mode": {
    "name": "ipython",
    "version": 3
   },
   "file_extension": ".py",
   "mimetype": "text/x-python",
   "name": "python",
   "nbconvert_exporter": "python",
   "pygments_lexer": "ipython3",
   "version": "3.8.3"
  }
 },
 "nbformat": 4,
 "nbformat_minor": 4
}

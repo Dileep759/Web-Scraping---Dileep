{
 "cells": [
  {
   "cell_type": "code",
   "execution_count": 327,
   "metadata": {},
   "outputs": [],
   "source": [
    "#importing required libraries\n",
    "import selenium\n",
    "import pandas as pd\n",
    "from selenium import webdriver\n",
    "from selenium.common.exceptions import StaleElementReferenceException, NoSuchElementException"
   ]
  },
  {
   "cell_type": "code",
   "execution_count": 360,
   "metadata": {},
   "outputs": [],
   "source": [
    "#let's connect to the webdriver\n",
    "driver = webdriver.Chrome(\"C:/Users/key/AppData/Roaming/Microsoft/Windows/Start Menu/Programs/chromedriver_win32/chromedriver.exe\")"
   ]
  },
  {
   "cell_type": "raw",
   "metadata": {},
   "source": [
    "*******************************************************************************************************************************"
   ]
  },
  {
   "cell_type": "raw",
   "metadata": {},
   "source": [
    "Q1. Write a python program which searches all the product under a particular product vertical\n",
    "from www.amazon.in. The product verticals to be searched will be taken as input from user.\n",
    "For e.g. If user input is ‘guitar’. Then search for guitars."
   ]
  },
  {
   "cell_type": "raw",
   "metadata": {},
   "source": [
    "*******************************************************************************************************************************"
   ]
  },
  {
   "cell_type": "code",
   "execution_count": 361,
   "metadata": {},
   "outputs": [],
   "source": [
    "driver.get(\"https://www.amazon.in/\")"
   ]
  },
  {
   "cell_type": "code",
   "execution_count": 362,
   "metadata": {},
   "outputs": [],
   "source": [
    "#selecting office products out of all categories\n",
    "select_ver=driver.find_element_by_xpath(\"//select[@class='nav-search-dropdown searchSelect nav-progressive-attrubute nav-progressive-search-dropdown']/option[31]\")"
   ]
  },
  {
   "cell_type": "code",
   "execution_count": 363,
   "metadata": {},
   "outputs": [],
   "source": [
    "select_ver.click()"
   ]
  },
  {
   "cell_type": "code",
   "execution_count": 364,
   "metadata": {},
   "outputs": [],
   "source": [
    "#locating the search bar\n",
    "search_bar=driver.find_element_by_xpath(\"//input[@id='twotabsearchtextbox']\")\n",
    "search_bar.send_keys('Stationery')"
   ]
  },
  {
   "cell_type": "code",
   "execution_count": 365,
   "metadata": {},
   "outputs": [],
   "source": [
    "# clicking the search button\n",
    "search_button=driver.find_element_by_xpath(\"//input[@id='nav-search-submit-button']\")\n",
    "search_button.click()"
   ]
  },
  {
   "cell_type": "raw",
   "metadata": {},
   "source": [
    "******************************************************************************************************************************"
   ]
  },
  {
   "cell_type": "raw",
   "metadata": {},
   "source": [
    "3. Write a python program to access the search bar and search button on images.google.com and\n",
    "scrape 100 images each for keywords ‘fruits’, ‘cars’ and ‘Machine Learning’."
   ]
  },
  {
   "cell_type": "raw",
   "metadata": {},
   "source": [
    "******************************************************************************************************************************"
   ]
  },
  {
   "cell_type": "code",
   "execution_count": 145,
   "metadata": {},
   "outputs": [],
   "source": [
    "#let's connect to the webdriver\n",
    "driver = webdriver.Chrome(\"C:/Users/key/AppData/Roaming/Microsoft/Windows/Start Menu/Programs/chromedriver_win32/chromedriver.exe\")"
   ]
  },
  {
   "cell_type": "code",
   "execution_count": 146,
   "metadata": {},
   "outputs": [],
   "source": [
    "driver.get(\"https://images.google.com/?gws_rd=ssl\")"
   ]
  },
  {
   "cell_type": "code",
   "execution_count": 147,
   "metadata": {},
   "outputs": [],
   "source": [
    "#locating the search bar\n",
    "search_bar=driver.find_element_by_xpath(\"//input[@class='gLFyf gsfi']\")\n",
    "search_bar.send_keys('fruits')"
   ]
  },
  {
   "cell_type": "code",
   "execution_count": 148,
   "metadata": {},
   "outputs": [],
   "source": [
    "# clicking the search button\n",
    "search_button=driver.find_element_by_xpath(\"//span[@class='z1asCe MZy1Rb']\")\n",
    "search_button.click()"
   ]
  },
  {
   "cell_type": "code",
   "execution_count": 137,
   "metadata": {},
   "outputs": [],
   "source": [
    "# creating empty lists for scraping data\n",
    "fruits_img=[]\n",
    "cars_img=[]\n",
    "ml_img=[]"
   ]
  },
  {
   "cell_type": "code",
   "execution_count": 138,
   "metadata": {},
   "outputs": [],
   "source": [
    "images1=driver.find_elements_by_xpath(\"//img[starts-with(@src,'data:image/jpeg')]\")"
   ]
  },
  {
   "cell_type": "code",
   "execution_count": 139,
   "metadata": {},
   "outputs": [
    {
     "data": {
      "text/plain": [
       "[<selenium.webdriver.remote.webelement.WebElement (session=\"37e9787543784861a31127477841ffe1\", element=\"c8aefa43-1967-4c90-a593-36388bf77389\")>,\n",
       " <selenium.webdriver.remote.webelement.WebElement (session=\"37e9787543784861a31127477841ffe1\", element=\"a19a573a-d2a1-422c-aedd-b786b646f607\")>,\n",
       " <selenium.webdriver.remote.webelement.WebElement (session=\"37e9787543784861a31127477841ffe1\", element=\"24235db6-393e-4b04-adab-0427be4ee9e2\")>]"
      ]
     },
     "execution_count": 139,
     "metadata": {},
     "output_type": "execute_result"
    }
   ],
   "source": [
    "images1[:3]"
   ]
  },
  {
   "cell_type": "code",
   "execution_count": 140,
   "metadata": {},
   "outputs": [],
   "source": [
    "UR=[]\n",
    "for i in images1:\n",
    "    UR.append(i.get_attribute('src'))#getting the urls\n",
    "for url in UR:#loop for every image in the list\n",
    "    driver.get(url)"
   ]
  },
  {
   "cell_type": "code",
   "execution_count": 141,
   "metadata": {},
   "outputs": [
    {
     "data": {
      "text/plain": [
       "['data:image/jpeg;base64,/9j/4AAQSkZJRgABAQAAAQABAAD/2wCEAAkGBwgHBgkIBwgKCgkLDRYPDQwMDRsUFRAWIB0iIiAdHx8kKDQsJCYxJx8fLT0tMTU3Ojo6Iys/RD84QzQ5OjcBCgoKDQwNGg8PGjclHyU3Nzc3Nzc3Nzc3Nzc3Nzc3Nzc3Nzc3Nzc3Nzc3Nzc3Nzc3Nzc3Nzc3Nzc3Nzc3Nzc3N//AABEIAGQAZAMBIgACEQEDEQH/xAAcAAACAgMBAQAAAAAAAAAAAAAAAQUGAgMHBAj/xAAxEAACAQMBBgQFAwUAAAAAAAAAAQIDBBEFBhIhMUFREyKBkQcUMmFxQsHRI1KS4fD/xAAaAQEBAQADAQAAAAAAAAAAAAAAAQQDBQYC/8QAIxEBAAICAQQBBQAAAAAAAAAAAAECAxEhBBIxUQUTFCMygf/aAAwDAQACEQMRAD8A7OMB4KhDwAwEAwAQDABAMQCAYgEAABmAAQADHgBBgYNpc2l+QFgCJ1PX6Onavp+mStritWvm9yVGKaglzcuPL7kusMkWifCzEwxAywJn0jEBiAQDABmSENEQABD7Vag7DTGqUsVq8vDg107v2JM6jbkxY5y3ilfMvBr+0vgynbWHGcfqq9vwUPUdfu6UpVbmlceVtxqVG8N/n9i0WFezdv5op4eHk811rGj283u03Nx/tk+f24mS8zePL0WDFXDHZSnPtV9C1W51nUatwqznWpW8adKcn5YqUm5S9FFf5EjdbR3ujtSVSVVrquGf+9CN1bXrerJfLx3cPh1IK4vK11VcX584bfQ+KRNfEt+Ppaa3lj+OpbJ/EKy1a4p2N6pW11U4U3P6aj7J9y8M+Zb+xlCi61KpJ1YPfeOHsd3+Hus1Nc2WtLq4ebiK8Oq+8l19TVjvviXQ/JdHjxfkxeFhYDYjldSQABRkNGI0QMpvxBlKUaUF+mDkvf8A0XLJVtubZ1LelVSyllP9jjy81bPj7xTqKzLkd5q1zbxmuSfBkJU1KtKEt6Xmb5li1G3i97yrtghKljSllKGOL5GTT18549IqdzOUfqeSZsK2aEF+pcGsHllZRjLglJHssrfwYtvmyw4r37oeyK36e60n04nVPhVbfKbPSpdFNHLKLTqKPLj3O2bIWnyeg26axKot9nNi/Z0/yc9uLt9ymWIbEaHQkwBgAwEMANV5bQvLadCqvLJezNoZCxOuYcj2i0qpaXM4Tj1KxcUvDclwx3OzbS2VK/tZKaaqRXlmkcR1+/nZV50ri2r0pxbWZU20/umjLekxPD0PS9ZXJXVp1JSnGOcpe55q97Cmmt5ELW1dVZYp7/on/BssLO81OuoUae4pPjOrmKR89stn3GGsc2hadh7Spru0NOjjFtS/qVpdFHPL15He4V6aioxwklhLsc72W0y10TTY0LWe/Ul5qtbk5y/jsidpXVSLXmZppXUPP9d1P18nHiFq8VPqG+RFvcSkj2wm2jk0wvXvAaVIAbbx5MR5IGDFkTYGurTU1xIq+0W1u1itRhL8ol2xBdqZX2J02Tco0Ixf2RoWxlvB5g5IvLimYuCJpe+ys2ehK3SSlJokaWnRj0JTdRkolSZ28lO2UehvjDBtwGCowwBlgANg0ICBiYABiAAANiAAAYAAAAFCAAA//9k=',\n",
       " 'data:image/jpeg;base64,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',\n",
       " 'data:image/jpeg;base64,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']"
      ]
     },
     "execution_count": 141,
     "metadata": {},
     "output_type": "execute_result"
    }
   ],
   "source": [
    "UR[:3]"
   ]
  },
  {
   "cell_type": "code",
   "execution_count": 142,
   "metadata": {},
   "outputs": [
    {
     "data": {
      "text/plain": [
       "31"
      ]
     },
     "execution_count": 142,
     "metadata": {},
     "output_type": "execute_result"
    }
   ],
   "source": [
    "len(UR)"
   ]
  },
  {
   "cell_type": "code",
   "execution_count": 149,
   "metadata": {},
   "outputs": [],
   "source": [
    "images2=driver.find_elements_by_xpath(\"//img[starts-with(@src,'https:')]\")"
   ]
  },
  {
   "cell_type": "code",
   "execution_count": 150,
   "metadata": {},
   "outputs": [
    {
     "data": {
      "text/plain": [
       "[<selenium.webdriver.remote.webelement.WebElement (session=\"9e6998ecd8b7778434c135792c10cc76\", element=\"2e6f6ec0-3c33-45b1-96c3-9c7a05d6e671\")>,\n",
       " <selenium.webdriver.remote.webelement.WebElement (session=\"9e6998ecd8b7778434c135792c10cc76\", element=\"39d227bc-5efc-4e25-9c01-baedd5af0b83\")>,\n",
       " <selenium.webdriver.remote.webelement.WebElement (session=\"9e6998ecd8b7778434c135792c10cc76\", element=\"9951c037-7231-4169-aa54-a6b80ae490b4\")>]"
      ]
     },
     "execution_count": 150,
     "metadata": {},
     "output_type": "execute_result"
    }
   ],
   "source": [
    "images2[:3]"
   ]
  },
  {
   "cell_type": "code",
   "execution_count": 151,
   "metadata": {},
   "outputs": [],
   "source": [
    "UR2=[]\n",
    "for i in images2:\n",
    "    UR2.append(i.get_attribute('src'))#getting the urls\n",
    "for url in UR2:#loop for every image in the list\n",
    "    driver.get(url)"
   ]
  },
  {
   "cell_type": "code",
   "execution_count": 152,
   "metadata": {},
   "outputs": [
    {
     "data": {
      "text/plain": [
       "['https://encrypted-tbn0.gstatic.com/images?q=tbn:ANd9GcTSisFKrNtmCzWMt4LwMEtnRojOYwY6fInXl77aazoplm0XKyKY&usqp=CAU',\n",
       " 'https://encrypted-tbn0.gstatic.com/images?q=tbn:ANd9GcS7X584xCnkZY0F7VqbLIjvCA6mWjzxavkKFOnm6jEx3e2H04hn&usqp=CAU',\n",
       " 'https://encrypted-tbn0.gstatic.com/images?q=tbn:ANd9GcReltGaQ_A280RrHGEqbMpAWVQP7H9OQ4nAXTLuKOOz9GQV7kzA&usqp=CAU']"
      ]
     },
     "execution_count": 152,
     "metadata": {},
     "output_type": "execute_result"
    }
   ],
   "source": [
    "UR2[:3]"
   ]
  },
  {
   "cell_type": "code",
   "execution_count": 153,
   "metadata": {},
   "outputs": [
    {
     "data": {
      "text/plain": [
       "197"
      ]
     },
     "execution_count": 153,
     "metadata": {},
     "output_type": "execute_result"
    }
   ],
   "source": [
    "len(UR2)"
   ]
  },
  {
   "cell_type": "code",
   "execution_count": 154,
   "metadata": {},
   "outputs": [],
   "source": [
    "fruits_img=UR+UR2"
   ]
  },
  {
   "cell_type": "code",
   "execution_count": 155,
   "metadata": {},
   "outputs": [
    {
     "data": {
      "text/plain": [
       "228"
      ]
     },
     "execution_count": 155,
     "metadata": {},
     "output_type": "execute_result"
    }
   ],
   "source": [
    "len(fruits_img)"
   ]
  },
  {
   "cell_type": "code",
   "execution_count": 165,
   "metadata": {},
   "outputs": [],
   "source": [
    "#let's connect to the webdriver\n",
    "driver = webdriver.Chrome(\"C:/Users/key/AppData/Roaming/Microsoft/Windows/Start Menu/Programs/chromedriver_win32/chromedriver.exe\")"
   ]
  },
  {
   "cell_type": "code",
   "execution_count": 166,
   "metadata": {},
   "outputs": [],
   "source": [
    "driver.get(\"https://images.google.com/?gws_rd=ssl\")"
   ]
  },
  {
   "cell_type": "code",
   "execution_count": 167,
   "metadata": {},
   "outputs": [],
   "source": [
    "#locating the search bar\n",
    "search_bar=driver.find_element_by_xpath(\"//input[@class='gLFyf gsfi']\")\n",
    "search_bar.send_keys('cars')"
   ]
  },
  {
   "cell_type": "code",
   "execution_count": 168,
   "metadata": {},
   "outputs": [],
   "source": [
    "# clicking the search button\n",
    "search_button=driver.find_element_by_xpath(\"//span[@class='z1asCe MZy1Rb']\")\n",
    "search_button.click()"
   ]
  },
  {
   "cell_type": "code",
   "execution_count": 169,
   "metadata": {},
   "outputs": [],
   "source": [
    "images_cars=driver.find_elements_by_xpath(\"//img[starts-with(@src,'https:')]\")"
   ]
  },
  {
   "cell_type": "code",
   "execution_count": 170,
   "metadata": {},
   "outputs": [
    {
     "data": {
      "text/plain": [
       "[<selenium.webdriver.remote.webelement.WebElement (session=\"e9247ee87dbcbbcbc7f4b4fc69a84177\", element=\"41e74598-1cf0-41b6-bac1-8d750b755dbd\")>,\n",
       " <selenium.webdriver.remote.webelement.WebElement (session=\"e9247ee87dbcbbcbc7f4b4fc69a84177\", element=\"ef22915b-fe72-4f6d-be98-93fb124cfe32\")>,\n",
       " <selenium.webdriver.remote.webelement.WebElement (session=\"e9247ee87dbcbbcbc7f4b4fc69a84177\", element=\"bc2afdd3-7a74-44c7-8b23-a643a26a1171\")>]"
      ]
     },
     "execution_count": 170,
     "metadata": {},
     "output_type": "execute_result"
    }
   ],
   "source": [
    "images_cars[:3]"
   ]
  },
  {
   "cell_type": "code",
   "execution_count": 171,
   "metadata": {},
   "outputs": [],
   "source": [
    "for i in images_cars:\n",
    "    cars_img.append(i.get_attribute('src'))#getting the urls\n",
    "for url in cars_img:#loop for every image in the list\n",
    "    driver.get(url)"
   ]
  },
  {
   "cell_type": "code",
   "execution_count": 172,
   "metadata": {},
   "outputs": [
    {
     "data": {
      "text/plain": [
       "['https://encrypted-tbn0.gstatic.com/images?q=tbn:ANd9GcRBzXjOEDXay_80zCfqbXdvjuq6e1Z21PeHRbAWU_LV2XLvxoq2&usqp=CAU',\n",
       " 'https://encrypted-tbn0.gstatic.com/images?q=tbn:ANd9GcRoC8WRlMbF5g9S_ccFGaxZ6_QVVfd0m_lq3vmGdqs&usqp=CAU',\n",
       " 'https://encrypted-tbn0.gstatic.com/images?q=tbn:ANd9GcS-4UkrDvXwncvKIueJgDUuHD6F2dQym9kzW5UfhdLWXAQ4ttlw&usqp=CAU']"
      ]
     },
     "execution_count": 172,
     "metadata": {},
     "output_type": "execute_result"
    }
   ],
   "source": [
    "cars_img[:3]"
   ]
  },
  {
   "cell_type": "code",
   "execution_count": 173,
   "metadata": {},
   "outputs": [
    {
     "data": {
      "text/plain": [
       "260"
      ]
     },
     "execution_count": 173,
     "metadata": {},
     "output_type": "execute_result"
    }
   ],
   "source": [
    "len(cars_img)"
   ]
  },
  {
   "cell_type": "code",
   "execution_count": 174,
   "metadata": {},
   "outputs": [],
   "source": [
    "#let's connect to the webdriver\n",
    "driver = webdriver.Chrome(\"C:/Users/key/AppData/Roaming/Microsoft/Windows/Start Menu/Programs/chromedriver_win32/chromedriver.exe\")"
   ]
  },
  {
   "cell_type": "code",
   "execution_count": 175,
   "metadata": {},
   "outputs": [],
   "source": [
    "driver.get(\"https://images.google.com/?gws_rd=ssl\")"
   ]
  },
  {
   "cell_type": "code",
   "execution_count": 176,
   "metadata": {},
   "outputs": [],
   "source": [
    "#locating the search bar\n",
    "search_bar=driver.find_element_by_xpath(\"//input[@class='gLFyf gsfi']\")\n",
    "search_bar.send_keys('machine learning')"
   ]
  },
  {
   "cell_type": "code",
   "execution_count": 177,
   "metadata": {},
   "outputs": [],
   "source": [
    "# clicking the search button\n",
    "search_button=driver.find_element_by_xpath(\"//span[@class='z1asCe MZy1Rb']\")\n",
    "search_button.click()"
   ]
  },
  {
   "cell_type": "code",
   "execution_count": 178,
   "metadata": {},
   "outputs": [],
   "source": [
    "images_ml=driver.find_elements_by_xpath(\"//img[starts-with(@src,'https:')]\")"
   ]
  },
  {
   "cell_type": "code",
   "execution_count": 179,
   "metadata": {},
   "outputs": [
    {
     "data": {
      "text/plain": [
       "[<selenium.webdriver.remote.webelement.WebElement (session=\"39ae92f1c1159dd2c84fb6f76f7e501c\", element=\"6562bbab-23a1-48dc-9cc7-1ab669fcad38\")>,\n",
       " <selenium.webdriver.remote.webelement.WebElement (session=\"39ae92f1c1159dd2c84fb6f76f7e501c\", element=\"f367dbb0-07a3-4e2c-9d30-9a2ecd07cb0c\")>,\n",
       " <selenium.webdriver.remote.webelement.WebElement (session=\"39ae92f1c1159dd2c84fb6f76f7e501c\", element=\"5f0a2a48-89f4-4abb-b2e9-7b0cb9c8ff9a\")>]"
      ]
     },
     "execution_count": 179,
     "metadata": {},
     "output_type": "execute_result"
    }
   ],
   "source": [
    "images_ml[:3]"
   ]
  },
  {
   "cell_type": "code",
   "execution_count": 180,
   "metadata": {},
   "outputs": [],
   "source": [
    "for i in images_ml:\n",
    "    ml_img.append(i.get_attribute('src'))#getting the urls\n",
    "for url in ml_img:#loop for every image in the list\n",
    "    driver.get(url)"
   ]
  },
  {
   "cell_type": "code",
   "execution_count": 181,
   "metadata": {},
   "outputs": [
    {
     "data": {
      "text/plain": [
       "152"
      ]
     },
     "execution_count": 181,
     "metadata": {},
     "output_type": "execute_result"
    }
   ],
   "source": [
    "len(ml_img)"
   ]
  },
  {
   "cell_type": "code",
   "execution_count": 193,
   "metadata": {},
   "outputs": [],
   "source": [
    "images=pd.DataFrame({})\n",
    "images['ml_img']=ml_img[:100]\n",
    "images['cars_img']=cars_img[:100]\n",
    "images['fruits_img']=fruits_img[:100]"
   ]
  },
  {
   "cell_type": "code",
   "execution_count": 194,
   "metadata": {},
   "outputs": [
    {
     "data": {
      "text/html": [
       "<div>\n",
       "<style scoped>\n",
       "    .dataframe tbody tr th:only-of-type {\n",
       "        vertical-align: middle;\n",
       "    }\n",
       "\n",
       "    .dataframe tbody tr th {\n",
       "        vertical-align: top;\n",
       "    }\n",
       "\n",
       "    .dataframe thead th {\n",
       "        text-align: right;\n",
       "    }\n",
       "</style>\n",
       "<table border=\"1\" class=\"dataframe\">\n",
       "  <thead>\n",
       "    <tr style=\"text-align: right;\">\n",
       "      <th></th>\n",
       "      <th>ml_img</th>\n",
       "      <th>cars_img</th>\n",
       "      <th>fruits_img</th>\n",
       "    </tr>\n",
       "  </thead>\n",
       "  <tbody>\n",
       "    <tr>\n",
       "      <th>0</th>\n",
       "      <td>https://encrypted-tbn0.gstatic.com/images?q=tb...</td>\n",
       "      <td>https://encrypted-tbn0.gstatic.com/images?q=tb...</td>\n",
       "      <td>data:image/jpeg;base64,/9j/4AAQSkZJRgABAQAAAQA...</td>\n",
       "    </tr>\n",
       "    <tr>\n",
       "      <th>1</th>\n",
       "      <td>https://encrypted-tbn0.gstatic.com/images?q=tb...</td>\n",
       "      <td>https://encrypted-tbn0.gstatic.com/images?q=tb...</td>\n",
       "      <td>data:image/jpeg;base64,/9j/4AAQSkZJRgABAQAAAQA...</td>\n",
       "    </tr>\n",
       "    <tr>\n",
       "      <th>2</th>\n",
       "      <td>https://encrypted-tbn0.gstatic.com/images?q=tb...</td>\n",
       "      <td>https://encrypted-tbn0.gstatic.com/images?q=tb...</td>\n",
       "      <td>data:image/jpeg;base64,/9j/4AAQSkZJRgABAQAAAQA...</td>\n",
       "    </tr>\n",
       "    <tr>\n",
       "      <th>3</th>\n",
       "      <td>https://encrypted-tbn0.gstatic.com/images?q=tb...</td>\n",
       "      <td>https://encrypted-tbn0.gstatic.com/images?q=tb...</td>\n",
       "      <td>data:image/jpeg;base64,/9j/4AAQSkZJRgABAQAAAQA...</td>\n",
       "    </tr>\n",
       "    <tr>\n",
       "      <th>4</th>\n",
       "      <td>https://encrypted-tbn0.gstatic.com/images?q=tb...</td>\n",
       "      <td>https://encrypted-tbn0.gstatic.com/images?q=tb...</td>\n",
       "      <td>data:image/jpeg;base64,/9j/4AAQSkZJRgABAQAAAQA...</td>\n",
       "    </tr>\n",
       "    <tr>\n",
       "      <th>...</th>\n",
       "      <td>...</td>\n",
       "      <td>...</td>\n",
       "      <td>...</td>\n",
       "    </tr>\n",
       "    <tr>\n",
       "      <th>95</th>\n",
       "      <td>https://encrypted-tbn0.gstatic.com/images?q=tb...</td>\n",
       "      <td>https://encrypted-tbn0.gstatic.com/images?q=tb...</td>\n",
       "      <td>https://encrypted-tbn0.gstatic.com/images?q=tb...</td>\n",
       "    </tr>\n",
       "    <tr>\n",
       "      <th>96</th>\n",
       "      <td>https://encrypted-tbn0.gstatic.com/images?q=tb...</td>\n",
       "      <td>https://encrypted-tbn0.gstatic.com/images?q=tb...</td>\n",
       "      <td>https://encrypted-tbn0.gstatic.com/images?q=tb...</td>\n",
       "    </tr>\n",
       "    <tr>\n",
       "      <th>97</th>\n",
       "      <td>https://encrypted-tbn0.gstatic.com/images?q=tb...</td>\n",
       "      <td>https://encrypted-tbn0.gstatic.com/images?q=tb...</td>\n",
       "      <td>https://encrypted-tbn0.gstatic.com/images?q=tb...</td>\n",
       "    </tr>\n",
       "    <tr>\n",
       "      <th>98</th>\n",
       "      <td>https://encrypted-tbn0.gstatic.com/images?q=tb...</td>\n",
       "      <td>https://encrypted-tbn0.gstatic.com/images?q=tb...</td>\n",
       "      <td>https://encrypted-tbn0.gstatic.com/images?q=tb...</td>\n",
       "    </tr>\n",
       "    <tr>\n",
       "      <th>99</th>\n",
       "      <td>https://encrypted-tbn0.gstatic.com/images?q=tb...</td>\n",
       "      <td>https://encrypted-tbn0.gstatic.com/images?q=tb...</td>\n",
       "      <td>https://encrypted-tbn0.gstatic.com/images?q=tb...</td>\n",
       "    </tr>\n",
       "  </tbody>\n",
       "</table>\n",
       "<p>100 rows × 3 columns</p>\n",
       "</div>"
      ],
      "text/plain": [
       "                                               ml_img  \\\n",
       "0   https://encrypted-tbn0.gstatic.com/images?q=tb...   \n",
       "1   https://encrypted-tbn0.gstatic.com/images?q=tb...   \n",
       "2   https://encrypted-tbn0.gstatic.com/images?q=tb...   \n",
       "3   https://encrypted-tbn0.gstatic.com/images?q=tb...   \n",
       "4   https://encrypted-tbn0.gstatic.com/images?q=tb...   \n",
       "..                                                ...   \n",
       "95  https://encrypted-tbn0.gstatic.com/images?q=tb...   \n",
       "96  https://encrypted-tbn0.gstatic.com/images?q=tb...   \n",
       "97  https://encrypted-tbn0.gstatic.com/images?q=tb...   \n",
       "98  https://encrypted-tbn0.gstatic.com/images?q=tb...   \n",
       "99  https://encrypted-tbn0.gstatic.com/images?q=tb...   \n",
       "\n",
       "                                             cars_img  \\\n",
       "0   https://encrypted-tbn0.gstatic.com/images?q=tb...   \n",
       "1   https://encrypted-tbn0.gstatic.com/images?q=tb...   \n",
       "2   https://encrypted-tbn0.gstatic.com/images?q=tb...   \n",
       "3   https://encrypted-tbn0.gstatic.com/images?q=tb...   \n",
       "4   https://encrypted-tbn0.gstatic.com/images?q=tb...   \n",
       "..                                                ...   \n",
       "95  https://encrypted-tbn0.gstatic.com/images?q=tb...   \n",
       "96  https://encrypted-tbn0.gstatic.com/images?q=tb...   \n",
       "97  https://encrypted-tbn0.gstatic.com/images?q=tb...   \n",
       "98  https://encrypted-tbn0.gstatic.com/images?q=tb...   \n",
       "99  https://encrypted-tbn0.gstatic.com/images?q=tb...   \n",
       "\n",
       "                                           fruits_img  \n",
       "0   data:image/jpeg;base64,/9j/4AAQSkZJRgABAQAAAQA...  \n",
       "1   data:image/jpeg;base64,/9j/4AAQSkZJRgABAQAAAQA...  \n",
       "2   data:image/jpeg;base64,/9j/4AAQSkZJRgABAQAAAQA...  \n",
       "3   data:image/jpeg;base64,/9j/4AAQSkZJRgABAQAAAQA...  \n",
       "4   data:image/jpeg;base64,/9j/4AAQSkZJRgABAQAAAQA...  \n",
       "..                                                ...  \n",
       "95  https://encrypted-tbn0.gstatic.com/images?q=tb...  \n",
       "96  https://encrypted-tbn0.gstatic.com/images?q=tb...  \n",
       "97  https://encrypted-tbn0.gstatic.com/images?q=tb...  \n",
       "98  https://encrypted-tbn0.gstatic.com/images?q=tb...  \n",
       "99  https://encrypted-tbn0.gstatic.com/images?q=tb...  \n",
       "\n",
       "[100 rows x 3 columns]"
      ]
     },
     "execution_count": 194,
     "metadata": {},
     "output_type": "execute_result"
    }
   ],
   "source": [
    "images"
   ]
  },
  {
   "cell_type": "raw",
   "metadata": {},
   "source": [
    "******************************************************************************************************************************"
   ]
  },
  {
   "cell_type": "raw",
   "metadata": {},
   "source": [
    "Q4. Write a python program to search for a smartphone(e.g.: Oneplus Nord, pixel 4A, etc.) on\n",
    "www.flipkart.com and scrape following details for all the search results displayed on 1st page.\n",
    "Details to be scraped: “Brand Name”, “Smartphone name”, “Colour”, “RAM”,\n",
    "“Storage(ROM)”, “Primary Camera”, “Secondary Camera”, “Display Size”, “Display\n",
    "Resolution”, “Processor”, “Processor Cores”, “Battery Capacity”, “Price”, “Product URL”.\n",
    "Incase if any of the details is missing then replace it by “- “. Save your results in a dataframe\n",
    "and CSV."
   ]
  },
  {
   "cell_type": "raw",
   "metadata": {},
   "source": [
    "******************************************************************************************************************************"
   ]
  },
  {
   "cell_type": "code",
   "execution_count": 379,
   "metadata": {},
   "outputs": [],
   "source": [
    "#let's connect to the webdriver\n",
    "driver = webdriver.Chrome(\"C:/Users/key/AppData/Roaming/Microsoft/Windows/Start Menu/Programs/chromedriver_win32/chromedriver.exe\")"
   ]
  },
  {
   "cell_type": "code",
   "execution_count": 380,
   "metadata": {},
   "outputs": [],
   "source": [
    "driver.get(\"https://www.flipkart.com/\")"
   ]
  },
  {
   "cell_type": "code",
   "execution_count": 381,
   "metadata": {},
   "outputs": [],
   "source": [
    "#locating the search bar\n",
    "search_bar=driver.find_element_by_xpath(\"//input[@title='Search for products, brands and more']\")\n",
    "search_bar.send_keys('pixel 4A')"
   ]
  },
  {
   "cell_type": "code",
   "execution_count": 382,
   "metadata": {},
   "outputs": [],
   "source": [
    "# clicking the search button\n",
    "search_button=driver.find_element_by_xpath(\"//button[@class='L0Z3Pu']\")\n",
    "search_button.click()"
   ]
  },
  {
   "cell_type": "code",
   "execution_count": 862,
   "metadata": {},
   "outputs": [],
   "source": [
    "brand=[]\n",
    "smartphone=[]\n",
    "phone_name=[]\n",
    "colour=[]\n",
    "RAM=[]\n",
    "ROM=[]\n",
    "pri_cam=[]\n",
    "sec_cam=[]\n",
    "disp_size=[]\n",
    "disp_reso=[]\n",
    "processor=[]\n",
    "processor_cores=[]\n",
    "battery_cap=[]\n",
    "price=[]\n",
    "prod_url=[]"
   ]
  },
  {
   "cell_type": "code",
   "execution_count": 872,
   "metadata": {},
   "outputs": [
    {
     "data": {
      "text/plain": [
       "['Google Pixel 4a (Just Black, 128 GB)\\n4.613,502 Ratings & 2,735 Reviews\\n6 GB RAM | 128 GB ROM\\n14.76 cm (5.81 inch) Full HD+ Display\\n12.2MP Rear Camera | 8MP Front Camera\\n3140 mAh Battery\\nQualcomm Snapdragon 730G Processor\\nOLED Display\\n1 Year Warranty\\n₹31,999\\nNo Cost EMI\\nUpto \\n₹16,500\\n Off on Exchange',\n",
       " 'Redmi 9 Prime (Sunrise Flare, 64 GB)\\n4.452,267 Ratings & 3,468 Reviews\\n4 GB RAM | 64 GB ROM | Expandable Upto 512 GB\\n16.59 cm (6.53 inch) Full HD+ Display\\n13MP Rear Camera | 8MP Front Camera\\n5020 mAh Battery\\nMediaTek Helio G80 Processor\\n1 Year Manufacturer Warranty\\n₹9,499\\n₹11,99920% off\\nExchange, 100% Money Back\\nNo Cost EMI',\n",
       " 'Redmi 9 Prime (Matte Black, 64 GB)\\n4.452,267 Ratings & 3,468 Reviews\\n4 GB RAM | 64 GB ROM | Expandable Upto 512 GB\\n16.59 cm (6.53 inch) Full HD+ Display\\n13MP Rear Camera | 8MP Front Camera\\n5020 mAh Battery\\nMediaTek Helio G80 Processor\\n1 Year Manufacturer Warranty\\n₹9,499\\n₹11,99920% off\\nExchange, 100% Money Back\\nNo Cost EMI']"
      ]
     },
     "execution_count": 872,
     "metadata": {},
     "output_type": "execute_result"
    }
   ],
   "source": [
    "#scraping smartphone details\n",
    "phone_nam=driver.find_elements_by_xpath(\"//div[@class='_3pLy-c row']\")\n",
    "for i in phone_nam:      \n",
    "        smartphone.append(i.text)\n",
    "smartphone[0:3]"
   ]
  },
  {
   "cell_type": "code",
   "execution_count": 873,
   "metadata": {},
   "outputs": [],
   "source": [
    "for j in smartphone:\n",
    "    l=j.split('\\n')"
   ]
  },
  {
   "cell_type": "code",
   "execution_count": 874,
   "metadata": {},
   "outputs": [
    {
     "data": {
      "text/plain": [
       "['Redmi Note 9 Pro (Glacier White, 64 GB)',\n",
       " '4.416,207 Ratings & 1,181 Reviews',\n",
       " '4 GB RAM | 64 GB ROM | Expandable Upto 512 GB',\n",
       " '16.94 cm (6.67 inch) Full HD+ Display',\n",
       " '48MP + 8MP + 5MP + 2MP | 16MP Front Camera',\n",
       " '5020 mAh Battery',\n",
       " 'Qualcomm® Snapdragon™ 720G Processor',\n",
       " '1 year manufacturer warranty for device and 6 months manufacturer warranty for in-box accessories',\n",
       " '₹13,446',\n",
       " '₹13,7612% off',\n",
       " 'No Cost EMI']"
      ]
     },
     "execution_count": 874,
     "metadata": {},
     "output_type": "execute_result"
    }
   ],
   "source": [
    "l"
   ]
  },
  {
   "cell_type": "code",
   "execution_count": 875,
   "metadata": {},
   "outputs": [],
   "source": [
    "RAM1=l[2].split(' | ')[0][0:4]"
   ]
  },
  {
   "cell_type": "code",
   "execution_count": 876,
   "metadata": {},
   "outputs": [
    {
     "data": {
      "text/plain": [
       "'4 GB'"
      ]
     },
     "execution_count": 876,
     "metadata": {},
     "output_type": "execute_result"
    }
   ],
   "source": [
    "RAM1"
   ]
  },
  {
   "cell_type": "code",
   "execution_count": 877,
   "metadata": {},
   "outputs": [],
   "source": [
    "ROM1=l[2].split(' | ')[1][0:5]"
   ]
  },
  {
   "cell_type": "code",
   "execution_count": 878,
   "metadata": {},
   "outputs": [
    {
     "data": {
      "text/plain": [
       "'64 GB'"
      ]
     },
     "execution_count": 878,
     "metadata": {},
     "output_type": "execute_result"
    }
   ],
   "source": [
    "ROM1"
   ]
  },
  {
   "cell_type": "code",
   "execution_count": 879,
   "metadata": {},
   "outputs": [
    {
     "data": {
      "text/plain": [
       "'Redmi'"
      ]
     },
     "execution_count": 879,
     "metadata": {},
     "output_type": "execute_result"
    }
   ],
   "source": [
    "brand1=l[0].split(' ')[0]\n",
    "brand1"
   ]
  },
  {
   "cell_type": "code",
   "execution_count": 880,
   "metadata": {},
   "outputs": [
    {
     "data": {
      "text/plain": [
       "'16.94'"
      ]
     },
     "execution_count": 880,
     "metadata": {},
     "output_type": "execute_result"
    }
   ],
   "source": [
    "disp_size1=l[3].split(' ')[0]\n",
    "disp_size1"
   ]
  },
  {
   "cell_type": "code",
   "execution_count": 881,
   "metadata": {},
   "outputs": [
    {
     "data": {
      "text/plain": [
       "'Full'"
      ]
     },
     "execution_count": 881,
     "metadata": {},
     "output_type": "execute_result"
    }
   ],
   "source": [
    "disp_reso1=l[3].split(' ')[4]\n",
    "disp_reso1"
   ]
  },
  {
   "cell_type": "code",
   "execution_count": 882,
   "metadata": {},
   "outputs": [
    {
     "data": {
      "text/plain": [
       "'48MP'"
      ]
     },
     "execution_count": 882,
     "metadata": {},
     "output_type": "execute_result"
    }
   ],
   "source": [
    "camera1=l[4].split(' ')[0]\n",
    "camera1"
   ]
  },
  {
   "cell_type": "code",
   "execution_count": 885,
   "metadata": {},
   "outputs": [
    {
     "data": {
      "text/plain": [
       "'16MP'"
      ]
     },
     "execution_count": 885,
     "metadata": {},
     "output_type": "execute_result"
    }
   ],
   "source": [
    "camera1_sec=l[4].split(' | ')[1][0:4]\n",
    "camera1_sec"
   ]
  },
  {
   "cell_type": "code",
   "execution_count": 886,
   "metadata": {},
   "outputs": [
    {
     "data": {
      "text/plain": [
       "'5020'"
      ]
     },
     "execution_count": 886,
     "metadata": {},
     "output_type": "execute_result"
    }
   ],
   "source": [
    "battery1=l[5].split(' ')[0]\n",
    "battery1"
   ]
  },
  {
   "cell_type": "code",
   "execution_count": 887,
   "metadata": {},
   "outputs": [
    {
     "data": {
      "text/plain": [
       "'Qualcomm® Snapdragon™ 720G Processor'"
      ]
     },
     "execution_count": 887,
     "metadata": {},
     "output_type": "execute_result"
    }
   ],
   "source": [
    "processor1=l[6]\n",
    "processor1"
   ]
  },
  {
   "cell_type": "code",
   "execution_count": 888,
   "metadata": {},
   "outputs": [
    {
     "data": {
      "text/plain": [
       "'₹13,446'"
      ]
     },
     "execution_count": 888,
     "metadata": {},
     "output_type": "execute_result"
    }
   ],
   "source": [
    "price1=l[8]\n",
    "price1"
   ]
  },
  {
   "cell_type": "code",
   "execution_count": 889,
   "metadata": {},
   "outputs": [
    {
     "data": {
      "text/plain": [
       "'(Glacier'"
      ]
     },
     "execution_count": 889,
     "metadata": {},
     "output_type": "execute_result"
    }
   ],
   "source": [
    "colour1=l[0].split(' ')[4]\n",
    "colour1"
   ]
  },
  {
   "cell_type": "code",
   "execution_count": 815,
   "metadata": {},
   "outputs": [
    {
     "data": {
      "text/plain": [
       "'Note 9'"
      ]
     },
     "execution_count": 815,
     "metadata": {},
     "output_type": "execute_result"
    }
   ],
   "source": [
    "phone_nam1=l[0][6:12]\n",
    "phone_nam1"
   ]
  },
  {
   "cell_type": "code",
   "execution_count": 890,
   "metadata": {},
   "outputs": [],
   "source": [
    "prod_url1=driver.find_element_by_xpath(\"//div[@data-tkid='8a09b65e-16eb-4ac5-936e-dc0b57aba989.MOBFPZXU9QDDSKNU.SEARCH']/a\").get_attribute('href')\n",
    "driver.get(prod_url1)"
   ]
  },
  {
   "cell_type": "code",
   "execution_count": 891,
   "metadata": {},
   "outputs": [
    {
     "data": {
      "text/plain": [
       "'https://www.flipkart.com/redmi-note-9-pro-glacier-white-64-gb/p/itma84d60532d415?pid=MOBFPZXU9QDDSKNU&lid=LSTMOBFPZXU9QDDSKNUO6JRCH&marketplace=FLIPKART&srno=s_1_24&otracker=search&otracker1=search&fm=organic&iid=8a09b65e-16eb-4ac5-936e-dc0b57aba989.MOBFPZXU9QDDSKNU.SEARCH&ssid=o7wb4wjrcw0000001614146198568&qH=9b26a23b2cff510d'"
      ]
     },
     "execution_count": 891,
     "metadata": {},
     "output_type": "execute_result"
    }
   ],
   "source": [
    "prod_url1"
   ]
  },
  {
   "cell_type": "code",
   "execution_count": 892,
   "metadata": {},
   "outputs": [],
   "source": [
    "for k in smartphone[0:1]:\n",
    "    m=k.split('\\n')"
   ]
  },
  {
   "cell_type": "code",
   "execution_count": 893,
   "metadata": {},
   "outputs": [
    {
     "data": {
      "text/plain": [
       "['Google Pixel 4a (Just Black, 128 GB)',\n",
       " '4.613,502 Ratings & 2,735 Reviews',\n",
       " '6 GB RAM | 128 GB ROM',\n",
       " '14.76 cm (5.81 inch) Full HD+ Display',\n",
       " '12.2MP Rear Camera | 8MP Front Camera',\n",
       " '3140 mAh Battery',\n",
       " 'Qualcomm Snapdragon 730G Processor',\n",
       " 'OLED Display',\n",
       " '1 Year Warranty',\n",
       " '₹31,999',\n",
       " 'No Cost EMI',\n",
       " 'Upto ',\n",
       " '₹16,500',\n",
       " ' Off on Exchange']"
      ]
     },
     "execution_count": 893,
     "metadata": {},
     "output_type": "execute_result"
    }
   ],
   "source": [
    "m"
   ]
  },
  {
   "cell_type": "code",
   "execution_count": 818,
   "metadata": {},
   "outputs": [],
   "source": [
    "RAM2=m[2].split(' | ')[0][0:4]"
   ]
  },
  {
   "cell_type": "code",
   "execution_count": 819,
   "metadata": {},
   "outputs": [
    {
     "data": {
      "text/plain": [
       "'6 GB'"
      ]
     },
     "execution_count": 819,
     "metadata": {},
     "output_type": "execute_result"
    }
   ],
   "source": [
    "RAM2"
   ]
  },
  {
   "cell_type": "code",
   "execution_count": 820,
   "metadata": {},
   "outputs": [],
   "source": [
    "ROM2=m[2].split(' | ')[1]"
   ]
  },
  {
   "cell_type": "code",
   "execution_count": 821,
   "metadata": {},
   "outputs": [
    {
     "data": {
      "text/plain": [
       "'Google'"
      ]
     },
     "execution_count": 821,
     "metadata": {},
     "output_type": "execute_result"
    }
   ],
   "source": [
    "brand2=m[0].split(' ')[0]\n",
    "brand2"
   ]
  },
  {
   "cell_type": "code",
   "execution_count": 822,
   "metadata": {},
   "outputs": [
    {
     "data": {
      "text/plain": [
       "'14.76'"
      ]
     },
     "execution_count": 822,
     "metadata": {},
     "output_type": "execute_result"
    }
   ],
   "source": [
    "disp_size2=m[3].split(' ')[0]\n",
    "disp_size2"
   ]
  },
  {
   "cell_type": "code",
   "execution_count": 823,
   "metadata": {},
   "outputs": [
    {
     "data": {
      "text/plain": [
       "'Full'"
      ]
     },
     "execution_count": 823,
     "metadata": {},
     "output_type": "execute_result"
    }
   ],
   "source": [
    "disp_reso2=m[3].split(' ')[4]\n",
    "disp_reso2"
   ]
  },
  {
   "cell_type": "code",
   "execution_count": 824,
   "metadata": {},
   "outputs": [
    {
     "data": {
      "text/plain": [
       "'12.2MP'"
      ]
     },
     "execution_count": 824,
     "metadata": {},
     "output_type": "execute_result"
    }
   ],
   "source": [
    "camera2=m[4].split(' ')[0]\n",
    "camera2"
   ]
  },
  {
   "cell_type": "code",
   "execution_count": 825,
   "metadata": {},
   "outputs": [
    {
     "data": {
      "text/plain": [
       "'8MP'"
      ]
     },
     "execution_count": 825,
     "metadata": {},
     "output_type": "execute_result"
    }
   ],
   "source": [
    "camera2_sec=m[4].split(' | ')[1][0:3]\n",
    "camera2_sec"
   ]
  },
  {
   "cell_type": "code",
   "execution_count": 826,
   "metadata": {},
   "outputs": [
    {
     "data": {
      "text/plain": [
       "'3140'"
      ]
     },
     "execution_count": 826,
     "metadata": {},
     "output_type": "execute_result"
    }
   ],
   "source": [
    "battery2=m[5].split(' ')[0]\n",
    "battery2"
   ]
  },
  {
   "cell_type": "code",
   "execution_count": 827,
   "metadata": {},
   "outputs": [
    {
     "data": {
      "text/plain": [
       "'Qualcomm Snapdragon 730G Processor'"
      ]
     },
     "execution_count": 827,
     "metadata": {},
     "output_type": "execute_result"
    }
   ],
   "source": [
    "processor2=m[6]\n",
    "processor2"
   ]
  },
  {
   "cell_type": "code",
   "execution_count": 828,
   "metadata": {},
   "outputs": [
    {
     "data": {
      "text/plain": [
       "'₹31,999'"
      ]
     },
     "execution_count": 828,
     "metadata": {},
     "output_type": "execute_result"
    }
   ],
   "source": [
    "price2=m[9]\n",
    "price2"
   ]
  },
  {
   "cell_type": "code",
   "execution_count": 829,
   "metadata": {},
   "outputs": [
    {
     "data": {
      "text/plain": [
       "'Black,'"
      ]
     },
     "execution_count": 829,
     "metadata": {},
     "output_type": "execute_result"
    }
   ],
   "source": [
    "colour2=m[0].split(' ')[4]\n",
    "colour2"
   ]
  },
  {
   "cell_type": "code",
   "execution_count": 830,
   "metadata": {},
   "outputs": [
    {
     "data": {
      "text/plain": [
       "'Pixel 4a'"
      ]
     },
     "execution_count": 830,
     "metadata": {},
     "output_type": "execute_result"
    }
   ],
   "source": [
    "phone_nam2=m[0][7:15]\n",
    "phone_nam2"
   ]
  },
  {
   "cell_type": "code",
   "execution_count": 852,
   "metadata": {},
   "outputs": [],
   "source": [
    "prod_url2=driver.find_element_by_xpath(\"//a[@class='_1fQZEK']\").get_attribute('href')\n",
    "driver.get(prod_url2)"
   ]
  },
  {
   "cell_type": "code",
   "execution_count": 853,
   "metadata": {},
   "outputs": [
    {
     "data": {
      "text/plain": [
       "'https://www.flipkart.com/google-pixel-4a-just-black-128-gb/p/itm023b9677aa45d?pid=MOBFUSBNAZGY7HQU&lid=LSTMOBFUSBNAZGY7HQUWHTF0C&marketplace=FLIPKART&srno=s_1_1&otracker=search&otracker1=search&fm=organic&iid=8a09b65e-16eb-4ac5-936e-dc0b57aba989.MOBFUSBNAZGY7HQU.SEARCH&ssid=o7wb4wjrcw0000001614146198568&qH=9b26a23b2cff510d'"
      ]
     },
     "execution_count": 853,
     "metadata": {},
     "output_type": "execute_result"
    }
   ],
   "source": [
    "prod_url2"
   ]
  },
  {
   "cell_type": "code",
   "execution_count": 894,
   "metadata": {},
   "outputs": [],
   "source": [
    "for l in smartphone[0:2]:\n",
    "    n=l.split('\\n')"
   ]
  },
  {
   "cell_type": "code",
   "execution_count": 895,
   "metadata": {},
   "outputs": [
    {
     "data": {
      "text/plain": [
       "['Redmi 9 Prime (Sunrise Flare, 64 GB)',\n",
       " '4.452,267 Ratings & 3,468 Reviews',\n",
       " '4 GB RAM | 64 GB ROM | Expandable Upto 512 GB',\n",
       " '16.59 cm (6.53 inch) Full HD+ Display',\n",
       " '13MP Rear Camera | 8MP Front Camera',\n",
       " '5020 mAh Battery',\n",
       " 'MediaTek Helio G80 Processor',\n",
       " '1 Year Manufacturer Warranty',\n",
       " '₹9,499',\n",
       " '₹11,99920% off',\n",
       " 'Exchange, 100% Money Back',\n",
       " 'No Cost EMI']"
      ]
     },
     "execution_count": 895,
     "metadata": {},
     "output_type": "execute_result"
    }
   ],
   "source": [
    "n"
   ]
  },
  {
   "cell_type": "code",
   "execution_count": 896,
   "metadata": {},
   "outputs": [
    {
     "data": {
      "text/plain": [
       "'4 GB'"
      ]
     },
     "execution_count": 896,
     "metadata": {},
     "output_type": "execute_result"
    }
   ],
   "source": [
    "RAM3=n[2].split(' | ')[0][0:4]\n",
    "RAM3"
   ]
  },
  {
   "cell_type": "code",
   "execution_count": 897,
   "metadata": {},
   "outputs": [
    {
     "data": {
      "text/plain": [
       "'64 GB'"
      ]
     },
     "execution_count": 897,
     "metadata": {},
     "output_type": "execute_result"
    }
   ],
   "source": [
    "ROM3=n[2].split(' | ')[1][0:5]\n",
    "ROM3"
   ]
  },
  {
   "cell_type": "code",
   "execution_count": 898,
   "metadata": {},
   "outputs": [
    {
     "data": {
      "text/plain": [
       "'Redmi'"
      ]
     },
     "execution_count": 898,
     "metadata": {},
     "output_type": "execute_result"
    }
   ],
   "source": [
    "brand3=n[0].split(' ')[0]\n",
    "brand3"
   ]
  },
  {
   "cell_type": "code",
   "execution_count": 899,
   "metadata": {},
   "outputs": [
    {
     "data": {
      "text/plain": [
       "'16.59'"
      ]
     },
     "execution_count": 899,
     "metadata": {},
     "output_type": "execute_result"
    }
   ],
   "source": [
    "disp_size3=n[3].split(' ')[0]\n",
    "disp_size3"
   ]
  },
  {
   "cell_type": "code",
   "execution_count": 900,
   "metadata": {},
   "outputs": [
    {
     "data": {
      "text/plain": [
       "'Full'"
      ]
     },
     "execution_count": 900,
     "metadata": {},
     "output_type": "execute_result"
    }
   ],
   "source": [
    "disp_reso3=n[3].split(' ')[4]\n",
    "disp_reso3"
   ]
  },
  {
   "cell_type": "code",
   "execution_count": 901,
   "metadata": {},
   "outputs": [
    {
     "data": {
      "text/plain": [
       "'13MP'"
      ]
     },
     "execution_count": 901,
     "metadata": {},
     "output_type": "execute_result"
    }
   ],
   "source": [
    "camera3=n[4].split(' ')[0]\n",
    "camera3"
   ]
  },
  {
   "cell_type": "code",
   "execution_count": 902,
   "metadata": {},
   "outputs": [
    {
     "data": {
      "text/plain": [
       "'8MP'"
      ]
     },
     "execution_count": 902,
     "metadata": {},
     "output_type": "execute_result"
    }
   ],
   "source": [
    "camera3_sec=n[4].split(' | ')[1][0:3]\n",
    "camera3_sec"
   ]
  },
  {
   "cell_type": "code",
   "execution_count": 903,
   "metadata": {},
   "outputs": [
    {
     "data": {
      "text/plain": [
       "'5020'"
      ]
     },
     "execution_count": 903,
     "metadata": {},
     "output_type": "execute_result"
    }
   ],
   "source": [
    "battery3=n[5].split(' ')[0]\n",
    "battery3"
   ]
  },
  {
   "cell_type": "code",
   "execution_count": 904,
   "metadata": {},
   "outputs": [
    {
     "data": {
      "text/plain": [
       "'MediaTek Helio G80 Processor'"
      ]
     },
     "execution_count": 904,
     "metadata": {},
     "output_type": "execute_result"
    }
   ],
   "source": [
    "processor3=n[6]\n",
    "processor3"
   ]
  },
  {
   "cell_type": "code",
   "execution_count": 905,
   "metadata": {},
   "outputs": [
    {
     "data": {
      "text/plain": [
       "'₹9,499'"
      ]
     },
     "execution_count": 905,
     "metadata": {},
     "output_type": "execute_result"
    }
   ],
   "source": [
    "price3=n[8]\n",
    "price3"
   ]
  },
  {
   "cell_type": "code",
   "execution_count": 906,
   "metadata": {},
   "outputs": [
    {
     "data": {
      "text/plain": [
       "'Flare,'"
      ]
     },
     "execution_count": 906,
     "metadata": {},
     "output_type": "execute_result"
    }
   ],
   "source": [
    "colour3=n[0].split(' ')[4]\n",
    "colour3"
   ]
  },
  {
   "cell_type": "code",
   "execution_count": 907,
   "metadata": {},
   "outputs": [
    {
     "data": {
      "text/plain": [
       "'9 Prime'"
      ]
     },
     "execution_count": 907,
     "metadata": {},
     "output_type": "execute_result"
    }
   ],
   "source": [
    "phone_nam3=n[0][6:13]\n",
    "phone_nam3"
   ]
  },
  {
   "cell_type": "code",
   "execution_count": 908,
   "metadata": {},
   "outputs": [],
   "source": [
    "prod_url3=driver.find_element_by_xpath(\"//div[@data-tkid='8a09b65e-16eb-4ac5-936e-dc0b57aba989.MOBFUTBVDZHZSG2P.SEARCH']/a\").get_attribute('href')\n",
    "driver.get(prod_url3)"
   ]
  },
  {
   "cell_type": "code",
   "execution_count": 909,
   "metadata": {},
   "outputs": [
    {
     "data": {
      "text/plain": [
       "'https://www.flipkart.com/redmi-9-prime-sunrise-flare-64-gb/p/itmf39267de2a027?pid=MOBFUTBVDZHZSG2P&lid=LSTMOBFUTBVDZHZSG2PDEKID5&marketplace=FLIPKART&srno=s_1_2&otracker=search&otracker1=search&fm=organic&iid=8a09b65e-16eb-4ac5-936e-dc0b57aba989.MOBFUTBVDZHZSG2P.SEARCH&ssid=o7wb4wjrcw0000001614146198568&qH=9b26a23b2cff510d'"
      ]
     },
     "execution_count": 909,
     "metadata": {},
     "output_type": "execute_result"
    }
   ],
   "source": [
    "prod_url3"
   ]
  },
  {
   "cell_type": "code",
   "execution_count": 910,
   "metadata": {},
   "outputs": [],
   "source": [
    "brand.append(brand1)\n",
    "phone_name.append(phone_nam1)\n",
    "colour.append(colour1)\n",
    "RAM.append(RAM1)\n",
    "ROM.append(ROM1)\n",
    "pri_cam.append(camera1)\n",
    "sec_cam.append(camera1_sec)\n",
    "disp_size.append(disp_size1)\n",
    "disp_reso.append(disp_reso1)\n",
    "processor.append(processor1)\n",
    "battery_cap.append(battery1)\n",
    "price.append(price1)\n",
    "prod_url.append(prod_url1)"
   ]
  },
  {
   "cell_type": "code",
   "execution_count": 911,
   "metadata": {},
   "outputs": [],
   "source": [
    "brand.append(brand2)\n",
    "phone_name.append(phone_nam2)\n",
    "colour.append(colour2)\n",
    "RAM.append(RAM2)\n",
    "ROM.append(ROM2)\n",
    "pri_cam.append(camera2)\n",
    "sec_cam.append(camera2_sec)\n",
    "disp_size.append(disp_size2)\n",
    "disp_reso.append(disp_reso2)\n",
    "processor.append(processor2)\n",
    "battery_cap.append(battery2)\n",
    "price.append(price2)\n",
    "prod_url.append(prod_url2)"
   ]
  },
  {
   "cell_type": "code",
   "execution_count": 912,
   "metadata": {},
   "outputs": [],
   "source": [
    "brand.append(brand3)\n",
    "phone_name.append(phone_nam3)\n",
    "colour.append(colour3)\n",
    "RAM.append(RAM3)\n",
    "ROM.append(ROM3)\n",
    "pri_cam.append(camera3)\n",
    "sec_cam.append(camera3_sec)\n",
    "disp_size.append(disp_size3)\n",
    "disp_reso.append(disp_reso3)\n",
    "processor.append(processor3)\n",
    "battery_cap.append(battery3)\n",
    "price.append(price3)\n",
    "prod_url.append(prod_url3)"
   ]
  },
  {
   "cell_type": "code",
   "execution_count": 913,
   "metadata": {},
   "outputs": [],
   "source": [
    "mobile=pd.DataFrame({})\n",
    "mobile['brand_name']=brand\n",
    "mobile['phone_name']=phone_name\n",
    "mobile['colour']=colour\n",
    "mobile['RAM']=RAM\n",
    "mobile['ROM']=ROM\n",
    "mobile['pri_camera']=pri_cam\n",
    "mobile['sec_camera']=sec_cam\n",
    "mobile['display_size']=disp_size\n",
    "mobile['display_reso']=disp_reso\n",
    "mobile['processor']=processor\n",
    "mobile['battery_capacity']=battery_cap\n",
    "mobile['price']=price\n",
    "mobile['URL']=prod_url"
   ]
  },
  {
   "cell_type": "code",
   "execution_count": 914,
   "metadata": {},
   "outputs": [
    {
     "data": {
      "text/html": [
       "<div>\n",
       "<style scoped>\n",
       "    .dataframe tbody tr th:only-of-type {\n",
       "        vertical-align: middle;\n",
       "    }\n",
       "\n",
       "    .dataframe tbody tr th {\n",
       "        vertical-align: top;\n",
       "    }\n",
       "\n",
       "    .dataframe thead th {\n",
       "        text-align: right;\n",
       "    }\n",
       "</style>\n",
       "<table border=\"1\" class=\"dataframe\">\n",
       "  <thead>\n",
       "    <tr style=\"text-align: right;\">\n",
       "      <th></th>\n",
       "      <th>brand_name</th>\n",
       "      <th>phone_name</th>\n",
       "      <th>colour</th>\n",
       "      <th>RAM</th>\n",
       "      <th>ROM</th>\n",
       "      <th>pri_camera</th>\n",
       "      <th>sec_camera</th>\n",
       "      <th>display_size</th>\n",
       "      <th>display_reso</th>\n",
       "      <th>processor</th>\n",
       "      <th>battery_capacity</th>\n",
       "      <th>price</th>\n",
       "      <th>URL</th>\n",
       "    </tr>\n",
       "  </thead>\n",
       "  <tbody>\n",
       "    <tr>\n",
       "      <th>0</th>\n",
       "      <td>Redmi</td>\n",
       "      <td>Note 9</td>\n",
       "      <td>(Glacier</td>\n",
       "      <td>4 GB</td>\n",
       "      <td>64 GB</td>\n",
       "      <td>48MP</td>\n",
       "      <td>16MP</td>\n",
       "      <td>16.94</td>\n",
       "      <td>Full</td>\n",
       "      <td>Qualcomm® Snapdragon™ 720G Processor</td>\n",
       "      <td>5020</td>\n",
       "      <td>₹13,446</td>\n",
       "      <td>https://www.flipkart.com/redmi-note-9-pro-glac...</td>\n",
       "    </tr>\n",
       "    <tr>\n",
       "      <th>1</th>\n",
       "      <td>Google</td>\n",
       "      <td>Pixel 4a</td>\n",
       "      <td>Black,</td>\n",
       "      <td>6 GB</td>\n",
       "      <td>128 GB ROM</td>\n",
       "      <td>12.2MP</td>\n",
       "      <td>8MP</td>\n",
       "      <td>14.76</td>\n",
       "      <td>Full</td>\n",
       "      <td>Qualcomm Snapdragon 730G Processor</td>\n",
       "      <td>3140</td>\n",
       "      <td>₹31,999</td>\n",
       "      <td>https://www.flipkart.com/google-pixel-4a-just-...</td>\n",
       "    </tr>\n",
       "    <tr>\n",
       "      <th>2</th>\n",
       "      <td>Redmi</td>\n",
       "      <td>9 Prime</td>\n",
       "      <td>Flare,</td>\n",
       "      <td>4 GB</td>\n",
       "      <td>64 GB</td>\n",
       "      <td>13MP</td>\n",
       "      <td>8MP</td>\n",
       "      <td>16.59</td>\n",
       "      <td>Full</td>\n",
       "      <td>MediaTek Helio G80 Processor</td>\n",
       "      <td>5020</td>\n",
       "      <td>₹9,499</td>\n",
       "      <td>https://www.flipkart.com/redmi-9-prime-sunrise...</td>\n",
       "    </tr>\n",
       "  </tbody>\n",
       "</table>\n",
       "</div>"
      ],
      "text/plain": [
       "  brand_name phone_name    colour   RAM         ROM pri_camera sec_camera  \\\n",
       "0      Redmi     Note 9  (Glacier  4 GB       64 GB       48MP       16MP   \n",
       "1     Google   Pixel 4a    Black,  6 GB  128 GB ROM     12.2MP        8MP   \n",
       "2      Redmi    9 Prime    Flare,  4 GB       64 GB       13MP        8MP   \n",
       "\n",
       "  display_size display_reso                             processor  \\\n",
       "0        16.94         Full  Qualcomm® Snapdragon™ 720G Processor   \n",
       "1        14.76         Full    Qualcomm Snapdragon 730G Processor   \n",
       "2        16.59         Full          MediaTek Helio G80 Processor   \n",
       "\n",
       "  battery_capacity    price                                                URL  \n",
       "0             5020  ₹13,446  https://www.flipkart.com/redmi-note-9-pro-glac...  \n",
       "1             3140  ₹31,999  https://www.flipkart.com/google-pixel-4a-just-...  \n",
       "2             5020   ₹9,499  https://www.flipkart.com/redmi-9-prime-sunrise...  "
      ]
     },
     "execution_count": 914,
     "metadata": {},
     "output_type": "execute_result"
    }
   ],
   "source": [
    "mobile"
   ]
  },
  {
   "cell_type": "code",
   "execution_count": 920,
   "metadata": {},
   "outputs": [],
   "source": [
    "mobile.to_csv('phones.csv', index = False)"
   ]
  },
  {
   "cell_type": "raw",
   "metadata": {},
   "source": [
    "******************************************************************************************************************************"
   ]
  },
  {
   "cell_type": "raw",
   "metadata": {},
   "source": [
    "Q5. Write a program to scrap geospatial coordinates (latitude, longitude) of a city searched on\n",
    "google maps."
   ]
  },
  {
   "cell_type": "raw",
   "metadata": {},
   "source": [
    "******************************************************************************************************************************"
   ]
  },
  {
   "cell_type": "code",
   "execution_count": 276,
   "metadata": {},
   "outputs": [],
   "source": [
    "from bs4 import BeautifulSoup\n",
    "import requests"
   ]
  },
  {
   "cell_type": "code",
   "execution_count": 277,
   "metadata": {},
   "outputs": [],
   "source": [
    "page=requests.get('https://www.google.com/maps/place')"
   ]
  },
  {
   "cell_type": "code",
   "execution_count": 320,
   "metadata": {
    "collapsed": true
   },
   "outputs": [
    {
     "data": {
      "text/plain": [
       "b'<!DOCTYPE html><html itemscope=\"\" itemtype=\"http://schema.org/Place\" lang=\"en-IN\"> <head> <link href=\"/maps/preview/opensearch.xml?hl=en\" title=\"Google Maps\" rel=\"search\" type=\"application/opensearchdescription+xml\"> <title>  Google Maps  </title> <meta content=\" Find local businesses, view maps and get driving directions in Google Maps. \" name=\"Description\">  <meta content=\"initial-scale=1.0, maximum-scale=1.0, minimum-scale=1.0, user-scalable=no\" name=\"viewport\"> <meta content=\"chrome=1\" http-equiv=\"X-UA-Compatible\"> <meta content=\"notranslate\" name=\"google\"> <meta content=\"origin\" name=\"referrer\">   <meta content=\"Google Maps\" itemprop=\"name\"> <meta content=\"Google Maps\" property=\"og:title\"> <meta content=\"https://maps.google.com/maps/api/staticmap?center=22.4168315%2C71.31966105&amp;zoom=7&amp;size=256x256&amp;language=en&amp;sensor=false&amp;client=google-maps-frontend&amp;signature=-2gKQKfnEs5f6Nz2_VweHGp5YxQ\" itemprop=\"image\"> <meta content=\"https://maps.google.com/maps/api/staticmap?center=22.4168315%2C71.31966105&amp;zoom=7&amp;size=256x256&amp;language=en&amp;sensor=false&amp;client=google-maps-frontend&amp;signature=-2gKQKfnEs5f6Nz2_VweHGp5YxQ\" property=\"og:image\"> <meta content=\"256\" property=\"og:image:width\"> <meta content=\"256\" property=\"og:image:height\">  <meta content=\"Find local businesses, view maps and get driving directions in Google Maps.\" itemprop=\"description\"> <meta content=\"Find local businesses, view maps and get driving directions in Google Maps.\" property=\"og:description\">  <meta content=\"Google Maps\" property=\"og:site_name\"> <meta content=\"summary\" name=\"twitter:card\">      <script nonce=\"a4+eYD+ZNrkLaD8Y10OlAg==\">(function(){(function(){function c(d){this.t={};this.tick=function(g,e,f){e=void 0!=f?f:(new Date).getTime();this.t[g]=e};this.getStartTickTime=function(){return this.t.start};this.tick(\"start\",null,d)}var b;if(window.performance)var a=(b=window.performance.timing)&&b.responseStart;var h=0<a?new c(a):new c;window.tactilecsi={Timer:c,load:h};b&&(b=b.navigationStart,0<b&&a>=b&&(window.tactilecsi.srt=a-b));try{a=null,window.chrome&&window.chrome.csi&&(a=Math.floor(window.chrome.csi().pageT)),null==a&&window.gtbExternal&&\\n(a=window.gtbExternal.pageT()),null==a&&window.external&&(a=window.external.pageT),a&&(window.tactilecsi.pt=a)}catch(d){}})();}).call(this);</script> <script nonce=\"a4+eYD+ZNrkLaD8Y10OlAg==\">function tick(t){if (window.tactilecsi){window.tactilecsi.load.tick(t);}\\nif (window[\\'wtf\\']&& window[\\'wtf\\'][\\'trace\\']&&\\nwindow[\\'wtf\\'][\\'trace\\'][\\'timeStamp\\']){window[\\'wtf\\'][\\'trace\\'][\\'timeStamp\\'](\\'application.\\' + t);}\\n}\\n</script> <script nonce=\"a4+eYD+ZNrkLaD8Y10OlAg==\">\\ntick(\\'start\\');tick(\\'p0\\');</script> <script nonce=\"a4+eYD+ZNrkLaD8Y10OlAg==\">(function(){\\n\\'use strict\\';var k=\"function\"==typeof Object.create?Object.create:function(a){var b=function(){};b.prototype=a;return new b},l;if(\"function\"==typeof Object.setPrototypeOf)l=Object.setPrototypeOf;else{var m;a:{var n={a:!0},p={};try{p.__proto__=n;m=p.a;break a}catch(a){}m=!1}l=m?function(a,b){a.__proto__=b;if(a.__proto__!==b)throw new TypeError(a+\" is not extensible\");return a}:null}var q=l,r=this||self,t=function(){},u=function(a){var b=typeof a;return\"object\"==b&&null!=a||\"function\"==b},v=function(a,b){a=a.split(\".\");var c=r;a[0]in c||\"undefined\"==typeof c.execScript||c.execScript(\"var \"+a[0]);for(var d;a.length&&(d=a.shift());)a.length||void 0===b?c[d]&&c[d]!==Object.prototype[d]?c=c[d]:c=c[d]={}:c[d]=b},w=function(a,b){function c(){}\\nc.prototype=b.prototype;a.l=b.prototype;a.prototype=new c;a.prototype.constructor=a;a.s=function(d,e,f){for(var g=Array(arguments.length-2),h=2;h<arguments.length;h++)g[h-2]=arguments[h];return b.prototype[e].apply(d,g)}};var x=Array.prototype.indexOf?function(a,b){return Array.prototype.indexOf.call(a,b,void 0)}:function(a,b){if(\"string\"===typeof a)return\"string\"!==typeof b||1!=b.length?-1:a.indexOf(b,0);for(var c=0;c<a.length;c++)if(c in a&&a[c]===b)return c;return-1};var y;a:{var z=r.navigator;if(z){var A=z.userAgent;if(A){y=A;break a}}y=\"\"};var B=function(a,b,c){for(var d in a)b.call(c,a[d],d,a)};var C=function(a){C[\" \"](a);return a};C[\" \"]=t;var aa=-1!=y.indexOf(\"Gecko\")&&!(-1!=y.toLowerCase().indexOf(\"webkit\")&&-1==y.indexOf(\"Edge\"))&&!(-1!=y.indexOf(\"Trident\")||-1!=y.indexOf(\"MSIE\"))&&-1==y.indexOf(\"Edge\");var D=function(){this.h=this.h;this.j=this.j};D.prototype.h=!1;D.prototype.g=function(){if(this.j)for(;this.j.length;)this.j.shift()()};var ba=function(){if(!r.addEventListener||!Object.defineProperty)return!1;var a=!1,b=Object.defineProperty({},\"passive\",{get:function(){a=!0}});try{r.addEventListener(\"test\",t,b),r.removeEventListener(\"test\",t,b)}catch(c){}return a}();var E=function(a,b){this.type=a;this.currentTarget=this.target=b};E.prototype.g=function(){};var F=function(a,b){E.call(this,a?a.type:\"\");this.relatedTarget=this.currentTarget=this.target=null;this.button=this.screenY=this.screenX=this.clientY=this.clientX=0;this.key=\"\";this.metaKey=this.shiftKey=this.altKey=this.ctrlKey=!1;this.state=null;this.pointerId=0;this.pointerType=\"\";this.h=null;if(a){var c=this.type=a.type,d=a.changedTouches&&a.changedTouches.length?a.changedTouches[0]:null;this.target=a.target||a.srcElement;this.currentTarget=b;if(b=a.relatedTarget){if(aa){a:{try{C(b.nodeName);var e=!0;break a}catch(f){}e=!1}e||(b=null)}}else\"mouseover\"==c?b=a.fromElement:\"mouseout\"==c&&(b=a.toElement);this.relatedTarget=b;d?(this.clientX=void 0!==d.clientX?d.clientX:d.pageX,this.clientY=void 0!==d.clientY?d.clientY:d.pageY,this.screenX=d.screenX||0,this.screenY=d.screenY||0):(this.clientX=void 0!==a.clientX?a.clientX:a.pageX,this.clientY=void 0!==a.clientY?a.clientY:a.pageY,this.screenX=a.screenX||0,this.screenY=a.screenY||0);this.button=a.button;this.key=a.key||\"\";this.ctrlKey=a.ctrlKey;this.altKey=a.altKey;this.shiftKey=a.shiftKey;this.metaKey=a.metaKey;this.pointerId=a.pointerId||0;this.pointerType=\"string\"===typeof a.pointerType?a.pointerType:ca[a.pointerType]||\"\";this.state=a.state;this.h=a;a.defaultPrevented&&F.l.g.call(this)}};w(F,E);var ca={2:\"touch\",3:\"pen\",4:\"mouse\"};F.prototype.g=function(){F.l.g.call(this);var a=this.h;a.preventDefault?a.preventDefault():a.returnValue=!1};var G=\"closure_listenable_\"+(1E6*Math.random()|0);var da=0;var ea=function(a,b,c,d,e){this.listener=a;this.g=null;this.src=b;this.type=c;this.capture=!!d;this.i=e;this.key=++da;this.h=this.m=!1},H=function(a){a.h=!0;a.listener=null;a.g=null;a.src=null;a.i=null};var I=function(a){this.src=a;this.g={};this.h=0};I.prototype.add=function(a,b,c,d,e){var f=a.toString();a=this.g[f];a||(a=this.g[f]=[],this.h++);var g;a:{for(g=0;g<a.length;++g){var h=a[g];if(!h.h&&h.listener==b&&h.capture==!!d&&h.i==e)break a}g=-1}-1<g?(b=a[g],c||(b.m=!1)):(b=new ea(b,this.src,f,!!d,e),b.m=c,a.push(b));return b};var J=\"closure_lm_\"+(1E6*Math.random()|0),K={},L=0,N=function(a,b,c,d,e){if(d&&d.once)return M(a,b,c,d,e);if(Array.isArray(b)){for(var f=0;f<b.length;f++)N(a,b[f],c,d,e);return null}c=O(c);return a&&a[G]?a.g(b,c,u(d)?!!d.capture:!!d,e):P(a,b,c,!1,d,e)},P=function(a,b,c,d,e,f){if(!b)throw Error(\"Invalid event type\");var g=u(e)?!!e.capture:!!e,h=Q(a);h||(a[J]=h=new I(a));c=h.add(b,c,d,g,f);if(c.g)return c;d=fa();c.g=d;d.src=a;d.listener=c;if(a.addEventListener)ba||(e=g),void 0===e&&(e=!1),a.addEventListener(b.toString(),d,e);else if(a.attachEvent)a.attachEvent(R(b.toString()),d);else if(a.addListener&&a.removeListener)a.addListener(d);else throw Error(\"addEventListener and attachEvent are unavailable.\");L++;return c},fa=function(){var a=ha,b=function(c){return a.call(b.src,b.listener,c)};return b},M=function(a,b,c,d,e){if(Array.isArray(b)){for(var f=0;f<b.length;f++)M(a,b[f],c,d,e);return null}c=O(c);return a&&a[G]?a.h(b,c,u(d)?!!d.capture:!!d,e):P(a,b,c,!0,d,e)},S=function(a){if(\"number\"!==typeof a&&a&&!a.h){var b=a.src;if(b&&b[G])b.i(a);else{var c=a.type,d=a.g;b.removeEventListener?b.removeEventListener(c,d,a.capture):b.detachEvent?b.detachEvent(R(c),d):b.addListener&&b.removeListener&&b.removeListener(d);L--;if(c=Q(b)){d=a.type;if(d in c.g){var e=c.g[d],f=x(e,a),g;(g=0<=f)&&Array.prototype.splice.call(e,f,1);g&&(H(a),0==c.g[d].length&&(delete c.g[d],c.h--))}0==c.h&&(c.src=null,b[J]=null)}else H(a)}}},R=function(a){return a in K?K[a]:K[a]=\"on\"+a},ha=function(a,b){if(a.h)a=!0;else{b=new F(b,this);var c=a.listener,d=a.i||a.src;a.m&&S(a);a=c.call(d,b)}return a},Q=function(a){a=a[J];return a instanceof I?a:null},T=\"__closure_events_fn_\"+(1E9*Math.random()>>>0),O=function(a){if(\"function\"===typeof a)return a;a[T]||(a[T]=function(b){return a.handleEvent(b)});return a[T]};var U=function(a){D.call(this);this.o=a;this.i={}};w(U,D);var V=[],W=function(a,b,c){Array.isArray(c)||(c&&(V[0]=c.toString()),c=V);for(var d=0;d<c.length;d++){var e=N(b,c[d],a.handleEvent,!1,a.o||a);if(!e)break;a.i[e.key]=e}},ia=function(a){B(a.i,function(b,c){this.i.hasOwnProperty(c)&&S(b)},a);a.i={}};U.prototype.g=function(){U.l.g.call(this);ia(this)};U.prototype.handleEvent=function(){throw Error(\"EventHandler.handleEvent not implemented\");};var X=function(){U.call(this);var a=document;W(this,a,\"click\");W(this,a,\"mousedown\");W(this,a,\"rightclick\");W(this,a,\"contextmenu\");W(this,a,\"keypress\");W(this,a,\"wheel\")};X.prototype=k(U.prototype);X.prototype.constructor=X;if(q)q(X,U);else for(var Y in U)if(\"prototype\"!=Y)if(Object.defineProperties){var Z=Object.getOwnPropertyDescriptor(U,Y);Z&&Object.defineProperty(X,Y,Z)}else X[Y]=U[Y];X.l=U.prototype;X.prototype.handleEvent=function(a){v(\"globals.fua.data\",{type:a.type,target:a.target,currentTarget:a.currentTarget,time:Date.now(),u:!0});this.h||(this.h=!0,this.g())};X.prototype.g=function(){U.prototype.g.call(this);delete r.globals.fua.dispose};v(\"globals.fua.install\",function(){var a=new X;v(\"globals.fua.dispose\",function(){a.h||(a.h=!0,a.g())})});}).call(this);</script> <script nonce=\"a4+eYD+ZNrkLaD8Y10OlAg==\">globals.fua.install();</script> <script nonce=\"a4+eYD+ZNrkLaD8Y10OlAg==\">(function(){\\n\\'use strict\\';var m=\"function\"==typeof Object.create?Object.create:function(a){var b=function(){};b.prototype=a;return new b},p;if(\"function\"==typeof Object.setPrototypeOf)p=Object.setPrototypeOf;else{var q;a:{var r={a:!0},u={};try{u.__proto__=r;q=u.a;break a}catch(a){}q=!1}p=q?function(a,b){a.__proto__=b;if(a.__proto__!==b)throw new TypeError(a+\" is not extensible\");return a}:null}var v=p,w=this||self,x=function(a,b,c){a=a.split(\".\");c=c||w;a[0]in c||\"undefined\"==typeof c.execScript||c.execScript(\"var \"+a[0]);for(var d;a.length&&(d=a.shift());)a.length||void 0===b?c[d]&&c[d]!==Object.prototype[d]?c=c[d]:c=c[d]={}:c[d]=b},y=function(a){var b=typeof a;return\"object\"==b&&null!=a||\"function\"==b};var z=function(a,b){return w.setTimeout(function(){try{a()}catch(c){throw c;}},b)};var A=/(?:@|\\\\()([^:]*(:\\\\/)?[^:]*(:\\\\d+\\\\/)?[^:]*):/,B=function(a,b){var c=0;a.forEach(function(d){c+=d.length});b.forEach(function(d){c+=d.length});return 3*(a.length+b.length)+1.1*c};var C=function(a,b,c,d){this.o=b;this.g=this.m=a;this.s=c||0;this.u=d||2};C.prototype.j=function(){return this.m};var D=function(a,b,c){C.call(this,a,b);this.v=c;this.l=null;this.h=this.i=0};D.prototype=m(C.prototype);D.prototype.constructor=D;if(v)v(D,C);else for(var E in C)if(\"prototype\"!=E)if(Object.defineProperties){var F=Object.getOwnPropertyDescriptor(C,E);F&&Object.defineProperty(D,E,F)}else D[E]=C[E];var G=function(a){var b=Date.now();if(0==a.h)return a.h=b,!0;var c=b>a.h+a.j();c&&(a.h=b,a.g=Math.min(a.o,a.g*a.u),a.m=Math.min(a.o,a.g+(a.s?Math.round(a.s*(Math.random()-.5)*2*a.g):0)));return c};D.prototype.j=function(){var a=C.prototype.j.call(this);this.l&&w.clearTimeout(this.l);this.l=z(this.v,2*a);return a};var H=function(){this.g={}};H.prototype.get=function(a){a=I(a);return this.g[a]};H.prototype.set=function(a,b){a=I(a);this.g[a]=b};var I=function(a){if(\"object\"===typeof a){var b=[],c;for(c in a)a.hasOwnProperty(c)&&b.push(J(a[c].toString()));return b.join(\" \")}return J(a.toString())},J=function(a){for(;\":\"==a.charAt(a.length-1);)a=a.slice(0,a.length-1);a=a.split(\":\");return a[a.length-1].trim()};var L=function(){var a=\"undefined\"===typeof DEV_MODE?!1:DEV_MODE,b=\"undefined\"===typeof LOGGING_ENDPOINT?\"/maps/preview/log204\":LOGGING_ENDPOINT,c=\"undefined\"===typeof JS_VERSION?null:JS_VERSION,d=\"undefined\"===typeof PRODUCT_ID?81:PRODUCT_ID,e=this;var g=void 0===g?w.location&&w.location.hostname:g;this.u=a;this.j=b;this.A=c;this.v=d;this.o=g;this.i=null;this.m=!1;this.s=this.h=null;this.g=new H;this.l=new H;var f=w.onerror;w.onerror=function(l){for(var h=[],k=0;k<arguments.length;++k)h[k-0]=arguments[k];f&&f.apply(null,h);K(e,h[0],h[1],h[2])}};L.prototype.listen=function(a){this.i=a};L.prototype.log=function(a,b){K(this,a,void 0,void 0,b);return a};var M=function(a,b){var c=a.g.get(b);c||(c=new D(6E4,36E5,function(){var d=a.g,e=I(b);delete d.g[e]}),a.g.set(b,c));c.i++;return c},P=function(a,b,c,d,e,g){var f=N(y(b)?b.message:b,g||1);f.type=\"error\";f.count=e.i;e.i=0;if(y(b)){if(c=b.file||\"\",f.file=\"string\"===typeof c?c.substr(0,400):\"\",f.line=b.line||0,\"string\"===typeof b.stack){b=b.stack.split(\"\\\\n\");c=0;for(d=b.length;c<d&&40>c;++c)e=b[c].trim(),0<e.length&&f.stack.push(e);f.stackUrls=[];b=f.stack;c=f.stackUrls;d=1700-(3+1.1*f.message.length);e={};for(var l=0,h=0;h<b.length;++h){var k=b[h],n=k.match(A);if(n){n=n[1];if(e[n])var t=e[n];else t=\"..\"+l+\"..\",e[n]=t,c.push(n),l++;b[h]=k.replace(n,t)}}k=e=B(b,c);h=\"\";for(l=null;k>d;){h=\\nb.pop();l=null;k=\"..\"+(c.length-1)+\"..\";if(-1<h.indexOf(k)){n=!1;for(t=b.length-1;0<=t;t--)if(-1<b[t].indexOf(k)){n=!0;break}n||(l=c.pop())}k=B(b,c)}0>=Math.ceil(e-k)?b=0:(d=Math.floor(d-k),3<d&&(h=h.length>d?h.substr(0,d-3)+\"...\":h,b.push(h),d-=h.length,l&&3<d&&c.push(l.length>d?l.substr(0,d-3)+\"...\":l)),b=Math.ceil(e-B(b,c)));f.stackTruncation=b}}else f.file=\"string\"===typeof c?c.substr(0,400):\"\",f.line=d||0;O(a,f,g)&&(f.errorType=9);return f},O=function(a,b,c){var d=b.message,e=navigator.userAgent;if(/HeadlessChrome/.test(e)||/Trident\\\\/7\\\\.0/.test(e)&&!/rv:11\\\\.0/.test(e)||a.o&&!/\\\\.google\\\\./.test(a.o)||0<=d.indexOf(\"zCommon\")||0<=d.indexOf(\"887a0005\")||!c&&(\"Script error\"==d||\"Script error.\"==d)||-1!=d.indexOf(\"Not enough storage is available to complete this operation.\")||0<=d.indexOf(\"ArrayBuffer length minus the\")||d.match(/new RegExp.*ludo_cid/)||0<=d.indexOf(\"Cannot read property \\'mute\\' of null\"))return!0;a=b.stack;for(c=0;c<a.length;++c)if(a[c].match(/phantomjs/i))return!0;a=function(g){return!g||\\n0<=g.indexOf(\"/maps\")?!0:!1};if(0<=d.indexOf(\"JSON syntax error\")&&!a(b.file))return!0;d=function(g){return 0==g.indexOf(\"resource://\")||0==g.indexOf(\"chrome-extension://\")||0==g.indexOf(\"https://\")&&8!=g.indexOf(\"www.google\")&&8!=g.indexOf(\"maps.gstatic\")&&8!=g.indexOf(\"www.gstatic\")&&8!=g.indexOf(\"apis.google\")?!1:!0};if(b=b.stackUrls)for(a=0;a<b.length;++a)if(!d(b[a]))return!0;return!1},K=function(a,b,c,d,e){var g=y(b)?b.message:b,f=a.l.get(g);if(f)f&&g.length>f.message.length&&(f.message=g);else if(f=M(a,g),G(f)){var l=P(a,b,c,d,f,e);Q(a,l);a.l.set(g,l);w.setTimeout(function(){a.i&&a.i(l);a.m||R(a,l);var h=a.l,k=I(g);delete h.g[k]},0)}},Q=function(a,b){var c=b.message+\"\\\\n\";for(var d=0,e=b.stack.length;d<e;++d)c+=b.stack[d]+\"\\\\n\";d=0;for(e=b.stackUrls.length;d<e;++d)c+=\"..\"+d+\"..=\"+b.stackUrls[d]+\"\\\\n\";a.h||(a.h=c);a.s=c},R=function(a,b){if(a.j){var c=2;b.count&&1<b.count&&c++;var d=3;b.file&&d++;b.line&&d++;b.stack&&(d+=b.stack.length);0<b.stackTruncation&&d++;b.stackUrls&&(d+=b.stackUrls.length);var e=[];e.push(\"!8m\");e.push(\"\"+(c+d));e.push(\"!2e6\");b.count&&1<b.count&&(e.push(\"!7i\"),e.push(b.count));e.push(\"!9m\");e.push(\"\"+d);e.push(\"!1s\");e.push(S(b.message));b.file&&(e.push(\"!2s\"),e.push(S(b.file)));b.line&&(e.push(\"!3i\"),e.push(b.line));if(b.stack)for(c=0,d=b.stack.length;c<d;++c)e.push(\"!4s\"),e.push(S(b.stack[c]));e.push(\"!6s\");e.push(S(a.A||\\n\"\"));e.push(\"!8e\"+b.errorType);0<b.stackTruncation&&(e.push(\"!9i\"),e.push(b.stackTruncation));if(b.stackUrls)for(c=0,d=b.stackUrls.length;c<d;c++)e.push(\"!10s\"),e.push(S(b.stackUrls[c]));e.push(\"!11m1\");e.push(\"!7e\");e.push(String(a.v||0));var g=a.j+(0<=a.j.indexOf(\"?\")?\"&\":\"?\")+\"pb=\"+e.join(\"\");if(a.u)(a=w.console)&&a.log.call(a,g);else{var f=null;w.XMLHttpRequest&&(f=new w.XMLHttpRequest);f&&w.setTimeout(function(){f.open(\"GET\",g,!0);f.send(null)},0)}}},S=function(a){a=a||\"\";0<a.indexOf(\"*\")&&(a=a.replace(T,\"*2A\"));0<a.indexOf(\"!\")&&(a=a.replace(U,\"*21\"));return encodeURIComponent(a)},N=function(a,b){var c={};c.message=a?a.substr(0,400):\"\";c.file=\"\";c.line=0;c.stack=[];c.stackUrls=[];c.errorType=void 0===b?1:b;return c},U=/(!)/g,T=/(\\\\*)/g;if(\"undefined\"==typeof globals||void 0===globals.ErrorHandler){var V=new L,W=function(a,b){return V.log(a,b)};w._DumpException=W;x(\"globals.ErrorHandler.listen\",function(a){return V.listen(a)},void 0);x(\"_._DumpException\",W,w);x(\"globals.ErrorHandler.dr\",function(){V.m=!0},void 0);x(\"globals.ErrorHandler.log\",W,void 0);x(\"globals.ErrorHandler.ne\",N,void 0);x(\"globals.ErrorHandler.fe\",function(){return V.h},void 0);x(\"globals.ErrorHandler.mre\",function(){return V.s},void 0)};}).call(this);</script> <script nonce=\"a4+eYD+ZNrkLaD8Y10OlAg==\">window._ = window._ || {};window._._DumpException = function(e){throw globals.ErrorHandler.log(e);};window._DumpException = function(e){throw globals.ErrorHandler.log(e);};</script>  <link href=\"//www.google.com/images/branding/product/ico/maps15_bnuw3a_32dp.ico\" rel=\"shortcut icon\"> <script nonce=\"a4+eYD+ZNrkLaD8Y10OlAg==\">(function(){window.APP_OPTIONS=[null,\"20210224.0\",null,[\"/search?tbm\\\\u003dmap\\\\u0026authuser\\\\u003d0\\\\u0026hl\\\\u003den\\\\u0026gl\\\\u003din\",\"/s?tbm\\\\u003dmap\\\\u0026gs_ri\\\\u003dmaps\\\\u0026suggest\\\\u003dp\\\\u0026authuser\\\\u003d0\\\\u0026hl\\\\u003den\\\\u0026gl\\\\u003din\",\"/maps/preview/directions?authuser\\\\u003d0\\\\u0026hl\\\\u003den\\\\u0026gl\\\\u003din\",null,\"/maps/preview/entity?authuser\\\\u003d0\\\\u0026hl\\\\u003den\\\\u0026gl\\\\u003din\",\"/maps/rpc/vp?authuser\\\\u003d0\\\\u0026hl\\\\u003den\\\\u0026gl\\\\u003din\",[[\"/maps/vt\"]\\n,543,[\"/maps/vt/stream\"]\\n,null,0,null,894,\"/maps/vt\",null,null,\"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\\\\u003d\"]\\n,[\"//khms0.google.com/kh/v\\\\u003d894\",\"//khms1.google.com/kh/v\\\\u003d894\",\"//khms2.google.com/kh/v\\\\u003d894\",\"//khms3.google.com/kh/v\\\\u003d894\"]\\n,\"/maps/preview/log204?authuser\\\\u003d0\\\\u0026hl\\\\u003den\\\\u0026gl\\\\u003din\",[\"//geo0.ggpht.com/cbk?cb_client\\\\u003dmaps_sv.tactile\\\\u0026authuser\\\\u003d0\\\\u0026hl\\\\u003den\\\\u0026gl\\\\u003din\",\"//geo1.ggpht.com/cbk?cb_client\\\\u003dmaps_sv.tactile\\\\u0026authuser\\\\u003d0\\\\u0026hl\\\\u003den\\\\u0026gl\\\\u003din\",\"//geo2.ggpht.com/cbk?cb_client\\\\u003dmaps_sv.tactile\\\\u0026authuser\\\\u003d0\\\\u0026hl\\\\u003den\\\\u0026gl\\\\u003din\",\"//geo3.ggpht.com/cbk?cb_client\\\\u003dmaps_sv.tactile\\\\u0026authuser\\\\u003d0\\\\u0026hl\\\\u003den\\\\u0026gl\\\\u003din\"]\\n,null,null,null,\"//kh.google.com/rt/earth\",null,null,\"/maps/preview/placeactions/starring?authuser\\\\u003d0\\\\u0026hl\\\\u003den\\\\u0026gl\\\\u003din\",\"/maps/reportmapissue?authuser\\\\u003d0\\\\u0026hl\\\\u003den\\\\u0026gl\\\\u003din\",null,\"/maps/preview/reveal?authuser\\\\u003d0\\\\u0026hl\\\\u003den\\\\u0026gl\\\\u003din\",null,\"/maps/mm?authuser\\\\u003d0\\\\u0026hl\\\\u003den\\\\u0026gl\\\\u003din\",\"/maps/preview/photo?authuser\\\\u003d0\\\\u0026hl\\\\u003den\\\\u0026gl\\\\u003din\",null,\"/maps/preview/gme/list?authuser\\\\u003d0\\\\u0026hl\\\\u003den\\\\u0026gl\\\\u003din\",null,\"/maps/preview/placeupdate?authuser\\\\u003d0\\\\u0026hl\\\\u003den\\\\u0026gl\\\\u003din\",\"/maps/preview/gme/details?authuser\\\\u003d0\\\\u0026hl\\\\u003den\\\\u0026gl\\\\u003din\",\"/maps/preview/placeactions/writeaction?authuser\\\\u003d0\\\\u0026hl\\\\u003den\\\\u0026gl\\\\u003din\",\"/maps/rpc/shorturl?authuser\\\\u003d0\\\\u0026hl\\\\u003den\\\\u0026gl\\\\u003din\",\"/gen_204\",null,\"/maps/sendtocar/devices?authuser\\\\u003d0\\\\u0026hl\\\\u003den\\\\u0026gl\\\\u003din\",\"/maps/sendtocar/send?authuser\\\\u003d0\\\\u0026hl\\\\u003den\\\\u0026gl\\\\u003din\",\"/maps/preview/assist?authuser\\\\u003d0\\\\u0026hl\\\\u003den\\\\u0026gl\\\\u003din\",\"/maps/preview/reportdataproblem?authuser\\\\u003d0\\\\u0026hl\\\\u003den\\\\u0026gl\\\\u003din\",null,\"/maps/rpc/userprefswrite?authuser\\\\u003d0\\\\u0026hl\\\\u003den\\\\u0026gl\\\\u003din\",\"/maps/rpc/userprefsread?authuser\\\\u003d0\\\\u0026hl\\\\u003den\\\\u0026gl\\\\u003din\",\"/maps/preview/categories?authuser\\\\u003d0\\\\u0026hl\\\\u003den\\\\u0026gl\\\\u003din\",null,\"/maps/preview/pegman?authuser\\\\u003d0\\\\u0026hl\\\\u003den\\\\u0026gl\\\\u003din\",\"/locationhistory/preview/mas?authuser\\\\u003d0\\\\u0026hl\\\\u003den\\\\u0026gl\\\\u003din\",\"/maps/photometa/v1?authuser\\\\u003d0\\\\u0026hl\\\\u003den\\\\u0026gl\\\\u003din\",\"/maps/preview/sendtodevice?authuser\\\\u003d0\\\\u0026hl\\\\u003den\\\\u0026gl\\\\u003din\",\"//maps.gstatic.com\",\"//khms.google.com/dm/\",[\"https://lh3.ggpht.com/\",\"https://lh4.ggpht.com/\",\"https://lh5.ggpht.com/\",\"https://lh6.ggpht.com/\"]\\n,\"/maps/photometa/ac/\",\"/maps/photometa/si/v1?authuser\\\\u003d0\\\\u0026hl\\\\u003den\\\\u0026gl\\\\u003din\",\"/maps/timeline/_rpc/pe?authuser\\\\u003d0\\\\u0026hl\\\\u003den\\\\u0026gl\\\\u003din\",\"/maps/timeline/_rpc/pd?authuser\\\\u003d0\\\\u0026hl\\\\u003den\\\\u0026gl\\\\u003din\",\"/maps/timeline/_rpc/pc?authuser\\\\u003d0\\\\u0026hl\\\\u003den\\\\u0026gl\\\\u003din\",\"/maps/preview/directionsassist?authuser\\\\u003d0\\\\u0026hl\\\\u003den\\\\u0026gl\\\\u003din\",\"/maps/timeline/_rpc/phe?authuser\\\\u003d0\\\\u0026hl\\\\u003den\\\\u0026gl\\\\u003din\",\"/maps/preview/notifications/reg?authuser\\\\u003d0\\\\u0026hl\\\\u003den\\\\u0026gl\\\\u003din\",\"/maps/preview/notifications/unreg?authuser\\\\u003d0\\\\u0026hl\\\\u003den\\\\u0026gl\\\\u003din\",\"/maps/preview/notifications/fetch?authuser\\\\u003d0\\\\u0026hl\\\\u003den\\\\u0026gl\\\\u003din\",\"/maps/preview/notifications/mark?authuser\\\\u003d0\\\\u0026hl\\\\u003den\\\\u0026gl\\\\u003din\",null,\"/maps/photometa/acz/\",\"/maps/preview/knowledge?authuser\\\\u003d0\\\\u0026hl\\\\u003den\\\\u0026gl\\\\u003din\",\"/maps/preview/pi?authuser\\\\u003d0\\\\u0026hl\\\\u003den\\\\u0026gl\\\\u003din\",\"/maps/preview/editsformoderation?authuser\\\\u003d0\\\\u0026hl\\\\u003den\\\\u0026gl\\\\u003din\",\"/maps/preview/vope?authuser\\\\u003d0\\\\u0026hl\\\\u003den\\\\u0026gl\\\\u003din\",\"/maps/timeline/_rpc/placelist/create?authuser\\\\u003d0\\\\u0026hl\\\\u003den\\\\u0026gl\\\\u003din\",\"/maps/timeline/_rpc/placelist/additem?authuser\\\\u003d0\\\\u0026hl\\\\u003den\\\\u0026gl\\\\u003din\",\"/maps/timeline/_rpc/placelist/delete?authuser\\\\u003d0\\\\u0026hl\\\\u003den\\\\u0026gl\\\\u003din\",\"/maps/timeline/_rpc/placelist/edit?authuser\\\\u003d0\\\\u0026hl\\\\u003den\\\\u0026gl\\\\u003din\",\"/maps/timeline/_rpc/placelist/removeitem?authuser\\\\u003d0\\\\u0026hl\\\\u003den\\\\u0026gl\\\\u003din\",\"/maps/preview/passiveassist?authuser\\\\u003d0\\\\u0026hl\\\\u003den\\\\u0026gl\\\\u003din\",\"/maps/rpc/locationsharing/read?authuser\\\\u003d0\\\\u0026hl\\\\u003den\\\\u0026gl\\\\u003din\",\"/maps/timeline/_rpc/placelist/follow?authuser\\\\u003d0\\\\u0026hl\\\\u003den\\\\u0026gl\\\\u003din\",\"/maps/timeline/_rpc/placelist/share?authuser\\\\u003d0\\\\u0026hl\\\\u003den\\\\u0026gl\\\\u003din\",\"/maps/preview/notifications/prefs?authuser\\\\u003d0\\\\u0026hl\\\\u003den\\\\u0026gl\\\\u003din\",\"/maps/timeline/_rpc/placelist/get?authuser\\\\u003d0\\\\u0026hl\\\\u003den\\\\u0026gl\\\\u003din\",\"/maps/preview/areatraffic?authuser\\\\u003d0\\\\u0026hl\\\\u003den\\\\u0026gl\\\\u003din\",\"/maps/preview/localposts?authuser\\\\u003d0\\\\u0026hl\\\\u003den\\\\u0026gl\\\\u003din\",\"/maps/timeline/_rpc/placelist/updateitem?authuser\\\\u003d0\\\\u0026hl\\\\u003den\\\\u0026gl\\\\u003din\",\"/maps/preview/lp?authuser\\\\u003d0\\\\u0026hl\\\\u003den\\\\u0026gl\\\\u003din\",\"/maps/preview/blockaddomain?authuser\\\\u003d0\\\\u0026hl\\\\u003den\\\\u0026gl\\\\u003din\",\"/maps/preview/review/deletereview?authuser\\\\u003d0\\\\u0026hl\\\\u003den\\\\u0026gl\\\\u003din\",null,\"/maps/preview/rapfeatures?authuser\\\\u003d0\\\\u0026hl\\\\u003den\\\\u0026gl\\\\u003din\",\"/maps/preview/review/writereview?authuser\\\\u003d0\\\\u0026hl\\\\u003den\\\\u0026gl\\\\u003din\",\"/maps/preview/review/votereview?authuser\\\\u003d0\\\\u0026hl\\\\u003den\\\\u0026gl\\\\u003din\",\"/maps/preview/merchantstatus?authuser\\\\u003d0\\\\u0026hl\\\\u003den\\\\u0026gl\\\\u003din\",\"/maps/preview/review/listentitiesreviews?authuser\\\\u003d0\\\\u0026hl\\\\u003den\\\\u0026gl\\\\u003din\",\"/maps/preview/place?authuser\\\\u003d0\\\\u0026hl\\\\u003den\\\\u0026gl\\\\u003din\",\"/maps/preview/transit/lines?authuser\\\\u003d0\\\\u0026hl\\\\u003den\\\\u0026gl\\\\u003din\",\"//www.gstatic.com\",\"/maps/preview/placeinsights?authuser\\\\u003d0\\\\u0026hl\\\\u003den\\\\u0026gl\\\\u003din\",\"/maps/timeline/_rpc/sync?authuser\\\\u003d0\\\\u0026hl\\\\u003den\\\\u0026gl\\\\u003din\",\"https://streetviewpixels-pa.googleapis.com/?cb_client\\\\u003dmaps_sv.tactile\"]\\n,null,null,1,null,[\"en\",\"in\",\"India\"]\\n,null,0,\"Ax87YIOeFJOZ4-EPzfOB2AM\",null,null,null,null,null,null,null,null,null,null,null,[null,\"a\",null,null,null,null,null,null,null,null,null,null,null,null,null,null,null,[null,null,null,null,0,0,null,null,1,null,null,1,null,null,null,0,null,null,null,1,1]\\n,null,null,null,[null,null,null,null,null,2,3,2]\\n]\\n,[\"\",null,\"\",null,null,null,null,null,[null,\"\"]\\n,[null,null,null,null,null,\"\"]\\n]\\n,[1,2]\\n,0,[\"//www.google.com/intl/en_in/privacy.html\",\"//www.google.com/intl/en_in/help/terms_maps.html\",null,null,null,\"//support.google.com/maps/?hl\\\\u003den\\\\u0026authuser\\\\u003d0\",\"https://docs.google.com/picker\",null,\"/maps/sendtocar\",\"/adwords/express/how-it-works.html?utm_source\\\\u003dawx\\\\u0026utm_medium\\\\u003det\\\\u0026utm_campaign\\\\u003dww-ww-et-awx-symh-maps-nelson\\\\u0026hl\\\\u003den\\\\u0026authuser\\\\u003d0\\\\u0026gl\\\\u003din\",\"https://accounts.google.com/ServiceLogin?hl\\\\u003den\",[null,\"Learn more\",null,\"0ahUKEwjDq-Lv4YvvAhWTzDgGHc15ADsQ8FkIAigA\",null,\"newmaps_mylocation\"]\\n,\"https://business.google.com/create?service\\\\u003dplus\\\\u0026hl\\\\u003den\\\\u0026authuser\\\\u003d0\",\"https://www.google.com/maps/api/js/reviews?key\\\\u003dAIzaSyAQiTKe3tivKXammrJ6ov6u8E7KwZPNFss\\\\u0026language\\\\u003den\",\"//www.google.com/settings/accounthistory/location?hl\\\\u003den\\\\u0026authuser\\\\u003d0\",\"/maps/timeline?hl\\\\u003den\\\\u0026authuser\\\\u003d0\",\"//www.google.com/local/guides/signup?utm_source\\\\u003dtactile\\\\u0026utm_medium\\\\u003do\\\\u0026utm_campaign\\\\u003dtactile_contributions_panel\\\\u0026hl\\\\u003den\\\\u0026authuser\\\\u003d0\",\"https://support.google.com/websearch/answer/6276008\",\"https://business.google.com?skipLandingPage\\\\u003d1\\\\u0026hl\\\\u003den\\\\u0026authuser\\\\u003d0\",null,[null,null,null,\"https://business.google.com/mm/create?hl\\\\u003den\\\\u0026authuser\\\\u003d0\"]\\n]\\n,null,null,[[\"hi\",\"Hindi - \\\\u202a\\xe0\\xa4\\xb9\\xe0\\xa4\\xbf\\xe0\\xa4\\xa8\\xe0\\xa5\\x8d\\xe0\\xa4\\xa6\\xe0\\xa5\\x80\\\\u202c\"]\\n,[\"bn\",\"Bangla - \\\\u202a\\xe0\\xa6\\xac\\xe0\\xa6\\xbe\\xe0\\xa6\\x82\\xe0\\xa6\\xb2\\xe0\\xa6\\xbe\\\\u202c\"]\\n,[\"te\",\"Telugu - \\\\u202a\\xe0\\xb0\\xa4\\xe0\\xb1\\x86\\xe0\\xb0\\xb2\\xe0\\xb1\\x81\\xe0\\xb0\\x97\\xe0\\xb1\\x81\\\\u202c\"]\\n,[\"mr\",\"Marathi - \\\\u202a\\xe0\\xa4\\xae\\xe0\\xa4\\xb0\\xe0\\xa4\\xbe\\xe0\\xa4\\xa0\\xe0\\xa5\\x80\\\\u202c\"]\\n,[\"ta\",\"Tamil - \\\\u202a\\xe0\\xae\\xa4\\xe0\\xae\\xae\\xe0\\xae\\xbf\\xe0\\xae\\xb4\\xe0\\xaf\\x8d\\\\u202c\"]\\n,[\"gu\",\"Gujarati - \\\\u202a\\xe0\\xaa\\x97\\xe0\\xab\\x81\\xe0\\xaa\\x9c\\xe0\\xaa\\xb0\\xe0\\xaa\\xbe\\xe0\\xaa\\xa4\\xe0\\xab\\x80\\\\u202c\"]\\n,[\"kn\",\"Kannada - \\\\u202a\\xe0\\xb2\\x95\\xe0\\xb2\\xa8\\xe0\\xb3\\x8d\\xe0\\xb2\\xa8\\xe0\\xb2\\xa1\\\\u202c\"]\\n,[\"ml\",\"Malayalam - \\\\u202a\\xe0\\xb4\\xae\\xe0\\xb4\\xb2\\xe0\\xb4\\xaf\\xe0\\xb4\\xbe\\xe0\\xb4\\xb3\\xe0\\xb4\\x82\\\\u202c\"]\\n,[\"pa\",\"Punjabi - \\\\u202a\\xe0\\xa8\\xaa\\xe0\\xa9\\xb0\\xe0\\xa8\\x9c\\xe0\\xa8\\xbe\\xe0\\xa8\\xac\\xe0\\xa9\\x80\\\\u202c\"]\\n]\\n,null,null,[3,4]\\n,null,null,[null,null,null,null,null,null,81]\\n,[[]\\n,[[1,[[[2,\"traffic\",null,[[\"incidents\",\"1\"]\\n,[\"incidents_text\",\"1\"]\\n]\\n]\\n]\\n]\\n]\\n,[2,[[[2,\"transit\"]\\n]\\n]\\n]\\n,[3,[[[2,\"bike\"]\\n]\\n]\\n]\\n,[4,[null,null,1]\\n]\\n,[6,[[[2,\"travel\"]\\n]\\n]\\n]\\n,[9,[[[2,\"covid\"]\\n]\\n]\\n]\\n]\\n]\\n,0,[\"/maps/_/js/\",\"m\",\"maps.m.en.GXbbNojDaKI.es5.O\",\"ACT90oH25yTBBMQwL9Pm0hk33hdNhuMxQA\",\"NwI\",null,\"maps.m.cFbjuE_8VuA.L.X.O\"]\\n,null,null,[10200083,10202786,10202788,10202942,10203279,10203448,10203487,10203489,10203509,10203568,10203575,10203595,10203727,10203810,10203953,10203988,10203999,10204011,10204020,10204034,10204051,10204088,10204090,10204112,10204137,10204139,1381174,1382412,1381938,1381033,1368782,1368785,1375246,1385853,46990830]\\n,21600,null,null,null,1,null,null,0,null,null,null,[[[1,0,3]\\n,[2,1,2]\\n,[2,0,3]\\n,[3,0,3]\\n,[8,0,3]\\n,[3,1,2]\\n,[10,0,3]\\n,[10,1,2]\\n,[10,0,3]\\n,[10,1,2]\\n,[10,0,4]\\n]\\n,1,null,0]\\n,[]\\n,null,null,1,null,[1381174,1382412,10203575,1381938,1381033,1368782,1368785,1375246,1385853,46990830]\\n,0,null,null,[0,1]\\n,null,null,1,1,[null,1,1,1,null,1,null,[1,null,1,1,null,1]\\n,1,null,null,1,null,1,null,null,null,null,null,1,null,null,1,null,1,1]\\n,null,null,null,\"\\'Noto Sans Devanagari UI\\', \\'Noto Sans Bengali UI\\', \\'Noto Sans Telugu UI\\', \\'Noto Sans Tamil UI\\', \\'Noto Sans Gujarati UI\\', \\'Noto Sans Kannada UI\\', \\'Noto Sans Malayalam UI\\', \\'Noto Sans Gurmukhi UI\\'\",null,null,[null,null,null,\"/maps/_/js/k\\\\u003dmaps.mvw.en.U9uHJxu_QAE.es5.O/m\\\\u003dwtd,vw/rt\\\\u003dj/d\\\\u003d1/rs\\\\u003dACT90oEKvFnZDwbENN8vsy14gM5QtPkzBQ\"]\\n,1,[\"\",0]\\n]\\n;window.APP_INITIALIZATION_STATE=[[[3776843.565561425,71.31966105,22.4168315]\\n,[0.0,0.0,0.0]\\n,[1024,768]\\n,13.1]\\n,[[[\"m\",[7,83,51]\\n,13,[543269258,543269258,543269258,543268214,543269462,543269462,543269462,543269462,543269462,543269462,543269150,543265418,543264686,543269258,543269258,543269258,543269462,543269462,543269462,543269462,543269462,543269462,543269462,543269150,543269090,543269462,543269294,543269258,543269258,543269462,543269462,543269462,543269462,543269462,543269462,543269462,543269282,543269282,543269462,543269462,543269462,543269030,543269462,543269462,543269462,543269462,543269462,543269462,543269462,543269462,543269462,543269462,543269462,543269462,543269030,543269066,543269294,543269462,543269462,543269462,543269462,543269462,543269462,543269462,543269462,543269462,543269462,543267818,543267818,543267422,543269462,543269462,543269462,543269462,543269462,543269462,543269462,543269462,543269006,543269006,543266882,543262778,543264686,543268106,543269462,543269462,543269462,543269462,543269462,543269366,543269366,543269426,543269426,543266882,543262778,543227686,543268094,543269462,543269462,543269462,543269462,543269462,543268922,543269462,543269426,543269426,543262778,543262082,543227686,543269294,543269462,543269462,543269462,543269462,543269462,543262778,543269462,543269426,543269426,543262778,543262082,543227686,543269294,543269294,543269462,543269462,543269462,543269462,543266882,543269462]\\n]\\n,[\"m\",[6,41,25]\\n,7,[543269462,543269462,543269462,543269462,543269462,543269462,543269462,543269462,543269462,543269462,543269462,543269462,543269462,543269462,543269462,543269462,543269462,543269462,543269462,543269462,543269462,543269462,543269462,543269462,543269462,543269462,543269462,543269462,543269402,543269006,543269294,543269462,543269462,543269462,543269462,543269402,543264686,543269294,543269462,543269462,543269462,543269462]\\n]\\n,[\"m\",[8,172,107]\\n,13,[543267950,543269462,543269462,543269462,543269294,543269294,543269426,543269426,543269426,543269462,543269462,543269462,543269390,543269030,543268058,543269066,543269294,543269294,543269294,543269258,543269414,543269414,543269414,543269402,543269246,543269234,543269030,543268058,543269066,543269294,543269294,543269414,543269414,543269414,543269414,543269414,543269402,543269246,543269234,543269030,543268058,543269066,543269066,543269426,543269462,543269462,543269462,543269390,543269390,543269246,543269246,543269102,543262778,543262778,543267422,543268802,543269426,543269462,543269462,543269462,543269246,543269246,543269246,543269102,543269210,543262778,543153254,543262778,543263810,543269426,543269462,543269462,543269462,543269462,543269462,543269462,543269462,543269462,543262778,543124148,543124148,543262778,543268958,543268958,543268958,543269378,543269462,543269462,543269462,543269462,543269462,543124148,543124148,543124148,543257090,543257090,543262778,543268946,543269378,543269462,543269462,543269462,543269462,543269462,543124148,543124148,543124148,543153254,543153254,543262778,543268946,543269462,543269462,543269462,543269378,543269378,543269354,543124148,543124148,543124148,543153254,543153254,543153254,543262778,543269462,543269462,543269462,543269378,543269378,543269354]\\n]\\n]\\n]\\n,null,null,null,[]\\n,[8]\\n,null,[59,63,60,67,61,66,65]\\n,[\"Google Maps\",\"Find local businesses, view maps and get driving directions in Google Maps.\",\"https://maps.google.com/maps/api/staticmap?center\\\\u003d22.4168315%2C71.31966105\\\\u0026zoom\\\\u003d7\\\\u0026size\\\\u003d256x256\\\\u0026language\\\\u003den\\\\u0026sensor\\\\u003dfalse\\\\u0026client\\\\u003dgoogle-maps-frontend\\\\u0026signature\\\\u003d-2gKQKfnEs5f6Nz2_VweHGp5YxQ\",[256,256]\\n]\\n,null,[\"sc2\",\"per\",\"mo\",\"lp\",\"ti\",\"ds\",\"stx\",\"bom\",\"b\"]\\n]\\n;window.APP_FLAGS=[1,0,0,0.25,0,0,0,0,1,0,0,2,2,1,0,0,1,0,0,0,0,1,0,1,0,1,1,0,0,1,0,0,0,3,0,1,1,3,1,0,1,0,0,0,1,null,1,1,0,0,0,0,1,1,0,1,10,25000,10.0,0,0,0,0,1,0,1,0,1,6,16,0,\"\",0,1,1,0,0,0,0,0,0,0,0,1,0,1,1,0,0,0,1,0,1,2,0,0,1,0,0,0,1,1,0,0,2,0,0,1,1,1,0,null,1,1,1,1,\"\",0,0,null,0,0,1,1,0,1,604800000,0,1.0,1,0,0,20,0,0,30,0,0,0,0,1,1,1,1,0,0,0,0,0,2,0,0,0,1,0,2,1,0,0,1,0,2,1,0,0,0,3,0,0,0,1,0,0,\"https://tpc.googlesyndication.com/simgad/12443843956218829127?w\\\\u003d40\\\\u0026h\\\\u003d40\",0,0,0,1,9,0,0,0,1,\"\",0,1,1,0,0,0,1,1,1,1,1,0,0,1,1,1,0,0,1,null,0,null,1,1,1,0,0,\"support local businesses\",0,1,1,0,0,1,1,0,0,0,1,2000,2,1,null,1,0,2,null,null,0,null,0,0,0,1,0,0,0,1,1,0,0,0,0,0,850,50,40,0,1,0,5]\\n;window.VECTORTOWN_FLAGS=[0,0,0,null,0,null,0,0,0,0,0,0]\\n;window.DEV_MODE=false;window.JS_VERSION=\\'maps.m.en.GXbbNojDaKI.es5.O\\';window.LOGGING_ENDPOINT=\\'/maps/preview/log204?authuser\\\\x3d0\\\\x26hl\\\\x3den\\\\x26gl\\\\x3din\\';window.PRODUCT_ID=81;window.ES5DGURL=\\'\\';})();</script>    <script nonce=\"a4+eYD+ZNrkLaD8Y10OlAg==\">(function(){\\n\\'use strict\\';var b=this||self;var d=function(){this.g=null;this.h=\"\"};d.prototype.start=function(){var a=this.g=document;if(this.h=\"hidden\"in a?\"visibilitychange\":\"mozHidden\"in a?\"mozvisibilitychange\":\"msHidden\"in a?\"msvisibilitychange\":\"webkitHidden\"in a?\"webkitvisibilitychange\":\"\"){a=this.g;var c=e;a.addEventListener&&a.addEventListener(this.h,c,!1)}};d.prototype.stop=function(){if(this.g){var a=this.g,c=e;a.removeEventListener&&a.removeEventListener(this.h,c,!1)}};var e=function(){var a=document,c=!1;\"hidden\"in a?c=a.hidden:\"mozHidden\"in a?c=a.mozHidden:\"msHidden\"in a?c=a.msHidden:\"webkitHidden\"in a&&(c=a.webkitHidden);c?b.tick(\"bg0\"):b.tick(\"bg1\")},f=new d;f.start();var g=function(){f.stop()},h=[\"globals\",\"BackgroundTicks\",\"stop\"],k=b;h[0]in k||\"undefined\"==typeof k.execScript||k.execScript(\"var \"+h[0]);for(var l;h.length&&(l=h.shift());)h.length||void 0===g?k[l]&&k[l]!==Object.prototype[l]?k=k[l]:k=k[l]={}:k[l]=g;}).call(this);</script> <style type=\"text/css\">@import url(\\'//fonts.googleapis.com/css?family=Noto+Sans+Devanagari+UI:300,400,500,700\\');\\n@import url(\\'//fonts.googleapis.com/css?family=Noto+Sans+Bengali+UI:300,400,500,700\\');\\n@import url(\\'//fonts.googleapis.com/css?family=Noto+Sans+Telugu+UI:300,400,500,700\\');\\n@import url(\\'//fonts.googleapis.com/css?family=Noto+Sans+Tamil+UI:300,400,500,700\\');\\n@import url(\\'//fonts.googleapis.com/css?family=Noto+Sans+Gujarati+UI:300,400,500,700\\');\\n@import url(\\'//fonts.googleapis.com/css?family=Noto+Sans+Kannada+UI:300,400,500,700\\');\\n@import url(\\'//fonts.googleapis.com/css?family=Noto+Sans+Malayalam+UI:300,400,500,700\\');\\n@import url(\\'//fonts.googleapis.com/css?family=Noto+Sans+Gurmukhi+UI:300,400,500,700\\');\\n@font-face {\\n  font-family: \\'Roboto\\';\\n  font-style: normal;\\n  font-weight: 300;\\n  src: url(//fonts.gstatic.com/s/roboto/v18/KFOlCnqEu92Fr1MmSU5fChc9.ttf) format(\\'truetype\\');\\n}\\n@font-face {\\n  font-family: \\'Roboto\\';\\n  font-style: normal;\\n  font-weight: 400;\\n  src: url(//fonts.gstatic.com/s/roboto/v18/KFOmCnqEu92Fr1Mu7GxP.ttf) format(\\'truetype\\');\\n}\\n@font-face {\\n  font-family: \\'Roboto\\';\\n  font-style: normal;\\n  font-weight: 500;\\n  src: url(//fonts.gstatic.com/s/roboto/v18/KFOlCnqEu92Fr1MmEU9fChc9.ttf) format(\\'truetype\\');\\n}\\n@font-face {\\n  font-family: \\'Roboto\\';\\n  font-style: normal;\\n  font-weight: 700;\\n  src: url(//fonts.gstatic.com/s/roboto/v18/KFOlCnqEu92Fr1MmWUlfChc9.ttf) format(\\'truetype\\');\\n}\\n@font-face {\\n  font-family: \\'Product Sans\\';\\n  font-style: normal;\\n  font-weight: 400;\\n  src: url(//fonts.gstatic.com/s/productsans/v9/pxiDypQkot1TnFhsFMOfGShVF9eL.ttf) format(\\'truetype\\');\\n}\\n@font-face {\\n  font-family: \\'Google Sans\\';\\n  font-style: normal;\\n  font-weight: 400;\\n  src: url(//fonts.gstatic.com/s/googlesans/v14/4UaGrENHsxJlGDuGo1OIlL3Owps.ttf) format(\\'truetype\\');\\n}\\n@font-face {\\n  font-family: \\'Google Sans\\';\\n  font-style: normal;\\n  font-weight: 500;\\n  src: url(//fonts.gstatic.com/s/googlesans/v14/4UabrENHsxJlGDuGo1OIlLU94YtzCwM.ttf) format(\\'truetype\\');\\n}\\n@font-face {\\n  font-family: \\'Google Sans Display\\';\\n  font-style: normal;\\n  font-weight: 400;\\n  src: url(//fonts.gstatic.com/s/googlesansdisplay/v13/ea8FacM9Wef3EJPWRrHjgE4B6CnlZxHVDv79pA.ttf) format(\\'truetype\\');\\n}\\n#gbar,#guser{font-size:13px;padding-top:1px !important;}#gbar{height:22px}#guser{padding-bottom:7px !important;text-align:right}.gbh,.gbd{border-top:1px solid #c9d7f1;font-size:1px}.gbh{height:0;position:absolute;top:24px;width:100%}@media all{.gb1{height:22px;margin-right:.5em;vertical-align:top}#gbar{float:left}}a.gb1,a.gb4{text-decoration:underline !important}a.gb1,a.gb4{color:#00c !important}.gbi .gb4{color:#dd8e27 !important}.gbf .gb4{color:#900 !important}\\nhtml, body { font-family: Roboto, \\'Noto Sans Devanagari UI\\', \\'Noto Sans Bengali UI\\', \\'Noto Sans Telugu UI\\', \\'Noto Sans Tamil UI\\', \\'Noto Sans Gujarati UI\\', \\'Noto Sans Kannada UI\\', \\'Noto Sans Malayalam UI\\', \\'Noto Sans Gurmukhi UI\\', Arial, sans-serif; }</style> <style>html,body{margin:0;padding:0}body{-ms-touch-action:none;touch-action:none;overflow:hidden}a,button,h1,h2,h3,h4,h5,h6,input,ol,p,textarea,th,ul{background:transparent;border:0;border-radius:0;font:inherit;list-style:none;margin:0;outline:0;overflow:visible;padding:0;vertical-align:baseline}textarea{overflow:auto}table{border-collapse:collapse;border-spacing:0}button::-moz-focus-inner,input::-moz-focus-inner,textarea::-moz-focus-inner{margin:0;padding:0;border:0}button,input,textarea{color:inherit}input::-ms-clear{display:none}a{cursor:pointer;text-decoration:none;outline:none}a:hover{text-decoration:underline}:focus{outline:none}#no-script{position:absolute;left:0;right:0;top:0;bottom:0;background:#f8f9fa}.no-script-message{position:absolute;left:50%;top:50%;width:575px;transform:translateX(-50%) translateY(-50%);transform:translateX(-50%) translateY(-50%);background:url(\\'//maps.gstatic.com/tactile/basepage/pegman_sherlock.png\\') no-repeat;background-size:160px 193px;height:143px;padding-top:50px;padding-left:200px;font-size:30px;font-weight:300}.no-script-help-link{color:#4285f4;font-size:14px;font-weight:normal}</style> <link href=\"/maps/preview/pwa/manifest?source=ttpwa&amp;hl=en\" crossorigin=\"use-credentials\" rel=\"manifest\"> <script nonce=\"a4+eYD+ZNrkLaD8Y10OlAg==\">tick(\\'s\\');</script>  <link href=\"/maps/_/ss/k=maps.m.cFbjuE_8VuA.L.X.O/m=sc2,per,mo,lp,ti,ds,stx,bom,b/am=NwI/ct=zgms/d=1/rs=ACT90oG-YgEAf7e96-gp6KblyMT-zMOxQg\" rel=\"stylesheet\" nonce=\"a4+eYD+ZNrkLaD8Y10OlAg==\">  </head> <body class=\"keynav-mode-off\" jstrack=\"1\" tabindex=\"-1\"> <script nonce=\"a4+eYD+ZNrkLaD8Y10OlAg==\">tick(\\'b0\\');</script> <script nonce=\"a4+eYD+ZNrkLaD8Y10OlAg==\">if (window.devicePixelRatio > 1){document.body.className += \\' highres\\';}\\n</script> <script nonce=\"a4+eYD+ZNrkLaD8Y10OlAg==\">(function(){if(window.tactilecsi){window.tactilecsi.g={};window.tactilecsi.h=1;window.tactilecsi.setTimerName=function(d,a){d.name=a};var n=function(d,a,g){var b=\"\";window.tactilecsi.srt&&(b+=\"&srt=\"+window.tactilecsi.srt,delete window.tactilecsi.srt);window.tactilecsi.pt&&(b+=\"&tbsrt=\"+window.tactilecsi.pt,delete window.tactilecsi.pt);try{window.external&&window.external.tran?b+=\"&tran=\"+window.external.tran:window.gtbExternal&&window.gtbExternal.tran?b+=\"&tran=\"+window.gtbExternal.tran():window.chrome&&window.chrome.csi&&\\n(b+=\"&tran=\"+window.chrome.csi().tran)}catch(q){}var c=window.chrome;if(c&&(c=c.loadTimes)){c().wasFetchedViaSpdy&&(b+=\"&p=s\");if(c().wasNpnNegotiated){b+=\"&npn=1\";var e=c().npnNegotiatedProtocol;e&&(b+=\"&npnv=\"+(encodeURIComponent||escape)(e))}c().wasAlternateProtocolAvailable&&(b+=\"&apa=1\")}if(\"undefined\"!=typeof navigator&&navigator&&navigator.connection){c=navigator.connection;e=c.type;for(var f in c)if(\"type\"!=f&&c[f]==e){b+=\"&conn=\"+f;break}}c=d.t;e=c.start;f=[];for(var h in c)if(\"start\"!=h&&\\ne){var k=d.t[h];var l=d.t.start;k&&l?(k-=l,k=Math.round(k)):k=void 0;f.push(h+\".\"+k)}delete c.start;if(a)for(var m in a)b+=\"&\"+m+\"=\"+a[m];(a=g)||(a=\"https:\"==document.location.protocol?\"https://csi.gstatic.com/csi\":\"http://csi.gstatic.com/csi\");return d=[a,\"?v=3\",\"&s=\"+(window.tactilecsi.sn||\"tactile\")+\"&action=\",d.name,\"\",b,\"&rt=\",f.join(\",\")].join(\"\")};window.tactilecsi.getReportUri=n;var p=function(d,a,g){d=n(d,a,g);if(!d)return\"\";a=new Image;var b=window.tactilecsi.h++;window.tactilecsi.g[b]=\\na;a.onload=a.onerror=function(){window.tactilecsi&&delete window.tactilecsi.g[b]};a.src=d;a=null;return d};window.tactilecsi.report=function(d,a,g){var b=document.visibilityState,c=\"visibilitychange\";b||(b=document.webkitVisibilityState,c=\"webkitvisibilitychange\");if(\"prerender\"==b){var e=!1,f=function(){if(!e){a?a.prerender=\"1\":a={prerender:\"1\"};if(\"prerender\"==(document.visibilityState||document.webkitVisibilityState))var h=!1;else p(d,a,g),h=!0;h&&(e=!0,document.removeEventListener(c,f,!1))}};document.addEventListener(c,f,!1);return\"\"}return p(d,a,g)}};}).call(this);</script> <script nonce=\"a4+eYD+ZNrkLaD8Y10OlAg==\">tick(\\'ms0\\');</script>    <script src=\"/maps/_/js/k=maps.m.en.GXbbNojDaKI.es5.O/m=sc2,per,mo,lp,ti,ds,stx,bom,b/am=NwI/rt=j/d=1/rs=ACT90oEXcvbbwbP96AiqupMb6LcZISpjdg\" nonce=\"a4+eYD+ZNrkLaD8Y10OlAg==\"></script>   <script nonce=\"a4+eYD+ZNrkLaD8Y10OlAg==\">tick(\\'ms1\\');</script> <script nonce=\"a4+eYD+ZNrkLaD8Y10OlAg==\">tick(\\'b1\\');</script>  <script nonce=\"a4+eYD+ZNrkLaD8Y10OlAg==\">tick(\\'p1\\');</script> <noscript> <div id=\"no-script\"> <div class=\"no-script-message\"> <div> When you have eliminated the <strong>JavaScript</strong>, whatever remains must be an empty page. </div> <a class=\"no-script-help-link\" href=\"https://support.google.com/maps/?hl=en&amp;authuser=0&amp;p=no_javascript\" target=\"_blank\"> Enable JavaScript to see Google Maps. </a> </div> </div> </noscript> </body> </html>'"
      ]
     },
     "execution_count": 320,
     "metadata": {},
     "output_type": "execute_result"
    }
   ],
   "source": [
    "page.content"
   ]
  },
  {
   "cell_type": "code",
   "execution_count": 279,
   "metadata": {},
   "outputs": [],
   "source": [
    "soup=BeautifulSoup(page.content,'html.parser')"
   ]
  },
  {
   "cell_type": "code",
   "execution_count": 280,
   "metadata": {
    "collapsed": true
   },
   "outputs": [
    {
     "name": "stdout",
     "output_type": "stream",
     "text": [
      "<!DOCTYPE html>\n",
      "<html itemscope=\"\" itemtype=\"http://schema.org/Place\" lang=\"en-IN\">\n",
      " <head>\n",
      "  <link href=\"/maps/preview/opensearch.xml?hl=en\" rel=\"search\" title=\"Google Maps\" type=\"application/opensearchdescription+xml\"/>\n",
      "  <title>\n",
      "   Google Maps\n",
      "  </title>\n",
      "  <meta content=\" Find local businesses, view maps and get driving directions in Google Maps. \" name=\"Description\"/>\n",
      "  <meta content=\"initial-scale=1.0, maximum-scale=1.0, minimum-scale=1.0, user-scalable=no\" name=\"viewport\"/>\n",
      "  <meta content=\"chrome=1\" http-equiv=\"X-UA-Compatible\"/>\n",
      "  <meta content=\"notranslate\" name=\"google\"/>\n",
      "  <meta content=\"origin\" name=\"referrer\"/>\n",
      "  <meta content=\"Google Maps\" itemprop=\"name\"/>\n",
      "  <meta content=\"Google Maps\" property=\"og:title\"/>\n",
      "  <meta content=\"https://maps.google.com/maps/api/staticmap?center=22.4168315%2C71.31966105&amp;zoom=7&amp;size=256x256&amp;language=en&amp;sensor=false&amp;client=google-maps-frontend&amp;signature=-2gKQKfnEs5f6Nz2_VweHGp5YxQ\" itemprop=\"image\"/>\n",
      "  <meta content=\"https://maps.google.com/maps/api/staticmap?center=22.4168315%2C71.31966105&amp;zoom=7&amp;size=256x256&amp;language=en&amp;sensor=false&amp;client=google-maps-frontend&amp;signature=-2gKQKfnEs5f6Nz2_VweHGp5YxQ\" property=\"og:image\"/>\n",
      "  <meta content=\"256\" property=\"og:image:width\"/>\n",
      "  <meta content=\"256\" property=\"og:image:height\"/>\n",
      "  <meta content=\"Find local businesses, view maps and get driving directions in Google Maps.\" itemprop=\"description\"/>\n",
      "  <meta content=\"Find local businesses, view maps and get driving directions in Google Maps.\" property=\"og:description\"/>\n",
      "  <meta content=\"Google Maps\" property=\"og:site_name\"/>\n",
      "  <meta content=\"summary\" name=\"twitter:card\"/>\n",
      "  <script nonce=\"a4+eYD+ZNrkLaD8Y10OlAg==\">\n",
      "   (function(){(function(){function c(d){this.t={};this.tick=function(g,e,f){e=void 0!=f?f:(new Date).getTime();this.t[g]=e};this.getStartTickTime=function(){return this.t.start};this.tick(\"start\",null,d)}var b;if(window.performance)var a=(b=window.performance.timing)&&b.responseStart;var h=0<a?new c(a):new c;window.tactilecsi={Timer:c,load:h};b&&(b=b.navigationStart,0<b&&a>=b&&(window.tactilecsi.srt=a-b));try{a=null,window.chrome&&window.chrome.csi&&(a=Math.floor(window.chrome.csi().pageT)),null==a&&window.gtbExternal&&\n",
      "(a=window.gtbExternal.pageT()),null==a&&window.external&&(a=window.external.pageT),a&&(window.tactilecsi.pt=a)}catch(d){}})();}).call(this);\n",
      "  </script>\n",
      "  <script nonce=\"a4+eYD+ZNrkLaD8Y10OlAg==\">\n",
      "   function tick(t){if (window.tactilecsi){window.tactilecsi.load.tick(t);}\n",
      "if (window['wtf']&& window['wtf']['trace']&&\n",
      "window['wtf']['trace']['timeStamp']){window['wtf']['trace']['timeStamp']('application.' + t);}\n",
      "}\n",
      "  </script>\n",
      "  <script nonce=\"a4+eYD+ZNrkLaD8Y10OlAg==\">\n",
      "   tick('start');tick('p0');\n",
      "  </script>\n",
      "  <script nonce=\"a4+eYD+ZNrkLaD8Y10OlAg==\">\n",
      "   (function(){\n",
      "'use strict';var k=\"function\"==typeof Object.create?Object.create:function(a){var b=function(){};b.prototype=a;return new b},l;if(\"function\"==typeof Object.setPrototypeOf)l=Object.setPrototypeOf;else{var m;a:{var n={a:!0},p={};try{p.__proto__=n;m=p.a;break a}catch(a){}m=!1}l=m?function(a,b){a.__proto__=b;if(a.__proto__!==b)throw new TypeError(a+\" is not extensible\");return a}:null}var q=l,r=this||self,t=function(){},u=function(a){var b=typeof a;return\"object\"==b&&null!=a||\"function\"==b},v=function(a,b){a=a.split(\".\");var c=r;a[0]in c||\"undefined\"==typeof c.execScript||c.execScript(\"var \"+a[0]);for(var d;a.length&&(d=a.shift());)a.length||void 0===b?c[d]&&c[d]!==Object.prototype[d]?c=c[d]:c=c[d]={}:c[d]=b},w=function(a,b){function c(){}\n",
      "c.prototype=b.prototype;a.l=b.prototype;a.prototype=new c;a.prototype.constructor=a;a.s=function(d,e,f){for(var g=Array(arguments.length-2),h=2;h<arguments.length;h++)g[h-2]=arguments[h];return b.prototype[e].apply(d,g)}};var x=Array.prototype.indexOf?function(a,b){return Array.prototype.indexOf.call(a,b,void 0)}:function(a,b){if(\"string\"===typeof a)return\"string\"!==typeof b||1!=b.length?-1:a.indexOf(b,0);for(var c=0;c<a.length;c++)if(c in a&&a[c]===b)return c;return-1};var y;a:{var z=r.navigator;if(z){var A=z.userAgent;if(A){y=A;break a}}y=\"\"};var B=function(a,b,c){for(var d in a)b.call(c,a[d],d,a)};var C=function(a){C[\" \"](a);return a};C[\" \"]=t;var aa=-1!=y.indexOf(\"Gecko\")&&!(-1!=y.toLowerCase().indexOf(\"webkit\")&&-1==y.indexOf(\"Edge\"))&&!(-1!=y.indexOf(\"Trident\")||-1!=y.indexOf(\"MSIE\"))&&-1==y.indexOf(\"Edge\");var D=function(){this.h=this.h;this.j=this.j};D.prototype.h=!1;D.prototype.g=function(){if(this.j)for(;this.j.length;)this.j.shift()()};var ba=function(){if(!r.addEventListener||!Object.defineProperty)return!1;var a=!1,b=Object.defineProperty({},\"passive\",{get:function(){a=!0}});try{r.addEventListener(\"test\",t,b),r.removeEventListener(\"test\",t,b)}catch(c){}return a}();var E=function(a,b){this.type=a;this.currentTarget=this.target=b};E.prototype.g=function(){};var F=function(a,b){E.call(this,a?a.type:\"\");this.relatedTarget=this.currentTarget=this.target=null;this.button=this.screenY=this.screenX=this.clientY=this.clientX=0;this.key=\"\";this.metaKey=this.shiftKey=this.altKey=this.ctrlKey=!1;this.state=null;this.pointerId=0;this.pointerType=\"\";this.h=null;if(a){var c=this.type=a.type,d=a.changedTouches&&a.changedTouches.length?a.changedTouches[0]:null;this.target=a.target||a.srcElement;this.currentTarget=b;if(b=a.relatedTarget){if(aa){a:{try{C(b.nodeName);var e=!0;break a}catch(f){}e=!1}e||(b=null)}}else\"mouseover\"==c?b=a.fromElement:\"mouseout\"==c&&(b=a.toElement);this.relatedTarget=b;d?(this.clientX=void 0!==d.clientX?d.clientX:d.pageX,this.clientY=void 0!==d.clientY?d.clientY:d.pageY,this.screenX=d.screenX||0,this.screenY=d.screenY||0):(this.clientX=void 0!==a.clientX?a.clientX:a.pageX,this.clientY=void 0!==a.clientY?a.clientY:a.pageY,this.screenX=a.screenX||0,this.screenY=a.screenY||0);this.button=a.button;this.key=a.key||\"\";this.ctrlKey=a.ctrlKey;this.altKey=a.altKey;this.shiftKey=a.shiftKey;this.metaKey=a.metaKey;this.pointerId=a.pointerId||0;this.pointerType=\"string\"===typeof a.pointerType?a.pointerType:ca[a.pointerType]||\"\";this.state=a.state;this.h=a;a.defaultPrevented&&F.l.g.call(this)}};w(F,E);var ca={2:\"touch\",3:\"pen\",4:\"mouse\"};F.prototype.g=function(){F.l.g.call(this);var a=this.h;a.preventDefault?a.preventDefault():a.returnValue=!1};var G=\"closure_listenable_\"+(1E6*Math.random()|0);var da=0;var ea=function(a,b,c,d,e){this.listener=a;this.g=null;this.src=b;this.type=c;this.capture=!!d;this.i=e;this.key=++da;this.h=this.m=!1},H=function(a){a.h=!0;a.listener=null;a.g=null;a.src=null;a.i=null};var I=function(a){this.src=a;this.g={};this.h=0};I.prototype.add=function(a,b,c,d,e){var f=a.toString();a=this.g[f];a||(a=this.g[f]=[],this.h++);var g;a:{for(g=0;g<a.length;++g){var h=a[g];if(!h.h&&h.listener==b&&h.capture==!!d&&h.i==e)break a}g=-1}-1<g?(b=a[g],c||(b.m=!1)):(b=new ea(b,this.src,f,!!d,e),b.m=c,a.push(b));return b};var J=\"closure_lm_\"+(1E6*Math.random()|0),K={},L=0,N=function(a,b,c,d,e){if(d&&d.once)return M(a,b,c,d,e);if(Array.isArray(b)){for(var f=0;f<b.length;f++)N(a,b[f],c,d,e);return null}c=O(c);return a&&a[G]?a.g(b,c,u(d)?!!d.capture:!!d,e):P(a,b,c,!1,d,e)},P=function(a,b,c,d,e,f){if(!b)throw Error(\"Invalid event type\");var g=u(e)?!!e.capture:!!e,h=Q(a);h||(a[J]=h=new I(a));c=h.add(b,c,d,g,f);if(c.g)return c;d=fa();c.g=d;d.src=a;d.listener=c;if(a.addEventListener)ba||(e=g),void 0===e&&(e=!1),a.addEventListener(b.toString(),d,e);else if(a.attachEvent)a.attachEvent(R(b.toString()),d);else if(a.addListener&&a.removeListener)a.addListener(d);else throw Error(\"addEventListener and attachEvent are unavailable.\");L++;return c},fa=function(){var a=ha,b=function(c){return a.call(b.src,b.listener,c)};return b},M=function(a,b,c,d,e){if(Array.isArray(b)){for(var f=0;f<b.length;f++)M(a,b[f],c,d,e);return null}c=O(c);return a&&a[G]?a.h(b,c,u(d)?!!d.capture:!!d,e):P(a,b,c,!0,d,e)},S=function(a){if(\"number\"!==typeof a&&a&&!a.h){var b=a.src;if(b&&b[G])b.i(a);else{var c=a.type,d=a.g;b.removeEventListener?b.removeEventListener(c,d,a.capture):b.detachEvent?b.detachEvent(R(c),d):b.addListener&&b.removeListener&&b.removeListener(d);L--;if(c=Q(b)){d=a.type;if(d in c.g){var e=c.g[d],f=x(e,a),g;(g=0<=f)&&Array.prototype.splice.call(e,f,1);g&&(H(a),0==c.g[d].length&&(delete c.g[d],c.h--))}0==c.h&&(c.src=null,b[J]=null)}else H(a)}}},R=function(a){return a in K?K[a]:K[a]=\"on\"+a},ha=function(a,b){if(a.h)a=!0;else{b=new F(b,this);var c=a.listener,d=a.i||a.src;a.m&&S(a);a=c.call(d,b)}return a},Q=function(a){a=a[J];return a instanceof I?a:null},T=\"__closure_events_fn_\"+(1E9*Math.random()>>>0),O=function(a){if(\"function\"===typeof a)return a;a[T]||(a[T]=function(b){return a.handleEvent(b)});return a[T]};var U=function(a){D.call(this);this.o=a;this.i={}};w(U,D);var V=[],W=function(a,b,c){Array.isArray(c)||(c&&(V[0]=c.toString()),c=V);for(var d=0;d<c.length;d++){var e=N(b,c[d],a.handleEvent,!1,a.o||a);if(!e)break;a.i[e.key]=e}},ia=function(a){B(a.i,function(b,c){this.i.hasOwnProperty(c)&&S(b)},a);a.i={}};U.prototype.g=function(){U.l.g.call(this);ia(this)};U.prototype.handleEvent=function(){throw Error(\"EventHandler.handleEvent not implemented\");};var X=function(){U.call(this);var a=document;W(this,a,\"click\");W(this,a,\"mousedown\");W(this,a,\"rightclick\");W(this,a,\"contextmenu\");W(this,a,\"keypress\");W(this,a,\"wheel\")};X.prototype=k(U.prototype);X.prototype.constructor=X;if(q)q(X,U);else for(var Y in U)if(\"prototype\"!=Y)if(Object.defineProperties){var Z=Object.getOwnPropertyDescriptor(U,Y);Z&&Object.defineProperty(X,Y,Z)}else X[Y]=U[Y];X.l=U.prototype;X.prototype.handleEvent=function(a){v(\"globals.fua.data\",{type:a.type,target:a.target,currentTarget:a.currentTarget,time:Date.now(),u:!0});this.h||(this.h=!0,this.g())};X.prototype.g=function(){U.prototype.g.call(this);delete r.globals.fua.dispose};v(\"globals.fua.install\",function(){var a=new X;v(\"globals.fua.dispose\",function(){a.h||(a.h=!0,a.g())})});}).call(this);\n",
      "  </script>\n",
      "  <script nonce=\"a4+eYD+ZNrkLaD8Y10OlAg==\">\n",
      "   globals.fua.install();\n",
      "  </script>\n",
      "  <script nonce=\"a4+eYD+ZNrkLaD8Y10OlAg==\">\n",
      "   (function(){\n",
      "'use strict';var m=\"function\"==typeof Object.create?Object.create:function(a){var b=function(){};b.prototype=a;return new b},p;if(\"function\"==typeof Object.setPrototypeOf)p=Object.setPrototypeOf;else{var q;a:{var r={a:!0},u={};try{u.__proto__=r;q=u.a;break a}catch(a){}q=!1}p=q?function(a,b){a.__proto__=b;if(a.__proto__!==b)throw new TypeError(a+\" is not extensible\");return a}:null}var v=p,w=this||self,x=function(a,b,c){a=a.split(\".\");c=c||w;a[0]in c||\"undefined\"==typeof c.execScript||c.execScript(\"var \"+a[0]);for(var d;a.length&&(d=a.shift());)a.length||void 0===b?c[d]&&c[d]!==Object.prototype[d]?c=c[d]:c=c[d]={}:c[d]=b},y=function(a){var b=typeof a;return\"object\"==b&&null!=a||\"function\"==b};var z=function(a,b){return w.setTimeout(function(){try{a()}catch(c){throw c;}},b)};var A=/(?:@|\\()([^:]*(:\\/)?[^:]*(:\\d+\\/)?[^:]*):/,B=function(a,b){var c=0;a.forEach(function(d){c+=d.length});b.forEach(function(d){c+=d.length});return 3*(a.length+b.length)+1.1*c};var C=function(a,b,c,d){this.o=b;this.g=this.m=a;this.s=c||0;this.u=d||2};C.prototype.j=function(){return this.m};var D=function(a,b,c){C.call(this,a,b);this.v=c;this.l=null;this.h=this.i=0};D.prototype=m(C.prototype);D.prototype.constructor=D;if(v)v(D,C);else for(var E in C)if(\"prototype\"!=E)if(Object.defineProperties){var F=Object.getOwnPropertyDescriptor(C,E);F&&Object.defineProperty(D,E,F)}else D[E]=C[E];var G=function(a){var b=Date.now();if(0==a.h)return a.h=b,!0;var c=b>a.h+a.j();c&&(a.h=b,a.g=Math.min(a.o,a.g*a.u),a.m=Math.min(a.o,a.g+(a.s?Math.round(a.s*(Math.random()-.5)*2*a.g):0)));return c};D.prototype.j=function(){var a=C.prototype.j.call(this);this.l&&w.clearTimeout(this.l);this.l=z(this.v,2*a);return a};var H=function(){this.g={}};H.prototype.get=function(a){a=I(a);return this.g[a]};H.prototype.set=function(a,b){a=I(a);this.g[a]=b};var I=function(a){if(\"object\"===typeof a){var b=[],c;for(c in a)a.hasOwnProperty(c)&&b.push(J(a[c].toString()));return b.join(\" \")}return J(a.toString())},J=function(a){for(;\":\"==a.charAt(a.length-1);)a=a.slice(0,a.length-1);a=a.split(\":\");return a[a.length-1].trim()};var L=function(){var a=\"undefined\"===typeof DEV_MODE?!1:DEV_MODE,b=\"undefined\"===typeof LOGGING_ENDPOINT?\"/maps/preview/log204\":LOGGING_ENDPOINT,c=\"undefined\"===typeof JS_VERSION?null:JS_VERSION,d=\"undefined\"===typeof PRODUCT_ID?81:PRODUCT_ID,e=this;var g=void 0===g?w.location&&w.location.hostname:g;this.u=a;this.j=b;this.A=c;this.v=d;this.o=g;this.i=null;this.m=!1;this.s=this.h=null;this.g=new H;this.l=new H;var f=w.onerror;w.onerror=function(l){for(var h=[],k=0;k<arguments.length;++k)h[k-0]=arguments[k];f&&f.apply(null,h);K(e,h[0],h[1],h[2])}};L.prototype.listen=function(a){this.i=a};L.prototype.log=function(a,b){K(this,a,void 0,void 0,b);return a};var M=function(a,b){var c=a.g.get(b);c||(c=new D(6E4,36E5,function(){var d=a.g,e=I(b);delete d.g[e]}),a.g.set(b,c));c.i++;return c},P=function(a,b,c,d,e,g){var f=N(y(b)?b.message:b,g||1);f.type=\"error\";f.count=e.i;e.i=0;if(y(b)){if(c=b.file||\"\",f.file=\"string\"===typeof c?c.substr(0,400):\"\",f.line=b.line||0,\"string\"===typeof b.stack){b=b.stack.split(\"\\n\");c=0;for(d=b.length;c<d&&40>c;++c)e=b[c].trim(),0<e.length&&f.stack.push(e);f.stackUrls=[];b=f.stack;c=f.stackUrls;d=1700-(3+1.1*f.message.length);e={};for(var l=0,h=0;h<b.length;++h){var k=b[h],n=k.match(A);if(n){n=n[1];if(e[n])var t=e[n];else t=\"..\"+l+\"..\",e[n]=t,c.push(n),l++;b[h]=k.replace(n,t)}}k=e=B(b,c);h=\"\";for(l=null;k>d;){h=\n",
      "b.pop();l=null;k=\"..\"+(c.length-1)+\"..\";if(-1<h.indexOf(k)){n=!1;for(t=b.length-1;0<=t;t--)if(-1<b[t].indexOf(k)){n=!0;break}n||(l=c.pop())}k=B(b,c)}0>=Math.ceil(e-k)?b=0:(d=Math.floor(d-k),3<d&&(h=h.length>d?h.substr(0,d-3)+\"...\":h,b.push(h),d-=h.length,l&&3<d&&c.push(l.length>d?l.substr(0,d-3)+\"...\":l)),b=Math.ceil(e-B(b,c)));f.stackTruncation=b}}else f.file=\"string\"===typeof c?c.substr(0,400):\"\",f.line=d||0;O(a,f,g)&&(f.errorType=9);return f},O=function(a,b,c){var d=b.message,e=navigator.userAgent;if(/HeadlessChrome/.test(e)||/Trident\\/7\\.0/.test(e)&&!/rv:11\\.0/.test(e)||a.o&&!/\\.google\\./.test(a.o)||0<=d.indexOf(\"zCommon\")||0<=d.indexOf(\"887a0005\")||!c&&(\"Script error\"==d||\"Script error.\"==d)||-1!=d.indexOf(\"Not enough storage is available to complete this operation.\")||0<=d.indexOf(\"ArrayBuffer length minus the\")||d.match(/new RegExp.*ludo_cid/)||0<=d.indexOf(\"Cannot read property 'mute' of null\"))return!0;a=b.stack;for(c=0;c<a.length;++c)if(a[c].match(/phantomjs/i))return!0;a=function(g){return!g||\n",
      "0<=g.indexOf(\"/maps\")?!0:!1};if(0<=d.indexOf(\"JSON syntax error\")&&!a(b.file))return!0;d=function(g){return 0==g.indexOf(\"resource://\")||0==g.indexOf(\"chrome-extension://\")||0==g.indexOf(\"https://\")&&8!=g.indexOf(\"www.google\")&&8!=g.indexOf(\"maps.gstatic\")&&8!=g.indexOf(\"www.gstatic\")&&8!=g.indexOf(\"apis.google\")?!1:!0};if(b=b.stackUrls)for(a=0;a<b.length;++a)if(!d(b[a]))return!0;return!1},K=function(a,b,c,d,e){var g=y(b)?b.message:b,f=a.l.get(g);if(f)f&&g.length>f.message.length&&(f.message=g);else if(f=M(a,g),G(f)){var l=P(a,b,c,d,f,e);Q(a,l);a.l.set(g,l);w.setTimeout(function(){a.i&&a.i(l);a.m||R(a,l);var h=a.l,k=I(g);delete h.g[k]},0)}},Q=function(a,b){var c=b.message+\"\\n\";for(var d=0,e=b.stack.length;d<e;++d)c+=b.stack[d]+\"\\n\";d=0;for(e=b.stackUrls.length;d<e;++d)c+=\"..\"+d+\"..=\"+b.stackUrls[d]+\"\\n\";a.h||(a.h=c);a.s=c},R=function(a,b){if(a.j){var c=2;b.count&&1<b.count&&c++;var d=3;b.file&&d++;b.line&&d++;b.stack&&(d+=b.stack.length);0<b.stackTruncation&&d++;b.stackUrls&&(d+=b.stackUrls.length);var e=[];e.push(\"!8m\");e.push(\"\"+(c+d));e.push(\"!2e6\");b.count&&1<b.count&&(e.push(\"!7i\"),e.push(b.count));e.push(\"!9m\");e.push(\"\"+d);e.push(\"!1s\");e.push(S(b.message));b.file&&(e.push(\"!2s\"),e.push(S(b.file)));b.line&&(e.push(\"!3i\"),e.push(b.line));if(b.stack)for(c=0,d=b.stack.length;c<d;++c)e.push(\"!4s\"),e.push(S(b.stack[c]));e.push(\"!6s\");e.push(S(a.A||\n",
      "\"\"));e.push(\"!8e\"+b.errorType);0<b.stackTruncation&&(e.push(\"!9i\"),e.push(b.stackTruncation));if(b.stackUrls)for(c=0,d=b.stackUrls.length;c<d;c++)e.push(\"!10s\"),e.push(S(b.stackUrls[c]));e.push(\"!11m1\");e.push(\"!7e\");e.push(String(a.v||0));var g=a.j+(0<=a.j.indexOf(\"?\")?\"&\":\"?\")+\"pb=\"+e.join(\"\");if(a.u)(a=w.console)&&a.log.call(a,g);else{var f=null;w.XMLHttpRequest&&(f=new w.XMLHttpRequest);f&&w.setTimeout(function(){f.open(\"GET\",g,!0);f.send(null)},0)}}},S=function(a){a=a||\"\";0<a.indexOf(\"*\")&&(a=a.replace(T,\"*2A\"));0<a.indexOf(\"!\")&&(a=a.replace(U,\"*21\"));return encodeURIComponent(a)},N=function(a,b){var c={};c.message=a?a.substr(0,400):\"\";c.file=\"\";c.line=0;c.stack=[];c.stackUrls=[];c.errorType=void 0===b?1:b;return c},U=/(!)/g,T=/(\\*)/g;if(\"undefined\"==typeof globals||void 0===globals.ErrorHandler){var V=new L,W=function(a,b){return V.log(a,b)};w._DumpException=W;x(\"globals.ErrorHandler.listen\",function(a){return V.listen(a)},void 0);x(\"_._DumpException\",W,w);x(\"globals.ErrorHandler.dr\",function(){V.m=!0},void 0);x(\"globals.ErrorHandler.log\",W,void 0);x(\"globals.ErrorHandler.ne\",N,void 0);x(\"globals.ErrorHandler.fe\",function(){return V.h},void 0);x(\"globals.ErrorHandler.mre\",function(){return V.s},void 0)};}).call(this);\n",
      "  </script>\n",
      "  <script nonce=\"a4+eYD+ZNrkLaD8Y10OlAg==\">\n",
      "   window._ = window._ || {};window._._DumpException = function(e){throw globals.ErrorHandler.log(e);};window._DumpException = function(e){throw globals.ErrorHandler.log(e);};\n",
      "  </script>\n",
      "  <link href=\"//www.google.com/images/branding/product/ico/maps15_bnuw3a_32dp.ico\" rel=\"shortcut icon\"/>\n",
      "  <script nonce=\"a4+eYD+ZNrkLaD8Y10OlAg==\">\n",
      "   (function(){window.APP_OPTIONS=[null,\"20210224.0\",null,[\"/search?tbm\\u003dmap\\u0026authuser\\u003d0\\u0026hl\\u003den\\u0026gl\\u003din\",\"/s?tbm\\u003dmap\\u0026gs_ri\\u003dmaps\\u0026suggest\\u003dp\\u0026authuser\\u003d0\\u0026hl\\u003den\\u0026gl\\u003din\",\"/maps/preview/directions?authuser\\u003d0\\u0026hl\\u003den\\u0026gl\\u003din\",null,\"/maps/preview/entity?authuser\\u003d0\\u0026hl\\u003den\\u0026gl\\u003din\",\"/maps/rpc/vp?authuser\\u003d0\\u0026hl\\u003den\\u0026gl\\u003din\",[[\"/maps/vt\"]\n",
      ",543,[\"/maps/vt/stream\"]\n",
      ",null,0,null,894,\"/maps/vt\",null,null,\"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\\u003d\"]\n",
      ",[\"//khms0.google.com/kh/v\\u003d894\",\"//khms1.google.com/kh/v\\u003d894\",\"//khms2.google.com/kh/v\\u003d894\",\"//khms3.google.com/kh/v\\u003d894\"]\n",
      ",\"/maps/preview/log204?authuser\\u003d0\\u0026hl\\u003den\\u0026gl\\u003din\",[\"//geo0.ggpht.com/cbk?cb_client\\u003dmaps_sv.tactile\\u0026authuser\\u003d0\\u0026hl\\u003den\\u0026gl\\u003din\",\"//geo1.ggpht.com/cbk?cb_client\\u003dmaps_sv.tactile\\u0026authuser\\u003d0\\u0026hl\\u003den\\u0026gl\\u003din\",\"//geo2.ggpht.com/cbk?cb_client\\u003dmaps_sv.tactile\\u0026authuser\\u003d0\\u0026hl\\u003den\\u0026gl\\u003din\",\"//geo3.ggpht.com/cbk?cb_client\\u003dmaps_sv.tactile\\u0026authuser\\u003d0\\u0026hl\\u003den\\u0026gl\\u003din\"]\n",
      ",null,null,null,\"//kh.google.com/rt/earth\",null,null,\"/maps/preview/placeactions/starring?authuser\\u003d0\\u0026hl\\u003den\\u0026gl\\u003din\",\"/maps/reportmapissue?authuser\\u003d0\\u0026hl\\u003den\\u0026gl\\u003din\",null,\"/maps/preview/reveal?authuser\\u003d0\\u0026hl\\u003den\\u0026gl\\u003din\",null,\"/maps/mm?authuser\\u003d0\\u0026hl\\u003den\\u0026gl\\u003din\",\"/maps/preview/photo?authuser\\u003d0\\u0026hl\\u003den\\u0026gl\\u003din\",null,\"/maps/preview/gme/list?authuser\\u003d0\\u0026hl\\u003den\\u0026gl\\u003din\",null,\"/maps/preview/placeupdate?authuser\\u003d0\\u0026hl\\u003den\\u0026gl\\u003din\",\"/maps/preview/gme/details?authuser\\u003d0\\u0026hl\\u003den\\u0026gl\\u003din\",\"/maps/preview/placeactions/writeaction?authuser\\u003d0\\u0026hl\\u003den\\u0026gl\\u003din\",\"/maps/rpc/shorturl?authuser\\u003d0\\u0026hl\\u003den\\u0026gl\\u003din\",\"/gen_204\",null,\"/maps/sendtocar/devices?authuser\\u003d0\\u0026hl\\u003den\\u0026gl\\u003din\",\"/maps/sendtocar/send?authuser\\u003d0\\u0026hl\\u003den\\u0026gl\\u003din\",\"/maps/preview/assist?authuser\\u003d0\\u0026hl\\u003den\\u0026gl\\u003din\",\"/maps/preview/reportdataproblem?authuser\\u003d0\\u0026hl\\u003den\\u0026gl\\u003din\",null,\"/maps/rpc/userprefswrite?authuser\\u003d0\\u0026hl\\u003den\\u0026gl\\u003din\",\"/maps/rpc/userprefsread?authuser\\u003d0\\u0026hl\\u003den\\u0026gl\\u003din\",\"/maps/preview/categories?authuser\\u003d0\\u0026hl\\u003den\\u0026gl\\u003din\",null,\"/maps/preview/pegman?authuser\\u003d0\\u0026hl\\u003den\\u0026gl\\u003din\",\"/locationhistory/preview/mas?authuser\\u003d0\\u0026hl\\u003den\\u0026gl\\u003din\",\"/maps/photometa/v1?authuser\\u003d0\\u0026hl\\u003den\\u0026gl\\u003din\",\"/maps/preview/sendtodevice?authuser\\u003d0\\u0026hl\\u003den\\u0026gl\\u003din\",\"//maps.gstatic.com\",\"//khms.google.com/dm/\",[\"https://lh3.ggpht.com/\",\"https://lh4.ggpht.com/\",\"https://lh5.ggpht.com/\",\"https://lh6.ggpht.com/\"]\n",
      ",\"/maps/photometa/ac/\",\"/maps/photometa/si/v1?authuser\\u003d0\\u0026hl\\u003den\\u0026gl\\u003din\",\"/maps/timeline/_rpc/pe?authuser\\u003d0\\u0026hl\\u003den\\u0026gl\\u003din\",\"/maps/timeline/_rpc/pd?authuser\\u003d0\\u0026hl\\u003den\\u0026gl\\u003din\",\"/maps/timeline/_rpc/pc?authuser\\u003d0\\u0026hl\\u003den\\u0026gl\\u003din\",\"/maps/preview/directionsassist?authuser\\u003d0\\u0026hl\\u003den\\u0026gl\\u003din\",\"/maps/timeline/_rpc/phe?authuser\\u003d0\\u0026hl\\u003den\\u0026gl\\u003din\",\"/maps/preview/notifications/reg?authuser\\u003d0\\u0026hl\\u003den\\u0026gl\\u003din\",\"/maps/preview/notifications/unreg?authuser\\u003d0\\u0026hl\\u003den\\u0026gl\\u003din\",\"/maps/preview/notifications/fetch?authuser\\u003d0\\u0026hl\\u003den\\u0026gl\\u003din\",\"/maps/preview/notifications/mark?authuser\\u003d0\\u0026hl\\u003den\\u0026gl\\u003din\",null,\"/maps/photometa/acz/\",\"/maps/preview/knowledge?authuser\\u003d0\\u0026hl\\u003den\\u0026gl\\u003din\",\"/maps/preview/pi?authuser\\u003d0\\u0026hl\\u003den\\u0026gl\\u003din\",\"/maps/preview/editsformoderation?authuser\\u003d0\\u0026hl\\u003den\\u0026gl\\u003din\",\"/maps/preview/vope?authuser\\u003d0\\u0026hl\\u003den\\u0026gl\\u003din\",\"/maps/timeline/_rpc/placelist/create?authuser\\u003d0\\u0026hl\\u003den\\u0026gl\\u003din\",\"/maps/timeline/_rpc/placelist/additem?authuser\\u003d0\\u0026hl\\u003den\\u0026gl\\u003din\",\"/maps/timeline/_rpc/placelist/delete?authuser\\u003d0\\u0026hl\\u003den\\u0026gl\\u003din\",\"/maps/timeline/_rpc/placelist/edit?authuser\\u003d0\\u0026hl\\u003den\\u0026gl\\u003din\",\"/maps/timeline/_rpc/placelist/removeitem?authuser\\u003d0\\u0026hl\\u003den\\u0026gl\\u003din\",\"/maps/preview/passiveassist?authuser\\u003d0\\u0026hl\\u003den\\u0026gl\\u003din\",\"/maps/rpc/locationsharing/read?authuser\\u003d0\\u0026hl\\u003den\\u0026gl\\u003din\",\"/maps/timeline/_rpc/placelist/follow?authuser\\u003d0\\u0026hl\\u003den\\u0026gl\\u003din\",\"/maps/timeline/_rpc/placelist/share?authuser\\u003d0\\u0026hl\\u003den\\u0026gl\\u003din\",\"/maps/preview/notifications/prefs?authuser\\u003d0\\u0026hl\\u003den\\u0026gl\\u003din\",\"/maps/timeline/_rpc/placelist/get?authuser\\u003d0\\u0026hl\\u003den\\u0026gl\\u003din\",\"/maps/preview/areatraffic?authuser\\u003d0\\u0026hl\\u003den\\u0026gl\\u003din\",\"/maps/preview/localposts?authuser\\u003d0\\u0026hl\\u003den\\u0026gl\\u003din\",\"/maps/timeline/_rpc/placelist/updateitem?authuser\\u003d0\\u0026hl\\u003den\\u0026gl\\u003din\",\"/maps/preview/lp?authuser\\u003d0\\u0026hl\\u003den\\u0026gl\\u003din\",\"/maps/preview/blockaddomain?authuser\\u003d0\\u0026hl\\u003den\\u0026gl\\u003din\",\"/maps/preview/review/deletereview?authuser\\u003d0\\u0026hl\\u003den\\u0026gl\\u003din\",null,\"/maps/preview/rapfeatures?authuser\\u003d0\\u0026hl\\u003den\\u0026gl\\u003din\",\"/maps/preview/review/writereview?authuser\\u003d0\\u0026hl\\u003den\\u0026gl\\u003din\",\"/maps/preview/review/votereview?authuser\\u003d0\\u0026hl\\u003den\\u0026gl\\u003din\",\"/maps/preview/merchantstatus?authuser\\u003d0\\u0026hl\\u003den\\u0026gl\\u003din\",\"/maps/preview/review/listentitiesreviews?authuser\\u003d0\\u0026hl\\u003den\\u0026gl\\u003din\",\"/maps/preview/place?authuser\\u003d0\\u0026hl\\u003den\\u0026gl\\u003din\",\"/maps/preview/transit/lines?authuser\\u003d0\\u0026hl\\u003den\\u0026gl\\u003din\",\"//www.gstatic.com\",\"/maps/preview/placeinsights?authuser\\u003d0\\u0026hl\\u003den\\u0026gl\\u003din\",\"/maps/timeline/_rpc/sync?authuser\\u003d0\\u0026hl\\u003den\\u0026gl\\u003din\",\"https://streetviewpixels-pa.googleapis.com/?cb_client\\u003dmaps_sv.tactile\"]\n",
      ",null,null,1,null,[\"en\",\"in\",\"India\"]\n",
      ",null,0,\"Ax87YIOeFJOZ4-EPzfOB2AM\",null,null,null,null,null,null,null,null,null,null,null,[null,\"a\",null,null,null,null,null,null,null,null,null,null,null,null,null,null,null,[null,null,null,null,0,0,null,null,1,null,null,1,null,null,null,0,null,null,null,1,1]\n",
      ",null,null,null,[null,null,null,null,null,2,3,2]\n",
      "]\n",
      ",[\"\",null,\"\",null,null,null,null,null,[null,\"\"]\n",
      ",[null,null,null,null,null,\"\"]\n",
      "]\n",
      ",[1,2]\n",
      ",0,[\"//www.google.com/intl/en_in/privacy.html\",\"//www.google.com/intl/en_in/help/terms_maps.html\",null,null,null,\"//support.google.com/maps/?hl\\u003den\\u0026authuser\\u003d0\",\"https://docs.google.com/picker\",null,\"/maps/sendtocar\",\"/adwords/express/how-it-works.html?utm_source\\u003dawx\\u0026utm_medium\\u003det\\u0026utm_campaign\\u003dww-ww-et-awx-symh-maps-nelson\\u0026hl\\u003den\\u0026authuser\\u003d0\\u0026gl\\u003din\",\"https://accounts.google.com/ServiceLogin?hl\\u003den\",[null,\"Learn more\",null,\"0ahUKEwjDq-Lv4YvvAhWTzDgGHc15ADsQ8FkIAigA\",null,\"newmaps_mylocation\"]\n",
      ",\"https://business.google.com/create?service\\u003dplus\\u0026hl\\u003den\\u0026authuser\\u003d0\",\"https://www.google.com/maps/api/js/reviews?key\\u003dAIzaSyAQiTKe3tivKXammrJ6ov6u8E7KwZPNFss\\u0026language\\u003den\",\"//www.google.com/settings/accounthistory/location?hl\\u003den\\u0026authuser\\u003d0\",\"/maps/timeline?hl\\u003den\\u0026authuser\\u003d0\",\"//www.google.com/local/guides/signup?utm_source\\u003dtactile\\u0026utm_medium\\u003do\\u0026utm_campaign\\u003dtactile_contributions_panel\\u0026hl\\u003den\\u0026authuser\\u003d0\",\"https://support.google.com/websearch/answer/6276008\",\"https://business.google.com?skipLandingPage\\u003d1\\u0026hl\\u003den\\u0026authuser\\u003d0\",null,[null,null,null,\"https://business.google.com/mm/create?hl\\u003den\\u0026authuser\\u003d0\"]\n",
      "]\n",
      ",null,null,[[\"hi\",\"Hindi - \\u202aहिन्दी\\u202c\"]\n",
      ",[\"bn\",\"Bangla - \\u202aবাংলা\\u202c\"]\n",
      ",[\"te\",\"Telugu - \\u202aతెలుగు\\u202c\"]\n",
      ",[\"mr\",\"Marathi - \\u202aमराठी\\u202c\"]\n",
      ",[\"ta\",\"Tamil - \\u202aதமிழ்\\u202c\"]\n",
      ",[\"gu\",\"Gujarati - \\u202aગુજરાતી\\u202c\"]\n",
      ",[\"kn\",\"Kannada - \\u202aಕನ್ನಡ\\u202c\"]\n",
      ",[\"ml\",\"Malayalam - \\u202aമലയാളം\\u202c\"]\n",
      ",[\"pa\",\"Punjabi - \\u202aਪੰਜਾਬੀ\\u202c\"]\n",
      "]\n",
      ",null,null,[3,4]\n",
      ",null,null,[null,null,null,null,null,null,81]\n",
      ",[[]\n",
      ",[[1,[[[2,\"traffic\",null,[[\"incidents\",\"1\"]\n",
      ",[\"incidents_text\",\"1\"]\n",
      "]\n",
      "]\n",
      "]\n",
      "]\n",
      "]\n",
      ",[2,[[[2,\"transit\"]\n",
      "]\n",
      "]\n",
      "]\n",
      ",[3,[[[2,\"bike\"]\n",
      "]\n",
      "]\n",
      "]\n",
      ",[4,[null,null,1]\n",
      "]\n",
      ",[6,[[[2,\"travel\"]\n",
      "]\n",
      "]\n",
      "]\n",
      ",[9,[[[2,\"covid\"]\n",
      "]\n",
      "]\n",
      "]\n",
      "]\n",
      "]\n",
      ",0,[\"/maps/_/js/\",\"m\",\"maps.m.en.GXbbNojDaKI.es5.O\",\"ACT90oH25yTBBMQwL9Pm0hk33hdNhuMxQA\",\"NwI\",null,\"maps.m.cFbjuE_8VuA.L.X.O\"]\n",
      ",null,null,[10200083,10202786,10202788,10202942,10203279,10203448,10203487,10203489,10203509,10203568,10203575,10203595,10203727,10203810,10203953,10203988,10203999,10204011,10204020,10204034,10204051,10204088,10204090,10204112,10204137,10204139,1381174,1382412,1381938,1381033,1368782,1368785,1375246,1385853,46990830]\n",
      ",21600,null,null,null,1,null,null,0,null,null,null,[[[1,0,3]\n",
      ",[2,1,2]\n",
      ",[2,0,3]\n",
      ",[3,0,3]\n",
      ",[8,0,3]\n",
      ",[3,1,2]\n",
      ",[10,0,3]\n",
      ",[10,1,2]\n",
      ",[10,0,3]\n",
      ",[10,1,2]\n",
      ",[10,0,4]\n",
      "]\n",
      ",1,null,0]\n",
      ",[]\n",
      ",null,null,1,null,[1381174,1382412,10203575,1381938,1381033,1368782,1368785,1375246,1385853,46990830]\n",
      ",0,null,null,[0,1]\n",
      ",null,null,1,1,[null,1,1,1,null,1,null,[1,null,1,1,null,1]\n",
      ",1,null,null,1,null,1,null,null,null,null,null,1,null,null,1,null,1,1]\n",
      ",null,null,null,\"'Noto Sans Devanagari UI', 'Noto Sans Bengali UI', 'Noto Sans Telugu UI', 'Noto Sans Tamil UI', 'Noto Sans Gujarati UI', 'Noto Sans Kannada UI', 'Noto Sans Malayalam UI', 'Noto Sans Gurmukhi UI'\",null,null,[null,null,null,\"/maps/_/js/k\\u003dmaps.mvw.en.U9uHJxu_QAE.es5.O/m\\u003dwtd,vw/rt\\u003dj/d\\u003d1/rs\\u003dACT90oEKvFnZDwbENN8vsy14gM5QtPkzBQ\"]\n",
      ",1,[\"\",0]\n",
      "]\n",
      ";window.APP_INITIALIZATION_STATE=[[[3776843.565561425,71.31966105,22.4168315]\n",
      ",[0.0,0.0,0.0]\n",
      ",[1024,768]\n",
      ",13.1]\n",
      ",[[[\"m\",[7,83,51]\n",
      ",13,[543269258,543269258,543269258,543268214,543269462,543269462,543269462,543269462,543269462,543269462,543269150,543265418,543264686,543269258,543269258,543269258,543269462,543269462,543269462,543269462,543269462,543269462,543269462,543269150,543269090,543269462,543269294,543269258,543269258,543269462,543269462,543269462,543269462,543269462,543269462,543269462,543269282,543269282,543269462,543269462,543269462,543269030,543269462,543269462,543269462,543269462,543269462,543269462,543269462,543269462,543269462,543269462,543269462,543269462,543269030,543269066,543269294,543269462,543269462,543269462,543269462,543269462,543269462,543269462,543269462,543269462,543269462,543267818,543267818,543267422,543269462,543269462,543269462,543269462,543269462,543269462,543269462,543269462,543269006,543269006,543266882,543262778,543264686,543268106,543269462,543269462,543269462,543269462,543269462,543269366,543269366,543269426,543269426,543266882,543262778,543227686,543268094,543269462,543269462,543269462,543269462,543269462,543268922,543269462,543269426,543269426,543262778,543262082,543227686,543269294,543269462,543269462,543269462,543269462,543269462,543262778,543269462,543269426,543269426,543262778,543262082,543227686,543269294,543269294,543269462,543269462,543269462,543269462,543266882,543269462]\n",
      "]\n",
      ",[\"m\",[6,41,25]\n",
      ",7,[543269462,543269462,543269462,543269462,543269462,543269462,543269462,543269462,543269462,543269462,543269462,543269462,543269462,543269462,543269462,543269462,543269462,543269462,543269462,543269462,543269462,543269462,543269462,543269462,543269462,543269462,543269462,543269462,543269402,543269006,543269294,543269462,543269462,543269462,543269462,543269402,543264686,543269294,543269462,543269462,543269462,543269462]\n",
      "]\n",
      ",[\"m\",[8,172,107]\n",
      ",13,[543267950,543269462,543269462,543269462,543269294,543269294,543269426,543269426,543269426,543269462,543269462,543269462,543269390,543269030,543268058,543269066,543269294,543269294,543269294,543269258,543269414,543269414,543269414,543269402,543269246,543269234,543269030,543268058,543269066,543269294,543269294,543269414,543269414,543269414,543269414,543269414,543269402,543269246,543269234,543269030,543268058,543269066,543269066,543269426,543269462,543269462,543269462,543269390,543269390,543269246,543269246,543269102,543262778,543262778,543267422,543268802,543269426,543269462,543269462,543269462,543269246,543269246,543269246,543269102,543269210,543262778,543153254,543262778,543263810,543269426,543269462,543269462,543269462,543269462,543269462,543269462,543269462,543269462,543262778,543124148,543124148,543262778,543268958,543268958,543268958,543269378,543269462,543269462,543269462,543269462,543269462,543124148,543124148,543124148,543257090,543257090,543262778,543268946,543269378,543269462,543269462,543269462,543269462,543269462,543124148,543124148,543124148,543153254,543153254,543262778,543268946,543269462,543269462,543269462,543269378,543269378,543269354,543124148,543124148,543124148,543153254,543153254,543153254,543262778,543269462,543269462,543269462,543269378,543269378,543269354]\n",
      "]\n",
      "]\n",
      "]\n",
      ",null,null,null,[]\n",
      ",[8]\n",
      ",null,[59,63,60,67,61,66,65]\n",
      ",[\"Google Maps\",\"Find local businesses, view maps and get driving directions in Google Maps.\",\"https://maps.google.com/maps/api/staticmap?center\\u003d22.4168315%2C71.31966105\\u0026zoom\\u003d7\\u0026size\\u003d256x256\\u0026language\\u003den\\u0026sensor\\u003dfalse\\u0026client\\u003dgoogle-maps-frontend\\u0026signature\\u003d-2gKQKfnEs5f6Nz2_VweHGp5YxQ\",[256,256]\n",
      "]\n",
      ",null,[\"sc2\",\"per\",\"mo\",\"lp\",\"ti\",\"ds\",\"stx\",\"bom\",\"b\"]\n",
      "]\n",
      ";window.APP_FLAGS=[1,0,0,0.25,0,0,0,0,1,0,0,2,2,1,0,0,1,0,0,0,0,1,0,1,0,1,1,0,0,1,0,0,0,3,0,1,1,3,1,0,1,0,0,0,1,null,1,1,0,0,0,0,1,1,0,1,10,25000,10.0,0,0,0,0,1,0,1,0,1,6,16,0,\"\",0,1,1,0,0,0,0,0,0,0,0,1,0,1,1,0,0,0,1,0,1,2,0,0,1,0,0,0,1,1,0,0,2,0,0,1,1,1,0,null,1,1,1,1,\"\",0,0,null,0,0,1,1,0,1,604800000,0,1.0,1,0,0,20,0,0,30,0,0,0,0,1,1,1,1,0,0,0,0,0,2,0,0,0,1,0,2,1,0,0,1,0,2,1,0,0,0,3,0,0,0,1,0,0,\"https://tpc.googlesyndication.com/simgad/12443843956218829127?w\\u003d40\\u0026h\\u003d40\",0,0,0,1,9,0,0,0,1,\"\",0,1,1,0,0,0,1,1,1,1,1,0,0,1,1,1,0,0,1,null,0,null,1,1,1,0,0,\"support local businesses\",0,1,1,0,0,1,1,0,0,0,1,2000,2,1,null,1,0,2,null,null,0,null,0,0,0,1,0,0,0,1,1,0,0,0,0,0,850,50,40,0,1,0,5]\n",
      ";window.VECTORTOWN_FLAGS=[0,0,0,null,0,null,0,0,0,0,0,0]\n",
      ";window.DEV_MODE=false;window.JS_VERSION='maps.m.en.GXbbNojDaKI.es5.O';window.LOGGING_ENDPOINT='/maps/preview/log204?authuser\\x3d0\\x26hl\\x3den\\x26gl\\x3din';window.PRODUCT_ID=81;window.ES5DGURL='';})();\n",
      "  </script>\n",
      "  <script nonce=\"a4+eYD+ZNrkLaD8Y10OlAg==\">\n",
      "   (function(){\n",
      "'use strict';var b=this||self;var d=function(){this.g=null;this.h=\"\"};d.prototype.start=function(){var a=this.g=document;if(this.h=\"hidden\"in a?\"visibilitychange\":\"mozHidden\"in a?\"mozvisibilitychange\":\"msHidden\"in a?\"msvisibilitychange\":\"webkitHidden\"in a?\"webkitvisibilitychange\":\"\"){a=this.g;var c=e;a.addEventListener&&a.addEventListener(this.h,c,!1)}};d.prototype.stop=function(){if(this.g){var a=this.g,c=e;a.removeEventListener&&a.removeEventListener(this.h,c,!1)}};var e=function(){var a=document,c=!1;\"hidden\"in a?c=a.hidden:\"mozHidden\"in a?c=a.mozHidden:\"msHidden\"in a?c=a.msHidden:\"webkitHidden\"in a&&(c=a.webkitHidden);c?b.tick(\"bg0\"):b.tick(\"bg1\")},f=new d;f.start();var g=function(){f.stop()},h=[\"globals\",\"BackgroundTicks\",\"stop\"],k=b;h[0]in k||\"undefined\"==typeof k.execScript||k.execScript(\"var \"+h[0]);for(var l;h.length&&(l=h.shift());)h.length||void 0===g?k[l]&&k[l]!==Object.prototype[l]?k=k[l]:k=k[l]={}:k[l]=g;}).call(this);\n",
      "  </script>\n",
      "  <style type=\"text/css\">\n",
      "   @import url('//fonts.googleapis.com/css?family=Noto+Sans+Devanagari+UI:300,400,500,700');\n",
      "@import url('//fonts.googleapis.com/css?family=Noto+Sans+Bengali+UI:300,400,500,700');\n",
      "@import url('//fonts.googleapis.com/css?family=Noto+Sans+Telugu+UI:300,400,500,700');\n",
      "@import url('//fonts.googleapis.com/css?family=Noto+Sans+Tamil+UI:300,400,500,700');\n",
      "@import url('//fonts.googleapis.com/css?family=Noto+Sans+Gujarati+UI:300,400,500,700');\n",
      "@import url('//fonts.googleapis.com/css?family=Noto+Sans+Kannada+UI:300,400,500,700');\n",
      "@import url('//fonts.googleapis.com/css?family=Noto+Sans+Malayalam+UI:300,400,500,700');\n",
      "@import url('//fonts.googleapis.com/css?family=Noto+Sans+Gurmukhi+UI:300,400,500,700');\n",
      "@font-face {\n",
      "  font-family: 'Roboto';\n",
      "  font-style: normal;\n",
      "  font-weight: 300;\n",
      "  src: url(//fonts.gstatic.com/s/roboto/v18/KFOlCnqEu92Fr1MmSU5fChc9.ttf) format('truetype');\n",
      "}\n",
      "@font-face {\n",
      "  font-family: 'Roboto';\n",
      "  font-style: normal;\n",
      "  font-weight: 400;\n",
      "  src: url(//fonts.gstatic.com/s/roboto/v18/KFOmCnqEu92Fr1Mu7GxP.ttf) format('truetype');\n",
      "}\n",
      "@font-face {\n",
      "  font-family: 'Roboto';\n",
      "  font-style: normal;\n",
      "  font-weight: 500;\n",
      "  src: url(//fonts.gstatic.com/s/roboto/v18/KFOlCnqEu92Fr1MmEU9fChc9.ttf) format('truetype');\n",
      "}\n",
      "@font-face {\n",
      "  font-family: 'Roboto';\n",
      "  font-style: normal;\n",
      "  font-weight: 700;\n",
      "  src: url(//fonts.gstatic.com/s/roboto/v18/KFOlCnqEu92Fr1MmWUlfChc9.ttf) format('truetype');\n",
      "}\n",
      "@font-face {\n",
      "  font-family: 'Product Sans';\n",
      "  font-style: normal;\n",
      "  font-weight: 400;\n",
      "  src: url(//fonts.gstatic.com/s/productsans/v9/pxiDypQkot1TnFhsFMOfGShVF9eL.ttf) format('truetype');\n",
      "}\n",
      "@font-face {\n",
      "  font-family: 'Google Sans';\n",
      "  font-style: normal;\n",
      "  font-weight: 400;\n",
      "  src: url(//fonts.gstatic.com/s/googlesans/v14/4UaGrENHsxJlGDuGo1OIlL3Owps.ttf) format('truetype');\n",
      "}\n",
      "@font-face {\n",
      "  font-family: 'Google Sans';\n",
      "  font-style: normal;\n",
      "  font-weight: 500;\n",
      "  src: url(//fonts.gstatic.com/s/googlesans/v14/4UabrENHsxJlGDuGo1OIlLU94YtzCwM.ttf) format('truetype');\n",
      "}\n",
      "@font-face {\n",
      "  font-family: 'Google Sans Display';\n",
      "  font-style: normal;\n",
      "  font-weight: 400;\n",
      "  src: url(//fonts.gstatic.com/s/googlesansdisplay/v13/ea8FacM9Wef3EJPWRrHjgE4B6CnlZxHVDv79pA.ttf) format('truetype');\n",
      "}\n",
      "#gbar,#guser{font-size:13px;padding-top:1px !important;}#gbar{height:22px}#guser{padding-bottom:7px !important;text-align:right}.gbh,.gbd{border-top:1px solid #c9d7f1;font-size:1px}.gbh{height:0;position:absolute;top:24px;width:100%}@media all{.gb1{height:22px;margin-right:.5em;vertical-align:top}#gbar{float:left}}a.gb1,a.gb4{text-decoration:underline !important}a.gb1,a.gb4{color:#00c !important}.gbi .gb4{color:#dd8e27 !important}.gbf .gb4{color:#900 !important}\n",
      "html, body { font-family: Roboto, 'Noto Sans Devanagari UI', 'Noto Sans Bengali UI', 'Noto Sans Telugu UI', 'Noto Sans Tamil UI', 'Noto Sans Gujarati UI', 'Noto Sans Kannada UI', 'Noto Sans Malayalam UI', 'Noto Sans Gurmukhi UI', Arial, sans-serif; }\n",
      "  </style>\n",
      "  <style>\n",
      "   html,body{margin:0;padding:0}body{-ms-touch-action:none;touch-action:none;overflow:hidden}a,button,h1,h2,h3,h4,h5,h6,input,ol,p,textarea,th,ul{background:transparent;border:0;border-radius:0;font:inherit;list-style:none;margin:0;outline:0;overflow:visible;padding:0;vertical-align:baseline}textarea{overflow:auto}table{border-collapse:collapse;border-spacing:0}button::-moz-focus-inner,input::-moz-focus-inner,textarea::-moz-focus-inner{margin:0;padding:0;border:0}button,input,textarea{color:inherit}input::-ms-clear{display:none}a{cursor:pointer;text-decoration:none;outline:none}a:hover{text-decoration:underline}:focus{outline:none}#no-script{position:absolute;left:0;right:0;top:0;bottom:0;background:#f8f9fa}.no-script-message{position:absolute;left:50%;top:50%;width:575px;transform:translateX(-50%) translateY(-50%);transform:translateX(-50%) translateY(-50%);background:url('//maps.gstatic.com/tactile/basepage/pegman_sherlock.png') no-repeat;background-size:160px 193px;height:143px;padding-top:50px;padding-left:200px;font-size:30px;font-weight:300}.no-script-help-link{color:#4285f4;font-size:14px;font-weight:normal}\n",
      "  </style>\n",
      "  <link crossorigin=\"use-credentials\" href=\"/maps/preview/pwa/manifest?source=ttpwa&amp;hl=en\" rel=\"manifest\"/>\n",
      "  <script nonce=\"a4+eYD+ZNrkLaD8Y10OlAg==\">\n",
      "   tick('s');\n",
      "  </script>\n",
      "  <link href=\"/maps/_/ss/k=maps.m.cFbjuE_8VuA.L.X.O/m=sc2,per,mo,lp,ti,ds,stx,bom,b/am=NwI/ct=zgms/d=1/rs=ACT90oG-YgEAf7e96-gp6KblyMT-zMOxQg\" nonce=\"a4+eYD+ZNrkLaD8Y10OlAg==\" rel=\"stylesheet\"/>\n",
      " </head>\n",
      " <body class=\"keynav-mode-off\" jstrack=\"1\" tabindex=\"-1\">\n",
      "  <script nonce=\"a4+eYD+ZNrkLaD8Y10OlAg==\">\n",
      "   tick('b0');\n",
      "  </script>\n",
      "  <script nonce=\"a4+eYD+ZNrkLaD8Y10OlAg==\">\n",
      "   if (window.devicePixelRatio > 1){document.body.className += ' highres';}\n",
      "  </script>\n",
      "  <script nonce=\"a4+eYD+ZNrkLaD8Y10OlAg==\">\n",
      "   (function(){if(window.tactilecsi){window.tactilecsi.g={};window.tactilecsi.h=1;window.tactilecsi.setTimerName=function(d,a){d.name=a};var n=function(d,a,g){var b=\"\";window.tactilecsi.srt&&(b+=\"&srt=\"+window.tactilecsi.srt,delete window.tactilecsi.srt);window.tactilecsi.pt&&(b+=\"&tbsrt=\"+window.tactilecsi.pt,delete window.tactilecsi.pt);try{window.external&&window.external.tran?b+=\"&tran=\"+window.external.tran:window.gtbExternal&&window.gtbExternal.tran?b+=\"&tran=\"+window.gtbExternal.tran():window.chrome&&window.chrome.csi&&\n",
      "(b+=\"&tran=\"+window.chrome.csi().tran)}catch(q){}var c=window.chrome;if(c&&(c=c.loadTimes)){c().wasFetchedViaSpdy&&(b+=\"&p=s\");if(c().wasNpnNegotiated){b+=\"&npn=1\";var e=c().npnNegotiatedProtocol;e&&(b+=\"&npnv=\"+(encodeURIComponent||escape)(e))}c().wasAlternateProtocolAvailable&&(b+=\"&apa=1\")}if(\"undefined\"!=typeof navigator&&navigator&&navigator.connection){c=navigator.connection;e=c.type;for(var f in c)if(\"type\"!=f&&c[f]==e){b+=\"&conn=\"+f;break}}c=d.t;e=c.start;f=[];for(var h in c)if(\"start\"!=h&&\n",
      "e){var k=d.t[h];var l=d.t.start;k&&l?(k-=l,k=Math.round(k)):k=void 0;f.push(h+\".\"+k)}delete c.start;if(a)for(var m in a)b+=\"&\"+m+\"=\"+a[m];(a=g)||(a=\"https:\"==document.location.protocol?\"https://csi.gstatic.com/csi\":\"http://csi.gstatic.com/csi\");return d=[a,\"?v=3\",\"&s=\"+(window.tactilecsi.sn||\"tactile\")+\"&action=\",d.name,\"\",b,\"&rt=\",f.join(\",\")].join(\"\")};window.tactilecsi.getReportUri=n;var p=function(d,a,g){d=n(d,a,g);if(!d)return\"\";a=new Image;var b=window.tactilecsi.h++;window.tactilecsi.g[b]=\n",
      "a;a.onload=a.onerror=function(){window.tactilecsi&&delete window.tactilecsi.g[b]};a.src=d;a=null;return d};window.tactilecsi.report=function(d,a,g){var b=document.visibilityState,c=\"visibilitychange\";b||(b=document.webkitVisibilityState,c=\"webkitvisibilitychange\");if(\"prerender\"==b){var e=!1,f=function(){if(!e){a?a.prerender=\"1\":a={prerender:\"1\"};if(\"prerender\"==(document.visibilityState||document.webkitVisibilityState))var h=!1;else p(d,a,g),h=!0;h&&(e=!0,document.removeEventListener(c,f,!1))}};document.addEventListener(c,f,!1);return\"\"}return p(d,a,g)}};}).call(this);\n",
      "  </script>\n",
      "  <script nonce=\"a4+eYD+ZNrkLaD8Y10OlAg==\">\n",
      "   tick('ms0');\n",
      "  </script>\n",
      "  <script nonce=\"a4+eYD+ZNrkLaD8Y10OlAg==\" src=\"/maps/_/js/k=maps.m.en.GXbbNojDaKI.es5.O/m=sc2,per,mo,lp,ti,ds,stx,bom,b/am=NwI/rt=j/d=1/rs=ACT90oEXcvbbwbP96AiqupMb6LcZISpjdg\">\n",
      "  </script>\n",
      "  <script nonce=\"a4+eYD+ZNrkLaD8Y10OlAg==\">\n",
      "   tick('ms1');\n",
      "  </script>\n",
      "  <script nonce=\"a4+eYD+ZNrkLaD8Y10OlAg==\">\n",
      "   tick('b1');\n",
      "  </script>\n",
      "  <script nonce=\"a4+eYD+ZNrkLaD8Y10OlAg==\">\n",
      "   tick('p1');\n",
      "  </script>\n",
      "  <noscript>\n",
      "   <div id=\"no-script\">\n",
      "    <div class=\"no-script-message\">\n",
      "     <div>\n",
      "      When you have eliminated the\n",
      "      <strong>\n",
      "       JavaScript\n",
      "      </strong>\n",
      "      , whatever remains must be an empty page.\n",
      "     </div>\n",
      "     <a class=\"no-script-help-link\" href=\"https://support.google.com/maps/?hl=en&amp;authuser=0&amp;p=no_javascript\" target=\"_blank\">\n",
      "      Enable JavaScript to see Google Maps.\n",
      "     </a>\n",
      "    </div>\n",
      "   </div>\n",
      "  </noscript>\n",
      " </body>\n",
      "</html>\n"
     ]
    }
   ],
   "source": [
    "print(soup.prettify())"
   ]
  },
  {
   "cell_type": "code",
   "execution_count": 318,
   "metadata": {},
   "outputs": [
    {
     "name": "stdout",
     "output_type": "stream",
     "text": [
      "<meta content=\"https://maps.google.com/maps/api/staticmap?center=22.4168315%2C71.31966105&amp;zoom=7&amp;size=256x256&amp;language=en&amp;sensor=false&amp;client=google-maps-frontend&amp;signature=-2gKQKfnEs5f6Nz2_VweHGp5YxQ\" itemprop=\"image\"/>\n"
     ]
    }
   ],
   "source": [
    "print(soup.find_all([\"meta\"])[7])"
   ]
  },
  {
   "cell_type": "raw",
   "metadata": {},
   "source": []
  },
  {
   "cell_type": "code",
   "execution_count": 222,
   "metadata": {},
   "outputs": [],
   "source": [
    "from tqdm.notebook import tqdm as tqdmn"
   ]
  },
  {
   "cell_type": "code",
   "execution_count": 225,
   "metadata": {},
   "outputs": [],
   "source": [
    "Town_City='Ahmedabad'"
   ]
  },
  {
   "cell_type": "code",
   "execution_count": 226,
   "metadata": {},
   "outputs": [],
   "source": [
    "State='Gujarat'"
   ]
  },
  {
   "cell_type": "code",
   "execution_count": 326,
   "metadata": {},
   "outputs": [
    {
     "ename": "TypeError",
     "evalue": "'builtin_function_or_method' object is not iterable",
     "output_type": "error",
     "traceback": [
      "\u001b[1;31m---------------------------------------------------------------------------\u001b[0m",
      "\u001b[1;31mTypeError\u001b[0m                                 Traceback (most recent call last)",
      "\u001b[1;32m<ipython-input-326-24ef8f7fa523>\u001b[0m in \u001b[0;36m<module>\u001b[1;34m\u001b[0m\n\u001b[0;32m      9\u001b[0m \u001b[0mdriver\u001b[0m \u001b[1;33m=\u001b[0m \u001b[0mwebdriver\u001b[0m\u001b[1;33m.\u001b[0m\u001b[0mChrome\u001b[0m\u001b[1;33m(\u001b[0m\u001b[1;34m\"C:/Users/key/AppData/Roaming/Microsoft/Windows/Start Menu/Programs/chromedriver_win32/chromedriver.exe\"\u001b[0m\u001b[1;33m,\u001b[0m \u001b[0moptions\u001b[0m\u001b[1;33m=\u001b[0m\u001b[0moption\u001b[0m\u001b[1;33m)\u001b[0m\u001b[1;33m\u001b[0m\u001b[1;33m\u001b[0m\u001b[0m\n\u001b[0;32m     10\u001b[0m \u001b[1;33m\u001b[0m\u001b[0m\n\u001b[1;32m---> 11\u001b[1;33m \u001b[1;32mfor\u001b[0m \u001b[0mvalues\u001b[0m \u001b[1;32min\u001b[0m \u001b[1;33m(\u001b[0m\u001b[0mmy_address\u001b[0m\u001b[1;33m.\u001b[0m\u001b[0mvalues\u001b[0m\u001b[1;33m)\u001b[0m\u001b[1;33m:\u001b[0m\u001b[1;33m\u001b[0m\u001b[1;33m\u001b[0m\u001b[0m\n\u001b[0m\u001b[0;32m     12\u001b[0m     \u001b[0mdriver\u001b[0m\u001b[1;33m.\u001b[0m\u001b[0mget\u001b[0m\u001b[1;33m(\u001b[0m\u001b[0mvalues\u001b[0m\u001b[1;33m)\u001b[0m\u001b[1;33m\u001b[0m\u001b[1;33m\u001b[0m\u001b[0m\n\u001b[0;32m     13\u001b[0m     \u001b[0mUrl_With_Coordinates\u001b[0m\u001b[1;33m.\u001b[0m\u001b[0mappend\u001b[0m\u001b[1;33m(\u001b[0m\u001b[0mdriver\u001b[0m\u001b[1;33m.\u001b[0m\u001b[0mfind_element_by_css_selector\u001b[0m\u001b[1;33m(\u001b[0m\u001b[1;34m'meta[itemprop=image]'\u001b[0m\u001b[1;33m)\u001b[0m\u001b[1;33m.\u001b[0m\u001b[0mget_attribute\u001b[0m\u001b[1;33m(\u001b[0m\u001b[1;34m'content'\u001b[0m\u001b[1;33m)\u001b[0m\u001b[1;33m)\u001b[0m\u001b[1;33m\u001b[0m\u001b[1;33m\u001b[0m\u001b[0m\n",
      "\u001b[1;31mTypeError\u001b[0m: 'builtin_function_or_method' object is not iterable"
     ]
    }
   ],
   "source": [
    "Url_With_Coordinates = []\n",
    "\n",
    "option = webdriver.ChromeOptions()\n",
    "prefs = {'profile.default_content_setting_values': {'images':2, 'javascript':2}}\n",
    "option.add_experimental_option('prefs', prefs)\n",
    "my_address = {'Town_City': 'https://www.google.com/maps/place/Ahmedabad', \n",
    "             'State': 'https://www.google.com/maps/place,+ Gujarat'}\n",
    "my_address['values'] = ['https://www.google.com/maps/place' + i for i in my_address]\n",
    "driver = webdriver.Chrome(\"C:/Users/key/AppData/Roaming/Microsoft/Windows/Start Menu/Programs/chromedriver_win32/chromedriver.exe\", options=option)\n",
    "\n",
    "for values in (my_address.values):\n",
    "    driver.get(values)\n",
    "    Url_With_Coordinates.append(driver.find_element_by_css_selector('meta[itemprop=image]').get_attribute('content'))\n",
    "    \n",
    "driver.close()"
   ]
  },
  {
   "cell_type": "code",
   "execution_count": 206,
   "metadata": {},
   "outputs": [],
   "source": [
    "#let's connect to the webdriver\n",
    "driver = webdriver.Chrome(\"C:/Users/key/AppData/Roaming/Microsoft/Windows/Start Menu/Programs/chromedriver_win32/chromedriver.exe\")"
   ]
  },
  {
   "cell_type": "code",
   "execution_count": 207,
   "metadata": {},
   "outputs": [],
   "source": [
    "driver.get(\"https://www.google.com/maps/place\")"
   ]
  },
  {
   "cell_type": "code",
   "execution_count": 208,
   "metadata": {},
   "outputs": [],
   "source": [
    "#locating the search bar\n",
    "search_bar=driver.find_element_by_xpath(\"//input[@id='searchboxinput']\")\n",
    "search_bar.send_keys('Ahmedabad Gujarat')"
   ]
  },
  {
   "cell_type": "code",
   "execution_count": 209,
   "metadata": {},
   "outputs": [],
   "source": [
    "# clicking the search button\n",
    "search_button=driver.find_element_by_xpath(\"//button[@aria-label='Search']\")\n",
    "search_button.click()"
   ]
  },
  {
   "cell_type": "code",
   "execution_count": 213,
   "metadata": {},
   "outputs": [],
   "source": [
    "# clicking the my location button\n",
    "mylocation_button=driver.find_element_by_xpath(\"//div[@class='widget-mylocation-button-icon widget-mylocation-button-normal']\")\n",
    "mylocation_button.click()"
   ]
  },
  {
   "cell_type": "code",
   "execution_count": 214,
   "metadata": {},
   "outputs": [],
   "source": [
    "# clicking the zoom button\n",
    "zoom_button=driver.find_element_by_xpath(\"//div[@class='widget-zoom-icon']\")\n",
    "zoom_button.click()"
   ]
  },
  {
   "cell_type": "code",
   "execution_count": 215,
   "metadata": {},
   "outputs": [],
   "source": [
    "# clicking the zoom button\n",
    "zoom_button=driver.find_element_by_xpath(\"//div[@class='widget-zoom-icon']\")\n",
    "zoom_button.click()"
   ]
  },
  {
   "cell_type": "code",
   "execution_count": 216,
   "metadata": {},
   "outputs": [],
   "source": [
    "#scraping geospatial coordinates\n",
    "coordinates=driver.find_elements_by_xpath(\"//button[@class='link-like widget-reveal-card-lat-lng']\")"
   ]
  },
  {
   "cell_type": "code",
   "execution_count": 217,
   "metadata": {},
   "outputs": [
    {
     "data": {
      "text/plain": [
       "[<selenium.webdriver.remote.webelement.WebElement (session=\"f1f6deba109666e9d79c6d3b72654446\", element=\"42e03f6b-c273-4333-be5e-96c5f20d1308\")>]"
      ]
     },
     "execution_count": 217,
     "metadata": {},
     "output_type": "execute_result"
    }
   ],
   "source": [
    "coordinates"
   ]
  },
  {
   "cell_type": "code",
   "execution_count": 218,
   "metadata": {},
   "outputs": [],
   "source": [
    "for i in coordinates:\n",
    "    coordinates_ahm=i.text"
   ]
  },
  {
   "cell_type": "code",
   "execution_count": 219,
   "metadata": {},
   "outputs": [
    {
     "data": {
      "text/plain": [
       "'23.006491, 72.598630'"
      ]
     },
     "execution_count": 219,
     "metadata": {},
     "output_type": "execute_result"
    }
   ],
   "source": [
    "coordinates_ahm"
   ]
  },
  {
   "cell_type": "code",
   "execution_count": 220,
   "metadata": {},
   "outputs": [],
   "source": [
    "driver.close()"
   ]
  },
  {
   "cell_type": "raw",
   "metadata": {},
   "source": [
    "******************************************************************************************************************************"
   ]
  },
  {
   "cell_type": "raw",
   "metadata": {},
   "source": [
    "Q6.Write a program to scrap details of all the funding deals for second quarter (i.e. July 20 –\n",
    "September 20) from trak.in."
   ]
  },
  {
   "cell_type": "raw",
   "metadata": {},
   "source": [
    "******************************************************************************************************************************"
   ]
  },
  {
   "cell_type": "code",
   "execution_count": 1039,
   "metadata": {},
   "outputs": [],
   "source": [
    "#let's connect to the webdriver\n",
    "driver = webdriver.Chrome(\"C:/Users/key/AppData/Roaming/Microsoft/Windows/Start Menu/Programs/chromedriver_win32/chromedriver.exe\")"
   ]
  },
  {
   "cell_type": "code",
   "execution_count": 1040,
   "metadata": {},
   "outputs": [],
   "source": [
    "driver.get(\"https://trak.in/\")"
   ]
  },
  {
   "cell_type": "code",
   "execution_count": 1041,
   "metadata": {},
   "outputs": [],
   "source": [
    "# clicking the funding deals button\n",
    "funding_deals=driver.find_element_by_xpath(\"//a[@title='https://trak.in/india-startup-funding-investment-2015/']\").get_attribute('href')\n",
    "driver.get(funding_deals)"
   ]
  },
  {
   "cell_type": "code",
   "execution_count": 1067,
   "metadata": {},
   "outputs": [],
   "source": [
    "#scraping july month details of Q2, 2020\n",
    "july=driver.find_elements_by_xpath(\"//table[@id='tablepress-48']/tbody[1]/tr\")"
   ]
  },
  {
   "cell_type": "code",
   "execution_count": 1072,
   "metadata": {},
   "outputs": [
    {
     "data": {
      "text/plain": [
       "['1 15/07/2020 Flipkart E-commerce E-commerce Bangalore Walmart Inc\\nM&A 1,200,000,000',\n",
       " '2 16/07/2020 Vedantu EduTech Online Tutoring Bangalore Coatue Management Series D 100,000,000',\n",
       " '3 16/07/2020 Crio EduTech Learning Platform for Developers Bangalore 021 Capital pre-Series A 934,160',\n",
       " '4 14/07/2020 goDutch FinTech Group Payments Mumbai Matrix India,Y Combinator, Global Founders Capital, Soma Capital, and VentureSouq. Seed 1,700,000',\n",
       " '5 13/07/2020 Mystifly\\nAirfare Marketplace Ticketing, Airline Retailing, and Post-Ticketing Services Singapore and Bangalore Recruit Co. Ltd.\\n\\npre-Series B 3,300,000',\n",
       " '6 09/07/2020 JetSynthesys Gaming and Entertainment Gaming and Entertainment\\n\\nPune Adar Poonawalla and Kris Gopalakrishnan.\\nVenture-Series Unknown 400,000',\n",
       " '7 10/07/2020 gigIndia\\nMarketplace Crowd Sourcing, Freelance Pune Incubate Fund India and Beyond Next Ventures pre-Series A 974,200',\n",
       " '8 15/07/2020 PumPumPum Automotive Rental Used Car-leasing platform Gurgaon Early Adapters Syndicate Seed 292,800',\n",
       " '9 14/07/2020 FLYX OTT Player Streaming Social Network New York and Delhi Raj Mishra, founder of AIT Global Inc pre-Seed 200,000',\n",
       " '10 13/07/2020 Open Appliances Pvt. Ltd. Information Technology Internet-of-Things Security Solutions Bangalore Unicorn India Ventures Venture-Series Unknown 500,000']"
      ]
     },
     "execution_count": 1072,
     "metadata": {},
     "output_type": "execute_result"
    }
   ],
   "source": [
    "funding_deals_july=[]\n",
    "for i in july:\n",
    "    july_deal=i.text\n",
    "    funding_deals_july.append(july_deal)\n",
    "funding_deals_july[0:10]"
   ]
  },
  {
   "cell_type": "code",
   "execution_count": 1142,
   "metadata": {},
   "outputs": [],
   "source": [
    "# Now scraping all columns details separately from july month details of Q2, 2020\n",
    "column1_july=driver.find_elements_by_xpath(\"//table[@id='tablepress-48']/tbody[1]/tr/td[1]\")"
   ]
  },
  {
   "cell_type": "code",
   "execution_count": 1143,
   "metadata": {},
   "outputs": [],
   "source": [
    "#Serial No\n",
    "serial_no_july=[]\n",
    "for i in column1_july:\n",
    "        if i.text is None :\n",
    "            serial_no_july.append(\"--\")\n",
    "        else:\n",
    "            serial_no_july.append(i.text)"
   ]
  },
  {
   "cell_type": "code",
   "execution_count": 1144,
   "metadata": {},
   "outputs": [],
   "source": [
    "column2_july=driver.find_elements_by_xpath(\"//table[@id='tablepress-48']/tbody[1]/tr/td[2]\")"
   ]
  },
  {
   "cell_type": "code",
   "execution_count": 1145,
   "metadata": {},
   "outputs": [],
   "source": [
    "#Date\n",
    "date_july=[]\n",
    "for i in column2_july:\n",
    "        if i.text is None :\n",
    "            date_july.append(\"--\")\n",
    "        else:\n",
    "            date_july.append(i.text)"
   ]
  },
  {
   "cell_type": "code",
   "execution_count": 1146,
   "metadata": {},
   "outputs": [],
   "source": [
    "column3_july=driver.find_elements_by_xpath(\"//table[@id='tablepress-48']/tbody[1]/tr/td[3]\")"
   ]
  },
  {
   "cell_type": "code",
   "execution_count": 1147,
   "metadata": {},
   "outputs": [],
   "source": [
    "#Startup Name\n",
    "startupname_july=[]\n",
    "for i in column3_july:\n",
    "        if i.text is None :\n",
    "            startupname_july.append(\"--\")\n",
    "        else:\n",
    "            startupname_july.append(i.text)"
   ]
  },
  {
   "cell_type": "code",
   "execution_count": 1148,
   "metadata": {},
   "outputs": [],
   "source": [
    "column4_july=driver.find_elements_by_xpath(\"//table[@id='tablepress-48']/tbody[1]/tr/td[4]\")"
   ]
  },
  {
   "cell_type": "code",
   "execution_count": 1149,
   "metadata": {},
   "outputs": [],
   "source": [
    "#Vertical Name\n",
    "vertical_july=[]\n",
    "for i in column4_july:\n",
    "        if i.text is None :\n",
    "            vertical_july.append(\"--\")\n",
    "        else:\n",
    "            vertical_july.append(i.text)"
   ]
  },
  {
   "cell_type": "code",
   "execution_count": 1150,
   "metadata": {},
   "outputs": [],
   "source": [
    "column5_july=driver.find_elements_by_xpath(\"//table[@id='tablepress-48']/tbody[1]/tr/td[5]\")"
   ]
  },
  {
   "cell_type": "code",
   "execution_count": 1151,
   "metadata": {},
   "outputs": [],
   "source": [
    "#Sub Vertical\n",
    "sub_vert_july=[]\n",
    "for i in column5_july:\n",
    "        if i.text is None :\n",
    "            sub_vert_july.append(\"--\")\n",
    "        else:\n",
    "            sub_vert_july.append(i.text)"
   ]
  },
  {
   "cell_type": "code",
   "execution_count": 1152,
   "metadata": {},
   "outputs": [],
   "source": [
    "column6_july=driver.find_elements_by_xpath(\"//table[@id='tablepress-48']/tbody[1]/tr/td[6]\")"
   ]
  },
  {
   "cell_type": "code",
   "execution_count": 1153,
   "metadata": {},
   "outputs": [],
   "source": [
    "#City\n",
    "city_july=[]\n",
    "for i in column6_july:\n",
    "        if i.text is None :\n",
    "            city_july.append(\"--\")\n",
    "        else:\n",
    "            city_july.append(i.text)"
   ]
  },
  {
   "cell_type": "code",
   "execution_count": 1154,
   "metadata": {},
   "outputs": [],
   "source": [
    "column7_july=driver.find_elements_by_xpath(\"//table[@id='tablepress-48']/tbody[1]/tr/td[7]\")"
   ]
  },
  {
   "cell_type": "code",
   "execution_count": 1155,
   "metadata": {},
   "outputs": [],
   "source": [
    "#Investor Name\n",
    "invname_july=[]\n",
    "for i in column7_july:\n",
    "        if i.text is None :\n",
    "            invname_july.append(\"--\")\n",
    "        else:\n",
    "            invname_july.append(i.text)"
   ]
  },
  {
   "cell_type": "code",
   "execution_count": 1156,
   "metadata": {},
   "outputs": [],
   "source": [
    "column8_july=driver.find_elements_by_xpath(\"//table[@id='tablepress-48']/tbody[1]/tr/td[8]\")"
   ]
  },
  {
   "cell_type": "code",
   "execution_count": 1157,
   "metadata": {},
   "outputs": [],
   "source": [
    "#Invesment Type\n",
    "invtype_july=[]\n",
    "for i in column8_july:\n",
    "        if i.text is None :\n",
    "            invtype_july.append(\"--\")\n",
    "        else:\n",
    "            invtype_july.append(i.text)"
   ]
  },
  {
   "cell_type": "code",
   "execution_count": 1158,
   "metadata": {},
   "outputs": [],
   "source": [
    "column9_july=driver.find_elements_by_xpath(\"//table[@id='tablepress-48']/tbody[1]/tr/td[9]\")"
   ]
  },
  {
   "cell_type": "code",
   "execution_count": 1159,
   "metadata": {},
   "outputs": [],
   "source": [
    "#Amount(USD)\n",
    "amount_us_july=[]\n",
    "for i in column9_july:\n",
    "        if i.text is None :\n",
    "            amount_us_july.append(\"--\")\n",
    "        else:\n",
    "            amount_us_july.append(i.text)"
   ]
  },
  {
   "cell_type": "code",
   "execution_count": 1161,
   "metadata": {},
   "outputs": [],
   "source": [
    "funding_details_jul=pd.DataFrame({})\n",
    "funding_details_jul['Sr No']=serial_no_july[0:10]\n",
    "funding_details_jul['Date']=date_july[0:10]\n",
    "funding_details_jul['Startup Name']=startupname_july[0:10]\n",
    "funding_details_jul['Vertical']=vertical_july[0:10]\n",
    "funding_details_jul['Sub Vertical']=sub_vert_july[0:10]\n",
    "funding_details_jul['City']=city_july[0:10]\n",
    "funding_details_jul['Investor']=invname_july[0:10]\n",
    "funding_details_jul['Investor Type']=invtype_july[0:10]\n",
    "funding_details_jul['Amount(USD)']=amount_us_july[0:10]"
   ]
  },
  {
   "cell_type": "code",
   "execution_count": 1162,
   "metadata": {},
   "outputs": [
    {
     "data": {
      "text/html": [
       "<div>\n",
       "<style scoped>\n",
       "    .dataframe tbody tr th:only-of-type {\n",
       "        vertical-align: middle;\n",
       "    }\n",
       "\n",
       "    .dataframe tbody tr th {\n",
       "        vertical-align: top;\n",
       "    }\n",
       "\n",
       "    .dataframe thead th {\n",
       "        text-align: right;\n",
       "    }\n",
       "</style>\n",
       "<table border=\"1\" class=\"dataframe\">\n",
       "  <thead>\n",
       "    <tr style=\"text-align: right;\">\n",
       "      <th></th>\n",
       "      <th>Sr No</th>\n",
       "      <th>Date</th>\n",
       "      <th>Startup Name</th>\n",
       "      <th>Vertical</th>\n",
       "      <th>Sub Vertical</th>\n",
       "      <th>City</th>\n",
       "      <th>Investor</th>\n",
       "      <th>Investor Type</th>\n",
       "      <th>Amount(USD)</th>\n",
       "    </tr>\n",
       "  </thead>\n",
       "  <tbody>\n",
       "    <tr>\n",
       "      <th>0</th>\n",
       "      <td>1</td>\n",
       "      <td>15/07/2020</td>\n",
       "      <td>Flipkart</td>\n",
       "      <td>E-commerce</td>\n",
       "      <td>E-commerce</td>\n",
       "      <td>Bangalore</td>\n",
       "      <td>Walmart Inc</td>\n",
       "      <td>M&amp;A</td>\n",
       "      <td>1,200,000,000</td>\n",
       "    </tr>\n",
       "    <tr>\n",
       "      <th>1</th>\n",
       "      <td>2</td>\n",
       "      <td>16/07/2020</td>\n",
       "      <td>Vedantu</td>\n",
       "      <td>EduTech</td>\n",
       "      <td>Online Tutoring</td>\n",
       "      <td>Bangalore</td>\n",
       "      <td>Coatue Management</td>\n",
       "      <td>Series D</td>\n",
       "      <td>100,000,000</td>\n",
       "    </tr>\n",
       "    <tr>\n",
       "      <th>2</th>\n",
       "      <td>3</td>\n",
       "      <td>16/07/2020</td>\n",
       "      <td>Crio</td>\n",
       "      <td>EduTech</td>\n",
       "      <td>Learning Platform for Developers</td>\n",
       "      <td>Bangalore</td>\n",
       "      <td>021 Capital</td>\n",
       "      <td>pre-Series A</td>\n",
       "      <td>934,160</td>\n",
       "    </tr>\n",
       "    <tr>\n",
       "      <th>3</th>\n",
       "      <td>4</td>\n",
       "      <td>14/07/2020</td>\n",
       "      <td>goDutch</td>\n",
       "      <td>FinTech</td>\n",
       "      <td>Group Payments</td>\n",
       "      <td>Mumbai</td>\n",
       "      <td>Matrix India,Y Combinator, Global Founders Cap...</td>\n",
       "      <td>Seed</td>\n",
       "      <td>1,700,000</td>\n",
       "    </tr>\n",
       "    <tr>\n",
       "      <th>4</th>\n",
       "      <td>5</td>\n",
       "      <td>13/07/2020</td>\n",
       "      <td>Mystifly</td>\n",
       "      <td>Airfare Marketplace</td>\n",
       "      <td>Ticketing, Airline Retailing, and Post-Ticketi...</td>\n",
       "      <td>Singapore and Bangalore</td>\n",
       "      <td>Recruit Co. Ltd.</td>\n",
       "      <td>pre-Series B</td>\n",
       "      <td>3,300,000</td>\n",
       "    </tr>\n",
       "    <tr>\n",
       "      <th>5</th>\n",
       "      <td>6</td>\n",
       "      <td>09/07/2020</td>\n",
       "      <td>JetSynthesys</td>\n",
       "      <td>Gaming and Entertainment</td>\n",
       "      <td>Gaming and Entertainment</td>\n",
       "      <td>Pune</td>\n",
       "      <td>Adar Poonawalla and Kris Gopalakrishnan.</td>\n",
       "      <td>Venture-Series Unknown</td>\n",
       "      <td>400,000</td>\n",
       "    </tr>\n",
       "    <tr>\n",
       "      <th>6</th>\n",
       "      <td>7</td>\n",
       "      <td>10/07/2020</td>\n",
       "      <td>gigIndia</td>\n",
       "      <td>Marketplace</td>\n",
       "      <td>Crowd Sourcing, Freelance</td>\n",
       "      <td>Pune</td>\n",
       "      <td>Incubate Fund India and Beyond Next Ventures</td>\n",
       "      <td>pre-Series A</td>\n",
       "      <td>974,200</td>\n",
       "    </tr>\n",
       "    <tr>\n",
       "      <th>7</th>\n",
       "      <td>8</td>\n",
       "      <td>15/07/2020</td>\n",
       "      <td>PumPumPum</td>\n",
       "      <td>Automotive Rental</td>\n",
       "      <td>Used Car-leasing platform</td>\n",
       "      <td>Gurgaon</td>\n",
       "      <td>Early Adapters Syndicate</td>\n",
       "      <td>Seed</td>\n",
       "      <td>292,800</td>\n",
       "    </tr>\n",
       "    <tr>\n",
       "      <th>8</th>\n",
       "      <td>9</td>\n",
       "      <td>14/07/2020</td>\n",
       "      <td>FLYX</td>\n",
       "      <td>OTT Player</td>\n",
       "      <td>Streaming Social Network</td>\n",
       "      <td>New York and Delhi</td>\n",
       "      <td>Raj Mishra, founder of AIT Global Inc</td>\n",
       "      <td>pre-Seed</td>\n",
       "      <td>200,000</td>\n",
       "    </tr>\n",
       "    <tr>\n",
       "      <th>9</th>\n",
       "      <td>10</td>\n",
       "      <td>13/07/2020</td>\n",
       "      <td>Open Appliances Pvt. Ltd.</td>\n",
       "      <td>Information Technology</td>\n",
       "      <td>Internet-of-Things Security Solutions</td>\n",
       "      <td>Bangalore</td>\n",
       "      <td>Unicorn India Ventures</td>\n",
       "      <td>Venture-Series Unknown</td>\n",
       "      <td>500,000</td>\n",
       "    </tr>\n",
       "  </tbody>\n",
       "</table>\n",
       "</div>"
      ],
      "text/plain": [
       "  Sr No        Date               Startup Name                  Vertical  \\\n",
       "0     1  15/07/2020                   Flipkart                E-commerce   \n",
       "1     2  16/07/2020                    Vedantu                   EduTech   \n",
       "2     3  16/07/2020                       Crio                   EduTech   \n",
       "3     4  14/07/2020                    goDutch                   FinTech   \n",
       "4     5  13/07/2020                   Mystifly       Airfare Marketplace   \n",
       "5     6  09/07/2020               JetSynthesys  Gaming and Entertainment   \n",
       "6     7  10/07/2020                   gigIndia               Marketplace   \n",
       "7     8  15/07/2020                  PumPumPum         Automotive Rental   \n",
       "8     9  14/07/2020                       FLYX                OTT Player   \n",
       "9    10  13/07/2020  Open Appliances Pvt. Ltd.    Information Technology   \n",
       "\n",
       "                                        Sub Vertical                     City  \\\n",
       "0                                         E-commerce                Bangalore   \n",
       "1                                    Online Tutoring                Bangalore   \n",
       "2                   Learning Platform for Developers                Bangalore   \n",
       "3                                     Group Payments                   Mumbai   \n",
       "4  Ticketing, Airline Retailing, and Post-Ticketi...  Singapore and Bangalore   \n",
       "5                           Gaming and Entertainment                     Pune   \n",
       "6                          Crowd Sourcing, Freelance                     Pune   \n",
       "7                          Used Car-leasing platform                  Gurgaon   \n",
       "8                           Streaming Social Network       New York and Delhi   \n",
       "9              Internet-of-Things Security Solutions                Bangalore   \n",
       "\n",
       "                                            Investor           Investor Type  \\\n",
       "0                                        Walmart Inc                     M&A   \n",
       "1                                  Coatue Management                Series D   \n",
       "2                                        021 Capital            pre-Series A   \n",
       "3  Matrix India,Y Combinator, Global Founders Cap...                    Seed   \n",
       "4                                   Recruit Co. Ltd.            pre-Series B   \n",
       "5           Adar Poonawalla and Kris Gopalakrishnan.  Venture-Series Unknown   \n",
       "6       Incubate Fund India and Beyond Next Ventures            pre-Series A   \n",
       "7                           Early Adapters Syndicate                    Seed   \n",
       "8              Raj Mishra, founder of AIT Global Inc                pre-Seed   \n",
       "9                             Unicorn India Ventures  Venture-Series Unknown   \n",
       "\n",
       "     Amount(USD)  \n",
       "0  1,200,000,000  \n",
       "1    100,000,000  \n",
       "2        934,160  \n",
       "3      1,700,000  \n",
       "4      3,300,000  \n",
       "5        400,000  \n",
       "6        974,200  \n",
       "7        292,800  \n",
       "8        200,000  \n",
       "9        500,000  "
      ]
     },
     "execution_count": 1162,
     "metadata": {},
     "output_type": "execute_result"
    }
   ],
   "source": [
    "funding_details_jul"
   ]
  },
  {
   "cell_type": "code",
   "execution_count": 1078,
   "metadata": {},
   "outputs": [],
   "source": [
    "#scraping august month details of Q2, 2020\n",
    "august=driver.find_elements_by_xpath(\"//table[@id='tablepress-49']/tbody[1]/tr\")"
   ]
  },
  {
   "cell_type": "code",
   "execution_count": 1080,
   "metadata": {},
   "outputs": [
    {
     "data": {
      "text/plain": [
       "['1 15/08/2020 Practo HealthTech Health care and Wellness Bangalore A1A Company\\nSeries F 32,000,000',\n",
       " '2 13/08/2020 Medlife E-commerce Online Pharmacy Bangalore Prasid Uno Family Trust and SC Credit Fund 23,000,000',\n",
       " '3 13/08/2020 HungerBox\\nFoodTech Online Food Delivery Service Bangalore One97, Sabre Partners Trust, Pratithi Investment Trust, and Srihari Kumar Series D1 1,560,000',\n",
       " '4 04/08/2020 Dunzo Hyper-local Logistics Online Delivery Services Bangalore Existing Backers In Progress 30,000,000',\n",
       " '5 11/08/2020 Terra.do EduTech Online Climate School, E-learning Stanford, California, Stanford Angels and Entrepreneurs (India), BEENEXT Emerging Asia, Rainmatter Capital\\n\\nSeed 1,400,000',\n",
       " '6 12/08/2020 Classplus EduTech E-learning, Online Tutoring\\n\\nNoida Falcon Edge In Progress upto 15,000,000',\n",
       " '7 14/08/2020 Niyo FinTech Financial Services Bangalore Niyo Solutions Inc. 6,000,000',\n",
       " '8 10/08/2020 ZestMoney FinTech Financial Services Bangalore Primrose Hills Ventures 10,670,000',\n",
       " '9 07/08/2020 FreshToHome E-commerce Food Delivery Bangalore Ascent Capital Venture 16,200,000',\n",
       " '10 13/08/2020 Eduvanz FinTech Financial Services Mumbai Sequoia India, Unitus Series A 5,000,000']"
      ]
     },
     "execution_count": 1080,
     "metadata": {},
     "output_type": "execute_result"
    }
   ],
   "source": [
    "funding_deals_august=[]\n",
    "for i in august:\n",
    "    august_deal=i.text\n",
    "    funding_deals_august.append(august_deal)\n",
    "funding_deals_august[0:10]"
   ]
  },
  {
   "cell_type": "code",
   "execution_count": 1121,
   "metadata": {},
   "outputs": [],
   "source": [
    "# Now scraping all columns details separately from august month details of Q2, 2020\n",
    "column1_august=driver.find_elements_by_xpath(\"//table[@id='tablepress-49']/tbody[1]/tr/td[1]\")"
   ]
  },
  {
   "cell_type": "code",
   "execution_count": 1122,
   "metadata": {},
   "outputs": [
    {
     "data": {
      "text/plain": [
       "['1', '2', '3', '4', '5', '6', '7', '8', '9', '10']"
      ]
     },
     "execution_count": 1122,
     "metadata": {},
     "output_type": "execute_result"
    }
   ],
   "source": [
    "#Serial No\n",
    "serial_no_august=[]\n",
    "for i in column1_august:\n",
    "        if i.text is None :\n",
    "            serial_no_august.append(\"--\")\n",
    "        else:\n",
    "            serial_no_august.append(i.text)\n",
    "serial_no_august[0:10]"
   ]
  },
  {
   "cell_type": "code",
   "execution_count": 1123,
   "metadata": {},
   "outputs": [],
   "source": [
    "column2_august=driver.find_elements_by_xpath(\"//table[@id='tablepress-49']/tbody[1]/tr/td[2]\")"
   ]
  },
  {
   "cell_type": "code",
   "execution_count": 1124,
   "metadata": {},
   "outputs": [],
   "source": [
    "#Date\n",
    "date_august=[]\n",
    "for i in column2_august:\n",
    "        if i.text is None :\n",
    "            date_august.append(\"--\")\n",
    "        else:\n",
    "            date_august.append(i.text)"
   ]
  },
  {
   "cell_type": "code",
   "execution_count": 1125,
   "metadata": {},
   "outputs": [],
   "source": [
    "column3_august=driver.find_elements_by_xpath(\"//table[@id='tablepress-49']/tbody[1]/tr/td[3]\")"
   ]
  },
  {
   "cell_type": "code",
   "execution_count": 1128,
   "metadata": {},
   "outputs": [],
   "source": [
    "#Startup Name\n",
    "startupname_august=[]\n",
    "for i in column3_august:\n",
    "        if i.text is None :\n",
    "            startupname_august.append(\"--\")\n",
    "        else:\n",
    "            startupname_august.append(i.text)"
   ]
  },
  {
   "cell_type": "code",
   "execution_count": 1127,
   "metadata": {},
   "outputs": [],
   "source": [
    "column4_august=driver.find_elements_by_xpath(\"//table[@id='tablepress-49']/tbody[1]/tr/td[4]\")"
   ]
  },
  {
   "cell_type": "code",
   "execution_count": 1129,
   "metadata": {},
   "outputs": [],
   "source": [
    "#Vertical Name\n",
    "vertical_august=[]\n",
    "for i in column4_august:\n",
    "        if i.text is None :\n",
    "            vertical_august.append(\"--\")\n",
    "        else:\n",
    "            vertical_august.append(i.text)"
   ]
  },
  {
   "cell_type": "code",
   "execution_count": 1130,
   "metadata": {},
   "outputs": [],
   "source": [
    "column5_august=driver.find_elements_by_xpath(\"//table[@id='tablepress-49']/tbody[1]/tr/td[5]\")"
   ]
  },
  {
   "cell_type": "code",
   "execution_count": 1131,
   "metadata": {},
   "outputs": [],
   "source": [
    "#Sub Vertical\n",
    "sub_vert_august=[]\n",
    "for i in column5_august:\n",
    "        if i.text is None :\n",
    "            sub_vert_august.append(\"--\")\n",
    "        else:\n",
    "            sub_vert_august.append(i.text)"
   ]
  },
  {
   "cell_type": "code",
   "execution_count": 1132,
   "metadata": {},
   "outputs": [],
   "source": [
    "column6_august=driver.find_elements_by_xpath(\"//table[@id='tablepress-49']/tbody[1]/tr/td[6]\")"
   ]
  },
  {
   "cell_type": "code",
   "execution_count": 1133,
   "metadata": {},
   "outputs": [],
   "source": [
    "#City\n",
    "city_august=[]\n",
    "for i in column6_august:\n",
    "        if i.text is None :\n",
    "            city_august.append(\"--\")\n",
    "        else:\n",
    "            city_august.append(i.text)"
   ]
  },
  {
   "cell_type": "code",
   "execution_count": 1134,
   "metadata": {},
   "outputs": [],
   "source": [
    "column7_august=driver.find_elements_by_xpath(\"//table[@id='tablepress-49']/tbody[1]/tr/td[7]\")"
   ]
  },
  {
   "cell_type": "code",
   "execution_count": 1135,
   "metadata": {},
   "outputs": [],
   "source": [
    "#Investor Name\n",
    "invname_august=[]\n",
    "for i in column7_august:\n",
    "        if i.text is None :\n",
    "            invname_august.append(\"--\")\n",
    "        else:\n",
    "            invname_august.append(i.text)"
   ]
  },
  {
   "cell_type": "code",
   "execution_count": 1136,
   "metadata": {},
   "outputs": [],
   "source": [
    "column8_august=driver.find_elements_by_xpath(\"//table[@id='tablepress-49']/tbody[1]/tr/td[8]\")"
   ]
  },
  {
   "cell_type": "code",
   "execution_count": 1137,
   "metadata": {},
   "outputs": [],
   "source": [
    "#Invesment Type\n",
    "invtype_august=[]\n",
    "for i in column8_august:\n",
    "        if i.text is None :\n",
    "            invtype_august.append(\"--\")\n",
    "        else:\n",
    "            invtype_august.append(i.text)"
   ]
  },
  {
   "cell_type": "code",
   "execution_count": 1138,
   "metadata": {},
   "outputs": [],
   "source": [
    "column9_august=driver.find_elements_by_xpath(\"//table[@id='tablepress-49']/tbody[1]/tr/td[9]\")"
   ]
  },
  {
   "cell_type": "code",
   "execution_count": 1139,
   "metadata": {},
   "outputs": [],
   "source": [
    "#Amount(USD)\n",
    "amount_us_august=[]\n",
    "for i in column9_august:\n",
    "        if i.text is None :\n",
    "            amount_us_august.append(\"--\")\n",
    "        else:\n",
    "            amount_us_august.append(i.text)"
   ]
  },
  {
   "cell_type": "code",
   "execution_count": 1140,
   "metadata": {},
   "outputs": [],
   "source": [
    "funding_details_aug=pd.DataFrame({})\n",
    "funding_details_aug['Sr No']=serial_no_august[0:10]\n",
    "funding_details_aug['Date']=date_august[0:10]\n",
    "funding_details_aug['Startup Name']=startupname_august[0:10]\n",
    "funding_details_aug['Vertical']=vertical_august[0:10]\n",
    "funding_details_aug['Sub Vertical']=sub_vert_august[0:10]\n",
    "funding_details_aug['City']=city_august[0:10]\n",
    "funding_details_aug['Investor']=invname_august[0:10]\n",
    "funding_details_aug['Investor Type']=invtype_august[0:10]\n",
    "funding_details_aug['Amount(USD)']=amount_us_august[0:10]"
   ]
  },
  {
   "cell_type": "code",
   "execution_count": 1141,
   "metadata": {},
   "outputs": [
    {
     "data": {
      "text/html": [
       "<div>\n",
       "<style scoped>\n",
       "    .dataframe tbody tr th:only-of-type {\n",
       "        vertical-align: middle;\n",
       "    }\n",
       "\n",
       "    .dataframe tbody tr th {\n",
       "        vertical-align: top;\n",
       "    }\n",
       "\n",
       "    .dataframe thead th {\n",
       "        text-align: right;\n",
       "    }\n",
       "</style>\n",
       "<table border=\"1\" class=\"dataframe\">\n",
       "  <thead>\n",
       "    <tr style=\"text-align: right;\">\n",
       "      <th></th>\n",
       "      <th>Sr No</th>\n",
       "      <th>Date</th>\n",
       "      <th>Startup Name</th>\n",
       "      <th>Vertical</th>\n",
       "      <th>Sub Vertical</th>\n",
       "      <th>City</th>\n",
       "      <th>Investor</th>\n",
       "      <th>Investor Type</th>\n",
       "      <th>Amount(USD)</th>\n",
       "    </tr>\n",
       "  </thead>\n",
       "  <tbody>\n",
       "    <tr>\n",
       "      <th>0</th>\n",
       "      <td>1</td>\n",
       "      <td>15/08/2020</td>\n",
       "      <td>Practo</td>\n",
       "      <td>HealthTech</td>\n",
       "      <td>Health care and Wellness</td>\n",
       "      <td>Bangalore</td>\n",
       "      <td>A1A Company</td>\n",
       "      <td>Series F</td>\n",
       "      <td>32,000,000</td>\n",
       "    </tr>\n",
       "    <tr>\n",
       "      <th>1</th>\n",
       "      <td>2</td>\n",
       "      <td>13/08/2020</td>\n",
       "      <td>Medlife</td>\n",
       "      <td>E-commerce</td>\n",
       "      <td>Online Pharmacy</td>\n",
       "      <td>Bangalore</td>\n",
       "      <td>Prasid Uno Family Trust and SC Credit Fund</td>\n",
       "      <td></td>\n",
       "      <td>23,000,000</td>\n",
       "    </tr>\n",
       "    <tr>\n",
       "      <th>2</th>\n",
       "      <td>3</td>\n",
       "      <td>13/08/2020</td>\n",
       "      <td>HungerBox</td>\n",
       "      <td>FoodTech</td>\n",
       "      <td>Online Food Delivery Service</td>\n",
       "      <td>Bangalore</td>\n",
       "      <td>One97, Sabre Partners Trust, Pratithi Investme...</td>\n",
       "      <td>Series D1</td>\n",
       "      <td>1,560,000</td>\n",
       "    </tr>\n",
       "    <tr>\n",
       "      <th>3</th>\n",
       "      <td>4</td>\n",
       "      <td>04/08/2020</td>\n",
       "      <td>Dunzo</td>\n",
       "      <td>Hyper-local Logistics</td>\n",
       "      <td>Online Delivery Services</td>\n",
       "      <td>Bangalore</td>\n",
       "      <td>Existing Backers</td>\n",
       "      <td>In Progress</td>\n",
       "      <td>30,000,000</td>\n",
       "    </tr>\n",
       "    <tr>\n",
       "      <th>4</th>\n",
       "      <td>5</td>\n",
       "      <td>11/08/2020</td>\n",
       "      <td>Terra.do</td>\n",
       "      <td>EduTech</td>\n",
       "      <td>Online Climate School, E-learning</td>\n",
       "      <td>Stanford, California,</td>\n",
       "      <td>Stanford Angels and Entrepreneurs (India), BEE...</td>\n",
       "      <td>Seed</td>\n",
       "      <td>1,400,000</td>\n",
       "    </tr>\n",
       "    <tr>\n",
       "      <th>5</th>\n",
       "      <td>6</td>\n",
       "      <td>12/08/2020</td>\n",
       "      <td>Classplus</td>\n",
       "      <td>EduTech</td>\n",
       "      <td>E-learning, Online Tutoring</td>\n",
       "      <td>Noida</td>\n",
       "      <td>Falcon Edge</td>\n",
       "      <td>In Progress</td>\n",
       "      <td>upto 15,000,000</td>\n",
       "    </tr>\n",
       "    <tr>\n",
       "      <th>6</th>\n",
       "      <td>7</td>\n",
       "      <td>14/08/2020</td>\n",
       "      <td>Niyo</td>\n",
       "      <td>FinTech</td>\n",
       "      <td>Financial Services</td>\n",
       "      <td>Bangalore</td>\n",
       "      <td>Niyo Solutions Inc.</td>\n",
       "      <td></td>\n",
       "      <td>6,000,000</td>\n",
       "    </tr>\n",
       "    <tr>\n",
       "      <th>7</th>\n",
       "      <td>8</td>\n",
       "      <td>10/08/2020</td>\n",
       "      <td>ZestMoney</td>\n",
       "      <td>FinTech</td>\n",
       "      <td>Financial Services</td>\n",
       "      <td>Bangalore</td>\n",
       "      <td>Primrose Hills Ventures</td>\n",
       "      <td></td>\n",
       "      <td>10,670,000</td>\n",
       "    </tr>\n",
       "    <tr>\n",
       "      <th>8</th>\n",
       "      <td>9</td>\n",
       "      <td>07/08/2020</td>\n",
       "      <td>FreshToHome</td>\n",
       "      <td>E-commerce</td>\n",
       "      <td>Food Delivery</td>\n",
       "      <td>Bangalore</td>\n",
       "      <td>Ascent Capital</td>\n",
       "      <td>Venture</td>\n",
       "      <td>16,200,000</td>\n",
       "    </tr>\n",
       "    <tr>\n",
       "      <th>9</th>\n",
       "      <td>10</td>\n",
       "      <td>13/08/2020</td>\n",
       "      <td>Eduvanz</td>\n",
       "      <td>FinTech</td>\n",
       "      <td>Financial Services</td>\n",
       "      <td>Mumbai</td>\n",
       "      <td>Sequoia India, Unitus</td>\n",
       "      <td>Series A</td>\n",
       "      <td>5,000,000</td>\n",
       "    </tr>\n",
       "  </tbody>\n",
       "</table>\n",
       "</div>"
      ],
      "text/plain": [
       "  Sr No        Date Startup Name               Vertical  \\\n",
       "0     1  15/08/2020       Practo             HealthTech   \n",
       "1     2  13/08/2020      Medlife             E-commerce   \n",
       "2     3  13/08/2020    HungerBox               FoodTech   \n",
       "3     4  04/08/2020        Dunzo  Hyper-local Logistics   \n",
       "4     5  11/08/2020     Terra.do                EduTech   \n",
       "5     6  12/08/2020    Classplus                EduTech   \n",
       "6     7  14/08/2020         Niyo                FinTech   \n",
       "7     8  10/08/2020    ZestMoney                FinTech   \n",
       "8     9  07/08/2020  FreshToHome             E-commerce   \n",
       "9    10  13/08/2020      Eduvanz                FinTech   \n",
       "\n",
       "                        Sub Vertical                   City  \\\n",
       "0           Health care and Wellness              Bangalore   \n",
       "1                    Online Pharmacy              Bangalore   \n",
       "2       Online Food Delivery Service              Bangalore   \n",
       "3           Online Delivery Services              Bangalore   \n",
       "4  Online Climate School, E-learning  Stanford, California,   \n",
       "5        E-learning, Online Tutoring                  Noida   \n",
       "6                 Financial Services              Bangalore   \n",
       "7                 Financial Services              Bangalore   \n",
       "8                      Food Delivery              Bangalore   \n",
       "9                 Financial Services                 Mumbai   \n",
       "\n",
       "                                            Investor Investor Type  \\\n",
       "0                                        A1A Company      Series F   \n",
       "1         Prasid Uno Family Trust and SC Credit Fund                 \n",
       "2  One97, Sabre Partners Trust, Pratithi Investme...     Series D1   \n",
       "3                                   Existing Backers   In Progress   \n",
       "4  Stanford Angels and Entrepreneurs (India), BEE...          Seed   \n",
       "5                                        Falcon Edge   In Progress   \n",
       "6                                Niyo Solutions Inc.                 \n",
       "7                            Primrose Hills Ventures                 \n",
       "8                                     Ascent Capital       Venture   \n",
       "9                              Sequoia India, Unitus      Series A   \n",
       "\n",
       "       Amount(USD)  \n",
       "0       32,000,000  \n",
       "1       23,000,000  \n",
       "2        1,560,000  \n",
       "3       30,000,000  \n",
       "4        1,400,000  \n",
       "5  upto 15,000,000  \n",
       "6        6,000,000  \n",
       "7       10,670,000  \n",
       "8       16,200,000  \n",
       "9        5,000,000  "
      ]
     },
     "execution_count": 1141,
     "metadata": {},
     "output_type": "execute_result"
    }
   ],
   "source": [
    "funding_details_aug"
   ]
  },
  {
   "cell_type": "code",
   "execution_count": 1081,
   "metadata": {},
   "outputs": [],
   "source": [
    "#scraping september month details of Q2, 2020\n",
    "september=driver.find_elements_by_xpath(\"//table[@id='tablepress-50']/tbody[1]/tr\")"
   ]
  },
  {
   "cell_type": "code",
   "execution_count": 1083,
   "metadata": {},
   "outputs": [
    {
     "data": {
      "text/plain": [
       "['1 08/09/2020 Byju’s EduTech Online Tutoring Bangalore Silver Lake, Tiger Global, General Atlantic and Owl Ventures\\nPrivate Equity 500,000,000',\n",
       " '2 12/09/2020 mCaffeine Personal Care Skincare & Haircare Mumbai Amicus Capital Private Equity I LLP, Amicus Capital Partners India Fund I and RP-SG Venture Fund 1 Series B 3,000,000',\n",
       " '3 09/09/2020 Qshala EduTech Online Curiosity Platform for Kids Bangalore Rainmatter Capital Angel 370,000',\n",
       " '4 02/09/2020 Winzo Online Gaming Online Gaming New Delhi Kalaari Capital Partners, IndigoEdge Management Consultancy Series B 15,500,000',\n",
       " '5 09/09/2020 Hippo Video Video Customer Experience(CX) Platform Video Customer Experience(CX) Platform Newark, Delaware, United States of Amercia Alpha Wave Incubation, Exfinity Venture Partners and existing backers.\\nSeries A 4,500,000',\n",
       " '6 07/09/2020 Melorra E-commerce Online Jewelry Store\\nBangalore Shadow Holdings, Lightbox. Debt Financing upto 8,900,000',\n",
       " '7 07/09/2020 1mg E-commerce Online Pharmacy Gurgaon Gaja Capital, Tata Capital, Partners Group In Progress 100,000,000',\n",
       " '8 31/08/2020 mfine HealthTech On-Demand Healthcare Services Bangalore Caretech Pte Inc Series B 5,400,000',\n",
       " '9 31/08/2020 Apna Human Resources Recruitment Platform Bangalore Lightspeed India and Sequoia Capital India Series A 8,000,000',\n",
       " '10 03/09/2020 Railofy Transportation WL & RAC protection platform Mumbai Chiratae Ventures Seed 950,000']"
      ]
     },
     "execution_count": 1083,
     "metadata": {},
     "output_type": "execute_result"
    }
   ],
   "source": [
    "funding_deals_september=[]\n",
    "for i in september:\n",
    "    september_deal=i.text\n",
    "    funding_deals_september.append(september_deal)\n",
    "funding_deals_september[0:10]"
   ]
  },
  {
   "cell_type": "code",
   "execution_count": 1092,
   "metadata": {},
   "outputs": [],
   "source": [
    "# Now scraping all columns details separately from september month details of Q2, 2020\n",
    "column1_sept=driver.find_elements_by_xpath(\"//table[@id='tablepress-50']/tbody[1]/tr/td[1]\")"
   ]
  },
  {
   "cell_type": "code",
   "execution_count": 1094,
   "metadata": {},
   "outputs": [
    {
     "data": {
      "text/plain": [
       "['1', '2', '3', '4', '5', '6', '7', '8', '9', '10']"
      ]
     },
     "execution_count": 1094,
     "metadata": {},
     "output_type": "execute_result"
    }
   ],
   "source": [
    "#Serial No\n",
    "serial_no_sept=[]\n",
    "for i in column1_sept:\n",
    "    serial=i.text\n",
    "    serial_no_sept.append(serial)\n",
    "serial_no_sept[0:10]"
   ]
  },
  {
   "cell_type": "code",
   "execution_count": 1095,
   "metadata": {},
   "outputs": [],
   "source": [
    "column2_sept=driver.find_elements_by_xpath(\"//table[@id='tablepress-50']/tbody[1]/tr/td[2]\")"
   ]
  },
  {
   "cell_type": "code",
   "execution_count": 1096,
   "metadata": {},
   "outputs": [
    {
     "data": {
      "text/plain": [
       "['08/09/2020',\n",
       " '12/09/2020',\n",
       " '09/09/2020',\n",
       " '02/09/2020',\n",
       " '09/09/2020',\n",
       " '07/09/2020',\n",
       " '07/09/2020',\n",
       " '31/08/2020',\n",
       " '31/08/2020',\n",
       " '03/09/2020']"
      ]
     },
     "execution_count": 1096,
     "metadata": {},
     "output_type": "execute_result"
    }
   ],
   "source": [
    "#Date\n",
    "date_sept=[]\n",
    "for i in column2_sept:\n",
    "    date=i.text\n",
    "    date_sept.append(date)\n",
    "date_sept[0:10]"
   ]
  },
  {
   "cell_type": "code",
   "execution_count": 1097,
   "metadata": {},
   "outputs": [],
   "source": [
    "column3_sept=driver.find_elements_by_xpath(\"//table[@id='tablepress-50']/tbody[1]/tr/td[3]\")"
   ]
  },
  {
   "cell_type": "code",
   "execution_count": 1098,
   "metadata": {},
   "outputs": [
    {
     "data": {
      "text/plain": [
       "['Byju’s',\n",
       " 'mCaffeine',\n",
       " 'Qshala',\n",
       " 'Winzo',\n",
       " 'Hippo Video',\n",
       " 'Melorra',\n",
       " '1mg',\n",
       " 'mfine',\n",
       " 'Apna',\n",
       " 'Railofy']"
      ]
     },
     "execution_count": 1098,
     "metadata": {},
     "output_type": "execute_result"
    }
   ],
   "source": [
    "#Startup Name\n",
    "startupname_sept=[]\n",
    "for i in column3_sept:\n",
    "    name=i.text\n",
    "    startupname_sept.append(name)\n",
    "startupname_sept[0:10]"
   ]
  },
  {
   "cell_type": "code",
   "execution_count": 1099,
   "metadata": {},
   "outputs": [],
   "source": [
    "column4_sept=driver.find_elements_by_xpath(\"//table[@id='tablepress-50']/tbody[1]/tr/td[4]\")"
   ]
  },
  {
   "cell_type": "code",
   "execution_count": 1100,
   "metadata": {},
   "outputs": [
    {
     "data": {
      "text/plain": [
       "['EduTech',\n",
       " 'Personal Care',\n",
       " 'EduTech',\n",
       " 'Online Gaming',\n",
       " 'Video Customer Experience(CX) Platform',\n",
       " 'E-commerce',\n",
       " 'E-commerce',\n",
       " 'HealthTech',\n",
       " 'Human Resources',\n",
       " 'Transportation']"
      ]
     },
     "execution_count": 1100,
     "metadata": {},
     "output_type": "execute_result"
    }
   ],
   "source": [
    "#Vertical or Industry\n",
    "vertical_sept=[]\n",
    "for i in column4_sept:\n",
    "    verticals=i.text\n",
    "    vertical_sept.append(verticals)\n",
    "vertical_sept[0:10]"
   ]
  },
  {
   "cell_type": "code",
   "execution_count": 1101,
   "metadata": {},
   "outputs": [],
   "source": [
    "column5_sept=driver.find_elements_by_xpath(\"//table[@id='tablepress-50']/tbody[1]/tr/td[5]\")"
   ]
  },
  {
   "cell_type": "code",
   "execution_count": 1105,
   "metadata": {},
   "outputs": [
    {
     "data": {
      "text/plain": [
       "['Online Tutoring',\n",
       " 'Skincare & Haircare',\n",
       " 'Online Curiosity Platform for Kids',\n",
       " 'Online Gaming',\n",
       " 'Video Customer Experience(CX) Platform',\n",
       " 'Online Jewelry Store',\n",
       " 'Online Pharmacy',\n",
       " 'On-Demand Healthcare Services',\n",
       " 'Recruitment Platform',\n",
       " 'WL & RAC protection platform']"
      ]
     },
     "execution_count": 1105,
     "metadata": {},
     "output_type": "execute_result"
    }
   ],
   "source": [
    "#Sub Vertical\n",
    "sub_vert_sept=[]\n",
    "for i in column5_sept:\n",
    "    vert=i.text\n",
    "    sub_vert_sept.append(vert)\n",
    "sub_vert_sept[0:10]"
   ]
  },
  {
   "cell_type": "code",
   "execution_count": 1106,
   "metadata": {},
   "outputs": [],
   "source": [
    "column6_sept=driver.find_elements_by_xpath(\"//table[@id='tablepress-50']/tbody[1]/tr/td[6]\")"
   ]
  },
  {
   "cell_type": "code",
   "execution_count": 1107,
   "metadata": {},
   "outputs": [
    {
     "data": {
      "text/plain": [
       "['Bangalore',\n",
       " 'Mumbai',\n",
       " 'Bangalore',\n",
       " 'New Delhi',\n",
       " 'Newark, Delaware, United States of Amercia',\n",
       " 'Bangalore',\n",
       " 'Gurgaon',\n",
       " 'Bangalore',\n",
       " 'Bangalore',\n",
       " 'Mumbai']"
      ]
     },
     "execution_count": 1107,
     "metadata": {},
     "output_type": "execute_result"
    }
   ],
   "source": [
    "#City\n",
    "city_sept=[]\n",
    "for i in column6_sept:\n",
    "    loc=i.text\n",
    "    city_sept.append(loc)\n",
    "city_sept[0:10]"
   ]
  },
  {
   "cell_type": "code",
   "execution_count": 1108,
   "metadata": {},
   "outputs": [],
   "source": [
    "column7_sept=driver.find_elements_by_xpath(\"//table[@id='tablepress-50']/tbody[1]/tr/td[7]\")"
   ]
  },
  {
   "cell_type": "code",
   "execution_count": 1109,
   "metadata": {},
   "outputs": [
    {
     "data": {
      "text/plain": [
       "['Silver Lake, Tiger Global, General Atlantic and Owl Ventures',\n",
       " 'Amicus Capital Private Equity I LLP, Amicus Capital Partners India Fund I and RP-SG Venture Fund 1',\n",
       " 'Rainmatter Capital',\n",
       " 'Kalaari Capital Partners, IndigoEdge Management Consultancy',\n",
       " 'Alpha Wave Incubation, Exfinity Venture Partners and existing backers.',\n",
       " 'Shadow Holdings, Lightbox.',\n",
       " 'Gaja Capital, Tata Capital, Partners Group',\n",
       " 'Caretech Pte Inc',\n",
       " 'Lightspeed India and Sequoia Capital India',\n",
       " 'Chiratae Ventures']"
      ]
     },
     "execution_count": 1109,
     "metadata": {},
     "output_type": "execute_result"
    }
   ],
   "source": [
    "#Investor Name\n",
    "invname_sept=[]\n",
    "for i in column7_sept:\n",
    "    investor=i.text\n",
    "    invname_sept.append(investor)\n",
    "invname_sept[0:10]"
   ]
  },
  {
   "cell_type": "code",
   "execution_count": 1114,
   "metadata": {},
   "outputs": [],
   "source": [
    "column8_sept=driver.find_elements_by_xpath(\"//table[@id='tablepress-50']/tbody[1]/tr/td[8]\")"
   ]
  },
  {
   "cell_type": "code",
   "execution_count": 1115,
   "metadata": {},
   "outputs": [
    {
     "data": {
      "text/plain": [
       "['Private Equity',\n",
       " 'Series B',\n",
       " 'Angel',\n",
       " 'Series B',\n",
       " 'Series A',\n",
       " 'Debt Financing',\n",
       " 'In Progress',\n",
       " 'Series B',\n",
       " 'Series A',\n",
       " 'Seed']"
      ]
     },
     "execution_count": 1115,
     "metadata": {},
     "output_type": "execute_result"
    }
   ],
   "source": [
    "#Investment Type\n",
    "invtype_sept=[]\n",
    "for i in column8_sept:\n",
    "    type=i.text\n",
    "    invtype_sept.append(type)\n",
    "invtype_sept[0:10]"
   ]
  },
  {
   "cell_type": "code",
   "execution_count": 1116,
   "metadata": {},
   "outputs": [],
   "source": [
    "column9_sept=driver.find_elements_by_xpath(\"//table[@id='tablepress-50']/tbody[1]/tr/td[9]\")"
   ]
  },
  {
   "cell_type": "code",
   "execution_count": 1118,
   "metadata": {},
   "outputs": [
    {
     "data": {
      "text/plain": [
       "['500,000,000',\n",
       " '3,000,000',\n",
       " '370,000',\n",
       " '15,500,000',\n",
       " '4,500,000',\n",
       " 'upto 8,900,000',\n",
       " '100,000,000',\n",
       " '5,400,000',\n",
       " '8,000,000',\n",
       " '950,000']"
      ]
     },
     "execution_count": 1118,
     "metadata": {},
     "output_type": "execute_result"
    }
   ],
   "source": [
    "#Amount in USD\n",
    "amount_us_sept=[]\n",
    "for i in column9_sept:\n",
    "    amount=i.text\n",
    "    amount_us_sept.append(amount)\n",
    "amount_us_sept[0:10]"
   ]
  },
  {
   "cell_type": "code",
   "execution_count": 1119,
   "metadata": {},
   "outputs": [],
   "source": [
    "funding_details_sept=pd.DataFrame({})\n",
    "funding_details_sept['Sr No']=serial_no_sept[0:10]\n",
    "funding_details_sept['Date']=date_sept[0:10]\n",
    "funding_details_sept['Startup Name']=startupname_sept[0:10]\n",
    "funding_details_sept['Vertical']=vertical_sept[0:10]\n",
    "funding_details_sept['Sub Vertical']=sub_vert_sept[0:10]\n",
    "funding_details_sept['City']=city_sept[0:10]\n",
    "funding_details_sept['Investor']=invname_sept[0:10]\n",
    "funding_details_sept['Investor Type']=invtype_sept[0:10]\n",
    "funding_details_sept['Amount(USD)']=amount_us_sept[0:10]"
   ]
  },
  {
   "cell_type": "code",
   "execution_count": 1120,
   "metadata": {},
   "outputs": [
    {
     "data": {
      "text/html": [
       "<div>\n",
       "<style scoped>\n",
       "    .dataframe tbody tr th:only-of-type {\n",
       "        vertical-align: middle;\n",
       "    }\n",
       "\n",
       "    .dataframe tbody tr th {\n",
       "        vertical-align: top;\n",
       "    }\n",
       "\n",
       "    .dataframe thead th {\n",
       "        text-align: right;\n",
       "    }\n",
       "</style>\n",
       "<table border=\"1\" class=\"dataframe\">\n",
       "  <thead>\n",
       "    <tr style=\"text-align: right;\">\n",
       "      <th></th>\n",
       "      <th>Sr No</th>\n",
       "      <th>Date</th>\n",
       "      <th>Startup Name</th>\n",
       "      <th>Vertical</th>\n",
       "      <th>Sub Vertical</th>\n",
       "      <th>City</th>\n",
       "      <th>Investor</th>\n",
       "      <th>Investor Type</th>\n",
       "      <th>Amount(USD)</th>\n",
       "    </tr>\n",
       "  </thead>\n",
       "  <tbody>\n",
       "    <tr>\n",
       "      <th>0</th>\n",
       "      <td>1</td>\n",
       "      <td>08/09/2020</td>\n",
       "      <td>Byju’s</td>\n",
       "      <td>EduTech</td>\n",
       "      <td>Online Tutoring</td>\n",
       "      <td>Bangalore</td>\n",
       "      <td>Silver Lake, Tiger Global, General Atlantic an...</td>\n",
       "      <td>Private Equity</td>\n",
       "      <td>500,000,000</td>\n",
       "    </tr>\n",
       "    <tr>\n",
       "      <th>1</th>\n",
       "      <td>2</td>\n",
       "      <td>12/09/2020</td>\n",
       "      <td>mCaffeine</td>\n",
       "      <td>Personal Care</td>\n",
       "      <td>Skincare &amp; Haircare</td>\n",
       "      <td>Mumbai</td>\n",
       "      <td>Amicus Capital Private Equity I LLP, Amicus Ca...</td>\n",
       "      <td>Series B</td>\n",
       "      <td>3,000,000</td>\n",
       "    </tr>\n",
       "    <tr>\n",
       "      <th>2</th>\n",
       "      <td>3</td>\n",
       "      <td>09/09/2020</td>\n",
       "      <td>Qshala</td>\n",
       "      <td>EduTech</td>\n",
       "      <td>Online Curiosity Platform for Kids</td>\n",
       "      <td>Bangalore</td>\n",
       "      <td>Rainmatter Capital</td>\n",
       "      <td>Angel</td>\n",
       "      <td>370,000</td>\n",
       "    </tr>\n",
       "    <tr>\n",
       "      <th>3</th>\n",
       "      <td>4</td>\n",
       "      <td>02/09/2020</td>\n",
       "      <td>Winzo</td>\n",
       "      <td>Online Gaming</td>\n",
       "      <td>Online Gaming</td>\n",
       "      <td>New Delhi</td>\n",
       "      <td>Kalaari Capital Partners, IndigoEdge Managemen...</td>\n",
       "      <td>Series B</td>\n",
       "      <td>15,500,000</td>\n",
       "    </tr>\n",
       "    <tr>\n",
       "      <th>4</th>\n",
       "      <td>5</td>\n",
       "      <td>09/09/2020</td>\n",
       "      <td>Hippo Video</td>\n",
       "      <td>Video Customer Experience(CX) Platform</td>\n",
       "      <td>Video Customer Experience(CX) Platform</td>\n",
       "      <td>Newark, Delaware, United States of Amercia</td>\n",
       "      <td>Alpha Wave Incubation, Exfinity Venture Partne...</td>\n",
       "      <td>Series A</td>\n",
       "      <td>4,500,000</td>\n",
       "    </tr>\n",
       "    <tr>\n",
       "      <th>5</th>\n",
       "      <td>6</td>\n",
       "      <td>07/09/2020</td>\n",
       "      <td>Melorra</td>\n",
       "      <td>E-commerce</td>\n",
       "      <td>Online Jewelry Store</td>\n",
       "      <td>Bangalore</td>\n",
       "      <td>Shadow Holdings, Lightbox.</td>\n",
       "      <td>Debt Financing</td>\n",
       "      <td>upto 8,900,000</td>\n",
       "    </tr>\n",
       "    <tr>\n",
       "      <th>6</th>\n",
       "      <td>7</td>\n",
       "      <td>07/09/2020</td>\n",
       "      <td>1mg</td>\n",
       "      <td>E-commerce</td>\n",
       "      <td>Online Pharmacy</td>\n",
       "      <td>Gurgaon</td>\n",
       "      <td>Gaja Capital, Tata Capital, Partners Group</td>\n",
       "      <td>In Progress</td>\n",
       "      <td>100,000,000</td>\n",
       "    </tr>\n",
       "    <tr>\n",
       "      <th>7</th>\n",
       "      <td>8</td>\n",
       "      <td>31/08/2020</td>\n",
       "      <td>mfine</td>\n",
       "      <td>HealthTech</td>\n",
       "      <td>On-Demand Healthcare Services</td>\n",
       "      <td>Bangalore</td>\n",
       "      <td>Caretech Pte Inc</td>\n",
       "      <td>Series B</td>\n",
       "      <td>5,400,000</td>\n",
       "    </tr>\n",
       "    <tr>\n",
       "      <th>8</th>\n",
       "      <td>9</td>\n",
       "      <td>31/08/2020</td>\n",
       "      <td>Apna</td>\n",
       "      <td>Human Resources</td>\n",
       "      <td>Recruitment Platform</td>\n",
       "      <td>Bangalore</td>\n",
       "      <td>Lightspeed India and Sequoia Capital India</td>\n",
       "      <td>Series A</td>\n",
       "      <td>8,000,000</td>\n",
       "    </tr>\n",
       "    <tr>\n",
       "      <th>9</th>\n",
       "      <td>10</td>\n",
       "      <td>03/09/2020</td>\n",
       "      <td>Railofy</td>\n",
       "      <td>Transportation</td>\n",
       "      <td>WL &amp; RAC protection platform</td>\n",
       "      <td>Mumbai</td>\n",
       "      <td>Chiratae Ventures</td>\n",
       "      <td>Seed</td>\n",
       "      <td>950,000</td>\n",
       "    </tr>\n",
       "  </tbody>\n",
       "</table>\n",
       "</div>"
      ],
      "text/plain": [
       "  Sr No        Date Startup Name                                Vertical  \\\n",
       "0     1  08/09/2020       Byju’s                                 EduTech   \n",
       "1     2  12/09/2020    mCaffeine                           Personal Care   \n",
       "2     3  09/09/2020       Qshala                                 EduTech   \n",
       "3     4  02/09/2020        Winzo                           Online Gaming   \n",
       "4     5  09/09/2020  Hippo Video  Video Customer Experience(CX) Platform   \n",
       "5     6  07/09/2020      Melorra                              E-commerce   \n",
       "6     7  07/09/2020          1mg                              E-commerce   \n",
       "7     8  31/08/2020        mfine                              HealthTech   \n",
       "8     9  31/08/2020         Apna                         Human Resources   \n",
       "9    10  03/09/2020      Railofy                          Transportation   \n",
       "\n",
       "                             Sub Vertical  \\\n",
       "0                         Online Tutoring   \n",
       "1                     Skincare & Haircare   \n",
       "2      Online Curiosity Platform for Kids   \n",
       "3                           Online Gaming   \n",
       "4  Video Customer Experience(CX) Platform   \n",
       "5                    Online Jewelry Store   \n",
       "6                         Online Pharmacy   \n",
       "7           On-Demand Healthcare Services   \n",
       "8                    Recruitment Platform   \n",
       "9            WL & RAC protection platform   \n",
       "\n",
       "                                         City  \\\n",
       "0                                   Bangalore   \n",
       "1                                      Mumbai   \n",
       "2                                   Bangalore   \n",
       "3                                   New Delhi   \n",
       "4  Newark, Delaware, United States of Amercia   \n",
       "5                                   Bangalore   \n",
       "6                                     Gurgaon   \n",
       "7                                   Bangalore   \n",
       "8                                   Bangalore   \n",
       "9                                      Mumbai   \n",
       "\n",
       "                                            Investor   Investor Type  \\\n",
       "0  Silver Lake, Tiger Global, General Atlantic an...  Private Equity   \n",
       "1  Amicus Capital Private Equity I LLP, Amicus Ca...        Series B   \n",
       "2                                 Rainmatter Capital           Angel   \n",
       "3  Kalaari Capital Partners, IndigoEdge Managemen...        Series B   \n",
       "4  Alpha Wave Incubation, Exfinity Venture Partne...        Series A   \n",
       "5                         Shadow Holdings, Lightbox.  Debt Financing   \n",
       "6         Gaja Capital, Tata Capital, Partners Group     In Progress   \n",
       "7                                   Caretech Pte Inc        Series B   \n",
       "8         Lightspeed India and Sequoia Capital India        Series A   \n",
       "9                                  Chiratae Ventures            Seed   \n",
       "\n",
       "      Amount(USD)  \n",
       "0     500,000,000  \n",
       "1       3,000,000  \n",
       "2         370,000  \n",
       "3      15,500,000  \n",
       "4       4,500,000  \n",
       "5  upto 8,900,000  \n",
       "6     100,000,000  \n",
       "7       5,400,000  \n",
       "8       8,000,000  \n",
       "9         950,000  "
      ]
     },
     "execution_count": 1120,
     "metadata": {},
     "output_type": "execute_result"
    }
   ],
   "source": [
    "funding_details_sept"
   ]
  },
  {
   "cell_type": "code",
   "execution_count": 1170,
   "metadata": {},
   "outputs": [
    {
     "data": {
      "text/html": [
       "<div>\n",
       "<style scoped>\n",
       "    .dataframe tbody tr th:only-of-type {\n",
       "        vertical-align: middle;\n",
       "    }\n",
       "\n",
       "    .dataframe tbody tr th {\n",
       "        vertical-align: top;\n",
       "    }\n",
       "\n",
       "    .dataframe thead th {\n",
       "        text-align: right;\n",
       "    }\n",
       "</style>\n",
       "<table border=\"1\" class=\"dataframe\">\n",
       "  <thead>\n",
       "    <tr style=\"text-align: right;\">\n",
       "      <th></th>\n",
       "      <th>Sr No</th>\n",
       "      <th>Date</th>\n",
       "      <th>Startup Name</th>\n",
       "      <th>Vertical</th>\n",
       "      <th>Sub Vertical</th>\n",
       "      <th>City</th>\n",
       "      <th>Investor</th>\n",
       "      <th>Investor Type</th>\n",
       "      <th>Amount(USD)</th>\n",
       "    </tr>\n",
       "  </thead>\n",
       "  <tbody>\n",
       "    <tr>\n",
       "      <th>0</th>\n",
       "      <td>1</td>\n",
       "      <td>15/07/2020</td>\n",
       "      <td>Flipkart</td>\n",
       "      <td>E-commerce</td>\n",
       "      <td>E-commerce</td>\n",
       "      <td>Bangalore</td>\n",
       "      <td>Walmart Inc</td>\n",
       "      <td>M&amp;A</td>\n",
       "      <td>1,200,000,000</td>\n",
       "    </tr>\n",
       "    <tr>\n",
       "      <th>1</th>\n",
       "      <td>2</td>\n",
       "      <td>16/07/2020</td>\n",
       "      <td>Vedantu</td>\n",
       "      <td>EduTech</td>\n",
       "      <td>Online Tutoring</td>\n",
       "      <td>Bangalore</td>\n",
       "      <td>Coatue Management</td>\n",
       "      <td>Series D</td>\n",
       "      <td>100,000,000</td>\n",
       "    </tr>\n",
       "    <tr>\n",
       "      <th>2</th>\n",
       "      <td>3</td>\n",
       "      <td>16/07/2020</td>\n",
       "      <td>Crio</td>\n",
       "      <td>EduTech</td>\n",
       "      <td>Learning Platform for Developers</td>\n",
       "      <td>Bangalore</td>\n",
       "      <td>021 Capital</td>\n",
       "      <td>pre-Series A</td>\n",
       "      <td>934,160</td>\n",
       "    </tr>\n",
       "    <tr>\n",
       "      <th>3</th>\n",
       "      <td>4</td>\n",
       "      <td>14/07/2020</td>\n",
       "      <td>goDutch</td>\n",
       "      <td>FinTech</td>\n",
       "      <td>Group Payments</td>\n",
       "      <td>Mumbai</td>\n",
       "      <td>Matrix India,Y Combinator, Global Founders Cap...</td>\n",
       "      <td>Seed</td>\n",
       "      <td>1,700,000</td>\n",
       "    </tr>\n",
       "    <tr>\n",
       "      <th>4</th>\n",
       "      <td>5</td>\n",
       "      <td>13/07/2020</td>\n",
       "      <td>Mystifly</td>\n",
       "      <td>Airfare Marketplace</td>\n",
       "      <td>Ticketing, Airline Retailing, and Post-Ticketi...</td>\n",
       "      <td>Singapore and Bangalore</td>\n",
       "      <td>Recruit Co. Ltd.</td>\n",
       "      <td>pre-Series B</td>\n",
       "      <td>3,300,000</td>\n",
       "    </tr>\n",
       "    <tr>\n",
       "      <th>5</th>\n",
       "      <td>6</td>\n",
       "      <td>09/07/2020</td>\n",
       "      <td>JetSynthesys</td>\n",
       "      <td>Gaming and Entertainment</td>\n",
       "      <td>Gaming and Entertainment</td>\n",
       "      <td>Pune</td>\n",
       "      <td>Adar Poonawalla and Kris Gopalakrishnan.</td>\n",
       "      <td>Venture-Series Unknown</td>\n",
       "      <td>400,000</td>\n",
       "    </tr>\n",
       "    <tr>\n",
       "      <th>6</th>\n",
       "      <td>7</td>\n",
       "      <td>10/07/2020</td>\n",
       "      <td>gigIndia</td>\n",
       "      <td>Marketplace</td>\n",
       "      <td>Crowd Sourcing, Freelance</td>\n",
       "      <td>Pune</td>\n",
       "      <td>Incubate Fund India and Beyond Next Ventures</td>\n",
       "      <td>pre-Series A</td>\n",
       "      <td>974,200</td>\n",
       "    </tr>\n",
       "    <tr>\n",
       "      <th>7</th>\n",
       "      <td>8</td>\n",
       "      <td>15/07/2020</td>\n",
       "      <td>PumPumPum</td>\n",
       "      <td>Automotive Rental</td>\n",
       "      <td>Used Car-leasing platform</td>\n",
       "      <td>Gurgaon</td>\n",
       "      <td>Early Adapters Syndicate</td>\n",
       "      <td>Seed</td>\n",
       "      <td>292,800</td>\n",
       "    </tr>\n",
       "    <tr>\n",
       "      <th>8</th>\n",
       "      <td>9</td>\n",
       "      <td>14/07/2020</td>\n",
       "      <td>FLYX</td>\n",
       "      <td>OTT Player</td>\n",
       "      <td>Streaming Social Network</td>\n",
       "      <td>New York and Delhi</td>\n",
       "      <td>Raj Mishra, founder of AIT Global Inc</td>\n",
       "      <td>pre-Seed</td>\n",
       "      <td>200,000</td>\n",
       "    </tr>\n",
       "    <tr>\n",
       "      <th>9</th>\n",
       "      <td>10</td>\n",
       "      <td>13/07/2020</td>\n",
       "      <td>Open Appliances Pvt. Ltd.</td>\n",
       "      <td>Information Technology</td>\n",
       "      <td>Internet-of-Things Security Solutions</td>\n",
       "      <td>Bangalore</td>\n",
       "      <td>Unicorn India Ventures</td>\n",
       "      <td>Venture-Series Unknown</td>\n",
       "      <td>500,000</td>\n",
       "    </tr>\n",
       "    <tr>\n",
       "      <th>0</th>\n",
       "      <td>1</td>\n",
       "      <td>15/08/2020</td>\n",
       "      <td>Practo</td>\n",
       "      <td>HealthTech</td>\n",
       "      <td>Health care and Wellness</td>\n",
       "      <td>Bangalore</td>\n",
       "      <td>A1A Company</td>\n",
       "      <td>Series F</td>\n",
       "      <td>32,000,000</td>\n",
       "    </tr>\n",
       "    <tr>\n",
       "      <th>1</th>\n",
       "      <td>2</td>\n",
       "      <td>13/08/2020</td>\n",
       "      <td>Medlife</td>\n",
       "      <td>E-commerce</td>\n",
       "      <td>Online Pharmacy</td>\n",
       "      <td>Bangalore</td>\n",
       "      <td>Prasid Uno Family Trust and SC Credit Fund</td>\n",
       "      <td></td>\n",
       "      <td>23,000,000</td>\n",
       "    </tr>\n",
       "    <tr>\n",
       "      <th>2</th>\n",
       "      <td>3</td>\n",
       "      <td>13/08/2020</td>\n",
       "      <td>HungerBox</td>\n",
       "      <td>FoodTech</td>\n",
       "      <td>Online Food Delivery Service</td>\n",
       "      <td>Bangalore</td>\n",
       "      <td>One97, Sabre Partners Trust, Pratithi Investme...</td>\n",
       "      <td>Series D1</td>\n",
       "      <td>1,560,000</td>\n",
       "    </tr>\n",
       "    <tr>\n",
       "      <th>3</th>\n",
       "      <td>4</td>\n",
       "      <td>04/08/2020</td>\n",
       "      <td>Dunzo</td>\n",
       "      <td>Hyper-local Logistics</td>\n",
       "      <td>Online Delivery Services</td>\n",
       "      <td>Bangalore</td>\n",
       "      <td>Existing Backers</td>\n",
       "      <td>In Progress</td>\n",
       "      <td>30,000,000</td>\n",
       "    </tr>\n",
       "    <tr>\n",
       "      <th>4</th>\n",
       "      <td>5</td>\n",
       "      <td>11/08/2020</td>\n",
       "      <td>Terra.do</td>\n",
       "      <td>EduTech</td>\n",
       "      <td>Online Climate School, E-learning</td>\n",
       "      <td>Stanford, California,</td>\n",
       "      <td>Stanford Angels and Entrepreneurs (India), BEE...</td>\n",
       "      <td>Seed</td>\n",
       "      <td>1,400,000</td>\n",
       "    </tr>\n",
       "    <tr>\n",
       "      <th>5</th>\n",
       "      <td>6</td>\n",
       "      <td>12/08/2020</td>\n",
       "      <td>Classplus</td>\n",
       "      <td>EduTech</td>\n",
       "      <td>E-learning, Online Tutoring</td>\n",
       "      <td>Noida</td>\n",
       "      <td>Falcon Edge</td>\n",
       "      <td>In Progress</td>\n",
       "      <td>upto 15,000,000</td>\n",
       "    </tr>\n",
       "    <tr>\n",
       "      <th>6</th>\n",
       "      <td>7</td>\n",
       "      <td>14/08/2020</td>\n",
       "      <td>Niyo</td>\n",
       "      <td>FinTech</td>\n",
       "      <td>Financial Services</td>\n",
       "      <td>Bangalore</td>\n",
       "      <td>Niyo Solutions Inc.</td>\n",
       "      <td></td>\n",
       "      <td>6,000,000</td>\n",
       "    </tr>\n",
       "    <tr>\n",
       "      <th>7</th>\n",
       "      <td>8</td>\n",
       "      <td>10/08/2020</td>\n",
       "      <td>ZestMoney</td>\n",
       "      <td>FinTech</td>\n",
       "      <td>Financial Services</td>\n",
       "      <td>Bangalore</td>\n",
       "      <td>Primrose Hills Ventures</td>\n",
       "      <td></td>\n",
       "      <td>10,670,000</td>\n",
       "    </tr>\n",
       "    <tr>\n",
       "      <th>8</th>\n",
       "      <td>9</td>\n",
       "      <td>07/08/2020</td>\n",
       "      <td>FreshToHome</td>\n",
       "      <td>E-commerce</td>\n",
       "      <td>Food Delivery</td>\n",
       "      <td>Bangalore</td>\n",
       "      <td>Ascent Capital</td>\n",
       "      <td>Venture</td>\n",
       "      <td>16,200,000</td>\n",
       "    </tr>\n",
       "    <tr>\n",
       "      <th>9</th>\n",
       "      <td>10</td>\n",
       "      <td>13/08/2020</td>\n",
       "      <td>Eduvanz</td>\n",
       "      <td>FinTech</td>\n",
       "      <td>Financial Services</td>\n",
       "      <td>Mumbai</td>\n",
       "      <td>Sequoia India, Unitus</td>\n",
       "      <td>Series A</td>\n",
       "      <td>5,000,000</td>\n",
       "    </tr>\n",
       "    <tr>\n",
       "      <th>0</th>\n",
       "      <td>1</td>\n",
       "      <td>08/09/2020</td>\n",
       "      <td>Byju’s</td>\n",
       "      <td>EduTech</td>\n",
       "      <td>Online Tutoring</td>\n",
       "      <td>Bangalore</td>\n",
       "      <td>Silver Lake, Tiger Global, General Atlantic an...</td>\n",
       "      <td>Private Equity</td>\n",
       "      <td>500,000,000</td>\n",
       "    </tr>\n",
       "    <tr>\n",
       "      <th>1</th>\n",
       "      <td>2</td>\n",
       "      <td>12/09/2020</td>\n",
       "      <td>mCaffeine</td>\n",
       "      <td>Personal Care</td>\n",
       "      <td>Skincare &amp; Haircare</td>\n",
       "      <td>Mumbai</td>\n",
       "      <td>Amicus Capital Private Equity I LLP, Amicus Ca...</td>\n",
       "      <td>Series B</td>\n",
       "      <td>3,000,000</td>\n",
       "    </tr>\n",
       "    <tr>\n",
       "      <th>2</th>\n",
       "      <td>3</td>\n",
       "      <td>09/09/2020</td>\n",
       "      <td>Qshala</td>\n",
       "      <td>EduTech</td>\n",
       "      <td>Online Curiosity Platform for Kids</td>\n",
       "      <td>Bangalore</td>\n",
       "      <td>Rainmatter Capital</td>\n",
       "      <td>Angel</td>\n",
       "      <td>370,000</td>\n",
       "    </tr>\n",
       "    <tr>\n",
       "      <th>3</th>\n",
       "      <td>4</td>\n",
       "      <td>02/09/2020</td>\n",
       "      <td>Winzo</td>\n",
       "      <td>Online Gaming</td>\n",
       "      <td>Online Gaming</td>\n",
       "      <td>New Delhi</td>\n",
       "      <td>Kalaari Capital Partners, IndigoEdge Managemen...</td>\n",
       "      <td>Series B</td>\n",
       "      <td>15,500,000</td>\n",
       "    </tr>\n",
       "    <tr>\n",
       "      <th>4</th>\n",
       "      <td>5</td>\n",
       "      <td>09/09/2020</td>\n",
       "      <td>Hippo Video</td>\n",
       "      <td>Video Customer Experience(CX) Platform</td>\n",
       "      <td>Video Customer Experience(CX) Platform</td>\n",
       "      <td>Newark, Delaware, United States of Amercia</td>\n",
       "      <td>Alpha Wave Incubation, Exfinity Venture Partne...</td>\n",
       "      <td>Series A</td>\n",
       "      <td>4,500,000</td>\n",
       "    </tr>\n",
       "    <tr>\n",
       "      <th>5</th>\n",
       "      <td>6</td>\n",
       "      <td>07/09/2020</td>\n",
       "      <td>Melorra</td>\n",
       "      <td>E-commerce</td>\n",
       "      <td>Online Jewelry Store</td>\n",
       "      <td>Bangalore</td>\n",
       "      <td>Shadow Holdings, Lightbox.</td>\n",
       "      <td>Debt Financing</td>\n",
       "      <td>upto 8,900,000</td>\n",
       "    </tr>\n",
       "    <tr>\n",
       "      <th>6</th>\n",
       "      <td>7</td>\n",
       "      <td>07/09/2020</td>\n",
       "      <td>1mg</td>\n",
       "      <td>E-commerce</td>\n",
       "      <td>Online Pharmacy</td>\n",
       "      <td>Gurgaon</td>\n",
       "      <td>Gaja Capital, Tata Capital, Partners Group</td>\n",
       "      <td>In Progress</td>\n",
       "      <td>100,000,000</td>\n",
       "    </tr>\n",
       "    <tr>\n",
       "      <th>7</th>\n",
       "      <td>8</td>\n",
       "      <td>31/08/2020</td>\n",
       "      <td>mfine</td>\n",
       "      <td>HealthTech</td>\n",
       "      <td>On-Demand Healthcare Services</td>\n",
       "      <td>Bangalore</td>\n",
       "      <td>Caretech Pte Inc</td>\n",
       "      <td>Series B</td>\n",
       "      <td>5,400,000</td>\n",
       "    </tr>\n",
       "    <tr>\n",
       "      <th>8</th>\n",
       "      <td>9</td>\n",
       "      <td>31/08/2020</td>\n",
       "      <td>Apna</td>\n",
       "      <td>Human Resources</td>\n",
       "      <td>Recruitment Platform</td>\n",
       "      <td>Bangalore</td>\n",
       "      <td>Lightspeed India and Sequoia Capital India</td>\n",
       "      <td>Series A</td>\n",
       "      <td>8,000,000</td>\n",
       "    </tr>\n",
       "    <tr>\n",
       "      <th>9</th>\n",
       "      <td>10</td>\n",
       "      <td>03/09/2020</td>\n",
       "      <td>Railofy</td>\n",
       "      <td>Transportation</td>\n",
       "      <td>WL &amp; RAC protection platform</td>\n",
       "      <td>Mumbai</td>\n",
       "      <td>Chiratae Ventures</td>\n",
       "      <td>Seed</td>\n",
       "      <td>950,000</td>\n",
       "    </tr>\n",
       "  </tbody>\n",
       "</table>\n",
       "</div>"
      ],
      "text/plain": [
       "  Sr No        Date               Startup Name  \\\n",
       "0     1  15/07/2020                   Flipkart   \n",
       "1     2  16/07/2020                    Vedantu   \n",
       "2     3  16/07/2020                       Crio   \n",
       "3     4  14/07/2020                    goDutch   \n",
       "4     5  13/07/2020                   Mystifly   \n",
       "5     6  09/07/2020               JetSynthesys   \n",
       "6     7  10/07/2020                   gigIndia   \n",
       "7     8  15/07/2020                  PumPumPum   \n",
       "8     9  14/07/2020                       FLYX   \n",
       "9    10  13/07/2020  Open Appliances Pvt. Ltd.   \n",
       "0     1  15/08/2020                     Practo   \n",
       "1     2  13/08/2020                    Medlife   \n",
       "2     3  13/08/2020                  HungerBox   \n",
       "3     4  04/08/2020                      Dunzo   \n",
       "4     5  11/08/2020                   Terra.do   \n",
       "5     6  12/08/2020                  Classplus   \n",
       "6     7  14/08/2020                       Niyo   \n",
       "7     8  10/08/2020                  ZestMoney   \n",
       "8     9  07/08/2020                FreshToHome   \n",
       "9    10  13/08/2020                    Eduvanz   \n",
       "0     1  08/09/2020                     Byju’s   \n",
       "1     2  12/09/2020                  mCaffeine   \n",
       "2     3  09/09/2020                     Qshala   \n",
       "3     4  02/09/2020                      Winzo   \n",
       "4     5  09/09/2020                Hippo Video   \n",
       "5     6  07/09/2020                    Melorra   \n",
       "6     7  07/09/2020                        1mg   \n",
       "7     8  31/08/2020                      mfine   \n",
       "8     9  31/08/2020                       Apna   \n",
       "9    10  03/09/2020                    Railofy   \n",
       "\n",
       "                                 Vertical  \\\n",
       "0                              E-commerce   \n",
       "1                                 EduTech   \n",
       "2                                 EduTech   \n",
       "3                                 FinTech   \n",
       "4                     Airfare Marketplace   \n",
       "5                Gaming and Entertainment   \n",
       "6                             Marketplace   \n",
       "7                       Automotive Rental   \n",
       "8                              OTT Player   \n",
       "9                  Information Technology   \n",
       "0                              HealthTech   \n",
       "1                              E-commerce   \n",
       "2                                FoodTech   \n",
       "3                   Hyper-local Logistics   \n",
       "4                                 EduTech   \n",
       "5                                 EduTech   \n",
       "6                                 FinTech   \n",
       "7                                 FinTech   \n",
       "8                              E-commerce   \n",
       "9                                 FinTech   \n",
       "0                                 EduTech   \n",
       "1                           Personal Care   \n",
       "2                                 EduTech   \n",
       "3                           Online Gaming   \n",
       "4  Video Customer Experience(CX) Platform   \n",
       "5                              E-commerce   \n",
       "6                              E-commerce   \n",
       "7                              HealthTech   \n",
       "8                         Human Resources   \n",
       "9                          Transportation   \n",
       "\n",
       "                                        Sub Vertical  \\\n",
       "0                                         E-commerce   \n",
       "1                                    Online Tutoring   \n",
       "2                   Learning Platform for Developers   \n",
       "3                                     Group Payments   \n",
       "4  Ticketing, Airline Retailing, and Post-Ticketi...   \n",
       "5                           Gaming and Entertainment   \n",
       "6                          Crowd Sourcing, Freelance   \n",
       "7                          Used Car-leasing platform   \n",
       "8                           Streaming Social Network   \n",
       "9              Internet-of-Things Security Solutions   \n",
       "0                           Health care and Wellness   \n",
       "1                                    Online Pharmacy   \n",
       "2                       Online Food Delivery Service   \n",
       "3                           Online Delivery Services   \n",
       "4                  Online Climate School, E-learning   \n",
       "5                        E-learning, Online Tutoring   \n",
       "6                                 Financial Services   \n",
       "7                                 Financial Services   \n",
       "8                                      Food Delivery   \n",
       "9                                 Financial Services   \n",
       "0                                    Online Tutoring   \n",
       "1                                Skincare & Haircare   \n",
       "2                 Online Curiosity Platform for Kids   \n",
       "3                                      Online Gaming   \n",
       "4             Video Customer Experience(CX) Platform   \n",
       "5                               Online Jewelry Store   \n",
       "6                                    Online Pharmacy   \n",
       "7                      On-Demand Healthcare Services   \n",
       "8                               Recruitment Platform   \n",
       "9                       WL & RAC protection platform   \n",
       "\n",
       "                                         City  \\\n",
       "0                                   Bangalore   \n",
       "1                                   Bangalore   \n",
       "2                                   Bangalore   \n",
       "3                                      Mumbai   \n",
       "4                     Singapore and Bangalore   \n",
       "5                                        Pune   \n",
       "6                                        Pune   \n",
       "7                                     Gurgaon   \n",
       "8                          New York and Delhi   \n",
       "9                                   Bangalore   \n",
       "0                                   Bangalore   \n",
       "1                                   Bangalore   \n",
       "2                                   Bangalore   \n",
       "3                                   Bangalore   \n",
       "4                       Stanford, California,   \n",
       "5                                       Noida   \n",
       "6                                   Bangalore   \n",
       "7                                   Bangalore   \n",
       "8                                   Bangalore   \n",
       "9                                      Mumbai   \n",
       "0                                   Bangalore   \n",
       "1                                      Mumbai   \n",
       "2                                   Bangalore   \n",
       "3                                   New Delhi   \n",
       "4  Newark, Delaware, United States of Amercia   \n",
       "5                                   Bangalore   \n",
       "6                                     Gurgaon   \n",
       "7                                   Bangalore   \n",
       "8                                   Bangalore   \n",
       "9                                      Mumbai   \n",
       "\n",
       "                                            Investor           Investor Type  \\\n",
       "0                                        Walmart Inc                     M&A   \n",
       "1                                  Coatue Management                Series D   \n",
       "2                                        021 Capital            pre-Series A   \n",
       "3  Matrix India,Y Combinator, Global Founders Cap...                    Seed   \n",
       "4                                   Recruit Co. Ltd.            pre-Series B   \n",
       "5           Adar Poonawalla and Kris Gopalakrishnan.  Venture-Series Unknown   \n",
       "6       Incubate Fund India and Beyond Next Ventures            pre-Series A   \n",
       "7                           Early Adapters Syndicate                    Seed   \n",
       "8              Raj Mishra, founder of AIT Global Inc                pre-Seed   \n",
       "9                             Unicorn India Ventures  Venture-Series Unknown   \n",
       "0                                        A1A Company                Series F   \n",
       "1         Prasid Uno Family Trust and SC Credit Fund                           \n",
       "2  One97, Sabre Partners Trust, Pratithi Investme...               Series D1   \n",
       "3                                   Existing Backers             In Progress   \n",
       "4  Stanford Angels and Entrepreneurs (India), BEE...                    Seed   \n",
       "5                                        Falcon Edge             In Progress   \n",
       "6                                Niyo Solutions Inc.                           \n",
       "7                            Primrose Hills Ventures                           \n",
       "8                                     Ascent Capital                 Venture   \n",
       "9                              Sequoia India, Unitus                Series A   \n",
       "0  Silver Lake, Tiger Global, General Atlantic an...          Private Equity   \n",
       "1  Amicus Capital Private Equity I LLP, Amicus Ca...                Series B   \n",
       "2                                 Rainmatter Capital                   Angel   \n",
       "3  Kalaari Capital Partners, IndigoEdge Managemen...                Series B   \n",
       "4  Alpha Wave Incubation, Exfinity Venture Partne...                Series A   \n",
       "5                         Shadow Holdings, Lightbox.          Debt Financing   \n",
       "6         Gaja Capital, Tata Capital, Partners Group             In Progress   \n",
       "7                                   Caretech Pte Inc                Series B   \n",
       "8         Lightspeed India and Sequoia Capital India                Series A   \n",
       "9                                  Chiratae Ventures                    Seed   \n",
       "\n",
       "       Amount(USD)  \n",
       "0    1,200,000,000  \n",
       "1      100,000,000  \n",
       "2          934,160  \n",
       "3        1,700,000  \n",
       "4        3,300,000  \n",
       "5          400,000  \n",
       "6          974,200  \n",
       "7          292,800  \n",
       "8          200,000  \n",
       "9          500,000  \n",
       "0       32,000,000  \n",
       "1       23,000,000  \n",
       "2        1,560,000  \n",
       "3       30,000,000  \n",
       "4        1,400,000  \n",
       "5  upto 15,000,000  \n",
       "6        6,000,000  \n",
       "7       10,670,000  \n",
       "8       16,200,000  \n",
       "9        5,000,000  \n",
       "0      500,000,000  \n",
       "1        3,000,000  \n",
       "2          370,000  \n",
       "3       15,500,000  \n",
       "4        4,500,000  \n",
       "5   upto 8,900,000  \n",
       "6      100,000,000  \n",
       "7        5,400,000  \n",
       "8        8,000,000  \n",
       "9          950,000  "
      ]
     },
     "execution_count": 1170,
     "metadata": {},
     "output_type": "execute_result"
    }
   ],
   "source": [
    "# funding deals for second quarter (i.e. July 20 –September 20)\n",
    "funding_details_jul.append(funding_details_aug).append(funding_details_sept)"
   ]
  },
  {
   "cell_type": "raw",
   "metadata": {},
   "source": [
    "******************************************************************************************************************************"
   ]
  },
  {
   "cell_type": "raw",
   "metadata": {},
   "source": [
    "7. Write a program to scrap all the available details of top 10 gaming laptops from digit.in. "
   ]
  },
  {
   "cell_type": "raw",
   "metadata": {},
   "source": [
    "******************************************************************************************************************************"
   ]
  },
  {
   "cell_type": "code",
   "execution_count": 1335,
   "metadata": {},
   "outputs": [],
   "source": [
    "#let's connect to the webdriver\n",
    "driver = webdriver.Chrome(\"C:/Users/key/AppData/Roaming/Microsoft/Windows/Start Menu/Programs/chromedriver_win32/chromedriver.exe\")"
   ]
  },
  {
   "cell_type": "code",
   "execution_count": 1336,
   "metadata": {},
   "outputs": [],
   "source": [
    "driver.get(\"https://www.digit.in/\")"
   ]
  },
  {
   "cell_type": "code",
   "execution_count": 1337,
   "metadata": {},
   "outputs": [],
   "source": [
    "# clicking the TOP 10 button link in header list\n",
    "top_10=driver.find_element_by_xpath(\"//div[@class='menu']/ul/li[3]/a[1]\").get_attribute('href')\n",
    "driver.get(top_10)"
   ]
  },
  {
   "cell_type": "code",
   "execution_count": 1338,
   "metadata": {},
   "outputs": [],
   "source": [
    "# clicking the Best Gaming Laptops In India link in TOP PRODUCTS\n",
    "Best_Gaming_Laptops=driver.find_element_by_xpath(\"//div[@class='listing_container']/ul/li[26]/a[1]\").get_attribute('href')\n",
    "driver.get(Best_Gaming_Laptops)"
   ]
  },
  {
   "cell_type": "code",
   "execution_count": 1339,
   "metadata": {},
   "outputs": [
    {
     "data": {
      "text/plain": [
       "['1. MSI GT76 TITAN DT 9SG',\n",
       " '2. ALIENWARE 17 AREA-51M',\n",
       " '3. HP OMEN 15 2020',\n",
       " '4. ASUS ZEPHYRUS G14',\n",
       " '5. LENOVO LEGION Y540',\n",
       " '6. ASUS ROG ZEPHYRUS G GA502',\n",
       " '7. ASUS ROG ZEPHYRUS S GX531',\n",
       " '8. MSI GT83VR 7RE TITAN SLI',\n",
       " '9. ASUS ROG ZEPHYRUS DUO 15',\n",
       " '10. DELL G3']"
      ]
     },
     "execution_count": 1339,
     "metadata": {},
     "output_type": "execute_result"
    }
   ],
   "source": [
    "#scraping top 10 laptop names\n",
    "laptop_name=[]\n",
    "laptop_names=driver.find_elements_by_xpath(\"//div[@class='TopNumbeHeading active sticky-footer']\")\n",
    "for i in laptop_names:      \n",
    "        laptop_name.append(i.text.replace('\\n',' '))\n",
    "laptop_name[0:10]"
   ]
  },
  {
   "cell_type": "code",
   "execution_count": 1340,
   "metadata": {},
   "outputs": [
    {
     "data": {
      "text/plain": [
       "'2. ALIENWARE 17 AREA-51M'"
      ]
     },
     "execution_count": 1340,
     "metadata": {},
     "output_type": "execute_result"
    }
   ],
   "source": [
    "laptop_names2=driver.find_elements_by_xpath(\"//div[@class='TopNumbeHeading sticky-footer active']\")\n",
    "for i in laptop_names2:\n",
    "    laptop_name2=i.text.replace('\\n',' ')\n",
    "laptop_name2"
   ]
  },
  {
   "cell_type": "code",
   "execution_count": 1341,
   "metadata": {},
   "outputs": [],
   "source": [
    "laptop_name[1]=laptop_name2"
   ]
  },
  {
   "cell_type": "code",
   "execution_count": 1342,
   "metadata": {},
   "outputs": [
    {
     "data": {
      "text/plain": [
       "['1. MSI GT76 TITAN DT 9SG',\n",
       " '2. ALIENWARE 17 AREA-51M',\n",
       " '3. HP OMEN 15 2020',\n",
       " '4. ASUS ZEPHYRUS G14',\n",
       " '5. LENOVO LEGION Y540',\n",
       " '6. ASUS ROG ZEPHYRUS G GA502',\n",
       " '7. ASUS ROG ZEPHYRUS S GX531',\n",
       " '8. MSI GT83VR 7RE TITAN SLI',\n",
       " '9. ASUS ROG ZEPHYRUS DUO 15',\n",
       " '10. DELL G3']"
      ]
     },
     "execution_count": 1342,
     "metadata": {},
     "output_type": "execute_result"
    }
   ],
   "source": [
    "laptop_name"
   ]
  },
  {
   "cell_type": "code",
   "execution_count": 1344,
   "metadata": {},
   "outputs": [],
   "source": [
    "from selenium.common.exceptions import StaleElementReferenceException, NoSuchElementException"
   ]
  },
  {
   "cell_type": "code",
   "execution_count": 1345,
   "metadata": {},
   "outputs": [],
   "source": [
    "model_name=[]\n",
    "OS=[]\n",
    "resolution=[]\n",
    "display_size=[]\n",
    "display_technology=[]\n",
    "refresh_rate=[]\n",
    "RAM=[]\n",
    "RAM_type=[]\n",
    "RAM_size=[]\n",
    "weight=[]\n",
    "dimension=[]\n",
    "processor_model=[]\n",
    "graphics_processor=[]\n",
    "storage_cap=[]\n",
    "HD_speed=[]"
   ]
  },
  {
   "cell_type": "code",
   "execution_count": 1346,
   "metadata": {},
   "outputs": [],
   "source": [
    "#locating full specs of laptops\n",
    "urls=driver.find_elements_by_xpath(\"//div[@class='TopNumbeHeading active sticky-footer']/a[1]\") #collecting urls of all the laptop\n",
    "UR=[]\n",
    "for i in urls[:10]:\n",
    "    UR.append(i.get_attribute('href'))#getting the url of first 10 laptops\n",
    "for url in UR:#loop for every laptop in the list    \n",
    "\n",
    "    driver.get(url)\n",
    "    try: \n",
    "        model=driver.find_element_by_xpath(\"//div[@id='specs-basic-information']/div[2]/table[1]/tbody[1]/tr[1]\")#locating the model\n",
    "        model_name.append(model.text)#appending the model in list\n",
    "    except NoSuchElementException as e:\n",
    "        model_name.append(\"--\")\n",
    "    try:     \n",
    "        operating=driver.find_element_by_xpath(\"//div[@id='specs-basic-information']/div[2]/table[1]/tbody[1]/tr[3]\")#locating the OS\n",
    "        OS.append(operating.text)#appending the OS in list\n",
    "    except NoSuchElementException as e:\n",
    "        OS.append(\"--\")\n",
    "        \n",
    "    disp_button=driver.find_element_by_xpath(\"//img[@title='Display']\")#locating the display link\n",
    "    disp_button.click()\n",
    "        \n",
    "    try:\n",
    "        reso=driver.find_element_by_xpath(\"//div[@id='specs-display']/div[2]/table[1]/tbody[1]/tr[1]\")#locating the resolution\n",
    "        resolution.append(reso.text)#appending the resolution in list\n",
    "    except NoSuchElementException as e:\n",
    "        resolution.append(\"--\")\n",
    "        \n",
    "    try:\n",
    "        disp_size=driver.find_element_by_xpath(\"//div[@id='specs-display']/div[2]/table[1]/tbody[1]/tr[2]\")#locating the display size info\n",
    "        display_size.append(disp_size.text)#appending the display size in list\n",
    "    except NoSuchElementException as e:\n",
    "        display_size.append(\"--\")\n",
    "        \n",
    "    try:\n",
    "        disp_tech=driver.find_element_by_xpath(\"//div[@id='specs-display']/div[2]/table[1]/tbody[1]/tr[3]\")#locating the display technology\n",
    "        display_technology.append(disp_tech.text)#appending the display technology in list\n",
    "    except NoSuchElementException as e:\n",
    "        display_technology.append(\"--\")\n",
    "        \n",
    "    try:\n",
    "        refresh_rat=driver.find_element_by_xpath(\"//div[@id='specs-display']/div[2]/table[1]/tbody[1]/tr[4]\")#locating the refresh rate\n",
    "        refresh_rate.append(refresh_rat.text)#appending the refresh rate in list\n",
    "    except NoSuchElementException as e:\n",
    "        refresh_rate.append(\"--\")\n",
    "        \n",
    "    mem_button=driver.find_element_by_xpath(\"//img[@title='Memory']\")#locating the memory link\n",
    "    mem_button.click()\n",
    "        \n",
    "    try:\n",
    "        ram=driver.find_element_by_xpath(\"//div[@id='specs-memory']/div[2]/table[1]/tbody[1]/tr[1]\")#locating the RAM info\n",
    "        RAM.append(ram.text)#appending the RAM in list\n",
    "    except NoSuchElementException as e:\n",
    "        RAM.append(\"--\")\n",
    "        \n",
    "    try:\n",
    "        ram_type=driver.find_element_by_xpath(\"//div[@id='specs-memory']/div[2]/table[1]/tbody[1]/tr[2]\")#locating the RAM type info\n",
    "        RAM_type.append(ram_type.text)#appending the RAM type in list\n",
    "    except NoSuchElementException as e:\n",
    "        RAM_type.append(\"--\")\n",
    "        \n",
    "    try:\n",
    "        ram_size=driver.find_element_by_xpath(\"//div[@id='specs-memory']/div[2]/table[1]/tbody[1]/tr[5]\")#locating the RAM size info\n",
    "        RAM_size.append(ram_size.text)#appending the RAM size in list\n",
    "    except NoSuchElementException as e:\n",
    "        RAM_size.append(\"--\") \n",
    "        \n",
    "    phys_button=driver.find_element_by_xpath(\"//img[@title='Physical specifications']\")#locating the phys spec link\n",
    "    phys_button.click()\n",
    "        \n",
    "    try:\n",
    "        WT=driver.find_element_by_xpath(\"//div[@id='specs-physical-specifications']/div[2]/table[1]/tbody[1]/tr[1]\")#locating the weight info\n",
    "        weight.append(WT.text)#appending the weight in list\n",
    "    except NoSuchElementException as e:\n",
    "        weight.append(\"--\")\n",
    "        \n",
    "    try:\n",
    "        dim=driver.find_element_by_xpath(\"//div[@id='specs-physical-specifications']/div[2]/table[1]/tbody[1]/tr[2]\")#locating the dimension info\n",
    "        dimension.append(dim.text)#appending the dimension in list\n",
    "    except NoSuchElementException as e:\n",
    "        dimension.append(\"--\")\n",
    "        \n",
    "    proc_button=driver.find_element_by_xpath(\"//img[@title='Processor']\")#locating the processor link\n",
    "    proc_button.click()\n",
    "        \n",
    "    try:\n",
    "        proc_model=driver.find_element_by_xpath(\"//div[@id='specs-processor']/div[2]/table[1]/tbody[1]/tr[1]\")#locating the processor model info\n",
    "        processor_model.append(proc_model.text)#appending the processor model in list\n",
    "    except NoSuchElementException as e:\n",
    "        processor_model.append(\"--\")\n",
    "        \n",
    "    try:\n",
    "        proc_graphics=driver.find_element_by_xpath(\"//div[@id='specs-processor']/div[2]/table[1]/tbody[1]/tr[4]\")#locating the processor graphics info\n",
    "        graphics_processor.append( proc_graphics.text)#appending the processor graphics in list\n",
    "    except NoSuchElementException as e:\n",
    "        graphics_processor.append(\"--\")\n",
    "        \n",
    "    stor_button=driver.find_element_by_xpath(\"//img[@title='Storage']\")#locating the storage link\n",
    "    stor_button.click()\n",
    "        \n",
    "    try:\n",
    "        stor_cap=driver.find_element_by_xpath(\"//div[@id='specs-storage']/div[2]/table[1]/tbody[1]/tr[2]\")#locating the storage cap info\n",
    "        storage_cap.append(stor_cap.text)#appending the storage capacity in list\n",
    "    except NoSuchElementException as e:\n",
    "        storage_cap.append(\"--\")\n",
    "        \n",
    "    try:\n",
    "        HD_sp=driver.find_element_by_xpath(\"//div[@id='specs-storage']/div[2]/table[1]/tbody[1]/tr[3]\")#locating the HD speed info\n",
    "        HD_speed.append(HD_sp.text)#appending the HD speed in list\n",
    "    except NoSuchElementException as e:\n",
    "        HD_speed.append(\"--\")    "
   ]
  },
  {
   "cell_type": "code",
   "execution_count": 1353,
   "metadata": {},
   "outputs": [
    {
     "name": "stdout",
     "output_type": "stream",
     "text": [
      "10\n",
      "10\n",
      "10\n",
      "10\n",
      "10\n",
      "10\n",
      "10\n",
      "10\n",
      "10\n",
      "10\n",
      "10\n",
      "10\n",
      "10\n",
      "10\n",
      "10\n"
     ]
    }
   ],
   "source": [
    "#checking the length of each list\n",
    "print(len(laptop_name))\n",
    "print(len(model_name))\n",
    "print(len(OS))\n",
    "print(len(resolution))\n",
    "print(len(display_size))\n",
    "print(len(display_technology))\n",
    "print(len(RAM))\n",
    "print(len(RAM_type))\n",
    "print(len(RAM_size))\n",
    "print(len(weight))\n",
    "print(len(dimension))\n",
    "print(len(processor_model))\n",
    "print(len(graphics_processor))\n",
    "print(len(storage_cap))\n",
    "print(len(HD_speed))"
   ]
  },
  {
   "cell_type": "code",
   "execution_count": 1354,
   "metadata": {},
   "outputs": [
    {
     "name": "stdout",
     "output_type": "stream",
     "text": [
      "                    laptop_name                              model_name  \\\n",
      "0      1. MSI GT76 TITAN DT 9SG          Model Name : GT76 Titan DT 9SG   \n",
      "1      2. ALIENWARE 17 AREA-51M         Model Name : Alienware Area-51m   \n",
      "2            3. HP OMEN 15 2020            Model Name : HP OMEN 15 2020   \n",
      "3          4. ASUS ZEPHYRUS G14           Model Name : rog zephyrus G14   \n",
      "4         5. LENOVO LEGION Y540         Model Name : LENOVO LEGION Y540   \n",
      "5  6. ASUS ROG ZEPHYRUS G GA502                       Model Name : Asus   \n",
      "6  7. ASUS ROG ZEPHYRUS S GX531  Model Name : Asus ROG Zephyrus S GX531   \n",
      "7   8. MSI GT83VR 7RE TITAN SLI   Model Name : MSI GT83VR 7RE Titan SLI   \n",
      "8   9. ASUS ROG ZEPHYRUS DUO 15        Model Name : ROG Zephyrus Duo 15   \n",
      "9                   10. DELL G3                 Model Name : Dell G3 15   \n",
      "\n",
      "                                                  OS  \\\n",
      "0   Operating System (With Version) : Windows 10 Pro   \n",
      "1   Operating System (With Version) : Windows 10 Pro   \n",
      "2  Operating System (With Version) : Windows 10 Home   \n",
      "3                               Laptop Type : Gaming   \n",
      "4  Operating System (With Version) : Windows 10 Home   \n",
      "5  Operating System (With Version) : Windows 10 Home   \n",
      "6  Operating System (With Version) : Windows 10 Home   \n",
      "7                               Laptop Type : Gaming   \n",
      "8                                                 --   \n",
      "9  Operating System (With Version) : Windows 10 H...   \n",
      "\n",
      "                        resolution                         display_size  \\\n",
      "0       Resolution : UHD 3840x2160      Display Size (In Inches) : 17.3   \n",
      "1   Resolution : FHD (1920 x 1080)      Display Size (In Inches) : 17.3   \n",
      "2         Resolution : 1920 x 1080      Display Size (In Inches) : 15.6   \n",
      "3         Resolution : 1920 x 1080        Display Size (In Inches) : 14   \n",
      "4         Resolution : 1920 X 1080      Display Size (In Inches) : 15.6   \n",
      "5         Resolution : 1920 x 1080      Display Size (In Inches) : 15.6   \n",
      "6         Resolution : 1920 X 1080      Display Size (In Inches) : 15.6   \n",
      "7         Resolution : 1920 x 1080      Display Size (In Inches) : 18.4   \n",
      "8         Resolution : 3840 x 1100      Display Size (In Inches) : 15.6   \n",
      "9  Display Size (In Inches) : 15.6  Display Technology : FHD Anti glare   \n",
      "\n",
      "                         display_technology                           RAM  \\\n",
      "0            Display Technology : IPS-Level  Ram Included (In Gb) : 64 GB   \n",
      "1                  Display Technology : IPS     Ram Included (In Gb) : 32   \n",
      "2                      Refresh Rate : 144Hz  Ram Included (In Gb) : 16 GB   \n",
      "3                                        --  Ram Included (In Gb) : 16 GB   \n",
      "4                  Display Technology : FHD      Ram Included (In Gb) : 8   \n",
      "5                  Display Technology : FHD     Ram Included (In Gb) : 16   \n",
      "6                  Display Technology : IPS  Ram Included (In Gb) : 16 GB   \n",
      "7  Display Technology : Full HD IPS display     Ram Included (In Gb) : 64   \n",
      "8                      Refresh Rate : 60 Hz   Ram Included (In Gb) : 4 GB   \n",
      "9                         Refresh Rate : 60     Ram Included (In Gb) : 16   \n",
      "\n",
      "          RAM_type                RAM_size                            weight  \\\n",
      "0  Ram Type : DDR4  Max Supported Ram : 64   Laptop Weight (In Kgs) : 4.2 kg   \n",
      "1  Ram Type : DDR4  Max Supported Ram : 32  Laptop Weight (In Kgs) : 3.87 Kg   \n",
      "2  Ram Type : DDR4                      --     Laptop Weight (In Kgs) : 5.40   \n",
      "3  Ram Type : DDR4                      --     Laptop Weight (In Kgs) : 1.65   \n",
      "4  Ram Type : DDR4                      --      Laptop Weight (In Kgs) : 2.3   \n",
      "5  Ram Type : DDR4                      --      Laptop Weight (In Kgs) : 2.2   \n",
      "6  Ram Type : DDR4                      --      Laptop Weight (In Kgs) : 2.1   \n",
      "7  Ram Type : DDR4                      --      Laptop Weight (In Kgs) : 5.5   \n",
      "8  Ram Type : DDR4                      --      Laptop Weight (In Kgs) : 2.4   \n",
      "9  Ram Type : DDR4  Max Supported Ram : 32     Laptop Weight (In Kgs) : 2.53   \n",
      "\n",
      "                                           dimension  \\\n",
      "0    Laptop Dimension (In Mm) : 397 x 330 x 33~42 mm   \n",
      "1  Laptop Dimension (In Mm) : 42 mm x 402.6 mm x ...   \n",
      "2     Laptop Dimension (In Mm) : 14.09 x 9.44 x 0.89   \n",
      "3       Laptop Dimension (In Mm) : 32.5 x 22.1 x 1.8   \n",
      "4  Laptop Dimension (In Mm) : 365mm x 260mm x 25.9mm   \n",
      "5        Laptop Dimension (In Mm) : 360 x 252 x 20.4   \n",
      "6  Laptop Dimension (In Mm) : 360 (W) x 268 (D) x...   \n",
      "7          Laptop Dimension (In Mm) : 458 x 339 x 69   \n",
      "8  Laptop Dimension (In Mm) : 268.30 x 360.00 x 2...   \n",
      "9        Laptop Dimension (In Mm) : 22.7 X 380 X 258   \n",
      "\n",
      "                                     processor_model  \\\n",
      "0  Processor Model Name : Intel 9th Gen Core i9-9...   \n",
      "1  Processor Model Name : Intel 9th Gen Core i9-9...   \n",
      "2    Processor Model Name : Intel i7-10750H 10th Gen   \n",
      "3  Processor Model Name : AMD 3rd Generation Ryzen 9   \n",
      "4  Processor Model Name : 9th Generation Core Int...   \n",
      "5  Processor Model Name : AMD Ryzen 7 Quad Core 3...   \n",
      "6  Processor Model Name : 9th Gen Intel Core i7-8...   \n",
      "7  Processor Model Name : Intel CM238 Core i7-782...   \n",
      "8  Processor Model Name : Intel Core i7 10th Gen ...   \n",
      "9  Processor Model Name : 8th Generation Intel® C...   \n",
      "\n",
      "                                graphics_processor  \\\n",
      "0     Graphics Processor : NVIDIA GeForce RTX 2080   \n",
      "1     Graphics Processor : NVIDIA GeForce RTX 2080   \n",
      "2   Graphics Processor : Nvidia GeForce GTX 1650Ti   \n",
      "3     Graphics Processor : NVIDIA GeForce RTX 2060   \n",
      "4                                               --   \n",
      "5  Graphics Processor : NVIDIA Geforce GTX 1660 Ti   \n",
      "6                            Gpu Memory Amount : 2   \n",
      "7                            Gpu Memory Amount : 2   \n",
      "8                                               --   \n",
      "9                            Gpu Memory Amount : 2   \n",
      "\n",
      "                           storage_cap                              HD_speed  \n",
      "0        Storage Drive Capacity : 1 TB  Hard Drive Speed (In Rpm) : 5400 RPM  \n",
      "1        Storage Drive Capacity : 1 TB        Hard Drive Speed (In Rpm) : NA  \n",
      "2      Storage Drive Capacity : 512 GB                                    --  \n",
      "3        Storage Drive Capacity : 1 TB                                    --  \n",
      "4        Storage Drive Capacity : 1 TB                                    --  \n",
      "5      Storage Drive Capacity : 512 GB                    Optical Drive : NA  \n",
      "6       Storage Drive Capacity : 512GB                                    --  \n",
      "7      Storage Drive Capacity : 1.5 TB      Hard Drive Speed (In Rpm) : 7200  \n",
      "8      Storage Drive Capacity : 512 GB                                    --  \n",
      "9  Storage Drive Capacity : 256 + 1 TB      Hard Drive Speed (In Rpm) : 5400  \n"
     ]
    }
   ],
   "source": [
    "#creating a dataframe\n",
    "df=pd.DataFrame({'laptop_name':laptop_name,\n",
    "                'model_name':model_name,\n",
    "                'OS':OS,\n",
    "                'resolution':resolution,\n",
    "                'display_size':display_size,\n",
    "                'display_technology':display_technology,\n",
    "                'RAM':RAM,\n",
    "                'RAM_type':RAM_type,\n",
    "                'RAM_size':RAM_size,\n",
    "                'weight':weight,\n",
    "                'dimension':dimension,\n",
    "                'processor_model':processor_model,\n",
    "                'graphics_processor':graphics_processor,\n",
    "                'storage_cap':storage_cap,\n",
    "                'HD_speed':HD_speed})\n",
    "#printing dataframe\n",
    "print(df)"
   ]
  },
  {
   "cell_type": "code",
   "execution_count": 1355,
   "metadata": {},
   "outputs": [],
   "source": [
    "driver.close()"
   ]
  }
 ],
 "metadata": {
  "kernelspec": {
   "display_name": "Python 3",
   "language": "python",
   "name": "python3"
  },
  "language_info": {
   "codemirror_mode": {
    "name": "ipython",
    "version": 3
   },
   "file_extension": ".py",
   "mimetype": "text/x-python",
   "name": "python",
   "nbconvert_exporter": "python",
   "pygments_lexer": "ipython3",
   "version": "3.8.3"
  }
 },
 "nbformat": 4,
 "nbformat_minor": 4
}
